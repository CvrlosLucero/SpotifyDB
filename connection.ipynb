{
 "cells": [
  {
   "cell_type": "code",
   "execution_count": 3,
   "metadata": {},
   "outputs": [
    {
     "ename": "ImportError",
     "evalue": "DLL load failed while importing _psycopg: No se puede encontrar el módulo especificado.",
     "output_type": "error",
     "traceback": [
      "\u001b[1;31m---------------------------------------------------------------------------\u001b[0m",
      "\u001b[1;31mImportError\u001b[0m                               Traceback (most recent call last)",
      "Cell \u001b[1;32mIn[3], line 2\u001b[0m\n\u001b[0;32m      1\u001b[0m \u001b[38;5;28;01mimport\u001b[39;00m \u001b[38;5;21;01mdash\u001b[39;00m\n\u001b[1;32m----> 2\u001b[0m \u001b[38;5;28;01mimport\u001b[39;00m \u001b[38;5;21;01mpsycopg2\u001b[39;00m\n\u001b[0;32m      3\u001b[0m \u001b[38;5;28;01mtry\u001b[39;00m:\n\u001b[0;32m      4\u001b[0m     connection \u001b[38;5;241m=\u001b[39m psycopg2\u001b[38;5;241m.\u001b[39mconnect(\n\u001b[0;32m      5\u001b[0m         host\u001b[38;5;241m=\u001b[39m\u001b[38;5;124m'\u001b[39m\u001b[38;5;124mlocalhost\u001b[39m\u001b[38;5;124m'\u001b[39m,\n\u001b[0;32m      6\u001b[0m         user\u001b[38;5;241m=\u001b[39m\u001b[38;5;124m'\u001b[39m\u001b[38;5;124mpostgres\u001b[39m\u001b[38;5;124m'\u001b[39m, \u001b[38;5;66;03m# Usuario de la base de datos (Cambiar si es necesario)\u001b[39;00m\n\u001b[0;32m      7\u001b[0m         password\u001b[38;5;241m=\u001b[39m\u001b[38;5;124m'\u001b[39m\u001b[38;5;124m2I@@`7ao*3}*\u001b[39m\u001b[38;5;124m'\u001b[39m, \u001b[38;5;66;03m# Contraseña de la base de datos (Cambiar si es necesario)\u001b[39;00m\n\u001b[0;32m      8\u001b[0m         database\u001b[38;5;241m=\u001b[39m\u001b[38;5;124m'\u001b[39m\u001b[38;5;124mproyecto\u001b[39m\u001b[38;5;124m'\u001b[39m\n\u001b[0;32m      9\u001b[0m     )\n",
      "File \u001b[1;32mc:\\Program Files\\Python313\\Lib\\site-packages\\psycopg2\\__init__.py:51\u001b[0m\n\u001b[0;32m      1\u001b[0m \u001b[38;5;124;03m\"\"\"A Python driver for PostgreSQL\u001b[39;00m\n\u001b[0;32m      2\u001b[0m \n\u001b[0;32m      3\u001b[0m \u001b[38;5;124;03mpsycopg is a PostgreSQL_ database adapter for the Python_ programming\u001b[39;00m\n\u001b[1;32m   (...)\u001b[0m\n\u001b[0;32m     17\u001b[0m \u001b[38;5;124;03m    TimeFromTicks, Timestamp, TimestampFromTicks\u001b[39;00m\n\u001b[0;32m     18\u001b[0m \u001b[38;5;124;03m\"\"\"\u001b[39;00m\n\u001b[0;32m     19\u001b[0m \u001b[38;5;66;03m# psycopg/__init__.py - initialization of the psycopg module\u001b[39;00m\n\u001b[0;32m     20\u001b[0m \u001b[38;5;66;03m#\u001b[39;00m\n\u001b[0;32m     21\u001b[0m \u001b[38;5;66;03m# Copyright (C) 2003-2019 Federico Di Gregorio  <fog@debian.org>\u001b[39;00m\n\u001b[1;32m   (...)\u001b[0m\n\u001b[0;32m     48\u001b[0m \n\u001b[0;32m     49\u001b[0m \u001b[38;5;66;03m# Import the DBAPI-2.0 stuff into top-level module.\u001b[39;00m\n\u001b[1;32m---> 51\u001b[0m \u001b[38;5;28;01mfrom\u001b[39;00m \u001b[38;5;21;01mpsycopg2\u001b[39;00m\u001b[38;5;21;01m.\u001b[39;00m\u001b[38;5;21;01m_psycopg\u001b[39;00m \u001b[38;5;28;01mimport\u001b[39;00m (                     \u001b[38;5;66;03m# noqa\u001b[39;00m\n\u001b[0;32m     52\u001b[0m     BINARY, NUMBER, STRING, DATETIME, ROWID,\n\u001b[0;32m     53\u001b[0m \n\u001b[0;32m     54\u001b[0m     Binary, Date, Time, Timestamp,\n\u001b[0;32m     55\u001b[0m     DateFromTicks, TimeFromTicks, TimestampFromTicks,\n\u001b[0;32m     56\u001b[0m \n\u001b[0;32m     57\u001b[0m     Error, \u001b[38;5;167;01mWarning\u001b[39;00m, DataError, DatabaseError, ProgrammingError, IntegrityError,\n\u001b[0;32m     58\u001b[0m     InterfaceError, InternalError, NotSupportedError, OperationalError,\n\u001b[0;32m     59\u001b[0m \n\u001b[0;32m     60\u001b[0m     _connect, apilevel, threadsafety, paramstyle,\n\u001b[0;32m     61\u001b[0m     __version__, __libpq_version__,\n\u001b[0;32m     62\u001b[0m )\n\u001b[0;32m     65\u001b[0m \u001b[38;5;66;03m# Register default adapters.\u001b[39;00m\n\u001b[0;32m     67\u001b[0m \u001b[38;5;28;01mfrom\u001b[39;00m \u001b[38;5;21;01mpsycopg2\u001b[39;00m \u001b[38;5;28;01mimport\u001b[39;00m extensions \u001b[38;5;28;01mas\u001b[39;00m _ext\n",
      "\u001b[1;31mImportError\u001b[0m: DLL load failed while importing _psycopg: No se puede encontrar el módulo especificado."
     ]
    }
   ],
   "source": [
    "import dash\n",
    "import psycopg2\n",
    "try:\n",
    "    connection = psycopg2.connect(\n",
    "        host='localhost',\n",
    "        user='postgres', # Usuario de la base de datos (Cambiar si es necesario)\n",
    "        password='2I@@`7ao*3}*', # Contraseña de la base de datos (Cambiar si es necesario)\n",
    "        database='proyecto'\n",
    "    )\n",
    "    print(\"Conexión exitosa\")\n",
    "    cursor = connection.cursor()\n",
    "# Manejo de errores\n",
    "except Exception as error:\n",
    "    print(\"Error al conectar a la base de datos\", error)\n",
    "# Cerrar la conexión\n",
    "finally:\n",
    "    if connection:\n",
    "        cursor.close()\n",
    "        connection.close()\n",
    "        print(\"Conexión cerrada\")"
   ]
  },
  {
   "cell_type": "code",
   "execution_count": null,
   "metadata": {},
   "outputs": [],
   "source": [
    "# Asignación de las tablas a variables\n",
    "t_Albumes = \"select * from Albumes\"\n",
    "t_Canciones = \"select * from Canciones\"\n",
    "t_Artistas = \"select * from Artistas\"\n",
    "t_Cancion_Artista = \"select * from Cancion_Artista\"\n",
    "t_Paises = \"select * from Paises\"\n",
    "t_Snapshots = \"select * from Snapshots\"\n",
    "t_Rankings = \"select * from Rankings\""
   ]
  },
  {
   "cell_type": "code",
   "execution_count": null,
   "metadata": {},
   "outputs": [],
   "source": [
    "#Asignación de las consultas a variables\n",
    "\n",
    "# Consulta 1: Relación entre atributos y cambios en el ranking\n",
    "t_consulta1 = \"SELECT c.nombre AS cancion, r.pais_codigo, r.ranking_diario, r.movimiento_diario, r.movimiento_semanal, c.danceability, c.energy, c.tempo FROM Rankings r JOIN Canciones c ON r.spotify_id = c.spotify_id WHERE r.movimiento_diario IS NOT NULL AND r.movimiento_diario > 0 OR r.movimiento_semanal IS NOT NULL AND r.movimiento_semanal > 0 ORDER BY r.movimiento_diario DESC, r.movimiento_semanal DESC;\"\n",
    "# Consulta 2: Canciones con más de 30 días en el ranking\n",
    "t_consulta2 = \"SELECT c.nombre AS cancion, p.nombre AS pais, COUNT(r.fecha_snapshot) AS dias_en_ranking, AVG(r.ranking_diario) AS promedio_ranking FROM Rankings r JOIN Canciones c ON r.spotify_id = c.spotify_id JOIN Paises p ON r.pais_codigo = p.pais_codigo GROUP BY c.nombre, p.nombre HAVING COUNT(r.fecha_snapshot) > 30 ORDER BY dias_en_ranking DESC, promedio_ranking ASC;\"\n",
    "# Consulta 3: Popularidad de canciones por país y análisis de atributos\n",
    "t_consulta3 = \"SELECT p.nombre AS pais, c.nombre AS cancion, AVG(r.ranking_diario) AS promedio_ranking, MAX(r.movimiento_diario) AS max_movimiento_diario, MAX(r.movimiento_semanal) AS max_movimiento_semanal, AVG(c.danceability) AS promedio_danceability, AVG(c.energy) AS promedio_energy, AVG(c.tempo) AS promedio_tempo FROM Rankings r JOIN Canciones c ON r.spotify_id = c.spotify_id JOIN Paises p ON r.pais_codigo = p.pais_codigo GROUP BY p.nombre, c.nombre ORDER BY promedio_ranking ASC, max_movimiento_diario DESC;\"\n",
    "# Consulta 4: Factores que afectan la longevidad en el ranking según atributos.\n",
    "t_consulta4 = \"SELECT c.nombre AS cancion, p.nombre AS pais, AVG(c.danceability) AS promedio_danceability, AVG(c.energy) AS promedio_energy, AVG(c.tempo) AS promedio_tempo, COUNT(r.fecha_snapshot) AS dias_en_ranking FROM Rankings r JOIN Canciones c ON r.spotify_id = c.spotify_id JOIN Paises p ON r.pais_codigo = p.pais_codigo GROUP BY c.nombre, p.nombre HAVING COUNT(r.fecha_snapshot) > 15 ORDER BY dias_en_ranking DESC;\""
   ]
  },
  {
   "cell_type": "code",
   "execution_count": null,
   "metadata": {},
   "outputs": [],
   "source": [
    "# Tabla Albumes\n",
    "cursor = connection.cursor()\n",
    "cursor.execute(t_Albumes)\n",
    "rows = cursor.fetchall()\n",
    "print('TABLA ALBUMES: album_id, nombre, fecha_lanzamiento')\n",
    "for row in rows:\n",
    "    print(row)\n",
    "print(\"\\n\")"
   ]
  },
  {
   "cell_type": "code",
   "execution_count": null,
   "metadata": {},
   "outputs": [],
   "source": [
    "# Tabla Canciones\n",
    "cursor = connection.cursor()\n",
    "cursor.execute(t_Canciones)\n",
    "rows = cursor.fetchall()\n",
    "print('TABLA CANCIONES: spotify_id, nombre, es_explicito, duracion_ms, danceability, energy, key, loudness, mode, speechiness, acousticness, instrumentalness, liveness, valence, tempo, time_signature, album_id')\n",
    "for row in rows:\n",
    "    print(row)\n",
    "print(\"\\n\")"
   ]
  },
  {
   "cell_type": "code",
   "execution_count": null,
   "metadata": {},
   "outputs": [],
   "source": [
    "# Tabla Artistas\n",
    "cursor = connection.cursor()\n",
    "cursor.execute(t_Artistas)\n",
    "rows = cursor.fetchall()\n",
    "print('TABLA ARTISTAS: artista_id, nombre')\n",
    "for row in rows:\n",
    "    print(row)\n",
    "print(\"\\n\")"
   ]
  },
  {
   "cell_type": "code",
   "execution_count": null,
   "metadata": {},
   "outputs": [],
   "source": [
    "# Tabla Cancion_Artista\n",
    "cursor = connection.cursor()\n",
    "cursor.execute(t_Cancion_Artista)\n",
    "rows = cursor.fetchall()\n",
    "print('TABLA CANCION_ARTISTA: spotify_id, artista_id')\n",
    "for row in rows:\n",
    "    print(row)\n",
    "print(\"\\n\")"
   ]
  },
  {
   "cell_type": "code",
   "execution_count": null,
   "metadata": {},
   "outputs": [],
   "source": [
    "# Tabla Paises\n",
    "cursor = connection.cursor()\n",
    "cursor.execute(t_Paises)\n",
    "rows = cursor.fetchall()\n",
    "print('TABLA PAISES: pais_codigo, nombre')\n",
    "for row in rows:\n",
    "    print(row)\n",
    "print(\"\\n\")"
   ]
  },
  {
   "cell_type": "code",
   "execution_count": null,
   "metadata": {},
   "outputs": [],
   "source": [
    " # Tabla Snapshots\n",
    "cursor = connection.cursor()\n",
    "cursor.execute(t_Snapshots)\n",
    "rows = cursor.fetchall()\n",
    "print('TABLA SNAPSHOTS: fecha_snapshot')\n",
    "for row in rows:\n",
    "    print(row)\n",
    "print(\"\\n\")"
   ]
  },
  {
   "cell_type": "code",
   "execution_count": null,
   "metadata": {},
   "outputs": [],
   "source": [
    " # Tabla Rankings\n",
    "cursor = connection.cursor()\n",
    "cursor.execute(t_Rankings)\n",
    "rows = cursor.fetchall()\n",
    "print('TABLA RANKINGS: spotify_id, pais_codigo, fecha_snapshot, ranking_diario, movimiento_diario, movimiento_semanal')\n",
    "for row in rows:\n",
    "    print(row)\n",
    "print(\"\\n\")"
   ]
  },
  {
   "cell_type": "code",
   "execution_count": null,
   "metadata": {},
   "outputs": [],
   "source": [
    " # Consulta 1\n",
    "cursor = connection.cursor()\n",
    "cursor.execute(t_consulta1)\n",
    "rows = cursor.fetchall()\n",
    "print('CONSULTA 1: cancion, pais_codigo, ranking_diario, movimiento_diario, movimiento_semanal, danceability, energy, tempo')\n",
    "for row in rows:\n",
    "    print(row)\n",
    "print(\"\\n\")"
   ]
  },
  {
   "cell_type": "code",
   "execution_count": null,
   "metadata": {},
   "outputs": [],
   "source": [
    " # Consulta 2\n",
    "cursor = connection.cursor()\n",
    "cursor.execute(t_consulta2)\n",
    "rows = cursor.fetchall()\n",
    "print('CONSULTA 2: cancion, pais, dias_en_ranking, promedio_ranking')\n",
    "for row in rows:\n",
    "    print(row)\n",
    "print(\"\\n\")"
   ]
  },
  {
   "cell_type": "code",
   "execution_count": null,
   "metadata": {},
   "outputs": [],
   "source": [
    "# Consulta 3\n",
    "cursor = connection.cursor()\n",
    "cursor.execute(t_consulta3)\n",
    "rows = cursor.fetchall()\n",
    "print('CONSULTA 3: pais, cancion, promedio_ranking, max_movimiento_diario, max_movimiento_semanal, promedio_danceability, promedio_energy, promedio_tempo')\n",
    "for row in rows:\n",
    "    print(row)\n",
    "print(\"\\n\")"
   ]
  },
  {
   "cell_type": "code",
   "execution_count": null,
   "metadata": {},
   "outputs": [],
   "source": [
    "# Consulta 4\n",
    "cursor = connection.cursor()\n",
    "cursor.execute(t_consulta4)\n",
    "rows = cursor.fetchall()\n",
    "print('CONSULTA 4: cancion, pais, promedio_danceability, promedio_energy, promedio_tempo, dias_en_ranking')\n",
    "for row in rows:\n",
    "    print(row)\n",
    "print(\"\\n\")"
   ]
  },
  {
   "cell_type": "code",
   "execution_count": null,
   "metadata": {},
   "outputs": [],
   "source": [
    "#Gráficas\n",
    "from dash import Dash, html, dcc\n",
    "import matplotlib.pyplot as plt\n",
    "import numpy as np\n",
    "import plotly.express as px    \n"
   ]
  },
  {
   "cell_type": "code",
   "execution_count": null,
   "metadata": {},
   "outputs": [],
   "source": [
    "#Gráfica de pie y barras de la consulta 1\n",
    "\n",
    "#Gráfica de pie\n",
    "cursor=connection.cursor()    \n",
    "cursor.execute(t_consulta1)\n",
    "rows=cursor.fetchall()\n",
    "for row in rows:\n",
    "    print(row)\n",
    "    \n",
    "app = Dash(__name__)  \n",
    "\n",
    "fig1 = px.pie(rows, values=1, names=0, color_discrete_sequence=[\"#b52a64\"])\n",
    "\n",
    "#Gráfica de barras\n",
    "cursor=connection.cursor()    \n",
    "cursor.execute(t_consulta1)\n",
    "rows=cursor.fetchall()\n",
    "for row in rows:\n",
    "    print(row)\n",
    "    \n",
    "app = Dash(__name__)  \n",
    "\n",
    "fig2 = px.bar(rows, values=1, names=0, color_discrete_sequence=[\"#b52a64\"])   "
   ]
  },
  {
   "cell_type": "code",
   "execution_count": null,
   "metadata": {},
   "outputs": [],
   "source": [
    "#Gráfica lineal y de sol de la consulta 2\n",
    "\n",
    "#Gráfica de barras\n",
    "cursor=connection.cursor()    \n",
    "cursor.execute(t_consulta2)\n",
    "rows=cursor.fetchall()\n",
    "for row in rows:\n",
    "    print(row)\n",
    "    \n",
    "app = Dash(__name__)  \n",
    "\n",
    "fig3 = px.line(rows, values=1, names=0, color_discrete_sequence=[\"#b52a64\"])\n",
    "\n",
    "#Gráfica de sol y luna\n",
    "cursor=connection.cursor()    \n",
    "cursor.execute(t_consulta2)\n",
    "rows=cursor.fetchall()\n",
    "for row in rows:\n",
    "    print(row)\n",
    "    \n",
    "app = Dash(__name__)  \n",
    "\n",
    "fig4 = px.sunburst(rows, values=1, names=0, color_discrete_sequence=[\"#b52a64\"])   "
   ]
  },
  {
   "cell_type": "code",
   "execution_count": null,
   "metadata": {},
   "outputs": [],
   "source": [
    "#Gráfica de barras y de dispersión de la consulta 3\n",
    "\n",
    "#Gráfica de barras\n",
    "cursor=connection.cursor()\n",
    "cursor.execute(t_consulta3)\n",
    "rows=cursor.fetchall()\n",
    "for row in rows:\n",
    "    print(row)\n",
    "\n",
    "app = Dash(__name__)\n",
    "\n",
    "fig5 = px.bar(rows, x=0, y=1, color=2, barmode='group')\n",
    "\n",
    "#Gráfica de dispersión\n",
    "cursor=connection.cursor()\n",
    "cursor.execute(t_consulta3)\n",
    "rows=cursor.fetchall()\n",
    "for row in rows:\n",
    "    print(row)\n",
    "    \n",
    "app = Dash(__name__)\n",
    "\n",
    "fig6 = px.scatter(rows, x=0, y=1, color=2)"
   ]
  },
  {
   "cell_type": "code",
   "execution_count": null,
   "metadata": {},
   "outputs": [],
   "source": [
    "#Gráfica de pie y de caja de la consulta 4\n",
    "\n",
    "#Gráfica de pie\n",
    "cursor=connection.cursor()\n",
    "cursor.execute(t_consulta4)\n",
    "rows=cursor.fetchall()\n",
    "for row in rows:\n",
    "    print(row)\n",
    "\n",
    "app = Dash(__name__)\n",
    "\n",
    "fig7 = px.pie(rows, values=1, names=0, color_discrete_sequence=[\"#b52a64\"])\n",
    "\n",
    "#Gráfica de caja\n",
    "cursor=connection.cursor()\n",
    "cursor.execute(t_consulta4)\n",
    "rows=cursor.fetchall()\n",
    "for row in rows:\n",
    "    print(row)\n",
    "\n",
    "app = Dash(__name__)\n",
    "\n",
    "fig8 = px.box(rows, x=0, y=1, color=2)"
   ]
  },
  {
   "cell_type": "code",
   "execution_count": null,
   "metadata": {},
   "outputs": [],
   "source": [
    "#Layout de la aplicación\n",
    "app.layout = html.Div(children=[\n",
    "    html.H1(children='Gráficas de Consultas'),\n",
    "    html.H2(children='Consulta 1'),\n",
    "    dcc.Graph(figure=fig1),\n",
    "    dcc.Graph(figure=fig2),\n",
    "    html.H2(children='Consulta 2'),\n",
    "    dcc.Graph(figure=fig3),\n",
    "    dcc.Graph(figure=fig4),\n",
    "    html.H2(children='Consulta 3'),\n",
    "    dcc.Graph(figure=fig5),\n",
    "    dcc.Graph(figure=fig6),\n",
    "    html.H2(children='Consulta 4'),\n",
    "    dcc.Graph(figure=fig7),\n",
    "    dcc.Graph(figure=fig8)\n",
    "])\n",
    "\n",
    "#Ejecución de la aplicación en el servidor\n",
    "if __name__ == \"__main__\":\n",
    "        app.run_server(debug=True)"
   ]
  }
 ],
 "metadata": {
  "kernelspec": {
   "display_name": "Python 3",
   "language": "python",
   "name": "python3"
  },
  "language_info": {
   "codemirror_mode": {
    "name": "ipython",
    "version": 3
   },
   "file_extension": ".py",
   "mimetype": "text/x-python",
   "name": "python",
   "nbconvert_exporter": "python",
   "pygments_lexer": "ipython3",
   "version": "3.13.0"
  }
 },
 "nbformat": 4,
 "nbformat_minor": 2
}

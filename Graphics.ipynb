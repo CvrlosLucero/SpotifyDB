{
 "cells": [
  {
   "cell_type": "code",
   "execution_count": 1,
   "metadata": {},
   "outputs": [
    {
     "name": "stdout",
     "output_type": "stream",
     "text": [
      "Conexión exitosa\n",
      "TABLA ALBUMES: album_id, nombre, fecha_lanzamiento\n",
      "(1, '57', datetime.date(2024, 11, 8))\n",
      "(2, 'Soltera (W Sound 01)', datetime.date(2024, 8, 6))\n",
      "(3, 'MÃ\\xadrame', datetime.date(2024, 4, 17))\n",
      "(4, 'DEPORTIVO', datetime.date(2024, 11, 14))\n",
      "(5, 'POLOS OPUESTOS REMIX (BLESSD VERSION)', datetime.date(2024, 10, 9))\n",
      "(6, 'FERXXOCALIPSIS', datetime.date(2023, 12, 1))\n",
      "(7, 'FDSR', datetime.date(2024, 10, 10))\n",
      "(8, 'SE ME OLVIDA', datetime.date(2024, 8, 23))\n",
      "(9, 'Cosas Pendientes', datetime.date(2024, 11, 21))\n",
      "(10, 'Cosa Nuestra', datetime.date(2024, 11, 15))\n",
      "(11, 'SQ (W Sound 04)', datetime.date(2024, 11, 20))\n",
      "(12, 'Las Piponas (Remix)', datetime.date(2024, 10, 1))\n",
      "(13, 'Si Antes Te Hubiera Conocido', datetime.date(2024, 6, 21))\n",
      "(14, 'Duelo', datetime.date(2024, 11, 7))\n",
      "(15, 'ImagÃ\\xadnate', datetime.date(2024, 11, 7))\n",
      "(16, 'UWAIE', datetime.date(2024, 8, 15))\n",
      "(17, 'Ohnana', datetime.date(2024, 6, 6))\n",
      "(18, 'Frente al Mar', datetime.date(2024, 9, 26))\n",
      "(19, 'Tu Boda', datetime.date(2024, 9, 26))\n",
      "(20, 'LA PANTERA NEGRA (DELUXE)', datetime.date(2024, 10, 17))\n",
      "(21, 'SORRY 4 THAT MUCH', datetime.date(2024, 6, 7))\n",
      "(22, 'FELIZ CUMPLEAÃ‘OS FERXXO TE PIRATEAMOS EL Ã\\x81LBUM', datetime.date(2022, 9, 14))\n",
      "(23, 'Oe BebÃ©', datetime.date(2024, 6, 5))\n",
      "(24, 'PRIMERA MUSA', datetime.date(2024, 9, 20))\n",
      "(25, 'El Fenomeno', datetime.date(2008, 12, 8))\n",
      "(26, 'nadie sabe lo que va a pasar maÃ±ana', datetime.date(2023, 10, 13))\n",
      "(27, 'The SexyTrip', datetime.date(2023, 12, 26))\n",
      "(28, 'Dile a Tu Amiga', datetime.date(2011, 12, 13))\n",
      "(29, 'Orion', datetime.date(2024, 5, 29))\n",
      "(30, 'Pretty Boy, Dirty Boy', datetime.date(2015, 10, 30))\n",
      "(31, 'Santa', datetime.date(2024, 4, 3))\n",
      "(32, 'Soltera', datetime.date(2024, 9, 25))\n",
      "(33, 'Don Juan', datetime.date(2023, 8, 25))\n",
      "(34, 'EL CANTANTE DEL GHETTO', datetime.date(2024, 5, 10))\n",
      "(35, 'Die With A Smile', datetime.date(2024, 8, 16))\n",
      "(36, 'BlessDeluxury', datetime.date(2024, 5, 16))\n",
      "(37, 'MAÃ‘ANA SERÃ\\x81 BONITO', datetime.date(2023, 2, 24))\n",
      "(38, '40', datetime.date(2020, 5, 29))\n",
      "(39, 'Rayo', datetime.date(2024, 8, 9))\n",
      "(40, 'Me Prefieres A Mi', datetime.date(2012, 1, 1))\n",
      "(41, 'APT.', datetime.date(2024, 10, 18))\n",
      "(42, 'Cipote Carnaval 2011', datetime.date(2011, 6, 20))\n",
      "(43, 'MAÃ‘ANA SERÃ\\x81 BONITO (BICHOTA SEASON)', datetime.date(2023, 8, 10))\n",
      "(44, 'CASI ALGO', datetime.date(2024, 9, 5))\n",
      "(45, 'MANIFESTING 20-05', datetime.date(2024, 4, 10))\n",
      "(46, 'El Abayarde', datetime.date(2003, 7, 1))\n",
      "(47, \"Happy - :') (Remixes)\", datetime.date(2024, 11, 19))\n",
      "(48, 'En Otra Vida', datetime.date(2024, 10, 10))\n",
      "(49, 'Ã‘ejo & Dalmata Special Edition', datetime.date(2012, 10, 1))\n",
      "(50, 'Yo Te Quiero (feat. Chris Jonex)', datetime.date(2024, 10, 25))\n",
      "(51, 'HOCO en la U (Â¿que hubo?)', datetime.date(2024, 9, 6))\n",
      "(52, 'House Of Pleasure', datetime.date(2010, 7, 20))\n",
      "(53, 'No Te Rayes', datetime.date(2024, 10, 17))\n",
      "(54, 'House of Pleasure', datetime.date(2010, 7, 20))\n",
      "(55, 'cuatro', datetime.date(2024, 5, 23))\n",
      "(56, 'SI SABE', datetime.date(2024, 1, 25))\n",
      "(57, 'El Bokisucio', datetime.date(2016, 3, 8))\n",
      "(58, \"DimensiÃ³n Latina '75\", datetime.date(1974, 1, 1))\n",
      "(59, 'Una DimensiÃ³n De Ã‰xitos', datetime.date(1996, 1, 17))\n",
      "(60, 'Contentoso', datetime.date(2024, 8, 29))\n",
      "(61, 'Coqueta', datetime.date(2024, 8, 23))\n",
      "(62, 'No Me Cansare', datetime.date(2024, 10, 18))\n",
      "(63, 'El Comienzo', datetime.date(2023, 8, 25))\n",
      "(64, 'MUSE', datetime.date(2024, 7, 19))\n",
      "(65, 'Desire', datetime.date(2024, 7, 10))\n",
      "(66, 'GOTTI A', datetime.date(2024, 7, 4))\n",
      "(67, 'Colmillo De Leche', datetime.date(2023, 5, 19))\n",
      "(68, 'Vicente Fernandez Para Siempre', datetime.date(2007, 8, 26))\n",
      "(69, 'ESQUINAS', datetime.date(2023, 9, 28))\n",
      "(70, 'HIT ME HARD AND SOFT', datetime.date(2024, 5, 17))\n",
      "(71, 'Loco', datetime.date(2019, 8, 8))\n",
      "(72, 'AMERI', datetime.date(2024, 10, 31))\n",
      "(73, 'Ã\\x81NGEL', datetime.date(2024, 7, 25))\n",
      "(74, 'Merry Christmas', datetime.date(1994, 10, 28))\n",
      "(75, '2000', datetime.date(2023, 3, 17))\n",
      "(76, 'Amor de Vago', datetime.date(2024, 8, 23))\n",
      "(77, 'Si Un DÃ\\xada EstÃ¡s Sola | CROSSOVER #7', datetime.date(2024, 9, 3))\n",
      "(78, 'Perdonarte, Â¿Para QuÃ©?', datetime.date(2024, 5, 23))\n",
      "(79, 'noviogangsta <3', datetime.date(2024, 10, 12))\n",
      "(80, 'AGORA', datetime.date(2024, 9, 12))\n",
      "(81, 'Hoy', datetime.date(2024, 5, 22))\n",
      "(82, 'QUE NOS FALTE TODO', datetime.date(2024, 2, 2))\n",
      "(83, 'PaÂ´ Que Te Acuerdes | CROSSOVER #8', datetime.date(2024, 10, 2))\n",
      "(84, 'DOCTOR', datetime.date(2024, 8, 29))\n",
      "(85, 'Loquita (Remix)', datetime.date(2024, 5, 15))\n",
      "(86, 'LA PANTERA NEGRA', datetime.date(2024, 8, 22))\n",
      "(87, 'Princesa', datetime.date(2024, 9, 12))\n",
      "(88, 'Mil Preguntas', datetime.date(2024, 4, 11))\n",
      "(89, 'SINVERGÃœENZA - con Angela Torres', datetime.date(2023, 12, 5))\n",
      "(90, '444', datetime.date(2024, 6, 6))\n",
      "(91, 'DespÃ³jate Vol.2', datetime.date(2024, 10, 3))\n",
      "(92, 'URIEL LOZANO / Zapada EN VIVO en UN POCO DE RUIDO!', datetime.date(2024, 7, 28))\n",
      "(93, 'Cuando Te Vi | CROSSOVER #5', datetime.date(2024, 6, 27))\n",
      "(94, 'TU DUO FAVORITO', datetime.date(2023, 9, 6))\n",
      "(95, 'Tu Foto', datetime.date(2024, 5, 16))\n",
      "(96, 'COLOCARTELO', datetime.date(2024, 10, 24))\n",
      "(97, 'EL COMIENZO', datetime.date(2024, 8, 9))\n",
      "(98, 'Ojos Verdes', datetime.date(2024, 4, 24))\n",
      "(99, 'El Calor Del Pleno Invierno', datetime.date(2012, 10, 18))\n",
      "(100, 'LA NENA DE ARGENTINA', datetime.date(2022, 12, 8))\n",
      "(101, 'UN SIGLO SIN TI', datetime.date(2024, 7, 25))\n",
      "(102, 'TRAMPA AL TIEMPO', datetime.date(2024, 11, 11))\n",
      "(103, 'CORAZÃ“N VACÃ\\x8dO', datetime.date(2023, 6, 22))\n",
      "(104, 'Kyoto', datetime.date(2023, 7, 14))\n",
      "(105, 'Me Voy', datetime.date(2024, 11, 7))\n",
      "(106, 'La_Playlist.mpeg', datetime.date(2024, 6, 20))\n",
      "(107, 'MJ', datetime.date(2024, 9, 12))\n",
      "(108, 'Libertad', datetime.date(2013, 11, 27))\n",
      "(109, 'Happy - :D (Remixes)', datetime.date(2024, 11, 19))\n",
      "(110, '.mp3', datetime.date(2023, 11, 3))\n",
      "(111, 'Mucho', datetime.date(2008, 1, 1))\n",
      "(112, 'Lo + tranquilo', datetime.date(2020, 6, 26))\n",
      "(113, 'Un Finde | CROSSOVER #2', datetime.date(2023, 4, 4))\n",
      "(114, 'SE DICE DE MI', datetime.date(2024, 9, 11))\n",
      "(115, 'Un MontÃ³n de Estrellas (En Vivo Gran Rex)', datetime.date(2023, 6, 8))\n",
      "(116, 'EL MAGO Y LA NUEVA / Zapada EN VIVO en UN POCO DE RUIDO!', datetime.date(2024, 7, 26))\n",
      "(117, 'PONTE PERRO | DJ TAO Turreo Sessions #24', datetime.date(2024, 5, 30))\n",
      "(118, 'Messirve Mix 7', datetime.date(2023, 9, 7))\n",
      "(119, 'A200', datetime.date(2024, 10, 17))\n",
      "(120, 'I Am Lucky Brown', datetime.date(2024, 10, 23))\n",
      "(121, 'CHIKA MALA', datetime.date(2024, 8, 8))\n",
      "(122, 'MIRALA', datetime.date(2024, 10, 24))\n",
      "(123, 'SI NO ES CONTIGO', datetime.date(2024, 5, 23))\n",
      "(124, 'MY LOVE', datetime.date(2024, 11, 14))\n",
      "(125, 'SI NO ES CONTIGO (REMIX)', datetime.date(2024, 10, 17))\n",
      "(126, 'CHINGON', datetime.date(2024, 7, 19))\n",
      "(127, 'SATIROLOGÃ\\x8dA', datetime.date(2024, 11, 7))\n",
      "(128, 'Tattoo', datetime.date(2024, 9, 5))\n",
      "(129, 'Partyson', datetime.date(2023, 11, 9))\n",
      "(130, 'No Ponga Excusas', datetime.date(2024, 6, 20))\n",
      "(131, 'Amigos Y Enemigos Almighty', datetime.date(2024, 8, 21))\n",
      "(132, 'HOT', datetime.date(2024, 10, 17))\n",
      "(133, 'Boomerang', datetime.date(2024, 11, 8))\n",
      "(134, 'De La Zona MÃ¡s Extrema', datetime.date(2024, 10, 3))\n",
      "(135, 'Amanece', datetime.date(2018, 12, 14))\n",
      "(136, 'Tuss', datetime.date(2024, 7, 12))\n",
      "(137, 'BEIA (Jere Klein)', datetime.date(2024, 7, 14))\n",
      "(138, 'Que Te Vaya Bien', datetime.date(2022, 9, 2))\n",
      "(139, 'QUE LE DE', datetime.date(2024, 7, 26))\n",
      "(140, 'Parte & Choke', datetime.date(2024, 11, 5))\n",
      "(141, 'Toky', datetime.date(2022, 8, 4))\n",
      "(142, 'Robando', datetime.date(2024, 10, 9))\n",
      "(143, 'Que Onda', datetime.date(2023, 8, 30))\n",
      "(144, 'La Historia... Los Ã‰xitos', datetime.date(2008, 6, 25))\n",
      "(145, 'OASIS', datetime.date(2019, 6, 28))\n",
      "(146, 'La Jama', datetime.date(2024, 11, 13))\n",
      "(147, 'K.O.B. Live', datetime.date(2006, 12, 19))\n",
      "(148, 'MICRODOSIS', datetime.date(2022, 4, 1))\n",
      "(149, 'LVEU: VIVE LA TUYA...NO LA MIA', datetime.date(2023, 9, 18))\n",
      "(150, 'CantÃ¡ndole al Amor, Vol. 2', datetime.date(2023, 10, 21))\n",
      "(151, 'Ven DevÃ³rame Otra Vez (Baile Total)', datetime.date(2017, 11, 24))\n",
      "(152, 'SATURNO', datetime.date(2023, 1, 24))\n",
      "(153, 'Presidente', datetime.date(2024, 10, 21))\n",
      "(154, 'INCÃ“MODO', datetime.date(2024, 8, 22))\n",
      "(155, 'NADIE', datetime.date(2024, 11, 21))\n",
      "(156, 'Que Sigan Llegando Las Pacas (Extended)', datetime.date(2024, 10, 18))\n",
      "(157, 'Ã‰XODO', datetime.date(2024, 6, 20))\n",
      "(158, 'Atento Aviso ... Rey Sin Reina', datetime.date(2024, 9, 5))\n",
      "(159, 'Madonna', datetime.date(2024, 3, 8))\n",
      "(160, '$AD BOYZ 4 LIFE II', datetime.date(2023, 10, 5))\n",
      "(161, 'PERO NO TE ENAMORES', datetime.date(2024, 7, 25))\n",
      "(162, 'Mejores Jordans', datetime.date(2024, 7, 30))\n",
      "(163, 'LOS CUADROS', datetime.date(2024, 8, 8))\n",
      "(164, 'Giza', datetime.date(2024, 7, 10))\n",
      "(165, 'LA ODISEA', datetime.date(2024, 11, 7))\n",
      "(166, 'No Son Doritos', datetime.date(2024, 8, 23))\n",
      "(167, 'Kamikaze (feat. Victor Mendivil)', datetime.date(2024, 11, 14))\n",
      "(168, 'Si No Quieres No', datetime.date(2024, 3, 10))\n",
      "(169, 'PRESENTE', datetime.date(2023, 11, 17))\n",
      "(170, 'Apaga El Cel', datetime.date(2023, 12, 22))\n",
      "(171, 'Un Scar', datetime.date(2024, 11, 11))\n",
      "(172, 'Vaquero (Remix)', datetime.date(2024, 8, 8))\n",
      "(173, 'Dolido Pero No Arrepentido', datetime.date(2024, 2, 9))\n",
      "(174, 'Volver Al Futuro', datetime.date(2024, 5, 30))\n",
      "(175, \"Hecha Pa' MÃ\\xad\", datetime.date(2024, 10, 3))\n",
      "(176, 'No Hay Loco Que No Corone', datetime.date(2024, 9, 26))\n",
      "(177, 'Corridos Pa Mis Compas Y Rolitas Pa Mi Ex', datetime.date(2024, 8, 22))\n",
      "(178, 'Â¿QuiÃ©n?', datetime.date(2024, 10, 24))\n",
      "(179, 'Ese Vato No Te Queda', datetime.date(2024, 10, 24))\n",
      "(180, 'Por Las Damas', datetime.date(2002, 1, 1))\n",
      "(181, 'AsÃ\\xad Es Esto', datetime.date(2012, 10, 15))\n",
      "(182, '12 Favoritas', datetime.date(2013, 1, 1))\n",
      "(183, 'Ã\\x8dconos 25 Ã‰xitos', datetime.date(2012, 1, 1))\n",
      "\n",
      "\n",
      "TABLA CANCIONES: spotify_id, nombre, es_explicito, duracion_ms, danceability, energy, key, loudness, mode, speechiness, acousticness, instrumentalness, liveness, valence, tempo, time_signature, album_id\n",
      "('3mg9jYNC1NihbthlglzrWP', '57', True, 298130, Decimal('0.85'), Decimal('0.71'), 1, Decimal('-3.57'), 0, Decimal('0.10'), Decimal('0.22'), Decimal('0.00'), Decimal('0.11'), Decimal('0.69'), Decimal('91.98'), 4, 1)\n",
      "('13BDiikG6y5o5cQTK0HpW6', 'Soltera - W Sound 01', True, 142022, Decimal('0.73'), Decimal('0.58'), 1, Decimal('-4.15'), 1, Decimal('0.30'), Decimal('0.16'), Decimal('0.00'), Decimal('0.11'), Decimal('0.88'), Decimal('200.00'), 4, 2)\n",
      "('2btNsI4OvcVl7SAHQQDHFB', 'MÃ\\xadrame', True, 157453, Decimal('0.72'), Decimal('0.66'), 7, Decimal('-4.45'), 1, Decimal('0.08'), Decimal('0.14'), Decimal('0.00'), Decimal('0.07'), Decimal('0.70'), Decimal('175.96'), 4, 3)\n",
      "('0fKK51bU6lcCCwdNnv64t3', 'DEPORTIVO', True, 218701, Decimal('0.82'), Decimal('0.76'), 0, Decimal('-2.86'), 1, Decimal('0.06'), Decimal('0.53'), Decimal('0.00'), Decimal('0.08'), Decimal('0.78'), Decimal('90.03'), 4, 4)\n",
      "('2ALQyXMC26Vew7JX7ert9M', 'POLOS OPUESTOS REMIX - BLESSD VERSION', True, 216000, Decimal('0.54'), Decimal('0.55'), 9, Decimal('-7.98'), 0, Decimal('0.20'), Decimal('0.39'), Decimal('0.00'), Decimal('0.06'), Decimal('0.55'), Decimal('118.99'), 5, 5)\n",
      "('7bywjHOc0wSjGGbj04XbVi', 'LUNA', False, 196800, Decimal('0.77'), Decimal('0.86'), 7, Decimal('-2.89'), 0, Decimal('0.13'), Decimal('0.13'), Decimal('0.00'), Decimal('0.12'), Decimal('0.45'), Decimal('100.02'), 4, 6)\n",
      "('05sO6FK8E9l2cfwnEUTjHq', 'CUAL ES ESA', True, 172506, Decimal('0.92'), Decimal('0.48'), 6, Decimal('-4.48'), 0, Decimal('0.19'), Decimal('0.02'), Decimal('0.00'), Decimal('0.12'), Decimal('0.71'), Decimal('96.00'), 4, 6)\n",
      "('1hZsWUnLbqRw09jLAMQSsb', 'CLASSY 101', True, 195586, Decimal('0.86'), Decimal('0.67'), 11, Decimal('-4.77'), 1, Decimal('0.15'), Decimal('0.13'), Decimal('0.00'), Decimal('0.12'), Decimal('0.66'), Decimal('100.09'), 4, 6)\n",
      "('2Yc3MHpZ9R5UCIz78E20AQ', 'ALAKRAN', False, 90613, Decimal('0.69'), Decimal('0.63'), 7, Decimal('-3.09'), 0, Decimal('0.07'), Decimal('0.04'), Decimal('0.00'), Decimal('0.12'), Decimal('0.32'), Decimal('98.09'), 4, 6)\n",
      "('3KwYiawBfqngH7eaUHQn2N', 'FDSR', False, 188181, Decimal('0.80'), Decimal('0.66'), 0, Decimal('-2.90'), 0, Decimal('0.18'), Decimal('0.02'), Decimal('0.00'), Decimal('0.09'), Decimal('0.66'), Decimal('175.93'), 4, 7)\n",
      "('2gmd7lY3QSzLh0xIY4cRvi', 'SE ME OLVIDA', True, 225373, Decimal('0.79'), Decimal('0.71'), 7, Decimal('-4.39'), 0, Decimal('0.06'), Decimal('0.04'), Decimal('0.00'), Decimal('0.12'), Decimal('0.69'), Decimal('82.05'), 4, 8)\n",
      "('0iVEujJcafOBnxa654fJYu', 'Cosas Pendientes', False, 184462, Decimal('0.84'), Decimal('0.67'), 5, Decimal('-2.75'), 0, Decimal('0.06'), Decimal('0.26'), Decimal('0.00'), Decimal('0.19'), Decimal('0.78'), Decimal('82.01'), 4, 9)\n",
      "('1YYfyJ2yCvGFCxwjsIqEK9', 'KhÃ©?', False, 206066, Decimal('0.69'), Decimal('0.63'), 7, Decimal('-4.98'), 1, Decimal('0.18'), Decimal('0.33'), Decimal('0.00'), Decimal('0.09'), Decimal('0.47'), Decimal('155.87'), 4, 10)\n",
      "('0l0vcZMU7AOeQmUIREoI2U', 'QuÃ© PasarÃ\\xada...', True, 191018, Decimal('0.83'), Decimal('0.56'), 4, Decimal('-5.59'), 0, Decimal('0.20'), Decimal('0.53'), Decimal('0.00'), Decimal('0.14'), Decimal('0.34'), Decimal('105.01'), 4, 10)\n",
      "('4lqJsJd7kqWVvamQ4aFHA8', 'RevolÃº', True, 215511, Decimal('0.73'), Decimal('0.69'), 9, Decimal('-3.55'), 1, Decimal('0.10'), Decimal('0.06'), Decimal('0.00'), Decimal('0.10'), Decimal('0.44'), Decimal('196.12'), 4, 10)\n",
      "('1uFW6czrHk5PsK3s6gOI7C', 'Se Fue', False, 240179, Decimal('0.69'), Decimal('0.74'), 8, Decimal('-2.82'), 1, Decimal('0.03'), Decimal('0.07'), Decimal('0.00'), Decimal('0.10'), Decimal('0.14'), Decimal('119.96'), 4, 10)\n",
      "('2eQFYGegTZaObk2kuBz83Z', 'TÃº Con Ã‰l', False, 289131, Decimal('0.74'), Decimal('0.89'), 7, Decimal('-4.52'), 1, Decimal('0.04'), Decimal('0.24'), Decimal('0.00'), Decimal('0.24'), Decimal('0.79'), Decimal('93.05'), 4, 10)\n",
      "('3PJgmyLaybZtALX4mrgbiD', 'Espresso Martini', True, 191219, Decimal('0.86'), Decimal('0.57'), 8, Decimal('-5.58'), 1, Decimal('0.12'), Decimal('0.54'), Decimal('0.00'), Decimal('0.12'), Decimal('0.19'), Decimal('123.04'), 4, 10)\n",
      "('0xyWkRMb09qdCDhloehCsi', 'Ni Me Conozco', True, 229787, Decimal('0.55'), Decimal('0.54'), 5, Decimal('-6.68'), 0, Decimal('0.17'), Decimal('0.34'), Decimal('0.00'), Decimal('0.17'), Decimal('0.31'), Decimal('90.17'), 4, 10)\n",
      "('5tZgkV8FTe3rtl8OcSeQAb', 'DÃ©jame Entrar', True, 254705, Decimal('0.68'), Decimal('0.70'), 0, Decimal('-5.80'), 1, Decimal('0.05'), Decimal('0.34'), Decimal('0.00'), Decimal('0.10'), Decimal('0.26'), Decimal('102.01'), 4, 10)\n",
      "('7xdRj1wA4XzYnXynPmtmnq', 'Committed', True, 159344, Decimal('0.75'), Decimal('0.64'), 8, Decimal('-5.41'), 1, Decimal('0.11'), Decimal('0.13'), Decimal('0.00'), Decimal('0.12'), Decimal('0.48'), Decimal('121.98'), 4, 10)\n",
      "('5UxEKpzvvLnjoC10XoogN3', 'Cosa Nuestra', True, 260454, Decimal('0.69'), Decimal('0.68'), 6, Decimal('-4.48'), 1, Decimal('0.07'), Decimal('0.34'), Decimal('0.00'), Decimal('0.60'), Decimal('0.74'), Decimal('172.04'), 4, 10)\n",
      "('4jjFjbqCTkaN1mGb0BMYl2', 'Amar De Nuevo', True, 268042, Decimal('0.71'), Decimal('0.45'), 11, Decimal('-6.83'), 1, Decimal('0.03'), Decimal('0.31'), Decimal('0.00'), Decimal('0.21'), Decimal('0.33'), Decimal('95.03'), 4, 10)\n",
      "('3HCcfBsa4TdiC0so0fPnRi', \"Baja Pa' AcÃ¡\", True, 200000, Decimal('0.79'), Decimal('0.78'), 8, Decimal('-2.65'), 1, Decimal('0.08'), Decimal('0.40'), Decimal('0.00'), Decimal('0.22'), Decimal('0.50'), Decimal('93.01'), 4, 10)\n",
      "('2J0TjDpiUlwgFRvVxtaLud', 'Mil Mujeres', True, 168922, Decimal('0.66'), Decimal('0.85'), 7, Decimal('-5.48'), 1, Decimal('0.06'), Decimal('0.05'), Decimal('0.00'), Decimal('0.14'), Decimal('0.52'), Decimal('147.90'), 4, 10)\n",
      "('7v12ia1PFVN9jSgU43rJnS', 'IL Capo', True, 249599, Decimal('0.80'), Decimal('0.54'), 8, Decimal('-5.08'), 1, Decimal('0.10'), Decimal('0.19'), Decimal('0.00'), Decimal('0.14'), Decimal('0.12'), Decimal('125.10'), 4, 10)\n",
      "('0dDr2LgiACQVkZYJeStWh6', 'Pasaporte', False, 263451, Decimal('0.80'), Decimal('0.76'), 2, Decimal('-3.60'), 1, Decimal('0.03'), Decimal('0.03'), Decimal('0.00'), Decimal('0.33'), Decimal('0.65'), Decimal('116.97'), 4, 10)\n",
      "('1UTLq40xh63wMrHELGnKWW', '2:12 a.\\xa0m.', True, 211918, Decimal('0.72'), Decimal('0.75'), 8, Decimal('-3.89'), 1, Decimal('0.03'), Decimal('0.12'), Decimal('0.00'), Decimal('0.12'), Decimal('0.54'), Decimal('125.04'), 4, 10)\n",
      "('63jUTfcbudnrqoPCC5Qp4i', 'SEXXXMACHINE', True, 236352, Decimal('0.85'), Decimal('0.83'), 2, Decimal('-3.51'), 1, Decimal('0.07'), Decimal('0.07'), Decimal('0.00'), Decimal('0.05'), Decimal('0.65'), Decimal('114.98'), 4, 10)\n",
      "('4O3EdWEn3apRHpiZxYabtl', 'Touching The Sky', False, 185613, Decimal('0.78'), Decimal('0.79'), 5, Decimal('-3.66'), 1, Decimal('0.07'), Decimal('0.04'), Decimal('0.00'), Decimal('0.29'), Decimal('0.62'), Decimal('128.02'), 4, 10)\n",
      "('7zYAuEf69m4bQmJvw0MTka', 'SQ - W Sound 04', True, 153402, Decimal('0.77'), Decimal('0.78'), 8, Decimal('-5.45'), 0, Decimal('0.17'), Decimal('0.38'), Decimal('0.00'), Decimal('0.11'), Decimal('0.91'), Decimal('97.09'), 4, 11)\n",
      "('281YJmnThveWjsWVic9Ym6', 'Las Piponas (Remix)', True, 244000, Decimal('0.73'), Decimal('0.59'), 8, Decimal('-4.98'), 1, Decimal('0.08'), Decimal('0.02'), Decimal('0.00'), Decimal('0.14'), Decimal('0.11'), Decimal('119.66'), 4, 12)\n",
      "('6WatFBLVB0x077xWeoVc2k', 'Si Antes Te Hubiera Conocido', False, 195824, Decimal('0.92'), Decimal('0.67'), 11, Decimal('-6.80'), 1, Decimal('0.05'), Decimal('0.45'), Decimal('0.00'), Decimal('0.07'), Decimal('0.79'), Decimal('128.03'), 4, 13)\n",
      "('0Qe2g06yzLBuuSvVmFiweP', 'Hasta AquÃ\\xad LleguÃ©', False, 188887, Decimal('0.64'), Decimal('0.66'), 11, Decimal('-8.34'), 0, Decimal('0.22'), Decimal('0.54'), Decimal('0.00'), Decimal('0.11'), Decimal('0.41'), Decimal('100.02'), 4, 14)\n",
      "('4zbEItKoaRId1vRZkoO0Uh', 'ImagÃ\\xadnate', True, 170365, Decimal('0.78'), Decimal('0.74'), 11, Decimal('-4.67'), 1, Decimal('0.11'), Decimal('0.13'), Decimal('0.00'), Decimal('0.10'), Decimal('0.45'), Decimal('101.92'), 4, 15)\n",
      "('5QjmUqgpPQgXgg4606DqZF', 'UWAIE', False, 172427, Decimal('0.71'), Decimal('0.78'), 9, Decimal('-4.78'), 0, Decimal('0.04'), Decimal('0.14'), Decimal('0.00'), Decimal('0.10'), Decimal('0.45'), Decimal('103.00'), 4, 16)\n",
      "('1fTjqf10accJCDYstPwwZ6', 'Ohnana', False, 156577, Decimal('0.78'), Decimal('0.58'), 1, Decimal('-3.62'), 0, Decimal('0.11'), Decimal('0.62'), Decimal('0.00'), Decimal('0.10'), Decimal('0.66'), Decimal('104.98'), 4, 17)\n",
      "('60u6hcpH5Qm1M3xESdNBrB', 'Frente al Mar', False, 165178, Decimal('0.75'), Decimal('0.68'), 10, Decimal('-3.83'), 1, Decimal('0.09'), Decimal('0.17'), Decimal('0.00'), Decimal('0.11'), Decimal('0.62'), Decimal('100.04'), 4, 18)\n",
      "('1cOboCuWYI2osTOfolMRS6', 'Tu Boda', True, 225880, Decimal('0.69'), Decimal('0.65'), 6, Decimal('-6.97'), 1, Decimal('0.08'), Decimal('0.50'), Decimal('0.00'), Decimal('0.08'), Decimal('0.47'), Decimal('112.65'), 3, 19)\n",
      "('0qeIFEGRQqHoaJtLCl0U73', 'DEGENERE ðŸ‘‘ (feat. benny blanco)', True, 130880, Decimal('0.74'), Decimal('0.71'), 6, Decimal('-5.78'), 0, Decimal('0.28'), Decimal('0.05'), Decimal('0.00'), Decimal('0.08'), Decimal('0.71'), Decimal('194.06'), 4, 20)\n",
      "('63pLfjK6FvcYJYMGwtHjd6', 'SORRY 4 THAT MUCH', True, 207746, Decimal('0.82'), Decimal('0.68'), 7, Decimal('-4.28'), 1, Decimal('0.07'), Decimal('0.03'), Decimal('0.00'), Decimal('0.29'), Decimal('0.60'), Decimal('92.99'), 4, 21)\n",
      "('2CeKVsFFXG4QzA415QygGb', 'Feliz CumpleaÃ±os Ferxxo', False, 155960, Decimal('0.87'), Decimal('0.57'), 5, Decimal('-5.50'), 1, Decimal('0.07'), Decimal('0.09'), Decimal('0.00'), Decimal('0.31'), Decimal('0.56'), Decimal('95.00'), 4, 22)\n",
      "('0T2pB7P1VdXPhLdQZ488uH', 'Normal', True, 171880, Decimal('0.71'), Decimal('0.56'), 4, Decimal('-4.87'), 0, Decimal('0.17'), Decimal('0.03'), Decimal('0.00'), Decimal('0.32'), Decimal('0.54'), Decimal('170.08'), 4, 22)\n",
      "('1sbNEFiURUYfy024cJX8JG', 'Ferxxo 100', False, 167760, Decimal('0.71'), Decimal('0.56'), 8, Decimal('-3.38'), 0, Decimal('0.07'), Decimal('0.26'), Decimal('0.00'), Decimal('0.14'), Decimal('0.57'), Decimal('163.89'), 4, 22)\n",
      "('57pj5sOWSCAqZm088LMcE4', 'Oe BebÃ©', True, 186463, Decimal('0.75'), Decimal('0.74'), 9, Decimal('-3.65'), 0, Decimal('0.08'), Decimal('0.13'), Decimal('0.00'), Decimal('0.14'), Decimal('0.80'), Decimal('94.07'), 4, 23)\n",
      "('0Sr7ssScx54yxdM2ols7nW', 'Q U E V A S H A C E R H O Y ?', True, 224022, Decimal('0.56'), Decimal('0.68'), 6, Decimal('-6.30'), 0, Decimal('0.24'), Decimal('0.10'), Decimal('0.00'), Decimal('0.11'), Decimal('0.39'), Decimal('155.08'), 4, 24)\n",
      "('1pLCpA1RN8avJxSD3ZCwhj', \"Pa' Que La Pases Bien\", False, 214120, Decimal('0.90'), Decimal('0.76'), 9, Decimal('-5.68'), 0, Decimal('0.14'), Decimal('0.01'), Decimal('0.00'), Decimal('0.26'), Decimal('0.57'), Decimal('110.01'), 4, 25)\n",
      "('7iQXYTyuG13aoeHxGG28Nh', 'PERRO NEGRO', True, 162767, Decimal('0.91'), Decimal('0.78'), 5, Decimal('-2.25'), 1, Decimal('0.26'), Decimal('0.09'), Decimal('0.00'), Decimal('0.18'), Decimal('0.35'), Decimal('96.06'), 4, 26)\n",
      "('3vpvKFigw8bNApZzuOleGe', 'Movimiento de Caderas', False, 190000, Decimal('0.72'), Decimal('0.58'), 9, Decimal('-6.78'), 0, Decimal('0.48'), Decimal('0.10'), Decimal('0.00'), Decimal('0.12'), Decimal('0.67'), Decimal('180.13'), 4, 27)\n",
      "('3u2jlo9kygiIAq7SPVuw6S', 'Dile a Tu Amiga', True, 214120, Decimal('0.79'), Decimal('0.58'), 2, Decimal('-12.11'), 1, Decimal('0.06'), Decimal('0.23'), Decimal('0.00'), Decimal('0.09'), Decimal('0.91'), Decimal('94.99'), 4, 28)\n",
      "('5pVJ3IlnpIorU44oXizzG5', 'Orion', False, 240964, Decimal('0.86'), Decimal('0.71'), 1, Decimal('-4.78'), 1, Decimal('0.18'), Decimal('0.32'), Decimal('0.00'), Decimal('0.20'), Decimal('0.87'), Decimal('105.01'), 4, 29)\n",
      "('6DUdDIRgLqCGq1DwkNWQTN', 'Borro Cassette', False, 207306, Decimal('0.73'), Decimal('0.70'), 5, Decimal('-5.89'), 0, Decimal('0.11'), Decimal('0.13'), Decimal('0.00'), Decimal('0.15'), Decimal('0.79'), Decimal('175.95'), 4, 30)\n",
      "('6a9Z1jUms915w4O7N1PxjY', 'Santa', False, 193038, Decimal('0.73'), Decimal('0.71'), 3, Decimal('-5.02'), 0, Decimal('0.13'), Decimal('0.32'), Decimal('0.00'), Decimal('0.11'), Decimal('0.65'), Decimal('99.99'), 4, 31)\n",
      "('3OJDtCdYs8QJnui708tEU3', 'Soltera', False, 214642, Decimal('0.84'), Decimal('0.75'), 2, Decimal('-4.74'), 1, Decimal('0.11'), Decimal('0.17'), Decimal('0.00'), Decimal('0.95'), Decimal('0.67'), Decimal('100.08'), 4, 32)\n",
      "('4bw8mcDUSRWfQo63ZTYRnU', 'SegÃºn QuiÃ©n', True, 142334, Decimal('0.91'), Decimal('0.76'), 9, Decimal('-3.97'), 1, Decimal('0.06'), Decimal('0.43'), Decimal('0.00'), Decimal('0.09'), Decimal('0.84'), Decimal('101.99'), 3, 33)\n",
      "('0zNMdrDEs5N0JPQ7RYQZln', 'QUEMA', True, 150927, Decimal('0.82'), Decimal('0.86'), 0, Decimal('-3.32'), 1, Decimal('0.05'), Decimal('0.03'), Decimal('0.00'), Decimal('0.07'), Decimal('0.91'), Decimal('97.01'), 4, 34)\n",
      "('2plbrEY59IikOBgBGLjaoe', 'Die With A Smile', False, 251667, Decimal('0.52'), Decimal('0.59'), 6, Decimal('-7.78'), 0, Decimal('0.03'), Decimal('0.31'), Decimal('0.00'), Decimal('0.12'), Decimal('0.54'), Decimal('157.97'), 3, 35)\n",
      "('6rZno3nqeT7hv2PnSWRuYS', 'YOGURCITO', True, 183535, Decimal('0.75'), Decimal('0.61'), 5, Decimal('-5.53'), 0, Decimal('0.05'), Decimal('0.18'), Decimal('0.00'), Decimal('0.18'), Decimal('0.80'), Decimal('141.96'), 4, 36)\n",
      "('505v13epFXodT9fVAJ6h8k', 'AMARGURA', True, 170480, Decimal('0.91'), Decimal('0.70'), 6, Decimal('-3.33'), 0, Decimal('0.07'), Decimal('0.16'), Decimal('0.00'), Decimal('0.17'), Decimal('0.54'), Decimal('106.98'), 4, 37)\n",
      "('1JXcB149QtbcIpDUA6YZOB', 'Algo Que Se Quede', False, 220135, Decimal('0.75'), Decimal('0.72'), 2, Decimal('-4.20'), 1, Decimal('0.05'), Decimal('0.46'), Decimal('0.00'), Decimal('0.18'), Decimal('0.79'), Decimal('140.04'), 4, 38)\n",
      "('2llFXBrftm6YJzBj3tpk0s', 'DoblexxÃ³', True, 176720, Decimal('0.79'), Decimal('0.78'), 1, Decimal('-4.61'), 0, Decimal('0.07'), Decimal('0.04'), Decimal('0.00'), Decimal('0.12'), Decimal('0.83'), Decimal('99.01'), 4, 39)\n",
      "('3GhmL9fuM8jwGcHCFbeo3v', 'Me Prefieres A Mi', False, 195657, Decimal('0.73'), Decimal('0.60'), 7, Decimal('-8.13'), 1, Decimal('0.08'), Decimal('0.55'), Decimal('0.00'), Decimal('0.91'), Decimal('0.79'), Decimal('80.99'), 4, 40)\n",
      "('5vNRhkKd0yEAg8suGBpjeY', 'APT.', False, 169917, Decimal('0.78'), Decimal('0.78'), 0, Decimal('-4.48'), 0, Decimal('0.26'), Decimal('0.03'), Decimal('0.00'), Decimal('0.36'), Decimal('0.94'), Decimal('149.03'), 4, 41)\n",
      "('1AddbBdKFz8wdqatGVSsYS', 'Es Un Secreto', False, 192053, Decimal('0.84'), Decimal('0.73'), 6, Decimal('-6.27'), 0, Decimal('0.04'), Decimal('0.11'), Decimal('0.00'), Decimal('0.07'), Decimal('0.53'), Decimal('95.01'), 4, 42)\n",
      "('5RqSsdzTNPX1uzkmlHCFvK', 'QLONA', True, 172797, Decimal('0.84'), Decimal('0.74'), 7, Decimal('-7.46'), 0, Decimal('0.31'), Decimal('0.52'), Decimal('0.00'), Decimal('0.09'), Decimal('0.48'), Decimal('169.92'), 4, 43)\n",
      "('54zcJnb3tp9c5OVKREZ1Is', 'MI EX TENÃ\\x8dA RAZÃ“N', False, 154374, Decimal('0.63'), Decimal('0.73'), 5, Decimal('-4.95'), 0, Decimal('0.06'), Decimal('0.08'), Decimal('0.00'), Decimal('0.21'), Decimal('0.80'), Decimal('159.85'), 4, 43)\n",
      "('6tuLAQURf4P97dD750iTaJ', 'CASI ALGO', True, 163979, Decimal('0.68'), Decimal('0.83'), 7, Decimal('-4.90'), 1, Decimal('0.06'), Decimal('0.51'), Decimal('0.00'), Decimal('0.42'), Decimal('0.47'), Decimal('91.03'), 4, 44)\n",
      "('0rNqDh9zWWJVTLS4VfceHP', 'Brickell', True, 180360, Decimal('0.81'), Decimal('0.89'), 11, Decimal('-1.50'), 0, Decimal('0.06'), Decimal('0.07'), Decimal('0.00'), Decimal('0.12'), Decimal('0.49'), Decimal('93.04'), 4, 45)\n",
      "('5YJ4BVvTFmVCxUyhKejHfR', \"Pa' Que Retozen\", True, 151666, Decimal('0.82'), Decimal('0.86'), 1, Decimal('-3.83'), 0, Decimal('0.12'), Decimal('0.40'), Decimal('0.00'), Decimal('0.24'), Decimal('0.87'), Decimal('92.00'), 4, 46)\n",
      "('50zAEIE4B1QqhPjRMK2Xmh', 'Running Wild', False, 151646, Decimal('0.49'), Decimal('0.71'), 8, Decimal('-4.22'), 1, Decimal('0.03'), Decimal('0.00'), Decimal('0.00'), Decimal('0.15'), Decimal('0.32'), Decimal('146.92'), 4, 47)\n",
      "('0EhmTBq33eARyOz3SIi4P2', 'En Otra Vida', False, 153609, Decimal('0.46'), Decimal('0.16'), 0, Decimal('-11.63'), 1, Decimal('0.04'), Decimal('0.93'), Decimal('0.00'), Decimal('0.14'), Decimal('0.48'), Decimal('184.78'), 3, 48)\n",
      "('05yMrCIM3QQVLhlAlLMUVQ', 'SeÃ±al De Vida', True, 240255, Decimal('0.72'), Decimal('0.68'), 6, Decimal('-6.68'), 0, Decimal('0.07'), Decimal('0.12'), Decimal('0.00'), Decimal('0.59'), Decimal('0.69'), Decimal('171.97'), 4, 49)\n",
      "('5rRYtMoEDY3HrvV13jcsom', 'Yo Te Quiero (feat. Chris Jonex)', False, 195535, Decimal('0.81'), Decimal('0.70'), 10, Decimal('-7.08'), 0, Decimal('0.13'), Decimal('0.35'), Decimal('0.00'), Decimal('0.07'), Decimal('0.77'), Decimal('112.03'), 4, 50)\n",
      "('2AyHptlbcCczCoyVANwPeK', 'HOCO en la U (Â¿que hubo?)', False, 246933, Decimal('0.75'), Decimal('0.72'), 2, Decimal('-6.28'), 1, Decimal('0.10'), Decimal('0.20'), Decimal('0.00'), Decimal('0.11'), Decimal('0.40'), Decimal('105.02'), 4, 51)\n",
      "('7JwdbqIpiuWvGbRryKSuBz', 'Es un Secreto', False, 190560, Decimal('0.84'), Decimal('0.78'), 6, Decimal('-4.92'), 0, Decimal('0.04'), Decimal('0.11'), Decimal('0.00'), Decimal('0.05'), Decimal('0.51'), Decimal('94.99'), 4, 52)\n",
      "('1sc1u87B3KcsNPf0jcYwgQ', 'No Te Rayes', False, 179344, Decimal('0.67'), Decimal('0.61'), 2, Decimal('-4.93'), 0, Decimal('0.13'), Decimal('0.18'), Decimal('0.00'), Decimal('0.14'), Decimal('0.40'), Decimal('169.84'), 4, 53)\n",
      "('3KZCP2StVGdWkOKyRZNWA4', 'Es un Secreto', False, 192120, Decimal('0.84'), Decimal('0.77'), 6, Decimal('-4.96'), 0, Decimal('0.04'), Decimal('0.12'), Decimal('0.00'), Decimal('0.07'), Decimal('0.49'), Decimal('95.01'), 4, 54)\n",
      "('2mLTxNa0bwZX8eNBsuODLX', 'Una Vida Pasada', False, 218500, Decimal('0.77'), Decimal('0.68'), 7, Decimal('-5.54'), 0, Decimal('0.04'), Decimal('0.66'), Decimal('0.00'), Decimal('0.14'), Decimal('0.95'), Decimal('89.98'), 4, 55)\n",
      "('7chTH3GBjjAyagf0SPCZDL', 'SI SABE FERXXO', True, 152500, Decimal('0.73'), Decimal('0.83'), 8, Decimal('-2.04'), 0, Decimal('0.12'), Decimal('0.01'), Decimal('0.00'), Decimal('0.09'), Decimal('0.49'), Decimal('96.00'), 4, 56)\n",
      "('4jdwQISB7rhP1EO4JiwnJF', 'Gata Oficial', False, 234733, Decimal('0.77'), Decimal('0.67'), 11, Decimal('-7.44'), 1, Decimal('0.19'), Decimal('0.13'), Decimal('0.00'), Decimal('0.21'), Decimal('0.58'), Decimal('82.98'), 4, 57)\n",
      "('0zDO5avDZSXRwWzfuguIRb', 'LlorarÃ¡s', False, 228554, Decimal('0.70'), Decimal('0.88'), 8, Decimal('-6.28'), 1, Decimal('0.05'), Decimal('0.55'), Decimal('0.00'), Decimal('0.05'), Decimal('0.96'), Decimal('93.06'), 4, 58)\n",
      "('2naqSVQHgiaoEpxtkVOhmK', 'LlorarÃ¡s', False, 228554, Decimal('0.70'), Decimal('0.88'), 8, Decimal('-6.28'), 1, Decimal('0.05'), Decimal('0.55'), Decimal('0.00'), Decimal('0.05'), Decimal('0.96'), Decimal('93.06'), 4, 59)\n",
      "('0BoLTC9I3PYefcWd7FOhUh', 'Chismofilia', False, 178608, Decimal('0.83'), Decimal('0.87'), 0, Decimal('-6.07'), 1, Decimal('0.12'), Decimal('0.03'), Decimal('0.00'), Decimal('0.34'), Decimal('0.56'), Decimal('125.01'), 4, 60)\n",
      "('2NFWEVIzLcWARyI8BzgA23', 'Contentoso', False, 169887, Decimal('0.80'), Decimal('0.74'), 9, Decimal('-5.57'), 1, Decimal('0.10'), Decimal('0.16'), Decimal('0.00'), Decimal('0.06'), Decimal('0.65'), Decimal('93.98'), 4, 60)\n",
      "('5enCBu8FLjlLz60k9t15MA', 'Coqueta', False, 235020, Decimal('0.73'), Decimal('0.66'), 2, Decimal('-7.61'), 1, Decimal('0.06'), Decimal('0.12'), Decimal('0.00'), Decimal('0.10'), Decimal('0.87'), Decimal('180.06'), 3, 61)\n",
      "('6eDU6kAtlOLVEkVu4st1Bt', 'No Me Cansare', False, 162857, Decimal('0.67'), Decimal('0.74'), 1, Decimal('-4.63'), 0, Decimal('0.10'), Decimal('0.07'), Decimal('0.00'), Decimal('0.21'), Decimal('0.56'), Decimal('167.91'), 4, 62)\n",
      "('0O3U5iwTbiXCREMkvotJuN', 'EL AMOR DE SU VIDA', False, 165848, Decimal('0.62'), Decimal('0.83'), 9, Decimal('-3.07'), 1, Decimal('0.07'), Decimal('0.06'), Decimal('0.00'), Decimal('0.34'), Decimal('0.75'), Decimal('151.70'), 4, 63)\n",
      "('5HR7yfhSCeoOHRQN05XnZQ', 'QUE VUELVAS', False, 169418, Decimal('0.50'), Decimal('0.64'), 10, Decimal('-4.31'), 1, Decimal('0.04'), Decimal('0.19'), Decimal('0.00'), Decimal('0.11'), Decimal('0.78'), Decimal('162.54'), 4, 63)\n",
      "('2yzshFeBIwH8tWIqHEFLeD', 'un x100to', False, 194563, Decimal('0.57'), Decimal('0.72'), 9, Decimal('-4.09'), 1, Decimal('0.05'), Decimal('0.21'), Decimal('0.00'), Decimal('0.27'), Decimal('0.54'), Decimal('83.83'), 4, 63)\n",
      "('7tI8dRuH2Yc6RuoTjxo4dU', 'Who', False, 170887, Decimal('0.66'), Decimal('0.76'), 0, Decimal('-3.74'), 0, Decimal('0.03'), Decimal('0.00'), Decimal('0.00'), Decimal('0.19'), Decimal('0.84'), Decimal('116.03'), 4, 64)\n",
      "('2FFr0vdtqPBTK3RW0c7T5C', 'Cupido', False, 215000, Decimal('0.91'), Decimal('0.60'), 11, Decimal('-5.26'), 1, Decimal('0.16'), Decimal('0.09'), Decimal('0.00'), Decimal('0.26'), Decimal('0.65'), Decimal('96.04'), 4, 65)\n",
      "('6kPCcIAGoTeRrh8qrmKa90', 'Piel', True, 142041, Decimal('0.65'), Decimal('0.91'), 0, Decimal('-1.62'), 1, Decimal('0.06'), Decimal('0.42'), Decimal('0.00'), Decimal('0.14'), Decimal('0.82'), Decimal('168.00'), 4, 66)\n",
      "('0c82YIGpQ5dCaXpTNCk4sb', 'AlegrÃ\\xada', False, 165054, Decimal('0.58'), Decimal('0.66'), 9, Decimal('-2.34'), 0, Decimal('0.10'), Decimal('0.05'), Decimal('0.00'), Decimal('0.06'), Decimal('0.88'), Decimal('84.27'), 5, 66)\n",
      "('3fJHbMUnzceimOnNjp63fF', 'Primera Cita', False, 186455, Decimal('0.54'), Decimal('0.40'), 10, Decimal('-7.80'), 1, Decimal('0.07'), Decimal('0.60'), Decimal('0.00'), Decimal('0.10'), Decimal('0.49'), Decimal('157.85'), 3, 67)\n",
      "('6j5LtifAnuTjTYvml61yFZ', 'Un MillÃ³n de Primaveras', False, 173080, Decimal('0.73'), Decimal('0.34'), 3, Decimal('-8.52'), 1, Decimal('0.06'), Decimal('0.65'), Decimal('0.00'), Decimal('0.09'), Decimal('0.82'), Decimal('100.56'), 3, 68)\n",
      "('6VsqdsaY4oV06NODea0L0J', 'POR EL CONTRARIO (with Angela Aguilar & Leonardo Aguilar)', False, 185207, Decimal('0.48'), Decimal('0.67'), 11, Decimal('-4.96'), 0, Decimal('0.03'), Decimal('0.64'), Decimal('0.00'), Decimal('0.10'), Decimal('0.77'), Decimal('159.74'), 4, 69)\n",
      "('6dOtVTDdiauQNBQEDOtlAB', 'BIRDS OF A FEATHER', False, 210373, Decimal('0.75'), Decimal('0.51'), 2, Decimal('-10.17'), 1, Decimal('0.04'), Decimal('0.20'), Decimal('0.06'), Decimal('0.12'), Decimal('0.44'), Decimal('104.98'), 4, 70)\n",
      "('2J9B63FawlTaPdg4eH5X03', 'Loco', False, 204000, Decimal('0.82'), Decimal('0.57'), 6, Decimal('-5.97'), 1, Decimal('0.17'), Decimal('0.16'), Decimal('0.00'), Decimal('0.05'), Decimal('0.77'), Decimal('105.11'), 4, 71)\n",
      "('03IpZ9yqJlo3EIgDQUgBSF', 'Nueva Era', True, 217547, Decimal('0.56'), Decimal('0.72'), 0, Decimal('-3.17'), 1, Decimal('0.12'), Decimal('0.27'), Decimal('0.00'), Decimal('0.22'), Decimal('0.68'), Decimal('101.10'), 3, 72)\n",
      "('26y2gBrbiFJIOUjIlSQfdH', 'Vida De Rock', True, 181503, Decimal('0.62'), Decimal('0.59'), 0, Decimal('-7.01'), 0, Decimal('0.06'), Decimal('0.36'), Decimal('0.00'), Decimal('0.12'), Decimal('0.75'), Decimal('135.01'), 4, 72)\n",
      "('63rRgkllF0FDeZ9fpOkFKl', 'Imperio', True, 168711, Decimal('0.54'), Decimal('0.62'), 8, Decimal('-5.44'), 1, Decimal('0.20'), Decimal('0.29'), Decimal('0.00'), Decimal('0.11'), Decimal('0.40'), Decimal('132.94'), 3, 72)\n",
      "('5lXKHJ3kYg9aM0TdBgaZBe', 'Ameri', False, 199310, Decimal('0.62'), Decimal('0.68'), 4, Decimal('-4.67'), 0, Decimal('0.06'), Decimal('0.09'), Decimal('0.00'), Decimal('0.34'), Decimal('0.32'), Decimal('153.79'), 4, 72)\n",
      "('64sXViF6VlsihR0eJt0vUq', 'Cine ðŸš¬', True, 142957, Decimal('0.66'), Decimal('0.72'), 2, Decimal('-3.71'), 1, Decimal('0.25'), Decimal('0.12'), Decimal('0.00'), Decimal('0.10'), Decimal('0.48'), Decimal('179.65'), 4, 72)\n",
      "('4JtKlgBLKHtRTqixKHrrw8', 'Ã\\x81NGEL', False, 184095, Decimal('0.83'), Decimal('0.60'), 11, Decimal('-5.26'), 1, Decimal('0.04'), Decimal('0.29'), Decimal('0.00'), Decimal('0.17'), Decimal('0.87'), Decimal('127.92'), 4, 73)\n",
      "('0bYg9bo50gSsH3LtXe2SQn', 'All I Want for Christmas Is You', False, 241106, Decimal('0.34'), Decimal('0.63'), 7, Decimal('-7.46'), 1, Decimal('0.04'), Decimal('0.16'), Decimal('0.00'), Decimal('0.07'), Decimal('0.35'), Decimal('150.27'), 4, 74)\n",
      "('3tt9i3Hhzq84dPS8H7iSiJ', 'La Bachata', False, 162637, Decimal('0.84'), Decimal('0.68'), 7, Decimal('-5.33'), 0, Decimal('0.04'), Decimal('0.58'), Decimal('0.00'), Decimal('0.22'), Decimal('0.85'), Decimal('124.98'), 4, 75)\n",
      "('5MKbWaXeSQSmzmo7gPQha1', 'Amor de Vago', False, 188423, Decimal('0.65'), Decimal('0.51'), 2, Decimal('-7.27'), 1, Decimal('0.11'), Decimal('0.71'), Decimal('0.00'), Decimal('0.07'), Decimal('0.60'), Decimal('179.98'), 4, 76)\n",
      "('5AkLEnorFvb7WIJOGqKYVT', 'Si Un DÃ\\xada EstÃ¡s Sola | CROSSOVER #7', False, 164021, Decimal('0.63'), Decimal('0.51'), 1, Decimal('-4.87'), 1, Decimal('0.06'), Decimal('0.04'), Decimal('0.00'), Decimal('0.07'), Decimal('0.74'), Decimal('183.90'), 4, 77)\n",
      "('4dLLdfiniBhDP9dlJQIOi4', 'Perdonarte, Â¿Para QuÃ©?', False, 193933, Decimal('0.67'), Decimal('0.70'), 11, Decimal('-4.66'), 0, Decimal('0.03'), Decimal('0.17'), Decimal('0.00'), Decimal('0.04'), Decimal('0.62'), Decimal('90.04'), 4, 78)\n",
      "('7yrTny7FLWLbfIzsxoicWj', 'noviogangsta <3', True, 157209, Decimal('0.82'), Decimal('0.87'), 11, Decimal('-4.27'), 0, Decimal('0.04'), Decimal('0.25'), Decimal('0.00'), Decimal('0.25'), Decimal('0.94'), Decimal('128.92'), 4, 79)\n",
      "('0EVxchTHYIgx618OrpcrdQ', 'AGORA', False, 153564, Decimal('0.69'), Decimal('0.87'), 4, Decimal('-2.22'), 0, Decimal('0.09'), Decimal('0.25'), Decimal('0.00'), Decimal('0.34'), Decimal('0.63'), Decimal('169.86'), 4, 80)\n",
      "('0SoBfYjQHvL6cuWHtPUYnq', 'Hoy', False, 198495, Decimal('0.45'), Decimal('0.71'), 11, Decimal('-4.61'), 1, Decimal('0.04'), Decimal('0.24'), Decimal('0.00'), Decimal('0.15'), Decimal('0.66'), Decimal('176.16'), 4, 81)\n",
      "('1TyBUtMxdmRfXhW3MmbxtQ', 'QUE ME FALTE TODO', False, 165918, Decimal('0.73'), Decimal('0.86'), 3, Decimal('-5.12'), 0, Decimal('0.05'), Decimal('0.09'), Decimal('0.00'), Decimal('0.69'), Decimal('0.97'), Decimal('148.05'), 4, 82)\n",
      "('6vRQqxOhUFd78p5tL8jXr7', 'La Morocha', False, 134144, Decimal('0.76'), Decimal('0.77'), 7, Decimal('-5.75'), 1, Decimal('0.03'), Decimal('0.10'), Decimal('0.00'), Decimal('0.28'), Decimal('0.97'), Decimal('149.11'), 4, 82)\n",
      "('7JKptWv4YXmievid0HajID', 'HOLA PERDIDA', False, 166536, Decimal('0.48'), Decimal('0.79'), 2, Decimal('-5.86'), 0, Decimal('0.08'), Decimal('0.19'), Decimal('0.00'), Decimal('0.74'), Decimal('0.57'), Decimal('154.92'), 4, 82)\n",
      "('0u6JsFiEEXb6kaF0oqyeFi', 'Ya No Vuelvas (VersiÃ³n Cuarteto)', False, 204000, Decimal('0.74'), Decimal('0.90'), 1, Decimal('-4.58'), 1, Decimal('0.08'), Decimal('0.22'), Decimal('0.00'), Decimal('0.38'), Decimal('0.57'), Decimal('149.95'), 4, 82)\n",
      "('5aZ8rf2aPfZrnRWLA7bByo', 'PaÂ´Que Te Acuerdes | CROSSOVER #8', True, 172800, Decimal('0.80'), Decimal('0.68'), 9, Decimal('-4.80'), 1, Decimal('0.05'), Decimal('0.06'), Decimal('0.00'), Decimal('0.07'), Decimal('0.52'), Decimal('100.02'), 4, 83)\n",
      "('5DSMm0BZXlSvqArsTX00Ge', 'DOCTOR', False, 144148, Decimal('0.65'), Decimal('0.76'), 9, Decimal('-2.97'), 1, Decimal('0.03'), Decimal('0.08'), Decimal('0.00'), Decimal('0.07'), Decimal('0.72'), Decimal('90.99'), 4, 84)\n",
      "('2N0hVk2Ant8751xPZUjCV2', 'Loquita - Remix', False, 209846, Decimal('0.72'), Decimal('0.74'), 7, Decimal('-5.55'), 0, Decimal('0.06'), Decimal('0.21'), Decimal('0.00'), Decimal('0.28'), Decimal('0.79'), Decimal('90.04'), 4, 85)\n",
      "('39Pc4a04VgCtcc7m0XKi9M', 'TAMBIÃ‰N', True, 139546, Decimal('0.63'), Decimal('0.64'), 4, Decimal('-6.91'), 1, Decimal('0.21'), Decimal('0.29'), Decimal('0.00'), Decimal('0.11'), Decimal('0.93'), Decimal('119.94'), 4, 86)\n",
      "('1db75lVrSgDFZI1gZh8JlV', 'Princesa', False, 166241, Decimal('0.63'), Decimal('0.94'), 11, Decimal('-2.67'), 1, Decimal('0.05'), Decimal('0.19'), Decimal('0.00'), Decimal('0.15'), Decimal('0.94'), Decimal('157.02'), 4, 87)\n",
      "('42mrOMjkQb7jRKatu0bqg4', 'Mil Preguntas', False, 166973, Decimal('0.64'), Decimal('0.91'), 8, Decimal('-4.08'), 1, Decimal('0.08'), Decimal('0.24'), Decimal('0.00'), Decimal('0.22'), Decimal('0.83'), Decimal('76.02'), 4, 88)\n",
      "('2xbH0CuDbid800YW5nMPzR', 'SINVERGÃœENZA - con Angela Torres', False, 217490, Decimal('0.76'), Decimal('0.74'), 0, Decimal('-4.77'), 1, Decimal('0.03'), Decimal('0.18'), Decimal('0.00'), Decimal('0.17'), Decimal('0.65'), Decimal('93.96'), 4, 89)\n",
      "('1MCArCVJUgBUrBnzUoZqmq', 'Dimelo Mami', False, 154806, Decimal('0.83'), Decimal('0.78'), 9, Decimal('-5.24'), 0, Decimal('0.07'), Decimal('0.06'), Decimal('0.00'), Decimal('0.10'), Decimal('0.34'), Decimal('100.05'), 4, 90)\n",
      "('6ViJgiKfyqfs52x2pGhuPF', 'DespÃ³jate Vol.2', False, 240435, Decimal('0.67'), Decimal('0.72'), 1, Decimal('-6.03'), 0, Decimal('0.04'), Decimal('0.10'), Decimal('0.00'), Decimal('0.18'), Decimal('0.77'), Decimal('135.06'), 3, 91)\n",
      "('4eqXTlaHeK6xkM1fRx9wR5', 'Conmigo Te GustÃ³', False, 72937, Decimal('0.74'), Decimal('0.61'), 9, Decimal('-9.02'), 1, Decimal('0.07'), Decimal('0.31'), Decimal('0.00'), Decimal('0.05'), Decimal('0.96'), Decimal('84.02'), 4, 92)\n",
      "('6VbNzSrjWjTMfrDLJ6Jt5D', 'La Piel Bien Caliente', False, 80000, Decimal('0.69'), Decimal('0.57'), 11, Decimal('-8.70'), 0, Decimal('0.09'), Decimal('0.15'), Decimal('0.00'), Decimal('0.33'), Decimal('0.88'), Decimal('164.02'), 4, 92)\n",
      "('7khla88C1xwKeI6qzwcOuH', 'No Va a Venir', False, 68874, Decimal('0.63'), Decimal('0.63'), 10, Decimal('-8.93'), 1, Decimal('0.04'), Decimal('0.10'), Decimal('0.00'), Decimal('0.70'), Decimal('0.85'), Decimal('84.16'), 4, 92)\n",
      "('3KeYEr9ogMBemsOfQIJmZp', 'Cuando Te Vi | CROSSOVER #5', True, 218400, Decimal('0.81'), Decimal('0.77'), 6, Decimal('-3.10'), 0, Decimal('0.05'), Decimal('0.16'), Decimal('0.00'), Decimal('0.10'), Decimal('0.65'), Decimal('100.00'), 4, 93)\n",
      "('4jn3R3KF5hx2fCiXlj89yE', 'FLECHAZO EN EL CENTRO', False, 185241, Decimal('0.75'), Decimal('0.64'), 5, Decimal('-6.69'), 0, Decimal('0.04'), Decimal('0.13'), Decimal('0.00'), Decimal('0.10'), Decimal('0.46'), Decimal('104.95'), 4, 94)\n",
      "('3cWo162YkfLIFyB3DWbVoH', 'Tu Foto - En Vivo', False, 180385, Decimal('0.56'), Decimal('0.80'), 11, Decimal('-5.13'), 0, Decimal('0.07'), Decimal('0.15'), Decimal('0.00'), Decimal('0.19'), Decimal('0.34'), Decimal('153.67'), 4, 95)\n",
      "('4xXvGEiTkoaIkOMWa4u3Mn', 'COLOCARTELO', False, 176250, Decimal('0.86'), Decimal('0.70'), 0, Decimal('-3.48'), 0, Decimal('0.06'), Decimal('0.43'), Decimal('0.00'), Decimal('0.04'), Decimal('0.81'), Decimal('96.05'), 4, 96)\n",
      "('42wdz3j7gstgUuhoFLCXqd', 'PELIGROSA', True, 134930, Decimal('0.76'), Decimal('0.52'), 6, Decimal('-7.43'), 0, Decimal('0.06'), Decimal('0.22'), Decimal('0.00'), Decimal('0.08'), Decimal('0.80'), Decimal('100.03'), 4, 97)\n",
      "('0ZS96pPRLyGUViVi5PWCAR', 'APAGA EL CEL', True, 184806, Decimal('0.70'), Decimal('0.50'), 9, Decimal('-7.53'), 0, Decimal('0.04'), Decimal('0.27'), Decimal('0.00'), Decimal('0.06'), Decimal('0.48'), Decimal('100.03'), 4, 97)\n",
      "('27bcRgu0wnDteieWlLCxc8', 'TU TA RICA', True, 121200, Decimal('0.76'), Decimal('0.51'), 3, Decimal('-6.76'), 0, Decimal('0.07'), Decimal('0.29'), Decimal('0.00'), Decimal('0.18'), Decimal('0.61'), Decimal('99.99'), 4, 97)\n",
      "('2esZG2XFtuoWWA9AfDvSxy', 'Gata Only', True, 222000, Decimal('0.79'), Decimal('0.50'), 8, Decimal('-8.45'), 0, Decimal('0.05'), Decimal('0.44'), Decimal('0.00'), Decimal('0.09'), Decimal('0.66'), Decimal('99.99'), 4, 97)\n",
      "('2RmtEc2ZNDCzAU3vH0AbKx', 'Ojos Verdes', False, 142410, Decimal('0.58'), Decimal('0.83'), 4, Decimal('-2.65'), 1, Decimal('0.04'), Decimal('0.22'), Decimal('0.00'), Decimal('0.15'), Decimal('0.95'), Decimal('167.95'), 4, 98)\n",
      "('0CgpCtEPvyDizcg2p47VrU', 'A las Nueve', False, 207533, Decimal('0.63'), Decimal('0.80'), 4, Decimal('-5.65'), 0, Decimal('0.03'), Decimal('0.24'), Decimal('0.00'), Decimal('0.31'), Decimal('0.83'), Decimal('129.93'), 4, 99)\n",
      "('6MuJUSYCqA4FpMogUHzb2R', 'Ese Maldito Momento', False, 185866, Decimal('0.64'), Decimal('0.62'), 11, Decimal('-6.36'), 0, Decimal('0.03'), Decimal('0.47'), Decimal('0.00'), Decimal('0.09'), Decimal('0.65'), Decimal('139.93'), 4, 99)\n",
      "('2bNCiY24Eh4saMcc23bvUN', 'ADIÃ“S', True, 160856, Decimal('0.75'), Decimal('0.77'), 9, Decimal('-4.18'), 0, Decimal('0.05'), Decimal('0.37'), Decimal('0.00'), Decimal('0.20'), Decimal('0.51'), Decimal('98.01'), 4, 100)\n",
      "('2AFC9ad4nGauS1cgm7FCqU', 'UN SIGLO SIN TI', False, 154800, Decimal('0.64'), Decimal('0.91'), 10, Decimal('-5.33'), 1, Decimal('0.09'), Decimal('0.14'), Decimal('0.00'), Decimal('0.11'), Decimal('0.92'), Decimal('74.99'), 4, 101)\n",
      "('6CzozhzNVBfxmUthlZiYm4', 'DUELE', False, 145518, Decimal('0.77'), Decimal('0.45'), 11, Decimal('-8.89'), 1, Decimal('0.19'), Decimal('0.36'), Decimal('0.00'), Decimal('0.11'), Decimal('0.15'), Decimal('131.99'), 5, 102)\n",
      "('3oNnzH6hmqIGIhJ1NcHlrh', 'CORAZÃ“N VACÃ\\x8dO', False, 160535, Decimal('0.68'), Decimal('0.79'), 1, Decimal('-4.80'), 1, Decimal('0.06'), Decimal('0.33'), Decimal('0.00'), Decimal('0.30'), Decimal('0.40'), Decimal('98.09'), 4, 103)\n",
      "('7eNwwoxDR8KVzNAuGvliAO', 'Kyoto', True, 247840, Decimal('0.73'), Decimal('0.75'), 9, Decimal('-4.27'), 0, Decimal('0.05'), Decimal('0.24'), Decimal('0.00'), Decimal('0.57'), Decimal('0.41'), Decimal('94.98'), 4, 104)\n",
      "('2N9LvPp7o61eerdZEyKQ19', 'Me Voy', False, 131947, Decimal('0.59'), Decimal('0.68'), 0, Decimal('-4.19'), 1, Decimal('0.03'), Decimal('0.29'), Decimal('0.00'), Decimal('0.17'), Decimal('0.65'), Decimal('86.04'), 4, 105)\n",
      "('0Cs2ANiGsCOQLKnCrNJ6hA', 'La_Playlist.mpeg', False, 149571, Decimal('0.75'), Decimal('0.84'), 5, Decimal('-2.58'), 0, Decimal('0.06'), Decimal('0.02'), Decimal('0.00'), Decimal('0.11'), Decimal('0.89'), Decimal('139.95'), 4, 106)\n",
      "('6PhRhocBXP4y7NpciGmzra', 'DespuÃ©s De La 1', True, 177600, Decimal('0.81'), Decimal('0.58'), 6, Decimal('-5.09'), 0, Decimal('0.06'), Decimal('0.03'), Decimal('0.02'), Decimal('0.09'), Decimal('0.53'), Decimal('99.97'), 4, 107)\n",
      "('0rqH7y08F8C8lcVBI8n2Sq', 'DÃ©jame Pensar', True, 211286, Decimal('0.76'), Decimal('0.67'), 7, Decimal('-4.81'), 1, Decimal('0.05'), Decimal('0.11'), Decimal('0.00'), Decimal('0.12'), Decimal('0.52'), Decimal('100.00'), 4, 107)\n",
      "('5vHWh24GAsXJ7tnIu8v7UN', 'Por Mil Noches', False, 283884, Decimal('0.55'), Decimal('0.67'), 1, Decimal('-7.49'), 0, Decimal('0.03'), Decimal('0.02'), Decimal('0.00'), Decimal('0.19'), Decimal('0.29'), Decimal('111.97'), 4, 108)\n",
      "('45DB3yqxYGAnKN3YmLWbAX', 'Running Wild', False, 151646, Decimal('0.49'), Decimal('0.71'), 8, Decimal('-4.22'), 1, Decimal('0.03'), Decimal('0.00'), Decimal('0.00'), Decimal('0.15'), Decimal('0.32'), Decimal('146.92'), 4, 109)\n",
      "('6Es8Sk3xe1HiJ2MXCfHHwR', 'La_Original.mp3', False, 140625, Decimal('0.83'), Decimal('0.81'), 5, Decimal('-2.75'), 0, Decimal('0.04'), Decimal('0.08'), Decimal('0.00'), Decimal('0.11'), Decimal('0.91'), Decimal('128.06'), 4, 110)\n",
      "('61qPUnazSdkvua4wgA4L8C', 'Como Eran Las Cosas', False, 240520, Decimal('0.70'), Decimal('0.45'), 1, Decimal('-9.11'), 1, Decimal('0.03'), Decimal('0.46'), Decimal('0.00'), Decimal('0.09'), Decimal('0.59'), Decimal('94.98'), 4, 111)\n",
      "('0iwmZVScrpLcbbfHbdJGT0', 'Como Eran Las Cosas', False, 242520, Decimal('0.70'), Decimal('0.45'), 8, Decimal('-9.10'), 1, Decimal('0.03'), Decimal('0.45'), Decimal('0.00'), Decimal('0.09'), Decimal('0.57'), Decimal('95.00'), 4, 112)\n",
      "('3tiJUOfAEqIrLFRQgGgdoY', 'Un Finde | CROSSOVER #2', False, 162500, Decimal('0.53'), Decimal('0.66'), 11, Decimal('-3.62'), 1, Decimal('0.06'), Decimal('0.06'), Decimal('0.00'), Decimal('0.22'), Decimal('0.80'), Decimal('192.06'), 4, 113)\n",
      "('2wEhjcnre2PU36KQNBLXCC', 'SE DICE DE MI', True, 136000, Decimal('0.71'), Decimal('0.52'), 2, Decimal('-7.56'), 1, Decimal('0.23'), Decimal('0.11'), Decimal('0.00'), Decimal('0.50'), Decimal('0.82'), Decimal('180.08'), 4, 114)\n",
      "('1R3ubqAHKHE6f64Hz37q8h', 'Un MontÃ³n de Estrellas - En Vivo Gran Rex', False, 165326, Decimal('0.54'), Decimal('0.79'), 10, Decimal('-5.93'), 1, Decimal('0.04'), Decimal('0.15'), Decimal('0.00'), Decimal('0.92'), Decimal('0.86'), Decimal('89.40'), 4, 115)\n",
      "('5g2Jqe1D2qnZc6LcvWL3e1', 'Te Vas a Arrepentir', False, 110937, Decimal('0.70'), Decimal('0.46'), 0, Decimal('-9.12'), 1, Decimal('0.06'), Decimal('0.44'), Decimal('0.00'), Decimal('0.06'), Decimal('0.96'), Decimal('92.12'), 4, 116)\n",
      "('0T25HZGE0WwyELWBlXQVbY', 'PONTE PERRO | DJ TAO Turreo Sessions #24', False, 149504, Decimal('0.68'), Decimal('0.58'), 11, Decimal('-5.57'), 1, Decimal('0.24'), Decimal('0.14'), Decimal('0.00'), Decimal('0.27'), Decimal('0.75'), Decimal('172.22'), 4, 117)\n",
      "('1yg1tWFaYajN4b7vsKtYRE', 'El Doctorado', False, 133829, Decimal('0.71'), Decimal('0.68'), 10, Decimal('-6.32'), 1, Decimal('0.06'), Decimal('0.63'), Decimal('0.00'), Decimal('0.07'), Decimal('0.63'), Decimal('77.03'), 4, 118)\n",
      "('6hLsMjw00j3HGrkUjKwmgo', 'A200', True, 206659, Decimal('0.75'), Decimal('0.86'), 2, Decimal('-3.91'), 0, Decimal('0.04'), Decimal('0.06'), Decimal('0.00'), Decimal('0.33'), Decimal('0.77'), Decimal('118.47'), 4, 119)\n",
      "('5eqZZLLZ4CkuUznPCOimsi', 'Cosa Linda', True, 150000, Decimal('0.84'), Decimal('0.65'), 9, Decimal('-4.32'), 0, Decimal('0.07'), Decimal('0.20'), Decimal('0.00'), Decimal('0.24'), Decimal('0.66'), Decimal('95.94'), 4, 120)\n",
      "('2Bf7izPNpcTVNL41bdyFic', 'Zoom Zoom', True, 146406, Decimal('0.83'), Decimal('0.58'), 9, Decimal('-7.95'), 0, Decimal('0.15'), Decimal('0.53'), Decimal('0.00'), Decimal('0.08'), Decimal('0.81'), Decimal('99.94'), 4, 120)\n",
      "('00BjWhfYjpmRqKd1qCzdM0', 'Bentley', True, 144000, Decimal('0.83'), Decimal('0.73'), 9, Decimal('-3.86'), 1, Decimal('0.13'), Decimal('0.33'), Decimal('0.00'), Decimal('0.08'), Decimal('0.54'), Decimal('99.99'), 4, 120)\n",
      "('4RtLVq34QEU3ckAl8Tdyro', 'Sola Suelta Soltera', False, 163200, Decimal('0.82'), Decimal('0.58'), 11, Decimal('-4.84'), 1, Decimal('0.14'), Decimal('0.07'), Decimal('0.00'), Decimal('0.12'), Decimal('0.51'), Decimal('100.03'), 4, 120)\n",
      "('2SuosMcETUjDfBRobLLTQm', 'CHIKA MALA', True, 174412, Decimal('0.64'), Decimal('0.49'), 3, Decimal('-7.83'), 0, Decimal('0.18'), Decimal('0.02'), Decimal('0.00'), Decimal('0.16'), Decimal('0.76'), Decimal('99.33'), 4, 121)\n",
      "('3ps5MDjfpA3wAbKMitNWgM', 'MIRALA', True, 146633, Decimal('0.81'), Decimal('0.74'), 6, Decimal('-1.68'), 1, Decimal('0.12'), Decimal('0.06'), Decimal('0.00'), Decimal('0.08'), Decimal('0.80'), Decimal('87.99'), 4, 122)\n",
      "('5Uptvz6j1sjDKxidAcnH2L', 'SI NO ES CONTIGO', True, 156000, Decimal('0.76'), Decimal('0.63'), 5, Decimal('-5.64'), 0, Decimal('0.04'), Decimal('0.09'), Decimal('0.23'), Decimal('0.21'), Decimal('0.78'), Decimal('100.02'), 4, 123)\n",
      "('2ajOfRsIVgVO4pmjeCPIzp', 'MY LOVE', True, 172755, Decimal('0.64'), Decimal('0.56'), 9, Decimal('-5.70'), 1, Decimal('0.03'), Decimal('0.10'), Decimal('0.00'), Decimal('0.25'), Decimal('0.38'), Decimal('100.03'), 4, 124)\n",
      "('4MAv7MqIlcaTBHGiUXIWiw', 'SI NO ES CONTIGO - REMIX', True, 254500, Decimal('0.73'), Decimal('0.74'), 0, Decimal('-4.28'), 1, Decimal('0.03'), Decimal('0.05'), Decimal('0.00'), Decimal('0.13'), Decimal('0.68'), Decimal('100.00'), 4, 125)\n",
      "('6UNLWd8LUk9nNgmU6AcXct', 'CHINGON', False, 134778, Decimal('0.90'), Decimal('0.80'), 5, Decimal('-3.09'), 1, Decimal('0.20'), Decimal('0.20'), Decimal('0.00'), Decimal('0.12'), Decimal('0.59'), Decimal('130.08'), 4, 126)\n",
      "('3l6CjeIBGZuoCxNS88APlI', 'SATIROLOGÃ\\x8dA', True, 154721, Decimal('0.65'), Decimal('0.83'), 1, Decimal('-6.34'), 0, Decimal('0.04'), Decimal('0.12'), Decimal('0.00'), Decimal('0.36'), Decimal('0.34'), Decimal('95.02'), 4, 127)\n",
      "('0vfPiExVUcECwzpQ3vfV0R', 'Tattoo', False, 201027, Decimal('0.60'), Decimal('0.87'), 8, Decimal('-5.52'), 1, Decimal('0.10'), Decimal('0.41'), Decimal('0.00'), Decimal('0.12'), Decimal('0.80'), Decimal('148.02'), 4, 128)\n",
      "('2kvpHbQHp9QmcG9WhyLwco', 'Daytona', True, 173785, Decimal('0.78'), Decimal('0.74'), 1, Decimal('-5.52'), 0, Decimal('0.06'), Decimal('0.10'), Decimal('0.00'), Decimal('0.07'), Decimal('0.55'), Decimal('97.01'), 4, 129)\n",
      "('21hsqOOUfdSjHi3SVz8oyv', 'No Ponga Excusas', False, 164956, Decimal('0.61'), Decimal('0.51'), 6, Decimal('-7.86'), 0, Decimal('0.19'), Decimal('0.39'), Decimal('0.29'), Decimal('0.12'), Decimal('0.60'), Decimal('99.70'), 4, 130)\n",
      "('3RpbyzSdjlKeEEnVbzhCRE', 'Amigos Y Enemigos Almighty', False, 150024, Decimal('0.81'), Decimal('0.69'), 6, Decimal('-5.04'), 1, Decimal('0.12'), Decimal('0.20'), Decimal('0.00'), Decimal('0.11'), Decimal('0.32'), Decimal('114.87'), 4, 131)\n",
      "('4aOp0PlHbZl4lPIsi5CyLO', 'Mi AutomÃ³vil', True, 140112, Decimal('0.85'), Decimal('0.76'), 11, Decimal('-4.79'), 1, Decimal('0.06'), Decimal('0.01'), Decimal('0.00'), Decimal('0.06'), Decimal('0.78'), Decimal('99.03'), 4, 132)\n",
      "('1hkSF9s6moQBLEeRcdtHgF', 'Gracias A Dios', True, 158310, Decimal('0.87'), Decimal('0.87'), 10, Decimal('-3.72'), 0, Decimal('0.06'), Decimal('0.01'), Decimal('0.00'), Decimal('0.28'), Decimal('0.68'), Decimal('102.06'), 4, 132)\n",
      "('0zIWfaIRtpt2pO9LK5vU33', 'RIKISHI (feat. DJ Acres)', True, 128707, Decimal('0.86'), Decimal('0.68'), 10, Decimal('-5.90'), 0, Decimal('0.10'), Decimal('0.11'), Decimal('0.00'), Decimal('0.20'), Decimal('0.90'), Decimal('102.00'), 4, 132)\n",
      "('5MmwcFIcD3ZuGE8yRloi3S', 'Boomerang', False, 184463, Decimal('0.78'), Decimal('0.68'), 0, Decimal('-4.86'), 0, Decimal('0.06'), Decimal('0.43'), Decimal('0.00'), Decimal('0.10'), Decimal('0.79'), Decimal('167.95'), 4, 133)\n",
      "('3uI1I2juxVWkrjSHdd9mVh', 'NO COOPERAMOS', True, 298775, Decimal('0.84'), Decimal('0.92'), 4, Decimal('-5.92'), 0, Decimal('0.10'), Decimal('0.07'), Decimal('0.00'), Decimal('0.64'), Decimal('0.64'), Decimal('98.01'), 4, 134)\n",
      "('1LiN0Z98FkR1t0m8KmLcAH', 'Amanece', False, 190004, Decimal('0.79'), Decimal('0.63'), 8, Decimal('-5.55'), 0, Decimal('0.04'), Decimal('0.44'), Decimal('0.00'), Decimal('0.16'), Decimal('0.89'), Decimal('94.04'), 4, 135)\n",
      "('0qd7ACCc9z2mlTYgPRcnUJ', 'Tuss', True, 221962, Decimal('0.80'), Decimal('0.61'), 6, Decimal('-4.72'), 1, Decimal('0.08'), Decimal('0.30'), Decimal('0.00'), Decimal('0.11'), Decimal('0.62'), Decimal('96.02'), 4, 136)\n",
      "('6Dj22jpOiUm5DMjjEdeImQ', 'BEIA (Jere Klein)', False, 131650, Decimal('0.69'), Decimal('0.54'), 0, Decimal('-4.65'), 1, Decimal('0.41'), Decimal('0.00'), Decimal('0.00'), Decimal('0.14'), Decimal('0.86'), Decimal('99.78'), 4, 137)\n",
      "('2nwa6nS5lXnsvwX48RWkbS', 'Que Te Vaya Bien', False, 175694, Decimal('0.64'), Decimal('0.94'), 2, Decimal('-2.63'), 1, Decimal('0.06'), Decimal('0.09'), Decimal('0.00'), Decimal('0.19'), Decimal('0.87'), Decimal('150.07'), 4, 138)\n",
      "('604IC2o3T3bxPu6C7Pimd7', 'QUE LE DE', False, 165631, Decimal('0.73'), Decimal('0.70'), 11, Decimal('-5.38'), 1, Decimal('0.07'), Decimal('0.34'), Decimal('0.00'), Decimal('0.15'), Decimal('0.82'), Decimal('97.01'), 4, 139)\n",
      "('69vi5SUSJJF0CQJCZngFFS', 'Parte & Choke', True, 205227, Decimal('0.73'), Decimal('0.67'), 5, Decimal('-3.83'), 0, Decimal('0.31'), Decimal('0.01'), Decimal('0.00'), Decimal('0.19'), Decimal('0.86'), Decimal('117.35'), 5, 140)\n",
      "('5mD7jI5GrDmsadKibEYho2', 'Toky', True, 160937, Decimal('0.90'), Decimal('0.64'), 1, Decimal('-8.70'), 1, Decimal('0.56'), Decimal('0.16'), Decimal('0.00'), Decimal('0.07'), Decimal('0.96'), Decimal('90.82'), 4, 141)\n",
      "('5cZIDOH5DaLSXFqo21G24Z', 'Robando', False, 154000, Decimal('0.78'), Decimal('0.85'), 11, Decimal('-5.83'), 0, Decimal('0.04'), Decimal('0.06'), Decimal('0.00'), Decimal('0.62'), Decimal('0.97'), Decimal('93.04'), 4, 142)\n",
      "('6uIIdjYTxxpWOyWuVXrKQO', 'Que Onda', True, 191466, Decimal('0.81'), Decimal('0.94'), 10, Decimal('-4.86'), 0, Decimal('0.04'), Decimal('0.18'), Decimal('0.00'), Decimal('0.14'), Decimal('0.94'), Decimal('124.93'), 3, 143)\n",
      "('1HWbpfmzt1YplLceHgirCv', 'Virgen', False, 273763, Decimal('0.66'), Decimal('0.76'), 8, Decimal('-4.90'), 1, Decimal('0.04'), Decimal('0.73'), Decimal('0.00'), Decimal('0.12'), Decimal('0.77'), Decimal('90.84'), 4, 144)\n",
      "('0fea68AdmYNygeTGI4RC18', 'LA CANCIÃ“N', False, 242573, Decimal('0.76'), Decimal('0.65'), 7, Decimal('-5.80'), 1, Decimal('0.32'), Decimal('0.15'), Decimal('0.00'), Decimal('0.11'), Decimal('0.43'), Decimal('176.09'), 4, 145)\n",
      "('1C5jDtYftdFtHNG6iLVyCA', 'La Jama', True, 224006, Decimal('0.71'), Decimal('0.75'), 6, Decimal('-2.28'), 1, Decimal('0.16'), Decimal('0.01'), Decimal('0.00'), Decimal('0.06'), Decimal('0.66'), Decimal('179.99'), 4, 146)\n",
      "('27ze5t5tIDPlVits0KRbxT', 'El Perdedor', False, 215213, Decimal('0.78'), Decimal('0.59'), 5, Decimal('-10.65'), 1, Decimal('0.03'), Decimal('0.33'), Decimal('0.00'), Decimal('0.12'), Decimal('0.89'), Decimal('128.04'), 4, 147)\n",
      "('5jt25aFjW2kNoBqaEVaz5W', 'LA INOCENTE', True, 202173, Decimal('0.76'), Decimal('0.79'), 5, Decimal('-3.46'), 0, Decimal('0.06'), Decimal('0.31'), Decimal('0.00'), Decimal('0.07'), Decimal('0.46'), Decimal('91.91'), 4, 148)\n",
      "('7iUtQNMRB8ZkKC4AmEuCJC', 'LA FALDA', True, 174229, Decimal('0.80'), Decimal('0.74'), 7, Decimal('-4.26'), 1, Decimal('0.07'), Decimal('0.37'), Decimal('0.01'), Decimal('0.19'), Decimal('0.27'), Decimal('103.01'), 4, 149)\n",
      "('6sRQjwLPdzADXhgZeKy6PQ', 'TÃº Con El', True, 301441, Decimal('0.82'), Decimal('0.78'), 7, Decimal('-6.31'), 1, Decimal('0.05'), Decimal('0.20'), Decimal('0.00'), Decimal('0.26'), Decimal('0.96'), Decimal('95.34'), 4, 150)\n",
      "('5mg6sU732O35VMfCYk3lmX', 'Ven DevÃ³rame Otra Vez', False, 314013, Decimal('0.70'), Decimal('0.72'), 5, Decimal('-5.35'), 0, Decimal('0.04'), Decimal('0.63'), Decimal('0.00'), Decimal('0.31'), Decimal('0.96'), Decimal('84.41'), 4, 151)\n",
      "('1aUq8rjW1EwkAkMri4VfJy', 'LOKERA', True, 197101, Decimal('0.84'), Decimal('0.83'), 11, Decimal('-2.66'), 0, Decimal('0.05'), Decimal('0.21'), Decimal('0.00'), Decimal('0.08'), Decimal('0.58'), Decimal('102.03'), 4, 152)\n",
      "('4OLT65TRsOx3Iv1TlCcQVb', 'Presidente', True, 181064, Decimal('0.73'), Decimal('0.83'), 11, Decimal('-4.15'), 1, Decimal('0.06'), Decimal('0.12'), Decimal('0.00'), Decimal('0.12'), Decimal('0.58'), Decimal('105.15'), 1, 153)\n",
      "('6X6m4xmdFcz31p1h7Qg68c', 'EL LOKERON', True, 145473, Decimal('0.72'), Decimal('0.69'), 7, Decimal('-7.17'), 0, Decimal('0.05'), Decimal('0.57'), Decimal('0.00'), Decimal('0.09'), Decimal('0.94'), Decimal('120.21'), 3, 154)\n",
      "('5lKFO0PrOC9jmOlPEdjHsL', 'DOS DÃ\\x8dAS', True, 153928, Decimal('0.75'), Decimal('0.51'), 1, Decimal('-9.12'), 1, Decimal('0.09'), Decimal('0.78'), Decimal('0.00'), Decimal('0.22'), Decimal('0.93'), Decimal('109.94'), 3, 154)\n",
      "('6HrALJOMsfPCCbUo5cJCON', 'ESCAPATE', True, 144674, Decimal('0.82'), Decimal('0.45'), 5, Decimal('-10.25'), 0, Decimal('0.05'), Decimal('0.51'), Decimal('0.00'), Decimal('0.19'), Decimal('0.69'), Decimal('120.09'), 1, 154)\n",
      "('2lAUq68F2bt7Kc218n9FPp', 'AY MAMÃ\\x81', True, 163031, Decimal('0.67'), Decimal('0.76'), 4, Decimal('-6.30'), 0, Decimal('0.12'), Decimal('0.37'), Decimal('0.00'), Decimal('0.35'), Decimal('0.73'), Decimal('148.85'), 4, 154)\n",
      "('3IEvQ1CzszUJtTRLmmMJ2X', '5-jul', False, 174500, Decimal('0.83'), Decimal('0.60'), 10, Decimal('-8.36'), 1, Decimal('0.04'), Decimal('0.38'), Decimal('0.00'), Decimal('0.14'), Decimal('0.96'), Decimal('112.00'), 3, 154)\n",
      "('7AysIqSEDiwP4CUsAXJwrk', 'PRIMO', True, 164991, Decimal('0.66'), Decimal('0.81'), 3, Decimal('-6.28'), 0, Decimal('0.03'), Decimal('0.36'), Decimal('0.00'), Decimal('0.13'), Decimal('0.70'), Decimal('144.89'), 3, 154)\n",
      "('1wsDxqEDpsvNCatbXHjOje', 'BLANCA ROSITA Y MARIA', True, 200658, Decimal('0.77'), Decimal('0.66'), 11, Decimal('-6.80'), 0, Decimal('0.06'), Decimal('0.30'), Decimal('0.00'), Decimal('0.14'), Decimal('0.68'), Decimal('129.99'), 3, 154)\n",
      "('7qXptgpZGo8AFPhJCBVLFE', 'LINDA', True, 224210, Decimal('0.91'), Decimal('0.76'), 6, Decimal('-6.71'), 0, Decimal('0.05'), Decimal('0.14'), Decimal('0.00'), Decimal('0.16'), Decimal('0.95'), Decimal('124.98'), 4, 154)\n",
      "('0zLA16D7GXoT8K7XFaiCv3', 'TU SI', True, 181921, Decimal('0.85'), Decimal('0.51'), 8, Decimal('-8.90'), 0, Decimal('0.04'), Decimal('0.46'), Decimal('0.00'), Decimal('0.11'), Decimal('0.82'), Decimal('114.02'), 3, 154)\n",
      "('7sd6zMrgGpEa7NkQm9TRrg', 'NADIE', True, 197031, Decimal('0.70'), Decimal('0.84'), 7, Decimal('-4.71'), 1, Decimal('0.11'), Decimal('0.47'), Decimal('0.00'), Decimal('0.12'), Decimal('0.53'), Decimal('92.60'), 4, 155)\n",
      "('0NsGFMIo2aNbAkJu48ndaf', 'Morena Canela', True, 178336, Decimal('0.66'), Decimal('0.61'), 10, Decimal('-6.98'), 1, Decimal('0.03'), Decimal('0.11'), Decimal('0.00'), Decimal('0.09'), Decimal('0.47'), Decimal('119.89'), 3, 156)\n",
      "('2aYZaN5SmkRDLsrrV8GkBQ', 'LA PATRULLA', True, 130614, Decimal('0.72'), Decimal('0.74'), 6, Decimal('-7.22'), 0, Decimal('0.06'), Decimal('0.68'), Decimal('0.00'), Decimal('0.18'), Decimal('0.89'), Decimal('132.73'), 3, 157)\n",
      "('02cRoSfWU3RJNFyU3o4lhV', 'SANTAL 33', True, 190303, Decimal('0.72'), Decimal('0.76'), 6, Decimal('-6.06'), 0, Decimal('0.09'), Decimal('0.67'), Decimal('0.00'), Decimal('0.15'), Decimal('0.74'), Decimal('125.10'), 3, 157)\n",
      "('5GTBdEjZe7zEDp1N0eCZE4', 'HOLLYWOOD', True, 284864, Decimal('0.71'), Decimal('0.68'), 3, Decimal('-7.60'), 0, Decimal('0.19'), Decimal('0.70'), Decimal('0.00'), Decimal('0.13'), Decimal('0.55'), Decimal('94.98'), 3, 157)\n",
      "('1jIirpaACmgb4nTYfywys4', 'BELANOVA', True, 164822, Decimal('0.73'), Decimal('0.81'), 1, Decimal('-5.85'), 1, Decimal('0.06'), Decimal('0.56'), Decimal('0.00'), Decimal('0.21'), Decimal('0.81'), Decimal('129.84'), 3, 157)\n",
      "('0BiDnJFB3TlRB6aji7jUz3', 'Rey Sin Reina', False, 150523, Decimal('0.53'), Decimal('0.36'), 3, Decimal('-6.61'), 1, Decimal('0.06'), Decimal('0.29'), Decimal('0.00'), Decimal('0.14'), Decimal('0.66'), Decimal('169.65'), 3, 158)\n",
      "('5LhI8m7n8xlQmNe3b7Rwis', 'Madonna', True, 187087, Decimal('0.73'), Decimal('0.87'), 0, Decimal('-5.97'), 1, Decimal('0.03'), Decimal('0.04'), Decimal('0.00'), Decimal('0.35'), Decimal('0.66'), Decimal('128.03'), 3, 159)\n",
      "('4ZOkfHC38nxSeSqzGE5HFr', 'PIÃ‰NSALO', True, 240669, Decimal('0.72'), Decimal('0.54'), 2, Decimal('-7.80'), 0, Decimal('0.03'), Decimal('0.45'), Decimal('0.00'), Decimal('0.21'), Decimal('0.36'), Decimal('97.54'), 3, 160)\n",
      "('6RcAHyC5sAUIbPTkhOQwd8', 'Y LLORO', True, 179013, Decimal('0.73'), Decimal('0.59'), 7, Decimal('-7.12'), 1, Decimal('0.04'), Decimal('0.42'), Decimal('0.00'), Decimal('0.17'), Decimal('0.77'), Decimal('77.48'), 4, 160)\n",
      "('2CshODtf7iwe3pKlPmEWF5', 'TRES BOTELLAS', True, 162648, Decimal('0.72'), Decimal('0.59'), 11, Decimal('-7.69'), 0, Decimal('0.03'), Decimal('0.25'), Decimal('0.00'), Decimal('0.20'), Decimal('0.59'), Decimal('97.48'), 4, 160)\n",
      "('5AH31dDNgxCMGDdxubNNn4', 'NEL', True, 149073, Decimal('0.69'), Decimal('0.48'), 7, Decimal('-6.34'), 0, Decimal('0.20'), Decimal('0.52'), Decimal('0.00'), Decimal('0.07'), Decimal('0.36'), Decimal('100.03'), 4, 161)\n",
      "('1cZHUhGz7xJ8c4szDipipd', 'Mejores Jordans', False, 234077, Decimal('0.67'), Decimal('0.58'), 1, Decimal('-8.95'), 1, Decimal('0.27'), Decimal('0.60'), Decimal('0.00'), Decimal('0.10'), Decimal('0.27'), Decimal('115.22'), 4, 162)\n",
      "('41EOhpn50qvd8iZSKw531W', 'LOS CUADROS', True, 160409, Decimal('0.78'), Decimal('0.54'), 11, Decimal('-10.68'), 1, Decimal('0.07'), Decimal('0.32'), Decimal('0.00'), Decimal('0.09'), Decimal('0.94'), Decimal('122.15'), 3, 163)\n",
      "('6KOnLTb1xLfKDAjMC43I76', 'Giza', False, 177580, Decimal('0.70'), Decimal('0.89'), 5, Decimal('-5.00'), 0, Decimal('0.03'), Decimal('0.09'), Decimal('0.00'), Decimal('0.13'), Decimal('0.70'), Decimal('124.05'), 3, 164)\n",
      "('3dpBkXMbRdDQ6ZhcxFufQp', 'AMIRI', True, 123096, Decimal('0.74'), Decimal('0.72'), 8, Decimal('-8.20'), 0, Decimal('0.03'), Decimal('0.63'), Decimal('0.00'), Decimal('0.21'), Decimal('0.94'), Decimal('124.13'), 3, 165)\n",
      "('0lQogzZgV4XwuUTasz3nPL', 'EN MI MUNDO', False, 307565, Decimal('0.69'), Decimal('0.59'), 8, Decimal('-8.39'), 0, Decimal('0.04'), Decimal('0.40'), Decimal('0.00'), Decimal('0.13'), Decimal('0.67'), Decimal('125.01'), 3, 165)\n",
      "('2ss1LK5Kfnjo5EUaCbsgZM', 'No Son Doritos', True, 160714, Decimal('0.78'), Decimal('0.83'), 3, Decimal('-4.62'), 0, Decimal('0.03'), Decimal('0.54'), Decimal('0.00'), Decimal('0.09'), Decimal('0.92'), Decimal('140.00'), 3, 166)\n",
      "('6fKvGaO8Dfntvx4thaXtak', 'Kamikaze (feat. Victor Mendivil)', True, 248362, Decimal('0.86'), Decimal('0.66'), 4, Decimal('-5.86'), 0, Decimal('0.21'), Decimal('0.08'), Decimal('0.00'), Decimal('0.33'), Decimal('0.31'), Decimal('96.00'), 4, 167)\n",
      "('1C84d9abZVKWHT2YYpoean', 'Si No Quieres No', False, 147011, Decimal('0.79'), Decimal('0.79'), 4, Decimal('-6.37'), 0, Decimal('0.05'), Decimal('0.45'), Decimal('0.00'), Decimal('0.09'), Decimal('0.61'), Decimal('100.12'), 1, 168)\n",
      "('51qYdMBxt9mFbtZBzq1Yfi', 'Regalo De Dios', False, 185933, Decimal('0.79'), Decimal('0.52'), 4, Decimal('-6.10'), 0, Decimal('0.03'), Decimal('0.20'), Decimal('0.00'), Decimal('0.09'), Decimal('0.92'), Decimal('108.94'), 4, 169)\n",
      "('29vIEdxgMT9H1fnBMecWjA', 'Lo Tienes Todo', False, 164386, Decimal('0.70'), Decimal('0.84'), 8, Decimal('-3.60'), 1, Decimal('0.07'), Decimal('0.20'), Decimal('0.00'), Decimal('0.07'), Decimal('0.63'), Decimal('117.90'), 4, 169)\n",
      "('1sXr6moCwVxwKEgSPxhVvF', 'Apaga El Cel', False, 170832, Decimal('0.74'), Decimal('0.84'), 10, Decimal('-6.58'), 0, Decimal('0.04'), Decimal('0.10'), Decimal('0.00'), Decimal('0.15'), Decimal('0.81'), Decimal('125.26'), 3, 170)\n",
      "('2UkVLIGCGNuyMDPM4hz6dQ', 'Un Scar', False, 299381, Decimal('0.94'), Decimal('0.62'), 10, Decimal('-8.32'), 0, Decimal('0.30'), Decimal('0.06'), Decimal('0.00'), Decimal('0.07'), Decimal('0.78'), Decimal('97.01'), 4, 171)\n",
      "('7l3UuUZEqvxjhKYD2QBxOU', 'Vaquero - Remix', True, 300000, Decimal('0.75'), Decimal('0.91'), 4, Decimal('-3.19'), 0, Decimal('0.05'), Decimal('0.48'), Decimal('0.00'), Decimal('0.09'), Decimal('0.80'), Decimal('95.99'), 4, 172)\n",
      "('3FqUPvubYeRCMsdJ02QyZR', 'TÃš NAME', False, 152078, Decimal('0.76'), Decimal('0.75'), 0, Decimal('-5.08'), 0, Decimal('0.03'), Decimal('0.07'), Decimal('0.00'), Decimal('0.31'), Decimal('0.88'), Decimal('128.91'), 3, 173)\n",
      "('33Nj9AdncSmHbCN3QeSZTL', 'Volver Al Futuro', False, 204102, Decimal('0.75'), Decimal('0.66'), 1, Decimal('-6.70'), 1, Decimal('0.04'), Decimal('0.13'), Decimal('0.00'), Decimal('0.11'), Decimal('0.64'), Decimal('116.92'), 3, 174)\n",
      "('1uGUbgZuO1kD1JZ0UeFupN', \"Hecha Pa' MÃ\\xad\", False, 195845, Decimal('0.74'), Decimal('0.83'), 8, Decimal('-4.27'), 1, Decimal('0.03'), Decimal('0.09'), Decimal('0.00'), Decimal('0.30'), Decimal('0.72'), Decimal('98.58'), 4, 175)\n",
      "('7gG2xMiojQrsTUGa7qeQoo', 'Nena Moxita', True, 217298, Decimal('0.76'), Decimal('0.72'), 11, Decimal('-4.10'), 1, Decimal('0.05'), Decimal('0.06'), Decimal('0.00'), Decimal('0.04'), Decimal('0.97'), Decimal('147.91'), 4, 176)\n",
      "('7oJ3N7oVSwoa5sdpg6NCE6', 'Lo Que Hay X AquÃ\\xad', False, 158545, Decimal('0.69'), Decimal('0.50'), 0, Decimal('-7.24'), 1, Decimal('0.10'), Decimal('0.70'), Decimal('0.00'), Decimal('0.21'), Decimal('0.75'), Decimal('153.99'), 4, 177)\n",
      "('03MqlviAY1kvFqdaGl5Mhg', 'Cero EmpatÃ\\xada', False, 189524, Decimal('0.68'), Decimal('0.43'), 2, Decimal('-4.81'), 0, Decimal('0.03'), Decimal('0.34'), Decimal('0.00'), Decimal('0.24'), Decimal('0.59'), Decimal('140.15'), 3, 178)\n",
      "('25anKrtqXPngMi3IoF5UhC', 'Vibra Perfecta', False, 183315, Decimal('0.72'), Decimal('0.35'), 5, Decimal('-6.35'), 1, Decimal('0.03'), Decimal('0.65'), Decimal('0.00'), Decimal('0.10'), Decimal('0.76'), Decimal('93.48'), 4, 178)\n",
      "('4Ndjd6DhKIC5IPoBIrMQuX', 'Ese Vato No Te Queda', True, 198607, Decimal('0.75'), Decimal('0.74'), 7, Decimal('-3.64'), 0, Decimal('0.04'), Decimal('0.03'), Decimal('0.00'), Decimal('0.09'), Decimal('0.62'), Decimal('117.96'), 4, 179)\n",
      "('4ZplewvZRLFcfBa5uyBbhd', 'Belleza De Cantina', False, 183946, Decimal('0.76'), Decimal('0.60'), 9, Decimal('-7.85'), 0, Decimal('0.04'), Decimal('0.28'), Decimal('0.00'), Decimal('0.05'), Decimal('0.81'), Decimal('96.49'), 4, 180)\n",
      "('179TZwPk0txEvjkraVTVKo', 'El Precio De La Soledad', False, 186360, Decimal('0.72'), Decimal('0.85'), 10, Decimal('-3.67'), 1, Decimal('0.18'), Decimal('0.13'), Decimal('0.00'), Decimal('0.08'), Decimal('0.91'), Decimal('95.43'), 4, 181)\n",
      "('0sgwOySqG0fbNukjUa1BUt', 'El Final De Nuestra Historia', False, 197346, Decimal('0.74'), Decimal('0.50'), 10, Decimal('-8.17'), 1, Decimal('0.04'), Decimal('0.50'), Decimal('0.00'), Decimal('0.21'), Decimal('0.94'), Decimal('114.97'), 4, 182)\n",
      "('7kofJygFUxxmag4EAYcCG3', 'El Final De Nuestra Historia', False, 197280, Decimal('0.74'), Decimal('0.50'), 10, Decimal('-8.18'), 1, Decimal('0.03'), Decimal('0.49'), Decimal('0.00'), Decimal('0.23'), Decimal('0.96'), Decimal('114.98'), 4, 183)\n",
      "\n",
      "\n",
      "TABLA ARTISTAS: artista_id, nombre\n",
      "(1, 'Victor Mendivil')\n",
      "(2, 'Billie Eilish')\n",
      "(3, 'Milo j')\n",
      "(4, 'The La Planta')\n",
      "(5, 'Bruno Mars')\n",
      "(6, 'Ã‘ejo')\n",
      "(7, 'JoshuaLife')\n",
      "(8, 'Tuti DJ')\n",
      "(9, 'Young Miko')\n",
      "(10, 'Martinwhite')\n",
      "(11, 'Judeline')\n",
      "(12, 'Jimin')\n",
      "(13, 'Axl Boore')\n",
      "(14, 'Jin')\n",
      "(15, 'Emirsito')\n",
      "(16, 'Maria Becerra')\n",
      "(17, 'Cristian Di Marco')\n",
      "(18, 'Kuv507')\n",
      "(19, 'Jombriel')\n",
      "(20, 'ECKO')\n",
      "(21, 'Oscar Maydon')\n",
      "(22, 'Lady Gaga')\n",
      "(23, 'Ovy On The Drums')\n",
      "(24, 'Galee Galee')\n",
      "(25, 'Anuel AA')\n",
      "(26, 'Luck Ra')\n",
      "(27, 'Lucky Brown')\n",
      "(28, 'Pierre La Voz')\n",
      "(29, 'Shakira')\n",
      "(30, 'Prod Millones')\n",
      "(31, 'Pharrell Williams')\n",
      "(32, 'TINI')\n",
      "(33, 'Ponte Perro')\n",
      "(34, 'benny blanco')\n",
      "(35, 'ArcÃ¡ngel')\n",
      "(36, 'BeÃ©le')\n",
      "(37, 'Membrillito')\n",
      "(38, 'Calle 24')\n",
      "(39, 'Manuel Turizo')\n",
      "(40, 'Angela Torres')\n",
      "(41, 'Jere Klein')\n",
      "(42, 'DJ Lalo')\n",
      "(43, 'Marconi Impara')\n",
      "(44, 'Omar Courtz')\n",
      "(45, 'Natanael Cano')\n",
      "(46, 'ELENA ROSE')\n",
      "(47, 'Airbag')\n",
      "(48, 'Un Poco de Ruido')\n",
      "(49, 'Omar Varela')\n",
      "(50, 'Ganggy')\n",
      "(51, 'Carin Leon')\n",
      "(52, 'BM')\n",
      "(53, 'LATIN MAFIA')\n",
      "(54, \"Adolescent's Orquesta\")\n",
      "(55, 'Neton Vega')\n",
      "(56, 'Luis Alfonso')\n",
      "(57, 'Rvssian')\n",
      "(58, 'Gittobeatz')\n",
      "(59, 'Lalo Rodriguez')\n",
      "(60, 'Bryant Myers')\n",
      "(61, 'Ã\\x81ngela Aguilar')\n",
      "(62, 'Cris Mj')\n",
      "(63, 'Grupo Niche')\n",
      "(64, 'ATL Jacob')\n",
      "(65, 'Andres Castillo')\n",
      "(66, 'Gabito Ballesteros')\n",
      "(67, 'Uriel Lozano')\n",
      "(68, 'Lyanno')\n",
      "(69, 'Boza')\n",
      "(70, 'j mena')\n",
      "(71, 'JÃ¸tta')\n",
      "(72, 'Engel Montaz')\n",
      "(73, 'Brray')\n",
      "(74, 'Bruno Marcelo')\n",
      "(75, 'Riky Produce')\n",
      "(76, 'EL MURCIELAGO')\n",
      "(77, 'Kevin Martes 13')\n",
      "(78, 'Alex Krack')\n",
      "(79, 'Romeo Santos')\n",
      "(80, 'JHAYCO')\n",
      "(81, 'Abel Pintos')\n",
      "(82, 'Panda Black')\n",
      "(83, 'Lasso')\n",
      "(84, 'Kali Uchis')\n",
      "(85, 'Feid')\n",
      "(86, 'Paulo Londra')\n",
      "(87, 'No Te Va Gustar')\n",
      "(88, 'Karina')\n",
      "(89, 'Latinnites Music')\n",
      "(90, 'Blessd')\n",
      "(91, 'Kidd Voodoo')\n",
      "(92, 'Nicki Nicole')\n",
      "(93, 'Emilia')\n",
      "(94, 'Valentino Merlo')\n",
      "(95, 'LOUKI')\n",
      "(96, 'La Joaqui')\n",
      "(97, 'Chayanne')\n",
      "(98, 'Pablo Chill-E')\n",
      "(99, 'La Receta')\n",
      "(100, 'Myke Towers')\n",
      "(101, 'Harry Nach')\n",
      "(102, 'Los Ã\\x81ngeles Azules')\n",
      "(103, 'Big Cvyu')\n",
      "(104, 'Lewis Somes')\n",
      "(105, 'Grupo Frontera')\n",
      "(106, 'Nanpa BÃ¡sico')\n",
      "(107, 'Mr. Naisgai')\n",
      "(108, 'Callejero Fino')\n",
      "(109, 'FMK')\n",
      "(110, 'Yami Safdie')\n",
      "(111, 'KIO \"El Historiador\"')\n",
      "(112, 'Mateo on the Beatz')\n",
      "(113, 'Pinky SD')\n",
      "(114, 'Fran C')\n",
      "(115, 'Pirlo')\n",
      "(116, 'Renzo ED')\n",
      "(117, 'Yan Block')\n",
      "(118, 'El Bogueto')\n",
      "(119, 'Rauw Alejandro')\n",
      "(120, 'Bimbo el Oso MaÃ±oso')\n",
      "(121, 'Anitta')\n",
      "(122, 'Fuerza Regida')\n",
      "(123, 'Aventura')\n",
      "(124, 'Hoppen')\n",
      "(125, 'Joel The B')\n",
      "(126, 'Laura Pausini')\n",
      "(127, \"Hernan y La Champion's Liga\")\n",
      "(128, 'Big One')\n",
      "(129, 'Luis R Conriquez')\n",
      "(130, 'Alexis y Fido')\n",
      "(131, 'Sossa')\n",
      "(132, 'Chino Pacas')\n",
      "(133, 'Clave Especial')\n",
      "(134, 'Armenta')\n",
      "(135, 'Bad Bunny')\n",
      "(136, 'Bhavi')\n",
      "(137, 'La Arrolladora Banda El LimÃ³n De Rene Camacho')\n",
      "(138, 'DJ Acres')\n",
      "(139, 'Kapo')\n",
      "(140, 'YSY A')\n",
      "(141, 'Pailita')\n",
      "(142, 'Maluma')\n",
      "(143, 'Jairo Vera')\n",
      "(144, 'Duki')\n",
      "(145, 'Mora')\n",
      "(146, 'Ryan Castro')\n",
      "(147, 'Big Metra')\n",
      "(148, 'Grupo Firme')\n",
      "(149, 'Dalmata')\n",
      "(150, 'KHEA')\n",
      "(151, 'De La Rose')\n",
      "(152, 'Cardenales De Nuevo LeÃ³n')\n",
      "(153, 'Frankie Ruiz')\n",
      "(154, 'Rich Ibra')\n",
      "(155, 'Uriel Gaxiola')\n",
      "(156, 'J Balvin')\n",
      "(157, 'La Dinastia')\n",
      "(158, 'Dimension Latina')\n",
      "(159, 'Plan B')\n",
      "(160, 'NEMJ')\n",
      "(161, 'Tego CalderÃ³n')\n",
      "(162, 'Ke Personajes')\n",
      "(163, 'Dysbit')\n",
      "(164, 'Santaferia')\n",
      "(165, 'Tiago PZK')\n",
      "(166, 'La T y La M')\n",
      "(167, 'Uzielito Mix')\n",
      "(168, 'KAROL G')\n",
      "(169, 'Miguel Bueno')\n",
      "(170, 'Rayo & Toby')\n",
      "(171, 'Bayron Fire')\n",
      "(172, 'Bellakath')\n",
      "(173, 'El Malilla')\n",
      "(174, 'Pereiraremix')\n",
      "(175, 'Malandro')\n",
      "(176, 'El Jordan 23')\n",
      "(177, 'Becky G')\n",
      "(178, 'Nes')\n",
      "(179, 'King Savagge')\n",
      "(180, 'DobleP')\n",
      "(181, 'Maisak')\n",
      "(182, 'Grupo ZÃºmbale Primo')\n",
      "(183, 'Haze')\n",
      "(184, 'Ayra Starr')\n",
      "(185, 'Emanero')\n",
      "(186, 'Vyse')\n",
      "(187, 'elaggume')\n",
      "(188, 'El Mago Y La Nueva')\n",
      "(189, 'Babasonicos')\n",
      "(190, 'Kris R.')\n",
      "(191, 'W Sound')\n",
      "(192, 'Trueno')\n",
      "(193, 'Jasiel NuÃ±ez')\n",
      "(194, 'Danny Ocean')\n",
      "(195, 'Yandel')\n",
      "(196, 'Camilo')\n",
      "(197, 'DJ Tao')\n",
      "(198, 'ROSÃ‰')\n",
      "(199, 'Leonardo Aguilar')\n",
      "(200, \"La K'onga\")\n",
      "(201, 'Junior H')\n",
      "(202, 'ONIKX')\n",
      "(203, 'Yeri Mua')\n",
      "(204, 'Sevdaliza')\n",
      "(205, 'Heredero')\n",
      "(206, 'DFZM')\n",
      "(207, 'JuliÃ³n Ã\\x81lvarez y su NorteÃ±o Banda')\n",
      "(208, 'Luigi 21 Plus')\n",
      "(209, 'Peso Pluma')\n",
      "(210, 'SOG')\n",
      "(211, 'Mariah Carey')\n",
      "(212, \"Q' Lokura\")\n",
      "(213, 'Waldokinc El Troyano')\n",
      "(214, 'Los Turros')\n",
      "(215, 'Alfredo Olivas')\n",
      "(216, 'FloyyMenor')\n",
      "(217, 'Estevan Plazola')\n",
      "(218, 'Vicente FernÃ¡ndez')\n",
      "(219, 'Salastkbron')\n",
      "(220, 'Chris Jonex')\n",
      "(221, 'Tito Double P')\n",
      "\n",
      "\n",
      "TABLA CANCION_ARTISTA: spotify_id, artista_id\n",
      "('3mg9jYNC1NihbthlglzrWP', 168)\n",
      "('6WatFBLVB0x077xWeoVc2k', 168)\n",
      "('505v13epFXodT9fVAJ6h8k', 168)\n",
      "('5RqSsdzTNPX1uzkmlHCFvK', 168)\n",
      "('6eDU6kAtlOLVEkVu4st1Bt', 168)\n",
      "('54zcJnb3tp9c5OVKREZ1Is', 168)\n",
      "('3mg9jYNC1NihbthlglzrWP', 85)\n",
      "('7bywjHOc0wSjGGbj04XbVi', 85)\n",
      "('2gmd7lY3QSzLh0xIY4cRvi', 85)\n",
      "('63pLfjK6FvcYJYMGwtHjd6', 85)\n",
      "('2CeKVsFFXG4QzA415QygGb', 85)\n",
      "('7iQXYTyuG13aoeHxGG28Nh', 85)\n",
      "('05sO6FK8E9l2cfwnEUTjHq', 85)\n",
      "('2llFXBrftm6YJzBj3tpk0s', 85)\n",
      "('0T2pB7P1VdXPhLdQZ488uH', 85)\n",
      "('0rNqDh9zWWJVTLS4VfceHP', 85)\n",
      "('1sbNEFiURUYfy024cJX8JG', 85)\n",
      "('7chTH3GBjjAyagf0SPCZDL', 85)\n",
      "('4lqJsJd7kqWVvamQ4aFHA8', 85)\n",
      "('1hZsWUnLbqRw09jLAMQSsb', 85)\n",
      "('5jt25aFjW2kNoBqaEVaz5W', 85)\n",
      "('2Yc3MHpZ9R5UCIz78E20AQ', 85)\n",
      "('3mg9jYNC1NihbthlglzrWP', 206)\n",
      "('3mg9jYNC1NihbthlglzrWP', 23)\n",
      "('13BDiikG6y5o5cQTK0HpW6', 23)\n",
      "('2btNsI4OvcVl7SAHQQDHFB', 23)\n",
      "('7zYAuEf69m4bQmJvw0MTka', 23)\n",
      "('6tuLAQURf4P97dD750iTaJ', 23)\n",
      "('3ps5MDjfpA3wAbKMitNWgM', 23)\n",
      "('3mg9jYNC1NihbthlglzrWP', 156)\n",
      "('2llFXBrftm6YJzBj3tpk0s', 156)\n",
      "('0fea68AdmYNygeTGI4RC18', 156)\n",
      "('3mg9jYNC1NihbthlglzrWP', 142)\n",
      "('0iVEujJcafOBnxa654fJYu', 142)\n",
      "('57pj5sOWSCAqZm088LMcE4', 142)\n",
      "('6DUdDIRgLqCGq1DwkNWQTN', 142)\n",
      "('4bw8mcDUSRWfQo63ZTYRnU', 142)\n",
      "('3mg9jYNC1NihbthlglzrWP', 146)\n",
      "('3KwYiawBfqngH7eaUHQn2N', 146)\n",
      "('7zYAuEf69m4bQmJvw0MTka', 146)\n",
      "('0zNMdrDEs5N0JPQ7RYQZln', 146)\n",
      "('3mg9jYNC1NihbthlglzrWP', 90)\n",
      "('13BDiikG6y5o5cQTK0HpW6', 90)\n",
      "('2btNsI4OvcVl7SAHQQDHFB', 90)\n",
      "('0fKK51bU6lcCCwdNnv64t3', 90)\n",
      "('2ALQyXMC26Vew7JX7ert9M', 90)\n",
      "('281YJmnThveWjsWVic9Ym6', 90)\n",
      "('57pj5sOWSCAqZm088LMcE4', 90)\n",
      "('6rZno3nqeT7hv2PnSWRuYS', 90)\n",
      "('6tuLAQURf4P97dD750iTaJ', 90)\n",
      "('7chTH3GBjjAyagf0SPCZDL', 90)\n",
      "('13BDiikG6y5o5cQTK0HpW6', 191)\n",
      "('7zYAuEf69m4bQmJvw0MTka', 191)\n",
      "('0fKK51bU6lcCCwdNnv64t3', 25)\n",
      "('1LiN0Z98FkR1t0m8KmLcAH', 25)\n",
      "('2ALQyXMC26Vew7JX7ert9M', 190)\n",
      "('281YJmnThveWjsWVic9Ym6', 190)\n",
      "('7bywjHOc0wSjGGbj04XbVi', 64)\n",
      "('3KwYiawBfqngH7eaUHQn2N', 181)\n",
      "('2gmd7lY3QSzLh0xIY4cRvi', 181)\n",
      "('1YYfyJ2yCvGFCxwjsIqEK9', 119)\n",
      "('0l0vcZMU7AOeQmUIREoI2U', 119)\n",
      "('6a9Z1jUms915w4O7N1PxjY', 119)\n",
      "('4lqJsJd7kqWVvamQ4aFHA8', 119)\n",
      "('1uFW6czrHk5PsK3s6gOI7C', 119)\n",
      "('2eQFYGegTZaObk2kuBz83Z', 119)\n",
      "('3PJgmyLaybZtALX4mrgbiD', 119)\n",
      "('0xyWkRMb09qdCDhloehCsi', 119)\n",
      "('5tZgkV8FTe3rtl8OcSeQAb', 119)\n",
      "('7xdRj1wA4XzYnXynPmtmnq', 119)\n",
      "('5UxEKpzvvLnjoC10XoogN3', 119)\n",
      "('4jjFjbqCTkaN1mGb0BMYl2', 119)\n",
      "('3HCcfBsa4TdiC0so0fPnRi', 119)\n",
      "('2J0TjDpiUlwgFRvVxtaLud', 119)\n",
      "('7v12ia1PFVN9jSgU43rJnS', 119)\n",
      "('0dDr2LgiACQVkZYJeStWh6', 119)\n",
      "('1UTLq40xh63wMrHELGnKWW', 119)\n",
      "('63jUTfcbudnrqoPCC5Qp4i', 119)\n",
      "('4O3EdWEn3apRHpiZxYabtl', 119)\n",
      "('1aUq8rjW1EwkAkMri4VfJy', 119)\n",
      "('1YYfyJ2yCvGFCxwjsIqEK9', 79)\n",
      "('4JtKlgBLKHtRTqixKHrrw8', 79)\n",
      "('0Qe2g06yzLBuuSvVmFiweP', 106)\n",
      "('0Qe2g06yzLBuuSvVmFiweP', 36)\n",
      "('60u6hcpH5Qm1M3xESdNBrB', 36)\n",
      "('2J9B63FawlTaPdg4eH5X03', 36)\n",
      "('4zbEItKoaRId1vRZkoO0Uh', 194)\n",
      "('4zbEItKoaRId1vRZkoO0Uh', 139)\n",
      "('5QjmUqgpPQgXgg4606DqZF', 139)\n",
      "('1fTjqf10accJCDYstPwwZ6', 139)\n",
      "('0l0vcZMU7AOeQmUIREoI2U', 135)\n",
      "('7iQXYTyuG13aoeHxGG28Nh', 135)\n",
      "('2yzshFeBIwH8tWIqHEFLeD', 135)\n",
      "('0fea68AdmYNygeTGI4RC18', 135)\n",
      "('1cOboCuWYI2osTOfolMRS6', 21)\n",
      "('5LhI8m7n8xlQmNe3b7Rwis', 21)\n",
      "('02cRoSfWU3RJNFyU3o4lhV', 21)\n",
      "('1cZHUhGz7xJ8c4szDipipd', 21)\n",
      "('6KOnLTb1xLfKDAjMC43I76', 21)\n",
      "('33Nj9AdncSmHbCN3QeSZTL', 21)\n",
      "('1cOboCuWYI2osTOfolMRS6', 122)\n",
      "('6uIIdjYTxxpWOyWuVXrKQO', 122)\n",
      "('5AH31dDNgxCMGDdxubNNn4', 122)\n",
      "('3FqUPvubYeRCMsdJ02QyZR', 122)\n",
      "('0qeIFEGRQqHoaJtLCl0U73', 100)\n",
      "('03IpZ9yqJlo3EIgDQUgBSF', 100)\n",
      "('39Pc4a04VgCtcc7m0XKi9M', 100)\n",
      "('7iUtQNMRB8ZkKC4AmEuCJC', 100)\n",
      "('0qeIFEGRQqHoaJtLCl0U73', 34)\n",
      "('0Sr7ssScx54yxdM2ols7nW', 44)\n",
      "('7eNwwoxDR8KVzNAuGvliAO', 44)\n",
      "('0Sr7ssScx54yxdM2ols7nW', 151)\n",
      "('7eNwwoxDR8KVzNAuGvliAO', 151)\n",
      "('1pLCpA1RN8avJxSD3ZCwhj', 35)\n",
      "('3GhmL9fuM8jwGcHCFbeo3v', 35)\n",
      "('3vpvKFigw8bNApZzuOleGe', 170)\n",
      "('3u2jlo9kygiIAq7SPVuw6S', 149)\n",
      "('05yMrCIM3QQVLhlAlLMUVQ', 149)\n",
      "('5pVJ3IlnpIorU44oXizzG5', 69)\n",
      "('5pVJ3IlnpIorU44oXizzG5', 46)\n",
      "('6a9Z1jUms915w4O7N1PxjY', 57)\n",
      "('6a9Z1jUms915w4O7N1PxjY', 184)\n",
      "('3OJDtCdYs8QJnui708tEU3', 29)\n",
      "('4bw8mcDUSRWfQo63ZTYRnU', 51)\n",
      "('2mLTxNa0bwZX8eNBsuODLX', 51)\n",
      "('3fJHbMUnzceimOnNjp63fF', 51)\n",
      "('5HR7yfhSCeoOHRQN05XnZQ', 51)\n",
      "('4Ndjd6DhKIC5IPoBIrMQuX', 51)\n",
      "('0zNMdrDEs5N0JPQ7RYQZln', 209)\n",
      "('5RqSsdzTNPX1uzkmlHCFvK', 209)\n",
      "('5lKFO0PrOC9jmOlPEdjHsL', 209)\n",
      "('2aYZaN5SmkRDLsrrV8GkBQ', 209)\n",
      "('02cRoSfWU3RJNFyU3o4lhV', 209)\n",
      "('41EOhpn50qvd8iZSKw531W', 209)\n",
      "('3dpBkXMbRdDQ6ZhcxFufQp', 209)\n",
      "('5GTBdEjZe7zEDp1N0eCZE4', 209)\n",
      "('1jIirpaACmgb4nTYfywys4', 209)\n",
      "('0lQogzZgV4XwuUTasz3nPL', 209)\n",
      "('0zNMdrDEs5N0JPQ7RYQZln', 210)\n",
      "('05sO6FK8E9l2cfwnEUTjHq', 115)\n",
      "('2plbrEY59IikOBgBGLjaoe', 22)\n",
      "('2plbrEY59IikOBgBGLjaoe', 5)\n",
      "('5vNRhkKd0yEAg8suGBpjeY', 5)\n",
      "('1JXcB149QtbcIpDUA6YZOB', 63)\n",
      "('5vNRhkKd0yEAg8suGBpjeY', 198)\n",
      "('1AddbBdKFz8wdqatGVSsYS', 159)\n",
      "('7JwdbqIpiuWvGbRryKSuBz', 159)\n",
      "('3KZCP2StVGdWkOKyRZNWA4', 159)\n",
      "('0rNqDh9zWWJVTLS4VfceHP', 195)\n",
      "('5YJ4BVvTFmVCxUyhKejHfR', 161)\n",
      "('50zAEIE4B1QqhPjRMK2Xmh', 14)\n",
      "('45DB3yqxYGAnKN3YmLWbAX', 14)\n",
      "('0EhmTBq33eARyOz3SIi4P2', 110)\n",
      "('0EhmTBq33eARyOz3SIi4P2', 83)\n",
      "('05yMrCIM3QQVLhlAlLMUVQ', 6)\n",
      "('5rRYtMoEDY3HrvV13jcsom', 120)\n",
      "('5rRYtMoEDY3HrvV13jcsom', 147)\n",
      "('5rRYtMoEDY3HrvV13jcsom', 111)\n",
      "('5rRYtMoEDY3HrvV13jcsom', 220)\n",
      "('2AyHptlbcCczCoyVANwPeK', 7)\n",
      "('1sc1u87B3KcsNPf0jcYwgQ', 202)\n",
      "('1sc1u87B3KcsNPf0jcYwgQ', 169)\n",
      "('2mLTxNa0bwZX8eNBsuODLX', 196)\n",
      "('4jdwQISB7rhP1EO4JiwnJF', 208)\n",
      "('0zDO5avDZSXRwWzfuguIRb', 158)\n",
      "('2naqSVQHgiaoEpxtkVOhmK', 158)\n",
      "('0BoLTC9I3PYefcWd7FOhUh', 56)\n",
      "('2NFWEVIzLcWARyI8BzgA23', 56)\n",
      "('5enCBu8FLjlLz60k9t15MA', 205)\n",
      "('1uFW6czrHk5PsK3s6gOI7C', 126)\n",
      "('6eDU6kAtlOLVEkVu4st1Bt', 204)\n",
      "('0O3U5iwTbiXCREMkvotJuN', 105)\n",
      "('5HR7yfhSCeoOHRQN05XnZQ', 105)\n",
      "('4JtKlgBLKHtRTqixKHrrw8', 105)\n",
      "('2yzshFeBIwH8tWIqHEFLeD', 105)\n",
      "('2lAUq68F2bt7Kc218n9FPp', 105)\n",
      "('1uGUbgZuO1kD1JZ0UeFupN', 105)\n",
      "('0O3U5iwTbiXCREMkvotJuN', 148)\n",
      "('7tI8dRuH2Yc6RuoTjxo4dU', 12)\n",
      "('2FFr0vdtqPBTK3RW0c7T5C', 72)\n",
      "('2FFr0vdtqPBTK3RW0c7T5C', 18)\n",
      "('2FFr0vdtqPBTK3RW0c7T5C', 89)\n",
      "('6kPCcIAGoTeRrh8qrmKa90', 165)\n",
      "('0c82YIGpQ5dCaXpTNCk4sb', 165)\n",
      "('5aZ8rf2aPfZrnRWLA7bByo', 165)\n",
      "('6kPCcIAGoTeRrh8qrmKa90', 162)\n",
      "('3tiJUOfAEqIrLFRQgGgdoY', 162)\n",
      "('0u6JsFiEEXb6kaF0oqyeFi', 162)\n",
      "('3PJgmyLaybZtALX4mrgbiD', 43)\n",
      "('3PJgmyLaybZtALX4mrgbiD', 117)\n",
      "('6j5LtifAnuTjTYvml61yFZ', 218)\n",
      "('6VsqdsaY4oV06NODea0L0J', 177)\n",
      "('6VsqdsaY4oV06NODea0L0J', 61)\n",
      "('6VsqdsaY4oV06NODea0L0J', 199)\n",
      "('6dOtVTDdiauQNBQEDOtlAB', 2)\n",
      "('7xdRj1wA4XzYnXynPmtmnq', 31)\n",
      "('03IpZ9yqJlo3EIgDQUgBSF', 144)\n",
      "('26y2gBrbiFJIOUjIlSQfdH', 144)\n",
      "('63rRgkllF0FDeZ9fpOkFKl', 144)\n",
      "('5lXKHJ3kYg9aM0TdBgaZBe', 144)\n",
      "('64sXViF6VlsihR0eJt0vUq', 144)\n",
      "('3HCcfBsa4TdiC0so0fPnRi', 130)\n",
      "('0bYg9bo50gSsH3LtXe2SQn', 211)\n",
      "('3tt9i3Hhzq84dPS8H7iSiJ', 39)\n",
      "('0dDr2LgiACQVkZYJeStWh6', 107)\n",
      "('1UTLq40xh63wMrHELGnKWW', 53)\n",
      "('5MKbWaXeSQSmzmo7gPQha1', 166)\n",
      "('1R3ubqAHKHE6f64Hz37q8h', 166)\n",
      "('1yg1tWFaYajN4b7vsKtYRE', 166)\n",
      "('5MKbWaXeSQSmzmo7gPQha1', 175)\n",
      "('0c82YIGpQ5dCaXpTNCk4sb', 121)\n",
      "('0c82YIGpQ5dCaXpTNCk4sb', 93)\n",
      "('4dLLdfiniBhDP9dlJQIOi4', 93)\n",
      "('7yrTny7FLWLbfIzsxoicWj', 93)\n",
      "('0Cs2ANiGsCOQLKnCrNJ6hA', 93)\n",
      "('6Es8Sk3xe1HiJ2MXCfHHwR', 93)\n",
      "('5AkLEnorFvb7WIJOGqKYVT', 128)\n",
      "('5aZ8rf2aPfZrnRWLA7bByo', 128)\n",
      "('3KeYEr9ogMBemsOfQIJmZp', 128)\n",
      "('3tiJUOfAEqIrLFRQgGgdoY', 128)\n",
      "('5AkLEnorFvb7WIJOGqKYVT', 185)\n",
      "('2xbH0CuDbid800YW5nMPzR', 185)\n",
      "('5AkLEnorFvb7WIJOGqKYVT', 94)\n",
      "('0SoBfYjQHvL6cuWHtPUYnq', 94)\n",
      "('1db75lVrSgDFZI1gZh8JlV', 94)\n",
      "('3cWo162YkfLIFyB3DWbVoH', 94)\n",
      "('2N9LvPp7o61eerdZEyKQ19', 94)\n",
      "('4dLLdfiniBhDP9dlJQIOi4', 102)\n",
      "('0EVxchTHYIgx618OrpcrdQ', 16)\n",
      "('3KeYEr9ogMBemsOfQIJmZp', 16)\n",
      "('2bNCiY24Eh4saMcc23bvUN', 16)\n",
      "('3oNnzH6hmqIGIhJ1NcHlrh', 16)\n",
      "('0SoBfYjQHvL6cuWHtPUYnq', 4)\n",
      "('1TyBUtMxdmRfXhW3MmbxtQ', 26)\n",
      "('5DSMm0BZXlSvqArsTX00Ge', 26)\n",
      "('1db75lVrSgDFZI1gZh8JlV', 26)\n",
      "('42mrOMjkQb7jRKatu0bqg4', 26)\n",
      "('2AFC9ad4nGauS1cgm7FCqU', 26)\n",
      "('6vRQqxOhUFd78p5tL8jXr7', 26)\n",
      "('7JKptWv4YXmievid0HajID', 26)\n",
      "('0u6JsFiEEXb6kaF0oqyeFi', 26)\n",
      "('1TyBUtMxdmRfXhW3MmbxtQ', 81)\n",
      "('5aZ8rf2aPfZrnRWLA7bByo', 96)\n",
      "('5DSMm0BZXlSvqArsTX00Ge', 92)\n",
      "('2RmtEc2ZNDCzAU3vH0AbKx', 92)\n",
      "('2N0hVk2Ant8751xPZUjCV2', 20)\n",
      "('2N0hVk2Ant8751xPZUjCV2', 214)\n",
      "('2N0hVk2Ant8751xPZUjCV2', 180)\n",
      "('2wEhjcnre2PU36KQNBLXCC', 180)\n",
      "('2N0hVk2Ant8751xPZUjCV2', 17)\n",
      "('1db75lVrSgDFZI1gZh8JlV', 86)\n",
      "('42mrOMjkQb7jRKatu0bqg4', 212)\n",
      "('3cWo162YkfLIFyB3DWbVoH', 212)\n",
      "('2xbH0CuDbid800YW5nMPzR', 88)\n",
      "('2xbH0CuDbid800YW5nMPzR', 70)\n",
      "('2xbH0CuDbid800YW5nMPzR', 40)\n",
      "('1MCArCVJUgBUrBnzUoZqmq', 219)\n",
      "('2N9LvPp7o61eerdZEyKQ19', 219)\n",
      "('1MCArCVJUgBUrBnzUoZqmq', 49)\n",
      "('6ViJgiKfyqfs52x2pGhuPF', 127)\n",
      "('6ViJgiKfyqfs52x2pGhuPF', 108)\n",
      "('6ViJgiKfyqfs52x2pGhuPF', 52)\n",
      "('6vRQqxOhUFd78p5tL8jXr7', 52)\n",
      "('4eqXTlaHeK6xkM1fRx9wR5', 113)\n",
      "('5g2Jqe1D2qnZc6LcvWL3e1', 113)\n",
      "('6VbNzSrjWjTMfrDLJ6Jt5D', 113)\n",
      "('7khla88C1xwKeI6qzwcOuH', 113)\n",
      "('4eqXTlaHeK6xkM1fRx9wR5', 48)\n",
      "('5g2Jqe1D2qnZc6LcvWL3e1', 48)\n",
      "('6VbNzSrjWjTMfrDLJ6Jt5D', 48)\n",
      "('7khla88C1xwKeI6qzwcOuH', 48)\n",
      "('4eqXTlaHeK6xkM1fRx9wR5', 67)\n",
      "('6VbNzSrjWjTMfrDLJ6Jt5D', 67)\n",
      "('7khla88C1xwKeI6qzwcOuH', 67)\n",
      "('26y2gBrbiFJIOUjIlSQfdH', 3)\n",
      "('4jn3R3KF5hx2fCiXlj89yE', 3)\n",
      "('3KeYEr9ogMBemsOfQIJmZp', 192)\n",
      "('4jn3R3KF5hx2fCiXlj89yE', 140)\n",
      "('6CzozhzNVBfxmUthlZiYm4', 140)\n",
      "('4jn3R3KF5hx2fCiXlj89yE', 136)\n",
      "('4xXvGEiTkoaIkOMWa4u3Mn', 116)\n",
      "('4xXvGEiTkoaIkOMWa4u3Mn', 187)\n",
      "('42wdz3j7gstgUuhoFLCXqd', 216)\n",
      "('6PhRhocBXP4y7NpciGmzra', 216)\n",
      "('0ZS96pPRLyGUViVi5PWCAR', 216)\n",
      "('0rqH7y08F8C8lcVBI8n2Sq', 216)\n",
      "('27bcRgu0wnDteieWlLCxc8', 216)\n",
      "('2ajOfRsIVgVO4pmjeCPIzp', 216)\n",
      "('2esZG2XFtuoWWA9AfDvSxy', 216)\n",
      "('0CgpCtEPvyDizcg2p47VrU', 87)\n",
      "('6MuJUSYCqA4FpMogUHzb2R', 87)\n",
      "('2AFC9ad4nGauS1cgm7FCqU', 97)\n",
      "('6CzozhzNVBfxmUthlZiYm4', 15)\n",
      "('7eNwwoxDR8KVzNAuGvliAO', 183)\n",
      "('1LiN0Z98FkR1t0m8KmLcAH', 183)\n",
      "('63rRgkllF0FDeZ9fpOkFKl', 11)\n",
      "('6PhRhocBXP4y7NpciGmzra', 62)\n",
      "('0rqH7y08F8C8lcVBI8n2Sq', 62)\n",
      "('5Uptvz6j1sjDKxidAcnH2L', 62)\n",
      "('4MAv7MqIlcaTBHGiUXIWiw', 62)\n",
      "('2kvpHbQHp9QmcG9WhyLwco', 62)\n",
      "('21hsqOOUfdSjHi3SVz8oyv', 62)\n",
      "('2esZG2XFtuoWWA9AfDvSxy', 62)\n",
      "('3uI1I2juxVWkrjSHdd9mVh', 62)\n",
      "('0qd7ACCc9z2mlTYgPRcnUJ', 62)\n",
      "('604IC2o3T3bxPu6C7Pimd7', 62)\n",
      "('6PhRhocBXP4y7NpciGmzra', 95)\n",
      "('5vHWh24GAsXJ7tnIu8v7UN', 47)\n",
      "('6Es8Sk3xe1HiJ2MXCfHHwR', 32)\n",
      "('61qPUnazSdkvua4wgA4L8C', 189)\n",
      "('0iwmZVScrpLcbbfHbdJGT0', 189)\n",
      "('7JKptWv4YXmievid0HajID', 150)\n",
      "('3tiJUOfAEqIrLFRQgGgdoY', 109)\n",
      "('2wEhjcnre2PU36KQNBLXCC', 8)\n",
      "('2wEhjcnre2PU36KQNBLXCC', 174)\n",
      "('0u6JsFiEEXb6kaF0oqyeFi', 200)\n",
      "('5g2Jqe1D2qnZc6LcvWL3e1', 188)\n",
      "('0T25HZGE0WwyELWBlXQVbY', 197)\n",
      "('0T25HZGE0WwyELWBlXQVbY', 33)\n",
      "('6hLsMjw00j3HGrkUjKwmgo', 179)\n",
      "('6hLsMjw00j3HGrkUjKwmgo', 143)\n",
      "('6hLsMjw00j3HGrkUjKwmgo', 171)\n",
      "('5eqZZLLZ4CkuUznPCOimsi', 27)\n",
      "('2Bf7izPNpcTVNL41bdyFic', 27)\n",
      "('00BjWhfYjpmRqKd1qCzdM0', 27)\n",
      "('4RtLVq34QEU3ckAl8Tdyro', 27)\n",
      "('5eqZZLLZ4CkuUznPCOimsi', 112)\n",
      "('2SuosMcETUjDfBRobLLTQm', 112)\n",
      "('00BjWhfYjpmRqKd1qCzdM0', 112)\n",
      "('4RtLVq34QEU3ckAl8Tdyro', 112)\n",
      "('2Bf7izPNpcTVNL41bdyFic', 103)\n",
      "('2SuosMcETUjDfBRobLLTQm', 41)\n",
      "('3ps5MDjfpA3wAbKMitNWgM', 41)\n",
      "('00BjWhfYjpmRqKd1qCzdM0', 41)\n",
      "('4aOp0PlHbZl4lPIsi5CyLO', 41)\n",
      "('2SuosMcETUjDfBRobLLTQm', 76)\n",
      "('0ZS96pPRLyGUViVi5PWCAR', 104)\n",
      "('27bcRgu0wnDteieWlLCxc8', 104)\n",
      "('2ajOfRsIVgVO4pmjeCPIzp', 104)\n",
      "('0rqH7y08F8C8lcVBI8n2Sq', 82)\n",
      "('00BjWhfYjpmRqKd1qCzdM0', 58)\n",
      "('4MAv7MqIlcaTBHGiUXIWiw', 84)\n",
      "('4MAv7MqIlcaTBHGiUXIWiw', 80)\n",
      "('6UNLWd8LUk9nNgmU6AcXct', 10)\n",
      "('6UNLWd8LUk9nNgmU6AcXct', 160)\n",
      "('3l6CjeIBGZuoCxNS88APlI', 91)\n",
      "('3l6CjeIBGZuoCxNS88APlI', 163)\n",
      "('0vfPiExVUcECwzpQ3vfV0R', 182)\n",
      "('2nwa6nS5lXnsvwX48RWkbS', 182)\n",
      "('3RpbyzSdjlKeEEnVbzhCRE', 37)\n",
      "('4aOp0PlHbZl4lPIsi5CyLO', 114)\n",
      "('1hkSF9s6moQBLEeRcdtHgF', 114)\n",
      "('0zIWfaIRtpt2pO9LK5vU33', 114)\n",
      "('5MmwcFIcD3ZuGE8yRloi3S', 28)\n",
      "('1hkSF9s6moQBLEeRcdtHgF', 77)\n",
      "('1hkSF9s6moQBLEeRcdtHgF', 24)\n",
      "('3uI1I2juxVWkrjSHdd9mVh', 24)\n",
      "('3uI1I2juxVWkrjSHdd9mVh', 141)\n",
      "('3uI1I2juxVWkrjSHdd9mVh', 176)\n",
      "('0qd7ACCc9z2mlTYgPRcnUJ', 60)\n",
      "('6Dj22jpOiUm5DMjjEdeImQ', 30)\n",
      "('6Dj22jpOiUm5DMjjEdeImQ', 13)\n",
      "('2nwa6nS5lXnsvwX48RWkbS', 164)\n",
      "('0zIWfaIRtpt2pO9LK5vU33', 98)\n",
      "('0zIWfaIRtpt2pO9LK5vU33', 101)\n",
      "('0zIWfaIRtpt2pO9LK5vU33', 138)\n",
      "('604IC2o3T3bxPu6C7Pimd7', 178)\n",
      "('69vi5SUSJJF0CQJCZngFFS', 19)\n",
      "('1C5jDtYftdFtHNG6iLVyCA', 19)\n",
      "('69vi5SUSJJF0CQJCZngFFS', 78)\n",
      "('69vi5SUSJJF0CQJCZngFFS', 71)\n",
      "('5cZIDOH5DaLSXFqo21G24Z', 71)\n",
      "('1C5jDtYftdFtHNG6iLVyCA', 71)\n",
      "('5mD7jI5GrDmsadKibEYho2', 131)\n",
      "('5mD7jI5GrDmsadKibEYho2', 74)\n",
      "('5mD7jI5GrDmsadKibEYho2', 154)\n",
      "('5mD7jI5GrDmsadKibEYho2', 186)\n",
      "('5mD7jI5GrDmsadKibEYho2', 125)\n",
      "('5mD7jI5GrDmsadKibEYho2', 124)\n",
      "('5cZIDOH5DaLSXFqo21G24Z', 42)\n",
      "('6uIIdjYTxxpWOyWuVXrKQO', 38)\n",
      "('1sXr6moCwVxwKEgSPxhVvF', 38)\n",
      "('6uIIdjYTxxpWOyWuVXrKQO', 132)\n",
      "('6HrALJOMsfPCCbUo5cJCON', 132)\n",
      "('0NsGFMIo2aNbAkJu48ndaf', 132)\n",
      "('1sXr6moCwVxwKEgSPxhVvF', 132)\n",
      "('1HWbpfmzt1YplLceHgirCv', 54)\n",
      "('1C5jDtYftdFtHNG6iLVyCA', 213)\n",
      "('27ze5t5tIDPlVits0KRbxT', 123)\n",
      "('1hZsWUnLbqRw09jLAMQSsb', 9)\n",
      "('5jt25aFjW2kNoBqaEVaz5W', 145)\n",
      "('6sRQjwLPdzADXhgZeKy6PQ', 153)\n",
      "('5mg6sU732O35VMfCYk3lmX', 59)\n",
      "('1aUq8rjW1EwkAkMri4VfJy', 68)\n",
      "('1aUq8rjW1EwkAkMri4VfJy', 73)\n",
      "('4OLT65TRsOx3Iv1TlCcQVb', 66)\n",
      "('4Ndjd6DhKIC5IPoBIrMQuX', 66)\n",
      "('4OLT65TRsOx3Iv1TlCcQVb', 45)\n",
      "('5LhI8m7n8xlQmNe3b7Rwis', 45)\n",
      "('7AysIqSEDiwP4CUsAXJwrk', 45)\n",
      "('6KOnLTb1xLfKDAjMC43I76', 45)\n",
      "('6fKvGaO8Dfntvx4thaXtak', 45)\n",
      "('4OLT65TRsOx3Iv1TlCcQVb', 129)\n",
      "('2ss1LK5Kfnjo5EUaCbsgZM', 129)\n",
      "('1C84d9abZVKWHT2YYpoean', 129)\n",
      "('2UkVLIGCGNuyMDPM4hz6dQ', 129)\n",
      "('4OLT65TRsOx3Iv1TlCcQVb', 55)\n",
      "('2aYZaN5SmkRDLsrrV8GkBQ', 55)\n",
      "('7qXptgpZGo8AFPhJCBVLFE', 55)\n",
      "('1C84d9abZVKWHT2YYpoean', 55)\n",
      "('6X6m4xmdFcz31p1h7Qg68c', 221)\n",
      "('5lKFO0PrOC9jmOlPEdjHsL', 221)\n",
      "('7sd6zMrgGpEa7NkQm9TRrg', 221)\n",
      "('6HrALJOMsfPCCbUo5cJCON', 221)\n",
      "('2lAUq68F2bt7Kc218n9FPp', 221)\n",
      "('3IEvQ1CzszUJtTRLmmMJ2X', 221)\n",
      "('7AysIqSEDiwP4CUsAXJwrk', 221)\n",
      "('41EOhpn50qvd8iZSKw531W', 221)\n",
      "('3dpBkXMbRdDQ6ZhcxFufQp', 221)\n",
      "('1wsDxqEDpsvNCatbXHjOje', 221)\n",
      "('7qXptgpZGo8AFPhJCBVLFE', 221)\n",
      "('1jIirpaACmgb4nTYfywys4', 221)\n",
      "('0zLA16D7GXoT8K7XFaiCv3', 221)\n",
      "('3IEvQ1CzszUJtTRLmmMJ2X', 201)\n",
      "('4ZOkfHC38nxSeSqzGE5HFr', 201)\n",
      "('6RcAHyC5sAUIbPTkhOQwd8', 201)\n",
      "('33Nj9AdncSmHbCN3QeSZTL', 201)\n",
      "('2CshODtf7iwe3pKlPmEWF5', 201)\n",
      "('0BiDnJFB3TlRB6aji7jUz3', 207)\n",
      "('51qYdMBxt9mFbtZBzq1Yfi', 207)\n",
      "('03MqlviAY1kvFqdaGl5Mhg', 207)\n",
      "('25anKrtqXPngMi3IoF5UhC', 207)\n",
      "('29vIEdxgMT9H1fnBMecWjA', 207)\n",
      "('1cZHUhGz7xJ8c4szDipipd', 1)\n",
      "('6fKvGaO8Dfntvx4thaXtak', 1)\n",
      "('2UkVLIGCGNuyMDPM4hz6dQ', 1)\n",
      "('3dpBkXMbRdDQ6ZhcxFufQp', 193)\n",
      "('0lQogzZgV4XwuUTasz3nPL', 193)\n",
      "('2ss1LK5Kfnjo5EUaCbsgZM', 133)\n",
      "('6fKvGaO8Dfntvx4thaXtak', 155)\n",
      "('6fKvGaO8Dfntvx4thaXtak', 50)\n",
      "('5GTBdEjZe7zEDp1N0eCZE4', 217)\n",
      "('7l3UuUZEqvxjhKYD2QBxOU', 172)\n",
      "('7l3UuUZEqvxjhKYD2QBxOU', 173)\n",
      "('7l3UuUZEqvxjhKYD2QBxOU', 118)\n",
      "('7gG2xMiojQrsTUGa7qeQoo', 118)\n",
      "('7l3UuUZEqvxjhKYD2QBxOU', 65)\n",
      "('7l3UuUZEqvxjhKYD2QBxOU', 157)\n",
      "('7l3UuUZEqvxjhKYD2QBxOU', 75)\n",
      "('0zLA16D7GXoT8K7XFaiCv3', 134)\n",
      "('7gG2xMiojQrsTUGa7qeQoo', 203)\n",
      "('7gG2xMiojQrsTUGa7qeQoo', 167)\n",
      "('7oJ3N7oVSwoa5sdpg6NCE6', 99)\n",
      "('4ZplewvZRLFcfBa5uyBbhd', 152)\n",
      "('179TZwPk0txEvjkraVTVKo', 215)\n",
      "('0sgwOySqG0fbNukjUa1BUt', 137)\n",
      "('7kofJygFUxxmag4EAYcCG3', 137)\n",
      "\n",
      "\n",
      "TABLA PAISES: pais_codigo, nombre\n",
      "('CO', 'Colombia')\n",
      "('CR', 'Costa Rica')\n",
      "('AR', 'Argentina')\n",
      "('CL', 'Chile')\n",
      "('EC', 'Ecuador')\n",
      "('MX', 'Mexico')\n",
      "\n",
      "\n",
      "TABLA SNAPSHOTS: fecha_snapshot\n",
      "(datetime.date(2024, 11, 24),)\n",
      "(datetime.date(2024, 11, 23),)\n",
      "(datetime.date(2024, 11, 22),)\n",
      "(datetime.date(2024, 11, 21),)\n",
      "(datetime.date(2024, 11, 20),)\n",
      "(datetime.date(2024, 11, 19),)\n",
      "(datetime.date(2024, 11, 18),)\n",
      "(datetime.date(2024, 11, 17),)\n",
      "\n",
      "\n",
      "TABLA RANKINGS: spotify_id, pais_codigo, fecha_snapshot, ranking_diario, movimiento_diario, movimiento_semanal\n",
      "('3mg9jYNC1NihbthlglzrWP', 'CO', datetime.date(2024, 11, 24), 1, 0, 0)\n",
      "('13BDiikG6y5o5cQTK0HpW6', 'CO', datetime.date(2024, 11, 24), 2, 0, 0)\n",
      "('2btNsI4OvcVl7SAHQQDHFB', 'CO', datetime.date(2024, 11, 24), 3, 0, 0)\n",
      "('0fKK51bU6lcCCwdNnv64t3', 'CO', datetime.date(2024, 11, 24), 4, 1, 9)\n",
      "('2ALQyXMC26Vew7JX7ert9M', 'CO', datetime.date(2024, 11, 24), 5, 1, -1)\n",
      "('7bywjHOc0wSjGGbj04XbVi', 'CO', datetime.date(2024, 11, 24), 6, 1, -1)\n",
      "('3KwYiawBfqngH7eaUHQn2N', 'CO', datetime.date(2024, 11, 24), 7, 2, 4)\n",
      "('2gmd7lY3QSzLh0xIY4cRvi', 'CO', datetime.date(2024, 11, 24), 8, 0, -2)\n",
      "('0iVEujJcafOBnxa654fJYu', 'CO', datetime.date(2024, 11, 24), 9, 41, 41)\n",
      "('1YYfyJ2yCvGFCxwjsIqEK9', 'CO', datetime.date(2024, 11, 24), 10, 0, 40)\n",
      "('7zYAuEf69m4bQmJvw0MTka', 'CO', datetime.date(2024, 11, 24), 11, -7, 39)\n",
      "('281YJmnThveWjsWVic9Ym6', 'CO', datetime.date(2024, 11, 24), 12, -1, -4)\n",
      "('6WatFBLVB0x077xWeoVc2k', 'CO', datetime.date(2024, 11, 24), 13, 1, -6)\n",
      "('0Qe2g06yzLBuuSvVmFiweP', 'CO', datetime.date(2024, 11, 24), 14, 2, -5)\n",
      "('4zbEItKoaRId1vRZkoO0Uh', 'CO', datetime.date(2024, 11, 24), 15, 0, 6)\n",
      "('5QjmUqgpPQgXgg4606DqZF', 'CO', datetime.date(2024, 11, 24), 16, -3, -6)\n",
      "('1fTjqf10accJCDYstPwwZ6', 'CO', datetime.date(2024, 11, 24), 17, 0, -2)\n",
      "('0l0vcZMU7AOeQmUIREoI2U', 'CO', datetime.date(2024, 11, 24), 18, -6, -1)\n",
      "('60u6hcpH5Qm1M3xESdNBrB', 'CO', datetime.date(2024, 11, 24), 19, -1, -3)\n",
      "('1cOboCuWYI2osTOfolMRS6', 'CO', datetime.date(2024, 11, 24), 20, -1, -8)\n",
      "('0qeIFEGRQqHoaJtLCl0U73', 'CO', datetime.date(2024, 11, 24), 21, -1, -7)\n",
      "('63pLfjK6FvcYJYMGwtHjd6', 'CO', datetime.date(2024, 11, 24), 22, -1, -4)\n",
      "('2CeKVsFFXG4QzA415QygGb', 'CO', datetime.date(2024, 11, 24), 23, -1, 2)\n",
      "('57pj5sOWSCAqZm088LMcE4', 'CO', datetime.date(2024, 11, 24), 24, 0, -4)\n",
      "('0Sr7ssScx54yxdM2ols7nW', 'CO', datetime.date(2024, 11, 24), 25, -2, -6)\n",
      "('1pLCpA1RN8avJxSD3ZCwhj', 'CO', datetime.date(2024, 11, 24), 26, 1, -4)\n",
      "('7iQXYTyuG13aoeHxGG28Nh', 'CO', datetime.date(2024, 11, 24), 27, 1, -3)\n",
      "('3vpvKFigw8bNApZzuOleGe', 'CO', datetime.date(2024, 11, 24), 28, -3, 3)\n",
      "('3u2jlo9kygiIAq7SPVuw6S', 'CO', datetime.date(2024, 11, 24), 29, -3, 6)\n",
      "('5pVJ3IlnpIorU44oXizzG5', 'CO', datetime.date(2024, 11, 24), 30, 0, -4)\n",
      "('6DUdDIRgLqCGq1DwkNWQTN', 'CO', datetime.date(2024, 11, 24), 31, 0, 3)\n",
      "('6a9Z1jUms915w4O7N1PxjY', 'CO', datetime.date(2024, 11, 24), 32, -3, -9)\n",
      "('3OJDtCdYs8QJnui708tEU3', 'CO', datetime.date(2024, 11, 24), 33, -1, -6)\n",
      "('4bw8mcDUSRWfQo63ZTYRnU', 'CO', datetime.date(2024, 11, 24), 34, -1, 5)\n",
      "('0zNMdrDEs5N0JPQ7RYQZln', 'CO', datetime.date(2024, 11, 24), 35, 0, -3)\n",
      "('05sO6FK8E9l2cfwnEUTjHq', 'CO', datetime.date(2024, 11, 24), 36, 3, -8)\n",
      "('2plbrEY59IikOBgBGLjaoe', 'CO', datetime.date(2024, 11, 24), 37, -3, 3)\n",
      "('6rZno3nqeT7hv2PnSWRuYS', 'CO', datetime.date(2024, 11, 24), 38, -2, 4)\n",
      "('505v13epFXodT9fVAJ6h8k', 'CO', datetime.date(2024, 11, 24), 39, -2, -6)\n",
      "('1JXcB149QtbcIpDUA6YZOB', 'CO', datetime.date(2024, 11, 24), 40, 1, 1)\n",
      "('2llFXBrftm6YJzBj3tpk0s', 'CO', datetime.date(2024, 11, 24), 41, -3, -11)\n",
      "('3GhmL9fuM8jwGcHCFbeo3v', 'CO', datetime.date(2024, 11, 24), 42, 4, 5)\n",
      "('5vNRhkKd0yEAg8suGBpjeY', 'CO', datetime.date(2024, 11, 24), 43, 2, 7)\n",
      "('1AddbBdKFz8wdqatGVSsYS', 'CO', datetime.date(2024, 11, 24), 44, -4, 6)\n",
      "('5RqSsdzTNPX1uzkmlHCFvK', 'CO', datetime.date(2024, 11, 24), 45, -3, 1)\n",
      "('6tuLAQURf4P97dD750iTaJ', 'CO', datetime.date(2024, 11, 24), 46, -3, 4)\n",
      "('0T2pB7P1VdXPhLdQZ488uH', 'CO', datetime.date(2024, 11, 24), 47, 0, 3)\n",
      "('0rNqDh9zWWJVTLS4VfceHP', 'CO', datetime.date(2024, 11, 24), 48, -4, -10)\n",
      "('5YJ4BVvTFmVCxUyhKejHfR', 'CO', datetime.date(2024, 11, 24), 49, 1, 1)\n",
      "('1sbNEFiURUYfy024cJX8JG', 'CO', datetime.date(2024, 11, 24), 50, 0, 0)\n",
      "('3mg9jYNC1NihbthlglzrWP', 'CO', datetime.date(2024, 11, 23), 1, 0, 0)\n",
      "('13BDiikG6y5o5cQTK0HpW6', 'CO', datetime.date(2024, 11, 23), 2, 0, 0)\n",
      "('2btNsI4OvcVl7SAHQQDHFB', 'CO', datetime.date(2024, 11, 23), 3, 0, 0)\n",
      "('7zYAuEf69m4bQmJvw0MTka', 'CO', datetime.date(2024, 11, 23), 4, 46, 46)\n",
      "('0fKK51bU6lcCCwdNnv64t3', 'CO', datetime.date(2024, 11, 23), 5, 0, 11)\n",
      "('2ALQyXMC26Vew7JX7ert9M', 'CO', datetime.date(2024, 11, 23), 6, -2, -2)\n",
      "('7bywjHOc0wSjGGbj04XbVi', 'CO', datetime.date(2024, 11, 23), 7, -1, -1)\n",
      "('2gmd7lY3QSzLh0xIY4cRvi', 'CO', datetime.date(2024, 11, 23), 8, -1, -3)\n",
      "('3KwYiawBfqngH7eaUHQn2N', 'CO', datetime.date(2024, 11, 23), 9, 0, 1)\n",
      "('1YYfyJ2yCvGFCxwjsIqEK9', 'CO', datetime.date(2024, 11, 23), 10, 7, 40)\n",
      "('281YJmnThveWjsWVic9Ym6', 'CO', datetime.date(2024, 11, 23), 11, -3, -3)\n",
      "('0l0vcZMU7AOeQmUIREoI2U', 'CO', datetime.date(2024, 11, 23), 12, 6, 38)\n",
      "('5QjmUqgpPQgXgg4606DqZF', 'CO', datetime.date(2024, 11, 23), 13, -2, -6)\n",
      "('6WatFBLVB0x077xWeoVc2k', 'CO', datetime.date(2024, 11, 23), 14, -4, -5)\n",
      "('4zbEItKoaRId1vRZkoO0Uh', 'CO', datetime.date(2024, 11, 23), 15, -2, 6)\n",
      "('0Qe2g06yzLBuuSvVmFiweP', 'CO', datetime.date(2024, 11, 23), 16, -4, -5)\n",
      "('1fTjqf10accJCDYstPwwZ6', 'CO', datetime.date(2024, 11, 23), 17, -2, -3)\n",
      "('60u6hcpH5Qm1M3xESdNBrB', 'CO', datetime.date(2024, 11, 23), 18, -2, -3)\n",
      "('1cOboCuWYI2osTOfolMRS6', 'CO', datetime.date(2024, 11, 23), 19, -5, -7)\n",
      "('0qeIFEGRQqHoaJtLCl0U73', 'CO', datetime.date(2024, 11, 23), 20, -1, -7)\n",
      "('63pLfjK6FvcYJYMGwtHjd6', 'CO', datetime.date(2024, 11, 23), 21, 0, -4)\n",
      "('2CeKVsFFXG4QzA415QygGb', 'CO', datetime.date(2024, 11, 23), 22, 2, 0)\n",
      "('0Sr7ssScx54yxdM2ols7nW', 'CO', datetime.date(2024, 11, 23), 23, -1, -4)\n",
      "('57pj5sOWSCAqZm088LMcE4', 'CO', datetime.date(2024, 11, 23), 24, -1, -6)\n",
      "('3vpvKFigw8bNApZzuOleGe', 'CO', datetime.date(2024, 11, 23), 25, 0, -1)\n",
      "('3u2jlo9kygiIAq7SPVuw6S', 'CO', datetime.date(2024, 11, 23), 26, 1, 7)\n",
      "('1pLCpA1RN8avJxSD3ZCwhj', 'CO', datetime.date(2024, 11, 23), 27, -7, -2)\n",
      "('7iQXYTyuG13aoeHxGG28Nh', 'CO', datetime.date(2024, 11, 23), 28, -2, 1)\n",
      "('6a9Z1jUms915w4O7N1PxjY', 'CO', datetime.date(2024, 11, 23), 29, 0, 1)\n",
      "('5pVJ3IlnpIorU44oXizzG5', 'CO', datetime.date(2024, 11, 23), 30, 1, -2)\n",
      "('6DUdDIRgLqCGq1DwkNWQTN', 'CO', datetime.date(2024, 11, 23), 31, -3, 3)\n",
      "('3OJDtCdYs8QJnui708tEU3', 'CO', datetime.date(2024, 11, 23), 32, 1, -5)\n",
      "('4bw8mcDUSRWfQo63ZTYRnU', 'CO', datetime.date(2024, 11, 23), 33, -3, 2)\n",
      "('2plbrEY59IikOBgBGLjaoe', 'CO', datetime.date(2024, 11, 23), 34, 1, -2)\n",
      "('0zNMdrDEs5N0JPQ7RYQZln', 'CO', datetime.date(2024, 11, 23), 35, 4, 2)\n",
      "('6rZno3nqeT7hv2PnSWRuYS', 'CO', datetime.date(2024, 11, 23), 36, 2, 8)\n",
      "('505v13epFXodT9fVAJ6h8k', 'CO', datetime.date(2024, 11, 23), 37, -3, -1)\n",
      "('2llFXBrftm6YJzBj3tpk0s', 'CO', datetime.date(2024, 11, 23), 38, 3, -12)\n",
      "('05sO6FK8E9l2cfwnEUTjHq', 'CO', datetime.date(2024, 11, 23), 39, -2, -8)\n",
      "('1AddbBdKFz8wdqatGVSsYS', 'CO', datetime.date(2024, 11, 23), 40, 10, 10)\n",
      "('1JXcB149QtbcIpDUA6YZOB', 'CO', datetime.date(2024, 11, 23), 41, -1, 4)\n",
      "('5RqSsdzTNPX1uzkmlHCFvK', 'CO', datetime.date(2024, 11, 23), 42, 3, 4)\n",
      "('6tuLAQURf4P97dD750iTaJ', 'CO', datetime.date(2024, 11, 23), 43, 5, 5)\n",
      "('0rNqDh9zWWJVTLS4VfceHP', 'CO', datetime.date(2024, 11, 23), 44, 0, -6)\n",
      "('5vNRhkKd0yEAg8suGBpjeY', 'CO', datetime.date(2024, 11, 23), 45, 4, 5)\n",
      "('3GhmL9fuM8jwGcHCFbeo3v', 'CO', datetime.date(2024, 11, 23), 46, -4, -7)\n",
      "('0T2pB7P1VdXPhLdQZ488uH', 'CO', datetime.date(2024, 11, 23), 47, 3, -7)\n",
      "('50zAEIE4B1QqhPjRMK2Xmh', 'CO', datetime.date(2024, 11, 23), 48, -1, 2)\n",
      "('0EhmTBq33eARyOz3SIi4P2', 'CO', datetime.date(2024, 11, 23), 49, 1, -6)\n",
      "('05yMrCIM3QQVLhlAlLMUVQ', 'CO', datetime.date(2024, 11, 23), 50, 0, 0)\n",
      "('3mg9jYNC1NihbthlglzrWP', 'CO', datetime.date(2024, 11, 22), 1, 0, 0)\n",
      "('13BDiikG6y5o5cQTK0HpW6', 'CO', datetime.date(2024, 11, 22), 2, 0, 0)\n",
      "('2btNsI4OvcVl7SAHQQDHFB', 'CO', datetime.date(2024, 11, 22), 3, 0, 0)\n",
      "('2ALQyXMC26Vew7JX7ert9M', 'CO', datetime.date(2024, 11, 22), 4, 0, 0)\n",
      "('0fKK51bU6lcCCwdNnv64t3', 'CO', datetime.date(2024, 11, 22), 5, 2, 45)\n",
      "('7bywjHOc0wSjGGbj04XbVi', 'CO', datetime.date(2024, 11, 22), 6, -1, -1)\n",
      "('2gmd7lY3QSzLh0xIY4cRvi', 'CO', datetime.date(2024, 11, 22), 7, -1, -1)\n",
      "('281YJmnThveWjsWVic9Ym6', 'CO', datetime.date(2024, 11, 22), 8, 2, 0)\n",
      "('3KwYiawBfqngH7eaUHQn2N', 'CO', datetime.date(2024, 11, 22), 9, -1, 4)\n",
      "('6WatFBLVB0x077xWeoVc2k', 'CO', datetime.date(2024, 11, 22), 10, -1, -1)\n",
      "('5QjmUqgpPQgXgg4606DqZF', 'CO', datetime.date(2024, 11, 22), 11, 0, -4)\n",
      "('0Qe2g06yzLBuuSvVmFiweP', 'CO', datetime.date(2024, 11, 22), 12, 0, -1)\n",
      "('4zbEItKoaRId1vRZkoO0Uh', 'CO', datetime.date(2024, 11, 22), 13, 4, 8)\n",
      "('1cOboCuWYI2osTOfolMRS6', 'CO', datetime.date(2024, 11, 22), 14, -1, -2)\n",
      "('1fTjqf10accJCDYstPwwZ6', 'CO', datetime.date(2024, 11, 22), 15, 0, 0)\n",
      "('60u6hcpH5Qm1M3xESdNBrB', 'CO', datetime.date(2024, 11, 22), 16, -2, 0)\n",
      "('1YYfyJ2yCvGFCxwjsIqEK9', 'CO', datetime.date(2024, 11, 22), 17, -1, 33)\n",
      "('0l0vcZMU7AOeQmUIREoI2U', 'CO', datetime.date(2024, 11, 22), 18, 5, 32)\n",
      "('0qeIFEGRQqHoaJtLCl0U73', 'CO', datetime.date(2024, 11, 22), 19, -1, -5)\n",
      "('1pLCpA1RN8avJxSD3ZCwhj', 'CO', datetime.date(2024, 11, 22), 20, -1, 13)\n",
      "('63pLfjK6FvcYJYMGwtHjd6', 'CO', datetime.date(2024, 11, 22), 21, 1, -3)\n",
      "('0Sr7ssScx54yxdM2ols7nW', 'CO', datetime.date(2024, 11, 22), 22, -2, -3)\n",
      "('57pj5sOWSCAqZm088LMcE4', 'CO', datetime.date(2024, 11, 22), 23, -2, -6)\n",
      "('2CeKVsFFXG4QzA415QygGb', 'CO', datetime.date(2024, 11, 22), 24, 1, -2)\n",
      "('3vpvKFigw8bNApZzuOleGe', 'CO', datetime.date(2024, 11, 22), 25, 1, -5)\n",
      "('7iQXYTyuG13aoeHxGG28Nh', 'CO', datetime.date(2024, 11, 22), 26, -2, 2)\n",
      "('3u2jlo9kygiIAq7SPVuw6S', 'CO', datetime.date(2024, 11, 22), 27, 4, 4)\n",
      "('6DUdDIRgLqCGq1DwkNWQTN', 'CO', datetime.date(2024, 11, 22), 28, 12, 2)\n",
      "('6a9Z1jUms915w4O7N1PxjY', 'CO', datetime.date(2024, 11, 22), 29, 6, -6)\n",
      "('4bw8mcDUSRWfQo63ZTYRnU', 'CO', datetime.date(2024, 11, 22), 30, 4, -3)\n",
      "('5pVJ3IlnpIorU44oXizzG5', 'CO', datetime.date(2024, 11, 22), 31, 2, -7)\n",
      "('5rRYtMoEDY3HrvV13jcsom', 'CO', datetime.date(2024, 11, 22), 32, 18, 18)\n",
      "('3OJDtCdYs8QJnui708tEU3', 'CO', datetime.date(2024, 11, 22), 33, -5, -23)\n",
      "('505v13epFXodT9fVAJ6h8k', 'CO', datetime.date(2024, 11, 22), 34, -5, -5)\n",
      "('2plbrEY59IikOBgBGLjaoe', 'CO', datetime.date(2024, 11, 22), 35, 2, -9)\n",
      "('2AyHptlbcCczCoyVANwPeK', 'CO', datetime.date(2024, 11, 22), 36, -9, 14)\n",
      "('05sO6FK8E9l2cfwnEUTjHq', 'CO', datetime.date(2024, 11, 22), 37, -5, -3)\n",
      "('6rZno3nqeT7hv2PnSWRuYS', 'CO', datetime.date(2024, 11, 22), 38, 3, 6)\n",
      "('0zNMdrDEs5N0JPQ7RYQZln', 'CO', datetime.date(2024, 11, 22), 39, -3, -7)\n",
      "('1JXcB149QtbcIpDUA6YZOB', 'CO', datetime.date(2024, 11, 22), 40, 5, -4)\n",
      "('2llFXBrftm6YJzBj3tpk0s', 'CO', datetime.date(2024, 11, 22), 41, -3, -16)\n",
      "('3GhmL9fuM8jwGcHCFbeo3v', 'CO', datetime.date(2024, 11, 22), 42, 0, 0)\n",
      "('7JwdbqIpiuWvGbRryKSuBz', 'CO', datetime.date(2024, 11, 22), 43, 7, 7)\n",
      "('0rNqDh9zWWJVTLS4VfceHP', 'CO', datetime.date(2024, 11, 22), 44, -5, -9)\n",
      "('5RqSsdzTNPX1uzkmlHCFvK', 'CO', datetime.date(2024, 11, 22), 45, -1, -7)\n",
      "('5YJ4BVvTFmVCxUyhKejHfR', 'CO', datetime.date(2024, 11, 22), 46, 0, 4)\n",
      "('50zAEIE4B1QqhPjRMK2Xmh', 'CO', datetime.date(2024, 11, 22), 47, 3, 3)\n",
      "('6tuLAQURf4P97dD750iTaJ', 'CO', datetime.date(2024, 11, 22), 48, 2, -2)\n",
      "('5vNRhkKd0yEAg8suGBpjeY', 'CO', datetime.date(2024, 11, 22), 49, -2, -2)\n",
      "('0EhmTBq33eARyOz3SIi4P2', 'CO', datetime.date(2024, 11, 22), 50, 0, -11)\n",
      "('3mg9jYNC1NihbthlglzrWP', 'CO', datetime.date(2024, 11, 21), 1, 0, 0)\n",
      "('13BDiikG6y5o5cQTK0HpW6', 'CO', datetime.date(2024, 11, 21), 2, 0, 0)\n",
      "('2btNsI4OvcVl7SAHQQDHFB', 'CO', datetime.date(2024, 11, 21), 3, 0, 0)\n",
      "('2ALQyXMC26Vew7JX7ert9M', 'CO', datetime.date(2024, 11, 21), 4, 0, 0)\n",
      "('7bywjHOc0wSjGGbj04XbVi', 'CO', datetime.date(2024, 11, 21), 5, 0, 1)\n",
      "('2gmd7lY3QSzLh0xIY4cRvi', 'CO', datetime.date(2024, 11, 21), 6, 0, 1)\n",
      "('0fKK51bU6lcCCwdNnv64t3', 'CO', datetime.date(2024, 11, 21), 7, 0, 43)\n",
      "('3KwYiawBfqngH7eaUHQn2N', 'CO', datetime.date(2024, 11, 21), 8, 2, 6)\n",
      "('6WatFBLVB0x077xWeoVc2k', 'CO', datetime.date(2024, 11, 21), 9, -1, 1)\n",
      "('281YJmnThveWjsWVic9Ym6', 'CO', datetime.date(2024, 11, 21), 10, -1, -2)\n",
      "('5QjmUqgpPQgXgg4606DqZF', 'CO', datetime.date(2024, 11, 21), 11, 0, -2)\n",
      "('0Qe2g06yzLBuuSvVmFiweP', 'CO', datetime.date(2024, 11, 21), 12, 0, -1)\n",
      "('1cOboCuWYI2osTOfolMRS6', 'CO', datetime.date(2024, 11, 21), 13, 0, -1)\n",
      "('60u6hcpH5Qm1M3xESdNBrB', 'CO', datetime.date(2024, 11, 21), 14, 1, 1)\n",
      "('1fTjqf10accJCDYstPwwZ6', 'CO', datetime.date(2024, 11, 21), 15, 3, 1)\n",
      "('1YYfyJ2yCvGFCxwjsIqEK9', 'CO', datetime.date(2024, 11, 21), 16, -2, 34)\n",
      "('4zbEItKoaRId1vRZkoO0Uh', 'CO', datetime.date(2024, 11, 21), 17, -1, 15)\n",
      "('0qeIFEGRQqHoaJtLCl0U73', 'CO', datetime.date(2024, 11, 21), 18, -1, -5)\n",
      "('1pLCpA1RN8avJxSD3ZCwhj', 'CO', datetime.date(2024, 11, 21), 19, 5, 31)\n",
      "('0Sr7ssScx54yxdM2ols7nW', 'CO', datetime.date(2024, 11, 21), 20, 2, -2)\n",
      "('57pj5sOWSCAqZm088LMcE4', 'CO', datetime.date(2024, 11, 21), 21, -1, -4)\n",
      "('63pLfjK6FvcYJYMGwtHjd6', 'CO', datetime.date(2024, 11, 21), 22, -1, -3)\n",
      "('0l0vcZMU7AOeQmUIREoI2U', 'CO', datetime.date(2024, 11, 21), 23, -4, 27)\n",
      "('7iQXYTyuG13aoeHxGG28Nh', 'CO', datetime.date(2024, 11, 21), 24, 2, -3)\n",
      "('2CeKVsFFXG4QzA415QygGb', 'CO', datetime.date(2024, 11, 21), 25, 2, 0)\n",
      "('3vpvKFigw8bNApZzuOleGe', 'CO', datetime.date(2024, 11, 21), 26, 4, -6)\n",
      "('2AyHptlbcCczCoyVANwPeK', 'CO', datetime.date(2024, 11, 21), 27, -4, 23)\n",
      "('3OJDtCdYs8QJnui708tEU3', 'CO', datetime.date(2024, 11, 21), 28, 1, -23)\n",
      "('505v13epFXodT9fVAJ6h8k', 'CO', datetime.date(2024, 11, 21), 29, 2, -1)\n",
      "('1sc1u87B3KcsNPf0jcYwgQ', 'CO', datetime.date(2024, 11, 21), 30, -5, 20)\n",
      "('3u2jlo9kygiIAq7SPVuw6S', 'CO', datetime.date(2024, 11, 21), 31, 4, -7)\n",
      "('05sO6FK8E9l2cfwnEUTjHq', 'CO', datetime.date(2024, 11, 21), 32, 1, -1)\n",
      "('5pVJ3IlnpIorU44oXizzG5', 'CO', datetime.date(2024, 11, 21), 33, -5, -7)\n",
      "('4bw8mcDUSRWfQo63ZTYRnU', 'CO', datetime.date(2024, 11, 21), 34, 3, 0)\n",
      "('6a9Z1jUms915w4O7N1PxjY', 'CO', datetime.date(2024, 11, 21), 35, -3, -8)\n",
      "('0zNMdrDEs5N0JPQ7RYQZln', 'CO', datetime.date(2024, 11, 21), 36, 4, -14)\n",
      "('2plbrEY59IikOBgBGLjaoe', 'CO', datetime.date(2024, 11, 21), 37, -3, -8)\n",
      "('2llFXBrftm6YJzBj3tpk0s', 'CO', datetime.date(2024, 11, 21), 38, -2, -8)\n",
      "('0rNqDh9zWWJVTLS4VfceHP', 'CO', datetime.date(2024, 11, 21), 39, 0, -4)\n",
      "('6DUdDIRgLqCGq1DwkNWQTN', 'CO', datetime.date(2024, 11, 21), 40, -2, -7)\n",
      "('6rZno3nqeT7hv2PnSWRuYS', 'CO', datetime.date(2024, 11, 21), 41, 0, 7)\n",
      "('3GhmL9fuM8jwGcHCFbeo3v', 'CO', datetime.date(2024, 11, 21), 42, 2, 2)\n",
      "('3KZCP2StVGdWkOKyRZNWA4', 'CO', datetime.date(2024, 11, 21), 43, 7, 7)\n",
      "('5RqSsdzTNPX1uzkmlHCFvK', 'CO', datetime.date(2024, 11, 21), 44, -2, -8)\n",
      "('1JXcB149QtbcIpDUA6YZOB', 'CO', datetime.date(2024, 11, 21), 45, -2, -6)\n",
      "('5YJ4BVvTFmVCxUyhKejHfR', 'CO', datetime.date(2024, 11, 21), 46, 3, 3)\n",
      "('5vNRhkKd0yEAg8suGBpjeY', 'CO', datetime.date(2024, 11, 21), 47, -1, -2)\n",
      "('2mLTxNa0bwZX8eNBsuODLX', 'CO', datetime.date(2024, 11, 21), 48, -1, 2)\n",
      "('7chTH3GBjjAyagf0SPCZDL', 'CO', datetime.date(2024, 11, 21), 49, 1, -9)\n",
      "('4jdwQISB7rhP1EO4JiwnJF', 'CO', datetime.date(2024, 11, 21), 50, 0, 0)\n",
      "('3mg9jYNC1NihbthlglzrWP', 'CO', datetime.date(2024, 11, 20), 1, 0, 0)\n",
      "('13BDiikG6y5o5cQTK0HpW6', 'CO', datetime.date(2024, 11, 20), 2, 0, 0)\n",
      "('2btNsI4OvcVl7SAHQQDHFB', 'CO', datetime.date(2024, 11, 20), 3, 0, 0)\n",
      "('2ALQyXMC26Vew7JX7ert9M', 'CO', datetime.date(2024, 11, 20), 4, 0, 1)\n",
      "('7bywjHOc0wSjGGbj04XbVi', 'CO', datetime.date(2024, 11, 20), 5, 0, 1)\n",
      "('2gmd7lY3QSzLh0xIY4cRvi', 'CO', datetime.date(2024, 11, 20), 6, 1, 1)\n",
      "('0fKK51bU6lcCCwdNnv64t3', 'CO', datetime.date(2024, 11, 20), 7, 3, 43)\n",
      "('6WatFBLVB0x077xWeoVc2k', 'CO', datetime.date(2024, 11, 20), 8, -2, 0)\n",
      "('281YJmnThveWjsWVic9Ym6', 'CO', datetime.date(2024, 11, 20), 9, -1, 1)\n",
      "('3KwYiawBfqngH7eaUHQn2N', 'CO', datetime.date(2024, 11, 20), 10, 1, 6)\n",
      "('5QjmUqgpPQgXgg4606DqZF', 'CO', datetime.date(2024, 11, 20), 11, -2, -2)\n",
      "('0Qe2g06yzLBuuSvVmFiweP', 'CO', datetime.date(2024, 11, 20), 12, 1, 5)\n",
      "('1cOboCuWYI2osTOfolMRS6', 'CO', datetime.date(2024, 11, 20), 13, -1, -2)\n",
      "('1YYfyJ2yCvGFCxwjsIqEK9', 'CO', datetime.date(2024, 11, 20), 14, 8, 36)\n",
      "('60u6hcpH5Qm1M3xESdNBrB', 'CO', datetime.date(2024, 11, 20), 15, 1, -1)\n",
      "('4zbEItKoaRId1vRZkoO0Uh', 'CO', datetime.date(2024, 11, 20), 16, 1, 26)\n",
      "('0qeIFEGRQqHoaJtLCl0U73', 'CO', datetime.date(2024, 11, 20), 17, -3, -5)\n",
      "('1fTjqf10accJCDYstPwwZ6', 'CO', datetime.date(2024, 11, 20), 18, -3, -5)\n",
      "('0l0vcZMU7AOeQmUIREoI2U', 'CO', datetime.date(2024, 11, 20), 19, 4, 31)\n",
      "('57pj5sOWSCAqZm088LMcE4', 'CO', datetime.date(2024, 11, 20), 20, -1, -5)\n",
      "('63pLfjK6FvcYJYMGwtHjd6', 'CO', datetime.date(2024, 11, 20), 21, -3, -2)\n",
      "('0Sr7ssScx54yxdM2ols7nW', 'CO', datetime.date(2024, 11, 20), 22, -1, -4)\n",
      "('2AyHptlbcCczCoyVANwPeK', 'CO', datetime.date(2024, 11, 20), 23, 27, 27)\n",
      "('1pLCpA1RN8avJxSD3ZCwhj', 'CO', datetime.date(2024, 11, 20), 24, -4, 26)\n",
      "('1sc1u87B3KcsNPf0jcYwgQ', 'CO', datetime.date(2024, 11, 20), 25, 7, 25)\n",
      "('7iQXYTyuG13aoeHxGG28Nh', 'CO', datetime.date(2024, 11, 20), 26, 0, -5)\n",
      "('2CeKVsFFXG4QzA415QygGb', 'CO', datetime.date(2024, 11, 20), 27, -3, -2)\n",
      "('5pVJ3IlnpIorU44oXizzG5', 'CO', datetime.date(2024, 11, 20), 28, 3, 2)\n",
      "('3OJDtCdYs8QJnui708tEU3', 'CO', datetime.date(2024, 11, 20), 29, -4, -25)\n",
      "('3vpvKFigw8bNApZzuOleGe', 'CO', datetime.date(2024, 11, 20), 30, -2, -7)\n",
      "('505v13epFXodT9fVAJ6h8k', 'CO', datetime.date(2024, 11, 20), 31, 3, -7)\n",
      "('6a9Z1jUms915w4O7N1PxjY', 'CO', datetime.date(2024, 11, 20), 32, -5, 0)\n",
      "('05sO6FK8E9l2cfwnEUTjHq', 'CO', datetime.date(2024, 11, 20), 33, 6, -2)\n",
      "('2plbrEY59IikOBgBGLjaoe', 'CO', datetime.date(2024, 11, 20), 34, 6, -5)\n",
      "('3u2jlo9kygiIAq7SPVuw6S', 'CO', datetime.date(2024, 11, 20), 35, 1, -9)\n",
      "('2llFXBrftm6YJzBj3tpk0s', 'CO', datetime.date(2024, 11, 20), 36, 2, 0)\n",
      "('4bw8mcDUSRWfQo63ZTYRnU', 'CO', datetime.date(2024, 11, 20), 37, -8, 1)\n",
      "('6DUdDIRgLqCGq1DwkNWQTN', 'CO', datetime.date(2024, 11, 20), 38, -5, -4)\n",
      "('0rNqDh9zWWJVTLS4VfceHP', 'CO', datetime.date(2024, 11, 20), 39, 5, 2)\n",
      "('0zNMdrDEs5N0JPQ7RYQZln', 'CO', datetime.date(2024, 11, 20), 40, -3, -18)\n",
      "('6rZno3nqeT7hv2PnSWRuYS', 'CO', datetime.date(2024, 11, 20), 41, 2, 9)\n",
      "('5RqSsdzTNPX1uzkmlHCFvK', 'CO', datetime.date(2024, 11, 20), 42, 0, -9)\n",
      "('1JXcB149QtbcIpDUA6YZOB', 'CO', datetime.date(2024, 11, 20), 43, -8, -6)\n",
      "('3GhmL9fuM8jwGcHCFbeo3v', 'CO', datetime.date(2024, 11, 20), 44, 2, 6)\n",
      "('1AddbBdKFz8wdqatGVSsYS', 'CO', datetime.date(2024, 11, 20), 45, 5, 5)\n",
      "('5vNRhkKd0yEAg8suGBpjeY', 'CO', datetime.date(2024, 11, 20), 46, 4, 3)\n",
      "('2mLTxNa0bwZX8eNBsuODLX', 'CO', datetime.date(2024, 11, 20), 47, 2, 3)\n",
      "('0EhmTBq33eARyOz3SIi4P2', 'CO', datetime.date(2024, 11, 20), 48, 2, 2)\n",
      "('5YJ4BVvTFmVCxUyhKejHfR', 'CO', datetime.date(2024, 11, 20), 49, 1, -14)\n",
      "('0zDO5avDZSXRwWzfuguIRb', 'CO', datetime.date(2024, 11, 20), 50, 0, 0)\n",
      "('3mg9jYNC1NihbthlglzrWP', 'CO', datetime.date(2024, 11, 19), 1, 0, 0)\n",
      "('13BDiikG6y5o5cQTK0HpW6', 'CO', datetime.date(2024, 11, 19), 2, 0, 0)\n",
      "('2btNsI4OvcVl7SAHQQDHFB', 'CO', datetime.date(2024, 11, 19), 3, 0, 1)\n",
      "('2ALQyXMC26Vew7JX7ert9M', 'CO', datetime.date(2024, 11, 19), 4, 1, 1)\n",
      "('7bywjHOc0wSjGGbj04XbVi', 'CO', datetime.date(2024, 11, 19), 5, -1, 1)\n",
      "('6WatFBLVB0x077xWeoVc2k', 'CO', datetime.date(2024, 11, 19), 6, 0, 2)\n",
      "('2gmd7lY3QSzLh0xIY4cRvi', 'CO', datetime.date(2024, 11, 19), 7, 0, 0)\n",
      "('281YJmnThveWjsWVic9Ym6', 'CO', datetime.date(2024, 11, 19), 8, 0, 1)\n",
      "('5QjmUqgpPQgXgg4606DqZF', 'CO', datetime.date(2024, 11, 19), 9, 0, 1)\n",
      "('0fKK51bU6lcCCwdNnv64t3', 'CO', datetime.date(2024, 11, 19), 10, 4, 40)\n",
      "('3KwYiawBfqngH7eaUHQn2N', 'CO', datetime.date(2024, 11, 19), 11, -1, 7)\n",
      "('1cOboCuWYI2osTOfolMRS6', 'CO', datetime.date(2024, 11, 19), 12, 1, 0)\n",
      "('0Qe2g06yzLBuuSvVmFiweP', 'CO', datetime.date(2024, 11, 19), 13, -2, 2)\n",
      "('0qeIFEGRQqHoaJtLCl0U73', 'CO', datetime.date(2024, 11, 19), 14, 1, -3)\n",
      "('1fTjqf10accJCDYstPwwZ6', 'CO', datetime.date(2024, 11, 19), 15, -3, -2)\n",
      "('60u6hcpH5Qm1M3xESdNBrB', 'CO', datetime.date(2024, 11, 19), 16, 0, -2)\n",
      "('4zbEItKoaRId1vRZkoO0Uh', 'CO', datetime.date(2024, 11, 19), 17, 0, 33)\n",
      "('63pLfjK6FvcYJYMGwtHjd6', 'CO', datetime.date(2024, 11, 19), 18, 2, -1)\n",
      "('57pj5sOWSCAqZm088LMcE4', 'CO', datetime.date(2024, 11, 19), 19, 0, -3)\n",
      "('1pLCpA1RN8avJxSD3ZCwhj', 'CO', datetime.date(2024, 11, 19), 20, 2, 30)\n",
      "('0Sr7ssScx54yxdM2ols7nW', 'CO', datetime.date(2024, 11, 19), 21, -3, -2)\n",
      "('1YYfyJ2yCvGFCxwjsIqEK9', 'CO', datetime.date(2024, 11, 19), 22, 9, 28)\n",
      "('0l0vcZMU7AOeQmUIREoI2U', 'CO', datetime.date(2024, 11, 19), 23, -2, 27)\n",
      "('2CeKVsFFXG4QzA415QygGb', 'CO', datetime.date(2024, 11, 19), 24, 3, -1)\n",
      "('3OJDtCdYs8QJnui708tEU3', 'CO', datetime.date(2024, 11, 19), 25, -2, -22)\n",
      "('7iQXYTyuG13aoeHxGG28Nh', 'CO', datetime.date(2024, 11, 19), 26, -1, -4)\n",
      "('6a9Z1jUms915w4O7N1PxjY', 'CO', datetime.date(2024, 11, 19), 27, -3, 7)\n",
      "('3vpvKFigw8bNApZzuOleGe', 'CO', datetime.date(2024, 11, 19), 28, 2, -1)\n",
      "('4bw8mcDUSRWfQo63ZTYRnU', 'CO', datetime.date(2024, 11, 19), 29, 0, 8)\n",
      "('5rRYtMoEDY3HrvV13jcsom', 'CO', datetime.date(2024, 11, 19), 30, 20, -4)\n",
      "('5pVJ3IlnpIorU44oXizzG5', 'CO', datetime.date(2024, 11, 19), 31, -5, -3)\n",
      "('1sc1u87B3KcsNPf0jcYwgQ', 'CO', datetime.date(2024, 11, 19), 32, 18, 18)\n",
      "('6DUdDIRgLqCGq1DwkNWQTN', 'CO', datetime.date(2024, 11, 19), 33, -5, 5)\n",
      "('505v13epFXodT9fVAJ6h8k', 'CO', datetime.date(2024, 11, 19), 34, -2, -10)\n",
      "('1JXcB149QtbcIpDUA6YZOB', 'CO', datetime.date(2024, 11, 19), 35, 1, 0)\n",
      "('3u2jlo9kygiIAq7SPVuw6S', 'CO', datetime.date(2024, 11, 19), 36, -3, -7)\n",
      "('0zNMdrDEs5N0JPQ7RYQZln', 'CO', datetime.date(2024, 11, 19), 37, -2, -12)\n",
      "('2llFXBrftm6YJzBj3tpk0s', 'CO', datetime.date(2024, 11, 19), 38, -4, -8)\n",
      "('05sO6FK8E9l2cfwnEUTjHq', 'CO', datetime.date(2024, 11, 19), 39, -2, -6)\n",
      "('2plbrEY59IikOBgBGLjaoe', 'CO', datetime.date(2024, 11, 19), 40, -1, -4)\n",
      "('2naqSVQHgiaoEpxtkVOhmK', 'CO', datetime.date(2024, 11, 19), 41, 8, 1)\n",
      "('5RqSsdzTNPX1uzkmlHCFvK', 'CO', datetime.date(2024, 11, 19), 42, -4, -10)\n",
      "('6rZno3nqeT7hv2PnSWRuYS', 'CO', datetime.date(2024, 11, 19), 43, -1, 7)\n",
      "('0rNqDh9zWWJVTLS4VfceHP', 'CO', datetime.date(2024, 11, 19), 44, -3, -3)\n",
      "('3KZCP2StVGdWkOKyRZNWA4', 'CO', datetime.date(2024, 11, 19), 45, -5, 5)\n",
      "('3GhmL9fuM8jwGcHCFbeo3v', 'CO', datetime.date(2024, 11, 19), 46, -2, 4)\n",
      "('0BoLTC9I3PYefcWd7FOhUh', 'CO', datetime.date(2024, 11, 19), 47, 3, -16)\n",
      "('5enCBu8FLjlLz60k9t15MA', 'CO', datetime.date(2024, 11, 19), 48, 2, 2)\n",
      "('2mLTxNa0bwZX8eNBsuODLX', 'CO', datetime.date(2024, 11, 19), 49, -4, -3)\n",
      "('2NFWEVIzLcWARyI8BzgA23', 'CO', datetime.date(2024, 11, 19), 50, 0, -10)\n",
      "('3mg9jYNC1NihbthlglzrWP', 'CO', datetime.date(2024, 11, 18), 1, 0, 0)\n",
      "('13BDiikG6y5o5cQTK0HpW6', 'CO', datetime.date(2024, 11, 18), 2, 0, 1)\n",
      "('2btNsI4OvcVl7SAHQQDHFB', 'CO', datetime.date(2024, 11, 18), 3, 0, -1)\n",
      "('7bywjHOc0wSjGGbj04XbVi', 'CO', datetime.date(2024, 11, 18), 4, 1, 1)\n",
      "('2ALQyXMC26Vew7JX7ert9M', 'CO', datetime.date(2024, 11, 18), 5, -1, -1)\n",
      "('6WatFBLVB0x077xWeoVc2k', 'CO', datetime.date(2024, 11, 18), 6, 1, 0)\n",
      "('2gmd7lY3QSzLh0xIY4cRvi', 'CO', datetime.date(2024, 11, 18), 7, -1, 0)\n",
      "('281YJmnThveWjsWVic9Ym6', 'CO', datetime.date(2024, 11, 18), 8, 0, 1)\n",
      "('5QjmUqgpPQgXgg4606DqZF', 'CO', datetime.date(2024, 11, 18), 9, 1, -1)\n",
      "('3KwYiawBfqngH7eaUHQn2N', 'CO', datetime.date(2024, 11, 18), 10, 1, 11)\n",
      "('0Qe2g06yzLBuuSvVmFiweP', 'CO', datetime.date(2024, 11, 18), 11, -2, -1)\n",
      "('1fTjqf10accJCDYstPwwZ6', 'CO', datetime.date(2024, 11, 18), 12, 3, 2)\n",
      "('1cOboCuWYI2osTOfolMRS6', 'CO', datetime.date(2024, 11, 18), 13, -1, 0)\n",
      "('0fKK51bU6lcCCwdNnv64t3', 'CO', datetime.date(2024, 11, 18), 14, -1, 36)\n",
      "('0qeIFEGRQqHoaJtLCl0U73', 'CO', datetime.date(2024, 11, 18), 15, -1, -3)\n",
      "('60u6hcpH5Qm1M3xESdNBrB', 'CO', datetime.date(2024, 11, 18), 16, 0, -1)\n",
      "('4zbEItKoaRId1vRZkoO0Uh', 'CO', datetime.date(2024, 11, 18), 17, 4, 33)\n",
      "('0Sr7ssScx54yxdM2ols7nW', 'CO', datetime.date(2024, 11, 18), 18, 1, 2)\n",
      "('57pj5sOWSCAqZm088LMcE4', 'CO', datetime.date(2024, 11, 18), 19, 1, 0)\n",
      "('63pLfjK6FvcYJYMGwtHjd6', 'CO', datetime.date(2024, 11, 18), 20, -2, -4)\n",
      "('0l0vcZMU7AOeQmUIREoI2U', 'CO', datetime.date(2024, 11, 18), 21, -4, 29)\n",
      "('1pLCpA1RN8avJxSD3ZCwhj', 'CO', datetime.date(2024, 11, 18), 22, 0, 28)\n",
      "('3OJDtCdYs8QJnui708tEU3', 'CO', datetime.date(2024, 11, 18), 23, 4, -12)\n",
      "('6a9Z1jUms915w4O7N1PxjY', 'CO', datetime.date(2024, 11, 18), 24, -1, 1)\n",
      "('7iQXYTyuG13aoeHxGG28Nh', 'CO', datetime.date(2024, 11, 18), 25, -1, -7)\n",
      "('5pVJ3IlnpIorU44oXizzG5', 'CO', datetime.date(2024, 11, 18), 26, 0, -3)\n",
      "('2CeKVsFFXG4QzA415QygGb', 'CO', datetime.date(2024, 11, 18), 27, -2, -10)\n",
      "('6DUdDIRgLqCGq1DwkNWQTN', 'CO', datetime.date(2024, 11, 18), 28, 6, 4)\n",
      "('4bw8mcDUSRWfQo63ZTYRnU', 'CO', datetime.date(2024, 11, 18), 29, 10, 1)\n",
      "('3vpvKFigw8bNApZzuOleGe', 'CO', datetime.date(2024, 11, 18), 30, 1, -6)\n",
      "('1YYfyJ2yCvGFCxwjsIqEK9', 'CO', datetime.date(2024, 11, 18), 31, 19, 19)\n",
      "('505v13epFXodT9fVAJ6h8k', 'CO', datetime.date(2024, 11, 18), 32, 1, -10)\n",
      "('3u2jlo9kygiIAq7SPVuw6S', 'CO', datetime.date(2024, 11, 18), 33, 2, -2)\n",
      "('2llFXBrftm6YJzBj3tpk0s', 'CO', datetime.date(2024, 11, 18), 34, -4, -6)\n",
      "('0zNMdrDEs5N0JPQ7RYQZln', 'CO', datetime.date(2024, 11, 18), 35, -3, -2)\n",
      "('1JXcB149QtbcIpDUA6YZOB', 'CO', datetime.date(2024, 11, 18), 36, 5, 0)\n",
      "('05sO6FK8E9l2cfwnEUTjHq', 'CO', datetime.date(2024, 11, 18), 37, -9, -11)\n",
      "('5RqSsdzTNPX1uzkmlHCFvK', 'CO', datetime.date(2024, 11, 18), 38, 8, -9)\n",
      "('2plbrEY59IikOBgBGLjaoe', 'CO', datetime.date(2024, 11, 18), 39, 1, -2)\n",
      "('3KZCP2StVGdWkOKyRZNWA4', 'CO', datetime.date(2024, 11, 18), 40, 3, 3)\n",
      "('0rNqDh9zWWJVTLS4VfceHP', 'CO', datetime.date(2024, 11, 18), 41, -3, -6)\n",
      "('6rZno3nqeT7hv2PnSWRuYS', 'CO', datetime.date(2024, 11, 18), 42, 0, 8)\n",
      "('4lqJsJd7kqWVvamQ4aFHA8', 'CO', datetime.date(2024, 11, 18), 43, -7, 7)\n",
      "('3GhmL9fuM8jwGcHCFbeo3v', 'CO', datetime.date(2024, 11, 18), 44, 3, 1)\n",
      "('2mLTxNa0bwZX8eNBsuODLX', 'CO', datetime.date(2024, 11, 18), 45, 5, -3)\n",
      "('0EhmTBq33eARyOz3SIi4P2', 'CO', datetime.date(2024, 11, 18), 46, 2, 4)\n",
      "('1uFW6czrHk5PsK3s6gOI7C', 'CO', datetime.date(2024, 11, 18), 47, -2, 3)\n",
      "('5YJ4BVvTFmVCxUyhKejHfR', 'CO', datetime.date(2024, 11, 18), 48, 2, 1)\n",
      "('2naqSVQHgiaoEpxtkVOhmK', 'CO', datetime.date(2024, 11, 18), 49, 1, 1)\n",
      "('5vNRhkKd0yEAg8suGBpjeY', 'CO', datetime.date(2024, 11, 18), 50, 0, 0)\n",
      "('3mg9jYNC1NihbthlglzrWP', 'CO', datetime.date(2024, 11, 17), 1, 0, 0)\n",
      "('13BDiikG6y5o5cQTK0HpW6', 'CO', datetime.date(2024, 11, 17), 2, 0, 1)\n",
      "('2btNsI4OvcVl7SAHQQDHFB', 'CO', datetime.date(2024, 11, 17), 3, 0, -1)\n",
      "('2ALQyXMC26Vew7JX7ert9M', 'CO', datetime.date(2024, 11, 17), 4, 0, 1)\n",
      "('7bywjHOc0wSjGGbj04XbVi', 'CO', datetime.date(2024, 11, 17), 5, 1, -1)\n",
      "('2gmd7lY3QSzLh0xIY4cRvi', 'CO', datetime.date(2024, 11, 17), 6, -1, 0)\n",
      "('6WatFBLVB0x077xWeoVc2k', 'CO', datetime.date(2024, 11, 17), 7, 2, 1)\n",
      "('281YJmnThveWjsWVic9Ym6', 'CO', datetime.date(2024, 11, 17), 8, 0, 2)\n",
      "('0Qe2g06yzLBuuSvVmFiweP', 'CO', datetime.date(2024, 11, 17), 9, 2, 0)\n",
      "('5QjmUqgpPQgXgg4606DqZF', 'CO', datetime.date(2024, 11, 17), 10, -3, -3)\n",
      "('3KwYiawBfqngH7eaUHQn2N', 'CO', datetime.date(2024, 11, 17), 11, -1, 9)\n",
      "('1cOboCuWYI2osTOfolMRS6', 'CO', datetime.date(2024, 11, 17), 12, 0, 1)\n",
      "('0fKK51bU6lcCCwdNnv64t3', 'CO', datetime.date(2024, 11, 17), 13, 3, 37)\n",
      "('0qeIFEGRQqHoaJtLCl0U73', 'CO', datetime.date(2024, 11, 17), 14, -1, -3)\n",
      "('1fTjqf10accJCDYstPwwZ6', 'CO', datetime.date(2024, 11, 17), 15, -1, 0)\n",
      "('60u6hcpH5Qm1M3xESdNBrB', 'CO', datetime.date(2024, 11, 17), 16, -1, -2)\n",
      "('0l0vcZMU7AOeQmUIREoI2U', 'CO', datetime.date(2024, 11, 17), 17, 33, 33)\n",
      "('63pLfjK6FvcYJYMGwtHjd6', 'CO', datetime.date(2024, 11, 17), 18, -1, -1)\n",
      "('0Sr7ssScx54yxdM2ols7nW', 'CO', datetime.date(2024, 11, 17), 19, 0, -1)\n",
      "('57pj5sOWSCAqZm088LMcE4', 'CO', datetime.date(2024, 11, 17), 20, -2, 1)\n",
      "('4zbEItKoaRId1vRZkoO0Uh', 'CO', datetime.date(2024, 11, 17), 21, 0, 29)\n",
      "('1pLCpA1RN8avJxSD3ZCwhj', 'CO', datetime.date(2024, 11, 17), 22, 3, 28)\n",
      "('6a9Z1jUms915w4O7N1PxjY', 'CO', datetime.date(2024, 11, 17), 23, 7, 8)\n",
      "('7iQXYTyuG13aoeHxGG28Nh', 'CO', datetime.date(2024, 11, 17), 24, 5, -5)\n",
      "('2CeKVsFFXG4QzA415QygGb', 'CO', datetime.date(2024, 11, 17), 25, -3, -9)\n",
      "('5pVJ3IlnpIorU44oXizzG5', 'CO', datetime.date(2024, 11, 17), 26, 2, -4)\n",
      "('3OJDtCdYs8QJnui708tEU3', 'CO', datetime.date(2024, 11, 17), 27, 0, -15)\n",
      "('05sO6FK8E9l2cfwnEUTjHq', 'CO', datetime.date(2024, 11, 17), 28, 3, -1)\n",
      "('1sc1u87B3KcsNPf0jcYwgQ', 'CO', datetime.date(2024, 11, 17), 29, -6, 21)\n",
      "('2llFXBrftm6YJzBj3tpk0s', 'CO', datetime.date(2024, 11, 17), 30, -4, -6)\n",
      "('3vpvKFigw8bNApZzuOleGe', 'CO', datetime.date(2024, 11, 17), 31, -7, -8)\n",
      "('0zNMdrDEs5N0JPQ7RYQZln', 'CO', datetime.date(2024, 11, 17), 32, 5, -3)\n",
      "('505v13epFXodT9fVAJ6h8k', 'CO', datetime.date(2024, 11, 17), 33, 3, -5)\n",
      "('6DUdDIRgLqCGq1DwkNWQTN', 'CO', datetime.date(2024, 11, 17), 34, 0, -9)\n",
      "('3u2jlo9kygiIAq7SPVuw6S', 'CO', datetime.date(2024, 11, 17), 35, -2, -9)\n",
      "('4lqJsJd7kqWVvamQ4aFHA8', 'CO', datetime.date(2024, 11, 17), 36, 14, 14)\n",
      "('5rRYtMoEDY3HrvV13jcsom', 'CO', datetime.date(2024, 11, 17), 37, -17, 13)\n",
      "('0rNqDh9zWWJVTLS4VfceHP', 'CO', datetime.date(2024, 11, 17), 38, 0, -2)\n",
      "('4bw8mcDUSRWfQo63ZTYRnU', 'CO', datetime.date(2024, 11, 17), 39, -4, -9)\n",
      "('2plbrEY59IikOBgBGLjaoe', 'CO', datetime.date(2024, 11, 17), 40, -8, -6)\n",
      "('1JXcB149QtbcIpDUA6YZOB', 'CO', datetime.date(2024, 11, 17), 41, 4, 0)\n",
      "('6rZno3nqeT7hv2PnSWRuYS', 'CO', datetime.date(2024, 11, 17), 42, 2, 8)\n",
      "('3KZCP2StVGdWkOKyRZNWA4', 'CO', datetime.date(2024, 11, 17), 43, -2, -6)\n",
      "('2eQFYGegTZaObk2kuBz83Z', 'CO', datetime.date(2024, 11, 17), 44, 6, 6)\n",
      "('1uFW6czrHk5PsK3s6gOI7C', 'CO', datetime.date(2024, 11, 17), 45, 5, 5)\n",
      "('5RqSsdzTNPX1uzkmlHCFvK', 'CO', datetime.date(2024, 11, 17), 46, 0, -14)\n",
      "('3GhmL9fuM8jwGcHCFbeo3v', 'CO', datetime.date(2024, 11, 17), 47, -8, -4)\n",
      "('0EhmTBq33eARyOz3SIi4P2', 'CO', datetime.date(2024, 11, 17), 48, -5, -4)\n",
      "('6eDU6kAtlOLVEkVu4st1Bt', 'CO', datetime.date(2024, 11, 17), 49, -7, -11)\n",
      "('1YYfyJ2yCvGFCxwjsIqEK9', 'CO', datetime.date(2024, 11, 17), 50, 0, 0)\n",
      "('1YYfyJ2yCvGFCxwjsIqEK9', 'CR', datetime.date(2024, 11, 24), 1, 0, 4)\n",
      "('0l0vcZMU7AOeQmUIREoI2U', 'CR', datetime.date(2024, 11, 24), 2, 0, -1)\n",
      "('3mg9jYNC1NihbthlglzrWP', 'CR', datetime.date(2024, 11, 24), 3, 0, 1)\n",
      "('0Sr7ssScx54yxdM2ols7nW', 'CR', datetime.date(2024, 11, 24), 4, 0, 5)\n",
      "('6WatFBLVB0x077xWeoVc2k', 'CR', datetime.date(2024, 11, 24), 5, 0, 11)\n",
      "('7bywjHOc0wSjGGbj04XbVi', 'CR', datetime.date(2024, 11, 24), 6, 2, 12)\n",
      "('0qeIFEGRQqHoaJtLCl0U73', 'CR', datetime.date(2024, 11, 24), 7, 0, 8)\n",
      "('2btNsI4OvcVl7SAHQQDHFB', 'CR', datetime.date(2024, 11, 24), 8, -2, 6)\n",
      "('5QjmUqgpPQgXgg4606DqZF', 'CR', datetime.date(2024, 11, 24), 9, 1, 12)\n",
      "('1uFW6czrHk5PsK3s6gOI7C', 'CR', datetime.date(2024, 11, 24), 10, -1, -8)\n",
      "('2gmd7lY3QSzLh0xIY4cRvi', 'CR', datetime.date(2024, 11, 24), 11, 1, 11)\n",
      "('6a9Z1jUms915w4O7N1PxjY', 'CR', datetime.date(2024, 11, 24), 12, -1, 5)\n",
      "('2eQFYGegTZaObk2kuBz83Z', 'CR', datetime.date(2024, 11, 24), 13, 0, -10)\n",
      "('4zbEItKoaRId1vRZkoO0Uh', 'CR', datetime.date(2024, 11, 24), 14, 1, 28)\n",
      "('1fTjqf10accJCDYstPwwZ6', 'CR', datetime.date(2024, 11, 24), 15, 2, 12)\n",
      "('5pVJ3IlnpIorU44oXizzG5', 'CR', datetime.date(2024, 11, 24), 16, 3, 10)\n",
      "('0O3U5iwTbiXCREMkvotJuN', 'CR', datetime.date(2024, 11, 24), 17, -1, 17)\n",
      "('60u6hcpH5Qm1M3xESdNBrB', 'CR', datetime.date(2024, 11, 24), 18, -4, 10)\n",
      "('13BDiikG6y5o5cQTK0HpW6', 'CR', datetime.date(2024, 11, 24), 19, -1, 11)\n",
      "('4bw8mcDUSRWfQo63ZTYRnU', 'CR', datetime.date(2024, 11, 24), 20, 2, 18)\n",
      "('1cOboCuWYI2osTOfolMRS6', 'CR', datetime.date(2024, 11, 24), 21, 0, 8)\n",
      "('2plbrEY59IikOBgBGLjaoe', 'CR', datetime.date(2024, 11, 24), 22, -2, 10)\n",
      "('0iVEujJcafOBnxa654fJYu', 'CR', datetime.date(2024, 11, 24), 23, 27, 27)\n",
      "('0Qe2g06yzLBuuSvVmFiweP', 'CR', datetime.date(2024, 11, 24), 24, 0, 12)\n",
      "('7tI8dRuH2Yc6RuoTjxo4dU', 'CR', datetime.date(2024, 11, 24), 25, 0, 8)\n",
      "('2FFr0vdtqPBTK3RW0c7T5C', 'CR', datetime.date(2024, 11, 24), 26, -3, 5)\n",
      "('5vNRhkKd0yEAg8suGBpjeY', 'CR', datetime.date(2024, 11, 24), 27, 2, 13)\n",
      "('0fKK51bU6lcCCwdNnv64t3', 'CR', datetime.date(2024, 11, 24), 28, -1, 22)\n",
      "('7iQXYTyuG13aoeHxGG28Nh', 'CR', datetime.date(2024, 11, 24), 29, -1, 12)\n",
      "('3OJDtCdYs8QJnui708tEU3', 'CR', datetime.date(2024, 11, 24), 30, 0, 9)\n",
      "('4lqJsJd7kqWVvamQ4aFHA8', 'CR', datetime.date(2024, 11, 24), 31, -5, -23)\n",
      "('2mLTxNa0bwZX8eNBsuODLX', 'CR', datetime.date(2024, 11, 24), 32, 2, 15)\n",
      "('0zNMdrDEs5N0JPQ7RYQZln', 'CR', datetime.date(2024, 11, 24), 33, -1, 13)\n",
      "('6kPCcIAGoTeRrh8qrmKa90', 'CR', datetime.date(2024, 11, 24), 34, 4, 16)\n",
      "('505v13epFXodT9fVAJ6h8k', 'CR', datetime.date(2024, 11, 24), 35, -4, 8)\n",
      "('3PJgmyLaybZtALX4mrgbiD', 'CR', datetime.date(2024, 11, 24), 36, -3, -29)\n",
      "('3fJHbMUnzceimOnNjp63fF', 'CR', datetime.date(2024, 11, 24), 37, -2, 11)\n",
      "('63pLfjK6FvcYJYMGwtHjd6', 'CR', datetime.date(2024, 11, 24), 38, 1, 7)\n",
      "('3KZCP2StVGdWkOKyRZNWA4', 'CR', datetime.date(2024, 11, 24), 39, -2, 10)\n",
      "('54zcJnb3tp9c5OVKREZ1Is', 'CR', datetime.date(2024, 11, 24), 40, 0, 10)\n",
      "('6j5LtifAnuTjTYvml61yFZ', 'CR', datetime.date(2024, 11, 24), 41, 5, 9)\n",
      "('5HR7yfhSCeoOHRQN05XnZQ', 'CR', datetime.date(2024, 11, 24), 42, -6, 8)\n",
      "('5RqSsdzTNPX1uzkmlHCFvK', 'CR', datetime.date(2024, 11, 24), 43, 2, 7)\n",
      "('2CeKVsFFXG4QzA415QygGb', 'CR', datetime.date(2024, 11, 24), 44, -1, 6)\n",
      "('6VsqdsaY4oV06NODea0L0J', 'CR', datetime.date(2024, 11, 24), 45, 4, 5)\n",
      "('0xyWkRMb09qdCDhloehCsi', 'CR', datetime.date(2024, 11, 24), 46, -4, -34)\n",
      "('5tZgkV8FTe3rtl8OcSeQAb', 'CR', datetime.date(2024, 11, 24), 47, -6, -37)\n",
      "('6dOtVTDdiauQNBQEDOtlAB', 'CR', datetime.date(2024, 11, 24), 48, 0, 2)\n",
      "('7xdRj1wA4XzYnXynPmtmnq', 'CR', datetime.date(2024, 11, 24), 49, -5, -38)\n",
      "('2J9B63FawlTaPdg4eH5X03', 'CR', datetime.date(2024, 11, 24), 50, 0, 0)\n",
      "('1YYfyJ2yCvGFCxwjsIqEK9', 'CR', datetime.date(2024, 11, 23), 1, 0, 49)\n",
      "('0l0vcZMU7AOeQmUIREoI2U', 'CR', datetime.date(2024, 11, 23), 2, 0, 48)\n",
      "('3mg9jYNC1NihbthlglzrWP', 'CR', datetime.date(2024, 11, 23), 3, 0, -2)\n",
      "('0Sr7ssScx54yxdM2ols7nW', 'CR', datetime.date(2024, 11, 23), 4, 0, -2)\n",
      "('6WatFBLVB0x077xWeoVc2k', 'CR', datetime.date(2024, 11, 23), 5, 0, 1)\n",
      "('2btNsI4OvcVl7SAHQQDHFB', 'CR', datetime.date(2024, 11, 23), 6, 2, -3)\n",
      "('0qeIFEGRQqHoaJtLCl0U73', 'CR', datetime.date(2024, 11, 23), 7, -1, -3)\n",
      "('7bywjHOc0wSjGGbj04XbVi', 'CR', datetime.date(2024, 11, 23), 8, -1, -1)\n",
      "('1uFW6czrHk5PsK3s6gOI7C', 'CR', datetime.date(2024, 11, 23), 9, 3, 41)\n",
      "('5QjmUqgpPQgXgg4606DqZF', 'CR', datetime.date(2024, 11, 23), 10, -1, -5)\n",
      "('6a9Z1jUms915w4O7N1PxjY', 'CR', datetime.date(2024, 11, 23), 11, 0, -2)\n",
      "('2gmd7lY3QSzLh0xIY4cRvi', 'CR', datetime.date(2024, 11, 23), 12, -2, -4)\n",
      "('2eQFYGegTZaObk2kuBz83Z', 'CR', datetime.date(2024, 11, 23), 13, 0, 37)\n",
      "('60u6hcpH5Qm1M3xESdNBrB', 'CR', datetime.date(2024, 11, 23), 14, 0, 2)\n",
      "('4zbEItKoaRId1vRZkoO0Uh', 'CR', datetime.date(2024, 11, 23), 15, 0, 12)\n",
      "('0O3U5iwTbiXCREMkvotJuN', 'CR', datetime.date(2024, 11, 23), 16, 0, 2)\n",
      "('1fTjqf10accJCDYstPwwZ6', 'CR', datetime.date(2024, 11, 23), 17, 1, -5)\n",
      "('13BDiikG6y5o5cQTK0HpW6', 'CR', datetime.date(2024, 11, 23), 18, 1, -7)\n",
      "('5pVJ3IlnpIorU44oXizzG5', 'CR', datetime.date(2024, 11, 23), 19, -2, -5)\n",
      "('2plbrEY59IikOBgBGLjaoe', 'CR', datetime.date(2024, 11, 23), 20, 2, -10)\n",
      "('1cOboCuWYI2osTOfolMRS6', 'CR', datetime.date(2024, 11, 23), 21, -1, -8)\n",
      "('4bw8mcDUSRWfQo63ZTYRnU', 'CR', datetime.date(2024, 11, 23), 22, -1, -2)\n",
      "('2FFr0vdtqPBTK3RW0c7T5C', 'CR', datetime.date(2024, 11, 23), 23, 1, -8)\n",
      "('0Qe2g06yzLBuuSvVmFiweP', 'CR', datetime.date(2024, 11, 23), 24, 1, -5)\n",
      "('7tI8dRuH2Yc6RuoTjxo4dU', 'CR', datetime.date(2024, 11, 23), 25, -2, -8)\n",
      "('4lqJsJd7kqWVvamQ4aFHA8', 'CR', datetime.date(2024, 11, 23), 26, 0, 24)\n",
      "('0fKK51bU6lcCCwdNnv64t3', 'CR', datetime.date(2024, 11, 23), 27, 6, 23)\n",
      "('7iQXYTyuG13aoeHxGG28Nh', 'CR', datetime.date(2024, 11, 23), 28, -1, -4)\n",
      "('5vNRhkKd0yEAg8suGBpjeY', 'CR', datetime.date(2024, 11, 23), 29, 1, -7)\n",
      "('3OJDtCdYs8QJnui708tEU3', 'CR', datetime.date(2024, 11, 23), 30, 1, -9)\n",
      "('505v13epFXodT9fVAJ6h8k', 'CR', datetime.date(2024, 11, 23), 31, -3, 1)\n",
      "('0zNMdrDEs5N0JPQ7RYQZln', 'CR', datetime.date(2024, 11, 23), 32, 6, -4)\n",
      "('3PJgmyLaybZtALX4mrgbiD', 'CR', datetime.date(2024, 11, 23), 33, -4, 17)\n",
      "('2mLTxNa0bwZX8eNBsuODLX', 'CR', datetime.date(2024, 11, 23), 34, -2, -1)\n",
      "('3fJHbMUnzceimOnNjp63fF', 'CR', datetime.date(2024, 11, 23), 35, -1, -1)\n",
      "('5HR7yfhSCeoOHRQN05XnZQ', 'CR', datetime.date(2024, 11, 23), 36, 4, 10)\n",
      "('3KZCP2StVGdWkOKyRZNWA4', 'CR', datetime.date(2024, 11, 23), 37, 5, 13)\n",
      "('6kPCcIAGoTeRrh8qrmKa90', 'CR', datetime.date(2024, 11, 23), 38, 3, -7)\n",
      "('63pLfjK6FvcYJYMGwtHjd6', 'CR', datetime.date(2024, 11, 23), 39, 5, -14)\n",
      "('54zcJnb3tp9c5OVKREZ1Is', 'CR', datetime.date(2024, 11, 23), 40, -1, 1)\n",
      "('5tZgkV8FTe3rtl8OcSeQAb', 'CR', datetime.date(2024, 11, 23), 41, -5, 9)\n",
      "('0xyWkRMb09qdCDhloehCsi', 'CR', datetime.date(2024, 11, 23), 42, -5, 8)\n",
      "('2CeKVsFFXG4QzA415QygGb', 'CR', datetime.date(2024, 11, 23), 43, 3, -17)\n",
      "('7xdRj1wA4XzYnXynPmtmnq', 'CR', datetime.date(2024, 11, 23), 44, -9, 6)\n",
      "('5RqSsdzTNPX1uzkmlHCFvK', 'CR', datetime.date(2024, 11, 23), 45, 0, -3)\n",
      "('6j5LtifAnuTjTYvml61yFZ', 'CR', datetime.date(2024, 11, 23), 46, 1, -8)\n",
      "('03IpZ9yqJlo3EIgDQUgBSF', 'CR', datetime.date(2024, 11, 23), 47, -4, -24)\n",
      "('6dOtVTDdiauQNBQEDOtlAB', 'CR', datetime.date(2024, 11, 23), 48, 0, -13)\n",
      "('6VsqdsaY4oV06NODea0L0J', 'CR', datetime.date(2024, 11, 23), 49, 1, 1)\n",
      "('4JtKlgBLKHtRTqixKHrrw8', 'CR', datetime.date(2024, 11, 23), 50, 0, -1)\n",
      "('1YYfyJ2yCvGFCxwjsIqEK9', 'CR', datetime.date(2024, 11, 22), 1, 0, 49)\n",
      "('0l0vcZMU7AOeQmUIREoI2U', 'CR', datetime.date(2024, 11, 22), 2, 2, 48)\n",
      "('3mg9jYNC1NihbthlglzrWP', 'CR', datetime.date(2024, 11, 22), 3, -1, -2)\n",
      "('0Sr7ssScx54yxdM2ols7nW', 'CR', datetime.date(2024, 11, 22), 4, -1, -2)\n",
      "('6WatFBLVB0x077xWeoVc2k', 'CR', datetime.date(2024, 11, 22), 5, 0, 1)\n",
      "('0qeIFEGRQqHoaJtLCl0U73', 'CR', datetime.date(2024, 11, 22), 6, 0, -3)\n",
      "('7bywjHOc0wSjGGbj04XbVi', 'CR', datetime.date(2024, 11, 22), 7, 0, 0)\n",
      "('2btNsI4OvcVl7SAHQQDHFB', 'CR', datetime.date(2024, 11, 22), 8, 0, -3)\n",
      "('5QjmUqgpPQgXgg4606DqZF', 'CR', datetime.date(2024, 11, 22), 9, 1, -5)\n",
      "('2gmd7lY3QSzLh0xIY4cRvi', 'CR', datetime.date(2024, 11, 22), 10, -1, -1)\n",
      "('6a9Z1jUms915w4O7N1PxjY', 'CR', datetime.date(2024, 11, 22), 11, 2, -1)\n",
      "('1uFW6czrHk5PsK3s6gOI7C', 'CR', datetime.date(2024, 11, 22), 12, -1, 38)\n",
      "('2eQFYGegTZaObk2kuBz83Z', 'CR', datetime.date(2024, 11, 22), 13, -1, 37)\n",
      "('60u6hcpH5Qm1M3xESdNBrB', 'CR', datetime.date(2024, 11, 22), 14, 0, 2)\n",
      "('4zbEItKoaRId1vRZkoO0Uh', 'CR', datetime.date(2024, 11, 22), 15, 9, 12)\n",
      "('0O3U5iwTbiXCREMkvotJuN', 'CR', datetime.date(2024, 11, 22), 16, -1, 2)\n",
      "('5pVJ3IlnpIorU44oXizzG5', 'CR', datetime.date(2024, 11, 22), 17, 0, -3)\n",
      "('1fTjqf10accJCDYstPwwZ6', 'CR', datetime.date(2024, 11, 22), 18, -2, -5)\n",
      "('13BDiikG6y5o5cQTK0HpW6', 'CR', datetime.date(2024, 11, 22), 19, 1, -2)\n",
      "('1cOboCuWYI2osTOfolMRS6', 'CR', datetime.date(2024, 11, 22), 20, -1, -9)\n",
      "('4bw8mcDUSRWfQo63ZTYRnU', 'CR', datetime.date(2024, 11, 22), 21, 2, -1)\n",
      "('2plbrEY59IikOBgBGLjaoe', 'CR', datetime.date(2024, 11, 22), 22, 0, -10)\n",
      "('7tI8dRuH2Yc6RuoTjxo4dU', 'CR', datetime.date(2024, 11, 22), 23, -5, -15)\n",
      "('2FFr0vdtqPBTK3RW0c7T5C', 'CR', datetime.date(2024, 11, 22), 24, -3, -9)\n",
      "('0Qe2g06yzLBuuSvVmFiweP', 'CR', datetime.date(2024, 11, 22), 25, 0, -6)\n",
      "('4lqJsJd7kqWVvamQ4aFHA8', 'CR', datetime.date(2024, 11, 22), 26, 2, 24)\n",
      "('7iQXYTyuG13aoeHxGG28Nh', 'CR', datetime.date(2024, 11, 22), 27, -1, -3)\n",
      "('505v13epFXodT9fVAJ6h8k', 'CR', datetime.date(2024, 11, 22), 28, 1, -3)\n",
      "('3PJgmyLaybZtALX4mrgbiD', 'CR', datetime.date(2024, 11, 22), 29, 2, 21)\n",
      "('5vNRhkKd0yEAg8suGBpjeY', 'CR', datetime.date(2024, 11, 22), 30, 0, -7)\n",
      "('3OJDtCdYs8QJnui708tEU3', 'CR', datetime.date(2024, 11, 22), 31, -4, -10)\n",
      "('2mLTxNa0bwZX8eNBsuODLX', 'CR', datetime.date(2024, 11, 22), 32, 0, -2)\n",
      "('0fKK51bU6lcCCwdNnv64t3', 'CR', datetime.date(2024, 11, 22), 33, 12, 17)\n",
      "('3fJHbMUnzceimOnNjp63fF', 'CR', datetime.date(2024, 11, 22), 34, -1, 3)\n",
      "('7xdRj1wA4XzYnXynPmtmnq', 'CR', datetime.date(2024, 11, 22), 35, 2, 15)\n",
      "('5tZgkV8FTe3rtl8OcSeQAb', 'CR', datetime.date(2024, 11, 22), 36, -1, 14)\n",
      "('0xyWkRMb09qdCDhloehCsi', 'CR', datetime.date(2024, 11, 22), 37, -1, 13)\n",
      "('0zNMdrDEs5N0JPQ7RYQZln', 'CR', datetime.date(2024, 11, 22), 38, 1, -10)\n",
      "('54zcJnb3tp9c5OVKREZ1Is', 'CR', datetime.date(2024, 11, 22), 39, -5, -5)\n",
      "('5HR7yfhSCeoOHRQN05XnZQ', 'CR', datetime.date(2024, 11, 22), 40, 6, 7)\n",
      "('6kPCcIAGoTeRrh8qrmKa90', 'CR', datetime.date(2024, 11, 22), 41, 0, -5)\n",
      "('3KZCP2StVGdWkOKyRZNWA4', 'CR', datetime.date(2024, 11, 22), 42, 8, -4)\n",
      "('03IpZ9yqJlo3EIgDQUgBSF', 'CR', datetime.date(2024, 11, 22), 43, 4, -21)\n",
      "('63pLfjK6FvcYJYMGwtHjd6', 'CR', datetime.date(2024, 11, 22), 44, -4, -18)\n",
      "('5RqSsdzTNPX1uzkmlHCFvK', 'CR', datetime.date(2024, 11, 22), 45, -3, -6)\n",
      "('2CeKVsFFXG4QzA415QygGb', 'CR', datetime.date(2024, 11, 22), 46, 2, -17)\n",
      "('6j5LtifAnuTjTYvml61yFZ', 'CR', datetime.date(2024, 11, 22), 47, -9, -6)\n",
      "('6dOtVTDdiauQNBQEDOtlAB', 'CR', datetime.date(2024, 11, 22), 48, -4, -13)\n",
      "('5UxEKpzvvLnjoC10XoogN3', 'CR', datetime.date(2024, 11, 22), 49, 0, 1)\n",
      "('4jjFjbqCTkaN1mGb0BMYl2', 'CR', datetime.date(2024, 11, 22), 50, -7, 0)\n",
      "('1YYfyJ2yCvGFCxwjsIqEK9', 'CR', datetime.date(2024, 11, 21), 1, 0, 49)\n",
      "('3mg9jYNC1NihbthlglzrWP', 'CR', datetime.date(2024, 11, 21), 2, 0, -1)\n",
      "('0Sr7ssScx54yxdM2ols7nW', 'CR', datetime.date(2024, 11, 21), 3, 1, -1)\n",
      "('0l0vcZMU7AOeQmUIREoI2U', 'CR', datetime.date(2024, 11, 21), 4, -1, 46)\n",
      "('6WatFBLVB0x077xWeoVc2k', 'CR', datetime.date(2024, 11, 21), 5, 0, -1)\n",
      "('0qeIFEGRQqHoaJtLCl0U73', 'CR', datetime.date(2024, 11, 21), 6, 1, -3)\n",
      "('7bywjHOc0wSjGGbj04XbVi', 'CR', datetime.date(2024, 11, 21), 7, 1, 0)\n",
      "('2btNsI4OvcVl7SAHQQDHFB', 'CR', datetime.date(2024, 11, 21), 8, 1, 0)\n",
      "('2gmd7lY3QSzLh0xIY4cRvi', 'CR', datetime.date(2024, 11, 21), 9, 3, 0)\n",
      "('5QjmUqgpPQgXgg4606DqZF', 'CR', datetime.date(2024, 11, 21), 10, 1, -4)\n",
      "('1uFW6czrHk5PsK3s6gOI7C', 'CR', datetime.date(2024, 11, 21), 11, -5, 39)\n",
      "('2eQFYGegTZaObk2kuBz83Z', 'CR', datetime.date(2024, 11, 21), 12, -2, 38)\n",
      "('6a9Z1jUms915w4O7N1PxjY', 'CR', datetime.date(2024, 11, 21), 13, 0, -3)\n",
      "('60u6hcpH5Qm1M3xESdNBrB', 'CR', datetime.date(2024, 11, 21), 14, 1, -1)\n",
      "('0O3U5iwTbiXCREMkvotJuN', 'CR', datetime.date(2024, 11, 21), 15, 1, 1)\n",
      "('1fTjqf10accJCDYstPwwZ6', 'CR', datetime.date(2024, 11, 21), 16, 2, -1)\n",
      "('5pVJ3IlnpIorU44oXizzG5', 'CR', datetime.date(2024, 11, 21), 17, -3, -3)\n",
      "('7tI8dRuH2Yc6RuoTjxo4dU', 'CR', datetime.date(2024, 11, 21), 18, 3, -13)\n",
      "('1cOboCuWYI2osTOfolMRS6', 'CR', datetime.date(2024, 11, 21), 19, -2, -8)\n",
      "('13BDiikG6y5o5cQTK0HpW6', 'CR', datetime.date(2024, 11, 21), 20, 2, -2)\n",
      "('2FFr0vdtqPBTK3RW0c7T5C', 'CR', datetime.date(2024, 11, 21), 21, 4, -4)\n",
      "('2plbrEY59IikOBgBGLjaoe', 'CR', datetime.date(2024, 11, 21), 22, -2, -10)\n",
      "('4bw8mcDUSRWfQo63ZTYRnU', 'CR', datetime.date(2024, 11, 21), 23, 1, -2)\n",
      "('4zbEItKoaRId1vRZkoO0Uh', 'CR', datetime.date(2024, 11, 21), 24, -5, 15)\n",
      "('0Qe2g06yzLBuuSvVmFiweP', 'CR', datetime.date(2024, 11, 21), 25, 2, -6)\n",
      "('7iQXYTyuG13aoeHxGG28Nh', 'CR', datetime.date(2024, 11, 21), 26, 2, -3)\n",
      "('3OJDtCdYs8QJnui708tEU3', 'CR', datetime.date(2024, 11, 21), 27, 2, -7)\n",
      "('4lqJsJd7kqWVvamQ4aFHA8', 'CR', datetime.date(2024, 11, 21), 28, -5, 22)\n",
      "('505v13epFXodT9fVAJ6h8k', 'CR', datetime.date(2024, 11, 21), 29, 2, -4)\n",
      "('5vNRhkKd0yEAg8suGBpjeY', 'CR', datetime.date(2024, 11, 21), 30, 4, -6)\n",
      "('3PJgmyLaybZtALX4mrgbiD', 'CR', datetime.date(2024, 11, 21), 31, -5, 19)\n",
      "('2mLTxNa0bwZX8eNBsuODLX', 'CR', datetime.date(2024, 11, 21), 32, 3, 2)\n",
      "('3fJHbMUnzceimOnNjp63fF', 'CR', datetime.date(2024, 11, 21), 33, 3, -6)\n",
      "('54zcJnb3tp9c5OVKREZ1Is', 'CR', datetime.date(2024, 11, 21), 34, 3, -6)\n",
      "('5tZgkV8FTe3rtl8OcSeQAb', 'CR', datetime.date(2024, 11, 21), 35, -2, 15)\n",
      "('0xyWkRMb09qdCDhloehCsi', 'CR', datetime.date(2024, 11, 21), 36, -4, 14)\n",
      "('7xdRj1wA4XzYnXynPmtmnq', 'CR', datetime.date(2024, 11, 21), 37, -7, 13)\n",
      "('6j5LtifAnuTjTYvml61yFZ', 'CR', datetime.date(2024, 11, 21), 38, 3, -5)\n",
      "('0zNMdrDEs5N0JPQ7RYQZln', 'CR', datetime.date(2024, 11, 21), 39, 1, -13)\n",
      "('63pLfjK6FvcYJYMGwtHjd6', 'CR', datetime.date(2024, 11, 21), 40, 3, -10)\n",
      "('6kPCcIAGoTeRrh8qrmKa90', 'CR', datetime.date(2024, 11, 21), 41, 3, 5)\n",
      "('5RqSsdzTNPX1uzkmlHCFvK', 'CR', datetime.date(2024, 11, 21), 42, 3, -11)\n",
      "('4jjFjbqCTkaN1mGb0BMYl2', 'CR', datetime.date(2024, 11, 21), 43, -4, 7)\n",
      "('6dOtVTDdiauQNBQEDOtlAB', 'CR', datetime.date(2024, 11, 21), 44, 6, -9)\n",
      "('0fKK51bU6lcCCwdNnv64t3', 'CR', datetime.date(2024, 11, 21), 45, 3, 5)\n",
      "('5HR7yfhSCeoOHRQN05XnZQ', 'CR', datetime.date(2024, 11, 21), 46, 1, 2)\n",
      "('03IpZ9yqJlo3EIgDQUgBSF', 'CR', datetime.date(2024, 11, 21), 47, -1, -25)\n",
      "('2CeKVsFFXG4QzA415QygGb', 'CR', datetime.date(2024, 11, 21), 48, 1, -19)\n",
      "('5UxEKpzvvLnjoC10XoogN3', 'CR', datetime.date(2024, 11, 21), 49, -11, 1)\n",
      "('3KZCP2StVGdWkOKyRZNWA4', 'CR', datetime.date(2024, 11, 21), 50, 0, -5)\n",
      "('1YYfyJ2yCvGFCxwjsIqEK9', 'CR', datetime.date(2024, 11, 20), 1, 1, 49)\n",
      "('3mg9jYNC1NihbthlglzrWP', 'CR', datetime.date(2024, 11, 20), 2, -1, -1)\n",
      "('0l0vcZMU7AOeQmUIREoI2U', 'CR', datetime.date(2024, 11, 20), 3, 0, 47)\n",
      "('0Sr7ssScx54yxdM2ols7nW', 'CR', datetime.date(2024, 11, 20), 4, 1, -2)\n",
      "('6WatFBLVB0x077xWeoVc2k', 'CR', datetime.date(2024, 11, 20), 5, -1, 0)\n",
      "('1uFW6czrHk5PsK3s6gOI7C', 'CR', datetime.date(2024, 11, 20), 6, 0, 44)\n",
      "('0qeIFEGRQqHoaJtLCl0U73', 'CR', datetime.date(2024, 11, 20), 7, 0, -4)\n",
      "('7bywjHOc0wSjGGbj04XbVi', 'CR', datetime.date(2024, 11, 20), 8, 1, -1)\n",
      "('2btNsI4OvcVl7SAHQQDHFB', 'CR', datetime.date(2024, 11, 20), 9, -1, 2)\n",
      "('2eQFYGegTZaObk2kuBz83Z', 'CR', datetime.date(2024, 11, 20), 10, 0, 40)\n",
      "('5QjmUqgpPQgXgg4606DqZF', 'CR', datetime.date(2024, 11, 20), 11, 1, -5)\n",
      "('2gmd7lY3QSzLh0xIY4cRvi', 'CR', datetime.date(2024, 11, 20), 12, 1, -4)\n",
      "('6a9Z1jUms915w4O7N1PxjY', 'CR', datetime.date(2024, 11, 20), 13, -2, -1)\n",
      "('5pVJ3IlnpIorU44oXizzG5', 'CR', datetime.date(2024, 11, 20), 14, 1, 0)\n",
      "('60u6hcpH5Qm1M3xESdNBrB', 'CR', datetime.date(2024, 11, 20), 15, 1, -2)\n",
      "('0O3U5iwTbiXCREMkvotJuN', 'CR', datetime.date(2024, 11, 20), 16, -2, -1)\n",
      "('1cOboCuWYI2osTOfolMRS6', 'CR', datetime.date(2024, 11, 20), 17, 3, -8)\n",
      "('1fTjqf10accJCDYstPwwZ6', 'CR', datetime.date(2024, 11, 20), 18, 1, -2)\n",
      "('4zbEItKoaRId1vRZkoO0Uh', 'CR', datetime.date(2024, 11, 20), 19, 6, 17)\n",
      "('2plbrEY59IikOBgBGLjaoe', 'CR', datetime.date(2024, 11, 20), 20, 4, -10)\n",
      "('7tI8dRuH2Yc6RuoTjxo4dU', 'CR', datetime.date(2024, 11, 20), 21, 1, -17)\n",
      "('13BDiikG6y5o5cQTK0HpW6', 'CR', datetime.date(2024, 11, 20), 22, -1, -2)\n",
      "('4lqJsJd7kqWVvamQ4aFHA8', 'CR', datetime.date(2024, 11, 20), 23, 3, 27)\n",
      "('4bw8mcDUSRWfQo63ZTYRnU', 'CR', datetime.date(2024, 11, 20), 24, -6, -1)\n",
      "('2FFr0vdtqPBTK3RW0c7T5C', 'CR', datetime.date(2024, 11, 20), 25, -8, -8)\n",
      "('3PJgmyLaybZtALX4mrgbiD', 'CR', datetime.date(2024, 11, 20), 26, -3, 24)\n",
      "('0Qe2g06yzLBuuSvVmFiweP', 'CR', datetime.date(2024, 11, 20), 27, 1, 2)\n",
      "('7iQXYTyuG13aoeHxGG28Nh', 'CR', datetime.date(2024, 11, 20), 28, 1, -10)\n",
      "('3OJDtCdYs8QJnui708tEU3', 'CR', datetime.date(2024, 11, 20), 29, -2, -8)\n",
      "('7xdRj1wA4XzYnXynPmtmnq', 'CR', datetime.date(2024, 11, 20), 30, 3, 20)\n",
      "('505v13epFXodT9fVAJ6h8k', 'CR', datetime.date(2024, 11, 20), 31, 1, -9)\n",
      "('0xyWkRMb09qdCDhloehCsi', 'CR', datetime.date(2024, 11, 20), 32, 5, 18)\n",
      "('5tZgkV8FTe3rtl8OcSeQAb', 'CR', datetime.date(2024, 11, 20), 33, 1, 17)\n",
      "('5vNRhkKd0yEAg8suGBpjeY', 'CR', datetime.date(2024, 11, 20), 34, 4, -10)\n",
      "('2mLTxNa0bwZX8eNBsuODLX', 'CR', datetime.date(2024, 11, 20), 35, -4, -1)\n",
      "('3fJHbMUnzceimOnNjp63fF', 'CR', datetime.date(2024, 11, 20), 36, -6, -11)\n",
      "('54zcJnb3tp9c5OVKREZ1Is', 'CR', datetime.date(2024, 11, 20), 37, 2, -9)\n",
      "('5UxEKpzvvLnjoC10XoogN3', 'CR', datetime.date(2024, 11, 20), 38, 3, 12)\n",
      "('4jjFjbqCTkaN1mGb0BMYl2', 'CR', datetime.date(2024, 11, 20), 39, 8, 11)\n",
      "('0zNMdrDEs5N0JPQ7RYQZln', 'CR', datetime.date(2024, 11, 20), 40, 0, -14)\n",
      "('6j5LtifAnuTjTYvml61yFZ', 'CR', datetime.date(2024, 11, 20), 41, -6, -11)\n",
      "('3HCcfBsa4TdiC0so0fPnRi', 'CR', datetime.date(2024, 11, 20), 42, 2, 8)\n",
      "('63pLfjK6FvcYJYMGwtHjd6', 'CR', datetime.date(2024, 11, 20), 43, 0, -12)\n",
      "('6kPCcIAGoTeRrh8qrmKa90', 'CR', datetime.date(2024, 11, 20), 44, 1, 1)\n",
      "('5RqSsdzTNPX1uzkmlHCFvK', 'CR', datetime.date(2024, 11, 20), 45, 3, -12)\n",
      "('03IpZ9yqJlo3EIgDQUgBSF', 'CR', datetime.date(2024, 11, 20), 46, 4, -27)\n",
      "('5HR7yfhSCeoOHRQN05XnZQ', 'CR', datetime.date(2024, 11, 20), 47, -11, -3)\n",
      "('0fKK51bU6lcCCwdNnv64t3', 'CR', datetime.date(2024, 11, 20), 48, 2, 2)\n",
      "('2CeKVsFFXG4QzA415QygGb', 'CR', datetime.date(2024, 11, 20), 49, 1, -22)\n",
      "('2J0TjDpiUlwgFRvVxtaLud', 'CR', datetime.date(2024, 11, 20), 50, 0, 0)\n",
      "('3mg9jYNC1NihbthlglzrWP', 'CR', datetime.date(2024, 11, 19), 1, 0, 0)\n",
      "('1YYfyJ2yCvGFCxwjsIqEK9', 'CR', datetime.date(2024, 11, 19), 2, 2, 48)\n",
      "('0l0vcZMU7AOeQmUIREoI2U', 'CR', datetime.date(2024, 11, 19), 3, -1, 47)\n",
      "('6WatFBLVB0x077xWeoVc2k', 'CR', datetime.date(2024, 11, 19), 4, 3, 0)\n",
      "('0Sr7ssScx54yxdM2ols7nW', 'CR', datetime.date(2024, 11, 19), 5, 0, -3)\n",
      "('1uFW6czrHk5PsK3s6gOI7C', 'CR', datetime.date(2024, 11, 19), 6, -3, 44)\n",
      "('0qeIFEGRQqHoaJtLCl0U73', 'CR', datetime.date(2024, 11, 19), 7, 3, -4)\n",
      "('2btNsI4OvcVl7SAHQQDHFB', 'CR', datetime.date(2024, 11, 19), 8, 0, 2)\n",
      "('7bywjHOc0wSjGGbj04XbVi', 'CR', datetime.date(2024, 11, 19), 9, 0, -2)\n",
      "('2eQFYGegTZaObk2kuBz83Z', 'CR', datetime.date(2024, 11, 19), 10, -4, 40)\n",
      "('6a9Z1jUms915w4O7N1PxjY', 'CR', datetime.date(2024, 11, 19), 11, 0, -2)\n",
      "('5QjmUqgpPQgXgg4606DqZF', 'CR', datetime.date(2024, 11, 19), 12, 0, -6)\n",
      "('2gmd7lY3QSzLh0xIY4cRvi', 'CR', datetime.date(2024, 11, 19), 13, 0, -5)\n",
      "('0O3U5iwTbiXCREMkvotJuN', 'CR', datetime.date(2024, 11, 19), 14, 0, -3)\n",
      "('5pVJ3IlnpIorU44oXizzG5', 'CR', datetime.date(2024, 11, 19), 15, 1, -2)\n",
      "('60u6hcpH5Qm1M3xESdNBrB', 'CR', datetime.date(2024, 11, 19), 16, 1, -2)\n",
      "('2FFr0vdtqPBTK3RW0c7T5C', 'CR', datetime.date(2024, 11, 19), 17, 7, -2)\n",
      "('4bw8mcDUSRWfQo63ZTYRnU', 'CR', datetime.date(2024, 11, 19), 18, 1, 2)\n",
      "('1fTjqf10accJCDYstPwwZ6', 'CR', datetime.date(2024, 11, 19), 19, -4, -2)\n",
      "('1cOboCuWYI2osTOfolMRS6', 'CR', datetime.date(2024, 11, 19), 20, 3, -8)\n",
      "('13BDiikG6y5o5cQTK0HpW6', 'CR', datetime.date(2024, 11, 19), 21, 0, 3)\n",
      "('7tI8dRuH2Yc6RuoTjxo4dU', 'CR', datetime.date(2024, 11, 19), 22, 0, -17)\n",
      "('3PJgmyLaybZtALX4mrgbiD', 'CR', datetime.date(2024, 11, 19), 23, -3, 27)\n",
      "('2plbrEY59IikOBgBGLjaoe', 'CR', datetime.date(2024, 11, 19), 24, 3, -8)\n",
      "('4zbEItKoaRId1vRZkoO0Uh', 'CR', datetime.date(2024, 11, 19), 25, 9, 23)\n",
      "('4lqJsJd7kqWVvamQ4aFHA8', 'CR', datetime.date(2024, 11, 19), 26, -8, 24)\n",
      "('3OJDtCdYs8QJnui708tEU3', 'CR', datetime.date(2024, 11, 19), 27, 3, -9)\n",
      "('0Qe2g06yzLBuuSvVmFiweP', 'CR', datetime.date(2024, 11, 19), 28, 3, 5)\n",
      "('7iQXYTyuG13aoeHxGG28Nh', 'CR', datetime.date(2024, 11, 19), 29, 3, -10)\n",
      "('3fJHbMUnzceimOnNjp63fF', 'CR', datetime.date(2024, 11, 19), 30, 10, -7)\n",
      "('2mLTxNa0bwZX8eNBsuODLX', 'CR', datetime.date(2024, 11, 19), 31, 5, -5)\n",
      "('505v13epFXodT9fVAJ6h8k', 'CR', datetime.date(2024, 11, 19), 32, 5, -11)\n",
      "('7xdRj1wA4XzYnXynPmtmnq', 'CR', datetime.date(2024, 11, 19), 33, -7, 17)\n",
      "('5tZgkV8FTe3rtl8OcSeQAb', 'CR', datetime.date(2024, 11, 19), 34, -9, 16)\n",
      "('6j5LtifAnuTjTYvml61yFZ', 'CR', datetime.date(2024, 11, 19), 35, 14, -3)\n",
      "('5HR7yfhSCeoOHRQN05XnZQ', 'CR', datetime.date(2024, 11, 19), 36, 10, 1)\n",
      "('0xyWkRMb09qdCDhloehCsi', 'CR', datetime.date(2024, 11, 19), 37, -8, 13)\n",
      "('5vNRhkKd0yEAg8suGBpjeY', 'CR', datetime.date(2024, 11, 19), 38, 0, -10)\n",
      "('54zcJnb3tp9c5OVKREZ1Is', 'CR', datetime.date(2024, 11, 19), 39, 5, -12)\n",
      "('0zNMdrDEs5N0JPQ7RYQZln', 'CR', datetime.date(2024, 11, 19), 40, 3, -10)\n",
      "('5UxEKpzvvLnjoC10XoogN3', 'CR', datetime.date(2024, 11, 19), 41, -13, 9)\n",
      "('0bYg9bo50gSsH3LtXe2SQn', 'CR', datetime.date(2024, 11, 19), 42, 8, -3)\n",
      "('63pLfjK6FvcYJYMGwtHjd6', 'CR', datetime.date(2024, 11, 19), 43, 7, -14)\n",
      "('3HCcfBsa4TdiC0so0fPnRi', 'CR', datetime.date(2024, 11, 19), 44, -11, 6)\n",
      "('6kPCcIAGoTeRrh8qrmKa90', 'CR', datetime.date(2024, 11, 19), 45, 0, 0)\n",
      "('2yzshFeBIwH8tWIqHEFLeD', 'CR', datetime.date(2024, 11, 19), 46, 4, -12)\n",
      "('4jjFjbqCTkaN1mGb0BMYl2', 'CR', datetime.date(2024, 11, 19), 47, -12, 3)\n",
      "('5RqSsdzTNPX1uzkmlHCFvK', 'CR', datetime.date(2024, 11, 19), 48, 2, -17)\n",
      "('3KZCP2StVGdWkOKyRZNWA4', 'CR', datetime.date(2024, 11, 19), 49, -2, 1)\n",
      "('3tt9i3Hhzq84dPS8H7iSiJ', 'CR', datetime.date(2024, 11, 19), 50, 0, -14)\n",
      "('3mg9jYNC1NihbthlglzrWP', 'CR', datetime.date(2024, 11, 18), 1, 3, 0)\n",
      "('0l0vcZMU7AOeQmUIREoI2U', 'CR', datetime.date(2024, 11, 18), 2, -1, 48)\n",
      "('1uFW6czrHk5PsK3s6gOI7C', 'CR', datetime.date(2024, 11, 18), 3, -1, 47)\n",
      "('1YYfyJ2yCvGFCxwjsIqEK9', 'CR', datetime.date(2024, 11, 18), 4, 1, 46)\n",
      "('0Sr7ssScx54yxdM2ols7nW', 'CR', datetime.date(2024, 11, 18), 5, 4, -3)\n",
      "('2eQFYGegTZaObk2kuBz83Z', 'CR', datetime.date(2024, 11, 18), 6, -3, 44)\n",
      "('6WatFBLVB0x077xWeoVc2k', 'CR', datetime.date(2024, 11, 18), 7, 9, -3)\n",
      "('2btNsI4OvcVl7SAHQQDHFB', 'CR', datetime.date(2024, 11, 18), 8, 6, 0)\n",
      "('7bywjHOc0wSjGGbj04XbVi', 'CR', datetime.date(2024, 11, 18), 9, 9, -3)\n",
      "('0qeIFEGRQqHoaJtLCl0U73', 'CR', datetime.date(2024, 11, 18), 10, 5, -7)\n",
      "('6a9Z1jUms915w4O7N1PxjY', 'CR', datetime.date(2024, 11, 18), 11, 6, -2)\n",
      "('5QjmUqgpPQgXgg4606DqZF', 'CR', datetime.date(2024, 11, 18), 12, 9, -7)\n",
      "('2gmd7lY3QSzLh0xIY4cRvi', 'CR', datetime.date(2024, 11, 18), 13, 9, -6)\n",
      "('0O3U5iwTbiXCREMkvotJuN', 'CR', datetime.date(2024, 11, 18), 14, 20, -3)\n",
      "('1fTjqf10accJCDYstPwwZ6', 'CR', datetime.date(2024, 11, 18), 15, 12, 0)\n",
      "('5pVJ3IlnpIorU44oXizzG5', 'CR', datetime.date(2024, 11, 18), 16, 10, -6)\n",
      "('60u6hcpH5Qm1M3xESdNBrB', 'CR', datetime.date(2024, 11, 18), 17, 11, -3)\n",
      "('4lqJsJd7kqWVvamQ4aFHA8', 'CR', datetime.date(2024, 11, 18), 18, -10, 32)\n",
      "('4bw8mcDUSRWfQo63ZTYRnU', 'CR', datetime.date(2024, 11, 18), 19, 19, -2)\n",
      "('3PJgmyLaybZtALX4mrgbiD', 'CR', datetime.date(2024, 11, 18), 20, -13, 30)\n",
      "('13BDiikG6y5o5cQTK0HpW6', 'CR', datetime.date(2024, 11, 18), 21, 9, 2)\n",
      "('7tI8dRuH2Yc6RuoTjxo4dU', 'CR', datetime.date(2024, 11, 18), 22, 11, -10)\n",
      "('1cOboCuWYI2osTOfolMRS6', 'CR', datetime.date(2024, 11, 18), 23, 6, -10)\n",
      "('2FFr0vdtqPBTK3RW0c7T5C', 'CR', datetime.date(2024, 11, 18), 24, 7, -6)\n",
      "('5tZgkV8FTe3rtl8OcSeQAb', 'CR', datetime.date(2024, 11, 18), 25, -15, 25)\n",
      "('7xdRj1wA4XzYnXynPmtmnq', 'CR', datetime.date(2024, 11, 18), 26, -15, 24)\n",
      "('2plbrEY59IikOBgBGLjaoe', 'CR', datetime.date(2024, 11, 18), 27, 5, -11)\n",
      "('5UxEKpzvvLnjoC10XoogN3', 'CR', datetime.date(2024, 11, 18), 28, -22, 22)\n",
      "('0xyWkRMb09qdCDhloehCsi', 'CR', datetime.date(2024, 11, 18), 29, -17, 21)\n",
      "('3OJDtCdYs8QJnui708tEU3', 'CR', datetime.date(2024, 11, 18), 30, 9, -8)\n",
      "('0Qe2g06yzLBuuSvVmFiweP', 'CR', datetime.date(2024, 11, 18), 31, 5, -12)\n",
      "('7iQXYTyuG13aoeHxGG28Nh', 'CR', datetime.date(2024, 11, 18), 32, 9, -12)\n",
      "('3HCcfBsa4TdiC0so0fPnRi', 'CR', datetime.date(2024, 11, 18), 33, -20, 17)\n",
      "('4zbEItKoaRId1vRZkoO0Uh', 'CR', datetime.date(2024, 11, 18), 34, 8, 16)\n",
      "('4jjFjbqCTkaN1mGb0BMYl2', 'CR', datetime.date(2024, 11, 18), 35, -12, 15)\n",
      "('2mLTxNa0bwZX8eNBsuODLX', 'CR', datetime.date(2024, 11, 18), 36, 11, -9)\n",
      "('505v13epFXodT9fVAJ6h8k', 'CR', datetime.date(2024, 11, 18), 37, 6, -12)\n",
      "('5vNRhkKd0yEAg8suGBpjeY', 'CR', datetime.date(2024, 11, 18), 38, 2, -8)\n",
      "('2J0TjDpiUlwgFRvVxtaLud', 'CR', datetime.date(2024, 11, 18), 39, -19, 11)\n",
      "('3fJHbMUnzceimOnNjp63fF', 'CR', datetime.date(2024, 11, 18), 40, 8, -14)\n",
      "('7v12ia1PFVN9jSgU43rJnS', 'CR', datetime.date(2024, 11, 18), 41, -22, 9)\n",
      "('0dDr2LgiACQVkZYJeStWh6', 'CR', datetime.date(2024, 11, 18), 42, -17, 8)\n",
      "('0zNMdrDEs5N0JPQ7RYQZln', 'CR', datetime.date(2024, 11, 18), 43, 3, -8)\n",
      "('54zcJnb3tp9c5OVKREZ1Is', 'CR', datetime.date(2024, 11, 18), 44, 6, -15)\n",
      "('6kPCcIAGoTeRrh8qrmKa90', 'CR', datetime.date(2024, 11, 18), 45, 5, -12)\n",
      "('5HR7yfhSCeoOHRQN05XnZQ', 'CR', datetime.date(2024, 11, 18), 46, 4, -10)\n",
      "('3KZCP2StVGdWkOKyRZNWA4', 'CR', datetime.date(2024, 11, 18), 47, 2, 1)\n",
      "('1UTLq40xh63wMrHELGnKWW', 'CR', datetime.date(2024, 11, 18), 48, -24, 2)\n",
      "('6j5LtifAnuTjTYvml61yFZ', 'CR', datetime.date(2024, 11, 18), 49, 1, -6)\n",
      "('2J9B63FawlTaPdg4eH5X03', 'CR', datetime.date(2024, 11, 18), 50, 0, 0)\n",
      "('0l0vcZMU7AOeQmUIREoI2U', 'CR', datetime.date(2024, 11, 17), 1, 49, 49)\n",
      "('1uFW6czrHk5PsK3s6gOI7C', 'CR', datetime.date(2024, 11, 17), 2, 48, 48)\n",
      "('2eQFYGegTZaObk2kuBz83Z', 'CR', datetime.date(2024, 11, 17), 3, 47, 47)\n",
      "('3mg9jYNC1NihbthlglzrWP', 'CR', datetime.date(2024, 11, 17), 4, -3, -3)\n",
      "('1YYfyJ2yCvGFCxwjsIqEK9', 'CR', datetime.date(2024, 11, 17), 5, 45, 45)\n",
      "('5UxEKpzvvLnjoC10XoogN3', 'CR', datetime.date(2024, 11, 17), 6, 44, 44)\n",
      "('3PJgmyLaybZtALX4mrgbiD', 'CR', datetime.date(2024, 11, 17), 7, 43, 43)\n",
      "('4lqJsJd7kqWVvamQ4aFHA8', 'CR', datetime.date(2024, 11, 17), 8, 42, 42)\n",
      "('0Sr7ssScx54yxdM2ols7nW', 'CR', datetime.date(2024, 11, 17), 9, -7, -7)\n",
      "('5tZgkV8FTe3rtl8OcSeQAb', 'CR', datetime.date(2024, 11, 17), 10, 40, 40)\n",
      "('7xdRj1wA4XzYnXynPmtmnq', 'CR', datetime.date(2024, 11, 17), 11, 39, 39)\n",
      "('0xyWkRMb09qdCDhloehCsi', 'CR', datetime.date(2024, 11, 17), 12, 38, 38)\n",
      "('3HCcfBsa4TdiC0so0fPnRi', 'CR', datetime.date(2024, 11, 17), 13, 37, 37)\n",
      "('2btNsI4OvcVl7SAHQQDHFB', 'CR', datetime.date(2024, 11, 17), 14, -11, -6)\n",
      "('0qeIFEGRQqHoaJtLCl0U73', 'CR', datetime.date(2024, 11, 17), 15, -11, -12)\n",
      "('6WatFBLVB0x077xWeoVc2k', 'CR', datetime.date(2024, 11, 17), 16, -10, -12)\n",
      "('6a9Z1jUms915w4O7N1PxjY', 'CR', datetime.date(2024, 11, 17), 17, -8, -6)\n",
      "('7bywjHOc0wSjGGbj04XbVi', 'CR', datetime.date(2024, 11, 17), 18, -11, -11)\n",
      "('7v12ia1PFVN9jSgU43rJnS', 'CR', datetime.date(2024, 11, 17), 19, 31, 31)\n",
      "('2J0TjDpiUlwgFRvVxtaLud', 'CR', datetime.date(2024, 11, 17), 20, 30, 30)\n",
      "('5QjmUqgpPQgXgg4606DqZF', 'CR', datetime.date(2024, 11, 17), 21, -16, -16)\n",
      "('2gmd7lY3QSzLh0xIY4cRvi', 'CR', datetime.date(2024, 11, 17), 22, -14, -13)\n",
      "('4jjFjbqCTkaN1mGb0BMYl2', 'CR', datetime.date(2024, 11, 17), 23, 27, 27)\n",
      "('1UTLq40xh63wMrHELGnKWW', 'CR', datetime.date(2024, 11, 17), 24, 26, 26)\n",
      "('0dDr2LgiACQVkZYJeStWh6', 'CR', datetime.date(2024, 11, 17), 25, 25, 25)\n",
      "('5pVJ3IlnpIorU44oXizzG5', 'CR', datetime.date(2024, 11, 17), 26, -12, -16)\n",
      "('1fTjqf10accJCDYstPwwZ6', 'CR', datetime.date(2024, 11, 17), 27, -15, -10)\n",
      "('60u6hcpH5Qm1M3xESdNBrB', 'CR', datetime.date(2024, 11, 17), 28, -12, -15)\n",
      "('1cOboCuWYI2osTOfolMRS6', 'CR', datetime.date(2024, 11, 17), 29, -16, -17)\n",
      "('13BDiikG6y5o5cQTK0HpW6', 'CR', datetime.date(2024, 11, 17), 30, -19, -8)\n",
      "('2FFr0vdtqPBTK3RW0c7T5C', 'CR', datetime.date(2024, 11, 17), 31, -16, -12)\n",
      "('2plbrEY59IikOBgBGLjaoe', 'CR', datetime.date(2024, 11, 17), 32, -22, -18)\n",
      "('7tI8dRuH2Yc6RuoTjxo4dU', 'CR', datetime.date(2024, 11, 17), 33, -16, -27)\n",
      "('0O3U5iwTbiXCREMkvotJuN', 'CR', datetime.date(2024, 11, 17), 34, -16, -19)\n",
      "('63jUTfcbudnrqoPCC5Qp4i', 'CR', datetime.date(2024, 11, 17), 35, 15, 15)\n",
      "('0Qe2g06yzLBuuSvVmFiweP', 'CR', datetime.date(2024, 11, 17), 36, -17, -20)\n",
      "('4O3EdWEn3apRHpiZxYabtl', 'CR', datetime.date(2024, 11, 17), 37, 13, 13)\n",
      "('4bw8mcDUSRWfQo63ZTYRnU', 'CR', datetime.date(2024, 11, 17), 38, -18, -18)\n",
      "('3OJDtCdYs8QJnui708tEU3', 'CR', datetime.date(2024, 11, 17), 39, -18, -16)\n",
      "('5vNRhkKd0yEAg8suGBpjeY', 'CR', datetime.date(2024, 11, 17), 40, -18, -14)\n",
      "('7iQXYTyuG13aoeHxGG28Nh', 'CR', datetime.date(2024, 11, 17), 41, -17, -20)\n",
      "('4zbEItKoaRId1vRZkoO0Uh', 'CR', datetime.date(2024, 11, 17), 42, -15, 8)\n",
      "('505v13epFXodT9fVAJ6h8k', 'CR', datetime.date(2024, 11, 17), 43, -11, -15)\n",
      "('03IpZ9yqJlo3EIgDQUgBSF', 'CR', datetime.date(2024, 11, 17), 44, -21, -26)\n",
      "('63pLfjK6FvcYJYMGwtHjd6', 'CR', datetime.date(2024, 11, 17), 45, -20, -18)\n",
      "('0zNMdrDEs5N0JPQ7RYQZln', 'CR', datetime.date(2024, 11, 17), 46, -18, -12)\n",
      "('2mLTxNa0bwZX8eNBsuODLX', 'CR', datetime.date(2024, 11, 17), 47, -14, -11)\n",
      "('3fJHbMUnzceimOnNjp63fF', 'CR', datetime.date(2024, 11, 17), 48, -14, -19)\n",
      "('3KZCP2StVGdWkOKyRZNWA4', 'CR', datetime.date(2024, 11, 17), 49, 1, -5)\n",
      "('6j5LtifAnuTjTYvml61yFZ', 'CR', datetime.date(2024, 11, 17), 50, -12, -9)\n",
      "('03IpZ9yqJlo3EIgDQUgBSF', 'AR', datetime.date(2024, 11, 24), 1, 0, 0)\n",
      "('5MKbWaXeSQSmzmo7gPQha1', 'AR', datetime.date(2024, 11, 24), 2, 0, 1)\n",
      "('0c82YIGpQ5dCaXpTNCk4sb', 'AR', datetime.date(2024, 11, 24), 3, 0, -1)\n",
      "('6WatFBLVB0x077xWeoVc2k', 'AR', datetime.date(2024, 11, 24), 4, 1, 2)\n",
      "('5AkLEnorFvb7WIJOGqKYVT', 'AR', datetime.date(2024, 11, 24), 5, -1, 0)\n",
      "('0Sr7ssScx54yxdM2ols7nW', 'AR', datetime.date(2024, 11, 24), 6, 0, 1)\n",
      "('4dLLdfiniBhDP9dlJQIOi4', 'AR', datetime.date(2024, 11, 24), 7, 3, 2)\n",
      "('7yrTny7FLWLbfIzsxoicWj', 'AR', datetime.date(2024, 11, 24), 8, -1, -4)\n",
      "('6kPCcIAGoTeRrh8qrmKa90', 'AR', datetime.date(2024, 11, 24), 9, 2, 2)\n",
      "('0qeIFEGRQqHoaJtLCl0U73', 'AR', datetime.date(2024, 11, 24), 10, -1, 0)\n",
      "('0EVxchTHYIgx618OrpcrdQ', 'AR', datetime.date(2024, 11, 24), 11, -3, -3)\n",
      "('0SoBfYjQHvL6cuWHtPUYnq', 'AR', datetime.date(2024, 11, 24), 12, 0, 0)\n",
      "('1TyBUtMxdmRfXhW3MmbxtQ', 'AR', datetime.date(2024, 11, 24), 13, 3, 2)\n",
      "('5aZ8rf2aPfZrnRWLA7bByo', 'AR', datetime.date(2024, 11, 24), 14, -1, -1)\n",
      "('5DSMm0BZXlSvqArsTX00Ge', 'AR', datetime.date(2024, 11, 24), 15, -1, -1)\n",
      "('2N0hVk2Ant8751xPZUjCV2', 'AR', datetime.date(2024, 11, 24), 16, 1, 0)\n",
      "('7bywjHOc0wSjGGbj04XbVi', 'AR', datetime.date(2024, 11, 24), 17, 1, 3)\n",
      "('39Pc4a04VgCtcc7m0XKi9M', 'AR', datetime.date(2024, 11, 24), 18, -3, -1)\n",
      "('1db75lVrSgDFZI1gZh8JlV', 'AR', datetime.date(2024, 11, 24), 19, 0, -1)\n",
      "('42mrOMjkQb7jRKatu0bqg4', 'AR', datetime.date(2024, 11, 24), 20, 3, 9)\n",
      "('2xbH0CuDbid800YW5nMPzR', 'AR', datetime.date(2024, 11, 24), 21, 8, 3)\n",
      "('1MCArCVJUgBUrBnzUoZqmq', 'AR', datetime.date(2024, 11, 24), 22, -1, 0)\n",
      "('6ViJgiKfyqfs52x2pGhuPF', 'AR', datetime.date(2024, 11, 24), 23, -1, 5)\n",
      "('4eqXTlaHeK6xkM1fRx9wR5', 'AR', datetime.date(2024, 11, 24), 24, 16, -5)\n",
      "('3OJDtCdYs8QJnui708tEU3', 'AR', datetime.date(2024, 11, 24), 25, 6, 6)\n",
      "('26y2gBrbiFJIOUjIlSQfdH', 'AR', datetime.date(2024, 11, 24), 26, -6, -5)\n",
      "('3KeYEr9ogMBemsOfQIJmZp', 'AR', datetime.date(2024, 11, 24), 27, 0, -4)\n",
      "('4jn3R3KF5hx2fCiXlj89yE', 'AR', datetime.date(2024, 11, 24), 28, -4, -3)\n",
      "('3cWo162YkfLIFyB3DWbVoH', 'AR', datetime.date(2024, 11, 24), 29, 10, -2)\n",
      "('0l0vcZMU7AOeQmUIREoI2U', 'AR', datetime.date(2024, 11, 24), 30, 5, 20)\n",
      "('4xXvGEiTkoaIkOMWa4u3Mn', 'AR', datetime.date(2024, 11, 24), 31, 3, 18)\n",
      "('42wdz3j7gstgUuhoFLCXqd', 'AR', datetime.date(2024, 11, 24), 32, -2, 5)\n",
      "('2RmtEc2ZNDCzAU3vH0AbKx', 'AR', datetime.date(2024, 11, 24), 33, -5, -3)\n",
      "('0CgpCtEPvyDizcg2p47VrU', 'AR', datetime.date(2024, 11, 24), 34, -9, 2)\n",
      "('2bNCiY24Eh4saMcc23bvUN', 'AR', datetime.date(2024, 11, 24), 35, 6, 7)\n",
      "('2AFC9ad4nGauS1cgm7FCqU', 'AR', datetime.date(2024, 11, 24), 36, -3, -10)\n",
      "('6CzozhzNVBfxmUthlZiYm4', 'AR', datetime.date(2024, 11, 24), 37, -11, -3)\n",
      "('5QjmUqgpPQgXgg4606DqZF', 'AR', datetime.date(2024, 11, 24), 38, 0, -6)\n",
      "('3oNnzH6hmqIGIhJ1NcHlrh', 'AR', datetime.date(2024, 11, 24), 39, 8, 11)\n",
      "('7eNwwoxDR8KVzNAuGvliAO', 'AR', datetime.date(2024, 11, 24), 40, 4, -5)\n",
      "('2N9LvPp7o61eerdZEyKQ19', 'AR', datetime.date(2024, 11, 24), 41, 8, 9)\n",
      "('6MuJUSYCqA4FpMogUHzb2R', 'AR', datetime.date(2024, 11, 24), 42, -10, 4)\n",
      "('63rRgkllF0FDeZ9fpOkFKl', 'AR', datetime.date(2024, 11, 24), 43, -6, -10)\n",
      "('2plbrEY59IikOBgBGLjaoe', 'AR', datetime.date(2024, 11, 24), 44, -8, -3)\n",
      "('0Cs2ANiGsCOQLKnCrNJ6hA', 'AR', datetime.date(2024, 11, 24), 45, 0, -7)\n",
      "('6PhRhocBXP4y7NpciGmzra', 'AR', datetime.date(2024, 11, 24), 46, 4, -3)\n",
      "('6vRQqxOhUFd78p5tL8jXr7', 'AR', datetime.date(2024, 11, 24), 47, 3, 3)\n",
      "('5vHWh24GAsXJ7tnIu8v7UN', 'AR', datetime.date(2024, 11, 24), 48, 0, 2)\n",
      "('45DB3yqxYGAnKN3YmLWbAX', 'AR', datetime.date(2024, 11, 24), 49, 1, 1)\n",
      "('6Es8Sk3xe1HiJ2MXCfHHwR', 'AR', datetime.date(2024, 11, 24), 50, 0, -3)\n",
      "('03IpZ9yqJlo3EIgDQUgBSF', 'AR', datetime.date(2024, 11, 23), 1, 0, 0)\n",
      "('5MKbWaXeSQSmzmo7gPQha1', 'AR', datetime.date(2024, 11, 23), 2, 0, 1)\n",
      "('0c82YIGpQ5dCaXpTNCk4sb', 'AR', datetime.date(2024, 11, 23), 3, 0, -1)\n",
      "('5AkLEnorFvb7WIJOGqKYVT', 'AR', datetime.date(2024, 11, 23), 4, 2, 4)\n",
      "('6WatFBLVB0x077xWeoVc2k', 'AR', datetime.date(2024, 11, 23), 5, -1, 2)\n",
      "('0Sr7ssScx54yxdM2ols7nW', 'AR', datetime.date(2024, 11, 23), 6, -1, -1)\n",
      "('7yrTny7FLWLbfIzsxoicWj', 'AR', datetime.date(2024, 11, 23), 7, 0, -3)\n",
      "('0EVxchTHYIgx618OrpcrdQ', 'AR', datetime.date(2024, 11, 23), 8, 0, -2)\n",
      "('0qeIFEGRQqHoaJtLCl0U73', 'AR', datetime.date(2024, 11, 23), 9, 0, 1)\n",
      "('4dLLdfiniBhDP9dlJQIOi4', 'AR', datetime.date(2024, 11, 23), 10, 0, 1)\n",
      "('6kPCcIAGoTeRrh8qrmKa90', 'AR', datetime.date(2024, 11, 23), 11, 0, -2)\n",
      "('0SoBfYjQHvL6cuWHtPUYnq', 'AR', datetime.date(2024, 11, 23), 12, 0, 0)\n",
      "('5aZ8rf2aPfZrnRWLA7bByo', 'AR', datetime.date(2024, 11, 23), 13, 0, 0)\n",
      "('5DSMm0BZXlSvqArsTX00Ge', 'AR', datetime.date(2024, 11, 23), 14, 1, 0)\n",
      "('39Pc4a04VgCtcc7m0XKi9M', 'AR', datetime.date(2024, 11, 23), 15, 1, 1)\n",
      "('1TyBUtMxdmRfXhW3MmbxtQ', 'AR', datetime.date(2024, 11, 23), 16, -2, 5)\n",
      "('2N0hVk2Ant8751xPZUjCV2', 'AR', datetime.date(2024, 11, 23), 17, 0, 0)\n",
      "('7bywjHOc0wSjGGbj04XbVi', 'AR', datetime.date(2024, 11, 23), 18, 0, 0)\n",
      "('1db75lVrSgDFZI1gZh8JlV', 'AR', datetime.date(2024, 11, 23), 19, 1, 0)\n",
      "('26y2gBrbiFJIOUjIlSQfdH', 'AR', datetime.date(2024, 11, 23), 20, -1, -5)\n",
      "('1MCArCVJUgBUrBnzUoZqmq', 'AR', datetime.date(2024, 11, 23), 21, 0, 5)\n",
      "('6ViJgiKfyqfs52x2pGhuPF', 'AR', datetime.date(2024, 11, 23), 22, 1, 3)\n",
      "('42mrOMjkQb7jRKatu0bqg4', 'AR', datetime.date(2024, 11, 23), 23, 2, 11)\n",
      "('4jn3R3KF5hx2fCiXlj89yE', 'AR', datetime.date(2024, 11, 23), 24, -2, 5)\n",
      "('0CgpCtEPvyDizcg2p47VrU', 'AR', datetime.date(2024, 11, 23), 25, 4, 14)\n",
      "('6CzozhzNVBfxmUthlZiYm4', 'AR', datetime.date(2024, 11, 23), 26, 0, -2)\n",
      "('3KeYEr9ogMBemsOfQIJmZp', 'AR', datetime.date(2024, 11, 23), 27, 0, -5)\n",
      "('2RmtEc2ZNDCzAU3vH0AbKx', 'AR', datetime.date(2024, 11, 23), 28, 3, 5)\n",
      "('2xbH0CuDbid800YW5nMPzR', 'AR', datetime.date(2024, 11, 23), 29, -5, -2)\n",
      "('42wdz3j7gstgUuhoFLCXqd', 'AR', datetime.date(2024, 11, 23), 30, 0, 8)\n",
      "('3OJDtCdYs8QJnui708tEU3', 'AR', datetime.date(2024, 11, 23), 31, 1, 0)\n",
      "('6MuJUSYCqA4FpMogUHzb2R', 'AR', datetime.date(2024, 11, 23), 32, 1, 14)\n",
      "('2AFC9ad4nGauS1cgm7FCqU', 'AR', datetime.date(2024, 11, 23), 33, 1, -3)\n",
      "('4xXvGEiTkoaIkOMWa4u3Mn', 'AR', datetime.date(2024, 11, 23), 34, 4, 16)\n",
      "('0l0vcZMU7AOeQmUIREoI2U', 'AR', datetime.date(2024, 11, 23), 35, 15, 15)\n",
      "('2plbrEY59IikOBgBGLjaoe', 'AR', datetime.date(2024, 11, 23), 36, 1, -1)\n",
      "('63rRgkllF0FDeZ9fpOkFKl', 'AR', datetime.date(2024, 11, 23), 37, -9, -9)\n",
      "('5QjmUqgpPQgXgg4606DqZF', 'AR', datetime.date(2024, 11, 23), 38, -3, -15)\n",
      "('3cWo162YkfLIFyB3DWbVoH', 'AR', datetime.date(2024, 11, 23), 39, -3, -7)\n",
      "('4eqXTlaHeK6xkM1fRx9wR5', 'AR', datetime.date(2024, 11, 23), 40, -1, -20)\n",
      "('2bNCiY24Eh4saMcc23bvUN', 'AR', datetime.date(2024, 11, 23), 41, 1, 6)\n",
      "('50zAEIE4B1QqhPjRMK2Xmh', 'AR', datetime.date(2024, 11, 23), 42, 1, 8)\n",
      "('61qPUnazSdkvua4wgA4L8C', 'AR', datetime.date(2024, 11, 23), 43, 7, 7)\n",
      "('7eNwwoxDR8KVzNAuGvliAO', 'AR', datetime.date(2024, 11, 23), 44, -3, -4)\n",
      "('0Cs2ANiGsCOQLKnCrNJ6hA', 'AR', datetime.date(2024, 11, 23), 45, 2, -1)\n",
      "('0EhmTBq33eARyOz3SIi4P2', 'AR', datetime.date(2024, 11, 23), 46, 4, -3)\n",
      "('3oNnzH6hmqIGIhJ1NcHlrh', 'AR', datetime.date(2024, 11, 23), 47, -1, 3)\n",
      "('5vHWh24GAsXJ7tnIu8v7UN', 'AR', datetime.date(2024, 11, 23), 48, -8, 0)\n",
      "('2N9LvPp7o61eerdZEyKQ19', 'AR', datetime.date(2024, 11, 23), 49, 1, 1)\n",
      "('6PhRhocBXP4y7NpciGmzra', 'AR', datetime.date(2024, 11, 23), 50, 0, -9)\n",
      "('03IpZ9yqJlo3EIgDQUgBSF', 'AR', datetime.date(2024, 11, 22), 1, 0, 0)\n",
      "('5MKbWaXeSQSmzmo7gPQha1', 'AR', datetime.date(2024, 11, 22), 2, 0, 1)\n",
      "('0c82YIGpQ5dCaXpTNCk4sb', 'AR', datetime.date(2024, 11, 22), 3, 0, -1)\n",
      "('6WatFBLVB0x077xWeoVc2k', 'AR', datetime.date(2024, 11, 22), 4, 3, 2)\n",
      "('0Sr7ssScx54yxdM2ols7nW', 'AR', datetime.date(2024, 11, 22), 5, -1, 0)\n",
      "('5AkLEnorFvb7WIJOGqKYVT', 'AR', datetime.date(2024, 11, 22), 6, 0, 2)\n",
      "('7yrTny7FLWLbfIzsxoicWj', 'AR', datetime.date(2024, 11, 22), 7, -2, -3)\n",
      "('0EVxchTHYIgx618OrpcrdQ', 'AR', datetime.date(2024, 11, 22), 8, 0, -1)\n",
      "('0qeIFEGRQqHoaJtLCl0U73', 'AR', datetime.date(2024, 11, 22), 9, 0, 0)\n",
      "('4dLLdfiniBhDP9dlJQIOi4', 'AR', datetime.date(2024, 11, 22), 10, 0, 1)\n",
      "('6kPCcIAGoTeRrh8qrmKa90', 'AR', datetime.date(2024, 11, 22), 11, 0, -1)\n",
      "('0SoBfYjQHvL6cuWHtPUYnq', 'AR', datetime.date(2024, 11, 22), 12, 0, 0)\n",
      "('5aZ8rf2aPfZrnRWLA7bByo', 'AR', datetime.date(2024, 11, 22), 13, 1, 1)\n",
      "('1TyBUtMxdmRfXhW3MmbxtQ', 'AR', datetime.date(2024, 11, 22), 14, -1, 7)\n",
      "('5DSMm0BZXlSvqArsTX00Ge', 'AR', datetime.date(2024, 11, 22), 15, 0, 0)\n",
      "('39Pc4a04VgCtcc7m0XKi9M', 'AR', datetime.date(2024, 11, 22), 16, 1, 1)\n",
      "('2N0hVk2Ant8751xPZUjCV2', 'AR', datetime.date(2024, 11, 22), 17, 1, 2)\n",
      "('7bywjHOc0wSjGGbj04XbVi', 'AR', datetime.date(2024, 11, 22), 18, -2, -2)\n",
      "('26y2gBrbiFJIOUjIlSQfdH', 'AR', datetime.date(2024, 11, 22), 19, 0, -6)\n",
      "('1db75lVrSgDFZI1gZh8JlV', 'AR', datetime.date(2024, 11, 22), 20, 0, -2)\n",
      "('1MCArCVJUgBUrBnzUoZqmq', 'AR', datetime.date(2024, 11, 22), 21, 6, 4)\n",
      "('4jn3R3KF5hx2fCiXlj89yE', 'AR', datetime.date(2024, 11, 22), 22, 0, 6)\n",
      "('6ViJgiKfyqfs52x2pGhuPF', 'AR', datetime.date(2024, 11, 22), 23, 0, 6)\n",
      "('2xbH0CuDbid800YW5nMPzR', 'AR', datetime.date(2024, 11, 22), 24, -3, 6)\n",
      "('42mrOMjkQb7jRKatu0bqg4', 'AR', datetime.date(2024, 11, 22), 25, 3, 14)\n",
      "('6CzozhzNVBfxmUthlZiYm4', 'AR', datetime.date(2024, 11, 22), 26, 0, -4)\n",
      "('3KeYEr9ogMBemsOfQIJmZp', 'AR', datetime.date(2024, 11, 22), 27, -3, -3)\n",
      "('63rRgkllF0FDeZ9fpOkFKl', 'AR', datetime.date(2024, 11, 22), 28, -3, -2)\n",
      "('0CgpCtEPvyDizcg2p47VrU', 'AR', datetime.date(2024, 11, 22), 29, 4, 7)\n",
      "('42wdz3j7gstgUuhoFLCXqd', 'AR', datetime.date(2024, 11, 22), 30, 7, 10)\n",
      "('2RmtEc2ZNDCzAU3vH0AbKx', 'AR', datetime.date(2024, 11, 22), 31, 3, 2)\n",
      "('3OJDtCdYs8QJnui708tEU3', 'AR', datetime.date(2024, 11, 22), 32, -3, -5)\n",
      "('6MuJUSYCqA4FpMogUHzb2R', 'AR', datetime.date(2024, 11, 22), 33, 12, 12)\n",
      "('2AFC9ad4nGauS1cgm7FCqU', 'AR', datetime.date(2024, 11, 22), 34, -2, 3)\n",
      "('5QjmUqgpPQgXgg4606DqZF', 'AR', datetime.date(2024, 11, 22), 35, 0, -12)\n",
      "('3cWo162YkfLIFyB3DWbVoH', 'AR', datetime.date(2024, 11, 22), 36, -6, -1)\n",
      "('2plbrEY59IikOBgBGLjaoe', 'AR', datetime.date(2024, 11, 22), 37, -1, -5)\n",
      "('4xXvGEiTkoaIkOMWa4u3Mn', 'AR', datetime.date(2024, 11, 22), 38, 0, 12)\n",
      "('4eqXTlaHeK6xkM1fRx9wR5', 'AR', datetime.date(2024, 11, 22), 39, -8, -19)\n",
      "('5vHWh24GAsXJ7tnIu8v7UN', 'AR', datetime.date(2024, 11, 22), 40, 6, 10)\n",
      "('7eNwwoxDR8KVzNAuGvliAO', 'AR', datetime.date(2024, 11, 22), 41, 1, 6)\n",
      "('2bNCiY24Eh4saMcc23bvUN', 'AR', datetime.date(2024, 11, 22), 42, 6, 6)\n",
      "('50zAEIE4B1QqhPjRMK2Xmh', 'AR', datetime.date(2024, 11, 22), 43, 7, 7)\n",
      "('0iwmZVScrpLcbbfHbdJGT0', 'AR', datetime.date(2024, 11, 22), 44, -3, 6)\n",
      "('6Es8Sk3xe1HiJ2MXCfHHwR', 'AR', datetime.date(2024, 11, 22), 45, -6, 5)\n",
      "('3oNnzH6hmqIGIhJ1NcHlrh', 'AR', datetime.date(2024, 11, 22), 46, 4, 4)\n",
      "('0Cs2ANiGsCOQLKnCrNJ6hA', 'AR', datetime.date(2024, 11, 22), 47, -4, 3)\n",
      "('5lXKHJ3kYg9aM0TdBgaZBe', 'AR', datetime.date(2024, 11, 22), 48, -4, -17)\n",
      "('64sXViF6VlsihR0eJt0vUq', 'AR', datetime.date(2024, 11, 22), 49, -2, -15)\n",
      "('0EhmTBq33eARyOz3SIi4P2', 'AR', datetime.date(2024, 11, 22), 50, -1, -6)\n",
      "('03IpZ9yqJlo3EIgDQUgBSF', 'AR', datetime.date(2024, 11, 21), 1, 1, 0)\n",
      "('5MKbWaXeSQSmzmo7gPQha1', 'AR', datetime.date(2024, 11, 21), 2, -1, 3)\n",
      "('0c82YIGpQ5dCaXpTNCk4sb', 'AR', datetime.date(2024, 11, 21), 3, 0, -1)\n",
      "('0Sr7ssScx54yxdM2ols7nW', 'AR', datetime.date(2024, 11, 21), 4, 4, 2)\n",
      "('7yrTny7FLWLbfIzsxoicWj', 'AR', datetime.date(2024, 11, 21), 5, 0, -2)\n",
      "('5AkLEnorFvb7WIJOGqKYVT', 'AR', datetime.date(2024, 11, 21), 6, -2, 1)\n",
      "('6WatFBLVB0x077xWeoVc2k', 'AR', datetime.date(2024, 11, 21), 7, -1, -3)\n",
      "('0EVxchTHYIgx618OrpcrdQ', 'AR', datetime.date(2024, 11, 21), 8, 1, 0)\n",
      "('0qeIFEGRQqHoaJtLCl0U73', 'AR', datetime.date(2024, 11, 21), 9, 3, 0)\n",
      "('4dLLdfiniBhDP9dlJQIOi4', 'AR', datetime.date(2024, 11, 21), 10, -3, 0)\n",
      "('6kPCcIAGoTeRrh8qrmKa90', 'AR', datetime.date(2024, 11, 21), 11, -1, 1)\n",
      "('0SoBfYjQHvL6cuWHtPUYnq', 'AR', datetime.date(2024, 11, 21), 12, -1, -1)\n",
      "('1TyBUtMxdmRfXhW3MmbxtQ', 'AR', datetime.date(2024, 11, 21), 13, 0, 6)\n",
      "('5aZ8rf2aPfZrnRWLA7bByo', 'AR', datetime.date(2024, 11, 21), 14, 1, 0)\n",
      "('5DSMm0BZXlSvqArsTX00Ge', 'AR', datetime.date(2024, 11, 21), 15, -1, 0)\n",
      "('7bywjHOc0wSjGGbj04XbVi', 'AR', datetime.date(2024, 11, 21), 16, 5, 2)\n",
      "('39Pc4a04VgCtcc7m0XKi9M', 'AR', datetime.date(2024, 11, 21), 17, 2, 0)\n",
      "('2N0hVk2Ant8751xPZUjCV2', 'AR', datetime.date(2024, 11, 21), 18, -2, 2)\n",
      "('26y2gBrbiFJIOUjIlSQfdH', 'AR', datetime.date(2024, 11, 21), 19, 6, -6)\n",
      "('1db75lVrSgDFZI1gZh8JlV', 'AR', datetime.date(2024, 11, 21), 20, -3, 2)\n",
      "('2xbH0CuDbid800YW5nMPzR', 'AR', datetime.date(2024, 11, 21), 21, -3, 7)\n",
      "('4jn3R3KF5hx2fCiXlj89yE', 'AR', datetime.date(2024, 11, 21), 22, 8, 10)\n",
      "('6ViJgiKfyqfs52x2pGhuPF', 'AR', datetime.date(2024, 11, 21), 23, 3, 7)\n",
      "('3KeYEr9ogMBemsOfQIJmZp', 'AR', datetime.date(2024, 11, 21), 24, 3, 3)\n",
      "('63rRgkllF0FDeZ9fpOkFKl', 'AR', datetime.date(2024, 11, 21), 25, 13, -4)\n",
      "('6CzozhzNVBfxmUthlZiYm4', 'AR', datetime.date(2024, 11, 21), 26, 16, -10)\n",
      "('1MCArCVJUgBUrBnzUoZqmq', 'AR', datetime.date(2024, 11, 21), 27, 1, -2)\n",
      "('42mrOMjkQb7jRKatu0bqg4', 'AR', datetime.date(2024, 11, 21), 28, -5, 9)\n",
      "('3OJDtCdYs8QJnui708tEU3', 'AR', datetime.date(2024, 11, 21), 29, 2, 4)\n",
      "('3cWo162YkfLIFyB3DWbVoH', 'AR', datetime.date(2024, 11, 21), 30, -8, 5)\n",
      "('4eqXTlaHeK6xkM1fRx9wR5', 'AR', datetime.date(2024, 11, 21), 31, -11, -8)\n",
      "('2AFC9ad4nGauS1cgm7FCqU', 'AR', datetime.date(2024, 11, 21), 32, -8, 12)\n",
      "('0CgpCtEPvyDizcg2p47VrU', 'AR', datetime.date(2024, 11, 21), 33, 6, 5)\n",
      "('2RmtEc2ZNDCzAU3vH0AbKx', 'AR', datetime.date(2024, 11, 21), 34, -2, 2)\n",
      "('5QjmUqgpPQgXgg4606DqZF', 'AR', datetime.date(2024, 11, 21), 35, 0, -9)\n",
      "('2plbrEY59IikOBgBGLjaoe', 'AR', datetime.date(2024, 11, 21), 36, 14, 3)\n",
      "('42wdz3j7gstgUuhoFLCXqd', 'AR', datetime.date(2024, 11, 21), 37, -3, 6)\n",
      "('4xXvGEiTkoaIkOMWa4u3Mn', 'AR', datetime.date(2024, 11, 21), 38, 7, 12)\n",
      "('6Es8Sk3xe1HiJ2MXCfHHwR', 'AR', datetime.date(2024, 11, 21), 39, -6, 11)\n",
      "('7JKptWv4YXmievid0HajID', 'AR', datetime.date(2024, 11, 21), 40, -11, 10)\n",
      "('0iwmZVScrpLcbbfHbdJGT0', 'AR', datetime.date(2024, 11, 21), 41, 9, 9)\n",
      "('7eNwwoxDR8KVzNAuGvliAO', 'AR', datetime.date(2024, 11, 21), 42, 7, 8)\n",
      "('0Cs2ANiGsCOQLKnCrNJ6hA', 'AR', datetime.date(2024, 11, 21), 43, -6, 7)\n",
      "('5lXKHJ3kYg9aM0TdBgaZBe', 'AR', datetime.date(2024, 11, 21), 44, 6, -15)\n",
      "('6MuJUSYCqA4FpMogUHzb2R', 'AR', datetime.date(2024, 11, 21), 45, 5, 2)\n",
      "('5vHWh24GAsXJ7tnIu8v7UN', 'AR', datetime.date(2024, 11, 21), 46, 2, 4)\n",
      "('64sXViF6VlsihR0eJt0vUq', 'AR', datetime.date(2024, 11, 21), 47, 3, -13)\n",
      "('2bNCiY24Eh4saMcc23bvUN', 'AR', datetime.date(2024, 11, 21), 48, -5, 2)\n",
      "('0EhmTBq33eARyOz3SIi4P2', 'AR', datetime.date(2024, 11, 21), 49, 1, -1)\n",
      "('3tiJUOfAEqIrLFRQgGgdoY', 'AR', datetime.date(2024, 11, 21), 50, -9, 0)\n",
      "('5MKbWaXeSQSmzmo7gPQha1', 'AR', datetime.date(2024, 11, 20), 1, 0, 6)\n",
      "('03IpZ9yqJlo3EIgDQUgBSF', 'AR', datetime.date(2024, 11, 20), 2, 0, -1)\n",
      "('0c82YIGpQ5dCaXpTNCk4sb', 'AR', datetime.date(2024, 11, 20), 3, 0, -1)\n",
      "('5AkLEnorFvb7WIJOGqKYVT', 'AR', datetime.date(2024, 11, 20), 4, 0, 2)\n",
      "('7yrTny7FLWLbfIzsxoicWj', 'AR', datetime.date(2024, 11, 20), 5, 0, -2)\n",
      "('6WatFBLVB0x077xWeoVc2k', 'AR', datetime.date(2024, 11, 20), 6, 0, -1)\n",
      "('4dLLdfiniBhDP9dlJQIOi4', 'AR', datetime.date(2024, 11, 20), 7, 0, 4)\n",
      "('0Sr7ssScx54yxdM2ols7nW', 'AR', datetime.date(2024, 11, 20), 8, 0, -4)\n",
      "('0EVxchTHYIgx618OrpcrdQ', 'AR', datetime.date(2024, 11, 20), 9, 1, 0)\n",
      "('6kPCcIAGoTeRrh8qrmKa90', 'AR', datetime.date(2024, 11, 20), 10, -1, 5)\n",
      "('0SoBfYjQHvL6cuWHtPUYnq', 'AR', datetime.date(2024, 11, 20), 11, 1, 3)\n",
      "('0qeIFEGRQqHoaJtLCl0U73', 'AR', datetime.date(2024, 11, 20), 12, -1, -2)\n",
      "('1TyBUtMxdmRfXhW3MmbxtQ', 'AR', datetime.date(2024, 11, 20), 13, 2, 6)\n",
      "('5DSMm0BZXlSvqArsTX00Ge', 'AR', datetime.date(2024, 11, 20), 14, 3, 3)\n",
      "('5aZ8rf2aPfZrnRWLA7bByo', 'AR', datetime.date(2024, 11, 20), 15, 1, 1)\n",
      "('2N0hVk2Ant8751xPZUjCV2', 'AR', datetime.date(2024, 11, 20), 16, -3, 16)\n",
      "('1db75lVrSgDFZI1gZh8JlV', 'AR', datetime.date(2024, 11, 20), 17, 1, 7)\n",
      "('2xbH0CuDbid800YW5nMPzR', 'AR', datetime.date(2024, 11, 20), 18, 2, 19)\n",
      "('39Pc4a04VgCtcc7m0XKi9M', 'AR', datetime.date(2024, 11, 20), 19, 0, 4)\n",
      "('4eqXTlaHeK6xkM1fRx9wR5', 'AR', datetime.date(2024, 11, 20), 20, -6, 10)\n",
      "('7bywjHOc0wSjGGbj04XbVi', 'AR', datetime.date(2024, 11, 20), 21, 4, 1)\n",
      "('3cWo162YkfLIFyB3DWbVoH', 'AR', datetime.date(2024, 11, 20), 22, -1, 21)\n",
      "('42mrOMjkQb7jRKatu0bqg4', 'AR', datetime.date(2024, 11, 20), 23, 0, 18)\n",
      "('2AFC9ad4nGauS1cgm7FCqU', 'AR', datetime.date(2024, 11, 20), 24, -2, 25)\n",
      "('26y2gBrbiFJIOUjIlSQfdH', 'AR', datetime.date(2024, 11, 20), 25, 2, -13)\n",
      "('6ViJgiKfyqfs52x2pGhuPF', 'AR', datetime.date(2024, 11, 20), 26, -2, 8)\n",
      "('3KeYEr9ogMBemsOfQIJmZp', 'AR', datetime.date(2024, 11, 20), 27, 1, 2)\n",
      "('1MCArCVJUgBUrBnzUoZqmq', 'AR', datetime.date(2024, 11, 20), 28, -2, -2)\n",
      "('7JKptWv4YXmievid0HajID', 'AR', datetime.date(2024, 11, 20), 29, 2, 21)\n",
      "('4jn3R3KF5hx2fCiXlj89yE', 'AR', datetime.date(2024, 11, 20), 30, -1, 18)\n",
      "('3OJDtCdYs8QJnui708tEU3', 'AR', datetime.date(2024, 11, 20), 31, 3, 7)\n",
      "('2RmtEc2ZNDCzAU3vH0AbKx', 'AR', datetime.date(2024, 11, 20), 32, 1, 14)\n",
      "('6Es8Sk3xe1HiJ2MXCfHHwR', 'AR', datetime.date(2024, 11, 20), 33, 2, 17)\n",
      "('42wdz3j7gstgUuhoFLCXqd', 'AR', datetime.date(2024, 11, 20), 34, -4, 16)\n",
      "('5QjmUqgpPQgXgg4606DqZF', 'AR', datetime.date(2024, 11, 20), 35, 4, 1)\n",
      "('6vRQqxOhUFd78p5tL8jXr7', 'AR', datetime.date(2024, 11, 20), 36, -4, 14)\n",
      "('0Cs2ANiGsCOQLKnCrNJ6hA', 'AR', datetime.date(2024, 11, 20), 37, 0, 13)\n",
      "('63rRgkllF0FDeZ9fpOkFKl', 'AR', datetime.date(2024, 11, 20), 38, 3, -11)\n",
      "('0CgpCtEPvyDizcg2p47VrU', 'AR', datetime.date(2024, 11, 20), 39, 3, 11)\n",
      "('2wEhjcnre2PU36KQNBLXCC', 'AR', datetime.date(2024, 11, 20), 40, -4, 10)\n",
      "('3tiJUOfAEqIrLFRQgGgdoY', 'AR', datetime.date(2024, 11, 20), 41, 9, 9)\n",
      "('6CzozhzNVBfxmUthlZiYm4', 'AR', datetime.date(2024, 11, 20), 42, 7, -34)\n",
      "('2bNCiY24Eh4saMcc23bvUN', 'AR', datetime.date(2024, 11, 20), 43, -3, 7)\n",
      "('0u6JsFiEEXb6kaF0oqyeFi', 'AR', datetime.date(2024, 11, 20), 44, 2, 6)\n",
      "('4xXvGEiTkoaIkOMWa4u3Mn', 'AR', datetime.date(2024, 11, 20), 45, 0, 5)\n",
      "('1R3ubqAHKHE6f64Hz37q8h', 'AR', datetime.date(2024, 11, 20), 46, -2, 4)\n",
      "('5g2Jqe1D2qnZc6LcvWL3e1', 'AR', datetime.date(2024, 11, 20), 47, -9, 3)\n",
      "('5vHWh24GAsXJ7tnIu8v7UN', 'AR', datetime.date(2024, 11, 20), 48, 2, 2)\n",
      "('7eNwwoxDR8KVzNAuGvliAO', 'AR', datetime.date(2024, 11, 20), 49, 1, 1)\n",
      "('6PhRhocBXP4y7NpciGmzra', 'AR', datetime.date(2024, 11, 20), 50, 0, -5)\n",
      "('5MKbWaXeSQSmzmo7gPQha1', 'AR', datetime.date(2024, 11, 19), 1, 0, 4)\n",
      "('03IpZ9yqJlo3EIgDQUgBSF', 'AR', datetime.date(2024, 11, 19), 2, 4, -1)\n",
      "('0c82YIGpQ5dCaXpTNCk4sb', 'AR', datetime.date(2024, 11, 19), 3, -1, -1)\n",
      "('5AkLEnorFvb7WIJOGqKYVT', 'AR', datetime.date(2024, 11, 19), 4, -1, -1)\n",
      "('7yrTny7FLWLbfIzsxoicWj', 'AR', datetime.date(2024, 11, 19), 5, 0, 1)\n",
      "('6WatFBLVB0x077xWeoVc2k', 'AR', datetime.date(2024, 11, 19), 6, -2, -2)\n",
      "('4dLLdfiniBhDP9dlJQIOi4', 'AR', datetime.date(2024, 11, 19), 7, 0, 1)\n",
      "('0Sr7ssScx54yxdM2ols7nW', 'AR', datetime.date(2024, 11, 19), 8, 1, -1)\n",
      "('6kPCcIAGoTeRrh8qrmKa90', 'AR', datetime.date(2024, 11, 19), 9, -1, 2)\n",
      "('0EVxchTHYIgx618OrpcrdQ', 'AR', datetime.date(2024, 11, 19), 10, 0, 0)\n",
      "('0qeIFEGRQqHoaJtLCl0U73', 'AR', datetime.date(2024, 11, 19), 11, 1, 2)\n",
      "('0SoBfYjQHvL6cuWHtPUYnq', 'AR', datetime.date(2024, 11, 19), 12, -1, -3)\n",
      "('2N0hVk2Ant8751xPZUjCV2', 'AR', datetime.date(2024, 11, 19), 13, 0, 7)\n",
      "('4eqXTlaHeK6xkM1fRx9wR5', 'AR', datetime.date(2024, 11, 19), 14, 2, -2)\n",
      "('1TyBUtMxdmRfXhW3MmbxtQ', 'AR', datetime.date(2024, 11, 19), 15, -1, -1)\n",
      "('5aZ8rf2aPfZrnRWLA7bByo', 'AR', datetime.date(2024, 11, 19), 16, -1, -1)\n",
      "('5DSMm0BZXlSvqArsTX00Ge', 'AR', datetime.date(2024, 11, 19), 17, 0, -1)\n",
      "('1db75lVrSgDFZI1gZh8JlV', 'AR', datetime.date(2024, 11, 19), 18, 2, -1)\n",
      "('39Pc4a04VgCtcc7m0XKi9M', 'AR', datetime.date(2024, 11, 19), 19, 2, 2)\n",
      "('2xbH0CuDbid800YW5nMPzR', 'AR', datetime.date(2024, 11, 19), 20, -2, 4)\n",
      "('3cWo162YkfLIFyB3DWbVoH', 'AR', datetime.date(2024, 11, 19), 21, 1, -2)\n",
      "('2AFC9ad4nGauS1cgm7FCqU', 'AR', datetime.date(2024, 11, 19), 22, 3, 4)\n",
      "('42mrOMjkQb7jRKatu0bqg4', 'AR', datetime.date(2024, 11, 19), 23, 0, -1)\n",
      "('6ViJgiKfyqfs52x2pGhuPF', 'AR', datetime.date(2024, 11, 19), 24, 0, 1)\n",
      "('7bywjHOc0wSjGGbj04XbVi', 'AR', datetime.date(2024, 11, 19), 25, -6, -2)\n",
      "('1MCArCVJUgBUrBnzUoZqmq', 'AR', datetime.date(2024, 11, 19), 26, 1, 1)\n",
      "('26y2gBrbiFJIOUjIlSQfdH', 'AR', datetime.date(2024, 11, 19), 27, 2, -9)\n",
      "('3KeYEr9ogMBemsOfQIJmZp', 'AR', datetime.date(2024, 11, 19), 28, -2, 1)\n",
      "('4jn3R3KF5hx2fCiXlj89yE', 'AR', datetime.date(2024, 11, 19), 29, 4, 16)\n",
      "('42wdz3j7gstgUuhoFLCXqd', 'AR', datetime.date(2024, 11, 19), 30, 7, 8)\n",
      "('7JKptWv4YXmievid0HajID', 'AR', datetime.date(2024, 11, 19), 31, 3, 1)\n",
      "('6vRQqxOhUFd78p5tL8jXr7', 'AR', datetime.date(2024, 11, 19), 32, 3, -2)\n",
      "('2RmtEc2ZNDCzAU3vH0AbKx', 'AR', datetime.date(2024, 11, 19), 33, -5, -5)\n",
      "('3OJDtCdYs8QJnui708tEU3', 'AR', datetime.date(2024, 11, 19), 34, -4, 0)\n",
      "('6Es8Sk3xe1HiJ2MXCfHHwR', 'AR', datetime.date(2024, 11, 19), 35, 3, 8)\n",
      "('2wEhjcnre2PU36KQNBLXCC', 'AR', datetime.date(2024, 11, 19), 36, 12, -3)\n",
      "('0Cs2ANiGsCOQLKnCrNJ6hA', 'AR', datetime.date(2024, 11, 19), 37, -1, 4)\n",
      "('5g2Jqe1D2qnZc6LcvWL3e1', 'AR', datetime.date(2024, 11, 19), 38, 6, 2)\n",
      "('5QjmUqgpPQgXgg4606DqZF', 'AR', datetime.date(2024, 11, 19), 39, -8, -4)\n",
      "('2bNCiY24Eh4saMcc23bvUN', 'AR', datetime.date(2024, 11, 19), 40, -8, 10)\n",
      "('63rRgkllF0FDeZ9fpOkFKl', 'AR', datetime.date(2024, 11, 19), 41, -2, -5)\n",
      "('0CgpCtEPvyDizcg2p47VrU', 'AR', datetime.date(2024, 11, 19), 42, 0, 8)\n",
      "('6VbNzSrjWjTMfrDLJ6Jt5D', 'AR', datetime.date(2024, 11, 19), 43, -2, -12)\n",
      "('1R3ubqAHKHE6f64Hz37q8h', 'AR', datetime.date(2024, 11, 19), 44, 2, 6)\n",
      "('4xXvGEiTkoaIkOMWa4u3Mn', 'AR', datetime.date(2024, 11, 19), 45, 5, 5)\n",
      "('0u6JsFiEEXb6kaF0oqyeFi', 'AR', datetime.date(2024, 11, 19), 46, -1, 4)\n",
      "('0T25HZGE0WwyELWBlXQVbY', 'AR', datetime.date(2024, 11, 19), 47, 3, 3)\n",
      "('7khla88C1xwKeI6qzwcOuH', 'AR', datetime.date(2024, 11, 19), 48, -1, -9)\n",
      "('6CzozhzNVBfxmUthlZiYm4', 'AR', datetime.date(2024, 11, 19), 49, 1, 1)\n",
      "('3tiJUOfAEqIrLFRQgGgdoY', 'AR', datetime.date(2024, 11, 19), 50, 0, 0)\n",
      "('5MKbWaXeSQSmzmo7gPQha1', 'AR', datetime.date(2024, 11, 18), 1, 2, 5)\n",
      "('0c82YIGpQ5dCaXpTNCk4sb', 'AR', datetime.date(2024, 11, 18), 2, 0, 0)\n",
      "('5AkLEnorFvb7WIJOGqKYVT', 'AR', datetime.date(2024, 11, 18), 3, 2, 0)\n",
      "('6WatFBLVB0x077xWeoVc2k', 'AR', datetime.date(2024, 11, 18), 4, 2, 0)\n",
      "('7yrTny7FLWLbfIzsxoicWj', 'AR', datetime.date(2024, 11, 18), 5, -1, 0)\n",
      "('03IpZ9yqJlo3EIgDQUgBSF', 'AR', datetime.date(2024, 11, 18), 6, -5, -5)\n",
      "('4dLLdfiniBhDP9dlJQIOi4', 'AR', datetime.date(2024, 11, 18), 7, 2, 2)\n",
      "('6kPCcIAGoTeRrh8qrmKa90', 'AR', datetime.date(2024, 11, 18), 8, 3, 2)\n",
      "('0Sr7ssScx54yxdM2ols7nW', 'AR', datetime.date(2024, 11, 18), 9, -2, -2)\n",
      "('0EVxchTHYIgx618OrpcrdQ', 'AR', datetime.date(2024, 11, 18), 10, -2, -2)\n",
      "('0SoBfYjQHvL6cuWHtPUYnq', 'AR', datetime.date(2024, 11, 18), 11, 1, 0)\n",
      "('0qeIFEGRQqHoaJtLCl0U73', 'AR', datetime.date(2024, 11, 18), 12, -2, 0)\n",
      "('2N0hVk2Ant8751xPZUjCV2', 'AR', datetime.date(2024, 11, 18), 13, 3, 7)\n",
      "('1TyBUtMxdmRfXhW3MmbxtQ', 'AR', datetime.date(2024, 11, 18), 14, 1, 0)\n",
      "('5aZ8rf2aPfZrnRWLA7bByo', 'AR', datetime.date(2024, 11, 18), 15, -2, 0)\n",
      "('4eqXTlaHeK6xkM1fRx9wR5', 'AR', datetime.date(2024, 11, 18), 16, 3, -3)\n",
      "('5DSMm0BZXlSvqArsTX00Ge', 'AR', datetime.date(2024, 11, 18), 17, -3, 0)\n",
      "('2xbH0CuDbid800YW5nMPzR', 'AR', datetime.date(2024, 11, 18), 18, 6, 5)\n",
      "('7bywjHOc0wSjGGbj04XbVi', 'AR', datetime.date(2024, 11, 18), 19, 1, 5)\n",
      "('1db75lVrSgDFZI1gZh8JlV', 'AR', datetime.date(2024, 11, 18), 20, -2, -2)\n",
      "('39Pc4a04VgCtcc7m0XKi9M', 'AR', datetime.date(2024, 11, 18), 21, -4, -2)\n",
      "('3cWo162YkfLIFyB3DWbVoH', 'AR', datetime.date(2024, 11, 18), 22, 5, 0)\n",
      "('42mrOMjkQb7jRKatu0bqg4', 'AR', datetime.date(2024, 11, 18), 23, 6, 3)\n",
      "('6ViJgiKfyqfs52x2pGhuPF', 'AR', datetime.date(2024, 11, 18), 24, 4, -3)\n",
      "('2AFC9ad4nGauS1cgm7FCqU', 'AR', datetime.date(2024, 11, 18), 25, 1, 4)\n",
      "('3KeYEr9ogMBemsOfQIJmZp', 'AR', datetime.date(2024, 11, 18), 26, -3, 1)\n",
      "('1MCArCVJUgBUrBnzUoZqmq', 'AR', datetime.date(2024, 11, 18), 27, -5, -2)\n",
      "('2RmtEc2ZNDCzAU3vH0AbKx', 'AR', datetime.date(2024, 11, 18), 28, 2, 0)\n",
      "('26y2gBrbiFJIOUjIlSQfdH', 'AR', datetime.date(2024, 11, 18), 29, -8, -13)\n",
      "('3OJDtCdYs8QJnui708tEU3', 'AR', datetime.date(2024, 11, 18), 30, 1, 6)\n",
      "('5QjmUqgpPQgXgg4606DqZF', 'AR', datetime.date(2024, 11, 18), 31, 1, 0)\n",
      "('2bNCiY24Eh4saMcc23bvUN', 'AR', datetime.date(2024, 11, 18), 32, 10, 18)\n",
      "('4jn3R3KF5hx2fCiXlj89yE', 'AR', datetime.date(2024, 11, 18), 33, -8, 6)\n",
      "('7JKptWv4YXmievid0HajID', 'AR', datetime.date(2024, 11, 18), 34, 11, -1)\n",
      "('6vRQqxOhUFd78p5tL8jXr7', 'AR', datetime.date(2024, 11, 18), 35, 15, 7)\n",
      "('0Cs2ANiGsCOQLKnCrNJ6hA', 'AR', datetime.date(2024, 11, 18), 36, 2, 7)\n",
      "('42wdz3j7gstgUuhoFLCXqd', 'AR', datetime.date(2024, 11, 18), 37, 0, 1)\n",
      "('6Es8Sk3xe1HiJ2MXCfHHwR', 'AR', datetime.date(2024, 11, 18), 38, 9, 10)\n",
      "('63rRgkllF0FDeZ9fpOkFKl', 'AR', datetime.date(2024, 11, 18), 39, -6, -9)\n",
      "('3oNnzH6hmqIGIhJ1NcHlrh', 'AR', datetime.date(2024, 11, 18), 40, 10, 10)\n",
      "('6VbNzSrjWjTMfrDLJ6Jt5D', 'AR', datetime.date(2024, 11, 18), 41, 9, -4)\n",
      "('0CgpCtEPvyDizcg2p47VrU', 'AR', datetime.date(2024, 11, 18), 42, -6, 8)\n",
      "('6a9Z1jUms915w4O7N1PxjY', 'AR', datetime.date(2024, 11, 18), 43, 5, 7)\n",
      "('5g2Jqe1D2qnZc6LcvWL3e1', 'AR', datetime.date(2024, 11, 18), 44, 6, 6)\n",
      "('0u6JsFiEEXb6kaF0oqyeFi', 'AR', datetime.date(2024, 11, 18), 45, 5, 5)\n",
      "('1R3ubqAHKHE6f64Hz37q8h', 'AR', datetime.date(2024, 11, 18), 46, 4, 4)\n",
      "('7khla88C1xwKeI6qzwcOuH', 'AR', datetime.date(2024, 11, 18), 47, 3, 0)\n",
      "('2wEhjcnre2PU36KQNBLXCC', 'AR', datetime.date(2024, 11, 18), 48, 2, -8)\n",
      "('1yg1tWFaYajN4b7vsKtYRE', 'AR', datetime.date(2024, 11, 18), 49, 1, 1)\n",
      "('3tiJUOfAEqIrLFRQgGgdoY', 'AR', datetime.date(2024, 11, 18), 50, 0, 0)\n",
      "('03IpZ9yqJlo3EIgDQUgBSF', 'AR', datetime.date(2024, 11, 17), 1, 0, 0)\n",
      "('0c82YIGpQ5dCaXpTNCk4sb', 'AR', datetime.date(2024, 11, 17), 2, 0, 0)\n",
      "('5MKbWaXeSQSmzmo7gPQha1', 'AR', datetime.date(2024, 11, 17), 3, 0, 2)\n",
      "('7yrTny7FLWLbfIzsxoicWj', 'AR', datetime.date(2024, 11, 17), 4, 0, -1)\n",
      "('5AkLEnorFvb7WIJOGqKYVT', 'AR', datetime.date(2024, 11, 17), 5, 3, -1)\n",
      "('6WatFBLVB0x077xWeoVc2k', 'AR', datetime.date(2024, 11, 17), 6, 1, 0)\n",
      "('0Sr7ssScx54yxdM2ols7nW', 'AR', datetime.date(2024, 11, 17), 7, -2, 0)\n",
      "('0EVxchTHYIgx618OrpcrdQ', 'AR', datetime.date(2024, 11, 17), 8, -2, 0)\n",
      "('4dLLdfiniBhDP9dlJQIOi4', 'AR', datetime.date(2024, 11, 17), 9, 2, 2)\n",
      "('0qeIFEGRQqHoaJtLCl0U73', 'AR', datetime.date(2024, 11, 17), 10, 0, 0)\n",
      "('6kPCcIAGoTeRrh8qrmKa90', 'AR', datetime.date(2024, 11, 17), 11, -2, -2)\n",
      "('0SoBfYjQHvL6cuWHtPUYnq', 'AR', datetime.date(2024, 11, 17), 12, 0, 0)\n",
      "('5aZ8rf2aPfZrnRWLA7bByo', 'AR', datetime.date(2024, 11, 17), 13, 0, 1)\n",
      "('5DSMm0BZXlSvqArsTX00Ge', 'AR', datetime.date(2024, 11, 17), 14, 0, 3)\n",
      "('1TyBUtMxdmRfXhW3MmbxtQ', 'AR', datetime.date(2024, 11, 17), 15, 6, 4)\n",
      "('2N0hVk2Ant8751xPZUjCV2', 'AR', datetime.date(2024, 11, 17), 16, 1, 6)\n",
      "('39Pc4a04VgCtcc7m0XKi9M', 'AR', datetime.date(2024, 11, 17), 17, -1, -2)\n",
      "('1db75lVrSgDFZI1gZh8JlV', 'AR', datetime.date(2024, 11, 17), 18, 1, 0)\n",
      "('4eqXTlaHeK6xkM1fRx9wR5', 'AR', datetime.date(2024, 11, 17), 19, 1, -3)\n",
      "('7bywjHOc0wSjGGbj04XbVi', 'AR', datetime.date(2024, 11, 17), 20, -2, 5)\n",
      "('26y2gBrbiFJIOUjIlSQfdH', 'AR', datetime.date(2024, 11, 17), 21, -6, -8)\n",
      "('1MCArCVJUgBUrBnzUoZqmq', 'AR', datetime.date(2024, 11, 17), 22, 4, 10)\n",
      "('3KeYEr9ogMBemsOfQIJmZp', 'AR', datetime.date(2024, 11, 17), 23, -1, 5)\n",
      "('2xbH0CuDbid800YW5nMPzR', 'AR', datetime.date(2024, 11, 17), 24, 3, 13)\n",
      "('4jn3R3KF5hx2fCiXlj89yE', 'AR', datetime.date(2024, 11, 17), 25, 4, 2)\n",
      "('2AFC9ad4nGauS1cgm7FCqU', 'AR', datetime.date(2024, 11, 17), 26, 4, 12)\n",
      "('3cWo162YkfLIFyB3DWbVoH', 'AR', datetime.date(2024, 11, 17), 27, 5, 8)\n",
      "('6ViJgiKfyqfs52x2pGhuPF', 'AR', datetime.date(2024, 11, 17), 28, -3, 2)\n",
      "('42mrOMjkQb7jRKatu0bqg4', 'AR', datetime.date(2024, 11, 17), 29, 5, 5)\n",
      "('2RmtEc2ZNDCzAU3vH0AbKx', 'AR', datetime.date(2024, 11, 17), 30, 3, 6)\n",
      "('3OJDtCdYs8QJnui708tEU3', 'AR', datetime.date(2024, 11, 17), 31, 0, 9)\n",
      "('5QjmUqgpPQgXgg4606DqZF', 'AR', datetime.date(2024, 11, 17), 32, -9, -1)\n",
      "('63rRgkllF0FDeZ9fpOkFKl', 'AR', datetime.date(2024, 11, 17), 33, -5, -12)\n",
      "('6CzozhzNVBfxmUthlZiYm4', 'AR', datetime.date(2024, 11, 17), 34, -10, 16)\n",
      "('7eNwwoxDR8KVzNAuGvliAO', 'AR', datetime.date(2024, 11, 17), 35, 5, 15)\n",
      "('0CgpCtEPvyDizcg2p47VrU', 'AR', datetime.date(2024, 11, 17), 36, 3, 8)\n",
      "('42wdz3j7gstgUuhoFLCXqd', 'AR', datetime.date(2024, 11, 17), 37, 1, 2)\n",
      "('0Cs2ANiGsCOQLKnCrNJ6hA', 'AR', datetime.date(2024, 11, 17), 38, 6, 11)\n",
      "('64sXViF6VlsihR0eJt0vUq', 'AR', datetime.date(2024, 11, 17), 39, -2, -13)\n",
      "('5lXKHJ3kYg9aM0TdBgaZBe', 'AR', datetime.date(2024, 11, 17), 40, -4, -7)\n",
      "('2plbrEY59IikOBgBGLjaoe', 'AR', datetime.date(2024, 11, 17), 41, -6, 5)\n",
      "('2bNCiY24Eh4saMcc23bvUN', 'AR', datetime.date(2024, 11, 17), 42, 5, 8)\n",
      "('6PhRhocBXP4y7NpciGmzra', 'AR', datetime.date(2024, 11, 17), 43, -2, 0)\n",
      "('0EhmTBq33eARyOz3SIi4P2', 'AR', datetime.date(2024, 11, 17), 44, -1, 6)\n",
      "('7JKptWv4YXmievid0HajID', 'AR', datetime.date(2024, 11, 17), 45, 5, 5)\n",
      "('6MuJUSYCqA4FpMogUHzb2R', 'AR', datetime.date(2024, 11, 17), 46, 0, -1)\n",
      "('6Es8Sk3xe1HiJ2MXCfHHwR', 'AR', datetime.date(2024, 11, 17), 47, 3, 3)\n",
      "('6a9Z1jUms915w4O7N1PxjY', 'AR', datetime.date(2024, 11, 17), 48, 2, 2)\n",
      "('4xXvGEiTkoaIkOMWa4u3Mn', 'AR', datetime.date(2024, 11, 17), 49, 1, 1)\n",
      "('5vHWh24GAsXJ7tnIu8v7UN', 'AR', datetime.date(2024, 11, 17), 50, -2, 0)\n",
      "('6hLsMjw00j3HGrkUjKwmgo', 'CL', datetime.date(2024, 11, 24), 1, 0, 0)\n",
      "('6PhRhocBXP4y7NpciGmzra', 'CL', datetime.date(2024, 11, 24), 2, 0, 0)\n",
      "('5eqZZLLZ4CkuUznPCOimsi', 'CL', datetime.date(2024, 11, 24), 3, 3, 9)\n",
      "('2Bf7izPNpcTVNL41bdyFic', 'CL', datetime.date(2024, 11, 24), 4, 0, -1)\n",
      "('6WatFBLVB0x077xWeoVc2k', 'CL', datetime.date(2024, 11, 24), 5, 0, -1)\n",
      "('7tI8dRuH2Yc6RuoTjxo4dU', 'CL', datetime.date(2024, 11, 24), 6, -3, -1)\n",
      "('0l0vcZMU7AOeQmUIREoI2U', 'CL', datetime.date(2024, 11, 24), 7, 1, 17)\n",
      "('42wdz3j7gstgUuhoFLCXqd', 'CL', datetime.date(2024, 11, 24), 8, -1, -2)\n",
      "('6kPCcIAGoTeRrh8qrmKa90', 'CL', datetime.date(2024, 11, 24), 9, 3, 0)\n",
      "('0Sr7ssScx54yxdM2ols7nW', 'CL', datetime.date(2024, 11, 24), 10, -1, -3)\n",
      "('2plbrEY59IikOBgBGLjaoe', 'CL', datetime.date(2024, 11, 24), 11, -1, 0)\n",
      "('2SuosMcETUjDfBRobLLTQm', 'CL', datetime.date(2024, 11, 24), 12, -1, -4)\n",
      "('0fKK51bU6lcCCwdNnv64t3', 'CL', datetime.date(2024, 11, 24), 13, 1, 37)\n",
      "('0qeIFEGRQqHoaJtLCl0U73', 'CL', datetime.date(2024, 11, 24), 14, 1, 0)\n",
      "('0ZS96pPRLyGUViVi5PWCAR', 'CL', datetime.date(2024, 11, 24), 15, 2, 3)\n",
      "('3ps5MDjfpA3wAbKMitNWgM', 'CL', datetime.date(2024, 11, 24), 16, -3, -6)\n",
      "('5vNRhkKd0yEAg8suGBpjeY', 'CL', datetime.date(2024, 11, 24), 17, 2, 4)\n",
      "('0rqH7y08F8C8lcVBI8n2Sq', 'CL', datetime.date(2024, 11, 24), 18, -2, -5)\n",
      "('3OJDtCdYs8QJnui708tEU3', 'CL', datetime.date(2024, 11, 24), 19, 1, -3)\n",
      "('2btNsI4OvcVl7SAHQQDHFB', 'CL', datetime.date(2024, 11, 24), 20, -2, -3)\n",
      "('7bywjHOc0wSjGGbj04XbVi', 'CL', datetime.date(2024, 11, 24), 21, 3, 5)\n",
      "('1YYfyJ2yCvGFCxwjsIqEK9', 'CL', datetime.date(2024, 11, 24), 22, 4, 28)\n",
      "('5Uptvz6j1sjDKxidAcnH2L', 'CL', datetime.date(2024, 11, 24), 23, 0, 4)\n",
      "('27bcRgu0wnDteieWlLCxc8', 'CL', datetime.date(2024, 11, 24), 24, -3, -4)\n",
      "('2ajOfRsIVgVO4pmjeCPIzp', 'CL', datetime.date(2024, 11, 24), 25, 0, 5)\n",
      "('5QjmUqgpPQgXgg4606DqZF', 'CL', datetime.date(2024, 11, 24), 26, 2, -4)\n",
      "('00BjWhfYjpmRqKd1qCzdM0', 'CL', datetime.date(2024, 11, 24), 27, -5, -12)\n",
      "('3mg9jYNC1NihbthlglzrWP', 'CL', datetime.date(2024, 11, 24), 28, -1, -9)\n",
      "('4MAv7MqIlcaTBHGiUXIWiw', 'CL', datetime.date(2024, 11, 24), 29, 0, -6)\n",
      "('6UNLWd8LUk9nNgmU6AcXct', 'CL', datetime.date(2024, 11, 24), 30, 0, -5)\n",
      "('3l6CjeIBGZuoCxNS88APlI', 'CL', datetime.date(2024, 11, 24), 31, 1, 1)\n",
      "('0vfPiExVUcECwzpQ3vfV0R', 'CL', datetime.date(2024, 11, 24), 32, 1, 4)\n",
      "('2kvpHbQHp9QmcG9WhyLwco', 'CL', datetime.date(2024, 11, 24), 33, 1, -2)\n",
      "('4dLLdfiniBhDP9dlJQIOi4', 'CL', datetime.date(2024, 11, 24), 34, 5, 1)\n",
      "('21hsqOOUfdSjHi3SVz8oyv', 'CL', datetime.date(2024, 11, 24), 35, 5, 3)\n",
      "('4RtLVq34QEU3ckAl8Tdyro', 'CL', datetime.date(2024, 11, 24), 36, -5, -8)\n",
      "('6a9Z1jUms915w4O7N1PxjY', 'CL', datetime.date(2024, 11, 24), 37, 1, -3)\n",
      "('13BDiikG6y5o5cQTK0HpW6', 'CL', datetime.date(2024, 11, 24), 38, -2, -1)\n",
      "('2esZG2XFtuoWWA9AfDvSxy', 'CL', datetime.date(2024, 11, 24), 39, 2, 0)\n",
      "('3RpbyzSdjlKeEEnVbzhCRE', 'CL', datetime.date(2024, 11, 24), 40, -5, 4)\n",
      "('4aOp0PlHbZl4lPIsi5CyLO', 'CL', datetime.date(2024, 11, 24), 41, -4, -12)\n",
      "('5MmwcFIcD3ZuGE8yRloi3S', 'CL', datetime.date(2024, 11, 24), 42, 8, 8)\n",
      "('0SoBfYjQHvL6cuWHtPUYnq', 'CL', datetime.date(2024, 11, 24), 43, 3, -2)\n",
      "('1hkSF9s6moQBLEeRcdtHgF', 'CL', datetime.date(2024, 11, 24), 44, -1, -11)\n",
      "('03IpZ9yqJlo3EIgDQUgBSF', 'CL', datetime.date(2024, 11, 24), 45, 3, 5)\n",
      "('2gmd7lY3QSzLh0xIY4cRvi', 'CL', datetime.date(2024, 11, 24), 46, 1, -1)\n",
      "('1pLCpA1RN8avJxSD3ZCwhj', 'CL', datetime.date(2024, 11, 24), 47, 3, 2)\n",
      "('1fTjqf10accJCDYstPwwZ6', 'CL', datetime.date(2024, 11, 24), 48, 1, -5)\n",
      "('3uI1I2juxVWkrjSHdd9mVh', 'CL', datetime.date(2024, 11, 24), 49, -4, -9)\n",
      "('1LiN0Z98FkR1t0m8KmLcAH', 'CL', datetime.date(2024, 11, 24), 50, -8, -2)\n",
      "('6hLsMjw00j3HGrkUjKwmgo', 'CL', datetime.date(2024, 11, 23), 1, 0, 0)\n",
      "('6PhRhocBXP4y7NpciGmzra', 'CL', datetime.date(2024, 11, 23), 2, 0, 0)\n",
      "('7tI8dRuH2Yc6RuoTjxo4dU', 'CL', datetime.date(2024, 11, 23), 3, 0, 2)\n",
      "('2Bf7izPNpcTVNL41bdyFic', 'CL', datetime.date(2024, 11, 23), 4, 0, -1)\n",
      "('6WatFBLVB0x077xWeoVc2k', 'CL', datetime.date(2024, 11, 23), 5, 0, -1)\n",
      "('5eqZZLLZ4CkuUznPCOimsi', 'CL', datetime.date(2024, 11, 23), 6, 1, 9)\n",
      "('42wdz3j7gstgUuhoFLCXqd', 'CL', datetime.date(2024, 11, 23), 7, -1, -1)\n",
      "('0l0vcZMU7AOeQmUIREoI2U', 'CL', datetime.date(2024, 11, 23), 8, 5, 42)\n",
      "('0Sr7ssScx54yxdM2ols7nW', 'CL', datetime.date(2024, 11, 23), 9, -1, -2)\n",
      "('2plbrEY59IikOBgBGLjaoe', 'CL', datetime.date(2024, 11, 23), 10, -1, -2)\n",
      "('2SuosMcETUjDfBRobLLTQm', 'CL', datetime.date(2024, 11, 23), 11, 1, -2)\n",
      "('6kPCcIAGoTeRrh8qrmKa90', 'CL', datetime.date(2024, 11, 23), 12, -1, -2)\n",
      "('3ps5MDjfpA3wAbKMitNWgM', 'CL', datetime.date(2024, 11, 23), 13, -3, -1)\n",
      "('0fKK51bU6lcCCwdNnv64t3', 'CL', datetime.date(2024, 11, 23), 14, 4, 36)\n",
      "('0qeIFEGRQqHoaJtLCl0U73', 'CL', datetime.date(2024, 11, 23), 15, -1, -1)\n",
      "('0rqH7y08F8C8lcVBI8n2Sq', 'CL', datetime.date(2024, 11, 23), 16, -1, -5)\n",
      "('0ZS96pPRLyGUViVi5PWCAR', 'CL', datetime.date(2024, 11, 23), 17, 0, 1)\n",
      "('2btNsI4OvcVl7SAHQQDHFB', 'CL', datetime.date(2024, 11, 23), 18, -2, -5)\n",
      "('5vNRhkKd0yEAg8suGBpjeY', 'CL', datetime.date(2024, 11, 23), 19, 1, 2)\n",
      "('3OJDtCdYs8QJnui708tEU3', 'CL', datetime.date(2024, 11, 23), 20, -1, -4)\n",
      "('27bcRgu0wnDteieWlLCxc8', 'CL', datetime.date(2024, 11, 23), 21, 0, 3)\n",
      "('00BjWhfYjpmRqKd1qCzdM0', 'CL', datetime.date(2024, 11, 23), 22, 2, -5)\n",
      "('5Uptvz6j1sjDKxidAcnH2L', 'CL', datetime.date(2024, 11, 23), 23, 3, 0)\n",
      "('7bywjHOc0wSjGGbj04XbVi', 'CL', datetime.date(2024, 11, 23), 24, -2, 1)\n",
      "('2ajOfRsIVgVO4pmjeCPIzp', 'CL', datetime.date(2024, 11, 23), 25, 3, 23)\n",
      "('1YYfyJ2yCvGFCxwjsIqEK9', 'CL', datetime.date(2024, 11, 23), 26, 12, 24)\n",
      "('3mg9jYNC1NihbthlglzrWP', 'CL', datetime.date(2024, 11, 23), 27, -4, -7)\n",
      "('5QjmUqgpPQgXgg4606DqZF', 'CL', datetime.date(2024, 11, 23), 28, -3, -9)\n",
      "('4MAv7MqIlcaTBHGiUXIWiw', 'CL', datetime.date(2024, 11, 23), 29, -2, -7)\n",
      "('6UNLWd8LUk9nNgmU6AcXct', 'CL', datetime.date(2024, 11, 23), 30, -1, -4)\n",
      "('4RtLVq34QEU3ckAl8Tdyro', 'CL', datetime.date(2024, 11, 23), 31, 0, -2)\n",
      "('3l6CjeIBGZuoCxNS88APlI', 'CL', datetime.date(2024, 11, 23), 32, 0, -2)\n",
      "('0vfPiExVUcECwzpQ3vfV0R', 'CL', datetime.date(2024, 11, 23), 33, 6, 2)\n",
      "('2kvpHbQHp9QmcG9WhyLwco', 'CL', datetime.date(2024, 11, 23), 34, 2, -3)\n",
      "('3RpbyzSdjlKeEEnVbzhCRE', 'CL', datetime.date(2024, 11, 23), 35, -5, -1)\n",
      "('13BDiikG6y5o5cQTK0HpW6', 'CL', datetime.date(2024, 11, 23), 36, -1, -8)\n",
      "('4aOp0PlHbZl4lPIsi5CyLO', 'CL', datetime.date(2024, 11, 23), 37, -4, -10)\n",
      "('6a9Z1jUms915w4O7N1PxjY', 'CL', datetime.date(2024, 11, 23), 38, 2, 0)\n",
      "('4dLLdfiniBhDP9dlJQIOi4', 'CL', datetime.date(2024, 11, 23), 39, -2, 4)\n",
      "('21hsqOOUfdSjHi3SVz8oyv', 'CL', datetime.date(2024, 11, 23), 40, -6, -7)\n",
      "('2esZG2XFtuoWWA9AfDvSxy', 'CL', datetime.date(2024, 11, 23), 41, 1, -5)\n",
      "('1LiN0Z98FkR1t0m8KmLcAH', 'CL', datetime.date(2024, 11, 23), 42, 3, 2)\n",
      "('1hkSF9s6moQBLEeRcdtHgF', 'CL', datetime.date(2024, 11, 23), 43, -2, -11)\n",
      "('0qd7ACCc9z2mlTYgPRcnUJ', 'CL', datetime.date(2024, 11, 23), 44, 5, -7)\n",
      "('3uI1I2juxVWkrjSHdd9mVh', 'CL', datetime.date(2024, 11, 23), 45, 1, -5)\n",
      "('0SoBfYjQHvL6cuWHtPUYnq', 'CL', datetime.date(2024, 11, 23), 46, 1, -7)\n",
      "('2gmd7lY3QSzLh0xIY4cRvi', 'CL', datetime.date(2024, 11, 23), 47, 1, -6)\n",
      "('03IpZ9yqJlo3EIgDQUgBSF', 'CL', datetime.date(2024, 11, 23), 48, -5, -2)\n",
      "('1fTjqf10accJCDYstPwwZ6', 'CL', datetime.date(2024, 11, 23), 49, 1, -7)\n",
      "('1pLCpA1RN8avJxSD3ZCwhj', 'CL', datetime.date(2024, 11, 23), 50, -6, 0)\n",
      "('6hLsMjw00j3HGrkUjKwmgo', 'CL', datetime.date(2024, 11, 22), 1, 0, 0)\n",
      "('6PhRhocBXP4y7NpciGmzra', 'CL', datetime.date(2024, 11, 22), 2, 0, 1)\n",
      "('7tI8dRuH2Yc6RuoTjxo4dU', 'CL', datetime.date(2024, 11, 22), 3, 1, -1)\n",
      "('2Bf7izPNpcTVNL41bdyFic', 'CL', datetime.date(2024, 11, 22), 4, -1, 0)\n",
      "('6WatFBLVB0x077xWeoVc2k', 'CL', datetime.date(2024, 11, 22), 5, 0, 0)\n",
      "('42wdz3j7gstgUuhoFLCXqd', 'CL', datetime.date(2024, 11, 22), 6, 1, 0)\n",
      "('5eqZZLLZ4CkuUznPCOimsi', 'CL', datetime.date(2024, 11, 22), 7, 2, 11)\n",
      "('0Sr7ssScx54yxdM2ols7nW', 'CL', datetime.date(2024, 11, 22), 8, -2, -1)\n",
      "('2plbrEY59IikOBgBGLjaoe', 'CL', datetime.date(2024, 11, 22), 9, 2, -1)\n",
      "('3ps5MDjfpA3wAbKMitNWgM', 'CL', datetime.date(2024, 11, 22), 10, -2, 2)\n",
      "('6kPCcIAGoTeRrh8qrmKa90', 'CL', datetime.date(2024, 11, 22), 11, 1, -1)\n",
      "('2SuosMcETUjDfBRobLLTQm', 'CL', datetime.date(2024, 11, 22), 12, -2, -3)\n",
      "('0l0vcZMU7AOeQmUIREoI2U', 'CL', datetime.date(2024, 11, 22), 13, 2, 37)\n",
      "('0qeIFEGRQqHoaJtLCl0U73', 'CL', datetime.date(2024, 11, 22), 14, -1, 0)\n",
      "('0rqH7y08F8C8lcVBI8n2Sq', 'CL', datetime.date(2024, 11, 22), 15, -1, -4)\n",
      "('2btNsI4OvcVl7SAHQQDHFB', 'CL', datetime.date(2024, 11, 22), 16, 2, 1)\n",
      "('0ZS96pPRLyGUViVi5PWCAR', 'CL', datetime.date(2024, 11, 22), 17, 0, 4)\n",
      "('0fKK51bU6lcCCwdNnv64t3', 'CL', datetime.date(2024, 11, 22), 18, 11, 32)\n",
      "('3OJDtCdYs8QJnui708tEU3', 'CL', datetime.date(2024, 11, 22), 19, -3, -6)\n",
      "('5vNRhkKd0yEAg8suGBpjeY', 'CL', datetime.date(2024, 11, 22), 20, -1, 0)\n",
      "('27bcRgu0wnDteieWlLCxc8', 'CL', datetime.date(2024, 11, 22), 21, 4, 7)\n",
      "('7bywjHOc0wSjGGbj04XbVi', 'CL', datetime.date(2024, 11, 22), 22, 0, 1)\n",
      "('3mg9jYNC1NihbthlglzrWP', 'CL', datetime.date(2024, 11, 22), 23, -3, -1)\n",
      "('00BjWhfYjpmRqKd1qCzdM0', 'CL', datetime.date(2024, 11, 22), 24, -3, -8)\n",
      "('5QjmUqgpPQgXgg4606DqZF', 'CL', datetime.date(2024, 11, 22), 25, 1, -10)\n",
      "('5Uptvz6j1sjDKxidAcnH2L', 'CL', datetime.date(2024, 11, 22), 26, -2, -2)\n",
      "('4MAv7MqIlcaTBHGiUXIWiw', 'CL', datetime.date(2024, 11, 22), 27, 1, -8)\n",
      "('2ajOfRsIVgVO4pmjeCPIzp', 'CL', datetime.date(2024, 11, 22), 28, -5, 22)\n",
      "('6UNLWd8LUk9nNgmU6AcXct', 'CL', datetime.date(2024, 11, 22), 29, -2, -3)\n",
      "('3RpbyzSdjlKeEEnVbzhCRE', 'CL', datetime.date(2024, 11, 22), 30, 0, 15)\n",
      "('4RtLVq34QEU3ckAl8Tdyro', 'CL', datetime.date(2024, 11, 22), 31, 1, -2)\n",
      "('3l6CjeIBGZuoCxNS88APlI', 'CL', datetime.date(2024, 11, 22), 32, 1, -7)\n",
      "('4aOp0PlHbZl4lPIsi5CyLO', 'CL', datetime.date(2024, 11, 22), 33, -2, -6)\n",
      "('21hsqOOUfdSjHi3SVz8oyv', 'CL', datetime.date(2024, 11, 22), 34, 0, -2)\n",
      "('13BDiikG6y5o5cQTK0HpW6', 'CL', datetime.date(2024, 11, 22), 35, 1, -2)\n",
      "('2kvpHbQHp9QmcG9WhyLwco', 'CL', datetime.date(2024, 11, 22), 36, -1, -5)\n",
      "('4dLLdfiniBhDP9dlJQIOi4', 'CL', datetime.date(2024, 11, 22), 37, 2, 9)\n",
      "('1YYfyJ2yCvGFCxwjsIqEK9', 'CL', datetime.date(2024, 11, 22), 38, 2, 12)\n",
      "('0vfPiExVUcECwzpQ3vfV0R', 'CL', datetime.date(2024, 11, 22), 39, -2, -5)\n",
      "('6a9Z1jUms915w4O7N1PxjY', 'CL', datetime.date(2024, 11, 22), 40, 6, -4)\n",
      "('1hkSF9s6moQBLEeRcdtHgF', 'CL', datetime.date(2024, 11, 22), 41, -3, -11)\n",
      "('2esZG2XFtuoWWA9AfDvSxy', 'CL', datetime.date(2024, 11, 22), 42, -1, -7)\n",
      "('03IpZ9yqJlo3EIgDQUgBSF', 'CL', datetime.date(2024, 11, 22), 43, 4, 1)\n",
      "('1pLCpA1RN8avJxSD3ZCwhj', 'CL', datetime.date(2024, 11, 22), 44, -1, 6)\n",
      "('1LiN0Z98FkR1t0m8KmLcAH', 'CL', datetime.date(2024, 11, 22), 45, 5, 4)\n",
      "('3uI1I2juxVWkrjSHdd9mVh', 'CL', datetime.date(2024, 11, 22), 46, -2, -8)\n",
      "('0SoBfYjQHvL6cuWHtPUYnq', 'CL', datetime.date(2024, 11, 22), 47, -2, -8)\n",
      "('2gmd7lY3QSzLh0xIY4cRvi', 'CL', datetime.date(2024, 11, 22), 48, -6, -7)\n",
      "('0qd7ACCc9z2mlTYgPRcnUJ', 'CL', datetime.date(2024, 11, 22), 49, -1, -12)\n",
      "('1fTjqf10accJCDYstPwwZ6', 'CL', datetime.date(2024, 11, 22), 50, -1, -7)\n",
      "('6hLsMjw00j3HGrkUjKwmgo', 'CL', datetime.date(2024, 11, 21), 1, 0, 0)\n",
      "('6PhRhocBXP4y7NpciGmzra', 'CL', datetime.date(2024, 11, 21), 2, 0, 0)\n",
      "('2Bf7izPNpcTVNL41bdyFic', 'CL', datetime.date(2024, 11, 21), 3, 0, 1)\n",
      "('7tI8dRuH2Yc6RuoTjxo4dU', 'CL', datetime.date(2024, 11, 21), 4, 0, -1)\n",
      "('6WatFBLVB0x077xWeoVc2k', 'CL', datetime.date(2024, 11, 21), 5, 0, 0)\n",
      "('0Sr7ssScx54yxdM2ols7nW', 'CL', datetime.date(2024, 11, 21), 6, 1, 1)\n",
      "('42wdz3j7gstgUuhoFLCXqd', 'CL', datetime.date(2024, 11, 21), 7, -1, -1)\n",
      "('3ps5MDjfpA3wAbKMitNWgM', 'CL', datetime.date(2024, 11, 21), 8, 0, 6)\n",
      "('5eqZZLLZ4CkuUznPCOimsi', 'CL', datetime.date(2024, 11, 21), 9, 0, 18)\n",
      "('2SuosMcETUjDfBRobLLTQm', 'CL', datetime.date(2024, 11, 21), 10, 2, -1)\n",
      "('2plbrEY59IikOBgBGLjaoe', 'CL', datetime.date(2024, 11, 21), 11, -1, -3)\n",
      "('6kPCcIAGoTeRrh8qrmKa90', 'CL', datetime.date(2024, 11, 21), 12, -1, 1)\n",
      "('0qeIFEGRQqHoaJtLCl0U73', 'CL', datetime.date(2024, 11, 21), 13, 0, -1)\n",
      "('0rqH7y08F8C8lcVBI8n2Sq', 'CL', datetime.date(2024, 11, 21), 14, 0, -4)\n",
      "('0l0vcZMU7AOeQmUIREoI2U', 'CL', datetime.date(2024, 11, 21), 15, 1, 35)\n",
      "('3OJDtCdYs8QJnui708tEU3', 'CL', datetime.date(2024, 11, 21), 16, -1, -5)\n",
      "('0ZS96pPRLyGUViVi5PWCAR', 'CL', datetime.date(2024, 11, 21), 17, 4, -1)\n",
      "('2btNsI4OvcVl7SAHQQDHFB', 'CL', datetime.date(2024, 11, 21), 18, 1, 6)\n",
      "('5vNRhkKd0yEAg8suGBpjeY', 'CL', datetime.date(2024, 11, 21), 19, 1, -1)\n",
      "('3mg9jYNC1NihbthlglzrWP', 'CL', datetime.date(2024, 11, 21), 20, -2, 1)\n",
      "('00BjWhfYjpmRqKd1qCzdM0', 'CL', datetime.date(2024, 11, 21), 21, -4, 1)\n",
      "('7bywjHOc0wSjGGbj04XbVi', 'CL', datetime.date(2024, 11, 21), 22, 2, -3)\n",
      "('2ajOfRsIVgVO4pmjeCPIzp', 'CL', datetime.date(2024, 11, 21), 23, 2, 27)\n",
      "('5Uptvz6j1sjDKxidAcnH2L', 'CL', datetime.date(2024, 11, 21), 24, -1, -1)\n",
      "('27bcRgu0wnDteieWlLCxc8', 'CL', datetime.date(2024, 11, 21), 25, 3, 1)\n",
      "('5QjmUqgpPQgXgg4606DqZF', 'CL', datetime.date(2024, 11, 21), 26, -4, -11)\n",
      "('6UNLWd8LUk9nNgmU6AcXct', 'CL', datetime.date(2024, 11, 21), 27, -1, -2)\n",
      "('4MAv7MqIlcaTBHGiUXIWiw', 'CL', datetime.date(2024, 11, 21), 28, -1, -11)\n",
      "('0fKK51bU6lcCCwdNnv64t3', 'CL', datetime.date(2024, 11, 21), 29, 9, 21)\n",
      "('3RpbyzSdjlKeEEnVbzhCRE', 'CL', datetime.date(2024, 11, 21), 30, 5, 20)\n",
      "('4aOp0PlHbZl4lPIsi5CyLO', 'CL', datetime.date(2024, 11, 21), 31, -1, -3)\n",
      "('4RtLVq34QEU3ckAl8Tdyro', 'CL', datetime.date(2024, 11, 21), 32, 0, 9)\n",
      "('3l6CjeIBGZuoCxNS88APlI', 'CL', datetime.date(2024, 11, 21), 33, -4, -13)\n",
      "('21hsqOOUfdSjHi3SVz8oyv', 'CL', datetime.date(2024, 11, 21), 34, -1, 0)\n",
      "('2kvpHbQHp9QmcG9WhyLwco', 'CL', datetime.date(2024, 11, 21), 35, 1, -5)\n",
      "('13BDiikG6y5o5cQTK0HpW6', 'CL', datetime.date(2024, 11, 21), 36, 5, 6)\n",
      "('0vfPiExVUcECwzpQ3vfV0R', 'CL', datetime.date(2024, 11, 21), 37, 0, -6)\n",
      "('1hkSF9s6moQBLEeRcdtHgF', 'CL', datetime.date(2024, 11, 21), 38, -4, -9)\n",
      "('4dLLdfiniBhDP9dlJQIOi4', 'CL', datetime.date(2024, 11, 21), 39, -8, 6)\n",
      "('1YYfyJ2yCvGFCxwjsIqEK9', 'CL', datetime.date(2024, 11, 21), 40, 5, 10)\n",
      "('2esZG2XFtuoWWA9AfDvSxy', 'CL', datetime.date(2024, 11, 21), 41, -1, -8)\n",
      "('2gmd7lY3QSzLh0xIY4cRvi', 'CL', datetime.date(2024, 11, 21), 42, 4, 1)\n",
      "('1pLCpA1RN8avJxSD3ZCwhj', 'CL', datetime.date(2024, 11, 21), 43, 6, 7)\n",
      "('3uI1I2juxVWkrjSHdd9mVh', 'CL', datetime.date(2024, 11, 21), 44, -5, -6)\n",
      "('0SoBfYjQHvL6cuWHtPUYnq', 'CL', datetime.date(2024, 11, 21), 45, -3, -8)\n",
      "('6a9Z1jUms915w4O7N1PxjY', 'CL', datetime.date(2024, 11, 21), 46, -2, -10)\n",
      "('03IpZ9yqJlo3EIgDQUgBSF', 'CL', datetime.date(2024, 11, 21), 47, -4, -7)\n",
      "('0qd7ACCc9z2mlTYgPRcnUJ', 'CL', datetime.date(2024, 11, 21), 48, -1, -13)\n",
      "('1fTjqf10accJCDYstPwwZ6', 'CL', datetime.date(2024, 11, 21), 49, 1, -5)\n",
      "('1LiN0Z98FkR1t0m8KmLcAH', 'CL', datetime.date(2024, 11, 21), 50, 0, 0)\n",
      "('6hLsMjw00j3HGrkUjKwmgo', 'CL', datetime.date(2024, 11, 20), 1, 0, 0)\n",
      "('6PhRhocBXP4y7NpciGmzra', 'CL', datetime.date(2024, 11, 20), 2, 0, 0)\n",
      "('2Bf7izPNpcTVNL41bdyFic', 'CL', datetime.date(2024, 11, 20), 3, 1, 1)\n",
      "('7tI8dRuH2Yc6RuoTjxo4dU', 'CL', datetime.date(2024, 11, 20), 4, -1, -1)\n",
      "('6WatFBLVB0x077xWeoVc2k', 'CL', datetime.date(2024, 11, 20), 5, 0, 0)\n",
      "('42wdz3j7gstgUuhoFLCXqd', 'CL', datetime.date(2024, 11, 20), 6, 0, 2)\n",
      "('0Sr7ssScx54yxdM2ols7nW', 'CL', datetime.date(2024, 11, 20), 7, 4, 0)\n",
      "('3ps5MDjfpA3wAbKMitNWgM', 'CL', datetime.date(2024, 11, 20), 8, -1, 6)\n",
      "('5eqZZLLZ4CkuUznPCOimsi', 'CL', datetime.date(2024, 11, 20), 9, 1, 19)\n",
      "('2plbrEY59IikOBgBGLjaoe', 'CL', datetime.date(2024, 11, 20), 10, 2, -4)\n",
      "('6kPCcIAGoTeRrh8qrmKa90', 'CL', datetime.date(2024, 11, 20), 11, -3, 4)\n",
      "('2SuosMcETUjDfBRobLLTQm', 'CL', datetime.date(2024, 11, 20), 12, -3, -3)\n",
      "('0qeIFEGRQqHoaJtLCl0U73', 'CL', datetime.date(2024, 11, 20), 13, 1, -1)\n",
      "('0rqH7y08F8C8lcVBI8n2Sq', 'CL', datetime.date(2024, 11, 20), 14, -1, -4)\n",
      "('3OJDtCdYs8QJnui708tEU3', 'CL', datetime.date(2024, 11, 20), 15, 0, -2)\n",
      "('0l0vcZMU7AOeQmUIREoI2U', 'CL', datetime.date(2024, 11, 20), 16, 9, 34)\n",
      "('00BjWhfYjpmRqKd1qCzdM0', 'CL', datetime.date(2024, 11, 20), 17, -1, 6)\n",
      "('3mg9jYNC1NihbthlglzrWP', 'CL', datetime.date(2024, 11, 20), 18, 2, 6)\n",
      "('2btNsI4OvcVl7SAHQQDHFB', 'CL', datetime.date(2024, 11, 20), 19, 2, 12)\n",
      "('5vNRhkKd0yEAg8suGBpjeY', 'CL', datetime.date(2024, 11, 20), 20, 2, -1)\n",
      "('0ZS96pPRLyGUViVi5PWCAR', 'CL', datetime.date(2024, 11, 20), 21, -4, -3)\n",
      "('5QjmUqgpPQgXgg4606DqZF', 'CL', datetime.date(2024, 11, 20), 22, 4, -5)\n",
      "('5Uptvz6j1sjDKxidAcnH2L', 'CL', datetime.date(2024, 11, 20), 23, -4, -3)\n",
      "('7bywjHOc0wSjGGbj04XbVi', 'CL', datetime.date(2024, 11, 20), 24, 4, -2)\n",
      "('2ajOfRsIVgVO4pmjeCPIzp', 'CL', datetime.date(2024, 11, 20), 25, 4, 25)\n",
      "('6UNLWd8LUk9nNgmU6AcXct', 'CL', datetime.date(2024, 11, 20), 26, -8, -5)\n",
      "('4MAv7MqIlcaTBHGiUXIWiw', 'CL', datetime.date(2024, 11, 20), 27, 0, -11)\n",
      "('27bcRgu0wnDteieWlLCxc8', 'CL', datetime.date(2024, 11, 20), 28, -5, -2)\n",
      "('3l6CjeIBGZuoCxNS88APlI', 'CL', datetime.date(2024, 11, 20), 29, 8, -18)\n",
      "('4aOp0PlHbZl4lPIsi5CyLO', 'CL', datetime.date(2024, 11, 20), 30, 0, -5)\n",
      "('4dLLdfiniBhDP9dlJQIOi4', 'CL', datetime.date(2024, 11, 20), 31, 3, 10)\n",
      "('4RtLVq34QEU3ckAl8Tdyro', 'CL', datetime.date(2024, 11, 20), 32, -1, 8)\n",
      "('21hsqOOUfdSjHi3SVz8oyv', 'CL', datetime.date(2024, 11, 20), 33, 2, 0)\n",
      "('1hkSF9s6moQBLEeRcdtHgF', 'CL', datetime.date(2024, 11, 20), 34, -2, -7)\n",
      "('3RpbyzSdjlKeEEnVbzhCRE', 'CL', datetime.date(2024, 11, 20), 35, 8, 15)\n",
      "('2kvpHbQHp9QmcG9WhyLwco', 'CL', datetime.date(2024, 11, 20), 36, 2, -6)\n",
      "('0vfPiExVUcECwzpQ3vfV0R', 'CL', datetime.date(2024, 11, 20), 37, -13, -8)\n",
      "('0fKK51bU6lcCCwdNnv64t3', 'CL', datetime.date(2024, 11, 20), 38, 12, 12)\n",
      "('3uI1I2juxVWkrjSHdd9mVh', 'CL', datetime.date(2024, 11, 20), 39, -3, -3)\n",
      "('2esZG2XFtuoWWA9AfDvSxy', 'CL', datetime.date(2024, 11, 20), 40, -7, -5)\n",
      "('13BDiikG6y5o5cQTK0HpW6', 'CL', datetime.date(2024, 11, 20), 41, 0, 5)\n",
      "('0SoBfYjQHvL6cuWHtPUYnq', 'CL', datetime.date(2024, 11, 20), 42, -3, -5)\n",
      "('03IpZ9yqJlo3EIgDQUgBSF', 'CL', datetime.date(2024, 11, 20), 43, 7, -5)\n",
      "('6a9Z1jUms915w4O7N1PxjY', 'CL', datetime.date(2024, 11, 20), 44, -4, -1)\n",
      "('1YYfyJ2yCvGFCxwjsIqEK9', 'CL', datetime.date(2024, 11, 20), 45, 5, 5)\n",
      "('2gmd7lY3QSzLh0xIY4cRvi', 'CL', datetime.date(2024, 11, 20), 46, 1, -4)\n",
      "('0qd7ACCc9z2mlTYgPRcnUJ', 'CL', datetime.date(2024, 11, 20), 47, -3, -13)\n",
      "('6Dj22jpOiUm5DMjjEdeImQ', 'CL', datetime.date(2024, 11, 20), 48, -2, 0)\n",
      "('1pLCpA1RN8avJxSD3ZCwhj', 'CL', datetime.date(2024, 11, 20), 49, -4, 1)\n",
      "('1fTjqf10accJCDYstPwwZ6', 'CL', datetime.date(2024, 11, 20), 50, 0, -3)\n",
      "('6hLsMjw00j3HGrkUjKwmgo', 'CL', datetime.date(2024, 11, 19), 1, 0, 0)\n",
      "('6PhRhocBXP4y7NpciGmzra', 'CL', datetime.date(2024, 11, 19), 2, 0, 0)\n",
      "('7tI8dRuH2Yc6RuoTjxo4dU', 'CL', datetime.date(2024, 11, 19), 3, 2, 0)\n",
      "('2Bf7izPNpcTVNL41bdyFic', 'CL', datetime.date(2024, 11, 19), 4, -1, 0)\n",
      "('6WatFBLVB0x077xWeoVc2k', 'CL', datetime.date(2024, 11, 19), 5, -1, 0)\n",
      "('42wdz3j7gstgUuhoFLCXqd', 'CL', datetime.date(2024, 11, 19), 6, 0, 0)\n",
      "('3ps5MDjfpA3wAbKMitNWgM', 'CL', datetime.date(2024, 11, 19), 7, 4, 5)\n",
      "('6kPCcIAGoTeRrh8qrmKa90', 'CL', datetime.date(2024, 11, 19), 8, -1, 5)\n",
      "('2SuosMcETUjDfBRobLLTQm', 'CL', datetime.date(2024, 11, 19), 9, 0, -2)\n",
      "('5eqZZLLZ4CkuUznPCOimsi', 'CL', datetime.date(2024, 11, 19), 10, 0, 24)\n",
      "('0Sr7ssScx54yxdM2ols7nW', 'CL', datetime.date(2024, 11, 19), 11, -3, -3)\n",
      "('2plbrEY59IikOBgBGLjaoe', 'CL', datetime.date(2024, 11, 19), 12, 0, -3)\n",
      "('0rqH7y08F8C8lcVBI8n2Sq', 'CL', datetime.date(2024, 11, 19), 13, 1, -3)\n",
      "('0qeIFEGRQqHoaJtLCl0U73', 'CL', datetime.date(2024, 11, 19), 14, 1, 0)\n",
      "('3OJDtCdYs8QJnui708tEU3', 'CL', datetime.date(2024, 11, 19), 15, -2, -4)\n",
      "('00BjWhfYjpmRqKd1qCzdM0', 'CL', datetime.date(2024, 11, 19), 16, 2, 5)\n",
      "('0ZS96pPRLyGUViVi5PWCAR', 'CL', datetime.date(2024, 11, 19), 17, -1, 5)\n",
      "('6UNLWd8LUk9nNgmU6AcXct', 'CL', datetime.date(2024, 11, 19), 18, 7, -3)\n",
      "('5Uptvz6j1sjDKxidAcnH2L', 'CL', datetime.date(2024, 11, 19), 19, 2, -1)\n",
      "('3mg9jYNC1NihbthlglzrWP', 'CL', datetime.date(2024, 11, 19), 20, -1, 9)\n",
      "('2btNsI4OvcVl7SAHQQDHFB', 'CL', datetime.date(2024, 11, 19), 21, -4, 16)\n",
      "('5vNRhkKd0yEAg8suGBpjeY', 'CL', datetime.date(2024, 11, 19), 22, 0, -5)\n",
      "('27bcRgu0wnDteieWlLCxc8', 'CL', datetime.date(2024, 11, 19), 23, 1, 2)\n",
      "('0vfPiExVUcECwzpQ3vfV0R', 'CL', datetime.date(2024, 11, 19), 24, 3, 0)\n",
      "('0l0vcZMU7AOeQmUIREoI2U', 'CL', datetime.date(2024, 11, 19), 25, 3, 25)\n",
      "('5QjmUqgpPQgXgg4606DqZF', 'CL', datetime.date(2024, 11, 19), 26, -3, -6)\n",
      "('4MAv7MqIlcaTBHGiUXIWiw', 'CL', datetime.date(2024, 11, 19), 27, -1, -11)\n",
      "('7bywjHOc0wSjGGbj04XbVi', 'CL', datetime.date(2024, 11, 19), 28, -8, -5)\n",
      "('2ajOfRsIVgVO4pmjeCPIzp', 'CL', datetime.date(2024, 11, 19), 29, 0, 21)\n",
      "('4aOp0PlHbZl4lPIsi5CyLO', 'CL', datetime.date(2024, 11, 19), 30, 0, -4)\n",
      "('4RtLVq34QEU3ckAl8Tdyro', 'CL', datetime.date(2024, 11, 19), 31, 0, 8)\n",
      "('1hkSF9s6moQBLEeRcdtHgF', 'CL', datetime.date(2024, 11, 19), 32, 0, -5)\n",
      "('2esZG2XFtuoWWA9AfDvSxy', 'CL', datetime.date(2024, 11, 19), 33, 2, -5)\n",
      "('4dLLdfiniBhDP9dlJQIOi4', 'CL', datetime.date(2024, 11, 19), 34, 0, 6)\n",
      "('21hsqOOUfdSjHi3SVz8oyv', 'CL', datetime.date(2024, 11, 19), 35, 3, -4)\n",
      "('3uI1I2juxVWkrjSHdd9mVh', 'CL', datetime.date(2024, 11, 19), 36, 5, 2)\n",
      "('3l6CjeIBGZuoCxNS88APlI', 'CL', datetime.date(2024, 11, 19), 37, 2, -18)\n",
      "('2kvpHbQHp9QmcG9WhyLwco', 'CL', datetime.date(2024, 11, 19), 38, -2, -8)\n",
      "('0SoBfYjQHvL6cuWHtPUYnq', 'CL', datetime.date(2024, 11, 19), 39, -2, -4)\n",
      "('6a9Z1jUms915w4O7N1PxjY', 'CL', datetime.date(2024, 11, 19), 40, -7, 4)\n",
      "('13BDiikG6y5o5cQTK0HpW6', 'CL', datetime.date(2024, 11, 19), 41, -1, 9)\n",
      "('2nwa6nS5lXnsvwX48RWkbS', 'CL', datetime.date(2024, 11, 19), 42, 1, -9)\n",
      "('3RpbyzSdjlKeEEnVbzhCRE', 'CL', datetime.date(2024, 11, 19), 43, 2, 7)\n",
      "('0qd7ACCc9z2mlTYgPRcnUJ', 'CL', datetime.date(2024, 11, 19), 44, -2, -8)\n",
      "('1pLCpA1RN8avJxSD3ZCwhj', 'CL', datetime.date(2024, 11, 19), 45, 4, 5)\n",
      "('6Dj22jpOiUm5DMjjEdeImQ', 'CL', datetime.date(2024, 11, 19), 46, 1, -1)\n",
      "('2gmd7lY3QSzLh0xIY4cRvi', 'CL', datetime.date(2024, 11, 19), 47, 1, -1)\n",
      "('1LiN0Z98FkR1t0m8KmLcAH', 'CL', datetime.date(2024, 11, 19), 48, -2, 2)\n",
      "('0zIWfaIRtpt2pO9LK5vU33', 'CL', datetime.date(2024, 11, 19), 49, 1, -8)\n",
      "('1fTjqf10accJCDYstPwwZ6', 'CL', datetime.date(2024, 11, 19), 50, -6, 0)\n",
      "('6hLsMjw00j3HGrkUjKwmgo', 'CL', datetime.date(2024, 11, 18), 1, 0, 0)\n",
      "('6PhRhocBXP4y7NpciGmzra', 'CL', datetime.date(2024, 11, 18), 2, 0, 0)\n",
      "('2Bf7izPNpcTVNL41bdyFic', 'CL', datetime.date(2024, 11, 18), 3, 0, 1)\n",
      "('6WatFBLVB0x077xWeoVc2k', 'CL', datetime.date(2024, 11, 18), 4, 0, -1)\n",
      "('7tI8dRuH2Yc6RuoTjxo4dU', 'CL', datetime.date(2024, 11, 18), 5, 0, 2)\n",
      "('42wdz3j7gstgUuhoFLCXqd', 'CL', datetime.date(2024, 11, 18), 6, 0, -1)\n",
      "('6kPCcIAGoTeRrh8qrmKa90', 'CL', datetime.date(2024, 11, 18), 7, 2, 3)\n",
      "('0Sr7ssScx54yxdM2ols7nW', 'CL', datetime.date(2024, 11, 18), 8, -1, 0)\n",
      "('2SuosMcETUjDfBRobLLTQm', 'CL', datetime.date(2024, 11, 18), 9, -1, -3)\n",
      "('5eqZZLLZ4CkuUznPCOimsi', 'CL', datetime.date(2024, 11, 18), 10, 2, 27)\n",
      "('3ps5MDjfpA3wAbKMitNWgM', 'CL', datetime.date(2024, 11, 18), 11, -1, 1)\n",
      "('2plbrEY59IikOBgBGLjaoe', 'CL', datetime.date(2024, 11, 18), 12, -1, -1)\n",
      "('3OJDtCdYs8QJnui708tEU3', 'CL', datetime.date(2024, 11, 18), 13, 3, 2)\n",
      "('0rqH7y08F8C8lcVBI8n2Sq', 'CL', datetime.date(2024, 11, 18), 14, -1, -5)\n",
      "('0qeIFEGRQqHoaJtLCl0U73', 'CL', datetime.date(2024, 11, 18), 15, -1, 2)\n",
      "('0ZS96pPRLyGUViVi5PWCAR', 'CL', datetime.date(2024, 11, 18), 16, 2, 5)\n",
      "('2btNsI4OvcVl7SAHQQDHFB', 'CL', datetime.date(2024, 11, 18), 17, 0, 13)\n",
      "('00BjWhfYjpmRqKd1qCzdM0', 'CL', datetime.date(2024, 11, 18), 18, -3, 1)\n",
      "('3mg9jYNC1NihbthlglzrWP', 'CL', datetime.date(2024, 11, 18), 19, 0, 7)\n",
      "('7bywjHOc0wSjGGbj04XbVi', 'CL', datetime.date(2024, 11, 18), 20, 6, 5)\n",
      "('5Uptvz6j1sjDKxidAcnH2L', 'CL', datetime.date(2024, 11, 18), 21, 6, 1)\n",
      "('5vNRhkKd0yEAg8suGBpjeY', 'CL', datetime.date(2024, 11, 18), 22, -1, -2)\n",
      "('5QjmUqgpPQgXgg4606DqZF', 'CL', datetime.date(2024, 11, 18), 23, -1, -7)\n",
      "('27bcRgu0wnDteieWlLCxc8', 'CL', datetime.date(2024, 11, 18), 24, -4, -11)\n",
      "('6UNLWd8LUk9nNgmU6AcXct', 'CL', datetime.date(2024, 11, 18), 25, 0, -11)\n",
      "('4MAv7MqIlcaTBHGiUXIWiw', 'CL', datetime.date(2024, 11, 18), 26, -3, -8)\n",
      "('0vfPiExVUcECwzpQ3vfV0R', 'CL', datetime.date(2024, 11, 18), 27, 9, -3)\n",
      "('0l0vcZMU7AOeQmUIREoI2U', 'CL', datetime.date(2024, 11, 18), 28, -4, 22)\n",
      "('2ajOfRsIVgVO4pmjeCPIzp', 'CL', datetime.date(2024, 11, 18), 29, 1, 21)\n",
      "('4aOp0PlHbZl4lPIsi5CyLO', 'CL', datetime.date(2024, 11, 18), 30, -1, -3)\n",
      "('4RtLVq34QEU3ckAl8Tdyro', 'CL', datetime.date(2024, 11, 18), 31, -3, 8)\n",
      "('1hkSF9s6moQBLEeRcdtHgF', 'CL', datetime.date(2024, 11, 18), 32, 1, -3)\n",
      "('6a9Z1jUms915w4O7N1PxjY', 'CL', datetime.date(2024, 11, 18), 33, 1, 7)\n",
      "('4dLLdfiniBhDP9dlJQIOi4', 'CL', datetime.date(2024, 11, 18), 34, 1, 10)\n",
      "('2esZG2XFtuoWWA9AfDvSxy', 'CL', datetime.date(2024, 11, 18), 35, 4, -2)\n",
      "('2kvpHbQHp9QmcG9WhyLwco', 'CL', datetime.date(2024, 11, 18), 36, -5, -4)\n",
      "('0SoBfYjQHvL6cuWHtPUYnq', 'CL', datetime.date(2024, 11, 18), 37, 4, -3)\n",
      "('21hsqOOUfdSjHi3SVz8oyv', 'CL', datetime.date(2024, 11, 18), 38, 0, -10)\n",
      "('3l6CjeIBGZuoCxNS88APlI', 'CL', datetime.date(2024, 11, 18), 39, -7, -16)\n",
      "('13BDiikG6y5o5cQTK0HpW6', 'CL', datetime.date(2024, 11, 18), 40, -3, 9)\n",
      "('3uI1I2juxVWkrjSHdd9mVh', 'CL', datetime.date(2024, 11, 18), 41, -1, 2)\n",
      "('0qd7ACCc9z2mlTYgPRcnUJ', 'CL', datetime.date(2024, 11, 18), 42, 0, -6)\n",
      "('2nwa6nS5lXnsvwX48RWkbS', 'CL', datetime.date(2024, 11, 18), 43, 7, -12)\n",
      "('1fTjqf10accJCDYstPwwZ6', 'CL', datetime.date(2024, 11, 18), 44, -1, 4)\n",
      "('3RpbyzSdjlKeEEnVbzhCRE', 'CL', datetime.date(2024, 11, 18), 45, -1, 5)\n",
      "('1LiN0Z98FkR1t0m8KmLcAH', 'CL', datetime.date(2024, 11, 18), 46, 2, 4)\n",
      "('6Dj22jpOiUm5DMjjEdeImQ', 'CL', datetime.date(2024, 11, 18), 47, 0, -6)\n",
      "('2gmd7lY3QSzLh0xIY4cRvi', 'CL', datetime.date(2024, 11, 18), 48, -3, -3)\n",
      "('1pLCpA1RN8avJxSD3ZCwhj', 'CL', datetime.date(2024, 11, 18), 49, 0, 1)\n",
      "('0zIWfaIRtpt2pO9LK5vU33', 'CL', datetime.date(2024, 11, 18), 50, 0, -12)\n",
      "('6hLsMjw00j3HGrkUjKwmgo', 'CL', datetime.date(2024, 11, 17), 1, 0, 0)\n",
      "('6PhRhocBXP4y7NpciGmzra', 'CL', datetime.date(2024, 11, 17), 2, 0, 0)\n",
      "('2Bf7izPNpcTVNL41bdyFic', 'CL', datetime.date(2024, 11, 17), 3, 0, 1)\n",
      "('6WatFBLVB0x077xWeoVc2k', 'CL', datetime.date(2024, 11, 17), 4, 0, -1)\n",
      "('7tI8dRuH2Yc6RuoTjxo4dU', 'CL', datetime.date(2024, 11, 17), 5, 0, 3)\n",
      "('42wdz3j7gstgUuhoFLCXqd', 'CL', datetime.date(2024, 11, 17), 6, 0, -1)\n",
      "('0Sr7ssScx54yxdM2ols7nW', 'CL', datetime.date(2024, 11, 17), 7, 0, -1)\n",
      "('2SuosMcETUjDfBRobLLTQm', 'CL', datetime.date(2024, 11, 17), 8, 1, -1)\n",
      "('6kPCcIAGoTeRrh8qrmKa90', 'CL', datetime.date(2024, 11, 17), 9, 1, 1)\n",
      "('3ps5MDjfpA3wAbKMitNWgM', 'CL', datetime.date(2024, 11, 17), 10, 2, 4)\n",
      "('2plbrEY59IikOBgBGLjaoe', 'CL', datetime.date(2024, 11, 17), 11, -3, 1)\n",
      "('5eqZZLLZ4CkuUznPCOimsi', 'CL', datetime.date(2024, 11, 17), 12, 3, 21)\n",
      "('0rqH7y08F8C8lcVBI8n2Sq', 'CL', datetime.date(2024, 11, 17), 13, -2, 0)\n",
      "('0qeIFEGRQqHoaJtLCl0U73', 'CL', datetime.date(2024, 11, 17), 14, 0, 3)\n",
      "('00BjWhfYjpmRqKd1qCzdM0', 'CL', datetime.date(2024, 11, 17), 15, 2, 5)\n",
      "('3OJDtCdYs8QJnui708tEU3', 'CL', datetime.date(2024, 11, 17), 16, 0, 0)\n",
      "('2btNsI4OvcVl7SAHQQDHFB', 'CL', datetime.date(2024, 11, 17), 17, -4, 8)\n",
      "('0ZS96pPRLyGUViVi5PWCAR', 'CL', datetime.date(2024, 11, 17), 18, 0, 3)\n",
      "('3mg9jYNC1NihbthlglzrWP', 'CL', datetime.date(2024, 11, 17), 19, 1, 0)\n",
      "('27bcRgu0wnDteieWlLCxc8', 'CL', datetime.date(2024, 11, 17), 20, 4, -9)\n",
      "('5vNRhkKd0yEAg8suGBpjeY', 'CL', datetime.date(2024, 11, 17), 21, 0, 1)\n",
      "('5QjmUqgpPQgXgg4606DqZF', 'CL', datetime.date(2024, 11, 17), 22, -3, -7)\n",
      "('4MAv7MqIlcaTBHGiUXIWiw', 'CL', datetime.date(2024, 11, 17), 23, -1, -5)\n",
      "('0l0vcZMU7AOeQmUIREoI2U', 'CL', datetime.date(2024, 11, 17), 24, 26, 26)\n",
      "('6UNLWd8LUk9nNgmU6AcXct', 'CL', datetime.date(2024, 11, 17), 25, 1, -2)\n",
      "('7bywjHOc0wSjGGbj04XbVi', 'CL', datetime.date(2024, 11, 17), 26, -1, -2)\n",
      "('5Uptvz6j1sjDKxidAcnH2L', 'CL', datetime.date(2024, 11, 17), 27, -4, -1)\n",
      "('4RtLVq34QEU3ckAl8Tdyro', 'CL', datetime.date(2024, 11, 17), 28, 1, 9)\n",
      "('4aOp0PlHbZl4lPIsi5CyLO', 'CL', datetime.date(2024, 11, 17), 29, -2, -1)\n",
      "('2ajOfRsIVgVO4pmjeCPIzp', 'CL', datetime.date(2024, 11, 17), 30, 18, 20)\n",
      "('2kvpHbQHp9QmcG9WhyLwco', 'CL', datetime.date(2024, 11, 17), 31, 0, 1)\n",
      "('3l6CjeIBGZuoCxNS88APlI', 'CL', datetime.date(2024, 11, 17), 32, -2, -23)\n",
      "('1hkSF9s6moQBLEeRcdtHgF', 'CL', datetime.date(2024, 11, 17), 33, -1, -4)\n",
      "('6a9Z1jUms915w4O7N1PxjY', 'CL', datetime.date(2024, 11, 17), 34, 4, 5)\n",
      "('4dLLdfiniBhDP9dlJQIOi4', 'CL', datetime.date(2024, 11, 17), 35, 8, 10)\n",
      "('0vfPiExVUcECwzpQ3vfV0R', 'CL', datetime.date(2024, 11, 17), 36, -1, -9)\n",
      "('13BDiikG6y5o5cQTK0HpW6', 'CL', datetime.date(2024, 11, 17), 37, -9, 7)\n",
      "('21hsqOOUfdSjHi3SVz8oyv', 'CL', datetime.date(2024, 11, 17), 38, -5, -8)\n",
      "('2esZG2XFtuoWWA9AfDvSxy', 'CL', datetime.date(2024, 11, 17), 39, -3, -3)\n",
      "('3uI1I2juxVWkrjSHdd9mVh', 'CL', datetime.date(2024, 11, 17), 40, 0, 1)\n",
      "('0SoBfYjQHvL6cuWHtPUYnq', 'CL', datetime.date(2024, 11, 17), 41, -2, -7)\n",
      "('0qd7ACCc9z2mlTYgPRcnUJ', 'CL', datetime.date(2024, 11, 17), 42, -5, -4)\n",
      "('1fTjqf10accJCDYstPwwZ6', 'CL', datetime.date(2024, 11, 17), 43, -1, 6)\n",
      "('3RpbyzSdjlKeEEnVbzhCRE', 'CL', datetime.date(2024, 11, 17), 44, -10, 6)\n",
      "('2gmd7lY3QSzLh0xIY4cRvi', 'CL', datetime.date(2024, 11, 17), 45, -4, 5)\n",
      "('604IC2o3T3bxPu6C7Pimd7', 'CL', datetime.date(2024, 11, 17), 46, -1, -3)\n",
      "('6Dj22jpOiUm5DMjjEdeImQ', 'CL', datetime.date(2024, 11, 17), 47, 2, -5)\n",
      "('1LiN0Z98FkR1t0m8KmLcAH', 'CL', datetime.date(2024, 11, 17), 48, -4, 2)\n",
      "('1pLCpA1RN8avJxSD3ZCwhj', 'CL', datetime.date(2024, 11, 17), 49, 1, 1)\n",
      "('0zIWfaIRtpt2pO9LK5vU33', 'CL', datetime.date(2024, 11, 17), 50, -3, -15)\n",
      "('1YYfyJ2yCvGFCxwjsIqEK9', 'EC', datetime.date(2024, 11, 24), 1, 0, 15)\n",
      "('3mg9jYNC1NihbthlglzrWP', 'EC', datetime.date(2024, 11, 24), 2, 0, -1)\n",
      "('0l0vcZMU7AOeQmUIREoI2U', 'EC', datetime.date(2024, 11, 24), 3, 0, 0)\n",
      "('1cOboCuWYI2osTOfolMRS6', 'EC', datetime.date(2024, 11, 24), 4, 0, -2)\n",
      "('69vi5SUSJJF0CQJCZngFFS', 'EC', datetime.date(2024, 11, 24), 5, 4, 18)\n",
      "('7bywjHOc0wSjGGbj04XbVi', 'EC', datetime.date(2024, 11, 24), 6, -1, -1)\n",
      "('2gmd7lY3QSzLh0xIY4cRvi', 'EC', datetime.date(2024, 11, 24), 7, -1, 0)\n",
      "('2btNsI4OvcVl7SAHQQDHFB', 'EC', datetime.date(2024, 11, 24), 8, -1, -4)\n",
      "('13BDiikG6y5o5cQTK0HpW6', 'EC', datetime.date(2024, 11, 24), 9, -1, 0)\n",
      "('6WatFBLVB0x077xWeoVc2k', 'EC', datetime.date(2024, 11, 24), 10, 0, -2)\n",
      "('0qeIFEGRQqHoaJtLCl0U73', 'EC', datetime.date(2024, 11, 24), 11, 0, -5)\n",
      "('0iVEujJcafOBnxa654fJYu', 'EC', datetime.date(2024, 11, 24), 12, 38, 38)\n",
      "('63pLfjK6FvcYJYMGwtHjd6', 'EC', datetime.date(2024, 11, 24), 13, -1, 0)\n",
      "('7iQXYTyuG13aoeHxGG28Nh', 'EC', datetime.date(2024, 11, 24), 14, -1, 5)\n",
      "('0fKK51bU6lcCCwdNnv64t3', 'EC', datetime.date(2024, 11, 24), 15, 1, 35)\n",
      "('0Sr7ssScx54yxdM2ols7nW', 'EC', datetime.date(2024, 11, 24), 16, 1, -4)\n",
      "('3KZCP2StVGdWkOKyRZNWA4', 'EC', datetime.date(2024, 11, 24), 17, 1, 3)\n",
      "('5QjmUqgpPQgXgg4606DqZF', 'EC', datetime.date(2024, 11, 24), 18, 1, -3)\n",
      "('2plbrEY59IikOBgBGLjaoe', 'EC', datetime.date(2024, 11, 24), 19, -5, -5)\n",
      "('1uFW6czrHk5PsK3s6gOI7C', 'EC', datetime.date(2024, 11, 24), 20, -5, -10)\n",
      "('6a9Z1jUms915w4O7N1PxjY', 'EC', datetime.date(2024, 11, 24), 21, -1, -3)\n",
      "('0zNMdrDEs5N0JPQ7RYQZln', 'EC', datetime.date(2024, 11, 24), 22, 0, -1)\n",
      "('2CeKVsFFXG4QzA415QygGb', 'EC', datetime.date(2024, 11, 24), 23, -2, 4)\n",
      "('5vNRhkKd0yEAg8suGBpjeY', 'EC', datetime.date(2024, 11, 24), 24, 1, 6)\n",
      "('6kPCcIAGoTeRrh8qrmKa90', 'EC', datetime.date(2024, 11, 24), 25, 5, 1)\n",
      "('1fTjqf10accJCDYstPwwZ6', 'EC', datetime.date(2024, 11, 24), 26, -2, -1)\n",
      "('2eQFYGegTZaObk2kuBz83Z', 'EC', datetime.date(2024, 11, 24), 27, -4, -16)\n",
      "('1pLCpA1RN8avJxSD3ZCwhj', 'EC', datetime.date(2024, 11, 24), 28, -1, 6)\n",
      "('4bw8mcDUSRWfQo63ZTYRnU', 'EC', datetime.date(2024, 11, 24), 29, -1, 11)\n",
      "('4zbEItKoaRId1vRZkoO0Uh', 'EC', datetime.date(2024, 11, 24), 30, -1, 20)\n",
      "('5mD7jI5GrDmsadKibEYho2', 'EC', datetime.date(2024, 11, 24), 31, 5, 16)\n",
      "('0T2pB7P1VdXPhLdQZ488uH', 'EC', datetime.date(2024, 11, 24), 32, -6, 11)\n",
      "('6DUdDIRgLqCGq1DwkNWQTN', 'EC', datetime.date(2024, 11, 24), 33, -2, 9)\n",
      "('5cZIDOH5DaLSXFqo21G24Z', 'EC', datetime.date(2024, 11, 24), 34, 6, 16)\n",
      "('5pVJ3IlnpIorU44oXizzG5', 'EC', datetime.date(2024, 11, 24), 35, 4, 0)\n",
      "('3OJDtCdYs8QJnui708tEU3', 'EC', datetime.date(2024, 11, 24), 36, 1, -5)\n",
      "('42wdz3j7gstgUuhoFLCXqd', 'EC', datetime.date(2024, 11, 24), 37, 4, 13)\n",
      "('505v13epFXodT9fVAJ6h8k', 'EC', datetime.date(2024, 11, 24), 38, -3, 1)\n",
      "('0EhmTBq33eARyOz3SIi4P2', 'EC', datetime.date(2024, 11, 24), 39, -6, -11)\n",
      "('2llFXBrftm6YJzBj3tpk0s', 'EC', datetime.date(2024, 11, 24), 40, -2, -4)\n",
      "('0rNqDh9zWWJVTLS4VfceHP', 'EC', datetime.date(2024, 11, 24), 41, -9, -8)\n",
      "('6uIIdjYTxxpWOyWuVXrKQO', 'EC', datetime.date(2024, 11, 24), 42, 0, 2)\n",
      "('1HWbpfmzt1YplLceHgirCv', 'EC', datetime.date(2024, 11, 24), 43, 4, 7)\n",
      "('0fea68AdmYNygeTGI4RC18', 'EC', datetime.date(2024, 11, 24), 44, 2, 6)\n",
      "('45DB3yqxYGAnKN3YmLWbAX', 'EC', datetime.date(2024, 11, 24), 45, 5, 5)\n",
      "('4lqJsJd7kqWVvamQ4aFHA8', 'EC', datetime.date(2024, 11, 24), 46, -12, -29)\n",
      "('1C5jDtYftdFtHNG6iLVyCA', 'EC', datetime.date(2024, 11, 24), 47, 3, 3)\n",
      "('27ze5t5tIDPlVits0KRbxT', 'EC', datetime.date(2024, 11, 24), 48, 0, -10)\n",
      "('5RqSsdzTNPX1uzkmlHCFvK', 'EC', datetime.date(2024, 11, 24), 49, 1, 1)\n",
      "('1sbNEFiURUYfy024cJX8JG', 'EC', datetime.date(2024, 11, 24), 50, -5, 0)\n",
      "('1YYfyJ2yCvGFCxwjsIqEK9', 'EC', datetime.date(2024, 11, 23), 1, 2, 49)\n",
      "('3mg9jYNC1NihbthlglzrWP', 'EC', datetime.date(2024, 11, 23), 2, -1, -1)\n",
      "('0l0vcZMU7AOeQmUIREoI2U', 'EC', datetime.date(2024, 11, 23), 3, 4, 47)\n",
      "('1cOboCuWYI2osTOfolMRS6', 'EC', datetime.date(2024, 11, 23), 4, -2, -2)\n",
      "('7bywjHOc0wSjGGbj04XbVi', 'EC', datetime.date(2024, 11, 23), 5, -1, 0)\n",
      "('2gmd7lY3QSzLh0xIY4cRvi', 'EC', datetime.date(2024, 11, 23), 6, 0, 1)\n",
      "('2btNsI4OvcVl7SAHQQDHFB', 'EC', datetime.date(2024, 11, 23), 7, -2, -4)\n",
      "('13BDiikG6y5o5cQTK0HpW6', 'EC', datetime.date(2024, 11, 23), 8, 0, -4)\n",
      "('69vi5SUSJJF0CQJCZngFFS', 'EC', datetime.date(2024, 11, 23), 9, 2, 9)\n",
      "('6WatFBLVB0x077xWeoVc2k', 'EC', datetime.date(2024, 11, 23), 10, -1, -2)\n",
      "('0qeIFEGRQqHoaJtLCl0U73', 'EC', datetime.date(2024, 11, 23), 11, -1, -5)\n",
      "('63pLfjK6FvcYJYMGwtHjd6', 'EC', datetime.date(2024, 11, 23), 12, 0, 0)\n",
      "('7iQXYTyuG13aoeHxGG28Nh', 'EC', datetime.date(2024, 11, 23), 13, 0, 1)\n",
      "('2plbrEY59IikOBgBGLjaoe', 'EC', datetime.date(2024, 11, 23), 14, 0, -5)\n",
      "('1uFW6czrHk5PsK3s6gOI7C', 'EC', datetime.date(2024, 11, 23), 15, 4, 35)\n",
      "('0fKK51bU6lcCCwdNnv64t3', 'EC', datetime.date(2024, 11, 23), 16, 5, 34)\n",
      "('0Sr7ssScx54yxdM2ols7nW', 'EC', datetime.date(2024, 11, 23), 17, -2, -6)\n",
      "('3KZCP2StVGdWkOKyRZNWA4', 'EC', datetime.date(2024, 11, 23), 18, -1, 32)\n",
      "('5QjmUqgpPQgXgg4606DqZF', 'EC', datetime.date(2024, 11, 23), 19, -3, -9)\n",
      "('6a9Z1jUms915w4O7N1PxjY', 'EC', datetime.date(2024, 11, 23), 20, -2, -5)\n",
      "('2CeKVsFFXG4QzA415QygGb', 'EC', datetime.date(2024, 11, 23), 21, -1, -5)\n",
      "('0zNMdrDEs5N0JPQ7RYQZln', 'EC', datetime.date(2024, 11, 23), 22, 0, -5)\n",
      "('2eQFYGegTZaObk2kuBz83Z', 'EC', datetime.date(2024, 11, 23), 23, 3, 27)\n",
      "('1fTjqf10accJCDYstPwwZ6', 'EC', datetime.date(2024, 11, 23), 24, 0, -2)\n",
      "('5vNRhkKd0yEAg8suGBpjeY', 'EC', datetime.date(2024, 11, 23), 25, 0, -5)\n",
      "('0T2pB7P1VdXPhLdQZ488uH', 'EC', datetime.date(2024, 11, 23), 26, 6, 0)\n",
      "('1pLCpA1RN8avJxSD3ZCwhj', 'EC', datetime.date(2024, 11, 23), 27, -4, 2)\n",
      "('4bw8mcDUSRWfQo63ZTYRnU', 'EC', datetime.date(2024, 11, 23), 28, 0, 2)\n",
      "('4zbEItKoaRId1vRZkoO0Uh', 'EC', datetime.date(2024, 11, 23), 29, 1, 21)\n",
      "('6kPCcIAGoTeRrh8qrmKa90', 'EC', datetime.date(2024, 11, 23), 30, -3, -11)\n",
      "('6DUdDIRgLqCGq1DwkNWQTN', 'EC', datetime.date(2024, 11, 23), 31, 2, 0)\n",
      "('0rNqDh9zWWJVTLS4VfceHP', 'EC', datetime.date(2024, 11, 23), 32, -3, -8)\n",
      "('0EhmTBq33eARyOz3SIi4P2', 'EC', datetime.date(2024, 11, 23), 33, 2, -12)\n",
      "('4lqJsJd7kqWVvamQ4aFHA8', 'EC', datetime.date(2024, 11, 23), 34, 12, 16)\n",
      "('505v13epFXodT9fVAJ6h8k', 'EC', datetime.date(2024, 11, 23), 35, -4, -2)\n",
      "('5mD7jI5GrDmsadKibEYho2', 'EC', datetime.date(2024, 11, 23), 36, -2, 2)\n",
      "('3OJDtCdYs8QJnui708tEU3', 'EC', datetime.date(2024, 11, 23), 37, -1, -14)\n",
      "('2llFXBrftm6YJzBj3tpk0s', 'EC', datetime.date(2024, 11, 23), 38, -1, -13)\n",
      "('5pVJ3IlnpIorU44oXizzG5', 'EC', datetime.date(2024, 11, 23), 39, 0, -12)\n",
      "('5cZIDOH5DaLSXFqo21G24Z', 'EC', datetime.date(2024, 11, 23), 40, 7, 10)\n",
      "('42wdz3j7gstgUuhoFLCXqd', 'EC', datetime.date(2024, 11, 23), 41, 1, -5)\n",
      "('6uIIdjYTxxpWOyWuVXrKQO', 'EC', datetime.date(2024, 11, 23), 42, -2, -7)\n",
      "('50zAEIE4B1QqhPjRMK2Xmh', 'EC', datetime.date(2024, 11, 23), 43, -5, 7)\n",
      "('1hZsWUnLbqRw09jLAMQSsb', 'EC', datetime.date(2024, 11, 23), 44, -3, -4)\n",
      "('1sbNEFiURUYfy024cJX8JG', 'EC', datetime.date(2024, 11, 23), 45, 3, 5)\n",
      "('0fea68AdmYNygeTGI4RC18', 'EC', datetime.date(2024, 11, 23), 46, -3, -9)\n",
      "('1HWbpfmzt1YplLceHgirCv', 'EC', datetime.date(2024, 11, 23), 47, -3, -5)\n",
      "('27ze5t5tIDPlVits0KRbxT', 'EC', datetime.date(2024, 11, 23), 48, -3, -16)\n",
      "('5jt25aFjW2kNoBqaEVaz5W', 'EC', datetime.date(2024, 11, 23), 49, 1, -3)\n",
      "('5RqSsdzTNPX1uzkmlHCFvK', 'EC', datetime.date(2024, 11, 23), 50, 0, -7)\n",
      "('3mg9jYNC1NihbthlglzrWP', 'EC', datetime.date(2024, 11, 22), 1, 0, 0)\n",
      "('1cOboCuWYI2osTOfolMRS6', 'EC', datetime.date(2024, 11, 22), 2, 0, 0)\n",
      "('1YYfyJ2yCvGFCxwjsIqEK9', 'EC', datetime.date(2024, 11, 22), 3, 0, 47)\n",
      "('7bywjHOc0wSjGGbj04XbVi', 'EC', datetime.date(2024, 11, 22), 4, 0, 0)\n",
      "('2btNsI4OvcVl7SAHQQDHFB', 'EC', datetime.date(2024, 11, 22), 5, 0, -2)\n",
      "('2gmd7lY3QSzLh0xIY4cRvi', 'EC', datetime.date(2024, 11, 22), 6, 0, 1)\n",
      "('0l0vcZMU7AOeQmUIREoI2U', 'EC', datetime.date(2024, 11, 22), 7, 0, 43)\n",
      "('13BDiikG6y5o5cQTK0HpW6', 'EC', datetime.date(2024, 11, 22), 8, 2, 0)\n",
      "('6WatFBLVB0x077xWeoVc2k', 'EC', datetime.date(2024, 11, 22), 9, -1, -3)\n",
      "('0qeIFEGRQqHoaJtLCl0U73', 'EC', datetime.date(2024, 11, 22), 10, -1, -5)\n",
      "('69vi5SUSJJF0CQJCZngFFS', 'EC', datetime.date(2024, 11, 22), 11, 2, 12)\n",
      "('63pLfjK6FvcYJYMGwtHjd6', 'EC', datetime.date(2024, 11, 22), 12, -1, 0)\n",
      "('7iQXYTyuG13aoeHxGG28Nh', 'EC', datetime.date(2024, 11, 22), 13, -1, 0)\n",
      "('2plbrEY59IikOBgBGLjaoe', 'EC', datetime.date(2024, 11, 22), 14, 1, -5)\n",
      "('0Sr7ssScx54yxdM2ols7nW', 'EC', datetime.date(2024, 11, 22), 15, -1, -4)\n",
      "('5QjmUqgpPQgXgg4606DqZF', 'EC', datetime.date(2024, 11, 22), 16, 2, -6)\n",
      "('3KZCP2StVGdWkOKyRZNWA4', 'EC', datetime.date(2024, 11, 22), 17, 6, -1)\n",
      "('6a9Z1jUms915w4O7N1PxjY', 'EC', datetime.date(2024, 11, 22), 18, 1, -4)\n",
      "('1uFW6czrHk5PsK3s6gOI7C', 'EC', datetime.date(2024, 11, 22), 19, -3, 31)\n",
      "('2CeKVsFFXG4QzA415QygGb', 'EC', datetime.date(2024, 11, 22), 20, -3, -1)\n",
      "('0fKK51bU6lcCCwdNnv64t3', 'EC', datetime.date(2024, 11, 22), 21, 3, 29)\n",
      "('0zNMdrDEs5N0JPQ7RYQZln', 'EC', datetime.date(2024, 11, 22), 22, -1, -7)\n",
      "('1pLCpA1RN8avJxSD3ZCwhj', 'EC', datetime.date(2024, 11, 22), 23, 2, 13)\n",
      "('1fTjqf10accJCDYstPwwZ6', 'EC', datetime.date(2024, 11, 22), 24, 4, -3)\n",
      "('5vNRhkKd0yEAg8suGBpjeY', 'EC', datetime.date(2024, 11, 22), 25, 1, -3)\n",
      "('2eQFYGegTZaObk2kuBz83Z', 'EC', datetime.date(2024, 11, 22), 26, -6, 24)\n",
      "('6kPCcIAGoTeRrh8qrmKa90', 'EC', datetime.date(2024, 11, 22), 27, 2, -7)\n",
      "('4bw8mcDUSRWfQo63ZTYRnU', 'EC', datetime.date(2024, 11, 22), 28, 3, -2)\n",
      "('0rNqDh9zWWJVTLS4VfceHP', 'EC', datetime.date(2024, 11, 22), 29, -7, -5)\n",
      "('4zbEItKoaRId1vRZkoO0Uh', 'EC', datetime.date(2024, 11, 22), 30, 13, 20)\n",
      "('505v13epFXodT9fVAJ6h8k', 'EC', datetime.date(2024, 11, 22), 31, 1, -3)\n",
      "('0T2pB7P1VdXPhLdQZ488uH', 'EC', datetime.date(2024, 11, 22), 32, -5, -3)\n",
      "('6DUdDIRgLqCGq1DwkNWQTN', 'EC', datetime.date(2024, 11, 22), 33, 6, 0)\n",
      "('5mD7jI5GrDmsadKibEYho2', 'EC', datetime.date(2024, 11, 22), 34, 6, 9)\n",
      "('0EhmTBq33eARyOz3SIi4P2', 'EC', datetime.date(2024, 11, 22), 35, -1, -17)\n",
      "('3OJDtCdYs8QJnui708tEU3', 'EC', datetime.date(2024, 11, 22), 36, -6, -19)\n",
      "('2llFXBrftm6YJzBj3tpk0s', 'EC', datetime.date(2024, 11, 22), 37, -4, -10)\n",
      "('50zAEIE4B1QqhPjRMK2Xmh', 'EC', datetime.date(2024, 11, 22), 38, 12, 12)\n",
      "('5pVJ3IlnpIorU44oXizzG5', 'EC', datetime.date(2024, 11, 22), 39, -2, -9)\n",
      "('6uIIdjYTxxpWOyWuVXrKQO', 'EC', datetime.date(2024, 11, 22), 40, -2, -9)\n",
      "('1hZsWUnLbqRw09jLAMQSsb', 'EC', datetime.date(2024, 11, 22), 41, -6, -1)\n",
      "('42wdz3j7gstgUuhoFLCXqd', 'EC', datetime.date(2024, 11, 22), 42, 6, -7)\n",
      "('0fea68AdmYNygeTGI4RC18', 'EC', datetime.date(2024, 11, 22), 43, -2, -6)\n",
      "('1HWbpfmzt1YplLceHgirCv', 'EC', datetime.date(2024, 11, 22), 44, 5, -2)\n",
      "('27ze5t5tIDPlVits0KRbxT', 'EC', datetime.date(2024, 11, 22), 45, 0, -11)\n",
      "('4lqJsJd7kqWVvamQ4aFHA8', 'EC', datetime.date(2024, 11, 22), 46, -10, 4)\n",
      "('5cZIDOH5DaLSXFqo21G24Z', 'EC', datetime.date(2024, 11, 22), 47, 3, 3)\n",
      "('1sbNEFiURUYfy024cJX8JG', 'EC', datetime.date(2024, 11, 22), 48, 2, 2)\n",
      "('7iUtQNMRB8ZkKC4AmEuCJC', 'EC', datetime.date(2024, 11, 22), 49, -2, -17)\n",
      "('5jt25aFjW2kNoBqaEVaz5W', 'EC', datetime.date(2024, 11, 22), 50, -8, 0)\n",
      "('3mg9jYNC1NihbthlglzrWP', 'EC', datetime.date(2024, 11, 21), 1, 0, 0)\n",
      "('1cOboCuWYI2osTOfolMRS6', 'EC', datetime.date(2024, 11, 21), 2, 0, 0)\n",
      "('1YYfyJ2yCvGFCxwjsIqEK9', 'EC', datetime.date(2024, 11, 21), 3, 0, 47)\n",
      "('7bywjHOc0wSjGGbj04XbVi', 'EC', datetime.date(2024, 11, 21), 4, 1, 0)\n",
      "('2btNsI4OvcVl7SAHQQDHFB', 'EC', datetime.date(2024, 11, 21), 5, 1, 0)\n",
      "('2gmd7lY3QSzLh0xIY4cRvi', 'EC', datetime.date(2024, 11, 21), 6, 3, 1)\n",
      "('0l0vcZMU7AOeQmUIREoI2U', 'EC', datetime.date(2024, 11, 21), 7, -3, 43)\n",
      "('6WatFBLVB0x077xWeoVc2k', 'EC', datetime.date(2024, 11, 21), 8, -1, -2)\n",
      "('0qeIFEGRQqHoaJtLCl0U73', 'EC', datetime.date(2024, 11, 21), 9, -1, -6)\n",
      "('13BDiikG6y5o5cQTK0HpW6', 'EC', datetime.date(2024, 11, 21), 10, 0, -2)\n",
      "('63pLfjK6FvcYJYMGwtHjd6', 'EC', datetime.date(2024, 11, 21), 11, 3, 0)\n",
      "('7iQXYTyuG13aoeHxGG28Nh', 'EC', datetime.date(2024, 11, 21), 12, 4, 1)\n",
      "('69vi5SUSJJF0CQJCZngFFS', 'EC', datetime.date(2024, 11, 21), 13, 7, 10)\n",
      "('0Sr7ssScx54yxdM2ols7nW', 'EC', datetime.date(2024, 11, 21), 14, -1, -2)\n",
      "('2plbrEY59IikOBgBGLjaoe', 'EC', datetime.date(2024, 11, 21), 15, -3, -5)\n",
      "('1uFW6czrHk5PsK3s6gOI7C', 'EC', datetime.date(2024, 11, 21), 16, -5, 34)\n",
      "('2CeKVsFFXG4QzA415QygGb', 'EC', datetime.date(2024, 11, 21), 17, 5, 1)\n",
      "('5QjmUqgpPQgXgg4606DqZF', 'EC', datetime.date(2024, 11, 21), 18, -1, -9)\n",
      "('6a9Z1jUms915w4O7N1PxjY', 'EC', datetime.date(2024, 11, 21), 19, -1, -4)\n",
      "('2eQFYGegTZaObk2kuBz83Z', 'EC', datetime.date(2024, 11, 21), 20, -5, 30)\n",
      "('0zNMdrDEs5N0JPQ7RYQZln', 'EC', datetime.date(2024, 11, 21), 21, -2, -7)\n",
      "('0rNqDh9zWWJVTLS4VfceHP', 'EC', datetime.date(2024, 11, 21), 22, 6, 3)\n",
      "('3KZCP2StVGdWkOKyRZNWA4', 'EC', datetime.date(2024, 11, 21), 23, 0, 27)\n",
      "('0fKK51bU6lcCCwdNnv64t3', 'EC', datetime.date(2024, 11, 21), 24, 1, 26)\n",
      "('1pLCpA1RN8avJxSD3ZCwhj', 'EC', datetime.date(2024, 11, 21), 25, 4, 25)\n",
      "('5vNRhkKd0yEAg8suGBpjeY', 'EC', datetime.date(2024, 11, 21), 26, -5, -7)\n",
      "('0T2pB7P1VdXPhLdQZ488uH', 'EC', datetime.date(2024, 11, 21), 27, 8, 4)\n",
      "('1fTjqf10accJCDYstPwwZ6', 'EC', datetime.date(2024, 11, 21), 28, -1, -6)\n",
      "('6kPCcIAGoTeRrh8qrmKa90', 'EC', datetime.date(2024, 11, 21), 29, -5, -3)\n",
      "('3OJDtCdYs8QJnui708tEU3', 'EC', datetime.date(2024, 11, 21), 30, -4, -14)\n",
      "('4bw8mcDUSRWfQo63ZTYRnU', 'EC', datetime.date(2024, 11, 21), 31, 3, -3)\n",
      "('505v13epFXodT9fVAJ6h8k', 'EC', datetime.date(2024, 11, 21), 32, -1, -8)\n",
      "('2llFXBrftm6YJzBj3tpk0s', 'EC', datetime.date(2024, 11, 21), 33, 3, -4)\n",
      "('0EhmTBq33eARyOz3SIi4P2', 'EC', datetime.date(2024, 11, 21), 34, -4, -17)\n",
      "('1hZsWUnLbqRw09jLAMQSsb', 'EC', datetime.date(2024, 11, 21), 35, 14, -2)\n",
      "('4lqJsJd7kqWVvamQ4aFHA8', 'EC', datetime.date(2024, 11, 21), 36, -3, 14)\n",
      "('5pVJ3IlnpIorU44oXizzG5', 'EC', datetime.date(2024, 11, 21), 37, -5, -10)\n",
      "('6uIIdjYTxxpWOyWuVXrKQO', 'EC', datetime.date(2024, 11, 21), 38, 0, 12)\n",
      "('6DUdDIRgLqCGq1DwkNWQTN', 'EC', datetime.date(2024, 11, 21), 39, 1, -5)\n",
      "('5mD7jI5GrDmsadKibEYho2', 'EC', datetime.date(2024, 11, 21), 40, 6, 3)\n",
      "('0fea68AdmYNygeTGI4RC18', 'EC', datetime.date(2024, 11, 21), 41, 0, -5)\n",
      "('5jt25aFjW2kNoBqaEVaz5W', 'EC', datetime.date(2024, 11, 21), 42, 8, 8)\n",
      "('4zbEItKoaRId1vRZkoO0Uh', 'EC', datetime.date(2024, 11, 21), 43, -4, 7)\n",
      "('0O3U5iwTbiXCREMkvotJuN', 'EC', datetime.date(2024, 11, 21), 44, 1, -6)\n",
      "('27ze5t5tIDPlVits0KRbxT', 'EC', datetime.date(2024, 11, 21), 45, -8, -10)\n",
      "('2Yc3MHpZ9R5UCIz78E20AQ', 'EC', datetime.date(2024, 11, 21), 46, 4, 4)\n",
      "('7iUtQNMRB8ZkKC4AmEuCJC', 'EC', datetime.date(2024, 11, 21), 47, -3, -17)\n",
      "('42wdz3j7gstgUuhoFLCXqd', 'EC', datetime.date(2024, 11, 21), 48, -1, -11)\n",
      "('1HWbpfmzt1YplLceHgirCv', 'EC', datetime.date(2024, 11, 21), 49, -7, -7)\n",
      "('1sbNEFiURUYfy024cJX8JG', 'EC', datetime.date(2024, 11, 21), 50, 0, 0)\n",
      "('3mg9jYNC1NihbthlglzrWP', 'EC', datetime.date(2024, 11, 20), 1, 0, 1)\n",
      "('1cOboCuWYI2osTOfolMRS6', 'EC', datetime.date(2024, 11, 20), 2, 0, -1)\n",
      "('1YYfyJ2yCvGFCxwjsIqEK9', 'EC', datetime.date(2024, 11, 20), 3, 3, 47)\n",
      "('0l0vcZMU7AOeQmUIREoI2U', 'EC', datetime.date(2024, 11, 20), 4, 4, 46)\n",
      "('7bywjHOc0wSjGGbj04XbVi', 'EC', datetime.date(2024, 11, 20), 5, 0, -1)\n",
      "('2btNsI4OvcVl7SAHQQDHFB', 'EC', datetime.date(2024, 11, 20), 6, -3, 1)\n",
      "('6WatFBLVB0x077xWeoVc2k', 'EC', datetime.date(2024, 11, 20), 7, -3, -2)\n",
      "('0qeIFEGRQqHoaJtLCl0U73', 'EC', datetime.date(2024, 11, 20), 8, -1, -5)\n",
      "('2gmd7lY3QSzLh0xIY4cRvi', 'EC', datetime.date(2024, 11, 20), 9, 1, -3)\n",
      "('13BDiikG6y5o5cQTK0HpW6', 'EC', datetime.date(2024, 11, 20), 10, -1, -2)\n",
      "('1uFW6czrHk5PsK3s6gOI7C', 'EC', datetime.date(2024, 11, 20), 11, 0, 39)\n",
      "('2plbrEY59IikOBgBGLjaoe', 'EC', datetime.date(2024, 11, 20), 12, 3, -3)\n",
      "('0Sr7ssScx54yxdM2ols7nW', 'EC', datetime.date(2024, 11, 20), 13, 3, -1)\n",
      "('63pLfjK6FvcYJYMGwtHjd6', 'EC', datetime.date(2024, 11, 20), 14, -1, 0)\n",
      "('2eQFYGegTZaObk2kuBz83Z', 'EC', datetime.date(2024, 11, 20), 15, -3, 35)\n",
      "('7iQXYTyuG13aoeHxGG28Nh', 'EC', datetime.date(2024, 11, 20), 16, 1, -5)\n",
      "('5QjmUqgpPQgXgg4606DqZF', 'EC', datetime.date(2024, 11, 20), 17, 2, -7)\n",
      "('6a9Z1jUms915w4O7N1PxjY', 'EC', datetime.date(2024, 11, 20), 18, -4, 0)\n",
      "('0zNMdrDEs5N0JPQ7RYQZln', 'EC', datetime.date(2024, 11, 20), 19, 2, -6)\n",
      "('69vi5SUSJJF0CQJCZngFFS', 'EC', datetime.date(2024, 11, 20), 20, -2, 3)\n",
      "('5vNRhkKd0yEAg8suGBpjeY', 'EC', datetime.date(2024, 11, 20), 21, 4, -2)\n",
      "('2CeKVsFFXG4QzA415QygGb', 'EC', datetime.date(2024, 11, 20), 22, 0, -7)\n",
      "('3KZCP2StVGdWkOKyRZNWA4', 'EC', datetime.date(2024, 11, 20), 23, -3, 4)\n",
      "('6kPCcIAGoTeRrh8qrmKa90', 'EC', datetime.date(2024, 11, 20), 24, -1, 0)\n",
      "('0fKK51bU6lcCCwdNnv64t3', 'EC', datetime.date(2024, 11, 20), 25, 16, 25)\n",
      "('3OJDtCdYs8QJnui708tEU3', 'EC', datetime.date(2024, 11, 20), 26, -2, -10)\n",
      "('1fTjqf10accJCDYstPwwZ6', 'EC', datetime.date(2024, 11, 20), 27, 2, -5)\n",
      "('0rNqDh9zWWJVTLS4VfceHP', 'EC', datetime.date(2024, 11, 20), 28, 2, -3)\n",
      "('1pLCpA1RN8avJxSD3ZCwhj', 'EC', datetime.date(2024, 11, 20), 29, -3, 21)\n",
      "('0EhmTBq33eARyOz3SIi4P2', 'EC', datetime.date(2024, 11, 20), 30, 5, -10)\n",
      "('505v13epFXodT9fVAJ6h8k', 'EC', datetime.date(2024, 11, 20), 31, 2, -10)\n",
      "('5pVJ3IlnpIorU44oXizzG5', 'EC', datetime.date(2024, 11, 20), 32, 4, -6)\n",
      "('4lqJsJd7kqWVvamQ4aFHA8', 'EC', datetime.date(2024, 11, 20), 33, 1, 17)\n",
      "('4bw8mcDUSRWfQo63ZTYRnU', 'EC', datetime.date(2024, 11, 20), 34, -7, -3)\n",
      "('0T2pB7P1VdXPhLdQZ488uH', 'EC', datetime.date(2024, 11, 20), 35, 5, -5)\n",
      "('2llFXBrftm6YJzBj3tpk0s', 'EC', datetime.date(2024, 11, 20), 36, 3, -8)\n",
      "('27ze5t5tIDPlVits0KRbxT', 'EC', datetime.date(2024, 11, 20), 37, 5, -2)\n",
      "('6uIIdjYTxxpWOyWuVXrKQO', 'EC', datetime.date(2024, 11, 20), 38, -1, 12)\n",
      "('4zbEItKoaRId1vRZkoO0Uh', 'EC', datetime.date(2024, 11, 20), 39, 11, 11)\n",
      "('6DUdDIRgLqCGq1DwkNWQTN', 'EC', datetime.date(2024, 11, 20), 40, -9, -3)\n",
      "('0fea68AdmYNygeTGI4RC18', 'EC', datetime.date(2024, 11, 20), 41, -3, -9)\n",
      "('1HWbpfmzt1YplLceHgirCv', 'EC', datetime.date(2024, 11, 20), 42, -14, 3)\n",
      "('5RqSsdzTNPX1uzkmlHCFvK', 'EC', datetime.date(2024, 11, 20), 43, 3, -10)\n",
      "('7iUtQNMRB8ZkKC4AmEuCJC', 'EC', datetime.date(2024, 11, 20), 44, 0, -15)\n",
      "('0O3U5iwTbiXCREMkvotJuN', 'EC', datetime.date(2024, 11, 20), 45, -2, -5)\n",
      "('5mD7jI5GrDmsadKibEYho2', 'EC', datetime.date(2024, 11, 20), 46, -14, 1)\n",
      "('42wdz3j7gstgUuhoFLCXqd', 'EC', datetime.date(2024, 11, 20), 47, -2, -11)\n",
      "('03IpZ9yqJlo3EIgDQUgBSF', 'EC', datetime.date(2024, 11, 20), 48, 2, -31)\n",
      "('1hZsWUnLbqRw09jLAMQSsb', 'EC', datetime.date(2024, 11, 20), 49, 1, -15)\n",
      "('5tZgkV8FTe3rtl8OcSeQAb', 'EC', datetime.date(2024, 11, 20), 50, 0, 0)\n",
      "('3mg9jYNC1NihbthlglzrWP', 'EC', datetime.date(2024, 11, 19), 1, 0, 1)\n",
      "('1cOboCuWYI2osTOfolMRS6', 'EC', datetime.date(2024, 11, 19), 2, 0, -1)\n",
      "('2btNsI4OvcVl7SAHQQDHFB', 'EC', datetime.date(2024, 11, 19), 3, 0, 4)\n",
      "('6WatFBLVB0x077xWeoVc2k', 'EC', datetime.date(2024, 11, 19), 4, 0, 1)\n",
      "('7bywjHOc0wSjGGbj04XbVi', 'EC', datetime.date(2024, 11, 19), 5, 0, -1)\n",
      "('1YYfyJ2yCvGFCxwjsIqEK9', 'EC', datetime.date(2024, 11, 19), 6, 4, 44)\n",
      "('0qeIFEGRQqHoaJtLCl0U73', 'EC', datetime.date(2024, 11, 19), 7, 0, -4)\n",
      "('0l0vcZMU7AOeQmUIREoI2U', 'EC', datetime.date(2024, 11, 19), 8, -2, 42)\n",
      "('13BDiikG6y5o5cQTK0HpW6', 'EC', datetime.date(2024, 11, 19), 9, 0, -1)\n",
      "('2gmd7lY3QSzLh0xIY4cRvi', 'EC', datetime.date(2024, 11, 19), 10, -2, -4)\n",
      "('1uFW6czrHk5PsK3s6gOI7C', 'EC', datetime.date(2024, 11, 19), 11, 0, 39)\n",
      "('2eQFYGegTZaObk2kuBz83Z', 'EC', datetime.date(2024, 11, 19), 12, 0, 38)\n",
      "('63pLfjK6FvcYJYMGwtHjd6', 'EC', datetime.date(2024, 11, 19), 13, 2, -3)\n",
      "('6a9Z1jUms915w4O7N1PxjY', 'EC', datetime.date(2024, 11, 19), 14, -1, 3)\n",
      "('2plbrEY59IikOBgBGLjaoe', 'EC', datetime.date(2024, 11, 19), 15, 2, -2)\n",
      "('0Sr7ssScx54yxdM2ols7nW', 'EC', datetime.date(2024, 11, 19), 16, -2, -4)\n",
      "('7iQXYTyuG13aoeHxGG28Nh', 'EC', datetime.date(2024, 11, 19), 17, 1, -6)\n",
      "('69vi5SUSJJF0CQJCZngFFS', 'EC', datetime.date(2024, 11, 19), 18, 2, 1)\n",
      "('5QjmUqgpPQgXgg4606DqZF', 'EC', datetime.date(2024, 11, 19), 19, -3, -10)\n",
      "('3KZCP2StVGdWkOKyRZNWA4', 'EC', datetime.date(2024, 11, 19), 20, -1, 12)\n",
      "('0zNMdrDEs5N0JPQ7RYQZln', 'EC', datetime.date(2024, 11, 19), 21, 0, -7)\n",
      "('2CeKVsFFXG4QzA415QygGb', 'EC', datetime.date(2024, 11, 19), 22, 3, -7)\n",
      "('6kPCcIAGoTeRrh8qrmKa90', 'EC', datetime.date(2024, 11, 19), 23, -1, -3)\n",
      "('3OJDtCdYs8QJnui708tEU3', 'EC', datetime.date(2024, 11, 19), 24, -1, -8)\n",
      "('5vNRhkKd0yEAg8suGBpjeY', 'EC', datetime.date(2024, 11, 19), 25, 2, -4)\n",
      "('1pLCpA1RN8avJxSD3ZCwhj', 'EC', datetime.date(2024, 11, 19), 26, 5, 24)\n",
      "('4bw8mcDUSRWfQo63ZTYRnU', 'EC', datetime.date(2024, 11, 19), 27, 1, 0)\n",
      "('1HWbpfmzt1YplLceHgirCv', 'EC', datetime.date(2024, 11, 19), 28, 12, 5)\n",
      "('1fTjqf10accJCDYstPwwZ6', 'EC', datetime.date(2024, 11, 19), 29, -5, -6)\n",
      "('0rNqDh9zWWJVTLS4VfceHP', 'EC', datetime.date(2024, 11, 19), 30, 4, -4)\n",
      "('6DUdDIRgLqCGq1DwkNWQTN', 'EC', datetime.date(2024, 11, 19), 31, -2, 9)\n",
      "('5mD7jI5GrDmsadKibEYho2', 'EC', datetime.date(2024, 11, 19), 32, 7, 5)\n",
      "('505v13epFXodT9fVAJ6h8k', 'EC', datetime.date(2024, 11, 19), 33, 0, -15)\n",
      "('4lqJsJd7kqWVvamQ4aFHA8', 'EC', datetime.date(2024, 11, 19), 34, -8, 16)\n",
      "('0EhmTBq33eARyOz3SIi4P2', 'EC', datetime.date(2024, 11, 19), 35, -3, -7)\n",
      "('5pVJ3IlnpIorU44oXizzG5', 'EC', datetime.date(2024, 11, 19), 36, -6, -11)\n",
      "('6uIIdjYTxxpWOyWuVXrKQO', 'EC', datetime.date(2024, 11, 19), 37, 1, 13)\n",
      "('0fea68AdmYNygeTGI4RC18', 'EC', datetime.date(2024, 11, 19), 38, 6, 1)\n",
      "('2llFXBrftm6YJzBj3tpk0s', 'EC', datetime.date(2024, 11, 19), 39, -3, -15)\n",
      "('0T2pB7P1VdXPhLdQZ488uH', 'EC', datetime.date(2024, 11, 19), 40, 2, -5)\n",
      "('0fKK51bU6lcCCwdNnv64t3', 'EC', datetime.date(2024, 11, 19), 41, 9, 9)\n",
      "('27ze5t5tIDPlVits0KRbxT', 'EC', datetime.date(2024, 11, 19), 42, -1, -12)\n",
      "('0O3U5iwTbiXCREMkvotJuN', 'EC', datetime.date(2024, 11, 19), 43, 7, -1)\n",
      "('7iUtQNMRB8ZkKC4AmEuCJC', 'EC', datetime.date(2024, 11, 19), 44, -7, -15)\n",
      "('42wdz3j7gstgUuhoFLCXqd', 'EC', datetime.date(2024, 11, 19), 45, 3, -4)\n",
      "('5RqSsdzTNPX1uzkmlHCFvK', 'EC', datetime.date(2024, 11, 19), 46, -1, -15)\n",
      "('2naqSVQHgiaoEpxtkVOhmK', 'EC', datetime.date(2024, 11, 19), 47, 3, -3)\n",
      "('6sRQjwLPdzADXhgZeKy6PQ', 'EC', datetime.date(2024, 11, 19), 48, 2, 2)\n",
      "('5mg6sU732O35VMfCYk3lmX', 'EC', datetime.date(2024, 11, 19), 49, 1, 1)\n",
      "('5tZgkV8FTe3rtl8OcSeQAb', 'EC', datetime.date(2024, 11, 19), 50, -15, 0)\n",
      "('3mg9jYNC1NihbthlglzrWP', 'EC', datetime.date(2024, 11, 18), 1, 0, 1)\n",
      "('1cOboCuWYI2osTOfolMRS6', 'EC', datetime.date(2024, 11, 18), 2, 0, -1)\n",
      "('2btNsI4OvcVl7SAHQQDHFB', 'EC', datetime.date(2024, 11, 18), 3, 1, 2)\n",
      "('6WatFBLVB0x077xWeoVc2k', 'EC', datetime.date(2024, 11, 18), 4, 4, 0)\n",
      "('7bywjHOc0wSjGGbj04XbVi', 'EC', datetime.date(2024, 11, 18), 5, 0, 1)\n",
      "('0l0vcZMU7AOeQmUIREoI2U', 'EC', datetime.date(2024, 11, 18), 6, -3, 44)\n",
      "('0qeIFEGRQqHoaJtLCl0U73', 'EC', datetime.date(2024, 11, 18), 7, -1, -4)\n",
      "('2gmd7lY3QSzLh0xIY4cRvi', 'EC', datetime.date(2024, 11, 18), 8, -1, -1)\n",
      "('13BDiikG6y5o5cQTK0HpW6', 'EC', datetime.date(2024, 11, 18), 9, 0, -1)\n",
      "('1YYfyJ2yCvGFCxwjsIqEK9', 'EC', datetime.date(2024, 11, 18), 10, 6, 40)\n",
      "('1uFW6czrHk5PsK3s6gOI7C', 'EC', datetime.date(2024, 11, 18), 11, -1, 39)\n",
      "('2eQFYGegTZaObk2kuBz83Z', 'EC', datetime.date(2024, 11, 18), 12, -1, 38)\n",
      "('6a9Z1jUms915w4O7N1PxjY', 'EC', datetime.date(2024, 11, 18), 13, 5, 4)\n",
      "('0Sr7ssScx54yxdM2ols7nW', 'EC', datetime.date(2024, 11, 18), 14, -2, -2)\n",
      "('63pLfjK6FvcYJYMGwtHjd6', 'EC', datetime.date(2024, 11, 18), 15, -2, -5)\n",
      "('5QjmUqgpPQgXgg4606DqZF', 'EC', datetime.date(2024, 11, 18), 16, -1, -7)\n",
      "('2plbrEY59IikOBgBGLjaoe', 'EC', datetime.date(2024, 11, 18), 17, -3, -2)\n",
      "('7iQXYTyuG13aoeHxGG28Nh', 'EC', datetime.date(2024, 11, 18), 18, 1, -7)\n",
      "('3KZCP2StVGdWkOKyRZNWA4', 'EC', datetime.date(2024, 11, 18), 19, 1, 5)\n",
      "('69vi5SUSJJF0CQJCZngFFS', 'EC', datetime.date(2024, 11, 18), 20, 3, 3)\n",
      "('0zNMdrDEs5N0JPQ7RYQZln', 'EC', datetime.date(2024, 11, 18), 21, 0, -7)\n",
      "('6kPCcIAGoTeRrh8qrmKa90', 'EC', datetime.date(2024, 11, 18), 22, 4, -6)\n",
      "('3OJDtCdYs8QJnui708tEU3', 'EC', datetime.date(2024, 11, 18), 23, 8, -5)\n",
      "('1fTjqf10accJCDYstPwwZ6', 'EC', datetime.date(2024, 11, 18), 24, 1, -3)\n",
      "('2CeKVsFFXG4QzA415QygGb', 'EC', datetime.date(2024, 11, 18), 25, 2, -12)\n",
      "('4lqJsJd7kqWVvamQ4aFHA8', 'EC', datetime.date(2024, 11, 18), 26, -9, 24)\n",
      "('5vNRhkKd0yEAg8suGBpjeY', 'EC', datetime.date(2024, 11, 18), 27, 3, 1)\n",
      "('4bw8mcDUSRWfQo63ZTYRnU', 'EC', datetime.date(2024, 11, 18), 28, 12, -8)\n",
      "('6DUdDIRgLqCGq1DwkNWQTN', 'EC', datetime.date(2024, 11, 18), 29, 13, 3)\n",
      "('5pVJ3IlnpIorU44oXizzG5', 'EC', datetime.date(2024, 11, 18), 30, 5, -8)\n",
      "('1pLCpA1RN8avJxSD3ZCwhj', 'EC', datetime.date(2024, 11, 18), 31, 3, 19)\n",
      "('0EhmTBq33eARyOz3SIi4P2', 'EC', datetime.date(2024, 11, 18), 32, -4, -3)\n",
      "('505v13epFXodT9fVAJ6h8k', 'EC', datetime.date(2024, 11, 18), 33, 6, -7)\n",
      "('0rNqDh9zWWJVTLS4VfceHP', 'EC', datetime.date(2024, 11, 18), 34, -1, -9)\n",
      "('5tZgkV8FTe3rtl8OcSeQAb', 'EC', datetime.date(2024, 11, 18), 35, -11, 15)\n",
      "('2llFXBrftm6YJzBj3tpk0s', 'EC', datetime.date(2024, 11, 18), 36, 0, -6)\n",
      "('7iUtQNMRB8ZkKC4AmEuCJC', 'EC', datetime.date(2024, 11, 18), 37, 12, -10)\n",
      "('6uIIdjYTxxpWOyWuVXrKQO', 'EC', datetime.date(2024, 11, 18), 38, 6, 12)\n",
      "('5mD7jI5GrDmsadKibEYho2', 'EC', datetime.date(2024, 11, 18), 39, 8, 3)\n",
      "('1HWbpfmzt1YplLceHgirCv', 'EC', datetime.date(2024, 11, 18), 40, 10, 1)\n",
      "('27ze5t5tIDPlVits0KRbxT', 'EC', datetime.date(2024, 11, 18), 41, -3, -7)\n",
      "('0T2pB7P1VdXPhLdQZ488uH', 'EC', datetime.date(2024, 11, 18), 42, 1, -11)\n",
      "('3PJgmyLaybZtALX4mrgbiD', 'EC', datetime.date(2024, 11, 18), 43, -14, 7)\n",
      "('0fea68AdmYNygeTGI4RC18', 'EC', datetime.date(2024, 11, 18), 44, 6, -4)\n",
      "('5RqSsdzTNPX1uzkmlHCFvK', 'EC', datetime.date(2024, 11, 18), 45, 5, -12)\n",
      "('5UxEKpzvvLnjoC10XoogN3', 'EC', datetime.date(2024, 11, 18), 46, -24, 4)\n",
      "('7xdRj1wA4XzYnXynPmtmnq', 'EC', datetime.date(2024, 11, 18), 47, -15, 3)\n",
      "('42wdz3j7gstgUuhoFLCXqd', 'EC', datetime.date(2024, 11, 18), 48, 2, -10)\n",
      "('2FFr0vdtqPBTK3RW0c7T5C', 'EC', datetime.date(2024, 11, 18), 49, 1, -2)\n",
      "('0O3U5iwTbiXCREMkvotJuN', 'EC', datetime.date(2024, 11, 18), 50, 0, -13)\n",
      "('3mg9jYNC1NihbthlglzrWP', 'EC', datetime.date(2024, 11, 17), 1, 0, 1)\n",
      "('1cOboCuWYI2osTOfolMRS6', 'EC', datetime.date(2024, 11, 17), 2, 0, -1)\n",
      "('0l0vcZMU7AOeQmUIREoI2U', 'EC', datetime.date(2024, 11, 17), 3, 47, 47)\n",
      "('2btNsI4OvcVl7SAHQQDHFB', 'EC', datetime.date(2024, 11, 17), 4, -1, 0)\n",
      "('7bywjHOc0wSjGGbj04XbVi', 'EC', datetime.date(2024, 11, 17), 5, 0, 0)\n",
      "('0qeIFEGRQqHoaJtLCl0U73', 'EC', datetime.date(2024, 11, 17), 6, 0, -3)\n",
      "('2gmd7lY3QSzLh0xIY4cRvi', 'EC', datetime.date(2024, 11, 17), 7, 0, 0)\n",
      "('6WatFBLVB0x077xWeoVc2k', 'EC', datetime.date(2024, 11, 17), 8, 0, -2)\n",
      "('13BDiikG6y5o5cQTK0HpW6', 'EC', datetime.date(2024, 11, 17), 9, -5, -1)\n",
      "('1uFW6czrHk5PsK3s6gOI7C', 'EC', datetime.date(2024, 11, 17), 10, 40, 40)\n",
      "('2eQFYGegTZaObk2kuBz83Z', 'EC', datetime.date(2024, 11, 17), 11, 39, 39)\n",
      "('0Sr7ssScx54yxdM2ols7nW', 'EC', datetime.date(2024, 11, 17), 12, -1, -1)\n",
      "('63pLfjK6FvcYJYMGwtHjd6', 'EC', datetime.date(2024, 11, 17), 13, -1, -3)\n",
      "('2plbrEY59IikOBgBGLjaoe', 'EC', datetime.date(2024, 11, 17), 14, -5, -1)\n",
      "('5QjmUqgpPQgXgg4606DqZF', 'EC', datetime.date(2024, 11, 17), 15, -5, -6)\n",
      "('1YYfyJ2yCvGFCxwjsIqEK9', 'EC', datetime.date(2024, 11, 17), 16, 34, 34)\n",
      "('4lqJsJd7kqWVvamQ4aFHA8', 'EC', datetime.date(2024, 11, 17), 17, 33, 33)\n",
      "('6a9Z1jUms915w4O7N1PxjY', 'EC', datetime.date(2024, 11, 17), 18, -3, -1)\n",
      "('7iQXYTyuG13aoeHxGG28Nh', 'EC', datetime.date(2024, 11, 17), 19, -5, -7)\n",
      "('3KZCP2StVGdWkOKyRZNWA4', 'EC', datetime.date(2024, 11, 17), 20, 30, -1)\n",
      "('0zNMdrDEs5N0JPQ7RYQZln', 'EC', datetime.date(2024, 11, 17), 21, -4, -6)\n",
      "('5UxEKpzvvLnjoC10XoogN3', 'EC', datetime.date(2024, 11, 17), 22, 28, 28)\n",
      "('69vi5SUSJJF0CQJCZngFFS', 'EC', datetime.date(2024, 11, 17), 23, -5, 3)\n",
      "('5tZgkV8FTe3rtl8OcSeQAb', 'EC', datetime.date(2024, 11, 17), 24, 26, 26)\n",
      "('1fTjqf10accJCDYstPwwZ6', 'EC', datetime.date(2024, 11, 17), 25, -3, -2)\n",
      "('6kPCcIAGoTeRrh8qrmKa90', 'EC', datetime.date(2024, 11, 17), 26, -7, -12)\n",
      "('2CeKVsFFXG4QzA415QygGb', 'EC', datetime.date(2024, 11, 17), 27, -11, -11)\n",
      "('0EhmTBq33eARyOz3SIi4P2', 'EC', datetime.date(2024, 11, 17), 28, -7, -4)\n",
      "('3PJgmyLaybZtALX4mrgbiD', 'EC', datetime.date(2024, 11, 17), 29, 21, 21)\n",
      "('5vNRhkKd0yEAg8suGBpjeY', 'EC', datetime.date(2024, 11, 17), 30, -10, -1)\n",
      "('3OJDtCdYs8QJnui708tEU3', 'EC', datetime.date(2024, 11, 17), 31, -8, -10)\n",
      "('7xdRj1wA4XzYnXynPmtmnq', 'EC', datetime.date(2024, 11, 17), 32, 18, 18)\n",
      "('0rNqDh9zWWJVTLS4VfceHP', 'EC', datetime.date(2024, 11, 17), 33, -9, -3)\n",
      "('1pLCpA1RN8avJxSD3ZCwhj', 'EC', datetime.date(2024, 11, 17), 34, -5, 16)\n",
      "('5pVJ3IlnpIorU44oXizzG5', 'EC', datetime.date(2024, 11, 17), 35, -8, -13)\n",
      "('2llFXBrftm6YJzBj3tpk0s', 'EC', datetime.date(2024, 11, 17), 36, -11, -8)\n",
      "('3HCcfBsa4TdiC0so0fPnRi', 'EC', datetime.date(2024, 11, 17), 37, 13, 13)\n",
      "('27ze5t5tIDPlVits0KRbxT', 'EC', datetime.date(2024, 11, 17), 38, -6, -6)\n",
      "('505v13epFXodT9fVAJ6h8k', 'EC', datetime.date(2024, 11, 17), 39, -6, -5)\n",
      "('4bw8mcDUSRWfQo63ZTYRnU', 'EC', datetime.date(2024, 11, 17), 40, -10, -20)\n",
      "('0xyWkRMb09qdCDhloehCsi', 'EC', datetime.date(2024, 11, 17), 41, 9, 9)\n",
      "('6DUdDIRgLqCGq1DwkNWQTN', 'EC', datetime.date(2024, 11, 17), 42, -11, -17)\n",
      "('0T2pB7P1VdXPhLdQZ488uH', 'EC', datetime.date(2024, 11, 17), 43, -17, -12)\n",
      "('6uIIdjYTxxpWOyWuVXrKQO', 'EC', datetime.date(2024, 11, 17), 44, -9, 6)\n",
      "('03IpZ9yqJlo3EIgDQUgBSF', 'EC', datetime.date(2024, 11, 17), 45, -17, -27)\n",
      "('0Qe2g06yzLBuuSvVmFiweP', 'EC', datetime.date(2024, 11, 17), 46, -5, -13)\n",
      "('5mD7jI5GrDmsadKibEYho2', 'EC', datetime.date(2024, 11, 17), 47, -9, -6)\n",
      "('2J0TjDpiUlwgFRvVxtaLud', 'EC', datetime.date(2024, 11, 17), 48, 2, 2)\n",
      "('7iUtQNMRB8ZkKC4AmEuCJC', 'EC', datetime.date(2024, 11, 17), 49, -15, -22)\n",
      "('1aUq8rjW1EwkAkMri4VfJy', 'EC', datetime.date(2024, 11, 17), 50, -6, -6)\n",
      "('1cOboCuWYI2osTOfolMRS6', 'MX', datetime.date(2024, 11, 24), 1, 0, 0)\n",
      "('4OLT65TRsOx3Iv1TlCcQVb', 'MX', datetime.date(2024, 11, 24), 2, 0, 2)\n",
      "('6X6m4xmdFcz31p1h7Qg68c', 'MX', datetime.date(2024, 11, 24), 3, 0, -1)\n",
      "('5lKFO0PrOC9jmOlPEdjHsL', 'MX', datetime.date(2024, 11, 24), 4, 0, -1)\n",
      "('7sd6zMrgGpEa7NkQm9TRrg', 'MX', datetime.date(2024, 11, 24), 5, 45, 45)\n",
      "('6HrALJOMsfPCCbUo5cJCON', 'MX', datetime.date(2024, 11, 24), 6, -1, -1)\n",
      "('0NsGFMIo2aNbAkJu48ndaf', 'MX', datetime.date(2024, 11, 24), 7, -1, 6)\n",
      "('2aYZaN5SmkRDLsrrV8GkBQ', 'MX', datetime.date(2024, 11, 24), 8, -1, -2)\n",
      "('0l0vcZMU7AOeQmUIREoI2U', 'MX', datetime.date(2024, 11, 24), 9, -1, -2)\n",
      "('2lAUq68F2bt7Kc218n9FPp', 'MX', datetime.date(2024, 11, 24), 10, -1, -2)\n",
      "('3IEvQ1CzszUJtTRLmmMJ2X', 'MX', datetime.date(2024, 11, 24), 11, 0, 5)\n",
      "('1YYfyJ2yCvGFCxwjsIqEK9', 'MX', datetime.date(2024, 11, 24), 12, 1, 27)\n",
      "('0BiDnJFB3TlRB6aji7jUz3', 'MX', datetime.date(2024, 11, 24), 13, -3, -4)\n",
      "('5LhI8m7n8xlQmNe3b7Rwis', 'MX', datetime.date(2024, 11, 24), 14, -2, -3)\n",
      "('6uIIdjYTxxpWOyWuVXrKQO', 'MX', datetime.date(2024, 11, 24), 15, -1, 0)\n",
      "('4ZOkfHC38nxSeSqzGE5HFr', 'MX', datetime.date(2024, 11, 24), 16, -1, 5)\n",
      "('02cRoSfWU3RJNFyU3o4lhV', 'MX', datetime.date(2024, 11, 24), 17, -1, 6)\n",
      "('7AysIqSEDiwP4CUsAXJwrk', 'MX', datetime.date(2024, 11, 24), 18, 0, 0)\n",
      "('5AH31dDNgxCMGDdxubNNn4', 'MX', datetime.date(2024, 11, 24), 19, -2, -9)\n",
      "('6RcAHyC5sAUIbPTkhOQwd8', 'MX', datetime.date(2024, 11, 24), 20, 2, -3)\n",
      "('1cZHUhGz7xJ8c4szDipipd', 'MX', datetime.date(2024, 11, 24), 21, -1, -1)\n",
      "('41EOhpn50qvd8iZSKw531W', 'MX', datetime.date(2024, 11, 24), 22, -1, -3)\n",
      "('6KOnLTb1xLfKDAjMC43I76', 'MX', datetime.date(2024, 11, 24), 23, -4, -9)\n",
      "('3dpBkXMbRdDQ6ZhcxFufQp', 'MX', datetime.date(2024, 11, 24), 24, 0, 26)\n",
      "('1wsDxqEDpsvNCatbXHjOje', 'MX', datetime.date(2024, 11, 24), 25, -2, 0)\n",
      "('2ss1LK5Kfnjo5EUaCbsgZM', 'MX', datetime.date(2024, 11, 24), 26, 6, 3)\n",
      "('6fKvGaO8Dfntvx4thaXtak', 'MX', datetime.date(2024, 11, 24), 27, 4, -5)\n",
      "('7qXptgpZGo8AFPhJCBVLFE', 'MX', datetime.date(2024, 11, 24), 28, -1, -2)\n",
      "('5GTBdEjZe7zEDp1N0eCZE4', 'MX', datetime.date(2024, 11, 24), 29, 1, 2)\n",
      "('6WatFBLVB0x077xWeoVc2k', 'MX', datetime.date(2024, 11, 24), 30, -5, 0)\n",
      "('1C84d9abZVKWHT2YYpoean', 'MX', datetime.date(2024, 11, 24), 31, -5, -4)\n",
      "('1uFW6czrHk5PsK3s6gOI7C', 'MX', datetime.date(2024, 11, 24), 32, -4, -20)\n",
      "('0O3U5iwTbiXCREMkvotJuN', 'MX', datetime.date(2024, 11, 24), 33, -4, -1)\n",
      "('0zNMdrDEs5N0JPQ7RYQZln', 'MX', datetime.date(2024, 11, 24), 34, -1, -6)\n",
      "('51qYdMBxt9mFbtZBzq1Yfi', 'MX', datetime.date(2024, 11, 24), 35, 0, -1)\n",
      "('1sXr6moCwVxwKEgSPxhVvF', 'MX', datetime.date(2024, 11, 24), 36, 1, 8)\n",
      "('2plbrEY59IikOBgBGLjaoe', 'MX', datetime.date(2024, 11, 24), 37, -3, -2)\n",
      "('2UkVLIGCGNuyMDPM4hz6dQ', 'MX', datetime.date(2024, 11, 24), 38, -2, 12)\n",
      "('7l3UuUZEqvxjhKYD2QBxOU', 'MX', datetime.date(2024, 11, 24), 39, -1, 4)\n",
      "('3FqUPvubYeRCMsdJ02QyZR', 'MX', datetime.date(2024, 11, 24), 40, 10, 10)\n",
      "('33Nj9AdncSmHbCN3QeSZTL', 'MX', datetime.date(2024, 11, 24), 41, -2, 9)\n",
      "('5vNRhkKd0yEAg8suGBpjeY', 'MX', datetime.date(2024, 11, 24), 42, 2, 7)\n",
      "('1jIirpaACmgb4nTYfywys4', 'MX', datetime.date(2024, 11, 24), 43, 7, 7)\n",
      "('2CshODtf7iwe3pKlPmEWF5', 'MX', datetime.date(2024, 11, 24), 44, -2, 6)\n",
      "('0zLA16D7GXoT8K7XFaiCv3', 'MX', datetime.date(2024, 11, 24), 45, -5, 5)\n",
      "('1uGUbgZuO1kD1JZ0UeFupN', 'MX', datetime.date(2024, 11, 24), 46, -5, -6)\n",
      "('7gG2xMiojQrsTUGa7qeQoo', 'MX', datetime.date(2024, 11, 24), 47, 3, 3)\n",
      "('7bywjHOc0wSjGGbj04XbVi', 'MX', datetime.date(2024, 11, 24), 48, -1, 2)\n",
      "('7oJ3N7oVSwoa5sdpg6NCE6', 'MX', datetime.date(2024, 11, 24), 49, -3, -2)\n",
      "('03MqlviAY1kvFqdaGl5Mhg', 'MX', datetime.date(2024, 11, 24), 50, -7, -17)\n",
      "('1cOboCuWYI2osTOfolMRS6', 'MX', datetime.date(2024, 11, 23), 1, 0, 0)\n",
      "('4OLT65TRsOx3Iv1TlCcQVb', 'MX', datetime.date(2024, 11, 23), 2, 1, 2)\n",
      "('6X6m4xmdFcz31p1h7Qg68c', 'MX', datetime.date(2024, 11, 23), 3, -1, -1)\n",
      "('5lKFO0PrOC9jmOlPEdjHsL', 'MX', datetime.date(2024, 11, 23), 4, 0, -1)\n",
      "('6HrALJOMsfPCCbUo5cJCON', 'MX', datetime.date(2024, 11, 23), 5, 0, 0)\n",
      "('0NsGFMIo2aNbAkJu48ndaf', 'MX', datetime.date(2024, 11, 23), 6, 2, 3)\n",
      "('2aYZaN5SmkRDLsrrV8GkBQ', 'MX', datetime.date(2024, 11, 23), 7, -1, -1)\n",
      "('0l0vcZMU7AOeQmUIREoI2U', 'MX', datetime.date(2024, 11, 23), 8, 4, 42)\n",
      "('2lAUq68F2bt7Kc218n9FPp', 'MX', datetime.date(2024, 11, 23), 9, -2, -2)\n",
      "('0BiDnJFB3TlRB6aji7jUz3', 'MX', datetime.date(2024, 11, 23), 10, -1, 1)\n",
      "('3IEvQ1CzszUJtTRLmmMJ2X', 'MX', datetime.date(2024, 11, 23), 11, 0, 2)\n",
      "('5LhI8m7n8xlQmNe3b7Rwis', 'MX', datetime.date(2024, 11, 23), 12, -2, -2)\n",
      "('1YYfyJ2yCvGFCxwjsIqEK9', 'MX', datetime.date(2024, 11, 23), 13, 9, 37)\n",
      "('6uIIdjYTxxpWOyWuVXrKQO', 'MX', datetime.date(2024, 11, 23), 14, 1, 4)\n",
      "('4ZOkfHC38nxSeSqzGE5HFr', 'MX', datetime.date(2024, 11, 23), 15, -2, 4)\n",
      "('02cRoSfWU3RJNFyU3o4lhV', 'MX', datetime.date(2024, 11, 23), 16, 3, -2)\n",
      "('5AH31dDNgxCMGDdxubNNn4', 'MX', datetime.date(2024, 11, 23), 17, -3, -9)\n",
      "('7AysIqSEDiwP4CUsAXJwrk', 'MX', datetime.date(2024, 11, 23), 18, 2, -1)\n",
      "('6KOnLTb1xLfKDAjMC43I76', 'MX', datetime.date(2024, 11, 23), 19, -2, -7)\n",
      "('1cZHUhGz7xJ8c4szDipipd', 'MX', datetime.date(2024, 11, 23), 20, -4, -4)\n",
      "('41EOhpn50qvd8iZSKw531W', 'MX', datetime.date(2024, 11, 23), 21, -3, -6)\n",
      "('6RcAHyC5sAUIbPTkhOQwd8', 'MX', datetime.date(2024, 11, 23), 22, -1, -1)\n",
      "('1wsDxqEDpsvNCatbXHjOje', 'MX', datetime.date(2024, 11, 23), 23, 1, 0)\n",
      "('3dpBkXMbRdDQ6ZhcxFufQp', 'MX', datetime.date(2024, 11, 23), 24, 7, 26)\n",
      "('6WatFBLVB0x077xWeoVc2k', 'MX', datetime.date(2024, 11, 23), 25, 1, -1)\n",
      "('1C84d9abZVKWHT2YYpoean', 'MX', datetime.date(2024, 11, 23), 26, -3, -4)\n",
      "('7qXptgpZGo8AFPhJCBVLFE', 'MX', datetime.date(2024, 11, 23), 27, 1, -7)\n",
      "('1uFW6czrHk5PsK3s6gOI7C', 'MX', datetime.date(2024, 11, 23), 28, 1, 22)\n",
      "('0O3U5iwTbiXCREMkvotJuN', 'MX', datetime.date(2024, 11, 23), 29, -2, 2)\n",
      "('5GTBdEjZe7zEDp1N0eCZE4', 'MX', datetime.date(2024, 11, 23), 30, -5, -5)\n",
      "('6fKvGaO8Dfntvx4thaXtak', 'MX', datetime.date(2024, 11, 23), 31, 1, 19)\n",
      "('2ss1LK5Kfnjo5EUaCbsgZM', 'MX', datetime.date(2024, 11, 23), 32, -2, -4)\n",
      "('0zNMdrDEs5N0JPQ7RYQZln', 'MX', datetime.date(2024, 11, 23), 33, 0, -7)\n",
      "('2plbrEY59IikOBgBGLjaoe', 'MX', datetime.date(2024, 11, 23), 34, 0, -7)\n",
      "('51qYdMBxt9mFbtZBzq1Yfi', 'MX', datetime.date(2024, 11, 23), 35, 0, -5)\n",
      "('2UkVLIGCGNuyMDPM4hz6dQ', 'MX', datetime.date(2024, 11, 23), 36, 0, 14)\n",
      "('1sXr6moCwVxwKEgSPxhVvF', 'MX', datetime.date(2024, 11, 23), 37, 0, -2)\n",
      "('7l3UuUZEqvxjhKYD2QBxOU', 'MX', datetime.date(2024, 11, 23), 38, 1, -4)\n",
      "('33Nj9AdncSmHbCN3QeSZTL', 'MX', datetime.date(2024, 11, 23), 39, 2, -2)\n",
      "('0zLA16D7GXoT8K7XFaiCv3', 'MX', datetime.date(2024, 11, 23), 40, 0, 0)\n",
      "('1uGUbgZuO1kD1JZ0UeFupN', 'MX', datetime.date(2024, 11, 23), 41, 6, -8)\n",
      "('2CshODtf7iwe3pKlPmEWF5', 'MX', datetime.date(2024, 11, 23), 42, 2, 2)\n",
      "('03MqlviAY1kvFqdaGl5Mhg', 'MX', datetime.date(2024, 11, 23), 43, -5, -14)\n",
      "('5vNRhkKd0yEAg8suGBpjeY', 'MX', datetime.date(2024, 11, 23), 44, -1, -5)\n",
      "('2eQFYGegTZaObk2kuBz83Z', 'MX', datetime.date(2024, 11, 23), 45, 1, 5)\n",
      "('7oJ3N7oVSwoa5sdpg6NCE6', 'MX', datetime.date(2024, 11, 23), 46, -4, -8)\n",
      "('7bywjHOc0wSjGGbj04XbVi', 'MX', datetime.date(2024, 11, 23), 47, -2, -2)\n",
      "('4Ndjd6DhKIC5IPoBIrMQuX', 'MX', datetime.date(2024, 11, 23), 48, 2, 2)\n",
      "('0lQogzZgV4XwuUTasz3nPL', 'MX', datetime.date(2024, 11, 23), 49, 0, -17)\n",
      "('3FqUPvubYeRCMsdJ02QyZR', 'MX', datetime.date(2024, 11, 23), 50, 0, -8)\n",
      "('1cOboCuWYI2osTOfolMRS6', 'MX', datetime.date(2024, 11, 22), 1, 0, 0)\n",
      "('6X6m4xmdFcz31p1h7Qg68c', 'MX', datetime.date(2024, 11, 22), 2, 0, 0)\n",
      "('4OLT65TRsOx3Iv1TlCcQVb', 'MX', datetime.date(2024, 11, 22), 3, 0, 0)\n",
      "('5lKFO0PrOC9jmOlPEdjHsL', 'MX', datetime.date(2024, 11, 22), 4, 0, 0)\n",
      "('6HrALJOMsfPCCbUo5cJCON', 'MX', datetime.date(2024, 11, 22), 5, 0, 0)\n",
      "('2aYZaN5SmkRDLsrrV8GkBQ', 'MX', datetime.date(2024, 11, 22), 6, 0, 0)\n",
      "('2lAUq68F2bt7Kc218n9FPp', 'MX', datetime.date(2024, 11, 22), 7, 0, 0)\n",
      "('0NsGFMIo2aNbAkJu48ndaf', 'MX', datetime.date(2024, 11, 22), 8, 1, 2)\n",
      "('0BiDnJFB3TlRB6aji7jUz3', 'MX', datetime.date(2024, 11, 22), 9, -1, 3)\n",
      "('5LhI8m7n8xlQmNe3b7Rwis', 'MX', datetime.date(2024, 11, 22), 10, 0, -1)\n",
      "('3IEvQ1CzszUJtTRLmmMJ2X', 'MX', datetime.date(2024, 11, 22), 11, 0, 2)\n",
      "('0l0vcZMU7AOeQmUIREoI2U', 'MX', datetime.date(2024, 11, 22), 12, 1, 38)\n",
      "('4ZOkfHC38nxSeSqzGE5HFr', 'MX', datetime.date(2024, 11, 22), 13, -1, 1)\n",
      "('5AH31dDNgxCMGDdxubNNn4', 'MX', datetime.date(2024, 11, 22), 14, 5, -6)\n",
      "('6uIIdjYTxxpWOyWuVXrKQO', 'MX', datetime.date(2024, 11, 22), 15, -1, -4)\n",
      "('1cZHUhGz7xJ8c4szDipipd', 'MX', datetime.date(2024, 11, 22), 16, 2, 0)\n",
      "('6KOnLTb1xLfKDAjMC43I76', 'MX', datetime.date(2024, 11, 22), 17, -2, -2)\n",
      "('41EOhpn50qvd8iZSKw531W', 'MX', datetime.date(2024, 11, 22), 18, -2, 2)\n",
      "('02cRoSfWU3RJNFyU3o4lhV', 'MX', datetime.date(2024, 11, 22), 19, 1, -2)\n",
      "('7AysIqSEDiwP4CUsAXJwrk', 'MX', datetime.date(2024, 11, 22), 20, -3, -2)\n",
      "('6RcAHyC5sAUIbPTkhOQwd8', 'MX', datetime.date(2024, 11, 22), 21, 2, 0)\n",
      "('1YYfyJ2yCvGFCxwjsIqEK9', 'MX', datetime.date(2024, 11, 22), 22, -1, 28)\n",
      "('1C84d9abZVKWHT2YYpoean', 'MX', datetime.date(2024, 11, 22), 23, 3, 0)\n",
      "('1wsDxqEDpsvNCatbXHjOje', 'MX', datetime.date(2024, 11, 22), 24, -2, 1)\n",
      "('5GTBdEjZe7zEDp1N0eCZE4', 'MX', datetime.date(2024, 11, 22), 25, -1, 1)\n",
      "('6WatFBLVB0x077xWeoVc2k', 'MX', datetime.date(2024, 11, 22), 26, 2, -4)\n",
      "('0O3U5iwTbiXCREMkvotJuN', 'MX', datetime.date(2024, 11, 22), 27, 0, 4)\n",
      "('7qXptgpZGo8AFPhJCBVLFE', 'MX', datetime.date(2024, 11, 22), 28, -3, -9)\n",
      "('1uFW6czrHk5PsK3s6gOI7C', 'MX', datetime.date(2024, 11, 22), 29, 0, 21)\n",
      "('2ss1LK5Kfnjo5EUaCbsgZM', 'MX', datetime.date(2024, 11, 22), 30, 3, -2)\n",
      "('3dpBkXMbRdDQ6ZhcxFufQp', 'MX', datetime.date(2024, 11, 22), 31, 9, 19)\n",
      "('6fKvGaO8Dfntvx4thaXtak', 'MX', datetime.date(2024, 11, 22), 32, -1, 18)\n",
      "('0zNMdrDEs5N0JPQ7RYQZln', 'MX', datetime.date(2024, 11, 22), 33, -3, -9)\n",
      "('2plbrEY59IikOBgBGLjaoe', 'MX', datetime.date(2024, 11, 22), 34, 0, -7)\n",
      "('51qYdMBxt9mFbtZBzq1Yfi', 'MX', datetime.date(2024, 11, 22), 35, -3, -6)\n",
      "('2UkVLIGCGNuyMDPM4hz6dQ', 'MX', datetime.date(2024, 11, 22), 36, -1, 14)\n",
      "('1sXr6moCwVxwKEgSPxhVvF', 'MX', datetime.date(2024, 11, 22), 37, 0, -1)\n",
      "('03MqlviAY1kvFqdaGl5Mhg', 'MX', datetime.date(2024, 11, 22), 38, -2, -8)\n",
      "('7l3UuUZEqvxjhKYD2QBxOU', 'MX', datetime.date(2024, 11, 22), 39, 3, -5)\n",
      "('0zLA16D7GXoT8K7XFaiCv3', 'MX', datetime.date(2024, 11, 22), 40, 7, 3)\n",
      "('33Nj9AdncSmHbCN3QeSZTL', 'MX', datetime.date(2024, 11, 22), 41, 5, -6)\n",
      "('7oJ3N7oVSwoa5sdpg6NCE6', 'MX', datetime.date(2024, 11, 22), 42, -4, -2)\n",
      "('5vNRhkKd0yEAg8suGBpjeY', 'MX', datetime.date(2024, 11, 22), 43, 1, -5)\n",
      "('2CshODtf7iwe3pKlPmEWF5', 'MX', datetime.date(2024, 11, 22), 44, 4, 2)\n",
      "('7bywjHOc0wSjGGbj04XbVi', 'MX', datetime.date(2024, 11, 22), 45, 4, -3)\n",
      "('2eQFYGegTZaObk2kuBz83Z', 'MX', datetime.date(2024, 11, 22), 46, -5, 4)\n",
      "('1uGUbgZuO1kD1JZ0UeFupN', 'MX', datetime.date(2024, 11, 22), 47, 3, -15)\n",
      "('4ZplewvZRLFcfBa5uyBbhd', 'MX', datetime.date(2024, 11, 22), 48, -5, 2)\n",
      "('0lQogzZgV4XwuUTasz3nPL', 'MX', datetime.date(2024, 11, 22), 49, 1, -16)\n",
      "('1jIirpaACmgb4nTYfywys4', 'MX', datetime.date(2024, 11, 22), 50, 0, -3)\n",
      "('1cOboCuWYI2osTOfolMRS6', 'MX', datetime.date(2024, 11, 21), 1, 0, 0)\n",
      "('6X6m4xmdFcz31p1h7Qg68c', 'MX', datetime.date(2024, 11, 21), 2, 0, 0)\n",
      "('4OLT65TRsOx3Iv1TlCcQVb', 'MX', datetime.date(2024, 11, 21), 3, 1, 1)\n",
      "('5lKFO0PrOC9jmOlPEdjHsL', 'MX', datetime.date(2024, 11, 21), 4, -1, -1)\n",
      "('6HrALJOMsfPCCbUo5cJCON', 'MX', datetime.date(2024, 11, 21), 5, 0, 0)\n",
      "('2aYZaN5SmkRDLsrrV8GkBQ', 'MX', datetime.date(2024, 11, 21), 6, 0, 0)\n",
      "('2lAUq68F2bt7Kc218n9FPp', 'MX', datetime.date(2024, 11, 21), 7, 0, 0)\n",
      "('0BiDnJFB3TlRB6aji7jUz3', 'MX', datetime.date(2024, 11, 21), 8, 0, 1)\n",
      "('0NsGFMIo2aNbAkJu48ndaf', 'MX', datetime.date(2024, 11, 21), 9, 1, 6)\n",
      "('5LhI8m7n8xlQmNe3b7Rwis', 'MX', datetime.date(2024, 11, 21), 10, -1, 0)\n",
      "('3IEvQ1CzszUJtTRLmmMJ2X', 'MX', datetime.date(2024, 11, 21), 11, 1, 0)\n",
      "('4ZOkfHC38nxSeSqzGE5HFr', 'MX', datetime.date(2024, 11, 21), 12, 5, 2)\n",
      "('0l0vcZMU7AOeQmUIREoI2U', 'MX', datetime.date(2024, 11, 21), 13, 9, 37)\n",
      "('6uIIdjYTxxpWOyWuVXrKQO', 'MX', datetime.date(2024, 11, 21), 14, 1, 14)\n",
      "('6KOnLTb1xLfKDAjMC43I76', 'MX', datetime.date(2024, 11, 21), 15, 1, -3)\n",
      "('41EOhpn50qvd8iZSKw531W', 'MX', datetime.date(2024, 11, 21), 16, -3, 3)\n",
      "('7AysIqSEDiwP4CUsAXJwrk', 'MX', datetime.date(2024, 11, 21), 17, -3, -4)\n",
      "('1cZHUhGz7xJ8c4szDipipd', 'MX', datetime.date(2024, 11, 21), 18, 0, -2)\n",
      "('5AH31dDNgxCMGDdxubNNn4', 'MX', datetime.date(2024, 11, 21), 19, -8, -11)\n",
      "('02cRoSfWU3RJNFyU3o4lhV', 'MX', datetime.date(2024, 11, 21), 20, 0, -3)\n",
      "('1YYfyJ2yCvGFCxwjsIqEK9', 'MX', datetime.date(2024, 11, 21), 21, 11, 29)\n",
      "('1wsDxqEDpsvNCatbXHjOje', 'MX', datetime.date(2024, 11, 21), 22, -3, 0)\n",
      "('6RcAHyC5sAUIbPTkhOQwd8', 'MX', datetime.date(2024, 11, 21), 23, 0, -3)\n",
      "('5GTBdEjZe7zEDp1N0eCZE4', 'MX', datetime.date(2024, 11, 21), 24, 2, 3)\n",
      "('7qXptgpZGo8AFPhJCBVLFE', 'MX', datetime.date(2024, 11, 21), 25, -1, -7)\n",
      "('1C84d9abZVKWHT2YYpoean', 'MX', datetime.date(2024, 11, 21), 26, -5, 0)\n",
      "('0O3U5iwTbiXCREMkvotJuN', 'MX', datetime.date(2024, 11, 21), 27, -2, -3)\n",
      "('6WatFBLVB0x077xWeoVc2k', 'MX', datetime.date(2024, 11, 21), 28, 0, -5)\n",
      "('1uFW6czrHk5PsK3s6gOI7C', 'MX', datetime.date(2024, 11, 21), 29, 4, 21)\n",
      "('0zNMdrDEs5N0JPQ7RYQZln', 'MX', datetime.date(2024, 11, 21), 30, 0, -9)\n",
      "('6fKvGaO8Dfntvx4thaXtak', 'MX', datetime.date(2024, 11, 21), 31, 0, 19)\n",
      "('51qYdMBxt9mFbtZBzq1Yfi', 'MX', datetime.date(2024, 11, 21), 32, -3, -1)\n",
      "('2ss1LK5Kfnjo5EUaCbsgZM', 'MX', datetime.date(2024, 11, 21), 33, -6, -4)\n",
      "('2plbrEY59IikOBgBGLjaoe', 'MX', datetime.date(2024, 11, 21), 34, 2, -4)\n",
      "('2UkVLIGCGNuyMDPM4hz6dQ', 'MX', datetime.date(2024, 11, 21), 35, 2, 15)\n",
      "('03MqlviAY1kvFqdaGl5Mhg', 'MX', datetime.date(2024, 11, 21), 36, -1, -11)\n",
      "('1sXr6moCwVxwKEgSPxhVvF', 'MX', datetime.date(2024, 11, 21), 37, -3, 13)\n",
      "('7oJ3N7oVSwoa5sdpg6NCE6', 'MX', datetime.date(2024, 11, 21), 38, 3, 5)\n",
      "('179TZwPk0txEvjkraVTVKo', 'MX', datetime.date(2024, 11, 21), 39, 0, 11)\n",
      "('3dpBkXMbRdDQ6ZhcxFufQp', 'MX', datetime.date(2024, 11, 21), 40, 4, 10)\n",
      "('2eQFYGegTZaObk2kuBz83Z', 'MX', datetime.date(2024, 11, 21), 41, 6, 9)\n",
      "('7l3UuUZEqvxjhKYD2QBxOU', 'MX', datetime.date(2024, 11, 21), 42, 0, -7)\n",
      "('4ZplewvZRLFcfBa5uyBbhd', 'MX', datetime.date(2024, 11, 21), 43, -5, 7)\n",
      "('5vNRhkKd0yEAg8suGBpjeY', 'MX', datetime.date(2024, 11, 21), 44, 6, -5)\n",
      "('25anKrtqXPngMi3IoF5UhC', 'MX', datetime.date(2024, 11, 21), 45, 0, 5)\n",
      "('33Nj9AdncSmHbCN3QeSZTL', 'MX', datetime.date(2024, 11, 21), 46, 0, -12)\n",
      "('0zLA16D7GXoT8K7XFaiCv3', 'MX', datetime.date(2024, 11, 21), 47, -4, -1)\n",
      "('2CshODtf7iwe3pKlPmEWF5', 'MX', datetime.date(2024, 11, 21), 48, 0, 0)\n",
      "('7bywjHOc0wSjGGbj04XbVi', 'MX', datetime.date(2024, 11, 21), 49, 1, -4)\n",
      "('1uGUbgZuO1kD1JZ0UeFupN', 'MX', datetime.date(2024, 11, 21), 50, -10, -17)\n",
      "('1cOboCuWYI2osTOfolMRS6', 'MX', datetime.date(2024, 11, 20), 1, 0, 0)\n",
      "('6X6m4xmdFcz31p1h7Qg68c', 'MX', datetime.date(2024, 11, 20), 2, 0, 0)\n",
      "('5lKFO0PrOC9jmOlPEdjHsL', 'MX', datetime.date(2024, 11, 20), 3, 1, 0)\n",
      "('4OLT65TRsOx3Iv1TlCcQVb', 'MX', datetime.date(2024, 11, 20), 4, -1, 0)\n",
      "('6HrALJOMsfPCCbUo5cJCON', 'MX', datetime.date(2024, 11, 20), 5, 0, 0)\n",
      "('2aYZaN5SmkRDLsrrV8GkBQ', 'MX', datetime.date(2024, 11, 20), 6, 0, 0)\n",
      "('2lAUq68F2bt7Kc218n9FPp', 'MX', datetime.date(2024, 11, 20), 7, 0, 0)\n",
      "('0BiDnJFB3TlRB6aji7jUz3', 'MX', datetime.date(2024, 11, 20), 8, 0, 1)\n",
      "('5LhI8m7n8xlQmNe3b7Rwis', 'MX', datetime.date(2024, 11, 20), 9, 0, 3)\n",
      "('0NsGFMIo2aNbAkJu48ndaf', 'MX', datetime.date(2024, 11, 20), 10, 0, 6)\n",
      "('5AH31dDNgxCMGDdxubNNn4', 'MX', datetime.date(2024, 11, 20), 11, 0, -3)\n",
      "('3IEvQ1CzszUJtTRLmmMJ2X', 'MX', datetime.date(2024, 11, 20), 12, 0, -2)\n",
      "('41EOhpn50qvd8iZSKw531W', 'MX', datetime.date(2024, 11, 20), 13, 0, 6)\n",
      "('7AysIqSEDiwP4CUsAXJwrk', 'MX', datetime.date(2024, 11, 20), 14, 0, -3)\n",
      "('6uIIdjYTxxpWOyWuVXrKQO', 'MX', datetime.date(2024, 11, 20), 15, 0, 17)\n",
      "('6KOnLTb1xLfKDAjMC43I76', 'MX', datetime.date(2024, 11, 20), 16, 1, 1)\n",
      "('4ZOkfHC38nxSeSqzGE5HFr', 'MX', datetime.date(2024, 11, 20), 17, 3, -3)\n",
      "('1cZHUhGz7xJ8c4szDipipd', 'MX', datetime.date(2024, 11, 20), 18, 0, -3)\n",
      "('1wsDxqEDpsvNCatbXHjOje', 'MX', datetime.date(2024, 11, 20), 19, 2, 2)\n",
      "('02cRoSfWU3RJNFyU3o4lhV', 'MX', datetime.date(2024, 11, 20), 20, 3, -7)\n",
      "('1C84d9abZVKWHT2YYpoean', 'MX', datetime.date(2024, 11, 20), 21, -5, 6)\n",
      "('0l0vcZMU7AOeQmUIREoI2U', 'MX', datetime.date(2024, 11, 20), 22, 0, 28)\n",
      "('6RcAHyC5sAUIbPTkhOQwd8', 'MX', datetime.date(2024, 11, 20), 23, -4, 3)\n",
      "('7qXptgpZGo8AFPhJCBVLFE', 'MX', datetime.date(2024, 11, 20), 24, 0, -6)\n",
      "('0O3U5iwTbiXCREMkvotJuN', 'MX', datetime.date(2024, 11, 20), 25, 1, -2)\n",
      "('5GTBdEjZe7zEDp1N0eCZE4', 'MX', datetime.date(2024, 11, 20), 26, 2, -1)\n",
      "('2ss1LK5Kfnjo5EUaCbsgZM', 'MX', datetime.date(2024, 11, 20), 27, -2, 1)\n",
      "('6WatFBLVB0x077xWeoVc2k', 'MX', datetime.date(2024, 11, 20), 28, 1, -4)\n",
      "('51qYdMBxt9mFbtZBzq1Yfi', 'MX', datetime.date(2024, 11, 20), 29, -2, 2)\n",
      "('0zNMdrDEs5N0JPQ7RYQZln', 'MX', datetime.date(2024, 11, 20), 30, 1, -10)\n",
      "('6fKvGaO8Dfntvx4thaXtak', 'MX', datetime.date(2024, 11, 20), 31, -1, 19)\n",
      "('1YYfyJ2yCvGFCxwjsIqEK9', 'MX', datetime.date(2024, 11, 20), 32, 3, 18)\n",
      "('1uFW6czrHk5PsK3s6gOI7C', 'MX', datetime.date(2024, 11, 20), 33, -1, 17)\n",
      "('1sXr6moCwVxwKEgSPxhVvF', 'MX', datetime.date(2024, 11, 20), 34, -1, 16)\n",
      "('03MqlviAY1kvFqdaGl5Mhg', 'MX', datetime.date(2024, 11, 20), 35, -1, -13)\n",
      "('2plbrEY59IikOBgBGLjaoe', 'MX', datetime.date(2024, 11, 20), 36, 3, -7)\n",
      "('2UkVLIGCGNuyMDPM4hz6dQ', 'MX', datetime.date(2024, 11, 20), 37, 0, 13)\n",
      "('4ZplewvZRLFcfBa5uyBbhd', 'MX', datetime.date(2024, 11, 20), 38, 10, 4)\n",
      "('179TZwPk0txEvjkraVTVKo', 'MX', datetime.date(2024, 11, 20), 39, 11, -1)\n",
      "('1uGUbgZuO1kD1JZ0UeFupN', 'MX', datetime.date(2024, 11, 20), 40, -4, -10)\n",
      "('7oJ3N7oVSwoa5sdpg6NCE6', 'MX', datetime.date(2024, 11, 20), 41, 0, -1)\n",
      "('7l3UuUZEqvxjhKYD2QBxOU', 'MX', datetime.date(2024, 11, 20), 42, -4, -8)\n",
      "('0zLA16D7GXoT8K7XFaiCv3', 'MX', datetime.date(2024, 11, 20), 43, 1, 6)\n",
      "('3dpBkXMbRdDQ6ZhcxFufQp', 'MX', datetime.date(2024, 11, 20), 44, 1, 6)\n",
      "('25anKrtqXPngMi3IoF5UhC', 'MX', datetime.date(2024, 11, 20), 45, 1, 5)\n",
      "('33Nj9AdncSmHbCN3QeSZTL', 'MX', datetime.date(2024, 11, 20), 46, 1, -13)\n",
      "('2eQFYGegTZaObk2kuBz83Z', 'MX', datetime.date(2024, 11, 20), 47, -7, 3)\n",
      "('2CshODtf7iwe3pKlPmEWF5', 'MX', datetime.date(2024, 11, 20), 48, -5, 2)\n",
      "('29vIEdxgMT9H1fnBMecWjA', 'MX', datetime.date(2024, 11, 20), 49, 0, 1)\n",
      "('0sgwOySqG0fbNukjUa1BUt', 'MX', datetime.date(2024, 11, 20), 50, 0, 0)\n",
      "('1cOboCuWYI2osTOfolMRS6', 'MX', datetime.date(2024, 11, 19), 1, 0, 0)\n",
      "('6X6m4xmdFcz31p1h7Qg68c', 'MX', datetime.date(2024, 11, 19), 2, 0, 0)\n",
      "('4OLT65TRsOx3Iv1TlCcQVb', 'MX', datetime.date(2024, 11, 19), 3, 0, 1)\n",
      "('5lKFO0PrOC9jmOlPEdjHsL', 'MX', datetime.date(2024, 11, 19), 4, 0, -1)\n",
      "('6HrALJOMsfPCCbUo5cJCON', 'MX', datetime.date(2024, 11, 19), 5, 0, 0)\n",
      "('2aYZaN5SmkRDLsrrV8GkBQ', 'MX', datetime.date(2024, 11, 19), 6, 0, 0)\n",
      "('2lAUq68F2bt7Kc218n9FPp', 'MX', datetime.date(2024, 11, 19), 7, 0, 0)\n",
      "('0BiDnJFB3TlRB6aji7jUz3', 'MX', datetime.date(2024, 11, 19), 8, 0, 2)\n",
      "('5LhI8m7n8xlQmNe3b7Rwis', 'MX', datetime.date(2024, 11, 19), 9, 0, 0)\n",
      "('0NsGFMIo2aNbAkJu48ndaf', 'MX', datetime.date(2024, 11, 19), 10, 1, 12)\n",
      "('5AH31dDNgxCMGDdxubNNn4', 'MX', datetime.date(2024, 11, 19), 11, -1, -3)\n",
      "('3IEvQ1CzszUJtTRLmmMJ2X', 'MX', datetime.date(2024, 11, 19), 12, 0, 0)\n",
      "('41EOhpn50qvd8iZSKw531W', 'MX', datetime.date(2024, 11, 19), 13, 5, 4)\n",
      "('7AysIqSEDiwP4CUsAXJwrk', 'MX', datetime.date(2024, 11, 19), 14, 2, -3)\n",
      "('6uIIdjYTxxpWOyWuVXrKQO', 'MX', datetime.date(2024, 11, 19), 15, -2, 17)\n",
      "('1C84d9abZVKWHT2YYpoean', 'MX', datetime.date(2024, 11, 19), 16, 6, 7)\n",
      "('6KOnLTb1xLfKDAjMC43I76', 'MX', datetime.date(2024, 11, 19), 17, 0, 8)\n",
      "('1cZHUhGz7xJ8c4szDipipd', 'MX', datetime.date(2024, 11, 19), 18, 2, -2)\n",
      "('6RcAHyC5sAUIbPTkhOQwd8', 'MX', datetime.date(2024, 11, 19), 19, -4, 10)\n",
      "('4ZOkfHC38nxSeSqzGE5HFr', 'MX', datetime.date(2024, 11, 19), 20, 1, -6)\n",
      "('1wsDxqEDpsvNCatbXHjOje', 'MX', datetime.date(2024, 11, 19), 21, 4, -3)\n",
      "('0l0vcZMU7AOeQmUIREoI2U', 'MX', datetime.date(2024, 11, 19), 22, -8, 28)\n",
      "('02cRoSfWU3RJNFyU3o4lhV', 'MX', datetime.date(2024, 11, 19), 23, 0, -10)\n",
      "('7qXptgpZGo8AFPhJCBVLFE', 'MX', datetime.date(2024, 11, 19), 24, 2, -9)\n",
      "('2ss1LK5Kfnjo5EUaCbsgZM', 'MX', datetime.date(2024, 11, 19), 25, 2, 1)\n",
      "('0O3U5iwTbiXCREMkvotJuN', 'MX', datetime.date(2024, 11, 19), 26, 2, -7)\n",
      "('51qYdMBxt9mFbtZBzq1Yfi', 'MX', datetime.date(2024, 11, 19), 27, 2, 1)\n",
      "('5GTBdEjZe7zEDp1N0eCZE4', 'MX', datetime.date(2024, 11, 19), 28, 4, -4)\n",
      "('6WatFBLVB0x077xWeoVc2k', 'MX', datetime.date(2024, 11, 19), 29, -5, -2)\n",
      "('6fKvGaO8Dfntvx4thaXtak', 'MX', datetime.date(2024, 11, 19), 30, 1, 20)\n",
      "('0zNMdrDEs5N0JPQ7RYQZln', 'MX', datetime.date(2024, 11, 19), 31, -1, -11)\n",
      "('1uFW6czrHk5PsK3s6gOI7C', 'MX', datetime.date(2024, 11, 19), 32, -13, 18)\n",
      "('1sXr6moCwVxwKEgSPxhVvF', 'MX', datetime.date(2024, 11, 19), 33, 3, 17)\n",
      "('03MqlviAY1kvFqdaGl5Mhg', 'MX', datetime.date(2024, 11, 19), 34, 0, -13)\n",
      "('1YYfyJ2yCvGFCxwjsIqEK9', 'MX', datetime.date(2024, 11, 19), 35, 0, 15)\n",
      "('1uGUbgZuO1kD1JZ0UeFupN', 'MX', datetime.date(2024, 11, 19), 36, 2, -2)\n",
      "('2UkVLIGCGNuyMDPM4hz6dQ', 'MX', datetime.date(2024, 11, 19), 37, 3, 13)\n",
      "('7l3UuUZEqvxjhKYD2QBxOU', 'MX', datetime.date(2024, 11, 19), 38, 1, -8)\n",
      "('2plbrEY59IikOBgBGLjaoe', 'MX', datetime.date(2024, 11, 19), 39, -2, -4)\n",
      "('2eQFYGegTZaObk2kuBz83Z', 'MX', datetime.date(2024, 11, 19), 40, -7, 10)\n",
      "('7oJ3N7oVSwoa5sdpg6NCE6', 'MX', datetime.date(2024, 11, 19), 41, 0, -3)\n",
      "('7kofJygFUxxmag4EAYcCG3', 'MX', datetime.date(2024, 11, 19), 42, 8, 1)\n",
      "('2CshODtf7iwe3pKlPmEWF5', 'MX', datetime.date(2024, 11, 19), 43, -1, 5)\n",
      "('0zLA16D7GXoT8K7XFaiCv3', 'MX', datetime.date(2024, 11, 19), 44, 6, 5)\n",
      "('3dpBkXMbRdDQ6ZhcxFufQp', 'MX', datetime.date(2024, 11, 19), 45, 5, 5)\n",
      "('25anKrtqXPngMi3IoF5UhC', 'MX', datetime.date(2024, 11, 19), 46, 4, 4)\n",
      "('33Nj9AdncSmHbCN3QeSZTL', 'MX', datetime.date(2024, 11, 19), 47, -4, -14)\n",
      "('4ZplewvZRLFcfBa5uyBbhd', 'MX', datetime.date(2024, 11, 19), 48, 2, 2)\n",
      "('29vIEdxgMT9H1fnBMecWjA', 'MX', datetime.date(2024, 11, 19), 49, -2, -2)\n",
      "('179TZwPk0txEvjkraVTVKo', 'MX', datetime.date(2024, 11, 19), 50, 0, -4)\n",
      "('1cOboCuWYI2osTOfolMRS6', 'MX', datetime.date(2024, 11, 18), 1, 0, 0)\n",
      "('6X6m4xmdFcz31p1h7Qg68c', 'MX', datetime.date(2024, 11, 18), 2, 0, 0)\n",
      "('4OLT65TRsOx3Iv1TlCcQVb', 'MX', datetime.date(2024, 11, 18), 3, 1, 1)\n",
      "('5lKFO0PrOC9jmOlPEdjHsL', 'MX', datetime.date(2024, 11, 18), 4, -1, -1)\n",
      "('6HrALJOMsfPCCbUo5cJCON', 'MX', datetime.date(2024, 11, 18), 5, 0, 0)\n",
      "('2aYZaN5SmkRDLsrrV8GkBQ', 'MX', datetime.date(2024, 11, 18), 6, 0, 1)\n",
      "('2lAUq68F2bt7Kc218n9FPp', 'MX', datetime.date(2024, 11, 18), 7, 1, -1)\n",
      "('0BiDnJFB3TlRB6aji7jUz3', 'MX', datetime.date(2024, 11, 18), 8, 1, 2)\n",
      "('5LhI8m7n8xlQmNe3b7Rwis', 'MX', datetime.date(2024, 11, 18), 9, 2, -1)\n",
      "('5AH31dDNgxCMGDdxubNNn4', 'MX', datetime.date(2024, 11, 18), 10, 0, -1)\n",
      "('0NsGFMIo2aNbAkJu48ndaf', 'MX', datetime.date(2024, 11, 18), 11, 2, 14)\n",
      "('3IEvQ1CzszUJtTRLmmMJ2X', 'MX', datetime.date(2024, 11, 18), 12, 4, 3)\n",
      "('6uIIdjYTxxpWOyWuVXrKQO', 'MX', datetime.date(2024, 11, 18), 13, 2, 20)\n",
      "('0l0vcZMU7AOeQmUIREoI2U', 'MX', datetime.date(2024, 11, 18), 14, -7, 36)\n",
      "('6RcAHyC5sAUIbPTkhOQwd8', 'MX', datetime.date(2024, 11, 18), 15, 2, 13)\n",
      "('7AysIqSEDiwP4CUsAXJwrk', 'MX', datetime.date(2024, 11, 18), 16, 2, -5)\n",
      "('6KOnLTb1xLfKDAjMC43I76', 'MX', datetime.date(2024, 11, 18), 17, -3, 10)\n",
      "('41EOhpn50qvd8iZSKw531W', 'MX', datetime.date(2024, 11, 18), 18, 1, -1)\n",
      "('1uFW6czrHk5PsK3s6gOI7C', 'MX', datetime.date(2024, 11, 18), 19, -7, 31)\n",
      "('1cZHUhGz7xJ8c4szDipipd', 'MX', datetime.date(2024, 11, 18), 20, 0, -6)\n",
      "('4ZOkfHC38nxSeSqzGE5HFr', 'MX', datetime.date(2024, 11, 18), 21, 0, -9)\n",
      "('1C84d9abZVKWHT2YYpoean', 'MX', datetime.date(2024, 11, 18), 22, 5, -4)\n",
      "('02cRoSfWU3RJNFyU3o4lhV', 'MX', datetime.date(2024, 11, 18), 23, 0, -10)\n",
      "('6WatFBLVB0x077xWeoVc2k', 'MX', datetime.date(2024, 11, 18), 24, 6, -2)\n",
      "('1wsDxqEDpsvNCatbXHjOje', 'MX', datetime.date(2024, 11, 18), 25, 0, -5)\n",
      "('7qXptgpZGo8AFPhJCBVLFE', 'MX', datetime.date(2024, 11, 18), 26, 0, -10)\n",
      "('2ss1LK5Kfnjo5EUaCbsgZM', 'MX', datetime.date(2024, 11, 18), 27, 2, -3)\n",
      "('0O3U5iwTbiXCREMkvotJuN', 'MX', datetime.date(2024, 11, 18), 28, 4, -9)\n",
      "('51qYdMBxt9mFbtZBzq1Yfi', 'MX', datetime.date(2024, 11, 18), 29, 5, 2)\n",
      "('0zNMdrDEs5N0JPQ7RYQZln', 'MX', datetime.date(2024, 11, 18), 30, -2, -7)\n",
      "('6fKvGaO8Dfntvx4thaXtak', 'MX', datetime.date(2024, 11, 18), 31, -9, 19)\n",
      "('5GTBdEjZe7zEDp1N0eCZE4', 'MX', datetime.date(2024, 11, 18), 32, -1, -11)\n",
      "('2eQFYGegTZaObk2kuBz83Z', 'MX', datetime.date(2024, 11, 18), 33, -9, 17)\n",
      "('03MqlviAY1kvFqdaGl5Mhg', 'MX', datetime.date(2024, 11, 18), 34, -1, -8)\n",
      "('1YYfyJ2yCvGFCxwjsIqEK9', 'MX', datetime.date(2024, 11, 18), 35, 4, 15)\n",
      "('1sXr6moCwVxwKEgSPxhVvF', 'MX', datetime.date(2024, 11, 18), 36, 8, 14)\n",
      "('2plbrEY59IikOBgBGLjaoe', 'MX', datetime.date(2024, 11, 18), 37, -2, -2)\n",
      "('1uGUbgZuO1kD1JZ0UeFupN', 'MX', datetime.date(2024, 11, 18), 38, 2, -6)\n",
      "('7l3UuUZEqvxjhKYD2QBxOU', 'MX', datetime.date(2024, 11, 18), 39, 4, -10)\n",
      "('2UkVLIGCGNuyMDPM4hz6dQ', 'MX', datetime.date(2024, 11, 18), 40, 10, 10)\n",
      "('7oJ3N7oVSwoa5sdpg6NCE6', 'MX', datetime.date(2024, 11, 18), 41, 6, -3)\n",
      "('2CshODtf7iwe3pKlPmEWF5', 'MX', datetime.date(2024, 11, 18), 42, 8, 0)\n",
      "('33Nj9AdncSmHbCN3QeSZTL', 'MX', datetime.date(2024, 11, 18), 43, 7, -13)\n",
      "('0sgwOySqG0fbNukjUa1BUt', 'MX', datetime.date(2024, 11, 18), 44, 6, 6)\n",
      "('3mg9jYNC1NihbthlglzrWP', 'MX', datetime.date(2024, 11, 18), 45, -3, 4)\n",
      "('7bywjHOc0wSjGGbj04XbVi', 'MX', datetime.date(2024, 11, 18), 46, 4, 2)\n",
      "('29vIEdxgMT9H1fnBMecWjA', 'MX', datetime.date(2024, 11, 18), 47, 3, -2)\n",
      "('5vNRhkKd0yEAg8suGBpjeY', 'MX', datetime.date(2024, 11, 18), 48, 1, -5)\n",
      "('3FqUPvubYeRCMsdJ02QyZR', 'MX', datetime.date(2024, 11, 18), 49, 1, -15)\n",
      "('1jIirpaACmgb4nTYfywys4', 'MX', datetime.date(2024, 11, 18), 50, 0, -13)\n",
      "('1cOboCuWYI2osTOfolMRS6', 'MX', datetime.date(2024, 11, 17), 1, 0, 0)\n",
      "('6X6m4xmdFcz31p1h7Qg68c', 'MX', datetime.date(2024, 11, 17), 2, 0, 0)\n",
      "('5lKFO0PrOC9jmOlPEdjHsL', 'MX', datetime.date(2024, 11, 17), 3, 0, 0)\n",
      "('4OLT65TRsOx3Iv1TlCcQVb', 'MX', datetime.date(2024, 11, 17), 4, 0, 0)\n",
      "('6HrALJOMsfPCCbUo5cJCON', 'MX', datetime.date(2024, 11, 17), 5, 0, 0)\n",
      "('2aYZaN5SmkRDLsrrV8GkBQ', 'MX', datetime.date(2024, 11, 17), 6, 0, 1)\n",
      "('0l0vcZMU7AOeQmUIREoI2U', 'MX', datetime.date(2024, 11, 17), 7, 43, 43)\n",
      "('2lAUq68F2bt7Kc218n9FPp', 'MX', datetime.date(2024, 11, 17), 8, -1, -2)\n",
      "('0BiDnJFB3TlRB6aji7jUz3', 'MX', datetime.date(2024, 11, 17), 9, 2, 2)\n",
      "('5AH31dDNgxCMGDdxubNNn4', 'MX', datetime.date(2024, 11, 17), 10, -2, -1)\n",
      "('5LhI8m7n8xlQmNe3b7Rwis', 'MX', datetime.date(2024, 11, 17), 11, -1, -3)\n",
      "('1uFW6czrHk5PsK3s6gOI7C', 'MX', datetime.date(2024, 11, 17), 12, 38, 38)\n",
      "('0NsGFMIo2aNbAkJu48ndaf', 'MX', datetime.date(2024, 11, 17), 13, -4, 16)\n",
      "('6KOnLTb1xLfKDAjMC43I76', 'MX', datetime.date(2024, 11, 17), 14, -2, 11)\n",
      "('6uIIdjYTxxpWOyWuVXrKQO', 'MX', datetime.date(2024, 11, 17), 15, 3, 22)\n",
      "('3IEvQ1CzszUJtTRLmmMJ2X', 'MX', datetime.date(2024, 11, 17), 16, -3, -1)\n",
      "('6RcAHyC5sAUIbPTkhOQwd8', 'MX', datetime.date(2024, 11, 17), 17, 4, 6)\n",
      "('7AysIqSEDiwP4CUsAXJwrk', 'MX', datetime.date(2024, 11, 17), 18, -1, -6)\n",
      "('41EOhpn50qvd8iZSKw531W', 'MX', datetime.date(2024, 11, 17), 19, -4, -1)\n",
      "('1cZHUhGz7xJ8c4szDipipd', 'MX', datetime.date(2024, 11, 17), 20, -4, -6)\n",
      "('4ZOkfHC38nxSeSqzGE5HFr', 'MX', datetime.date(2024, 11, 17), 21, -2, -11)\n",
      "('6fKvGaO8Dfntvx4thaXtak', 'MX', datetime.date(2024, 11, 17), 22, 28, 28)\n",
      "('02cRoSfWU3RJNFyU3o4lhV', 'MX', datetime.date(2024, 11, 17), 23, -9, -10)\n",
      "('2eQFYGegTZaObk2kuBz83Z', 'MX', datetime.date(2024, 11, 17), 24, 26, 26)\n",
      "('1wsDxqEDpsvNCatbXHjOje', 'MX', datetime.date(2024, 11, 17), 25, -2, -3)\n",
      "('7qXptgpZGo8AFPhJCBVLFE', 'MX', datetime.date(2024, 11, 17), 26, -6, -10)\n",
      "('1C84d9abZVKWHT2YYpoean', 'MX', datetime.date(2024, 11, 17), 27, -5, -7)\n",
      "('0zNMdrDEs5N0JPQ7RYQZln', 'MX', datetime.date(2024, 11, 17), 28, -2, -4)\n",
      "('2ss1LK5Kfnjo5EUaCbsgZM', 'MX', datetime.date(2024, 11, 17), 29, -1, -3)\n",
      "('6WatFBLVB0x077xWeoVc2k', 'MX', datetime.date(2024, 11, 17), 30, -6, -13)\n",
      "('5GTBdEjZe7zEDp1N0eCZE4', 'MX', datetime.date(2024, 11, 17), 31, -6, -10)\n",
      "('0O3U5iwTbiXCREMkvotJuN', 'MX', datetime.date(2024, 11, 17), 32, -1, -13)\n",
      "('03MqlviAY1kvFqdaGl5Mhg', 'MX', datetime.date(2024, 11, 17), 33, -4, -1)\n",
      "('51qYdMBxt9mFbtZBzq1Yfi', 'MX', datetime.date(2024, 11, 17), 34, -4, -1)\n",
      "('2plbrEY59IikOBgBGLjaoe', 'MX', datetime.date(2024, 11, 17), 35, -8, -4)\n",
      "('5tZgkV8FTe3rtl8OcSeQAb', 'MX', datetime.date(2024, 11, 17), 36, 14, 14)\n",
      "('4lqJsJd7kqWVvamQ4aFHA8', 'MX', datetime.date(2024, 11, 17), 37, 13, 13)\n",
      "('5UxEKpzvvLnjoC10XoogN3', 'MX', datetime.date(2024, 11, 17), 38, 12, 12)\n",
      "('1YYfyJ2yCvGFCxwjsIqEK9', 'MX', datetime.date(2024, 11, 17), 39, 11, 11)\n",
      "('1uGUbgZuO1kD1JZ0UeFupN', 'MX', datetime.date(2024, 11, 17), 40, -7, -10)\n",
      "('1UTLq40xh63wMrHELGnKWW', 'MX', datetime.date(2024, 11, 17), 41, 9, 9)\n",
      "('3mg9jYNC1NihbthlglzrWP', 'MX', datetime.date(2024, 11, 17), 42, -6, 6)\n",
      "('7l3UuUZEqvxjhKYD2QBxOU', 'MX', datetime.date(2024, 11, 17), 43, -9, -16)\n",
      "('1sXr6moCwVxwKEgSPxhVvF', 'MX', datetime.date(2024, 11, 17), 44, -9, 6)\n",
      "('3PJgmyLaybZtALX4mrgbiD', 'MX', datetime.date(2024, 11, 17), 45, 5, 5)\n",
      "('7xdRj1wA4XzYnXynPmtmnq', 'MX', datetime.date(2024, 11, 17), 46, 4, 4)\n",
      "('7oJ3N7oVSwoa5sdpg6NCE6', 'MX', datetime.date(2024, 11, 17), 47, -9, -12)\n",
      "('0lQogzZgV4XwuUTasz3nPL', 'MX', datetime.date(2024, 11, 17), 48, -16, -8)\n",
      "('5vNRhkKd0yEAg8suGBpjeY', 'MX', datetime.date(2024, 11, 17), 49, -10, -7)\n",
      "\n",
      "\n",
      "CONSULTA 1: cancion, pais_codigo, ranking_diario, movimiento_diario, movimiento_semanal, danceability, energy, tempo\n",
      "('0l0vcZMU7AOeQmUIREoI2U', 'QuÃ© PasarÃ\\xada...', Decimal('0.83'), Decimal('0.56'), Decimal('0.34'), Decimal('105.01'), 1)\n",
      "('3mg9jYNC1NihbthlglzrWP', '57', Decimal('0.85'), Decimal('0.71'), Decimal('0.69'), Decimal('91.98'), 1)\n",
      "('6hLsMjw00j3HGrkUjKwmgo', 'A200', Decimal('0.75'), Decimal('0.86'), Decimal('0.77'), Decimal('118.47'), 1)\n",
      "('5MKbWaXeSQSmzmo7gPQha1', 'Amor de Vago', Decimal('0.65'), Decimal('0.51'), Decimal('0.60'), Decimal('179.98'), 1)\n",
      "('1YYfyJ2yCvGFCxwjsIqEK9', 'KhÃ©?', Decimal('0.69'), Decimal('0.63'), Decimal('0.47'), Decimal('155.87'), 1)\n",
      "('03IpZ9yqJlo3EIgDQUgBSF', 'Nueva Era', Decimal('0.56'), Decimal('0.72'), Decimal('0.68'), Decimal('101.10'), 1)\n",
      "('1cOboCuWYI2osTOfolMRS6', 'Tu Boda', Decimal('0.69'), Decimal('0.65'), Decimal('0.47'), Decimal('112.65'), 1)\n",
      "('0c82YIGpQ5dCaXpTNCk4sb', 'AlegrÃ\\xada', Decimal('0.58'), Decimal('0.66'), Decimal('0.88'), Decimal('84.27'), 2)\n",
      "('4OLT65TRsOx3Iv1TlCcQVb', 'Presidente', Decimal('0.73'), Decimal('0.83'), Decimal('0.58'), Decimal('105.15'), 2)\n",
      "('6X6m4xmdFcz31p1h7Qg68c', 'EL LOKERON', Decimal('0.72'), Decimal('0.69'), Decimal('0.94'), Decimal('120.21'), 2)\n",
      "('6PhRhocBXP4y7NpciGmzra', 'DespuÃ©s De La 1', Decimal('0.81'), Decimal('0.58'), Decimal('0.53'), Decimal('99.97'), 2)\n",
      "('13BDiikG6y5o5cQTK0HpW6', 'Soltera - W Sound 01', Decimal('0.73'), Decimal('0.58'), Decimal('0.88'), Decimal('200.00'), 2)\n",
      "('1uFW6czrHk5PsK3s6gOI7C', 'Se Fue', Decimal('0.69'), Decimal('0.74'), Decimal('0.14'), Decimal('119.96'), 2)\n",
      "('5AkLEnorFvb7WIJOGqKYVT', 'Si Un DÃ\\xada EstÃ¡s Sola | CROSSOVER #7', Decimal('0.63'), Decimal('0.51'), Decimal('0.74'), Decimal('183.90'), 3)\n",
      "('2eQFYGegTZaObk2kuBz83Z', 'TÃº Con Ã‰l', Decimal('0.74'), Decimal('0.89'), Decimal('0.79'), Decimal('93.05'), 3)\n",
      "('2Bf7izPNpcTVNL41bdyFic', 'Zoom Zoom', Decimal('0.83'), Decimal('0.58'), Decimal('0.81'), Decimal('99.94'), 3)\n",
      "('0Sr7ssScx54yxdM2ols7nW', 'Q U E V A S H A C E R H O Y ?', Decimal('0.56'), Decimal('0.68'), Decimal('0.39'), Decimal('155.08'), 3)\n",
      "('7tI8dRuH2Yc6RuoTjxo4dU', 'Who', Decimal('0.66'), Decimal('0.76'), Decimal('0.84'), Decimal('116.03'), 3)\n",
      "('2btNsI4OvcVl7SAHQQDHFB', 'MÃ\\xadrame', Decimal('0.72'), Decimal('0.66'), Decimal('0.70'), Decimal('175.96'), 3)\n",
      "('5lKFO0PrOC9jmOlPEdjHsL', 'DOS DÃ\\x8dAS', Decimal('0.75'), Decimal('0.51'), Decimal('0.93'), Decimal('109.94'), 3)\n",
      "('5eqZZLLZ4CkuUznPCOimsi', 'Cosa Linda', Decimal('0.84'), Decimal('0.65'), Decimal('0.66'), Decimal('95.94'), 3)\n",
      "('0fKK51bU6lcCCwdNnv64t3', 'DEPORTIVO', Decimal('0.82'), Decimal('0.76'), Decimal('0.78'), Decimal('90.03'), 4)\n",
      "('7zYAuEf69m4bQmJvw0MTka', 'SQ - W Sound 04', Decimal('0.77'), Decimal('0.78'), Decimal('0.91'), Decimal('97.09'), 4)\n",
      "('6WatFBLVB0x077xWeoVc2k', 'Si Antes Te Hubiera Conocido', Decimal('0.92'), Decimal('0.67'), Decimal('0.79'), Decimal('128.03'), 4)\n",
      "('2ALQyXMC26Vew7JX7ert9M', 'POLOS OPUESTOS REMIX - BLESSD VERSION', Decimal('0.54'), Decimal('0.55'), Decimal('0.55'), Decimal('118.99'), 4)\n",
      "('7yrTny7FLWLbfIzsxoicWj', 'noviogangsta <3', Decimal('0.82'), Decimal('0.87'), Decimal('0.94'), Decimal('128.92'), 4)\n",
      "('7bywjHOc0wSjGGbj04XbVi', 'LUNA', Decimal('0.77'), Decimal('0.86'), Decimal('0.45'), Decimal('100.02'), 4)\n",
      "('7sd6zMrgGpEa7NkQm9TRrg', 'NADIE', Decimal('0.70'), Decimal('0.84'), Decimal('0.53'), Decimal('92.60'), 5)\n",
      "('69vi5SUSJJF0CQJCZngFFS', 'Parte & Choke', Decimal('0.73'), Decimal('0.67'), Decimal('0.86'), Decimal('117.35'), 5)\n",
      "('6HrALJOMsfPCCbUo5cJCON', 'ESCAPATE', Decimal('0.82'), Decimal('0.45'), Decimal('0.69'), Decimal('120.09'), 5)\n",
      "('2gmd7lY3QSzLh0xIY4cRvi', 'SE ME OLVIDA', Decimal('0.79'), Decimal('0.71'), Decimal('0.69'), Decimal('82.05'), 6)\n",
      "('5UxEKpzvvLnjoC10XoogN3', 'Cosa Nuestra', Decimal('0.69'), Decimal('0.68'), Decimal('0.74'), Decimal('172.04'), 6)\n",
      "('0qeIFEGRQqHoaJtLCl0U73', 'DEGENERE ðŸ‘‘ (feat. benny blanco)', Decimal('0.74'), Decimal('0.71'), Decimal('0.71'), Decimal('194.06'), 6)\n",
      "('2aYZaN5SmkRDLsrrV8GkBQ', 'LA PATRULLA', Decimal('0.72'), Decimal('0.74'), Decimal('0.89'), Decimal('132.73'), 6)\n",
      "('0NsGFMIo2aNbAkJu48ndaf', 'Morena Canela', Decimal('0.66'), Decimal('0.61'), Decimal('0.47'), Decimal('119.89'), 6)\n",
      "('42wdz3j7gstgUuhoFLCXqd', 'PELIGROSA', Decimal('0.76'), Decimal('0.52'), Decimal('0.80'), Decimal('100.03'), 6)\n",
      "('2lAUq68F2bt7Kc218n9FPp', 'AY MAMÃ\\x81', Decimal('0.67'), Decimal('0.76'), Decimal('0.73'), Decimal('148.85'), 7)\n",
      "('6kPCcIAGoTeRrh8qrmKa90', 'Piel', Decimal('0.65'), Decimal('0.91'), Decimal('0.82'), Decimal('168.00'), 7)\n",
      "('3KwYiawBfqngH7eaUHQn2N', 'FDSR', Decimal('0.80'), Decimal('0.66'), Decimal('0.66'), Decimal('175.93'), 7)\n",
      "('4dLLdfiniBhDP9dlJQIOi4', 'Perdonarte, Â¿Para QuÃ©?', Decimal('0.67'), Decimal('0.70'), Decimal('0.62'), Decimal('90.04'), 7)\n",
      "('3ps5MDjfpA3wAbKMitNWgM', 'MIRALA', Decimal('0.81'), Decimal('0.74'), Decimal('0.80'), Decimal('87.99'), 7)\n",
      "('3PJgmyLaybZtALX4mrgbiD', 'Espresso Martini', Decimal('0.86'), Decimal('0.57'), Decimal('0.19'), Decimal('123.04'), 7)\n",
      "('4lqJsJd7kqWVvamQ4aFHA8', 'RevolÃº', Decimal('0.73'), Decimal('0.69'), Decimal('0.44'), Decimal('196.12'), 8)\n",
      "('0BiDnJFB3TlRB6aji7jUz3', 'Rey Sin Reina', Decimal('0.53'), Decimal('0.36'), Decimal('0.66'), Decimal('169.65'), 8)\n",
      "('281YJmnThveWjsWVic9Ym6', 'Las Piponas (Remix)', Decimal('0.73'), Decimal('0.59'), Decimal('0.11'), Decimal('119.66'), 8)\n",
      "('2SuosMcETUjDfBRobLLTQm', 'CHIKA MALA', Decimal('0.64'), Decimal('0.49'), Decimal('0.76'), Decimal('99.33'), 8)\n",
      "('0EVxchTHYIgx618OrpcrdQ', 'AGORA', Decimal('0.69'), Decimal('0.87'), Decimal('0.63'), Decimal('169.86'), 8)\n",
      "('5LhI8m7n8xlQmNe3b7Rwis', 'Madonna', Decimal('0.73'), Decimal('0.87'), Decimal('0.66'), Decimal('128.03'), 9)\n",
      "('0iVEujJcafOBnxa654fJYu', 'Cosas Pendientes', Decimal('0.84'), Decimal('0.67'), Decimal('0.78'), Decimal('82.01'), 9)\n",
      "('5QjmUqgpPQgXgg4606DqZF', 'UWAIE', Decimal('0.71'), Decimal('0.78'), Decimal('0.45'), Decimal('103.00'), 9)\n",
      "('2plbrEY59IikOBgBGLjaoe', 'Die With A Smile', Decimal('0.52'), Decimal('0.59'), Decimal('0.54'), Decimal('157.97'), 9)\n",
      "('0Qe2g06yzLBuuSvVmFiweP', 'Hasta AquÃ\\xad LleguÃ©', Decimal('0.64'), Decimal('0.66'), Decimal('0.41'), Decimal('100.02'), 9)\n",
      "('5tZgkV8FTe3rtl8OcSeQAb', 'DÃ©jame Entrar', Decimal('0.68'), Decimal('0.70'), Decimal('0.26'), Decimal('102.01'), 10)\n",
      "('5AH31dDNgxCMGDdxubNNn4', 'NEL', Decimal('0.69'), Decimal('0.48'), Decimal('0.36'), Decimal('100.03'), 10)\n",
      "\n",
      "\n",
      "CONSULTA 2: cancion, pais, mejor_posicion, veces_en_ranking\n",
      "('Bad Bunny', 'QuÃ© PasarÃ\\xada...', 1)\n",
      "('Bayron Fire', 'A200', 1)\n",
      "('Blessd', '57', 1)\n",
      "('DFZM', '57', 1)\n",
      "('Duki', 'Nueva Era', 1)\n",
      "('Feid', '57', 1)\n",
      "('Fuerza Regida', 'Tu Boda', 1)\n",
      "('J Balvin', '57', 1)\n",
      "('Jairo Vera', 'A200', 1)\n",
      "('KAROL G', '57', 1)\n",
      "('King Savagge', 'A200', 1)\n",
      "('La T y La M', 'Amor de Vago', 1)\n",
      "('Malandro', 'Amor de Vago', 1)\n",
      "('Maluma', '57', 1)\n",
      "('Myke Towers', 'Nueva Era', 1)\n",
      "('Oscar Maydon', 'Tu Boda', 1)\n",
      "('Ovy On The Drums', '57', 1)\n",
      "('Rauw Alejandro', 'KhÃ©?', 1)\n",
      "('Rauw Alejandro', 'QuÃ© PasarÃ\\xada...', 1)\n",
      "('Romeo Santos', 'KhÃ©?', 1)\n",
      "('Ryan Castro', '57', 1)\n",
      "('Anitta', 'AlegrÃ\\xada', 2)\n",
      "('Blessd', 'Soltera - W Sound 01', 2)\n",
      "('Cris Mj', 'DespuÃ©s De La 1', 2)\n",
      "('Emilia', 'AlegrÃ\\xada', 2)\n",
      "('FloyyMenor', 'DespuÃ©s De La 1', 2)\n",
      "('Gabito Ballesteros', 'Presidente', 2)\n",
      "('Laura Pausini', 'Se Fue', 2)\n",
      "('LOUKI', 'DespuÃ©s De La 1', 2)\n",
      "('Luis R Conriquez', 'Presidente', 2)\n",
      "('Natanael Cano', 'Presidente', 2)\n",
      "('Neton Vega', 'Presidente', 2)\n",
      "('Ovy On The Drums', 'Soltera - W Sound 01', 2)\n",
      "('Rauw Alejandro', 'Se Fue', 2)\n",
      "('Tiago PZK', 'AlegrÃ\\xada', 2)\n",
      "('Tito Double P', 'EL LOKERON', 2)\n",
      "('W Sound', 'Soltera - W Sound 01', 2)\n",
      "('Big Cvyu', 'Zoom Zoom', 3)\n",
      "('Big One', 'Si Un DÃ\\xada EstÃ¡s Sola | CROSSOVER #7', 3)\n",
      "('Blessd', 'MÃ\\xadrame', 3)\n",
      "('De La Rose', 'Q U E V A S H A C E R H O Y ?', 3)\n",
      "('Emanero', 'Si Un DÃ\\xada EstÃ¡s Sola | CROSSOVER #7', 3)\n",
      "('Jimin', 'Who', 3)\n",
      "('Lucky Brown', 'Zoom Zoom', 3)\n",
      "('Lucky Brown', 'Cosa Linda', 3)\n",
      "('Mateo on the Beatz', 'Cosa Linda', 3)\n",
      "('Omar Courtz', 'Q U E V A S H A C E R H O Y ?', 3)\n",
      "('Ovy On The Drums', 'MÃ\\xadrame', 3)\n",
      "('Peso Pluma', 'DOS DÃ\\x8dAS', 3)\n",
      "('Rauw Alejandro', 'TÃº Con Ã‰l', 3)\n",
      "('Tito Double P', 'DOS DÃ\\x8dAS', 3)\n",
      "('Valentino Merlo', 'Si Un DÃ\\xada EstÃ¡s Sola | CROSSOVER #7', 3)\n",
      "('Anuel AA', 'DEPORTIVO', 4)\n",
      "('ATL Jacob', 'LUNA', 4)\n",
      "('Blessd', 'DEPORTIVO', 4)\n",
      "('Blessd', 'POLOS OPUESTOS REMIX - BLESSD VERSION', 4)\n",
      "('Emilia', 'noviogangsta <3', 4)\n",
      "('Feid', 'LUNA', 4)\n",
      "('KAROL G', 'Si Antes Te Hubiera Conocido', 4)\n",
      "('Kris R.', 'POLOS OPUESTOS REMIX - BLESSD VERSION', 4)\n",
      "('Ovy On The Drums', 'SQ - W Sound 04', 4)\n",
      "('Ryan Castro', 'SQ - W Sound 04', 4)\n",
      "('W Sound', 'SQ - W Sound 04', 4)\n",
      "('Alex Krack', 'Parte & Choke', 5)\n",
      "('Chino Pacas', 'ESCAPATE', 5)\n",
      "('JÃ¸tta', 'Parte & Choke', 5)\n",
      "('Jombriel', 'Parte & Choke', 5)\n",
      "('Tito Double P', 'ESCAPATE', 5)\n",
      "('Tito Double P', 'NADIE', 5)\n",
      "('benny blanco', 'DEGENERE ðŸ‘‘ (feat. benny blanco)', 6)\n",
      "('Chino Pacas', 'Morena Canela', 6)\n",
      "('Feid', 'SE ME OLVIDA', 6)\n",
      "('FloyyMenor', 'PELIGROSA', 6)\n",
      "('Maisak', 'SE ME OLVIDA', 6)\n",
      "('Myke Towers', 'DEGENERE ðŸ‘‘ (feat. benny blanco)', 6)\n",
      "('Neton Vega', 'LA PATRULLA', 6)\n",
      "('Peso Pluma', 'LA PATRULLA', 6)\n",
      "('Rauw Alejandro', 'Cosa Nuestra', 6)\n",
      "('Emilia', 'Perdonarte, Â¿Para QuÃ©?', 7)\n",
      "('Grupo Frontera', 'AY MAMÃ\\x81', 7)\n",
      "('Jere Klein', 'MIRALA', 7)\n",
      "('Ke Personajes', 'Piel', 7)\n",
      "('Los Ã\\x81ngeles Azules', 'Perdonarte, Â¿Para QuÃ©?', 7)\n",
      "('Maisak', 'FDSR', 7)\n",
      "('Marconi Impara', 'Espresso Martini', 7)\n",
      "('Ovy On The Drums', 'MIRALA', 7)\n",
      "('Rauw Alejandro', 'Espresso Martini', 7)\n",
      "('Ryan Castro', 'FDSR', 7)\n",
      "('Tiago PZK', 'Piel', 7)\n",
      "('Tito Double P', 'AY MAMÃ\\x81', 7)\n",
      "('Yan Block', 'Espresso Martini', 7)\n",
      "('Blessd', 'Las Piponas (Remix)', 8)\n",
      "('EL MURCIELAGO', 'CHIKA MALA', 8)\n",
      "('Feid', 'RevolÃº', 8)\n",
      "('Jere Klein', 'CHIKA MALA', 8)\n",
      "('JuliÃ³n Ã\\x81lvarez y su NorteÃ±o Banda', 'Rey Sin Reina', 8)\n",
      "('Kris R.', 'Las Piponas (Remix)', 8)\n",
      "('Maria Becerra', 'AGORA', 8)\n",
      "('Mateo on the Beatz', 'CHIKA MALA', 8)\n",
      "('Rauw Alejandro', 'RevolÃº', 8)\n",
      "('BeÃ©le', 'Hasta AquÃ\\xad LleguÃ©', 9)\n",
      "('Bruno Mars', 'Die With A Smile', 9)\n",
      "('Kapo', 'UWAIE', 9)\n",
      "('Lady Gaga', 'Die With A Smile', 9)\n",
      "('Maluma', 'Cosas Pendientes', 9)\n",
      "('Nanpa BÃ¡sico', 'Hasta AquÃ\\xad LleguÃ©', 9)\n",
      "('Natanael Cano', 'Madonna', 9)\n",
      "('Oscar Maydon', 'Madonna', 9)\n",
      "('Fuerza Regida', 'NEL', 10)\n",
      "('Rauw Alejandro', 'DÃ©jame Entrar', 10)\n",
      "('Ayra Starr', 'Santa', 11)\n",
      "('Feid', 'SORRY 4 THAT MUCH', 11)\n",
      "('Junior H', '5-jul', 11)\n",
      "('Pharrell Williams', 'Committed', 11)\n",
      "('Rauw Alejandro', 'Santa', 11)\n",
      "('Rauw Alejandro', 'Committed', 11)\n",
      "('Rvssian', 'Santa', 11)\n",
      "('The La Planta', 'Hoy', 11)\n",
      "('Tito Double P', '5-jul', 11)\n",
      "('Valentino Merlo', 'Hoy', 11)\n",
      "('Bad Bunny', 'PERRO NEGRO', 12)\n",
      "('Feid', 'PERRO NEGRO', 12)\n",
      "('Junior H', 'PIÃ‰NSALO', 12)\n",
      "('Kapo', 'Ohnana', 12)\n",
      "('Rauw Alejandro', 'Ni Me Conozco', 12)\n",
      "('Abel Pintos', 'QUE ME FALTE TODO', 13)\n",
      "('Alexis y Fido', \"Baja Pa' AcÃ¡\", 13)\n",
      "('Big One', 'PaÂ´Que Te Acuerdes | CROSSOVER #8', 13)\n",
      "('Calle 24', 'Que Onda', 13)\n",
      "('Chino Pacas', 'Que Onda', 13)\n",
      "('Cris Mj', 'DÃ©jame Pensar', 13)\n",
      "('Cristian Di Marco', 'Loquita - Remix', 13)\n",
      "('Danny Ocean', 'ImagÃ\\xadnate', 13)\n",
      "('DobleP', 'Loquita - Remix', 13)\n",
      "('ECKO', 'Loquita - Remix', 13)\n",
      "('FloyyMenor', 'DÃ©jame Pensar', 13)\n",
      "('Fuerza Regida', 'Que Onda', 13)\n",
      "('Kapo', 'ImagÃ\\xadnate', 13)\n",
      "('La Joaqui', 'PaÂ´Que Te Acuerdes | CROSSOVER #8', 13)\n",
      "('Los Turros', 'Loquita - Remix', 13)\n",
      "('Luck Ra', 'QUE ME FALTE TODO', 13)\n",
      "('Panda Black', 'DÃ©jame Pensar', 13)\n",
      "('Peso Pluma', 'LOS CUADROS', 13)\n",
      "('Rauw Alejandro', \"Baja Pa' AcÃ¡\", 13)\n",
      "('Shakira', 'Soltera', 13)\n",
      "('Tiago PZK', 'PaÂ´Que Te Acuerdes | CROSSOVER #8', 13)\n",
      "('Tito Double P', 'LOS CUADROS', 13)\n",
      "('BeÃ©le', 'Frente al Mar', 14)\n",
      "('Boza', 'Orion', 14)\n",
      "('ELENA ROSE', 'Orion', 14)\n",
      "('Grupo Firme', 'EL AMOR DE SU VIDA', 14)\n",
      "('Grupo Frontera', 'EL AMOR DE SU VIDA', 14)\n",
      "('Luck Ra', 'DOCTOR', 14)\n",
      "('Natanael Cano', 'PRIMO', 14)\n",
      "('Natanael Cano', 'Giza', 14)\n",
      "('Nicki Nicole', 'DOCTOR', 14)\n",
      "('Oscar Maydon', 'Giza', 14)\n",
      "('Pinky SD', 'Conmigo Te GustÃ³', 14)\n",
      "('Tito Double P', 'PRIMO', 14)\n",
      "('Un Poco de Ruido', 'Conmigo Te GustÃ³', 14)\n",
      "('Uriel Lozano', 'Conmigo Te GustÃ³', 14)\n",
      "('FloyyMenor', 'APAGA EL CEL', 15)\n",
      "('Gittobeatz', 'Bentley', 15)\n",
      "('Jere Klein', 'Bentley', 15)\n",
      "('Junior H', 'Y LLORO', 15)\n",
      "('Lewis Somes', 'APAGA EL CEL', 15)\n",
      "('Lucky Brown', 'Bentley', 15)\n",
      "('Mateo on the Beatz', 'Bentley', 15)\n",
      "('Myke Towers', 'TAMBIÃ‰N', 15)\n",
      "('Luis R Conriquez', 'Si No Quieres No', 16)\n",
      "('Neton Vega', 'Si No Quieres No', 16)\n",
      "('Oscar Maydon', 'SANTAL 33', 16)\n",
      "('Oscar Maydon', 'Mejores Jordans', 16)\n",
      "('Peso Pluma', 'SANTAL 33', 16)\n",
      "('Victor Mendivil', 'Mejores Jordans', 16)\n",
      "('Bruno Mars', 'APT.', 17)\n",
      "('Engel Montaz', 'Cupido', 17)\n",
      "('Feid', 'Feliz CumpleaÃ±os Ferxxo', 17)\n",
      "('Kuv507', 'Cupido', 17)\n",
      "('Latinnites Music', 'Cupido', 17)\n",
      "('Luck Ra', 'Princesa', 17)\n",
      "('Paulo Londra', 'Princesa', 17)\n",
      "('Plan B', 'Es un Secreto', 17)\n",
      "('ROSÃ‰', 'APT.', 17)\n",
      "('Valentino Merlo', 'Princesa', 17)\n",
      "('Angela Torres', 'SINVERGÃœENZA - con Angela Torres', 18)\n",
      "('Carin Leon', 'SegÃºn QuiÃ©n', 18)\n",
      "('Emanero', 'SINVERGÃœENZA - con Angela Torres', 18)\n",
      "('j mena', 'SINVERGÃœENZA - con Angela Torres', 18)\n",
      "('Karina', 'SINVERGÃœENZA - con Angela Torres', 18)\n",
      "('Maluma', 'SegÃºn QuiÃ©n', 18)\n",
      "('Martinwhite', 'CHINGON', 18)\n",
      "('NEMJ', 'CHINGON', 18)\n",
      "('ArcÃ¡ngel', \"Pa' Que La Pases Bien\", 19)\n",
      "('Blessd', 'Oe BebÃ©', 19)\n",
      "('Cris Mj', 'SI NO ES CONTIGO', 19)\n",
      "('Duki', 'Vida De Rock', 19)\n",
      "('Maluma', 'Oe BebÃ©', 19)\n",
      "('Milo j', 'Vida De Rock', 19)\n",
      "('Peso Pluma', 'QUEMA', 19)\n",
      "('Rauw Alejandro', 'IL Capo', 19)\n",
      "('Ryan Castro', 'QUEMA', 19)\n",
      "('SOG', 'QUEMA', 19)\n",
      "('Tito Double P', 'BLANCA ROSITA Y MARIA', 19)\n",
      "('FloyyMenor', 'TU TA RICA', 20)\n",
      "('Lewis Somes', 'TU TA RICA', 20)\n",
      "('Luck Ra', 'Mil Preguntas', 20)\n",
      "(\"Q' Lokura\", 'Mil Preguntas', 20)\n",
      "('Rauw Alejandro', 'Mil Mujeres', 20)\n",
      "('Omar Varela', 'Dimelo Mami', 21)\n",
      "(\"Q' Lokura\", 'Tu Foto - En Vivo', 21)\n",
      "('Salastkbron', 'Dimelo Mami', 21)\n",
      "('Valentino Merlo', 'Tu Foto - En Vivo', 21)\n",
      "('Bhavi', 'FLECHAZO EN EL CENTRO', 22)\n",
      "('BM', 'DespÃ³jate Vol.2', 22)\n",
      "('Callejero Fino', 'DespÃ³jate Vol.2', 22)\n",
      "('Chayanne', 'UN SIGLO SIN TI', 22)\n",
      "('Feid', 'Brickell', 22)\n",
      "('Ganggy', 'Kamikaze (feat. Victor Mendivil)', 22)\n",
      "(\"Hernan y La Champion's Liga\", 'DespÃ³jate Vol.2', 22)\n",
      "('Luck Ra', 'UN SIGLO SIN TI', 22)\n",
      "('Milo j', 'FLECHAZO EN EL CENTRO', 22)\n",
      "('Natanael Cano', 'Kamikaze (feat. Victor Mendivil)', 22)\n",
      "('Uriel Gaxiola', 'Kamikaze (feat. Victor Mendivil)', 22)\n",
      "('Victor Mendivil', 'Kamikaze (feat. Victor Mendivil)', 22)\n",
      "('Yandel', 'Brickell', 22)\n",
      "('YSY A', 'FLECHAZO EN EL CENTRO', 22)\n",
      "('Big One', 'Cuando Te Vi | CROSSOVER #5', 23)\n",
      "('Cris Mj', 'SI NO ES CONTIGO - REMIX', 23)\n",
      "('FloyyMenor', 'MY LOVE', 23)\n",
      "('JHAYCO', 'SI NO ES CONTIGO - REMIX', 23)\n",
      "('JoshuaLife', 'HOCO en la U (Â¿que hubo?)', 23)\n",
      "('Kali Uchis', 'SI NO ES CONTIGO - REMIX', 23)\n",
      "('Lewis Somes', 'MY LOVE', 23)\n",
      "('Maria Becerra', 'Cuando Te Vi | CROSSOVER #5', 23)\n",
      "('Rauw Alejandro', 'Amar De Nuevo', 23)\n",
      "('Trueno', 'Cuando Te Vi | CROSSOVER #5', 23)\n",
      "('Estevan Plazola', 'HOLLYWOOD', 24)\n",
      "('Grupo ZÃºmbale Primo', 'Tattoo', 24)\n",
      "('Jasiel NuÃ±ez', 'AMIRI', 24)\n",
      "('LATIN MAFIA', '2:12 a.\\xa0m.', 24)\n",
      "('Neton Vega', 'LINDA', 24)\n",
      "('Peso Pluma', 'HOLLYWOOD', 24)\n",
      "('Peso Pluma', 'AMIRI', 24)\n",
      "('Rauw Alejandro', '2:12 a.\\xa0m.', 24)\n",
      "('Tito Double P', 'LINDA', 24)\n",
      "('Tito Double P', 'AMIRI', 24)\n",
      "('Clave Especial', 'No Son Doritos', 25)\n",
      "('Duki', 'Imperio', 25)\n",
      "('Judeline', 'Imperio', 25)\n",
      "('Luis R Conriquez', 'No Son Doritos', 25)\n",
      "('Miguel Bueno', 'No Te Rayes', 25)\n",
      "('Mr. Naisgai', 'Pasaporte', 25)\n",
      "('No Te Va Gustar', 'A las Nueve', 25)\n",
      "('ONIKX', 'No Te Rayes', 25)\n",
      "('Rauw Alejandro', 'Pasaporte', 25)\n",
      "('Rayo & Toby', 'Movimiento de Caderas', 25)\n",
      "('Dalmata', 'Dile a Tu Amiga', 26)\n",
      "('Emirsito', 'DUELE', 26)\n",
      "('Feid', 'Normal', 26)\n",
      "('YSY A', 'DUELE', 26)\n",
      "('JuliÃ³n Ã\\x81lvarez y su NorteÃ±o Banda', 'Regalo De Dios', 27)\n",
      "(\"Adolescent's Orquesta\", 'Virgen', 28)\n",
      "('Feid', 'CUAL ES ESA', 28)\n",
      "('KAROL G', 'AMARGURA', 28)\n",
      "('Lasso', 'En Otra Vida', 28)\n",
      "('Lucky Brown', 'Sola Suelta Soltera', 28)\n",
      "('Maluma', 'Borro Cassette', 28)\n",
      "('Mateo on the Beatz', 'Sola Suelta Soltera', 28)\n",
      "('Nicki Nicole', 'Ojos Verdes', 28)\n",
      "('Pirlo', 'CUAL ES ESA', 28)\n",
      "('Yami Safdie', 'En Otra Vida', 28)\n",
      "('Dysbit', 'SATIROLOGÃ\\x8dA', 29)\n",
      "('Fran C', 'Mi AutomÃ³vil', 29)\n",
      "('Jere Klein', 'Mi AutomÃ³vil', 29)\n",
      "('KHEA', 'HOLA PERDIDA', 29)\n",
      "('Kidd Voodoo', 'SATIROLOGÃ\\x8dA', 29)\n",
      "('Luck Ra', 'HOLA PERDIDA', 29)\n",
      "('Big Metra', 'Yo Te Quiero (feat. Chris Jonex)', 30)\n",
      "('Bimbo el Oso MaÃ±oso', 'Yo Te Quiero (feat. Chris Jonex)', 30)\n",
      "('Carin Leon', 'Primera Cita', 30)\n",
      "('Chris Jonex', 'Yo Te Quiero (feat. Chris Jonex)', 30)\n",
      "('Feid', 'DoblexxÃ³', 30)\n",
      "('J Balvin', 'DoblexxÃ³', 30)\n",
      "('KIO \"El Historiador\"', 'Yo Te Quiero (feat. Chris Jonex)', 30)\n",
      "('Membrillito', 'Amigos Y Enemigos Almighty', 30)\n",
      "('Bruno Marcelo', 'Toky', 31)\n",
      "('Camilo', 'Una Vida Pasada', 31)\n",
      "('Carin Leon', 'Una Vida Pasada', 31)\n",
      "('Cris Mj', 'Daytona', 31)\n",
      "('elaggume', 'COLOCARTELO', 31)\n",
      "('Hoppen', 'Toky', 31)\n",
      "('Joel The B', 'Toky', 31)\n",
      "('Renzo ED', 'COLOCARTELO', 31)\n",
      "('Rich Ibra', 'Toky', 31)\n",
      "('Sossa', 'Toky', 31)\n",
      "('Vyse', 'Toky', 31)\n",
      "('BM', 'La Morocha', 32)\n",
      "('Fran C', 'Gracias A Dios', 32)\n",
      "('Galee Galee', 'Gracias A Dios', 32)\n",
      "('Kevin Martes 13', 'Gracias A Dios', 32)\n",
      "('Luck Ra', 'La Morocha', 32)\n",
      "('Maria Becerra', 'ADIÃ“S', 32)\n",
      "('No Te Va Gustar', 'Ese Maldito Momento', 32)\n",
      "('Calle 24', 'Apaga El Cel', 33)\n",
      "('Chino Pacas', 'Apaga El Cel', 33)\n",
      "('Cris Mj', 'Gata Only', 33)\n",
      "('Cris Mj', 'No Ponga Excusas', 33)\n",
      "('Emilia', 'La_Original.mp3', 33)\n",
      "('FloyyMenor', 'Gata Only', 33)\n",
      "('JuliÃ³n Ã\\x81lvarez y su NorteÃ±o Banda', 'Cero EmpatÃ\\xada', 33)\n",
      "('TINI', 'La_Original.mp3', 33)\n",
      "('DJ Lalo', 'Robando', 34)\n",
      "('JÃ¸tta', 'Robando', 34)\n",
      "('KAROL G', 'MI EX TENÃ\\x8dA RAZÃ“N', 34)\n",
      "('De La Rose', 'Kyoto', 35)\n",
      "('Feid', 'CLASSY 101', 35)\n",
      "('Grupo Niche', 'Algo Que Se Quede', 35)\n",
      "('Haze', 'Kyoto', 35)\n",
      "('Luis R Conriquez', 'Un Scar', 35)\n",
      "('Omar Courtz', 'Kyoto', 35)\n",
      "('Rauw Alejandro', 'SEXXXMACHINE', 35)\n",
      "('Vicente FernÃ¡ndez', 'Un MillÃ³n de Primaveras', 35)\n",
      "('Victor Mendivil', 'Un Scar', 35)\n",
      "('Young Miko', 'CLASSY 101', 35)\n",
      "('Blessd', 'YOGURCITO', 36)\n",
      "('Carin Leon', 'QUE VUELVAS', 36)\n",
      "('Cris Mj', 'NO COOPERAMOS', 36)\n",
      "('DobleP', 'SE DICE DE MI', 36)\n",
      "('El Jordan 23', 'NO COOPERAMOS', 36)\n",
      "('Emilia', 'La_Playlist.mpeg', 36)\n",
      "('Galee Galee', 'NO COOPERAMOS', 36)\n",
      "('Grupo Frontera', \"Hecha Pa' MÃ\\xad\", 36)\n",
      "('Grupo Frontera', 'QUE VUELVAS', 36)\n",
      "('Pailita', 'NO COOPERAMOS', 36)\n",
      "('Pereiraremix', 'SE DICE DE MI', 36)\n",
      "('Tuti DJ', 'SE DICE DE MI', 36)\n",
      "('Aventura', 'El Perdedor', 37)\n",
      "('Myke Towers', 'LA FALDA', 37)\n",
      "('Rauw Alejandro', 'Touching The Sky', 37)\n",
      "('Andres Castillo', 'Vaquero - Remix', 38)\n",
      "('Bad Bunny', 'LA CANCIÃ“N', 38)\n",
      "('Bellakath', 'Vaquero - Remix', 38)\n",
      "('Cardenales De Nuevo LeÃ³n', 'Belleza De Cantina', 38)\n",
      "('El Bogueto', 'Vaquero - Remix', 38)\n",
      "('El Mago Y La Nueva', 'Te Vas a Arrepentir', 38)\n",
      "('El Malilla', 'Vaquero - Remix', 38)\n",
      "('J Balvin', 'LA CANCIÃ“N', 38)\n",
      "('Jin', 'Running Wild', 38)\n",
      "('KAROL G', 'QLONA', 38)\n",
      "('La Dinastia', 'Vaquero - Remix', 38)\n",
      "('La Receta', 'Lo Que Hay X AquÃ\\xad', 38)\n",
      "('Peso Pluma', 'QLONA', 38)\n",
      "('Pinky SD', 'Te Vas a Arrepentir', 38)\n",
      "('Riky Produce', 'Vaquero - Remix', 38)\n",
      "('Un Poco de Ruido', 'Te Vas a Arrepentir', 38)\n",
      "('Alfredo Olivas', 'El Precio De La Soledad', 39)\n",
      "('Duki', 'Cine ðŸš¬', 39)\n",
      "('Junior H', 'Volver Al Futuro', 39)\n",
      "('Maria Becerra', 'CORAZÃ“N VACÃ\\x8dO', 39)\n",
      "('Oscar Maydon', 'Volver Al Futuro', 39)\n",
      "('Airbag', 'Por Mil Noches', 40)\n",
      "('Armenta', 'TU SI', 40)\n",
      "('Duki', 'Ameri', 40)\n",
      "('Fuerza Regida', 'TÃš NAME', 40)\n",
      "('Plan B', 'Es Un Secreto', 40)\n",
      "('Tito Double P', 'TU SI', 40)\n",
      "('Babasonicos', 'Como Eran Las Cosas', 41)\n",
      "('Big One', 'Un Finde | CROSSOVER #2', 41)\n",
      "('Dimension Latina', 'LlorarÃ¡s', 41)\n",
      "('FMK', 'Un Finde | CROSSOVER #2', 41)\n",
      "('Ke Personajes', 'Un Finde | CROSSOVER #2', 41)\n",
      "('Pinky SD', 'La Piel Bien Caliente', 41)\n",
      "('Salastkbron', 'Me Voy', 41)\n",
      "('Un Poco de Ruido', 'La Piel Bien Caliente', 41)\n",
      "('Uriel Lozano', 'La Piel Bien Caliente', 41)\n",
      "('Valentino Merlo', 'Me Voy', 41)\n",
      "('Anuel AA', 'Amanece', 42)\n",
      "('ArcÃ¡ngel', 'Me Prefieres A Mi', 42)\n",
      "('Bryant Myers', 'Tuss', 42)\n",
      "('Cris Mj', 'Tuss', 42)\n",
      "('Feid', 'LA INOCENTE', 42)\n",
      "('Grupo ZÃºmbale Primo', 'Que Te Vaya Bien', 42)\n",
      "('Haze', 'Amanece', 42)\n",
      "('Junior H', 'TRES BOTELLAS', 42)\n",
      "('La Arrolladora Banda El LimÃ³n De Rene Camacho', 'El Final De Nuestra Historia', 42)\n",
      "('Mariah Carey', 'All I Want for Christmas Is You', 42)\n",
      "('Mora', 'LA INOCENTE', 42)\n",
      "('Pierre La Voz', 'Boomerang', 42)\n",
      "('Santaferia', 'Que Te Vaya Bien', 42)\n",
      "('Blessd', 'CASI ALGO', 43)\n",
      "('Ovy On The Drums', 'CASI ALGO', 43)\n",
      "('Peso Pluma', 'BELANOVA', 43)\n",
      "('Tito Double P', 'BELANOVA', 43)\n",
      "('Billie Eilish', 'BIRDS OF A FEATHER', 44)\n",
      "('Ke Personajes', 'Ya No Vuelvas (VersiÃ³n Cuarteto)', 44)\n",
      "(\"La K'onga\", 'Ya No Vuelvas (VersiÃ³n Cuarteto)', 44)\n",
      "('La T y La M', 'Un MontÃ³n de Estrellas - En Vivo Gran Rex', 44)\n",
      "('Luck Ra', 'Ya No Vuelvas (VersiÃ³n Cuarteto)', 44)\n",
      "('Ã\\x81ngela Aguilar', 'POR EL CONTRARIO (with Angela Aguilar & Leonardo Aguilar)', 45)\n",
      "('Becky G', 'POR EL CONTRARIO (with Angela Aguilar & Leonardo Aguilar)', 45)\n",
      "('Feid', 'Ferxxo 100', 45)\n",
      "('JuliÃ³n Ã\\x81lvarez y su NorteÃ±o Banda', 'Vibra Perfecta', 45)\n",
      "('Leonardo Aguilar', 'POR EL CONTRARIO (with Angela Aguilar & Leonardo Aguilar)', 45)\n",
      "('Axl Boore', 'BEIA (Jere Klein)', 46)\n",
      "('Bad Bunny', 'un x100to', 46)\n",
      "('Cris Mj', 'QUE LE DE', 46)\n",
      "('Feid', 'ALAKRAN', 46)\n",
      "('Grupo Frontera', 'un x100to', 46)\n",
      "('Nes', 'QUE LE DE', 46)\n",
      "('Prod Millones', 'BEIA (Jere Klein)', 46)\n",
      "('Tego CalderÃ³n', \"Pa' Que Retozen\", 46)\n",
      "('DJ Tao', 'PONTE PERRO | DJ TAO Turreo Sessions #24', 47)\n",
      "('El Bogueto', 'Nena Moxita', 47)\n",
      "('JÃ¸tta', 'La Jama', 47)\n",
      "('Jombriel', 'La Jama', 47)\n",
      "('JuliÃ³n Ã\\x81lvarez y su NorteÃ±o Banda', 'Lo Tienes Todo', 47)\n",
      "('Luis Alfonso', 'Chismofilia', 47)\n",
      "('Pinky SD', 'No Va a Venir', 47)\n",
      "('Ponte Perro', 'PONTE PERRO | DJ TAO Turreo Sessions #24', 47)\n",
      "('Un Poco de Ruido', 'No Va a Venir', 47)\n",
      "('Uriel Lozano', 'No Va a Venir', 47)\n",
      "('Uzielito Mix', 'Nena Moxita', 47)\n",
      "('Waldokinc El Troyano', 'La Jama', 47)\n",
      "('Yeri Mua', 'Nena Moxita', 47)\n",
      "('Carin Leon', 'Ese Vato No Te Queda', 48)\n",
      "('Frankie Ruiz', 'TÃº Con El', 48)\n",
      "('Gabito Ballesteros', 'Ese Vato No Te Queda', 48)\n",
      "('Heredero', 'Coqueta', 48)\n",
      "('Jasiel NuÃ±ez', 'EN MI MUNDO', 48)\n",
      "('Peso Pluma', 'EN MI MUNDO', 48)\n",
      "('Blessd', 'SI SABE FERXXO', 49)\n",
      "('DJ Acres', 'RIKISHI (feat. DJ Acres)', 49)\n",
      "('Feid', 'SI SABE FERXXO', 49)\n",
      "('Fran C', 'RIKISHI (feat. DJ Acres)', 49)\n",
      "('Harry Nach', 'RIKISHI (feat. DJ Acres)', 49)\n",
      "('KAROL G', 'No Me Cansare', 49)\n",
      "('La T y La M', 'El Doctorado', 49)\n",
      "('Lalo Rodriguez', 'Ven DevÃ³rame Otra Vez', 49)\n",
      "('Pablo Chill-E', 'RIKISHI (feat. DJ Acres)', 49)\n",
      "('Sevdaliza', 'No Me Cansare', 49)\n",
      "('Ã‘ejo', 'SeÃ±al De Vida', 50)\n",
      "('BeÃ©le', 'Loco', 50)\n",
      "('Brray', 'LOKERA', 50)\n",
      "('Dalmata', 'SeÃ±al De Vida', 50)\n",
      "('Grupo Frontera', 'Ã\\x81NGEL', 50)\n",
      "('Luigi 21 Plus', 'Gata Oficial', 50)\n",
      "('Luis Alfonso', 'Contentoso', 50)\n",
      "('Lyanno', 'LOKERA', 50)\n",
      "('Manuel Turizo', 'La Bachata', 50)\n",
      "('Rauw Alejandro', 'LOKERA', 50)\n",
      "('Romeo Santos', 'Ã\\x81NGEL', 50)\n",
      "\n",
      "\n",
      "CONSULTA 3: pais, cancion, promedio_ranking, max_movimiento_diario, max_movimiento_semanal, promedio_danceability, promedio_energy, promedio_tempo\n",
      "('2:12 a.\\xa0m.', datetime.date(2024, 11, 17), Decimal('32.5000000000000000'))\n",
      "('2:12 a.\\xa0m.', datetime.date(2024, 11, 18), Decimal('48.0000000000000000'))\n",
      "('5-jul', datetime.date(2024, 11, 17), Decimal('16.0000000000000000'))\n",
      "('5-jul', datetime.date(2024, 11, 18), Decimal('12.0000000000000000'))\n",
      "('5-jul', datetime.date(2024, 11, 19), Decimal('12.0000000000000000'))\n",
      "('5-jul', datetime.date(2024, 11, 20), Decimal('12.0000000000000000'))\n",
      "('5-jul', datetime.date(2024, 11, 21), Decimal('11.0000000000000000'))\n",
      "('5-jul', datetime.date(2024, 11, 22), Decimal('11.0000000000000000'))\n",
      "('5-jul', datetime.date(2024, 11, 23), Decimal('11.0000000000000000'))\n",
      "('5-jul', datetime.date(2024, 11, 24), Decimal('11.0000000000000000'))\n",
      "('57', datetime.date(2024, 11, 17), Decimal('13.4000000000000000'))\n",
      "('57', datetime.date(2024, 11, 18), Decimal('13.4000000000000000'))\n",
      "('57', datetime.date(2024, 11, 19), Decimal('5.7500000000000000'))\n",
      "('57', datetime.date(2024, 11, 20), Decimal('5.5000000000000000'))\n",
      "('57', datetime.date(2024, 11, 21), Decimal('6.0000000000000000'))\n",
      "('57', datetime.date(2024, 11, 22), Decimal('7.0000000000000000'))\n",
      "('57', datetime.date(2024, 11, 23), Decimal('8.2500000000000000'))\n",
      "('57', datetime.date(2024, 11, 24), Decimal('8.5000000000000000'))\n",
      "('A las Nueve', datetime.date(2024, 11, 17), Decimal('36.0000000000000000'))\n",
      "('A las Nueve', datetime.date(2024, 11, 18), Decimal('42.0000000000000000'))\n",
      "('A las Nueve', datetime.date(2024, 11, 19), Decimal('42.0000000000000000'))\n",
      "('A las Nueve', datetime.date(2024, 11, 20), Decimal('39.0000000000000000'))\n",
      "('A las Nueve', datetime.date(2024, 11, 21), Decimal('33.0000000000000000'))\n",
      "('A las Nueve', datetime.date(2024, 11, 22), Decimal('29.0000000000000000'))\n",
      "('A las Nueve', datetime.date(2024, 11, 23), Decimal('25.0000000000000000'))\n",
      "('A las Nueve', datetime.date(2024, 11, 24), Decimal('34.0000000000000000'))\n",
      "('Ã\\x81NGEL', datetime.date(2024, 11, 23), Decimal('50.0000000000000000'))\n",
      "('A200', datetime.date(2024, 11, 17), Decimal('1.00000000000000000000'))\n",
      "('A200', datetime.date(2024, 11, 18), Decimal('1.00000000000000000000'))\n",
      "('A200', datetime.date(2024, 11, 19), Decimal('1.00000000000000000000'))\n",
      "('A200', datetime.date(2024, 11, 20), Decimal('1.00000000000000000000'))\n",
      "('A200', datetime.date(2024, 11, 21), Decimal('1.00000000000000000000'))\n",
      "('A200', datetime.date(2024, 11, 22), Decimal('1.00000000000000000000'))\n",
      "('A200', datetime.date(2024, 11, 23), Decimal('1.00000000000000000000'))\n",
      "('A200', datetime.date(2024, 11, 24), Decimal('1.00000000000000000000'))\n",
      "('ADIÃ“S', datetime.date(2024, 11, 17), Decimal('42.0000000000000000'))\n",
      "('ADIÃ“S', datetime.date(2024, 11, 18), Decimal('32.0000000000000000'))\n",
      "('ADIÃ“S', datetime.date(2024, 11, 19), Decimal('40.0000000000000000'))\n",
      "('ADIÃ“S', datetime.date(2024, 11, 20), Decimal('43.0000000000000000'))\n",
      "('ADIÃ“S', datetime.date(2024, 11, 21), Decimal('48.0000000000000000'))\n",
      "('ADIÃ“S', datetime.date(2024, 11, 22), Decimal('42.0000000000000000'))\n",
      "('ADIÃ“S', datetime.date(2024, 11, 23), Decimal('41.0000000000000000'))\n",
      "('ADIÃ“S', datetime.date(2024, 11, 24), Decimal('35.0000000000000000'))\n",
      "('AGORA', datetime.date(2024, 11, 17), Decimal('8.0000000000000000'))\n",
      "('AGORA', datetime.date(2024, 11, 18), Decimal('10.0000000000000000'))\n",
      "('AGORA', datetime.date(2024, 11, 19), Decimal('10.0000000000000000'))\n",
      "('AGORA', datetime.date(2024, 11, 20), Decimal('9.0000000000000000'))\n",
      "('AGORA', datetime.date(2024, 11, 21), Decimal('8.0000000000000000'))\n",
      "('AGORA', datetime.date(2024, 11, 22), Decimal('8.0000000000000000'))\n",
      "('AGORA', datetime.date(2024, 11, 23), Decimal('8.0000000000000000'))\n",
      "('AGORA', datetime.date(2024, 11, 24), Decimal('11.0000000000000000'))\n",
      "('ALAKRAN', datetime.date(2024, 11, 21), Decimal('46.0000000000000000'))\n",
      "('AlegrÃ\\xada', datetime.date(2024, 11, 17), Decimal('2.0000000000000000'))\n",
      "('AlegrÃ\\xada', datetime.date(2024, 11, 18), Decimal('2.0000000000000000'))\n",
      "('AlegrÃ\\xada', datetime.date(2024, 11, 19), Decimal('3.0000000000000000'))\n",
      "('AlegrÃ\\xada', datetime.date(2024, 11, 20), Decimal('3.0000000000000000'))\n",
      "('AlegrÃ\\xada', datetime.date(2024, 11, 21), Decimal('3.0000000000000000'))\n",
      "('AlegrÃ\\xada', datetime.date(2024, 11, 22), Decimal('3.0000000000000000'))\n",
      "('AlegrÃ\\xada', datetime.date(2024, 11, 23), Decimal('3.0000000000000000'))\n",
      "('AlegrÃ\\xada', datetime.date(2024, 11, 24), Decimal('3.0000000000000000'))\n",
      "('Algo Que Se Quede', datetime.date(2024, 11, 17), Decimal('41.0000000000000000'))\n",
      "('Algo Que Se Quede', datetime.date(2024, 11, 18), Decimal('36.0000000000000000'))\n",
      "('Algo Que Se Quede', datetime.date(2024, 11, 19), Decimal('35.0000000000000000'))\n",
      "('Algo Que Se Quede', datetime.date(2024, 11, 20), Decimal('43.0000000000000000'))\n",
      "('Algo Que Se Quede', datetime.date(2024, 11, 21), Decimal('45.0000000000000000'))\n",
      "('Algo Que Se Quede', datetime.date(2024, 11, 22), Decimal('40.0000000000000000'))\n",
      "('Algo Que Se Quede', datetime.date(2024, 11, 23), Decimal('41.0000000000000000'))\n",
      "('Algo Que Se Quede', datetime.date(2024, 11, 24), Decimal('40.0000000000000000'))\n",
      "('All I Want for Christmas Is You', datetime.date(2024, 11, 19), Decimal('42.0000000000000000'))\n",
      "('Amanece', datetime.date(2024, 11, 17), Decimal('48.0000000000000000'))\n",
      "('Amanece', datetime.date(2024, 11, 18), Decimal('46.0000000000000000'))\n",
      "('Amanece', datetime.date(2024, 11, 19), Decimal('48.0000000000000000'))\n",
      "('Amanece', datetime.date(2024, 11, 21), Decimal('50.0000000000000000'))\n",
      "('Amanece', datetime.date(2024, 11, 22), Decimal('45.0000000000000000'))\n",
      "('Amanece', datetime.date(2024, 11, 23), Decimal('42.0000000000000000'))\n",
      "('Amanece', datetime.date(2024, 11, 24), Decimal('50.0000000000000000'))\n",
      "('Amar De Nuevo', datetime.date(2024, 11, 17), Decimal('23.0000000000000000'))\n",
      "('Amar De Nuevo', datetime.date(2024, 11, 18), Decimal('35.0000000000000000'))\n",
      "('Amar De Nuevo', datetime.date(2024, 11, 19), Decimal('47.0000000000000000'))\n",
      "('Amar De Nuevo', datetime.date(2024, 11, 20), Decimal('39.0000000000000000'))\n",
      "('Amar De Nuevo', datetime.date(2024, 11, 21), Decimal('43.0000000000000000'))\n",
      "('Amar De Nuevo', datetime.date(2024, 11, 22), Decimal('50.0000000000000000'))\n",
      "('AMARGURA', datetime.date(2024, 11, 17), Decimal('38.3333333333333333'))\n",
      "('AMARGURA', datetime.date(2024, 11, 18), Decimal('34.0000000000000000'))\n",
      "('AMARGURA', datetime.date(2024, 11, 19), Decimal('33.0000000000000000'))\n",
      "('AMARGURA', datetime.date(2024, 11, 20), Decimal('31.0000000000000000'))\n",
      "('AMARGURA', datetime.date(2024, 11, 21), Decimal('30.0000000000000000'))\n",
      "('AMARGURA', datetime.date(2024, 11, 22), Decimal('31.0000000000000000'))\n",
      "('AMARGURA', datetime.date(2024, 11, 23), Decimal('34.3333333333333333'))\n",
      "('AMARGURA', datetime.date(2024, 11, 24), Decimal('37.3333333333333333'))\n",
      "('Ameri', datetime.date(2024, 11, 17), Decimal('40.0000000000000000'))\n",
      "('Ameri', datetime.date(2024, 11, 21), Decimal('44.0000000000000000'))\n",
      "('Ameri', datetime.date(2024, 11, 22), Decimal('48.0000000000000000'))\n",
      "('Amigos Y Enemigos Almighty', datetime.date(2024, 11, 17), Decimal('44.0000000000000000'))\n",
      "('Amigos Y Enemigos Almighty', datetime.date(2024, 11, 18), Decimal('45.0000000000000000'))\n",
      "('Amigos Y Enemigos Almighty', datetime.date(2024, 11, 19), Decimal('43.0000000000000000'))\n",
      "('Amigos Y Enemigos Almighty', datetime.date(2024, 11, 20), Decimal('35.0000000000000000'))\n",
      "('Amigos Y Enemigos Almighty', datetime.date(2024, 11, 21), Decimal('30.0000000000000000'))\n",
      "('Amigos Y Enemigos Almighty', datetime.date(2024, 11, 22), Decimal('30.0000000000000000'))\n",
      "('Amigos Y Enemigos Almighty', datetime.date(2024, 11, 23), Decimal('35.0000000000000000'))\n",
      "('Amigos Y Enemigos Almighty', datetime.date(2024, 11, 24), Decimal('40.0000000000000000'))\n",
      "('AMIRI', datetime.date(2024, 11, 19), Decimal('45.0000000000000000'))\n",
      "('AMIRI', datetime.date(2024, 11, 20), Decimal('44.0000000000000000'))\n",
      "('AMIRI', datetime.date(2024, 11, 21), Decimal('40.0000000000000000'))\n",
      "('AMIRI', datetime.date(2024, 11, 22), Decimal('31.0000000000000000'))\n",
      "('AMIRI', datetime.date(2024, 11, 23), Decimal('24.0000000000000000'))\n",
      "('AMIRI', datetime.date(2024, 11, 24), Decimal('24.0000000000000000'))\n",
      "('Amor de Vago', datetime.date(2024, 11, 17), Decimal('3.0000000000000000'))\n",
      "('Amor de Vago', datetime.date(2024, 11, 18), Decimal('1.00000000000000000000'))\n",
      "('Amor de Vago', datetime.date(2024, 11, 19), Decimal('1.00000000000000000000'))\n",
      "('Amor de Vago', datetime.date(2024, 11, 20), Decimal('1.00000000000000000000'))\n",
      "('Amor de Vago', datetime.date(2024, 11, 21), Decimal('2.0000000000000000'))\n",
      "('Amor de Vago', datetime.date(2024, 11, 22), Decimal('2.0000000000000000'))\n",
      "('Amor de Vago', datetime.date(2024, 11, 23), Decimal('2.0000000000000000'))\n",
      "('Amor de Vago', datetime.date(2024, 11, 24), Decimal('2.0000000000000000'))\n",
      "('Apaga El Cel', datetime.date(2024, 11, 17), Decimal('44.0000000000000000'))\n",
      "('Apaga El Cel', datetime.date(2024, 11, 18), Decimal('36.0000000000000000'))\n",
      "('Apaga El Cel', datetime.date(2024, 11, 19), Decimal('33.0000000000000000'))\n",
      "('Apaga El Cel', datetime.date(2024, 11, 20), Decimal('34.0000000000000000'))\n",
      "('Apaga El Cel', datetime.date(2024, 11, 21), Decimal('37.0000000000000000'))\n",
      "('Apaga El Cel', datetime.date(2024, 11, 22), Decimal('37.0000000000000000'))\n",
      "('Apaga El Cel', datetime.date(2024, 11, 23), Decimal('37.0000000000000000'))\n",
      "('Apaga El Cel', datetime.date(2024, 11, 24), Decimal('36.0000000000000000'))\n",
      "('APAGA EL CEL', datetime.date(2024, 11, 17), Decimal('18.0000000000000000'))\n",
      "('APAGA EL CEL', datetime.date(2024, 11, 18), Decimal('16.0000000000000000'))\n",
      "('APAGA EL CEL', datetime.date(2024, 11, 19), Decimal('17.0000000000000000'))\n",
      "('APAGA EL CEL', datetime.date(2024, 11, 20), Decimal('21.0000000000000000'))\n",
      "('APAGA EL CEL', datetime.date(2024, 11, 21), Decimal('17.0000000000000000'))\n",
      "('APAGA EL CEL', datetime.date(2024, 11, 22), Decimal('17.0000000000000000'))\n",
      "('APAGA EL CEL', datetime.date(2024, 11, 23), Decimal('17.0000000000000000'))\n",
      "('APAGA EL CEL', datetime.date(2024, 11, 24), Decimal('15.0000000000000000'))\n",
      "('APT.', datetime.date(2024, 11, 17), Decimal('35.0000000000000000'))\n",
      "('APT.', datetime.date(2024, 11, 18), Decimal('37.0000000000000000'))\n",
      "('APT.', datetime.date(2024, 11, 19), Decimal('28.3333333333333333'))\n",
      "('APT.', datetime.date(2024, 11, 20), Decimal('30.2500000000000000'))\n",
      "('APT.', datetime.date(2024, 11, 21), Decimal('33.2000000000000000'))\n",
      "('APT.', datetime.date(2024, 11, 22), Decimal('33.4000000000000000'))\n",
      "('APT.', datetime.date(2024, 11, 23), Decimal('32.4000000000000000'))\n",
      "('APT.', datetime.date(2024, 11, 24), Decimal('30.6000000000000000'))\n",
      "('AY MAMÃ\\x81', datetime.date(2024, 11, 17), Decimal('8.0000000000000000'))\n",
      "('AY MAMÃ\\x81', datetime.date(2024, 11, 18), Decimal('7.0000000000000000'))\n",
      "('AY MAMÃ\\x81', datetime.date(2024, 11, 19), Decimal('7.0000000000000000'))\n",
      "('AY MAMÃ\\x81', datetime.date(2024, 11, 20), Decimal('7.0000000000000000'))\n",
      "('AY MAMÃ\\x81', datetime.date(2024, 11, 21), Decimal('7.0000000000000000'))\n",
      "('AY MAMÃ\\x81', datetime.date(2024, 11, 22), Decimal('7.0000000000000000'))\n",
      "('AY MAMÃ\\x81', datetime.date(2024, 11, 23), Decimal('9.0000000000000000'))\n",
      "('AY MAMÃ\\x81', datetime.date(2024, 11, 24), Decimal('10.0000000000000000'))\n",
      "(\"Baja Pa' AcÃ¡\", datetime.date(2024, 11, 17), Decimal('25.0000000000000000'))\n",
      "(\"Baja Pa' AcÃ¡\", datetime.date(2024, 11, 18), Decimal('33.0000000000000000'))\n",
      "(\"Baja Pa' AcÃ¡\", datetime.date(2024, 11, 19), Decimal('44.0000000000000000'))\n",
      "(\"Baja Pa' AcÃ¡\", datetime.date(2024, 11, 20), Decimal('42.0000000000000000'))\n",
      "('BEIA (Jere Klein)', datetime.date(2024, 11, 17), Decimal('47.0000000000000000'))\n",
      "('BEIA (Jere Klein)', datetime.date(2024, 11, 18), Decimal('47.0000000000000000'))\n",
      "('BEIA (Jere Klein)', datetime.date(2024, 11, 19), Decimal('46.0000000000000000'))\n",
      "('BEIA (Jere Klein)', datetime.date(2024, 11, 20), Decimal('48.0000000000000000'))\n",
      "('BELANOVA', datetime.date(2024, 11, 18), Decimal('50.0000000000000000'))\n",
      "('BELANOVA', datetime.date(2024, 11, 22), Decimal('50.0000000000000000'))\n",
      "('BELANOVA', datetime.date(2024, 11, 24), Decimal('43.0000000000000000'))\n",
      "('Belleza De Cantina', datetime.date(2024, 11, 19), Decimal('48.0000000000000000'))\n",
      "('Belleza De Cantina', datetime.date(2024, 11, 20), Decimal('38.0000000000000000'))\n",
      "('Belleza De Cantina', datetime.date(2024, 11, 21), Decimal('43.0000000000000000'))\n",
      "('Belleza De Cantina', datetime.date(2024, 11, 22), Decimal('48.0000000000000000'))\n",
      "('Bentley', datetime.date(2024, 11, 17), Decimal('15.0000000000000000'))\n",
      "('Bentley', datetime.date(2024, 11, 18), Decimal('18.0000000000000000'))\n",
      "('Bentley', datetime.date(2024, 11, 19), Decimal('16.0000000000000000'))\n",
      "('Bentley', datetime.date(2024, 11, 20), Decimal('17.0000000000000000'))\n",
      "('Bentley', datetime.date(2024, 11, 21), Decimal('21.0000000000000000'))\n",
      "('Bentley', datetime.date(2024, 11, 22), Decimal('24.0000000000000000'))\n",
      "('Bentley', datetime.date(2024, 11, 23), Decimal('22.0000000000000000'))\n",
      "('Bentley', datetime.date(2024, 11, 24), Decimal('27.0000000000000000'))\n",
      "('BIRDS OF A FEATHER', datetime.date(2024, 11, 21), Decimal('44.0000000000000000'))\n",
      "('BIRDS OF A FEATHER', datetime.date(2024, 11, 22), Decimal('48.0000000000000000'))\n",
      "('BIRDS OF A FEATHER', datetime.date(2024, 11, 23), Decimal('48.0000000000000000'))\n",
      "('BIRDS OF A FEATHER', datetime.date(2024, 11, 24), Decimal('48.0000000000000000'))\n",
      "('BLANCA ROSITA Y MARIA', datetime.date(2024, 11, 17), Decimal('25.0000000000000000'))\n",
      "('BLANCA ROSITA Y MARIA', datetime.date(2024, 11, 18), Decimal('25.0000000000000000'))\n",
      "('BLANCA ROSITA Y MARIA', datetime.date(2024, 11, 19), Decimal('21.0000000000000000'))\n",
      "('BLANCA ROSITA Y MARIA', datetime.date(2024, 11, 20), Decimal('19.0000000000000000'))\n",
      "('BLANCA ROSITA Y MARIA', datetime.date(2024, 11, 21), Decimal('22.0000000000000000'))\n",
      "('BLANCA ROSITA Y MARIA', datetime.date(2024, 11, 22), Decimal('24.0000000000000000'))\n",
      "('BLANCA ROSITA Y MARIA', datetime.date(2024, 11, 23), Decimal('23.0000000000000000'))\n",
      "('BLANCA ROSITA Y MARIA', datetime.date(2024, 11, 24), Decimal('25.0000000000000000'))\n",
      "('Boomerang', datetime.date(2024, 11, 24), Decimal('42.0000000000000000'))\n",
      "('Borro Cassette', datetime.date(2024, 11, 17), Decimal('38.0000000000000000'))\n",
      "('Borro Cassette', datetime.date(2024, 11, 18), Decimal('28.5000000000000000'))\n",
      "('Borro Cassette', datetime.date(2024, 11, 19), Decimal('32.0000000000000000'))\n",
      "('Borro Cassette', datetime.date(2024, 11, 20), Decimal('39.0000000000000000'))\n",
      "('Borro Cassette', datetime.date(2024, 11, 21), Decimal('39.5000000000000000'))\n",
      "('Borro Cassette', datetime.date(2024, 11, 22), Decimal('30.5000000000000000'))\n",
      "('Borro Cassette', datetime.date(2024, 11, 23), Decimal('31.0000000000000000'))\n",
      "('Borro Cassette', datetime.date(2024, 11, 24), Decimal('32.0000000000000000'))\n",
      "('Brickell', datetime.date(2024, 11, 17), Decimal('35.5000000000000000'))\n",
      "('Brickell', datetime.date(2024, 11, 18), Decimal('37.5000000000000000'))\n",
      "('Brickell', datetime.date(2024, 11, 19), Decimal('37.0000000000000000'))\n",
      "('Brickell', datetime.date(2024, 11, 20), Decimal('33.5000000000000000'))\n",
      "('Brickell', datetime.date(2024, 11, 21), Decimal('30.5000000000000000'))\n",
      "('Brickell', datetime.date(2024, 11, 22), Decimal('36.5000000000000000'))\n",
      "('Brickell', datetime.date(2024, 11, 23), Decimal('38.0000000000000000'))\n",
      "('Brickell', datetime.date(2024, 11, 24), Decimal('44.5000000000000000'))\n",
      "('CASI ALGO', datetime.date(2024, 11, 22), Decimal('48.0000000000000000'))\n",
      "('CASI ALGO', datetime.date(2024, 11, 23), Decimal('43.0000000000000000'))\n",
      "('CASI ALGO', datetime.date(2024, 11, 24), Decimal('46.0000000000000000'))\n",
      "('Cero EmpatÃ\\xada', datetime.date(2024, 11, 17), Decimal('33.0000000000000000'))\n",
      "('Cero EmpatÃ\\xada', datetime.date(2024, 11, 18), Decimal('34.0000000000000000'))\n",
      "('Cero EmpatÃ\\xada', datetime.date(2024, 11, 19), Decimal('34.0000000000000000'))\n",
      "('Cero EmpatÃ\\xada', datetime.date(2024, 11, 20), Decimal('35.0000000000000000'))\n",
      "('Cero EmpatÃ\\xada', datetime.date(2024, 11, 21), Decimal('36.0000000000000000'))\n",
      "('Cero EmpatÃ\\xada', datetime.date(2024, 11, 22), Decimal('38.0000000000000000'))\n",
      "('Cero EmpatÃ\\xada', datetime.date(2024, 11, 23), Decimal('43.0000000000000000'))\n",
      "('Cero EmpatÃ\\xada', datetime.date(2024, 11, 24), Decimal('50.0000000000000000'))\n",
      "('CHIKA MALA', datetime.date(2024, 11, 17), Decimal('8.0000000000000000'))\n",
      "('CHIKA MALA', datetime.date(2024, 11, 18), Decimal('9.0000000000000000'))\n",
      "('CHIKA MALA', datetime.date(2024, 11, 19), Decimal('9.0000000000000000'))\n",
      "('CHIKA MALA', datetime.date(2024, 11, 20), Decimal('12.0000000000000000'))\n",
      "('CHIKA MALA', datetime.date(2024, 11, 21), Decimal('10.0000000000000000'))\n",
      "('CHIKA MALA', datetime.date(2024, 11, 22), Decimal('12.0000000000000000'))\n",
      "('CHIKA MALA', datetime.date(2024, 11, 23), Decimal('11.0000000000000000'))\n",
      "('CHIKA MALA', datetime.date(2024, 11, 24), Decimal('12.0000000000000000'))\n",
      "('CHINGON', datetime.date(2024, 11, 17), Decimal('25.0000000000000000'))\n",
      "('CHINGON', datetime.date(2024, 11, 18), Decimal('25.0000000000000000'))\n",
      "('CHINGON', datetime.date(2024, 11, 19), Decimal('18.0000000000000000'))\n",
      "('CHINGON', datetime.date(2024, 11, 20), Decimal('26.0000000000000000'))\n",
      "('CHINGON', datetime.date(2024, 11, 21), Decimal('27.0000000000000000'))\n",
      "('CHINGON', datetime.date(2024, 11, 22), Decimal('29.0000000000000000'))\n",
      "('CHINGON', datetime.date(2024, 11, 23), Decimal('30.0000000000000000'))\n",
      "('CHINGON', datetime.date(2024, 11, 24), Decimal('30.0000000000000000'))\n",
      "('Chismofilia', datetime.date(2024, 11, 19), Decimal('47.0000000000000000'))\n",
      "('Cine ðŸš¬', datetime.date(2024, 11, 17), Decimal('39.0000000000000000'))\n",
      "('Cine ðŸš¬', datetime.date(2024, 11, 21), Decimal('47.0000000000000000'))\n",
      "('Cine ðŸš¬', datetime.date(2024, 11, 22), Decimal('49.0000000000000000'))\n",
      "('CLASSY 101', datetime.date(2024, 11, 20), Decimal('49.0000000000000000'))\n",
      "('CLASSY 101', datetime.date(2024, 11, 21), Decimal('35.0000000000000000'))\n",
      "('CLASSY 101', datetime.date(2024, 11, 22), Decimal('41.0000000000000000'))\n",
      "('CLASSY 101', datetime.date(2024, 11, 23), Decimal('44.0000000000000000'))\n",
      "('COLOCARTELO', datetime.date(2024, 11, 17), Decimal('49.0000000000000000'))\n",
      "('COLOCARTELO', datetime.date(2024, 11, 19), Decimal('45.0000000000000000'))\n",
      "('COLOCARTELO', datetime.date(2024, 11, 20), Decimal('45.0000000000000000'))\n",
      "('COLOCARTELO', datetime.date(2024, 11, 21), Decimal('38.0000000000000000'))\n",
      "('COLOCARTELO', datetime.date(2024, 11, 22), Decimal('38.0000000000000000'))\n",
      "('COLOCARTELO', datetime.date(2024, 11, 23), Decimal('34.0000000000000000'))\n",
      "('COLOCARTELO', datetime.date(2024, 11, 24), Decimal('31.0000000000000000'))\n",
      "('Committed', datetime.date(2024, 11, 17), Decimal('29.6666666666666667'))\n",
      "('Committed', datetime.date(2024, 11, 18), Decimal('36.5000000000000000'))\n",
      "('Committed', datetime.date(2024, 11, 19), Decimal('33.0000000000000000'))\n",
      "('Committed', datetime.date(2024, 11, 20), Decimal('30.0000000000000000'))\n",
      "('Committed', datetime.date(2024, 11, 21), Decimal('37.0000000000000000'))\n",
      "('Committed', datetime.date(2024, 11, 22), Decimal('35.0000000000000000'))\n",
      "('Committed', datetime.date(2024, 11, 23), Decimal('44.0000000000000000'))\n",
      "('Committed', datetime.date(2024, 11, 24), Decimal('49.0000000000000000'))\n",
      "('Como Eran Las Cosas', datetime.date(2024, 11, 21), Decimal('41.0000000000000000'))\n",
      "('Como Eran Las Cosas', datetime.date(2024, 11, 22), Decimal('44.0000000000000000'))\n",
      "('Como Eran Las Cosas', datetime.date(2024, 11, 23), Decimal('43.0000000000000000'))\n",
      "('Conmigo Te GustÃ³', datetime.date(2024, 11, 17), Decimal('19.0000000000000000'))\n",
      "('Conmigo Te GustÃ³', datetime.date(2024, 11, 18), Decimal('16.0000000000000000'))\n",
      "('Conmigo Te GustÃ³', datetime.date(2024, 11, 19), Decimal('14.0000000000000000'))\n",
      "('Conmigo Te GustÃ³', datetime.date(2024, 11, 20), Decimal('20.0000000000000000'))\n",
      "('Conmigo Te GustÃ³', datetime.date(2024, 11, 21), Decimal('31.0000000000000000'))\n",
      "('Conmigo Te GustÃ³', datetime.date(2024, 11, 22), Decimal('39.0000000000000000'))\n",
      "('Conmigo Te GustÃ³', datetime.date(2024, 11, 23), Decimal('40.0000000000000000'))\n",
      "('Conmigo Te GustÃ³', datetime.date(2024, 11, 24), Decimal('24.0000000000000000'))\n",
      "('Contentoso', datetime.date(2024, 11, 19), Decimal('50.0000000000000000'))\n",
      "('Coqueta', datetime.date(2024, 11, 19), Decimal('48.0000000000000000'))\n",
      "('CORAZÃ“N VACÃ\\x8dO', datetime.date(2024, 11, 18), Decimal('40.0000000000000000'))\n",
      "('CORAZÃ“N VACÃ\\x8dO', datetime.date(2024, 11, 22), Decimal('46.0000000000000000'))\n",
      "('CORAZÃ“N VACÃ\\x8dO', datetime.date(2024, 11, 23), Decimal('47.0000000000000000'))\n",
      "('CORAZÃ“N VACÃ\\x8dO', datetime.date(2024, 11, 24), Decimal('39.0000000000000000'))\n",
      "('Cosa Linda', datetime.date(2024, 11, 17), Decimal('12.0000000000000000'))\n",
      "('Cosa Linda', datetime.date(2024, 11, 18), Decimal('10.0000000000000000'))\n",
      "('Cosa Linda', datetime.date(2024, 11, 19), Decimal('10.0000000000000000'))\n",
      "('Cosa Linda', datetime.date(2024, 11, 20), Decimal('9.0000000000000000'))\n",
      "('Cosa Linda', datetime.date(2024, 11, 21), Decimal('9.0000000000000000'))\n",
      "('Cosa Linda', datetime.date(2024, 11, 22), Decimal('7.0000000000000000'))\n",
      "('Cosa Linda', datetime.date(2024, 11, 23), Decimal('6.0000000000000000'))\n",
      "('Cosa Linda', datetime.date(2024, 11, 24), Decimal('3.0000000000000000'))\n",
      "('Cosa Nuestra', datetime.date(2024, 11, 17), Decimal('22.0000000000000000'))\n",
      "('Cosa Nuestra', datetime.date(2024, 11, 18), Decimal('37.0000000000000000'))\n",
      "('Cosa Nuestra', datetime.date(2024, 11, 19), Decimal('41.0000000000000000'))\n",
      "('Cosa Nuestra', datetime.date(2024, 11, 20), Decimal('38.0000000000000000'))\n",
      "('Cosa Nuestra', datetime.date(2024, 11, 21), Decimal('49.0000000000000000'))\n",
      "('Cosa Nuestra', datetime.date(2024, 11, 22), Decimal('49.0000000000000000'))\n",
      "('Cosas Pendientes', datetime.date(2024, 11, 24), Decimal('14.6666666666666667'))\n",
      "('CUAL ES ESA', datetime.date(2024, 11, 17), Decimal('28.0000000000000000'))\n",
      "('CUAL ES ESA', datetime.date(2024, 11, 18), Decimal('37.0000000000000000'))\n",
      "('CUAL ES ESA', datetime.date(2024, 11, 19), Decimal('39.0000000000000000'))\n",
      "('CUAL ES ESA', datetime.date(2024, 11, 20), Decimal('33.0000000000000000'))\n",
      "('CUAL ES ESA', datetime.date(2024, 11, 21), Decimal('32.0000000000000000'))\n",
      "('CUAL ES ESA', datetime.date(2024, 11, 22), Decimal('37.0000000000000000'))\n",
      "('CUAL ES ESA', datetime.date(2024, 11, 23), Decimal('39.0000000000000000'))\n",
      "('CUAL ES ESA', datetime.date(2024, 11, 24), Decimal('36.0000000000000000'))\n",
      "('Cuando Te Vi | CROSSOVER #5', datetime.date(2024, 11, 17), Decimal('23.0000000000000000'))\n",
      "('Cuando Te Vi | CROSSOVER #5', datetime.date(2024, 11, 18), Decimal('26.0000000000000000'))\n",
      "('Cuando Te Vi | CROSSOVER #5', datetime.date(2024, 11, 19), Decimal('28.0000000000000000'))\n",
      "('Cuando Te Vi | CROSSOVER #5', datetime.date(2024, 11, 20), Decimal('27.0000000000000000'))\n",
      "('Cuando Te Vi | CROSSOVER #5', datetime.date(2024, 11, 21), Decimal('24.0000000000000000'))\n",
      "('Cuando Te Vi | CROSSOVER #5', datetime.date(2024, 11, 22), Decimal('27.0000000000000000'))\n",
      "('Cuando Te Vi | CROSSOVER #5', datetime.date(2024, 11, 23), Decimal('27.0000000000000000'))\n",
      "('Cuando Te Vi | CROSSOVER #5', datetime.date(2024, 11, 24), Decimal('27.0000000000000000'))\n",
      "('Cupido', datetime.date(2024, 11, 17), Decimal('31.0000000000000000'))\n",
      "('Cupido', datetime.date(2024, 11, 18), Decimal('36.5000000000000000'))\n",
      "('Cupido', datetime.date(2024, 11, 19), Decimal('17.0000000000000000'))\n",
      "('Cupido', datetime.date(2024, 11, 20), Decimal('25.0000000000000000'))\n",
      "('Cupido', datetime.date(2024, 11, 21), Decimal('21.0000000000000000'))\n",
      "('Cupido', datetime.date(2024, 11, 22), Decimal('24.0000000000000000'))\n",
      "('Cupido', datetime.date(2024, 11, 23), Decimal('23.0000000000000000'))\n",
      "('Cupido', datetime.date(2024, 11, 24), Decimal('26.0000000000000000'))\n",
      "('DÃ©jame Entrar', datetime.date(2024, 11, 17), Decimal('23.3333333333333333'))\n",
      "('DÃ©jame Entrar', datetime.date(2024, 11, 18), Decimal('30.0000000000000000'))\n",
      "('DÃ©jame Entrar', datetime.date(2024, 11, 19), Decimal('42.0000000000000000'))\n",
      "('DÃ©jame Entrar', datetime.date(2024, 11, 20), Decimal('41.5000000000000000'))\n",
      "('DÃ©jame Entrar', datetime.date(2024, 11, 21), Decimal('35.0000000000000000'))\n",
      "('DÃ©jame Entrar', datetime.date(2024, 11, 22), Decimal('36.0000000000000000'))\n",
      "('DÃ©jame Entrar', datetime.date(2024, 11, 23), Decimal('41.0000000000000000'))\n",
      "('DÃ©jame Entrar', datetime.date(2024, 11, 24), Decimal('47.0000000000000000'))\n",
      "('DÃ©jame Pensar', datetime.date(2024, 11, 17), Decimal('13.0000000000000000'))\n",
      "('DÃ©jame Pensar', datetime.date(2024, 11, 18), Decimal('14.0000000000000000'))\n",
      "('DÃ©jame Pensar', datetime.date(2024, 11, 19), Decimal('13.0000000000000000'))\n",
      "('DÃ©jame Pensar', datetime.date(2024, 11, 20), Decimal('14.0000000000000000'))\n",
      "('DÃ©jame Pensar', datetime.date(2024, 11, 21), Decimal('14.0000000000000000'))\n",
      "('DÃ©jame Pensar', datetime.date(2024, 11, 22), Decimal('15.0000000000000000'))\n",
      "('DÃ©jame Pensar', datetime.date(2024, 11, 23), Decimal('16.0000000000000000'))\n",
      "('DÃ©jame Pensar', datetime.date(2024, 11, 24), Decimal('18.0000000000000000'))\n",
      "('Daytona', datetime.date(2024, 11, 17), Decimal('31.0000000000000000'))\n",
      "('Daytona', datetime.date(2024, 11, 18), Decimal('36.0000000000000000'))\n",
      "('Daytona', datetime.date(2024, 11, 19), Decimal('38.0000000000000000'))\n",
      "('Daytona', datetime.date(2024, 11, 20), Decimal('36.0000000000000000'))\n",
      "('Daytona', datetime.date(2024, 11, 21), Decimal('35.0000000000000000'))\n",
      "('Daytona', datetime.date(2024, 11, 22), Decimal('36.0000000000000000'))\n",
      "('Daytona', datetime.date(2024, 11, 23), Decimal('34.0000000000000000'))\n",
      "('Daytona', datetime.date(2024, 11, 24), Decimal('33.0000000000000000'))\n",
      "('DEGENERE ðŸ‘‘ (feat. benny blanco)', datetime.date(2024, 11, 17), Decimal('11.8000000000000000'))\n",
      "('DEGENERE ðŸ‘‘ (feat. benny blanco)', datetime.date(2024, 11, 18), Decimal('11.8000000000000000'))\n",
      "('DEGENERE ðŸ‘‘ (feat. benny blanco)', datetime.date(2024, 11, 19), Decimal('10.6000000000000000'))\n",
      "('DEGENERE ðŸ‘‘ (feat. benny blanco)', datetime.date(2024, 11, 20), Decimal('11.4000000000000000'))\n",
      "('DEGENERE ðŸ‘‘ (feat. benny blanco)', datetime.date(2024, 11, 21), Decimal('11.0000000000000000'))\n",
      "('DEGENERE ðŸ‘‘ (feat. benny blanco)', datetime.date(2024, 11, 22), Decimal('11.6000000000000000'))\n",
      "('DEGENERE ðŸ‘‘ (feat. benny blanco)', datetime.date(2024, 11, 23), Decimal('12.4000000000000000'))\n",
      "('DEGENERE ðŸ‘‘ (feat. benny blanco)', datetime.date(2024, 11, 24), Decimal('12.6000000000000000'))\n",
      "('DEPORTIVO', datetime.date(2024, 11, 17), Decimal('13.0000000000000000'))\n",
      "('DEPORTIVO', datetime.date(2024, 11, 18), Decimal('14.0000000000000000'))\n",
      "('DEPORTIVO', datetime.date(2024, 11, 19), Decimal('25.5000000000000000'))\n",
      "('DEPORTIVO', datetime.date(2024, 11, 20), Decimal('29.5000000000000000'))\n",
      "('DEPORTIVO', datetime.date(2024, 11, 21), Decimal('26.2500000000000000'))\n",
      "('DEPORTIVO', datetime.date(2024, 11, 22), Decimal('19.2500000000000000'))\n",
      "('DEPORTIVO', datetime.date(2024, 11, 23), Decimal('15.5000000000000000'))\n",
      "('DEPORTIVO', datetime.date(2024, 11, 24), Decimal('15.0000000000000000'))\n",
      "('DespÃ³jate Vol.2', datetime.date(2024, 11, 17), Decimal('28.0000000000000000'))\n",
      "('DespÃ³jate Vol.2', datetime.date(2024, 11, 18), Decimal('24.0000000000000000'))\n",
      "('DespÃ³jate Vol.2', datetime.date(2024, 11, 19), Decimal('24.0000000000000000'))\n",
      "('DespÃ³jate Vol.2', datetime.date(2024, 11, 20), Decimal('26.0000000000000000'))\n",
      "('DespÃ³jate Vol.2', datetime.date(2024, 11, 21), Decimal('23.0000000000000000'))\n",
      "('DespÃ³jate Vol.2', datetime.date(2024, 11, 22), Decimal('23.0000000000000000'))\n",
      "('DespÃ³jate Vol.2', datetime.date(2024, 11, 23), Decimal('22.0000000000000000'))\n",
      "('DespÃ³jate Vol.2', datetime.date(2024, 11, 24), Decimal('23.0000000000000000'))\n",
      "('DespuÃ©s De La 1', datetime.date(2024, 11, 17), Decimal('22.5000000000000000'))\n",
      "('DespuÃ©s De La 1', datetime.date(2024, 11, 18), Decimal('2.0000000000000000'))\n",
      "('DespuÃ©s De La 1', datetime.date(2024, 11, 19), Decimal('2.0000000000000000'))\n",
      "('DespuÃ©s De La 1', datetime.date(2024, 11, 20), Decimal('26.0000000000000000'))\n",
      "('DespuÃ©s De La 1', datetime.date(2024, 11, 21), Decimal('2.0000000000000000'))\n",
      "('DespuÃ©s De La 1', datetime.date(2024, 11, 22), Decimal('2.0000000000000000'))\n",
      "('DespuÃ©s De La 1', datetime.date(2024, 11, 23), Decimal('26.0000000000000000'))\n",
      "('DespuÃ©s De La 1', datetime.date(2024, 11, 24), Decimal('24.0000000000000000'))\n",
      "('Die With A Smile', datetime.date(2024, 11, 17), Decimal('28.8333333333333333'))\n",
      "('Die With A Smile', datetime.date(2024, 11, 18), Decimal('26.4000000000000000'))\n",
      "('Die With A Smile', datetime.date(2024, 11, 19), Decimal('26.0000000000000000'))\n",
      "('Die With A Smile', datetime.date(2024, 11, 20), Decimal('22.4000000000000000'))\n",
      "('Die With A Smile', datetime.date(2024, 11, 21), Decimal('25.8333333333333333'))\n",
      "('Die With A Smile', datetime.date(2024, 11, 22), Decimal('25.1666666666666667'))\n",
      "('Die With A Smile', datetime.date(2024, 11, 23), Decimal('24.6666666666666667'))\n",
      "('Die With A Smile', datetime.date(2024, 11, 24), Decimal('28.3333333333333333'))\n",
      "('Dile a Tu Amiga', datetime.date(2024, 11, 17), Decimal('35.0000000000000000'))\n",
      "('Dile a Tu Amiga', datetime.date(2024, 11, 18), Decimal('33.0000000000000000'))\n",
      "('Dile a Tu Amiga', datetime.date(2024, 11, 19), Decimal('36.0000000000000000'))\n",
      "('Dile a Tu Amiga', datetime.date(2024, 11, 20), Decimal('35.0000000000000000'))\n",
      "('Dile a Tu Amiga', datetime.date(2024, 11, 21), Decimal('31.0000000000000000'))\n",
      "('Dile a Tu Amiga', datetime.date(2024, 11, 22), Decimal('27.0000000000000000'))\n",
      "('Dile a Tu Amiga', datetime.date(2024, 11, 23), Decimal('26.0000000000000000'))\n",
      "('Dile a Tu Amiga', datetime.date(2024, 11, 24), Decimal('29.0000000000000000'))\n",
      "('Dimelo Mami', datetime.date(2024, 11, 17), Decimal('22.0000000000000000'))\n",
      "('Dimelo Mami', datetime.date(2024, 11, 18), Decimal('27.0000000000000000'))\n",
      "('Dimelo Mami', datetime.date(2024, 11, 19), Decimal('26.0000000000000000'))\n",
      "('Dimelo Mami', datetime.date(2024, 11, 20), Decimal('28.0000000000000000'))\n",
      "('Dimelo Mami', datetime.date(2024, 11, 21), Decimal('27.0000000000000000'))\n",
      "('Dimelo Mami', datetime.date(2024, 11, 22), Decimal('21.0000000000000000'))\n",
      "('Dimelo Mami', datetime.date(2024, 11, 23), Decimal('21.0000000000000000'))\n",
      "('Dimelo Mami', datetime.date(2024, 11, 24), Decimal('22.0000000000000000'))\n",
      "('DoblexxÃ³', datetime.date(2024, 11, 17), Decimal('33.0000000000000000'))\n",
      "('DoblexxÃ³', datetime.date(2024, 11, 18), Decimal('35.0000000000000000'))\n",
      "('DoblexxÃ³', datetime.date(2024, 11, 19), Decimal('38.5000000000000000'))\n",
      "('DoblexxÃ³', datetime.date(2024, 11, 20), Decimal('36.0000000000000000'))\n",
      "('DoblexxÃ³', datetime.date(2024, 11, 21), Decimal('35.5000000000000000'))\n",
      "('DoblexxÃ³', datetime.date(2024, 11, 22), Decimal('39.0000000000000000'))\n",
      "('DoblexxÃ³', datetime.date(2024, 11, 23), Decimal('38.0000000000000000'))\n",
      "('DoblexxÃ³', datetime.date(2024, 11, 24), Decimal('40.5000000000000000'))\n",
      "('DOCTOR', datetime.date(2024, 11, 17), Decimal('14.0000000000000000'))\n",
      "('DOCTOR', datetime.date(2024, 11, 18), Decimal('17.0000000000000000'))\n",
      "('DOCTOR', datetime.date(2024, 11, 19), Decimal('17.0000000000000000'))\n",
      "('DOCTOR', datetime.date(2024, 11, 20), Decimal('14.0000000000000000'))\n",
      "('DOCTOR', datetime.date(2024, 11, 21), Decimal('15.0000000000000000'))\n",
      "('DOCTOR', datetime.date(2024, 11, 22), Decimal('15.0000000000000000'))\n",
      "('DOCTOR', datetime.date(2024, 11, 23), Decimal('14.0000000000000000'))\n",
      "('DOCTOR', datetime.date(2024, 11, 24), Decimal('15.0000000000000000'))\n",
      "('DOS DÃ\\x8dAS', datetime.date(2024, 11, 17), Decimal('3.0000000000000000'))\n",
      "('DOS DÃ\\x8dAS', datetime.date(2024, 11, 18), Decimal('4.0000000000000000'))\n",
      "('DOS DÃ\\x8dAS', datetime.date(2024, 11, 19), Decimal('4.0000000000000000'))\n",
      "('DOS DÃ\\x8dAS', datetime.date(2024, 11, 20), Decimal('3.0000000000000000'))\n",
      "('DOS DÃ\\x8dAS', datetime.date(2024, 11, 21), Decimal('4.0000000000000000'))\n",
      "('DOS DÃ\\x8dAS', datetime.date(2024, 11, 22), Decimal('4.0000000000000000'))\n",
      "('DOS DÃ\\x8dAS', datetime.date(2024, 11, 23), Decimal('4.0000000000000000'))\n",
      "('DOS DÃ\\x8dAS', datetime.date(2024, 11, 24), Decimal('4.0000000000000000'))\n",
      "('DUELE', datetime.date(2024, 11, 17), Decimal('34.0000000000000000'))\n",
      "('DUELE', datetime.date(2024, 11, 19), Decimal('49.0000000000000000'))\n",
      "('DUELE', datetime.date(2024, 11, 20), Decimal('42.0000000000000000'))\n",
      "('DUELE', datetime.date(2024, 11, 21), Decimal('26.0000000000000000'))\n",
      "('DUELE', datetime.date(2024, 11, 22), Decimal('26.0000000000000000'))\n",
      "('DUELE', datetime.date(2024, 11, 23), Decimal('26.0000000000000000'))\n",
      "('DUELE', datetime.date(2024, 11, 24), Decimal('37.0000000000000000'))\n",
      "('EL AMOR DE SU VIDA', datetime.date(2024, 11, 17), Decimal('33.0000000000000000'))\n",
      "('EL AMOR DE SU VIDA', datetime.date(2024, 11, 18), Decimal('30.6666666666666667'))\n",
      "('EL AMOR DE SU VIDA', datetime.date(2024, 11, 19), Decimal('27.6666666666666667'))\n",
      "('EL AMOR DE SU VIDA', datetime.date(2024, 11, 20), Decimal('28.6666666666666667'))\n",
      "('EL AMOR DE SU VIDA', datetime.date(2024, 11, 21), Decimal('28.6666666666666667'))\n",
      "('EL AMOR DE SU VIDA', datetime.date(2024, 11, 22), Decimal('21.5000000000000000'))\n",
      "('EL AMOR DE SU VIDA', datetime.date(2024, 11, 23), Decimal('22.5000000000000000'))\n",
      "('EL AMOR DE SU VIDA', datetime.date(2024, 11, 24), Decimal('25.0000000000000000'))\n",
      "('El Doctorado', datetime.date(2024, 11, 18), Decimal('49.0000000000000000'))\n",
      "('El Final De Nuestra Historia', datetime.date(2024, 11, 18), Decimal('44.0000000000000000'))\n",
      "('El Final De Nuestra Historia', datetime.date(2024, 11, 19), Decimal('42.0000000000000000'))\n",
      "('El Final De Nuestra Historia', datetime.date(2024, 11, 20), Decimal('50.0000000000000000'))\n",
      "('EL LOKERON', datetime.date(2024, 11, 17), Decimal('2.0000000000000000'))\n",
      "('EL LOKERON', datetime.date(2024, 11, 18), Decimal('2.0000000000000000'))\n",
      "('EL LOKERON', datetime.date(2024, 11, 19), Decimal('2.0000000000000000'))\n",
      "('EL LOKERON', datetime.date(2024, 11, 20), Decimal('2.0000000000000000'))\n",
      "('EL LOKERON', datetime.date(2024, 11, 21), Decimal('2.0000000000000000'))\n",
      "('EL LOKERON', datetime.date(2024, 11, 22), Decimal('2.0000000000000000'))\n",
      "('EL LOKERON', datetime.date(2024, 11, 23), Decimal('3.0000000000000000'))\n",
      "('EL LOKERON', datetime.date(2024, 11, 24), Decimal('3.0000000000000000'))\n",
      "('El Perdedor', datetime.date(2024, 11, 17), Decimal('38.0000000000000000'))\n",
      "('El Perdedor', datetime.date(2024, 11, 18), Decimal('41.0000000000000000'))\n",
      "('El Perdedor', datetime.date(2024, 11, 19), Decimal('42.0000000000000000'))\n",
      "('El Perdedor', datetime.date(2024, 11, 20), Decimal('37.0000000000000000'))\n",
      "('El Perdedor', datetime.date(2024, 11, 21), Decimal('45.0000000000000000'))\n",
      "('El Perdedor', datetime.date(2024, 11, 22), Decimal('45.0000000000000000'))\n",
      "('El Perdedor', datetime.date(2024, 11, 23), Decimal('48.0000000000000000'))\n",
      "('El Perdedor', datetime.date(2024, 11, 24), Decimal('48.0000000000000000'))\n",
      "('El Precio De La Soledad', datetime.date(2024, 11, 19), Decimal('50.0000000000000000'))\n",
      "('El Precio De La Soledad', datetime.date(2024, 11, 20), Decimal('39.0000000000000000'))\n",
      "('El Precio De La Soledad', datetime.date(2024, 11, 21), Decimal('39.0000000000000000'))\n",
      "('EN MI MUNDO', datetime.date(2024, 11, 17), Decimal('48.0000000000000000'))\n",
      "('EN MI MUNDO', datetime.date(2024, 11, 22), Decimal('49.0000000000000000'))\n",
      "('EN MI MUNDO', datetime.date(2024, 11, 23), Decimal('49.0000000000000000'))\n",
      "('En Otra Vida', datetime.date(2024, 11, 17), Decimal('40.0000000000000000'))\n",
      "('En Otra Vida', datetime.date(2024, 11, 18), Decimal('39.0000000000000000'))\n",
      "('En Otra Vida', datetime.date(2024, 11, 19), Decimal('35.0000000000000000'))\n",
      "('En Otra Vida', datetime.date(2024, 11, 20), Decimal('39.0000000000000000'))\n",
      "('En Otra Vida', datetime.date(2024, 11, 21), Decimal('41.5000000000000000'))\n",
      "('En Otra Vida', datetime.date(2024, 11, 22), Decimal('45.0000000000000000'))\n",
      "('En Otra Vida', datetime.date(2024, 11, 23), Decimal('42.6666666666666667'))\n",
      "('En Otra Vida', datetime.date(2024, 11, 24), Decimal('39.0000000000000000'))\n",
      "('Es un Secreto', datetime.date(2024, 11, 17), Decimal('37.3333333333333333'))\n",
      "('Es un Secreto', datetime.date(2024, 11, 18), Decimal('35.3333333333333333'))\n",
      "('Es un Secreto', datetime.date(2024, 11, 19), Decimal('38.0000000000000000'))\n",
      "('Es un Secreto', datetime.date(2024, 11, 20), Decimal('23.0000000000000000'))\n",
      "('Es un Secreto', datetime.date(2024, 11, 21), Decimal('38.6666666666666667'))\n",
      "('Es un Secreto', datetime.date(2024, 11, 22), Decimal('34.0000000000000000'))\n",
      "('Es un Secreto', datetime.date(2024, 11, 23), Decimal('27.5000000000000000'))\n",
      "('Es un Secreto', datetime.date(2024, 11, 24), Decimal('28.0000000000000000'))\n",
      "('Es Un Secreto', datetime.date(2024, 11, 20), Decimal('45.0000000000000000'))\n",
      "('Es Un Secreto', datetime.date(2024, 11, 23), Decimal('40.0000000000000000'))\n",
      "('Es Un Secreto', datetime.date(2024, 11, 24), Decimal('44.0000000000000000'))\n",
      "('ESCAPATE', datetime.date(2024, 11, 17), Decimal('5.0000000000000000'))\n",
      "('ESCAPATE', datetime.date(2024, 11, 18), Decimal('5.0000000000000000'))\n",
      "('ESCAPATE', datetime.date(2024, 11, 19), Decimal('5.0000000000000000'))\n",
      "('ESCAPATE', datetime.date(2024, 11, 20), Decimal('5.0000000000000000'))\n",
      "('ESCAPATE', datetime.date(2024, 11, 21), Decimal('5.0000000000000000'))\n",
      "('ESCAPATE', datetime.date(2024, 11, 22), Decimal('5.0000000000000000'))\n",
      "('ESCAPATE', datetime.date(2024, 11, 23), Decimal('5.0000000000000000'))\n",
      "('ESCAPATE', datetime.date(2024, 11, 24), Decimal('6.0000000000000000'))\n",
      "('Ese Maldito Momento', datetime.date(2024, 11, 17), Decimal('46.0000000000000000'))\n",
      "('Ese Maldito Momento', datetime.date(2024, 11, 21), Decimal('45.0000000000000000'))\n",
      "('Ese Maldito Momento', datetime.date(2024, 11, 22), Decimal('33.0000000000000000'))\n",
      "('Ese Maldito Momento', datetime.date(2024, 11, 23), Decimal('32.0000000000000000'))\n",
      "('Ese Maldito Momento', datetime.date(2024, 11, 24), Decimal('42.0000000000000000'))\n",
      "('Ese Vato No Te Queda', datetime.date(2024, 11, 23), Decimal('48.0000000000000000'))\n",
      "('Espresso Martini', datetime.date(2024, 11, 17), Decimal('27.0000000000000000'))\n",
      "('Espresso Martini', datetime.date(2024, 11, 18), Decimal('31.5000000000000000'))\n",
      "('Espresso Martini', datetime.date(2024, 11, 19), Decimal('23.0000000000000000'))\n",
      "('Espresso Martini', datetime.date(2024, 11, 20), Decimal('26.0000000000000000'))\n",
      "('Espresso Martini', datetime.date(2024, 11, 21), Decimal('31.0000000000000000'))\n",
      "('Espresso Martini', datetime.date(2024, 11, 22), Decimal('29.0000000000000000'))\n",
      "('Espresso Martini', datetime.date(2024, 11, 23), Decimal('33.0000000000000000'))\n",
      "('Espresso Martini', datetime.date(2024, 11, 24), Decimal('36.0000000000000000'))\n",
      "('FDSR', datetime.date(2024, 11, 17), Decimal('11.0000000000000000'))\n",
      "('FDSR', datetime.date(2024, 11, 18), Decimal('10.0000000000000000'))\n",
      "('FDSR', datetime.date(2024, 11, 19), Decimal('11.0000000000000000'))\n",
      "('FDSR', datetime.date(2024, 11, 20), Decimal('10.0000000000000000'))\n",
      "('FDSR', datetime.date(2024, 11, 21), Decimal('8.0000000000000000'))\n",
      "('FDSR', datetime.date(2024, 11, 22), Decimal('9.0000000000000000'))\n",
      "('FDSR', datetime.date(2024, 11, 23), Decimal('9.0000000000000000'))\n",
      "('FDSR', datetime.date(2024, 11, 24), Decimal('7.0000000000000000'))\n",
      "('Feliz CumpleaÃ±os Ferxxo', datetime.date(2024, 11, 17), Decimal('26.0000000000000000'))\n",
      "('Feliz CumpleaÃ±os Ferxxo', datetime.date(2024, 11, 18), Decimal('26.0000000000000000'))\n",
      "('Feliz CumpleaÃ±os Ferxxo', datetime.date(2024, 11, 19), Decimal('23.0000000000000000'))\n",
      "('Feliz CumpleaÃ±os Ferxxo', datetime.date(2024, 11, 20), Decimal('32.6666666666666667'))\n",
      "('Feliz CumpleaÃ±os Ferxxo', datetime.date(2024, 11, 21), Decimal('30.0000000000000000'))\n",
      "('Feliz CumpleaÃ±os Ferxxo', datetime.date(2024, 11, 22), Decimal('30.0000000000000000'))\n",
      "('Feliz CumpleaÃ±os Ferxxo', datetime.date(2024, 11, 23), Decimal('28.6666666666666667'))\n",
      "('Feliz CumpleaÃ±os Ferxxo', datetime.date(2024, 11, 24), Decimal('30.0000000000000000'))\n",
      "('Ferxxo 100', datetime.date(2024, 11, 21), Decimal('50.0000000000000000'))\n",
      "('Ferxxo 100', datetime.date(2024, 11, 22), Decimal('48.0000000000000000'))\n",
      "('Ferxxo 100', datetime.date(2024, 11, 23), Decimal('45.0000000000000000'))\n",
      "('Ferxxo 100', datetime.date(2024, 11, 24), Decimal('50.0000000000000000'))\n",
      "('FLECHAZO EN EL CENTRO', datetime.date(2024, 11, 17), Decimal('25.0000000000000000'))\n",
      "('FLECHAZO EN EL CENTRO', datetime.date(2024, 11, 18), Decimal('33.0000000000000000'))\n",
      "('FLECHAZO EN EL CENTRO', datetime.date(2024, 11, 19), Decimal('29.0000000000000000'))\n",
      "('FLECHAZO EN EL CENTRO', datetime.date(2024, 11, 20), Decimal('30.0000000000000000'))\n",
      "('FLECHAZO EN EL CENTRO', datetime.date(2024, 11, 21), Decimal('22.0000000000000000'))\n",
      "('FLECHAZO EN EL CENTRO', datetime.date(2024, 11, 22), Decimal('22.0000000000000000'))\n",
      "('FLECHAZO EN EL CENTRO', datetime.date(2024, 11, 23), Decimal('24.0000000000000000'))\n",
      "('FLECHAZO EN EL CENTRO', datetime.date(2024, 11, 24), Decimal('28.0000000000000000'))\n",
      "('Frente al Mar', datetime.date(2024, 11, 17), Decimal('22.0000000000000000'))\n",
      "('Frente al Mar', datetime.date(2024, 11, 18), Decimal('16.5000000000000000'))\n",
      "('Frente al Mar', datetime.date(2024, 11, 19), Decimal('16.0000000000000000'))\n",
      "('Frente al Mar', datetime.date(2024, 11, 20), Decimal('15.0000000000000000'))\n",
      "('Frente al Mar', datetime.date(2024, 11, 21), Decimal('14.0000000000000000'))\n",
      "('Frente al Mar', datetime.date(2024, 11, 22), Decimal('15.0000000000000000'))\n",
      "('Frente al Mar', datetime.date(2024, 11, 23), Decimal('16.0000000000000000'))\n",
      "('Frente al Mar', datetime.date(2024, 11, 24), Decimal('18.5000000000000000'))\n",
      "('Gata Oficial', datetime.date(2024, 11, 21), Decimal('50.0000000000000000'))\n",
      "('Gata Only', datetime.date(2024, 11, 17), Decimal('39.0000000000000000'))\n",
      "('Gata Only', datetime.date(2024, 11, 18), Decimal('35.0000000000000000'))\n",
      "('Gata Only', datetime.date(2024, 11, 19), Decimal('33.0000000000000000'))\n",
      "('Gata Only', datetime.date(2024, 11, 20), Decimal('40.0000000000000000'))\n",
      "('Gata Only', datetime.date(2024, 11, 21), Decimal('41.0000000000000000'))\n",
      "('Gata Only', datetime.date(2024, 11, 22), Decimal('42.0000000000000000'))\n",
      "('Gata Only', datetime.date(2024, 11, 23), Decimal('41.0000000000000000'))\n",
      "('Gata Only', datetime.date(2024, 11, 24), Decimal('39.0000000000000000'))\n",
      "('Giza', datetime.date(2024, 11, 17), Decimal('14.0000000000000000'))\n",
      "('Giza', datetime.date(2024, 11, 18), Decimal('17.0000000000000000'))\n",
      "('Giza', datetime.date(2024, 11, 19), Decimal('17.0000000000000000'))\n",
      "('Giza', datetime.date(2024, 11, 20), Decimal('16.0000000000000000'))\n",
      "('Giza', datetime.date(2024, 11, 21), Decimal('15.0000000000000000'))\n",
      "('Giza', datetime.date(2024, 11, 22), Decimal('17.0000000000000000'))\n",
      "('Giza', datetime.date(2024, 11, 23), Decimal('19.0000000000000000'))\n",
      "('Giza', datetime.date(2024, 11, 24), Decimal('23.0000000000000000'))\n",
      "('Gracias A Dios', datetime.date(2024, 11, 17), Decimal('33.0000000000000000'))\n",
      "('Gracias A Dios', datetime.date(2024, 11, 18), Decimal('32.0000000000000000'))\n",
      "('Gracias A Dios', datetime.date(2024, 11, 19), Decimal('32.0000000000000000'))\n",
      "('Gracias A Dios', datetime.date(2024, 11, 20), Decimal('34.0000000000000000'))\n",
      "('Gracias A Dios', datetime.date(2024, 11, 21), Decimal('38.0000000000000000'))\n",
      "('Gracias A Dios', datetime.date(2024, 11, 22), Decimal('41.0000000000000000'))\n",
      "('Gracias A Dios', datetime.date(2024, 11, 23), Decimal('43.0000000000000000'))\n",
      "('Gracias A Dios', datetime.date(2024, 11, 24), Decimal('44.0000000000000000'))\n",
      "('Hasta AquÃ\\xad LleguÃ©', datetime.date(2024, 11, 17), Decimal('30.3333333333333333'))\n",
      "('Hasta AquÃ\\xad LleguÃ©', datetime.date(2024, 11, 18), Decimal('21.0000000000000000'))\n",
      "('Hasta AquÃ\\xad LleguÃ©', datetime.date(2024, 11, 19), Decimal('20.5000000000000000'))\n",
      "('Hasta AquÃ\\xad LleguÃ©', datetime.date(2024, 11, 20), Decimal('19.5000000000000000'))\n",
      "('Hasta AquÃ\\xad LleguÃ©', datetime.date(2024, 11, 21), Decimal('18.5000000000000000'))\n",
      "('Hasta AquÃ\\xad LleguÃ©', datetime.date(2024, 11, 22), Decimal('18.5000000000000000'))\n",
      "('Hasta AquÃ\\xad LleguÃ©', datetime.date(2024, 11, 23), Decimal('20.0000000000000000'))\n",
      "('Hasta AquÃ\\xad LleguÃ©', datetime.date(2024, 11, 24), Decimal('19.0000000000000000'))\n",
      "(\"Hecha Pa' MÃ\\xad\", datetime.date(2024, 11, 17), Decimal('40.0000000000000000'))\n",
      "(\"Hecha Pa' MÃ\\xad\", datetime.date(2024, 11, 18), Decimal('38.0000000000000000'))\n",
      "(\"Hecha Pa' MÃ\\xad\", datetime.date(2024, 11, 19), Decimal('36.0000000000000000'))\n",
      "(\"Hecha Pa' MÃ\\xad\", datetime.date(2024, 11, 20), Decimal('40.0000000000000000'))\n",
      "(\"Hecha Pa' MÃ\\xad\", datetime.date(2024, 11, 21), Decimal('50.0000000000000000'))\n",
      "(\"Hecha Pa' MÃ\\xad\", datetime.date(2024, 11, 22), Decimal('47.0000000000000000'))\n",
      "(\"Hecha Pa' MÃ\\xad\", datetime.date(2024, 11, 23), Decimal('41.0000000000000000'))\n",
      "(\"Hecha Pa' MÃ\\xad\", datetime.date(2024, 11, 24), Decimal('46.0000000000000000'))\n",
      "('HOCO en la U (Â¿que hubo?)', datetime.date(2024, 11, 20), Decimal('23.0000000000000000'))\n",
      "('HOCO en la U (Â¿que hubo?)', datetime.date(2024, 11, 21), Decimal('27.0000000000000000'))\n",
      "('HOCO en la U (Â¿que hubo?)', datetime.date(2024, 11, 22), Decimal('36.0000000000000000'))\n",
      "('HOLA PERDIDA', datetime.date(2024, 11, 17), Decimal('45.0000000000000000'))\n",
      "('HOLA PERDIDA', datetime.date(2024, 11, 18), Decimal('34.0000000000000000'))\n",
      "('HOLA PERDIDA', datetime.date(2024, 11, 19), Decimal('31.0000000000000000'))\n",
      "('HOLA PERDIDA', datetime.date(2024, 11, 20), Decimal('29.0000000000000000'))\n",
      "('HOLA PERDIDA', datetime.date(2024, 11, 21), Decimal('40.0000000000000000'))\n",
      "('HOLLYWOOD', datetime.date(2024, 11, 17), Decimal('31.0000000000000000'))\n",
      "('HOLLYWOOD', datetime.date(2024, 11, 18), Decimal('32.0000000000000000'))\n",
      "('HOLLYWOOD', datetime.date(2024, 11, 19), Decimal('28.0000000000000000'))\n",
      "('HOLLYWOOD', datetime.date(2024, 11, 20), Decimal('26.0000000000000000'))\n",
      "('HOLLYWOOD', datetime.date(2024, 11, 21), Decimal('24.0000000000000000'))\n",
      "('HOLLYWOOD', datetime.date(2024, 11, 22), Decimal('25.0000000000000000'))\n",
      "('HOLLYWOOD', datetime.date(2024, 11, 23), Decimal('30.0000000000000000'))\n",
      "('HOLLYWOOD', datetime.date(2024, 11, 24), Decimal('29.0000000000000000'))\n",
      "('Hoy', datetime.date(2024, 11, 17), Decimal('26.5000000000000000'))\n",
      "('Hoy', datetime.date(2024, 11, 18), Decimal('24.0000000000000000'))\n",
      "('Hoy', datetime.date(2024, 11, 19), Decimal('25.5000000000000000'))\n",
      "('Hoy', datetime.date(2024, 11, 20), Decimal('26.5000000000000000'))\n",
      "('Hoy', datetime.date(2024, 11, 21), Decimal('28.5000000000000000'))\n",
      "('Hoy', datetime.date(2024, 11, 22), Decimal('29.5000000000000000'))\n",
      "('Hoy', datetime.date(2024, 11, 23), Decimal('29.0000000000000000'))\n",
      "('Hoy', datetime.date(2024, 11, 24), Decimal('27.5000000000000000'))\n",
      "('IL Capo', datetime.date(2024, 11, 17), Decimal('19.0000000000000000'))\n",
      "('IL Capo', datetime.date(2024, 11, 18), Decimal('41.0000000000000000'))\n",
      "('ImagÃ\\xadnate', datetime.date(2024, 11, 17), Decimal('31.5000000000000000'))\n",
      "('ImagÃ\\xadnate', datetime.date(2024, 11, 18), Decimal('25.5000000000000000'))\n",
      "('ImagÃ\\xadnate', datetime.date(2024, 11, 19), Decimal('21.0000000000000000'))\n",
      "('ImagÃ\\xadnate', datetime.date(2024, 11, 20), Decimal('24.6666666666666667'))\n",
      "('ImagÃ\\xadnate', datetime.date(2024, 11, 21), Decimal('28.0000000000000000'))\n",
      "('ImagÃ\\xadnate', datetime.date(2024, 11, 22), Decimal('19.3333333333333333'))\n",
      "('ImagÃ\\xadnate', datetime.date(2024, 11, 23), Decimal('19.6666666666666667'))\n",
      "('ImagÃ\\xadnate', datetime.date(2024, 11, 24), Decimal('19.6666666666666667'))\n",
      "('Imperio', datetime.date(2024, 11, 17), Decimal('33.0000000000000000'))\n",
      "('Imperio', datetime.date(2024, 11, 18), Decimal('39.0000000000000000'))\n",
      "('Imperio', datetime.date(2024, 11, 19), Decimal('41.0000000000000000'))\n",
      "('Imperio', datetime.date(2024, 11, 20), Decimal('38.0000000000000000'))\n",
      "('Imperio', datetime.date(2024, 11, 21), Decimal('25.0000000000000000'))\n",
      "('Imperio', datetime.date(2024, 11, 22), Decimal('28.0000000000000000'))\n",
      "('Imperio', datetime.date(2024, 11, 23), Decimal('37.0000000000000000'))\n",
      "('Imperio', datetime.date(2024, 11, 24), Decimal('43.0000000000000000'))\n",
      "('Kamikaze (feat. Victor Mendivil)', datetime.date(2024, 11, 17), Decimal('22.0000000000000000'))\n",
      "('Kamikaze (feat. Victor Mendivil)', datetime.date(2024, 11, 18), Decimal('31.0000000000000000'))\n",
      "('Kamikaze (feat. Victor Mendivil)', datetime.date(2024, 11, 19), Decimal('30.0000000000000000'))\n",
      "('Kamikaze (feat. Victor Mendivil)', datetime.date(2024, 11, 20), Decimal('31.0000000000000000'))\n",
      "('Kamikaze (feat. Victor Mendivil)', datetime.date(2024, 11, 21), Decimal('31.0000000000000000'))\n",
      "('Kamikaze (feat. Victor Mendivil)', datetime.date(2024, 11, 22), Decimal('32.0000000000000000'))\n",
      "('Kamikaze (feat. Victor Mendivil)', datetime.date(2024, 11, 23), Decimal('31.0000000000000000'))\n",
      "('Kamikaze (feat. Victor Mendivil)', datetime.date(2024, 11, 24), Decimal('27.0000000000000000'))\n",
      "('KhÃ©?', datetime.date(2024, 11, 17), Decimal('27.5000000000000000'))\n",
      "('KhÃ©?', datetime.date(2024, 11, 18), Decimal('20.0000000000000000'))\n",
      "('KhÃ©?', datetime.date(2024, 11, 19), Decimal('16.2500000000000000'))\n",
      "('KhÃ©?', datetime.date(2024, 11, 20), Decimal('19.0000000000000000'))\n",
      "('KhÃ©?', datetime.date(2024, 11, 21), Decimal('16.2000000000000000'))\n",
      "('KhÃ©?', datetime.date(2024, 11, 22), Decimal('16.2000000000000000'))\n",
      "('KhÃ©?', datetime.date(2024, 11, 23), Decimal('10.2000000000000000'))\n",
      "('KhÃ©?', datetime.date(2024, 11, 24), Decimal('9.2000000000000000'))\n",
      "('Kyoto', datetime.date(2024, 11, 17), Decimal('35.0000000000000000'))\n",
      "('Kyoto', datetime.date(2024, 11, 20), Decimal('49.0000000000000000'))\n",
      "('Kyoto', datetime.date(2024, 11, 21), Decimal('42.0000000000000000'))\n",
      "('Kyoto', datetime.date(2024, 11, 22), Decimal('41.0000000000000000'))\n",
      "('Kyoto', datetime.date(2024, 11, 23), Decimal('44.0000000000000000'))\n",
      "('Kyoto', datetime.date(2024, 11, 24), Decimal('40.0000000000000000'))\n",
      "('La Bachata', datetime.date(2024, 11, 19), Decimal('50.0000000000000000'))\n",
      "('LA CANCIÃ“N', datetime.date(2024, 11, 18), Decimal('44.0000000000000000'))\n",
      "('LA CANCIÃ“N', datetime.date(2024, 11, 19), Decimal('38.0000000000000000'))\n",
      "('LA CANCIÃ“N', datetime.date(2024, 11, 20), Decimal('41.0000000000000000'))\n",
      "('LA CANCIÃ“N', datetime.date(2024, 11, 21), Decimal('41.0000000000000000'))\n",
      "('LA CANCIÃ“N', datetime.date(2024, 11, 22), Decimal('43.0000000000000000'))\n",
      "('LA CANCIÃ“N', datetime.date(2024, 11, 23), Decimal('46.0000000000000000'))\n",
      "('LA CANCIÃ“N', datetime.date(2024, 11, 24), Decimal('44.0000000000000000'))\n",
      "('LA FALDA', datetime.date(2024, 11, 17), Decimal('49.0000000000000000'))\n",
      "('LA FALDA', datetime.date(2024, 11, 18), Decimal('37.0000000000000000'))\n",
      "('LA FALDA', datetime.date(2024, 11, 19), Decimal('44.0000000000000000'))\n",
      "('LA FALDA', datetime.date(2024, 11, 20), Decimal('44.0000000000000000'))\n",
      "('LA FALDA', datetime.date(2024, 11, 21), Decimal('47.0000000000000000'))\n",
      "('LA FALDA', datetime.date(2024, 11, 22), Decimal('49.0000000000000000'))\n",
      "('LA INOCENTE', datetime.date(2024, 11, 21), Decimal('42.0000000000000000'))\n",
      "('LA INOCENTE', datetime.date(2024, 11, 22), Decimal('50.0000000000000000'))\n",
      "('LA INOCENTE', datetime.date(2024, 11, 23), Decimal('49.0000000000000000'))\n",
      "('La Jama', datetime.date(2024, 11, 24), Decimal('47.0000000000000000'))\n",
      "('La Morocha', datetime.date(2024, 11, 18), Decimal('35.0000000000000000'))\n",
      "('La Morocha', datetime.date(2024, 11, 19), Decimal('32.0000000000000000'))\n",
      "('La Morocha', datetime.date(2024, 11, 20), Decimal('36.0000000000000000'))\n",
      "('La Morocha', datetime.date(2024, 11, 24), Decimal('47.0000000000000000'))\n",
      "('LA PATRULLA', datetime.date(2024, 11, 17), Decimal('6.0000000000000000'))\n",
      "('LA PATRULLA', datetime.date(2024, 11, 18), Decimal('6.0000000000000000'))\n",
      "('LA PATRULLA', datetime.date(2024, 11, 19), Decimal('6.0000000000000000'))\n",
      "('LA PATRULLA', datetime.date(2024, 11, 20), Decimal('6.0000000000000000'))\n",
      "('LA PATRULLA', datetime.date(2024, 11, 21), Decimal('6.0000000000000000'))\n",
      "('LA PATRULLA', datetime.date(2024, 11, 22), Decimal('6.0000000000000000'))\n",
      "('LA PATRULLA', datetime.date(2024, 11, 23), Decimal('7.0000000000000000'))\n",
      "('LA PATRULLA', datetime.date(2024, 11, 24), Decimal('8.0000000000000000'))\n",
      "('La Piel Bien Caliente', datetime.date(2024, 11, 18), Decimal('41.0000000000000000'))\n",
      "('La Piel Bien Caliente', datetime.date(2024, 11, 19), Decimal('43.0000000000000000'))\n",
      "('La_Original.mp3', datetime.date(2024, 11, 17), Decimal('47.0000000000000000'))\n",
      "('La_Original.mp3', datetime.date(2024, 11, 18), Decimal('38.0000000000000000'))\n",
      "('La_Original.mp3', datetime.date(2024, 11, 19), Decimal('35.0000000000000000'))\n",
      "('La_Original.mp3', datetime.date(2024, 11, 20), Decimal('33.0000000000000000'))\n",
      "('La_Original.mp3', datetime.date(2024, 11, 21), Decimal('39.0000000000000000'))\n",
      "('La_Original.mp3', datetime.date(2024, 11, 22), Decimal('45.0000000000000000'))\n",
      "('La_Original.mp3', datetime.date(2024, 11, 24), Decimal('50.0000000000000000'))\n",
      "('La_Playlist.mpeg', datetime.date(2024, 11, 17), Decimal('38.0000000000000000'))\n",
      "('La_Playlist.mpeg', datetime.date(2024, 11, 18), Decimal('36.0000000000000000'))\n",
      "('La_Playlist.mpeg', datetime.date(2024, 11, 19), Decimal('37.0000000000000000'))\n",
      "('La_Playlist.mpeg', datetime.date(2024, 11, 20), Decimal('37.0000000000000000'))\n",
      "('La_Playlist.mpeg', datetime.date(2024, 11, 21), Decimal('43.0000000000000000'))\n",
      "('La_Playlist.mpeg', datetime.date(2024, 11, 22), Decimal('47.0000000000000000'))\n",
      "('La_Playlist.mpeg', datetime.date(2024, 11, 23), Decimal('45.0000000000000000'))\n",
      "('La_Playlist.mpeg', datetime.date(2024, 11, 24), Decimal('45.0000000000000000'))\n",
      "('Las Piponas (Remix)', datetime.date(2024, 11, 17), Decimal('8.0000000000000000'))\n",
      "('Las Piponas (Remix)', datetime.date(2024, 11, 18), Decimal('8.0000000000000000'))\n",
      "('Las Piponas (Remix)', datetime.date(2024, 11, 19), Decimal('8.0000000000000000'))\n",
      "('Las Piponas (Remix)', datetime.date(2024, 11, 20), Decimal('9.0000000000000000'))\n",
      "('Las Piponas (Remix)', datetime.date(2024, 11, 21), Decimal('10.0000000000000000'))\n",
      "('Las Piponas (Remix)', datetime.date(2024, 11, 22), Decimal('8.0000000000000000'))\n",
      "('Las Piponas (Remix)', datetime.date(2024, 11, 23), Decimal('11.0000000000000000'))\n",
      "('Las Piponas (Remix)', datetime.date(2024, 11, 24), Decimal('12.0000000000000000'))\n",
      "('LINDA', datetime.date(2024, 11, 17), Decimal('26.0000000000000000'))\n",
      "('LINDA', datetime.date(2024, 11, 18), Decimal('26.0000000000000000'))\n",
      "('LINDA', datetime.date(2024, 11, 19), Decimal('24.0000000000000000'))\n",
      "('LINDA', datetime.date(2024, 11, 20), Decimal('24.0000000000000000'))\n",
      "('LINDA', datetime.date(2024, 11, 21), Decimal('25.0000000000000000'))\n",
      "('LINDA', datetime.date(2024, 11, 22), Decimal('28.0000000000000000'))\n",
      "('LINDA', datetime.date(2024, 11, 23), Decimal('27.0000000000000000'))\n",
      "('LINDA', datetime.date(2024, 11, 24), Decimal('28.0000000000000000'))\n",
      "('LlorarÃ¡s', datetime.date(2024, 11, 18), Decimal('49.0000000000000000'))\n",
      "('LlorarÃ¡s', datetime.date(2024, 11, 19), Decimal('44.0000000000000000'))\n",
      "('LlorarÃ¡s', datetime.date(2024, 11, 20), Decimal('50.0000000000000000'))\n",
      "('Lo Que Hay X AquÃ\\xad', datetime.date(2024, 11, 17), Decimal('47.0000000000000000'))\n",
      "('Lo Que Hay X AquÃ\\xad', datetime.date(2024, 11, 18), Decimal('41.0000000000000000'))\n",
      "('Lo Que Hay X AquÃ\\xad', datetime.date(2024, 11, 19), Decimal('41.0000000000000000'))\n",
      "('Lo Que Hay X AquÃ\\xad', datetime.date(2024, 11, 20), Decimal('41.0000000000000000'))\n",
      "('Lo Que Hay X AquÃ\\xad', datetime.date(2024, 11, 21), Decimal('38.0000000000000000'))\n",
      "('Lo Que Hay X AquÃ\\xad', datetime.date(2024, 11, 22), Decimal('42.0000000000000000'))\n",
      "('Lo Que Hay X AquÃ\\xad', datetime.date(2024, 11, 23), Decimal('46.0000000000000000'))\n",
      "('Lo Que Hay X AquÃ\\xad', datetime.date(2024, 11, 24), Decimal('49.0000000000000000'))\n",
      "('Lo Tienes Todo', datetime.date(2024, 11, 18), Decimal('47.0000000000000000'))\n",
      "('Lo Tienes Todo', datetime.date(2024, 11, 19), Decimal('49.0000000000000000'))\n",
      "('Lo Tienes Todo', datetime.date(2024, 11, 20), Decimal('49.0000000000000000'))\n",
      "('Loco', datetime.date(2024, 11, 18), Decimal('50.0000000000000000'))\n",
      "('Loco', datetime.date(2024, 11, 24), Decimal('50.0000000000000000'))\n",
      "('LOKERA', datetime.date(2024, 11, 17), Decimal('50.0000000000000000'))\n",
      "('Loquita - Remix', datetime.date(2024, 11, 17), Decimal('16.0000000000000000'))\n",
      "('Loquita - Remix', datetime.date(2024, 11, 18), Decimal('13.0000000000000000'))\n",
      "('Loquita - Remix', datetime.date(2024, 11, 19), Decimal('13.0000000000000000'))\n",
      "('Loquita - Remix', datetime.date(2024, 11, 20), Decimal('16.0000000000000000'))\n",
      "('Loquita - Remix', datetime.date(2024, 11, 21), Decimal('18.0000000000000000'))\n",
      "('Loquita - Remix', datetime.date(2024, 11, 22), Decimal('17.0000000000000000'))\n",
      "('Loquita - Remix', datetime.date(2024, 11, 23), Decimal('17.0000000000000000'))\n",
      "('Loquita - Remix', datetime.date(2024, 11, 24), Decimal('16.0000000000000000'))\n",
      "('LOS CUADROS', datetime.date(2024, 11, 17), Decimal('19.0000000000000000'))\n",
      "('LOS CUADROS', datetime.date(2024, 11, 18), Decimal('18.0000000000000000'))\n",
      "('LOS CUADROS', datetime.date(2024, 11, 19), Decimal('13.0000000000000000'))\n",
      "('LOS CUADROS', datetime.date(2024, 11, 20), Decimal('13.0000000000000000'))\n",
      "('LOS CUADROS', datetime.date(2024, 11, 21), Decimal('16.0000000000000000'))\n",
      "('LOS CUADROS', datetime.date(2024, 11, 22), Decimal('18.0000000000000000'))\n",
      "('LOS CUADROS', datetime.date(2024, 11, 23), Decimal('21.0000000000000000'))\n",
      "('LOS CUADROS', datetime.date(2024, 11, 24), Decimal('22.0000000000000000'))\n",
      "('LUNA', datetime.date(2024, 11, 17), Decimal('14.8000000000000000'))\n",
      "('LUNA', datetime.date(2024, 11, 18), Decimal('17.1666666666666667'))\n",
      "('LUNA', datetime.date(2024, 11, 19), Decimal('14.4000000000000000'))\n",
      "('LUNA', datetime.date(2024, 11, 20), Decimal('12.6000000000000000'))\n",
      "('LUNA', datetime.date(2024, 11, 21), Decimal('17.1666666666666667'))\n",
      "('LUNA', datetime.date(2024, 11, 22), Decimal('17.0000000000000000'))\n",
      "('LUNA', datetime.date(2024, 11, 23), Decimal('18.1666666666666667'))\n",
      "('LUNA', datetime.date(2024, 11, 24), Decimal('17.3333333333333333'))\n",
      "('Madonna', datetime.date(2024, 11, 17), Decimal('11.0000000000000000'))\n",
      "('Madonna', datetime.date(2024, 11, 18), Decimal('9.0000000000000000'))\n",
      "('Madonna', datetime.date(2024, 11, 19), Decimal('9.0000000000000000'))\n",
      "('Madonna', datetime.date(2024, 11, 20), Decimal('9.0000000000000000'))\n",
      "('Madonna', datetime.date(2024, 11, 21), Decimal('10.0000000000000000'))\n",
      "('Madonna', datetime.date(2024, 11, 22), Decimal('10.0000000000000000'))\n",
      "('Madonna', datetime.date(2024, 11, 23), Decimal('12.0000000000000000'))\n",
      "('Madonna', datetime.date(2024, 11, 24), Decimal('14.0000000000000000'))\n",
      "('MÃ\\xadrame', datetime.date(2024, 11, 17), Decimal('9.5000000000000000'))\n",
      "('MÃ\\xadrame', datetime.date(2024, 11, 18), Decimal('7.7500000000000000'))\n",
      "('MÃ\\xadrame', datetime.date(2024, 11, 19), Decimal('8.7500000000000000'))\n",
      "('MÃ\\xadrame', datetime.date(2024, 11, 20), Decimal('9.2500000000000000'))\n",
      "('MÃ\\xadrame', datetime.date(2024, 11, 21), Decimal('8.5000000000000000'))\n",
      "('MÃ\\xadrame', datetime.date(2024, 11, 22), Decimal('8.0000000000000000'))\n",
      "('MÃ\\xadrame', datetime.date(2024, 11, 23), Decimal('8.5000000000000000'))\n",
      "('MÃ\\xadrame', datetime.date(2024, 11, 24), Decimal('9.7500000000000000'))\n",
      "('Me Prefieres A Mi', datetime.date(2024, 11, 17), Decimal('47.0000000000000000'))\n",
      "('Me Prefieres A Mi', datetime.date(2024, 11, 18), Decimal('44.0000000000000000'))\n",
      "('Me Prefieres A Mi', datetime.date(2024, 11, 19), Decimal('46.0000000000000000'))\n",
      "('Me Prefieres A Mi', datetime.date(2024, 11, 20), Decimal('44.0000000000000000'))\n",
      "('Me Prefieres A Mi', datetime.date(2024, 11, 21), Decimal('42.0000000000000000'))\n",
      "('Me Prefieres A Mi', datetime.date(2024, 11, 22), Decimal('42.0000000000000000'))\n",
      "('Me Prefieres A Mi', datetime.date(2024, 11, 23), Decimal('46.0000000000000000'))\n",
      "('Me Prefieres A Mi', datetime.date(2024, 11, 24), Decimal('42.0000000000000000'))\n",
      "('Me Voy', datetime.date(2024, 11, 23), Decimal('49.0000000000000000'))\n",
      "('Me Voy', datetime.date(2024, 11, 24), Decimal('41.0000000000000000'))\n",
      "('Mejores Jordans', datetime.date(2024, 11, 17), Decimal('20.0000000000000000'))\n",
      "('Mejores Jordans', datetime.date(2024, 11, 18), Decimal('20.0000000000000000'))\n",
      "('Mejores Jordans', datetime.date(2024, 11, 19), Decimal('18.0000000000000000'))\n",
      "('Mejores Jordans', datetime.date(2024, 11, 20), Decimal('18.0000000000000000'))\n",
      "('Mejores Jordans', datetime.date(2024, 11, 21), Decimal('18.0000000000000000'))\n",
      "('Mejores Jordans', datetime.date(2024, 11, 22), Decimal('16.0000000000000000'))\n",
      "('Mejores Jordans', datetime.date(2024, 11, 23), Decimal('20.0000000000000000'))\n",
      "('Mejores Jordans', datetime.date(2024, 11, 24), Decimal('21.0000000000000000'))\n",
      "('Mi AutomÃ³vil', datetime.date(2024, 11, 17), Decimal('29.0000000000000000'))\n",
      "('Mi AutomÃ³vil', datetime.date(2024, 11, 18), Decimal('30.0000000000000000'))\n",
      "('Mi AutomÃ³vil', datetime.date(2024, 11, 19), Decimal('30.0000000000000000'))\n",
      "('Mi AutomÃ³vil', datetime.date(2024, 11, 20), Decimal('30.0000000000000000'))\n",
      "('Mi AutomÃ³vil', datetime.date(2024, 11, 21), Decimal('31.0000000000000000'))\n",
      "('Mi AutomÃ³vil', datetime.date(2024, 11, 22), Decimal('33.0000000000000000'))\n",
      "('Mi AutomÃ³vil', datetime.date(2024, 11, 23), Decimal('37.0000000000000000'))\n",
      "('Mi AutomÃ³vil', datetime.date(2024, 11, 24), Decimal('41.0000000000000000'))\n",
      "('MI EX TENÃ\\x8dA RAZÃ“N', datetime.date(2024, 11, 18), Decimal('44.0000000000000000'))\n",
      "('MI EX TENÃ\\x8dA RAZÃ“N', datetime.date(2024, 11, 19), Decimal('39.0000000000000000'))\n",
      "('MI EX TENÃ\\x8dA RAZÃ“N', datetime.date(2024, 11, 20), Decimal('37.0000000000000000'))\n",
      "('MI EX TENÃ\\x8dA RAZÃ“N', datetime.date(2024, 11, 21), Decimal('34.0000000000000000'))\n",
      "('MI EX TENÃ\\x8dA RAZÃ“N', datetime.date(2024, 11, 22), Decimal('39.0000000000000000'))\n",
      "('MI EX TENÃ\\x8dA RAZÃ“N', datetime.date(2024, 11, 23), Decimal('40.0000000000000000'))\n",
      "('MI EX TENÃ\\x8dA RAZÃ“N', datetime.date(2024, 11, 24), Decimal('40.0000000000000000'))\n",
      "('Mil Mujeres', datetime.date(2024, 11, 17), Decimal('34.0000000000000000'))\n",
      "('Mil Mujeres', datetime.date(2024, 11, 18), Decimal('39.0000000000000000'))\n",
      "('Mil Mujeres', datetime.date(2024, 11, 20), Decimal('50.0000000000000000'))\n",
      "('Mil Preguntas', datetime.date(2024, 11, 17), Decimal('29.0000000000000000'))\n",
      "('Mil Preguntas', datetime.date(2024, 11, 18), Decimal('23.0000000000000000'))\n",
      "('Mil Preguntas', datetime.date(2024, 11, 19), Decimal('23.0000000000000000'))\n",
      "('Mil Preguntas', datetime.date(2024, 11, 20), Decimal('23.0000000000000000'))\n",
      "('Mil Preguntas', datetime.date(2024, 11, 21), Decimal('28.0000000000000000'))\n",
      "('Mil Preguntas', datetime.date(2024, 11, 22), Decimal('25.0000000000000000'))\n",
      "('Mil Preguntas', datetime.date(2024, 11, 23), Decimal('23.0000000000000000'))\n",
      "('Mil Preguntas', datetime.date(2024, 11, 24), Decimal('20.0000000000000000'))\n",
      "('MIRALA', datetime.date(2024, 11, 17), Decimal('10.0000000000000000'))\n",
      "('MIRALA', datetime.date(2024, 11, 18), Decimal('11.0000000000000000'))\n",
      "('MIRALA', datetime.date(2024, 11, 19), Decimal('7.0000000000000000'))\n",
      "('MIRALA', datetime.date(2024, 11, 20), Decimal('8.0000000000000000'))\n",
      "('MIRALA', datetime.date(2024, 11, 21), Decimal('8.0000000000000000'))\n",
      "('MIRALA', datetime.date(2024, 11, 22), Decimal('10.0000000000000000'))\n",
      "('MIRALA', datetime.date(2024, 11, 23), Decimal('13.0000000000000000'))\n",
      "('MIRALA', datetime.date(2024, 11, 24), Decimal('16.0000000000000000'))\n",
      "('Morena Canela', datetime.date(2024, 11, 17), Decimal('13.0000000000000000'))\n",
      "('Morena Canela', datetime.date(2024, 11, 18), Decimal('11.0000000000000000'))\n",
      "('Morena Canela', datetime.date(2024, 11, 19), Decimal('10.0000000000000000'))\n",
      "('Morena Canela', datetime.date(2024, 11, 20), Decimal('10.0000000000000000'))\n",
      "('Morena Canela', datetime.date(2024, 11, 21), Decimal('9.0000000000000000'))\n",
      "('Morena Canela', datetime.date(2024, 11, 22), Decimal('8.0000000000000000'))\n",
      "('Morena Canela', datetime.date(2024, 11, 23), Decimal('6.0000000000000000'))\n",
      "('Morena Canela', datetime.date(2024, 11, 24), Decimal('7.0000000000000000'))\n",
      "('Movimiento de Caderas', datetime.date(2024, 11, 17), Decimal('31.0000000000000000'))\n",
      "('Movimiento de Caderas', datetime.date(2024, 11, 18), Decimal('30.0000000000000000'))\n",
      "('Movimiento de Caderas', datetime.date(2024, 11, 19), Decimal('28.0000000000000000'))\n",
      "('Movimiento de Caderas', datetime.date(2024, 11, 20), Decimal('30.0000000000000000'))\n",
      "('Movimiento de Caderas', datetime.date(2024, 11, 21), Decimal('26.0000000000000000'))\n",
      "('Movimiento de Caderas', datetime.date(2024, 11, 22), Decimal('25.0000000000000000'))\n",
      "('Movimiento de Caderas', datetime.date(2024, 11, 23), Decimal('25.0000000000000000'))\n",
      "('Movimiento de Caderas', datetime.date(2024, 11, 24), Decimal('28.0000000000000000'))\n",
      "('MY LOVE', datetime.date(2024, 11, 17), Decimal('30.0000000000000000'))\n",
      "('MY LOVE', datetime.date(2024, 11, 18), Decimal('29.0000000000000000'))\n",
      "('MY LOVE', datetime.date(2024, 11, 19), Decimal('29.0000000000000000'))\n",
      "('MY LOVE', datetime.date(2024, 11, 20), Decimal('25.0000000000000000'))\n",
      "('MY LOVE', datetime.date(2024, 11, 21), Decimal('23.0000000000000000'))\n",
      "('MY LOVE', datetime.date(2024, 11, 22), Decimal('28.0000000000000000'))\n",
      "('MY LOVE', datetime.date(2024, 11, 23), Decimal('25.0000000000000000'))\n",
      "('MY LOVE', datetime.date(2024, 11, 24), Decimal('25.0000000000000000'))\n",
      "('NADIE', datetime.date(2024, 11, 24), Decimal('5.0000000000000000'))\n",
      "('NEL', datetime.date(2024, 11, 17), Decimal('10.0000000000000000'))\n",
      "('NEL', datetime.date(2024, 11, 18), Decimal('10.0000000000000000'))\n",
      "('NEL', datetime.date(2024, 11, 19), Decimal('11.0000000000000000'))\n",
      "('NEL', datetime.date(2024, 11, 20), Decimal('11.0000000000000000'))\n",
      "('NEL', datetime.date(2024, 11, 21), Decimal('19.0000000000000000'))\n",
      "('NEL', datetime.date(2024, 11, 22), Decimal('14.0000000000000000'))\n",
      "('NEL', datetime.date(2024, 11, 23), Decimal('17.0000000000000000'))\n",
      "('NEL', datetime.date(2024, 11, 24), Decimal('19.0000000000000000'))\n",
      "('Nena Moxita', datetime.date(2024, 11, 24), Decimal('47.0000000000000000'))\n",
      "('Ni Me Conozco', datetime.date(2024, 11, 17), Decimal('26.5000000000000000'))\n",
      "('Ni Me Conozco', datetime.date(2024, 11, 18), Decimal('29.0000000000000000'))\n",
      "('Ni Me Conozco', datetime.date(2024, 11, 19), Decimal('37.0000000000000000'))\n",
      "('Ni Me Conozco', datetime.date(2024, 11, 20), Decimal('32.0000000000000000'))\n",
      "('Ni Me Conozco', datetime.date(2024, 11, 21), Decimal('36.0000000000000000'))\n",
      "('Ni Me Conozco', datetime.date(2024, 11, 22), Decimal('37.0000000000000000'))\n",
      "('Ni Me Conozco', datetime.date(2024, 11, 23), Decimal('42.0000000000000000'))\n",
      "('Ni Me Conozco', datetime.date(2024, 11, 24), Decimal('46.0000000000000000'))\n",
      "('NO COOPERAMOS', datetime.date(2024, 11, 17), Decimal('40.0000000000000000'))\n",
      "('NO COOPERAMOS', datetime.date(2024, 11, 18), Decimal('41.0000000000000000'))\n",
      "('NO COOPERAMOS', datetime.date(2024, 11, 19), Decimal('36.0000000000000000'))\n",
      "('NO COOPERAMOS', datetime.date(2024, 11, 20), Decimal('39.0000000000000000'))\n",
      "('NO COOPERAMOS', datetime.date(2024, 11, 21), Decimal('44.0000000000000000'))\n",
      "('NO COOPERAMOS', datetime.date(2024, 11, 22), Decimal('46.0000000000000000'))\n",
      "('NO COOPERAMOS', datetime.date(2024, 11, 23), Decimal('45.0000000000000000'))\n",
      "('NO COOPERAMOS', datetime.date(2024, 11, 24), Decimal('49.0000000000000000'))\n",
      "('No Me Cansare', datetime.date(2024, 11, 17), Decimal('49.0000000000000000'))\n",
      "('No Ponga Excusas', datetime.date(2024, 11, 17), Decimal('38.0000000000000000'))\n",
      "('No Ponga Excusas', datetime.date(2024, 11, 18), Decimal('38.0000000000000000'))\n",
      "('No Ponga Excusas', datetime.date(2024, 11, 19), Decimal('35.0000000000000000'))\n",
      "('No Ponga Excusas', datetime.date(2024, 11, 20), Decimal('33.0000000000000000'))\n",
      "('No Ponga Excusas', datetime.date(2024, 11, 21), Decimal('34.0000000000000000'))\n",
      "('No Ponga Excusas', datetime.date(2024, 11, 22), Decimal('34.0000000000000000'))\n",
      "('No Ponga Excusas', datetime.date(2024, 11, 23), Decimal('40.0000000000000000'))\n",
      "('No Ponga Excusas', datetime.date(2024, 11, 24), Decimal('35.0000000000000000'))\n",
      "('No Son Doritos', datetime.date(2024, 11, 17), Decimal('29.0000000000000000'))\n",
      "('No Son Doritos', datetime.date(2024, 11, 18), Decimal('27.0000000000000000'))\n",
      "('No Son Doritos', datetime.date(2024, 11, 19), Decimal('25.0000000000000000'))\n",
      "('No Son Doritos', datetime.date(2024, 11, 20), Decimal('27.0000000000000000'))\n",
      "('No Son Doritos', datetime.date(2024, 11, 21), Decimal('33.0000000000000000'))\n",
      "('No Son Doritos', datetime.date(2024, 11, 22), Decimal('30.0000000000000000'))\n",
      "('No Son Doritos', datetime.date(2024, 11, 23), Decimal('32.0000000000000000'))\n",
      "('No Son Doritos', datetime.date(2024, 11, 24), Decimal('26.0000000000000000'))\n",
      "('No Te Rayes', datetime.date(2024, 11, 17), Decimal('29.0000000000000000'))\n",
      "('No Te Rayes', datetime.date(2024, 11, 19), Decimal('32.0000000000000000'))\n",
      "('No Te Rayes', datetime.date(2024, 11, 20), Decimal('25.0000000000000000'))\n",
      "('No Te Rayes', datetime.date(2024, 11, 21), Decimal('30.0000000000000000'))\n",
      "('No Va a Venir', datetime.date(2024, 11, 18), Decimal('47.0000000000000000'))\n",
      "('No Va a Venir', datetime.date(2024, 11, 19), Decimal('48.0000000000000000'))\n",
      "('Normal', datetime.date(2024, 11, 17), Decimal('43.0000000000000000'))\n",
      "('Normal', datetime.date(2024, 11, 18), Decimal('42.0000000000000000'))\n",
      "('Normal', datetime.date(2024, 11, 19), Decimal('40.0000000000000000'))\n",
      "('Normal', datetime.date(2024, 11, 20), Decimal('35.0000000000000000'))\n",
      "('Normal', datetime.date(2024, 11, 21), Decimal('27.0000000000000000'))\n",
      "('Normal', datetime.date(2024, 11, 22), Decimal('32.0000000000000000'))\n",
      "('Normal', datetime.date(2024, 11, 23), Decimal('36.5000000000000000'))\n",
      "('Normal', datetime.date(2024, 11, 24), Decimal('39.5000000000000000'))\n",
      "('noviogangsta <3', datetime.date(2024, 11, 17), Decimal('4.0000000000000000'))\n",
      "('noviogangsta <3', datetime.date(2024, 11, 18), Decimal('5.0000000000000000'))\n",
      "('noviogangsta <3', datetime.date(2024, 11, 19), Decimal('5.0000000000000000'))\n",
      "('noviogangsta <3', datetime.date(2024, 11, 20), Decimal('5.0000000000000000'))\n",
      "('noviogangsta <3', datetime.date(2024, 11, 21), Decimal('5.0000000000000000'))\n",
      "('noviogangsta <3', datetime.date(2024, 11, 22), Decimal('7.0000000000000000'))\n",
      "('noviogangsta <3', datetime.date(2024, 11, 23), Decimal('7.0000000000000000'))\n",
      "('noviogangsta <3', datetime.date(2024, 11, 24), Decimal('8.0000000000000000'))\n",
      "('Nueva Era', datetime.date(2024, 11, 17), Decimal('30.0000000000000000'))\n",
      "('Nueva Era', datetime.date(2024, 11, 18), Decimal('6.0000000000000000'))\n",
      "('Nueva Era', datetime.date(2024, 11, 19), Decimal('2.0000000000000000'))\n",
      "('Nueva Era', datetime.date(2024, 11, 20), Decimal('34.7500000000000000'))\n",
      "('Nueva Era', datetime.date(2024, 11, 21), Decimal('31.6666666666666667'))\n",
      "('Nueva Era', datetime.date(2024, 11, 22), Decimal('29.0000000000000000'))\n",
      "('Nueva Era', datetime.date(2024, 11, 23), Decimal('32.0000000000000000'))\n",
      "('Nueva Era', datetime.date(2024, 11, 24), Decimal('23.0000000000000000'))\n",
      "('Oe BebÃ©', datetime.date(2024, 11, 17), Decimal('20.0000000000000000'))\n",
      "('Oe BebÃ©', datetime.date(2024, 11, 18), Decimal('19.0000000000000000'))\n",
      "('Oe BebÃ©', datetime.date(2024, 11, 19), Decimal('19.0000000000000000'))\n",
      "('Oe BebÃ©', datetime.date(2024, 11, 20), Decimal('20.0000000000000000'))\n",
      "('Oe BebÃ©', datetime.date(2024, 11, 21), Decimal('21.0000000000000000'))\n",
      "('Oe BebÃ©', datetime.date(2024, 11, 22), Decimal('23.0000000000000000'))\n",
      "('Oe BebÃ©', datetime.date(2024, 11, 23), Decimal('24.0000000000000000'))\n",
      "('Oe BebÃ©', datetime.date(2024, 11, 24), Decimal('24.0000000000000000'))\n",
      "('Ohnana', datetime.date(2024, 11, 17), Decimal('27.5000000000000000'))\n",
      "('Ohnana', datetime.date(2024, 11, 18), Decimal('23.7500000000000000'))\n",
      "('Ohnana', datetime.date(2024, 11, 19), Decimal('28.2500000000000000'))\n",
      "('Ohnana', datetime.date(2024, 11, 20), Decimal('28.2500000000000000'))\n",
      "('Ohnana', datetime.date(2024, 11, 21), Decimal('27.0000000000000000'))\n",
      "('Ohnana', datetime.date(2024, 11, 22), Decimal('26.7500000000000000'))\n",
      "('Ohnana', datetime.date(2024, 11, 23), Decimal('26.7500000000000000'))\n",
      "('Ohnana', datetime.date(2024, 11, 24), Decimal('26.5000000000000000'))\n",
      "('Ojos Verdes', datetime.date(2024, 11, 17), Decimal('30.0000000000000000'))\n",
      "('Ojos Verdes', datetime.date(2024, 11, 18), Decimal('28.0000000000000000'))\n",
      "('Ojos Verdes', datetime.date(2024, 11, 19), Decimal('33.0000000000000000'))\n",
      "('Ojos Verdes', datetime.date(2024, 11, 20), Decimal('32.0000000000000000'))\n",
      "('Ojos Verdes', datetime.date(2024, 11, 21), Decimal('34.0000000000000000'))\n",
      "('Ojos Verdes', datetime.date(2024, 11, 22), Decimal('31.0000000000000000'))\n",
      "('Ojos Verdes', datetime.date(2024, 11, 23), Decimal('28.0000000000000000'))\n",
      "('Ojos Verdes', datetime.date(2024, 11, 24), Decimal('33.0000000000000000'))\n",
      "('Orion', datetime.date(2024, 11, 17), Decimal('29.0000000000000000'))\n",
      "('Orion', datetime.date(2024, 11, 18), Decimal('24.0000000000000000'))\n",
      "('Orion', datetime.date(2024, 11, 19), Decimal('27.3333333333333333'))\n",
      "('Orion', datetime.date(2024, 11, 20), Decimal('24.6666666666666667'))\n",
      "('Orion', datetime.date(2024, 11, 21), Decimal('29.0000000000000000'))\n",
      "('Orion', datetime.date(2024, 11, 22), Decimal('29.0000000000000000'))\n",
      "('Orion', datetime.date(2024, 11, 23), Decimal('29.3333333333333333'))\n",
      "('Orion', datetime.date(2024, 11, 24), Decimal('27.0000000000000000'))\n",
      "(\"Pa' Que La Pases Bien\", datetime.date(2024, 11, 17), Decimal('35.0000000000000000'))\n",
      "(\"Pa' Que La Pases Bien\", datetime.date(2024, 11, 18), Decimal('34.0000000000000000'))\n",
      "(\"Pa' Que La Pases Bien\", datetime.date(2024, 11, 19), Decimal('30.3333333333333333'))\n",
      "(\"Pa' Que La Pases Bien\", datetime.date(2024, 11, 20), Decimal('34.0000000000000000'))\n",
      "(\"Pa' Que La Pases Bien\", datetime.date(2024, 11, 21), Decimal('29.0000000000000000'))\n",
      "(\"Pa' Que La Pases Bien\", datetime.date(2024, 11, 22), Decimal('29.0000000000000000'))\n",
      "(\"Pa' Que La Pases Bien\", datetime.date(2024, 11, 23), Decimal('34.6666666666666667'))\n",
      "(\"Pa' Que La Pases Bien\", datetime.date(2024, 11, 24), Decimal('33.6666666666666667'))\n",
      "(\"Pa' Que Retozen\", datetime.date(2024, 11, 18), Decimal('48.0000000000000000'))\n",
      "(\"Pa' Que Retozen\", datetime.date(2024, 11, 20), Decimal('49.0000000000000000'))\n",
      "(\"Pa' Que Retozen\", datetime.date(2024, 11, 21), Decimal('46.0000000000000000'))\n",
      "(\"Pa' Que Retozen\", datetime.date(2024, 11, 22), Decimal('46.0000000000000000'))\n",
      "(\"Pa' Que Retozen\", datetime.date(2024, 11, 24), Decimal('49.0000000000000000'))\n",
      "('PaÂ´Que Te Acuerdes | CROSSOVER #8', datetime.date(2024, 11, 17), Decimal('13.0000000000000000'))\n",
      "('PaÂ´Que Te Acuerdes | CROSSOVER #8', datetime.date(2024, 11, 18), Decimal('15.0000000000000000'))\n",
      "('PaÂ´Que Te Acuerdes | CROSSOVER #8', datetime.date(2024, 11, 19), Decimal('16.0000000000000000'))\n",
      "('PaÂ´Que Te Acuerdes | CROSSOVER #8', datetime.date(2024, 11, 20), Decimal('15.0000000000000000'))\n",
      "('PaÂ´Que Te Acuerdes | CROSSOVER #8', datetime.date(2024, 11, 21), Decimal('14.0000000000000000'))\n",
      "('PaÂ´Que Te Acuerdes | CROSSOVER #8', datetime.date(2024, 11, 22), Decimal('13.0000000000000000'))\n",
      "('PaÂ´Que Te Acuerdes | CROSSOVER #8', datetime.date(2024, 11, 23), Decimal('13.0000000000000000'))\n",
      "('PaÂ´Que Te Acuerdes | CROSSOVER #8', datetime.date(2024, 11, 24), Decimal('14.0000000000000000'))\n",
      "('Parte & Choke', datetime.date(2024, 11, 17), Decimal('23.0000000000000000'))\n",
      "('Parte & Choke', datetime.date(2024, 11, 18), Decimal('20.0000000000000000'))\n",
      "('Parte & Choke', datetime.date(2024, 11, 19), Decimal('18.0000000000000000'))\n",
      "('Parte & Choke', datetime.date(2024, 11, 20), Decimal('20.0000000000000000'))\n",
      "('Parte & Choke', datetime.date(2024, 11, 21), Decimal('13.0000000000000000'))\n",
      "('Parte & Choke', datetime.date(2024, 11, 22), Decimal('11.0000000000000000'))\n",
      "('Parte & Choke', datetime.date(2024, 11, 23), Decimal('9.0000000000000000'))\n",
      "('Parte & Choke', datetime.date(2024, 11, 24), Decimal('5.0000000000000000'))\n",
      "('Pasaporte', datetime.date(2024, 11, 17), Decimal('25.0000000000000000'))\n",
      "('Pasaporte', datetime.date(2024, 11, 18), Decimal('42.0000000000000000'))\n",
      "('PELIGROSA', datetime.date(2024, 11, 17), Decimal('21.5000000000000000'))\n",
      "('PELIGROSA', datetime.date(2024, 11, 18), Decimal('30.3333333333333333'))\n",
      "('PELIGROSA', datetime.date(2024, 11, 19), Decimal('27.0000000000000000'))\n",
      "('PELIGROSA', datetime.date(2024, 11, 20), Decimal('29.0000000000000000'))\n",
      "('PELIGROSA', datetime.date(2024, 11, 21), Decimal('30.6666666666666667'))\n",
      "('PELIGROSA', datetime.date(2024, 11, 22), Decimal('26.0000000000000000'))\n",
      "('PELIGROSA', datetime.date(2024, 11, 23), Decimal('26.0000000000000000'))\n",
      "('PELIGROSA', datetime.date(2024, 11, 24), Decimal('25.6666666666666667'))\n",
      "('Perdonarte, Â¿Para QuÃ©?', datetime.date(2024, 11, 17), Decimal('22.0000000000000000'))\n",
      "('Perdonarte, Â¿Para QuÃ©?', datetime.date(2024, 11, 18), Decimal('20.5000000000000000'))\n",
      "('Perdonarte, Â¿Para QuÃ©?', datetime.date(2024, 11, 19), Decimal('20.5000000000000000'))\n",
      "('Perdonarte, Â¿Para QuÃ©?', datetime.date(2024, 11, 20), Decimal('19.0000000000000000'))\n",
      "('Perdonarte, Â¿Para QuÃ©?', datetime.date(2024, 11, 21), Decimal('24.5000000000000000'))\n",
      "('Perdonarte, Â¿Para QuÃ©?', datetime.date(2024, 11, 22), Decimal('23.5000000000000000'))\n",
      "('Perdonarte, Â¿Para QuÃ©?', datetime.date(2024, 11, 23), Decimal('24.5000000000000000'))\n",
      "('Perdonarte, Â¿Para QuÃ©?', datetime.date(2024, 11, 24), Decimal('20.5000000000000000'))\n",
      "('PERRO NEGRO', datetime.date(2024, 11, 17), Decimal('28.0000000000000000'))\n",
      "('PERRO NEGRO', datetime.date(2024, 11, 18), Decimal('25.0000000000000000'))\n",
      "('PERRO NEGRO', datetime.date(2024, 11, 19), Decimal('24.0000000000000000'))\n",
      "('PERRO NEGRO', datetime.date(2024, 11, 20), Decimal('23.3333333333333333'))\n",
      "('PERRO NEGRO', datetime.date(2024, 11, 21), Decimal('20.6666666666666667'))\n",
      "('PERRO NEGRO', datetime.date(2024, 11, 22), Decimal('22.0000000000000000'))\n",
      "('PERRO NEGRO', datetime.date(2024, 11, 23), Decimal('23.0000000000000000'))\n",
      "('PERRO NEGRO', datetime.date(2024, 11, 24), Decimal('23.3333333333333333'))\n",
      "('PIÃ‰NSALO', datetime.date(2024, 11, 17), Decimal('21.0000000000000000'))\n",
      "('PIÃ‰NSALO', datetime.date(2024, 11, 18), Decimal('21.0000000000000000'))\n",
      "('PIÃ‰NSALO', datetime.date(2024, 11, 19), Decimal('20.0000000000000000'))\n",
      "('PIÃ‰NSALO', datetime.date(2024, 11, 20), Decimal('17.0000000000000000'))\n",
      "('PIÃ‰NSALO', datetime.date(2024, 11, 21), Decimal('12.0000000000000000'))\n",
      "('PIÃ‰NSALO', datetime.date(2024, 11, 22), Decimal('13.0000000000000000'))\n",
      "('PIÃ‰NSALO', datetime.date(2024, 11, 23), Decimal('15.0000000000000000'))\n",
      "('PIÃ‰NSALO', datetime.date(2024, 11, 24), Decimal('16.0000000000000000'))\n",
      "('Piel', datetime.date(2024, 11, 17), Decimal('15.3333333333333333'))\n",
      "('Piel', datetime.date(2024, 11, 18), Decimal('20.5000000000000000'))\n",
      "('Piel', datetime.date(2024, 11, 19), Decimal('21.2500000000000000'))\n",
      "('Piel', datetime.date(2024, 11, 20), Decimal('22.2500000000000000'))\n",
      "('Piel', datetime.date(2024, 11, 21), Decimal('23.2500000000000000'))\n",
      "('Piel', datetime.date(2024, 11, 22), Decimal('22.5000000000000000'))\n",
      "('Piel', datetime.date(2024, 11, 23), Decimal('22.7500000000000000'))\n",
      "('Piel', datetime.date(2024, 11, 24), Decimal('19.2500000000000000'))\n",
      "('POLOS OPUESTOS REMIX - BLESSD VERSION', datetime.date(2024, 11, 17), Decimal('4.0000000000000000'))\n",
      "('POLOS OPUESTOS REMIX - BLESSD VERSION', datetime.date(2024, 11, 18), Decimal('5.0000000000000000'))\n",
      "('POLOS OPUESTOS REMIX - BLESSD VERSION', datetime.date(2024, 11, 19), Decimal('4.0000000000000000'))\n",
      "('POLOS OPUESTOS REMIX - BLESSD VERSION', datetime.date(2024, 11, 20), Decimal('4.0000000000000000'))\n",
      "('POLOS OPUESTOS REMIX - BLESSD VERSION', datetime.date(2024, 11, 21), Decimal('4.0000000000000000'))\n",
      "('POLOS OPUESTOS REMIX - BLESSD VERSION', datetime.date(2024, 11, 22), Decimal('4.0000000000000000'))\n",
      "('POLOS OPUESTOS REMIX - BLESSD VERSION', datetime.date(2024, 11, 23), Decimal('6.0000000000000000'))\n",
      "('POLOS OPUESTOS REMIX - BLESSD VERSION', datetime.date(2024, 11, 24), Decimal('5.0000000000000000'))\n",
      "('PONTE PERRO | DJ TAO Turreo Sessions #24', datetime.date(2024, 11, 19), Decimal('47.0000000000000000'))\n",
      "('POR EL CONTRARIO (with Angela Aguilar & Leonardo Aguilar)', datetime.date(2024, 11, 23), Decimal('49.0000000000000000'))\n",
      "('POR EL CONTRARIO (with Angela Aguilar & Leonardo Aguilar)', datetime.date(2024, 11, 24), Decimal('45.0000000000000000'))\n",
      "('Por Mil Noches', datetime.date(2024, 11, 17), Decimal('50.0000000000000000'))\n",
      "('Por Mil Noches', datetime.date(2024, 11, 20), Decimal('48.0000000000000000'))\n",
      "('Por Mil Noches', datetime.date(2024, 11, 21), Decimal('46.0000000000000000'))\n",
      "('Por Mil Noches', datetime.date(2024, 11, 22), Decimal('40.0000000000000000'))\n",
      "('Por Mil Noches', datetime.date(2024, 11, 23), Decimal('48.0000000000000000'))\n",
      "('Por Mil Noches', datetime.date(2024, 11, 24), Decimal('48.0000000000000000'))\n",
      "('Presidente', datetime.date(2024, 11, 17), Decimal('4.0000000000000000'))\n",
      "('Presidente', datetime.date(2024, 11, 18), Decimal('3.0000000000000000'))\n",
      "('Presidente', datetime.date(2024, 11, 19), Decimal('3.0000000000000000'))\n",
      "('Presidente', datetime.date(2024, 11, 20), Decimal('4.0000000000000000'))\n",
      "('Presidente', datetime.date(2024, 11, 21), Decimal('3.0000000000000000'))\n",
      "('Presidente', datetime.date(2024, 11, 22), Decimal('3.0000000000000000'))\n",
      "('Presidente', datetime.date(2024, 11, 23), Decimal('2.0000000000000000'))\n",
      "('Presidente', datetime.date(2024, 11, 24), Decimal('2.0000000000000000'))\n",
      "('Primera Cita', datetime.date(2024, 11, 17), Decimal('48.0000000000000000'))\n",
      "('Primera Cita', datetime.date(2024, 11, 18), Decimal('40.0000000000000000'))\n",
      "('Primera Cita', datetime.date(2024, 11, 19), Decimal('30.0000000000000000'))\n",
      "('Primera Cita', datetime.date(2024, 11, 20), Decimal('36.0000000000000000'))\n",
      "('Primera Cita', datetime.date(2024, 11, 21), Decimal('33.0000000000000000'))\n",
      "('Primera Cita', datetime.date(2024, 11, 22), Decimal('34.0000000000000000'))\n",
      "('Primera Cita', datetime.date(2024, 11, 23), Decimal('35.0000000000000000'))\n",
      "('Primera Cita', datetime.date(2024, 11, 24), Decimal('37.0000000000000000'))\n",
      "('PRIMO', datetime.date(2024, 11, 17), Decimal('18.0000000000000000'))\n",
      "('PRIMO', datetime.date(2024, 11, 18), Decimal('16.0000000000000000'))\n",
      "('PRIMO', datetime.date(2024, 11, 19), Decimal('14.0000000000000000'))\n",
      "('PRIMO', datetime.date(2024, 11, 20), Decimal('14.0000000000000000'))\n",
      "('PRIMO', datetime.date(2024, 11, 21), Decimal('17.0000000000000000'))\n",
      "('PRIMO', datetime.date(2024, 11, 22), Decimal('20.0000000000000000'))\n",
      "('PRIMO', datetime.date(2024, 11, 23), Decimal('18.0000000000000000'))\n",
      "('PRIMO', datetime.date(2024, 11, 24), Decimal('18.0000000000000000'))\n",
      "('Princesa', datetime.date(2024, 11, 17), Decimal('18.0000000000000000'))\n",
      "('Princesa', datetime.date(2024, 11, 18), Decimal('20.0000000000000000'))\n",
      "('Princesa', datetime.date(2024, 11, 19), Decimal('18.0000000000000000'))\n",
      "('Princesa', datetime.date(2024, 11, 20), Decimal('17.0000000000000000'))\n",
      "('Princesa', datetime.date(2024, 11, 21), Decimal('20.0000000000000000'))\n",
      "('Princesa', datetime.date(2024, 11, 22), Decimal('20.0000000000000000'))\n",
      "('Princesa', datetime.date(2024, 11, 23), Decimal('19.0000000000000000'))\n",
      "('Princesa', datetime.date(2024, 11, 24), Decimal('19.0000000000000000'))\n",
      "('Q U E V A S H A C E R H O Y ?', datetime.date(2024, 11, 17), Decimal('10.8000000000000000'))\n",
      "('Q U E V A S H A C E R H O Y ?', datetime.date(2024, 11, 18), Decimal('10.8000000000000000'))\n",
      "('Q U E V A S H A C E R H O Y ?', datetime.date(2024, 11, 19), Decimal('12.2000000000000000'))\n",
      "('Q U E V A S H A C E R H O Y ?', datetime.date(2024, 11, 20), Decimal('10.8000000000000000'))\n",
      "('Q U E V A S H A C E R H O Y ?', datetime.date(2024, 11, 21), Decimal('9.4000000000000000'))\n",
      "('Q U E V A S H A C E R H O Y ?', datetime.date(2024, 11, 22), Decimal('10.8000000000000000'))\n",
      "('Q U E V A S H A C E R H O Y ?', datetime.date(2024, 11, 23), Decimal('11.8000000000000000'))\n",
      "('Q U E V A S H A C E R H O Y ?', datetime.date(2024, 11, 24), Decimal('12.2000000000000000'))\n",
      "('QLONA', datetime.date(2024, 11, 17), Decimal('46.0000000000000000'))\n",
      "('QLONA', datetime.date(2024, 11, 18), Decimal('41.5000000000000000'))\n",
      "('QLONA', datetime.date(2024, 11, 19), Decimal('45.3333333333333333'))\n",
      "('QLONA', datetime.date(2024, 11, 20), Decimal('43.3333333333333333'))\n",
      "('QLONA', datetime.date(2024, 11, 21), Decimal('43.0000000000000000'))\n",
      "('QLONA', datetime.date(2024, 11, 22), Decimal('45.0000000000000000'))\n",
      "('QLONA', datetime.date(2024, 11, 23), Decimal('45.6666666666666667'))\n",
      "('QLONA', datetime.date(2024, 11, 24), Decimal('45.6666666666666667'))\n",
      "('QuÃ© PasarÃ\\xada...', datetime.date(2024, 11, 17), Decimal('10.4000000000000000'))\n",
      "('QuÃ© PasarÃ\\xada...', datetime.date(2024, 11, 18), Decimal('14.2000000000000000'))\n",
      "('QuÃ© PasarÃ\\xada...', datetime.date(2024, 11, 19), Decimal('16.2000000000000000'))\n",
      "('QuÃ© PasarÃ\\xada...', datetime.date(2024, 11, 20), Decimal('12.8000000000000000'))\n",
      "('QuÃ© PasarÃ\\xada...', datetime.date(2024, 11, 21), Decimal('12.4000000000000000'))\n",
      "('QuÃ© PasarÃ\\xada...', datetime.date(2024, 11, 22), Decimal('10.4000000000000000'))\n",
      "('QuÃ© PasarÃ\\xada...', datetime.date(2024, 11, 23), Decimal('11.3333333333333333'))\n",
      "('QuÃ© PasarÃ\\xada...', datetime.date(2024, 11, 24), Decimal('11.5000000000000000'))\n",
      "('QUE LE DE', datetime.date(2024, 11, 17), Decimal('46.0000000000000000'))\n",
      "('QUE ME FALTE TODO', datetime.date(2024, 11, 17), Decimal('15.0000000000000000'))\n",
      "('QUE ME FALTE TODO', datetime.date(2024, 11, 18), Decimal('14.0000000000000000'))\n",
      "('QUE ME FALTE TODO', datetime.date(2024, 11, 19), Decimal('15.0000000000000000'))\n",
      "('QUE ME FALTE TODO', datetime.date(2024, 11, 20), Decimal('13.0000000000000000'))\n",
      "('QUE ME FALTE TODO', datetime.date(2024, 11, 21), Decimal('13.0000000000000000'))\n",
      "('QUE ME FALTE TODO', datetime.date(2024, 11, 22), Decimal('14.0000000000000000'))\n",
      "('QUE ME FALTE TODO', datetime.date(2024, 11, 23), Decimal('16.0000000000000000'))\n",
      "('QUE ME FALTE TODO', datetime.date(2024, 11, 24), Decimal('13.0000000000000000'))\n",
      "('Que Onda', datetime.date(2024, 11, 17), Decimal('29.5000000000000000'))\n",
      "('Que Onda', datetime.date(2024, 11, 18), Decimal('25.5000000000000000'))\n",
      "('Que Onda', datetime.date(2024, 11, 19), Decimal('26.0000000000000000'))\n",
      "('Que Onda', datetime.date(2024, 11, 20), Decimal('26.5000000000000000'))\n",
      "('Que Onda', datetime.date(2024, 11, 21), Decimal('26.0000000000000000'))\n",
      "('Que Onda', datetime.date(2024, 11, 22), Decimal('27.5000000000000000'))\n",
      "('Que Onda', datetime.date(2024, 11, 23), Decimal('28.0000000000000000'))\n",
      "('Que Onda', datetime.date(2024, 11, 24), Decimal('28.5000000000000000'))\n",
      "('Que Te Vaya Bien', datetime.date(2024, 11, 18), Decimal('43.0000000000000000'))\n",
      "('Que Te Vaya Bien', datetime.date(2024, 11, 19), Decimal('42.0000000000000000'))\n",
      "('QUE VUELVAS', datetime.date(2024, 11, 18), Decimal('46.0000000000000000'))\n",
      "('QUE VUELVAS', datetime.date(2024, 11, 19), Decimal('36.0000000000000000'))\n",
      "('QUE VUELVAS', datetime.date(2024, 11, 20), Decimal('47.0000000000000000'))\n",
      "('QUE VUELVAS', datetime.date(2024, 11, 21), Decimal('46.0000000000000000'))\n",
      "('QUE VUELVAS', datetime.date(2024, 11, 22), Decimal('40.0000000000000000'))\n",
      "('QUE VUELVAS', datetime.date(2024, 11, 23), Decimal('36.0000000000000000'))\n",
      "('QUE VUELVAS', datetime.date(2024, 11, 24), Decimal('42.0000000000000000'))\n",
      "('QUEMA', datetime.date(2024, 11, 17), Decimal('31.7500000000000000'))\n",
      "('QUEMA', datetime.date(2024, 11, 18), Decimal('32.2500000000000000'))\n",
      "('QUEMA', datetime.date(2024, 11, 19), Decimal('32.2500000000000000'))\n",
      "('QUEMA', datetime.date(2024, 11, 20), Decimal('32.2500000000000000'))\n",
      "('QUEMA', datetime.date(2024, 11, 21), Decimal('31.5000000000000000'))\n",
      "('QUEMA', datetime.date(2024, 11, 22), Decimal('33.0000000000000000'))\n",
      "('QUEMA', datetime.date(2024, 11, 23), Decimal('30.5000000000000000'))\n",
      "('QUEMA', datetime.date(2024, 11, 24), Decimal('31.0000000000000000'))\n",
      "('Regalo De Dios', datetime.date(2024, 11, 17), Decimal('34.0000000000000000'))\n",
      "('Regalo De Dios', datetime.date(2024, 11, 18), Decimal('29.0000000000000000'))\n",
      "('Regalo De Dios', datetime.date(2024, 11, 19), Decimal('27.0000000000000000'))\n",
      "('Regalo De Dios', datetime.date(2024, 11, 20), Decimal('29.0000000000000000'))\n",
      "('Regalo De Dios', datetime.date(2024, 11, 21), Decimal('32.0000000000000000'))\n",
      "('Regalo De Dios', datetime.date(2024, 11, 22), Decimal('35.0000000000000000'))\n",
      "('Regalo De Dios', datetime.date(2024, 11, 23), Decimal('35.0000000000000000'))\n",
      "('Regalo De Dios', datetime.date(2024, 11, 24), Decimal('35.0000000000000000'))\n",
      "('RevolÃº', datetime.date(2024, 11, 17), Decimal('24.5000000000000000'))\n",
      "('RevolÃº', datetime.date(2024, 11, 18), Decimal('29.0000000000000000'))\n",
      "('RevolÃº', datetime.date(2024, 11, 19), Decimal('30.0000000000000000'))\n",
      "('RevolÃº', datetime.date(2024, 11, 20), Decimal('28.0000000000000000'))\n",
      "('RevolÃº', datetime.date(2024, 11, 21), Decimal('32.0000000000000000'))\n",
      "('RevolÃº', datetime.date(2024, 11, 22), Decimal('36.0000000000000000'))\n",
      "('RevolÃº', datetime.date(2024, 11, 23), Decimal('30.0000000000000000'))\n",
      "('RevolÃº', datetime.date(2024, 11, 24), Decimal('38.5000000000000000'))\n",
      "('Rey Sin Reina', datetime.date(2024, 11, 17), Decimal('9.0000000000000000'))\n",
      "('Rey Sin Reina', datetime.date(2024, 11, 18), Decimal('8.0000000000000000'))\n",
      "('Rey Sin Reina', datetime.date(2024, 11, 19), Decimal('8.0000000000000000'))\n",
      "('Rey Sin Reina', datetime.date(2024, 11, 20), Decimal('8.0000000000000000'))\n",
      "('Rey Sin Reina', datetime.date(2024, 11, 21), Decimal('8.0000000000000000'))\n",
      "('Rey Sin Reina', datetime.date(2024, 11, 22), Decimal('9.0000000000000000'))\n",
      "('Rey Sin Reina', datetime.date(2024, 11, 23), Decimal('10.0000000000000000'))\n",
      "('Rey Sin Reina', datetime.date(2024, 11, 24), Decimal('13.0000000000000000'))\n",
      "('RIKISHI (feat. DJ Acres)', datetime.date(2024, 11, 17), Decimal('50.0000000000000000'))\n",
      "('RIKISHI (feat. DJ Acres)', datetime.date(2024, 11, 18), Decimal('50.0000000000000000'))\n",
      "('RIKISHI (feat. DJ Acres)', datetime.date(2024, 11, 19), Decimal('49.0000000000000000'))\n",
      "('Robando', datetime.date(2024, 11, 22), Decimal('47.0000000000000000'))\n",
      "('Robando', datetime.date(2024, 11, 23), Decimal('40.0000000000000000'))\n",
      "('Robando', datetime.date(2024, 11, 24), Decimal('34.0000000000000000'))\n",
      "('Running Wild', datetime.date(2024, 11, 22), Decimal('42.6666666666666667'))\n",
      "('Running Wild', datetime.date(2024, 11, 23), Decimal('44.3333333333333333'))\n",
      "('Running Wild', datetime.date(2024, 11, 24), Decimal('47.0000000000000000'))\n",
      "('Santa', datetime.date(2024, 11, 17), Decimal('28.0000000000000000'))\n",
      "('Santa', datetime.date(2024, 11, 18), Decimal('24.8000000000000000'))\n",
      "('Santa', datetime.date(2024, 11, 19), Decimal('23.0000000000000000'))\n",
      "('Santa', datetime.date(2024, 11, 20), Decimal('26.7500000000000000'))\n",
      "('Santa', datetime.date(2024, 11, 21), Decimal('28.2500000000000000'))\n",
      "('Santa', datetime.date(2024, 11, 22), Decimal('24.5000000000000000'))\n",
      "('Santa', datetime.date(2024, 11, 23), Decimal('24.5000000000000000'))\n",
      "('Santa', datetime.date(2024, 11, 24), Decimal('25.5000000000000000'))\n",
      "('SANTAL 33', datetime.date(2024, 11, 17), Decimal('23.0000000000000000'))\n",
      "('SANTAL 33', datetime.date(2024, 11, 18), Decimal('23.0000000000000000'))\n",
      "('SANTAL 33', datetime.date(2024, 11, 19), Decimal('23.0000000000000000'))\n",
      "('SANTAL 33', datetime.date(2024, 11, 20), Decimal('20.0000000000000000'))\n",
      "('SANTAL 33', datetime.date(2024, 11, 21), Decimal('20.0000000000000000'))\n",
      "('SANTAL 33', datetime.date(2024, 11, 22), Decimal('19.0000000000000000'))\n",
      "('SANTAL 33', datetime.date(2024, 11, 23), Decimal('16.0000000000000000'))\n",
      "('SANTAL 33', datetime.date(2024, 11, 24), Decimal('17.0000000000000000'))\n",
      "('SATIROLOGÃ\\x8dA', datetime.date(2024, 11, 17), Decimal('32.0000000000000000'))\n",
      "('SATIROLOGÃ\\x8dA', datetime.date(2024, 11, 18), Decimal('39.0000000000000000'))\n",
      "('SATIROLOGÃ\\x8dA', datetime.date(2024, 11, 19), Decimal('37.0000000000000000'))\n",
      "('SATIROLOGÃ\\x8dA', datetime.date(2024, 11, 20), Decimal('29.0000000000000000'))\n",
      "('SATIROLOGÃ\\x8dA', datetime.date(2024, 11, 21), Decimal('33.0000000000000000'))\n",
      "('SATIROLOGÃ\\x8dA', datetime.date(2024, 11, 22), Decimal('32.0000000000000000'))\n",
      "('SATIROLOGÃ\\x8dA', datetime.date(2024, 11, 23), Decimal('32.0000000000000000'))\n",
      "('SATIROLOGÃ\\x8dA', datetime.date(2024, 11, 24), Decimal('31.0000000000000000'))\n",
      "('SE DICE DE MI', datetime.date(2024, 11, 18), Decimal('48.0000000000000000'))\n",
      "('SE DICE DE MI', datetime.date(2024, 11, 19), Decimal('36.0000000000000000'))\n",
      "('SE DICE DE MI', datetime.date(2024, 11, 20), Decimal('40.0000000000000000'))\n",
      "('Se Fue', datetime.date(2024, 11, 17), Decimal('17.2500000000000000'))\n",
      "('Se Fue', datetime.date(2024, 11, 18), Decimal('20.0000000000000000'))\n",
      "('Se Fue', datetime.date(2024, 11, 19), Decimal('16.3333333333333333'))\n",
      "('Se Fue', datetime.date(2024, 11, 20), Decimal('16.6666666666666667'))\n",
      "('Se Fue', datetime.date(2024, 11, 21), Decimal('18.6666666666666667'))\n",
      "('Se Fue', datetime.date(2024, 11, 22), Decimal('20.0000000000000000'))\n",
      "('Se Fue', datetime.date(2024, 11, 23), Decimal('17.3333333333333333'))\n",
      "('Se Fue', datetime.date(2024, 11, 24), Decimal('20.6666666666666667'))\n",
      "('SE ME OLVIDA', datetime.date(2024, 11, 17), Decimal('20.0000000000000000'))\n",
      "('SE ME OLVIDA', datetime.date(2024, 11, 18), Decimal('19.0000000000000000'))\n",
      "('SE ME OLVIDA', datetime.date(2024, 11, 19), Decimal('19.2500000000000000'))\n",
      "('SE ME OLVIDA', datetime.date(2024, 11, 20), Decimal('18.2500000000000000'))\n",
      "('SE ME OLVIDA', datetime.date(2024, 11, 21), Decimal('15.7500000000000000'))\n",
      "('SE ME OLVIDA', datetime.date(2024, 11, 22), Decimal('17.7500000000000000'))\n",
      "('SE ME OLVIDA', datetime.date(2024, 11, 23), Decimal('18.2500000000000000'))\n",
      "('SE ME OLVIDA', datetime.date(2024, 11, 24), Decimal('18.0000000000000000'))\n",
      "('SeÃ±al De Vida', datetime.date(2024, 11, 23), Decimal('50.0000000000000000'))\n",
      "('SegÃºn QuiÃ©n', datetime.date(2024, 11, 17), Decimal('39.0000000000000000'))\n",
      "('SegÃºn QuiÃ©n', datetime.date(2024, 11, 18), Decimal('25.3333333333333333'))\n",
      "('SegÃºn QuiÃ©n', datetime.date(2024, 11, 19), Decimal('24.6666666666666667'))\n",
      "('SegÃºn QuiÃ©n', datetime.date(2024, 11, 20), Decimal('31.6666666666666667'))\n",
      "('SegÃºn QuiÃ©n', datetime.date(2024, 11, 21), Decimal('29.3333333333333333'))\n",
      "('SegÃºn QuiÃ©n', datetime.date(2024, 11, 22), Decimal('26.3333333333333333'))\n",
      "('SegÃºn QuiÃ©n', datetime.date(2024, 11, 23), Decimal('27.6666666666666667'))\n",
      "('SegÃºn QuiÃ©n', datetime.date(2024, 11, 24), Decimal('27.6666666666666667'))\n",
      "('SEXXXMACHINE', datetime.date(2024, 11, 17), Decimal('35.0000000000000000'))\n",
      "('Si Antes Te Hubiera Conocido', datetime.date(2024, 11, 17), Decimal('11.8333333333333333'))\n",
      "('Si Antes Te Hubiera Conocido', datetime.date(2024, 11, 18), Decimal('8.1666666666666667'))\n",
      "('Si Antes Te Hubiera Conocido', datetime.date(2024, 11, 19), Decimal('9.0000000000000000'))\n",
      "('Si Antes Te Hubiera Conocido', datetime.date(2024, 11, 20), Decimal('9.8333333333333333'))\n",
      "('Si Antes Te Hubiera Conocido', datetime.date(2024, 11, 21), Decimal('10.3333333333333333'))\n",
      "('Si Antes Te Hubiera Conocido', datetime.date(2024, 11, 22), Decimal('9.8333333333333333'))\n",
      "('Si Antes Te Hubiera Conocido', datetime.date(2024, 11, 23), Decimal('10.6666666666666667'))\n",
      "('Si Antes Te Hubiera Conocido', datetime.date(2024, 11, 24), Decimal('11.1666666666666667'))\n",
      "('SI NO ES CONTIGO', datetime.date(2024, 11, 17), Decimal('27.0000000000000000'))\n",
      "('SI NO ES CONTIGO', datetime.date(2024, 11, 18), Decimal('21.0000000000000000'))\n",
      "('SI NO ES CONTIGO', datetime.date(2024, 11, 19), Decimal('19.0000000000000000'))\n",
      "('SI NO ES CONTIGO', datetime.date(2024, 11, 20), Decimal('23.0000000000000000'))\n",
      "('SI NO ES CONTIGO', datetime.date(2024, 11, 21), Decimal('24.0000000000000000'))\n",
      "('SI NO ES CONTIGO', datetime.date(2024, 11, 22), Decimal('26.0000000000000000'))\n",
      "('SI NO ES CONTIGO', datetime.date(2024, 11, 23), Decimal('23.0000000000000000'))\n",
      "('SI NO ES CONTIGO', datetime.date(2024, 11, 24), Decimal('23.0000000000000000'))\n",
      "('SI NO ES CONTIGO - REMIX', datetime.date(2024, 11, 17), Decimal('23.0000000000000000'))\n",
      "('SI NO ES CONTIGO - REMIX', datetime.date(2024, 11, 18), Decimal('26.0000000000000000'))\n",
      "('SI NO ES CONTIGO - REMIX', datetime.date(2024, 11, 19), Decimal('27.0000000000000000'))\n",
      "('SI NO ES CONTIGO - REMIX', datetime.date(2024, 11, 20), Decimal('27.0000000000000000'))\n",
      "('SI NO ES CONTIGO - REMIX', datetime.date(2024, 11, 21), Decimal('28.0000000000000000'))\n",
      "('SI NO ES CONTIGO - REMIX', datetime.date(2024, 11, 22), Decimal('27.0000000000000000'))\n",
      "('SI NO ES CONTIGO - REMIX', datetime.date(2024, 11, 23), Decimal('29.0000000000000000'))\n",
      "('SI NO ES CONTIGO - REMIX', datetime.date(2024, 11, 24), Decimal('29.0000000000000000'))\n",
      "('Si No Quieres No', datetime.date(2024, 11, 17), Decimal('27.0000000000000000'))\n",
      "('Si No Quieres No', datetime.date(2024, 11, 18), Decimal('22.0000000000000000'))\n",
      "('Si No Quieres No', datetime.date(2024, 11, 19), Decimal('16.0000000000000000'))\n",
      "('Si No Quieres No', datetime.date(2024, 11, 20), Decimal('21.0000000000000000'))\n",
      "('Si No Quieres No', datetime.date(2024, 11, 21), Decimal('26.0000000000000000'))\n",
      "('Si No Quieres No', datetime.date(2024, 11, 22), Decimal('23.0000000000000000'))\n",
      "('Si No Quieres No', datetime.date(2024, 11, 23), Decimal('26.0000000000000000'))\n",
      "('Si No Quieres No', datetime.date(2024, 11, 24), Decimal('31.0000000000000000'))\n",
      "('SI SABE FERXXO', datetime.date(2024, 11, 21), Decimal('49.0000000000000000'))\n",
      "('Si Un DÃ\\xada EstÃ¡s Sola | CROSSOVER #7', datetime.date(2024, 11, 17), Decimal('5.0000000000000000'))\n",
      "('Si Un DÃ\\xada EstÃ¡s Sola | CROSSOVER #7', datetime.date(2024, 11, 18), Decimal('3.0000000000000000'))\n",
      "('Si Un DÃ\\xada EstÃ¡s Sola | CROSSOVER #7', datetime.date(2024, 11, 19), Decimal('4.0000000000000000'))\n",
      "('Si Un DÃ\\xada EstÃ¡s Sola | CROSSOVER #7', datetime.date(2024, 11, 20), Decimal('4.0000000000000000'))\n",
      "('Si Un DÃ\\xada EstÃ¡s Sola | CROSSOVER #7', datetime.date(2024, 11, 21), Decimal('6.0000000000000000'))\n",
      "('Si Un DÃ\\xada EstÃ¡s Sola | CROSSOVER #7', datetime.date(2024, 11, 22), Decimal('6.0000000000000000'))\n",
      "('Si Un DÃ\\xada EstÃ¡s Sola | CROSSOVER #7', datetime.date(2024, 11, 23), Decimal('4.0000000000000000'))\n",
      "('Si Un DÃ\\xada EstÃ¡s Sola | CROSSOVER #7', datetime.date(2024, 11, 24), Decimal('5.0000000000000000'))\n",
      "('SINVERGÃœENZA - con Angela Torres', datetime.date(2024, 11, 17), Decimal('24.0000000000000000'))\n",
      "('SINVERGÃœENZA - con Angela Torres', datetime.date(2024, 11, 18), Decimal('18.0000000000000000'))\n",
      "('SINVERGÃœENZA - con Angela Torres', datetime.date(2024, 11, 19), Decimal('20.0000000000000000'))\n",
      "('SINVERGÃœENZA - con Angela Torres', datetime.date(2024, 11, 20), Decimal('18.0000000000000000'))\n",
      "('SINVERGÃœENZA - con Angela Torres', datetime.date(2024, 11, 21), Decimal('21.0000000000000000'))\n",
      "('SINVERGÃœENZA - con Angela Torres', datetime.date(2024, 11, 22), Decimal('24.0000000000000000'))\n",
      "('SINVERGÃœENZA - con Angela Torres', datetime.date(2024, 11, 23), Decimal('29.0000000000000000'))\n",
      "('SINVERGÃœENZA - con Angela Torres', datetime.date(2024, 11, 24), Decimal('21.0000000000000000'))\n",
      "('Sola Suelta Soltera', datetime.date(2024, 11, 17), Decimal('28.0000000000000000'))\n",
      "('Sola Suelta Soltera', datetime.date(2024, 11, 18), Decimal('31.0000000000000000'))\n",
      "('Sola Suelta Soltera', datetime.date(2024, 11, 19), Decimal('31.0000000000000000'))\n",
      "('Sola Suelta Soltera', datetime.date(2024, 11, 20), Decimal('32.0000000000000000'))\n",
      "('Sola Suelta Soltera', datetime.date(2024, 11, 21), Decimal('32.0000000000000000'))\n",
      "('Sola Suelta Soltera', datetime.date(2024, 11, 22), Decimal('31.0000000000000000'))\n",
      "('Sola Suelta Soltera', datetime.date(2024, 11, 23), Decimal('31.0000000000000000'))\n",
      "('Sola Suelta Soltera', datetime.date(2024, 11, 24), Decimal('36.0000000000000000'))\n",
      "('Soltera', datetime.date(2024, 11, 17), Decimal('28.8000000000000000'))\n",
      "('Soltera', datetime.date(2024, 11, 18), Decimal('23.8000000000000000'))\n",
      "('Soltera', datetime.date(2024, 11, 19), Decimal('25.0000000000000000'))\n",
      "('Soltera', datetime.date(2024, 11, 20), Decimal('26.0000000000000000'))\n",
      "('Soltera', datetime.date(2024, 11, 21), Decimal('26.0000000000000000'))\n",
      "('Soltera', datetime.date(2024, 11, 22), Decimal('30.2000000000000000'))\n",
      "('Soltera', datetime.date(2024, 11, 23), Decimal('30.0000000000000000'))\n",
      "('Soltera', datetime.date(2024, 11, 24), Decimal('28.6000000000000000'))\n",
      "('Soltera - W Sound 01', datetime.date(2024, 11, 17), Decimal('19.5000000000000000'))\n",
      "('Soltera - W Sound 01', datetime.date(2024, 11, 18), Decimal('18.0000000000000000'))\n",
      "('Soltera - W Sound 01', datetime.date(2024, 11, 19), Decimal('18.2500000000000000'))\n",
      "('Soltera - W Sound 01', datetime.date(2024, 11, 20), Decimal('18.7500000000000000'))\n",
      "('Soltera - W Sound 01', datetime.date(2024, 11, 21), Decimal('17.0000000000000000'))\n",
      "('Soltera - W Sound 01', datetime.date(2024, 11, 22), Decimal('16.0000000000000000'))\n",
      "('Soltera - W Sound 01', datetime.date(2024, 11, 23), Decimal('16.0000000000000000'))\n",
      "('Soltera - W Sound 01', datetime.date(2024, 11, 24), Decimal('17.0000000000000000'))\n",
      "('SORRY 4 THAT MUCH', datetime.date(2024, 11, 17), Decimal('25.3333333333333333'))\n",
      "('SORRY 4 THAT MUCH', datetime.date(2024, 11, 18), Decimal('17.5000000000000000'))\n",
      "('SORRY 4 THAT MUCH', datetime.date(2024, 11, 19), Decimal('24.6666666666666667'))\n",
      "('SORRY 4 THAT MUCH', datetime.date(2024, 11, 20), Decimal('26.0000000000000000'))\n",
      "('SORRY 4 THAT MUCH', datetime.date(2024, 11, 21), Decimal('24.3333333333333333'))\n",
      "('SORRY 4 THAT MUCH', datetime.date(2024, 11, 22), Decimal('25.6666666666666667'))\n",
      "('SORRY 4 THAT MUCH', datetime.date(2024, 11, 23), Decimal('24.0000000000000000'))\n",
      "('SORRY 4 THAT MUCH', datetime.date(2024, 11, 24), Decimal('24.3333333333333333'))\n",
      "('SQ - W Sound 04', datetime.date(2024, 11, 23), Decimal('4.0000000000000000'))\n",
      "('SQ - W Sound 04', datetime.date(2024, 11, 24), Decimal('11.0000000000000000'))\n",
      "('TAMBIÃ‰N', datetime.date(2024, 11, 17), Decimal('17.0000000000000000'))\n",
      "('TAMBIÃ‰N', datetime.date(2024, 11, 18), Decimal('21.0000000000000000'))\n",
      "('TAMBIÃ‰N', datetime.date(2024, 11, 19), Decimal('19.0000000000000000'))\n",
      "('TAMBIÃ‰N', datetime.date(2024, 11, 20), Decimal('19.0000000000000000'))\n",
      "('TAMBIÃ‰N', datetime.date(2024, 11, 21), Decimal('17.0000000000000000'))\n",
      "('TAMBIÃ‰N', datetime.date(2024, 11, 22), Decimal('16.0000000000000000'))\n",
      "('TAMBIÃ‰N', datetime.date(2024, 11, 23), Decimal('15.0000000000000000'))\n",
      "('TAMBIÃ‰N', datetime.date(2024, 11, 24), Decimal('18.0000000000000000'))\n",
      "('TÃº Con Ã‰l', datetime.date(2024, 11, 17), Decimal('20.5000000000000000'))\n",
      "('TÃº Con Ã‰l', datetime.date(2024, 11, 18), Decimal('17.0000000000000000'))\n",
      "('TÃº Con Ã‰l', datetime.date(2024, 11, 19), Decimal('20.6666666666666667'))\n",
      "('TÃº Con Ã‰l', datetime.date(2024, 11, 20), Decimal('24.0000000000000000'))\n",
      "('TÃº Con Ã‰l', datetime.date(2024, 11, 21), Decimal('24.3333333333333333'))\n",
      "('TÃº Con Ã‰l', datetime.date(2024, 11, 22), Decimal('28.3333333333333333'))\n",
      "('TÃº Con Ã‰l', datetime.date(2024, 11, 23), Decimal('27.0000000000000000'))\n",
      "('TÃº Con Ã‰l', datetime.date(2024, 11, 24), Decimal('20.0000000000000000'))\n",
      "('TÃº Con El', datetime.date(2024, 11, 19), Decimal('48.0000000000000000'))\n",
      "('TÃš NAME', datetime.date(2024, 11, 18), Decimal('49.0000000000000000'))\n",
      "('TÃš NAME', datetime.date(2024, 11, 23), Decimal('50.0000000000000000'))\n",
      "('TÃš NAME', datetime.date(2024, 11, 24), Decimal('40.0000000000000000'))\n",
      "('Tattoo', datetime.date(2024, 11, 17), Decimal('36.0000000000000000'))\n",
      "('Tattoo', datetime.date(2024, 11, 18), Decimal('27.0000000000000000'))\n",
      "('Tattoo', datetime.date(2024, 11, 19), Decimal('24.0000000000000000'))\n",
      "('Tattoo', datetime.date(2024, 11, 20), Decimal('37.0000000000000000'))\n",
      "('Tattoo', datetime.date(2024, 11, 21), Decimal('37.0000000000000000'))\n",
      "('Tattoo', datetime.date(2024, 11, 22), Decimal('39.0000000000000000'))\n",
      "('Tattoo', datetime.date(2024, 11, 23), Decimal('33.0000000000000000'))\n",
      "('Tattoo', datetime.date(2024, 11, 24), Decimal('32.0000000000000000'))\n",
      "('Te Vas a Arrepentir', datetime.date(2024, 11, 18), Decimal('44.0000000000000000'))\n",
      "('Te Vas a Arrepentir', datetime.date(2024, 11, 19), Decimal('38.0000000000000000'))\n",
      "('Te Vas a Arrepentir', datetime.date(2024, 11, 20), Decimal('47.0000000000000000'))\n",
      "('Toky', datetime.date(2024, 11, 17), Decimal('47.0000000000000000'))\n",
      "('Toky', datetime.date(2024, 11, 18), Decimal('39.0000000000000000'))\n",
      "('Toky', datetime.date(2024, 11, 19), Decimal('32.0000000000000000'))\n",
      "('Toky', datetime.date(2024, 11, 20), Decimal('46.0000000000000000'))\n",
      "('Toky', datetime.date(2024, 11, 21), Decimal('40.0000000000000000'))\n",
      "('Toky', datetime.date(2024, 11, 22), Decimal('34.0000000000000000'))\n",
      "('Toky', datetime.date(2024, 11, 23), Decimal('36.0000000000000000'))\n",
      "('Toky', datetime.date(2024, 11, 24), Decimal('31.0000000000000000'))\n",
      "('Touching The Sky', datetime.date(2024, 11, 17), Decimal('37.0000000000000000'))\n",
      "('TRES BOTELLAS', datetime.date(2024, 11, 18), Decimal('42.0000000000000000'))\n",
      "('TRES BOTELLAS', datetime.date(2024, 11, 19), Decimal('43.0000000000000000'))\n",
      "('TRES BOTELLAS', datetime.date(2024, 11, 20), Decimal('48.0000000000000000'))\n",
      "('TRES BOTELLAS', datetime.date(2024, 11, 21), Decimal('48.0000000000000000'))\n",
      "('TRES BOTELLAS', datetime.date(2024, 11, 22), Decimal('44.0000000000000000'))\n",
      "('TRES BOTELLAS', datetime.date(2024, 11, 23), Decimal('42.0000000000000000'))\n",
      "('TRES BOTELLAS', datetime.date(2024, 11, 24), Decimal('44.0000000000000000'))\n",
      "('Tu Boda', datetime.date(2024, 11, 17), Decimal('11.0000000000000000'))\n",
      "('Tu Boda', datetime.date(2024, 11, 18), Decimal('9.7500000000000000'))\n",
      "('Tu Boda', datetime.date(2024, 11, 19), Decimal('8.7500000000000000'))\n",
      "('Tu Boda', datetime.date(2024, 11, 20), Decimal('8.2500000000000000'))\n",
      "('Tu Boda', datetime.date(2024, 11, 21), Decimal('8.7500000000000000'))\n",
      "('Tu Boda', datetime.date(2024, 11, 22), Decimal('9.2500000000000000'))\n",
      "('Tu Boda', datetime.date(2024, 11, 23), Decimal('11.2500000000000000'))\n",
      "('Tu Boda', datetime.date(2024, 11, 24), Decimal('11.5000000000000000'))\n",
      "('Tu Foto - En Vivo', datetime.date(2024, 11, 17), Decimal('27.0000000000000000'))\n",
      "('Tu Foto - En Vivo', datetime.date(2024, 11, 18), Decimal('22.0000000000000000'))\n",
      "('Tu Foto - En Vivo', datetime.date(2024, 11, 19), Decimal('21.0000000000000000'))\n",
      "('Tu Foto - En Vivo', datetime.date(2024, 11, 20), Decimal('22.0000000000000000'))\n",
      "('Tu Foto - En Vivo', datetime.date(2024, 11, 21), Decimal('30.0000000000000000'))\n",
      "('Tu Foto - En Vivo', datetime.date(2024, 11, 22), Decimal('36.0000000000000000'))\n",
      "('Tu Foto - En Vivo', datetime.date(2024, 11, 23), Decimal('39.0000000000000000'))\n",
      "('Tu Foto - En Vivo', datetime.date(2024, 11, 24), Decimal('29.0000000000000000'))\n",
      "('TU SI', datetime.date(2024, 11, 19), Decimal('44.0000000000000000'))\n",
      "('TU SI', datetime.date(2024, 11, 20), Decimal('43.0000000000000000'))\n",
      "('TU SI', datetime.date(2024, 11, 21), Decimal('47.0000000000000000'))\n",
      "('TU SI', datetime.date(2024, 11, 22), Decimal('40.0000000000000000'))\n",
      "('TU SI', datetime.date(2024, 11, 23), Decimal('40.0000000000000000'))\n",
      "('TU SI', datetime.date(2024, 11, 24), Decimal('45.0000000000000000'))\n",
      "('TU TA RICA', datetime.date(2024, 11, 17), Decimal('20.0000000000000000'))\n",
      "('TU TA RICA', datetime.date(2024, 11, 18), Decimal('24.0000000000000000'))\n",
      "('TU TA RICA', datetime.date(2024, 11, 19), Decimal('23.0000000000000000'))\n",
      "('TU TA RICA', datetime.date(2024, 11, 20), Decimal('28.0000000000000000'))\n",
      "('TU TA RICA', datetime.date(2024, 11, 21), Decimal('25.0000000000000000'))\n",
      "('TU TA RICA', datetime.date(2024, 11, 22), Decimal('21.0000000000000000'))\n",
      "('TU TA RICA', datetime.date(2024, 11, 23), Decimal('21.0000000000000000'))\n",
      "('TU TA RICA', datetime.date(2024, 11, 24), Decimal('24.0000000000000000'))\n",
      "('Tuss', datetime.date(2024, 11, 17), Decimal('42.0000000000000000'))\n",
      "('Tuss', datetime.date(2024, 11, 18), Decimal('42.0000000000000000'))\n",
      "('Tuss', datetime.date(2024, 11, 19), Decimal('44.0000000000000000'))\n",
      "('Tuss', datetime.date(2024, 11, 20), Decimal('47.0000000000000000'))\n",
      "('Tuss', datetime.date(2024, 11, 21), Decimal('48.0000000000000000'))\n",
      "('Tuss', datetime.date(2024, 11, 22), Decimal('49.0000000000000000'))\n",
      "('Tuss', datetime.date(2024, 11, 23), Decimal('44.0000000000000000'))\n",
      "('Un Finde | CROSSOVER #2', datetime.date(2024, 11, 18), Decimal('50.0000000000000000'))\n",
      "('Un Finde | CROSSOVER #2', datetime.date(2024, 11, 19), Decimal('50.0000000000000000'))\n",
      "('Un Finde | CROSSOVER #2', datetime.date(2024, 11, 20), Decimal('41.0000000000000000'))\n",
      "('Un Finde | CROSSOVER #2', datetime.date(2024, 11, 21), Decimal('50.0000000000000000'))\n",
      "('Un MillÃ³n de Primaveras', datetime.date(2024, 11, 17), Decimal('50.0000000000000000'))\n",
      "('Un MillÃ³n de Primaveras', datetime.date(2024, 11, 18), Decimal('49.0000000000000000'))\n",
      "('Un MillÃ³n de Primaveras', datetime.date(2024, 11, 19), Decimal('35.0000000000000000'))\n",
      "('Un MillÃ³n de Primaveras', datetime.date(2024, 11, 20), Decimal('41.0000000000000000'))\n",
      "('Un MillÃ³n de Primaveras', datetime.date(2024, 11, 21), Decimal('38.0000000000000000'))\n",
      "('Un MillÃ³n de Primaveras', datetime.date(2024, 11, 22), Decimal('47.0000000000000000'))\n",
      "('Un MillÃ³n de Primaveras', datetime.date(2024, 11, 23), Decimal('46.0000000000000000'))\n",
      "('Un MillÃ³n de Primaveras', datetime.date(2024, 11, 24), Decimal('41.0000000000000000'))\n",
      "('Un MontÃ³n de Estrellas - En Vivo Gran Rex', datetime.date(2024, 11, 18), Decimal('46.0000000000000000'))\n",
      "('Un MontÃ³n de Estrellas - En Vivo Gran Rex', datetime.date(2024, 11, 19), Decimal('44.0000000000000000'))\n",
      "('Un MontÃ³n de Estrellas - En Vivo Gran Rex', datetime.date(2024, 11, 20), Decimal('46.0000000000000000'))\n",
      "('Un Scar', datetime.date(2024, 11, 18), Decimal('40.0000000000000000'))\n",
      "('Un Scar', datetime.date(2024, 11, 19), Decimal('37.0000000000000000'))\n",
      "('Un Scar', datetime.date(2024, 11, 20), Decimal('37.0000000000000000'))\n",
      "('Un Scar', datetime.date(2024, 11, 21), Decimal('35.0000000000000000'))\n",
      "('Un Scar', datetime.date(2024, 11, 22), Decimal('36.0000000000000000'))\n",
      "('Un Scar', datetime.date(2024, 11, 23), Decimal('36.0000000000000000'))\n",
      "('Un Scar', datetime.date(2024, 11, 24), Decimal('38.0000000000000000'))\n",
      "('UN SIGLO SIN TI', datetime.date(2024, 11, 17), Decimal('26.0000000000000000'))\n",
      "('UN SIGLO SIN TI', datetime.date(2024, 11, 18), Decimal('25.0000000000000000'))\n",
      "('UN SIGLO SIN TI', datetime.date(2024, 11, 19), Decimal('22.0000000000000000'))\n",
      "('UN SIGLO SIN TI', datetime.date(2024, 11, 20), Decimal('24.0000000000000000'))\n",
      "('UN SIGLO SIN TI', datetime.date(2024, 11, 21), Decimal('32.0000000000000000'))\n",
      "('UN SIGLO SIN TI', datetime.date(2024, 11, 22), Decimal('34.0000000000000000'))\n",
      "('UN SIGLO SIN TI', datetime.date(2024, 11, 23), Decimal('33.0000000000000000'))\n",
      "('UN SIGLO SIN TI', datetime.date(2024, 11, 24), Decimal('36.0000000000000000'))\n",
      "('un x100to', datetime.date(2024, 11, 19), Decimal('46.0000000000000000'))\n",
      "('Una Vida Pasada', datetime.date(2024, 11, 17), Decimal('47.0000000000000000'))\n",
      "('Una Vida Pasada', datetime.date(2024, 11, 18), Decimal('40.5000000000000000'))\n",
      "('Una Vida Pasada', datetime.date(2024, 11, 19), Decimal('40.0000000000000000'))\n",
      "('Una Vida Pasada', datetime.date(2024, 11, 20), Decimal('41.0000000000000000'))\n",
      "('Una Vida Pasada', datetime.date(2024, 11, 21), Decimal('40.0000000000000000'))\n",
      "('Una Vida Pasada', datetime.date(2024, 11, 22), Decimal('32.0000000000000000'))\n",
      "('Una Vida Pasada', datetime.date(2024, 11, 23), Decimal('34.0000000000000000'))\n",
      "('Una Vida Pasada', datetime.date(2024, 11, 24), Decimal('32.0000000000000000'))\n",
      "('UWAIE', datetime.date(2024, 11, 17), Decimal('20.0000000000000000'))\n",
      "('UWAIE', datetime.date(2024, 11, 18), Decimal('18.2000000000000000'))\n",
      "('UWAIE', datetime.date(2024, 11, 19), Decimal('21.0000000000000000'))\n",
      "('UWAIE', datetime.date(2024, 11, 20), Decimal('19.2000000000000000'))\n",
      "('UWAIE', datetime.date(2024, 11, 21), Decimal('20.0000000000000000'))\n",
      "('UWAIE', datetime.date(2024, 11, 22), Decimal('19.2000000000000000'))\n",
      "('UWAIE', datetime.date(2024, 11, 23), Decimal('21.6000000000000000'))\n",
      "('UWAIE', datetime.date(2024, 11, 24), Decimal('21.4000000000000000'))\n",
      "('Vaquero - Remix', datetime.date(2024, 11, 17), Decimal('43.0000000000000000'))\n",
      "('Vaquero - Remix', datetime.date(2024, 11, 18), Decimal('39.0000000000000000'))\n",
      "('Vaquero - Remix', datetime.date(2024, 11, 19), Decimal('38.0000000000000000'))\n",
      "('Vaquero - Remix', datetime.date(2024, 11, 20), Decimal('42.0000000000000000'))\n",
      "('Vaquero - Remix', datetime.date(2024, 11, 21), Decimal('42.0000000000000000'))\n",
      "('Vaquero - Remix', datetime.date(2024, 11, 22), Decimal('39.0000000000000000'))\n",
      "('Vaquero - Remix', datetime.date(2024, 11, 23), Decimal('38.0000000000000000'))\n",
      "('Vaquero - Remix', datetime.date(2024, 11, 24), Decimal('39.0000000000000000'))\n",
      "('Ven DevÃ³rame Otra Vez', datetime.date(2024, 11, 19), Decimal('49.0000000000000000'))\n",
      "('Vibra Perfecta', datetime.date(2024, 11, 19), Decimal('46.0000000000000000'))\n",
      "('Vibra Perfecta', datetime.date(2024, 11, 20), Decimal('45.0000000000000000'))\n",
      "('Vibra Perfecta', datetime.date(2024, 11, 21), Decimal('45.0000000000000000'))\n",
      "('Vida De Rock', datetime.date(2024, 11, 17), Decimal('21.0000000000000000'))\n",
      "('Vida De Rock', datetime.date(2024, 11, 18), Decimal('29.0000000000000000'))\n",
      "('Vida De Rock', datetime.date(2024, 11, 19), Decimal('27.0000000000000000'))\n",
      "('Vida De Rock', datetime.date(2024, 11, 20), Decimal('25.0000000000000000'))\n",
      "('Vida De Rock', datetime.date(2024, 11, 21), Decimal('19.0000000000000000'))\n",
      "('Vida De Rock', datetime.date(2024, 11, 22), Decimal('19.0000000000000000'))\n",
      "('Vida De Rock', datetime.date(2024, 11, 23), Decimal('20.0000000000000000'))\n",
      "('Vida De Rock', datetime.date(2024, 11, 24), Decimal('26.0000000000000000'))\n",
      "('Virgen', datetime.date(2024, 11, 18), Decimal('40.0000000000000000'))\n",
      "('Virgen', datetime.date(2024, 11, 19), Decimal('28.0000000000000000'))\n",
      "('Virgen', datetime.date(2024, 11, 20), Decimal('42.0000000000000000'))\n",
      "('Virgen', datetime.date(2024, 11, 21), Decimal('49.0000000000000000'))\n",
      "('Virgen', datetime.date(2024, 11, 22), Decimal('44.0000000000000000'))\n",
      "('Virgen', datetime.date(2024, 11, 23), Decimal('47.0000000000000000'))\n",
      "('Virgen', datetime.date(2024, 11, 24), Decimal('43.0000000000000000'))\n",
      "('Volver Al Futuro', datetime.date(2024, 11, 18), Decimal('43.0000000000000000'))\n",
      "('Volver Al Futuro', datetime.date(2024, 11, 19), Decimal('47.0000000000000000'))\n",
      "('Volver Al Futuro', datetime.date(2024, 11, 20), Decimal('46.0000000000000000'))\n",
      "('Volver Al Futuro', datetime.date(2024, 11, 21), Decimal('46.0000000000000000'))\n",
      "('Volver Al Futuro', datetime.date(2024, 11, 22), Decimal('41.0000000000000000'))\n",
      "('Volver Al Futuro', datetime.date(2024, 11, 23), Decimal('39.0000000000000000'))\n",
      "('Volver Al Futuro', datetime.date(2024, 11, 24), Decimal('41.0000000000000000'))\n",
      "('Who', datetime.date(2024, 11, 17), Decimal('19.0000000000000000'))\n",
      "('Who', datetime.date(2024, 11, 18), Decimal('13.5000000000000000'))\n",
      "('Who', datetime.date(2024, 11, 19), Decimal('12.5000000000000000'))\n",
      "('Who', datetime.date(2024, 11, 20), Decimal('12.5000000000000000'))\n",
      "('Who', datetime.date(2024, 11, 21), Decimal('11.0000000000000000'))\n",
      "('Who', datetime.date(2024, 11, 22), Decimal('13.0000000000000000'))\n",
      "('Who', datetime.date(2024, 11, 23), Decimal('14.0000000000000000'))\n",
      "('Who', datetime.date(2024, 11, 24), Decimal('15.5000000000000000'))\n",
      "('Y LLORO', datetime.date(2024, 11, 17), Decimal('17.0000000000000000'))\n",
      "('Y LLORO', datetime.date(2024, 11, 18), Decimal('15.0000000000000000'))\n",
      "('Y LLORO', datetime.date(2024, 11, 19), Decimal('19.0000000000000000'))\n",
      "('Y LLORO', datetime.date(2024, 11, 20), Decimal('23.0000000000000000'))\n",
      "('Y LLORO', datetime.date(2024, 11, 21), Decimal('23.0000000000000000'))\n",
      "('Y LLORO', datetime.date(2024, 11, 22), Decimal('21.0000000000000000'))\n",
      "('Y LLORO', datetime.date(2024, 11, 23), Decimal('22.0000000000000000'))\n",
      "('Y LLORO', datetime.date(2024, 11, 24), Decimal('20.0000000000000000'))\n",
      "('Ya No Vuelvas (VersiÃ³n Cuarteto)', datetime.date(2024, 11, 18), Decimal('45.0000000000000000'))\n",
      "('Ya No Vuelvas (VersiÃ³n Cuarteto)', datetime.date(2024, 11, 19), Decimal('46.0000000000000000'))\n",
      "('Ya No Vuelvas (VersiÃ³n Cuarteto)', datetime.date(2024, 11, 20), Decimal('44.0000000000000000'))\n",
      "('Yo Te Quiero (feat. Chris Jonex)', datetime.date(2024, 11, 17), Decimal('37.0000000000000000'))\n",
      "('Yo Te Quiero (feat. Chris Jonex)', datetime.date(2024, 11, 19), Decimal('30.0000000000000000'))\n",
      "('Yo Te Quiero (feat. Chris Jonex)', datetime.date(2024, 11, 22), Decimal('32.0000000000000000'))\n",
      "('YOGURCITO', datetime.date(2024, 11, 17), Decimal('42.0000000000000000'))\n",
      "('YOGURCITO', datetime.date(2024, 11, 18), Decimal('42.0000000000000000'))\n",
      "('YOGURCITO', datetime.date(2024, 11, 19), Decimal('43.0000000000000000'))\n",
      "('YOGURCITO', datetime.date(2024, 11, 20), Decimal('41.0000000000000000'))\n",
      "('YOGURCITO', datetime.date(2024, 11, 21), Decimal('41.0000000000000000'))\n",
      "('YOGURCITO', datetime.date(2024, 11, 22), Decimal('38.0000000000000000'))\n",
      "('YOGURCITO', datetime.date(2024, 11, 23), Decimal('36.0000000000000000'))\n",
      "('YOGURCITO', datetime.date(2024, 11, 24), Decimal('38.0000000000000000'))\n",
      "('Zoom Zoom', datetime.date(2024, 11, 17), Decimal('3.0000000000000000'))\n",
      "('Zoom Zoom', datetime.date(2024, 11, 18), Decimal('3.0000000000000000'))\n",
      "('Zoom Zoom', datetime.date(2024, 11, 19), Decimal('4.0000000000000000'))\n",
      "('Zoom Zoom', datetime.date(2024, 11, 20), Decimal('3.0000000000000000'))\n",
      "('Zoom Zoom', datetime.date(2024, 11, 21), Decimal('3.0000000000000000'))\n",
      "('Zoom Zoom', datetime.date(2024, 11, 22), Decimal('4.0000000000000000'))\n",
      "('Zoom Zoom', datetime.date(2024, 11, 23), Decimal('4.0000000000000000'))\n",
      "('Zoom Zoom', datetime.date(2024, 11, 24), Decimal('4.0000000000000000'))\n",
      "\n",
      "\n",
      "CONSULTA 4: pais, promedio_energy, promedio_danceability, promedio_tempo, cantidad_canciones\n",
      "('Ecuador', 78, Decimal('0.22090909090909090909'), Decimal('0.000076824583866837387964'), Decimal('0.10139978150836351265'), Decimal('0.12389987474522800033'))\n",
      "('Argentina', 77, Decimal('0.20594292803970223325'), Decimal('0.00029776674937965261'), Decimal('0.10098692207305362181'), Decimal('0.13031491450756121334'))\n",
      "('Chile', 72, Decimal('0.19128956623681125440'), Decimal('0.00543962485345838218'), Decimal('0.09734338516025514843'), Decimal('0.11569708075919439455'))\n",
      "('Colombia', 63, Decimal('0.23779452054794520548'), Decimal('0E-20'), Decimal('0.09882028167894027006'), Decimal('0.10914461475717496878'))\n",
      "('Costa Rica', 61, Decimal('0.25272972972972972973'), Decimal('0.00032432432432432432'), Decimal('0.10935516576866003983'), Decimal('0.10041507317976929966'))\n",
      "('Mexico', 55, Decimal('0.32605744125326370757'), Decimal('0E-20'), Decimal('0.07912077756149688656'), Decimal('0.14079658454580793701'))\n",
      "\n",
      "\n",
      "Conexión cerrada\n"
     ]
    }
   ],
   "source": [
    "from connection import *\n",
    "import dash\n",
    "import psycopg2\n",
    "from dash import Dash, html, dcc\n",
    "import matplotlib.pyplot as plt\n",
    "import numpy as np\n",
    "import plotly.express as px\n",
    "import pandas as pd\n",
    "import seaborn as sns"
   ]
  },
  {
   "cell_type": "markdown",
   "metadata": {},
   "source": [
    "\n",
    "# Gráfica / representación de la consulta 1\n",
    "\n",
    "En esta sección, se presenta la gráfica de barras generada a partir de los datos obtenidos de la consulta 1. Esta consulta analiza cómo los atributos musicales de las canciones, como danceability, energy, valence y tempo, están relacionados con su éxito en los rankings (definido por su mejor posición alcanzada)."
   ]
  },
  {
   "cell_type": "code",
   "execution_count": 2,
   "metadata": {},
   "outputs": [
    {
     "name": "stdout",
     "output_type": "stream",
     "text": [
      "Conexión exitosa\n",
      "                spotify_id                                cancion  \\\n",
      "0   0l0vcZMU7AOeQmUIREoI2U                       QuÃ© PasarÃ­a...   \n",
      "1   3mg9jYNC1NihbthlglzrWP                                     57   \n",
      "2   6hLsMjw00j3HGrkUjKwmgo                                   A200   \n",
      "3   5MKbWaXeSQSmzmo7gPQha1                           Amor de Vago   \n",
      "4   1YYfyJ2yCvGFCxwjsIqEK9                                  KhÃ©?   \n",
      "5   03IpZ9yqJlo3EIgDQUgBSF                              Nueva Era   \n",
      "6   1cOboCuWYI2osTOfolMRS6                                Tu Boda   \n",
      "7   0c82YIGpQ5dCaXpTNCk4sb                               AlegrÃ­a   \n",
      "8   4OLT65TRsOx3Iv1TlCcQVb                             Presidente   \n",
      "9   6X6m4xmdFcz31p1h7Qg68c                             EL LOKERON   \n",
      "10  6PhRhocBXP4y7NpciGmzra                       DespuÃ©s De La 1   \n",
      "11  13BDiikG6y5o5cQTK0HpW6                   Soltera - W Sound 01   \n",
      "12  1uFW6czrHk5PsK3s6gOI7C                                 Se Fue   \n",
      "13  5AkLEnorFvb7WIJOGqKYVT  Si Un DÃ­a EstÃ¡s Sola | CROSSOVER #7   \n",
      "14  2eQFYGegTZaObk2kuBz83Z                            TÃº Con Ã‰l   \n",
      "15  2Bf7izPNpcTVNL41bdyFic                              Zoom Zoom   \n",
      "16  0Sr7ssScx54yxdM2ols7nW          Q U E V A S H A C E R H O Y ?   \n",
      "17  7tI8dRuH2Yc6RuoTjxo4dU                                    Who   \n",
      "18  2btNsI4OvcVl7SAHQQDHFB                                MÃ­rame   \n",
      "19  5lKFO0PrOC9jmOlPEdjHsL                              DOS DÃAS   \n",
      "20  5eqZZLLZ4CkuUznPCOimsi                             Cosa Linda   \n",
      "21  0fKK51bU6lcCCwdNnv64t3                              DEPORTIVO   \n",
      "22  7zYAuEf69m4bQmJvw0MTka                        SQ - W Sound 04   \n",
      "23  6WatFBLVB0x077xWeoVc2k           Si Antes Te Hubiera Conocido   \n",
      "24  2ALQyXMC26Vew7JX7ert9M  POLOS OPUESTOS REMIX - BLESSD VERSION   \n",
      "25  7yrTny7FLWLbfIzsxoicWj                        noviogangsta <3   \n",
      "26  7bywjHOc0wSjGGbj04XbVi                                   LUNA   \n",
      "27  7sd6zMrgGpEa7NkQm9TRrg                                  NADIE   \n",
      "28  69vi5SUSJJF0CQJCZngFFS                          Parte & Choke   \n",
      "29  6HrALJOMsfPCCbUo5cJCON                               ESCAPATE   \n",
      "30  2gmd7lY3QSzLh0xIY4cRvi                           SE ME OLVIDA   \n",
      "31  5UxEKpzvvLnjoC10XoogN3                           Cosa Nuestra   \n",
      "32  0qeIFEGRQqHoaJtLCl0U73     DEGENERE ðŸ‘‘ (feat. benny blanco)   \n",
      "33  2aYZaN5SmkRDLsrrV8GkBQ                            LA PATRULLA   \n",
      "34  0NsGFMIo2aNbAkJu48ndaf                          Morena Canela   \n",
      "35  42wdz3j7gstgUuhoFLCXqd                              PELIGROSA   \n",
      "36  2lAUq68F2bt7Kc218n9FPp                               AY MAMÃ   \n",
      "37  6kPCcIAGoTeRrh8qrmKa90                                   Piel   \n",
      "38  3KwYiawBfqngH7eaUHQn2N                                   FDSR   \n",
      "39  4dLLdfiniBhDP9dlJQIOi4               Perdonarte, Â¿Para QuÃ©?   \n",
      "40  3ps5MDjfpA3wAbKMitNWgM                                 MIRALA   \n",
      "41  3PJgmyLaybZtALX4mrgbiD                       Espresso Martini   \n",
      "42  4lqJsJd7kqWVvamQ4aFHA8                                RevolÃº   \n",
      "43  0BiDnJFB3TlRB6aji7jUz3                          Rey Sin Reina   \n",
      "44  281YJmnThveWjsWVic9Ym6                    Las Piponas (Remix)   \n",
      "45  2SuosMcETUjDfBRobLLTQm                             CHIKA MALA   \n",
      "46  0EVxchTHYIgx618OrpcrdQ                                  AGORA   \n",
      "47  5LhI8m7n8xlQmNe3b7Rwis                                Madonna   \n",
      "48  0iVEujJcafOBnxa654fJYu                       Cosas Pendientes   \n",
      "49  5QjmUqgpPQgXgg4606DqZF                                  UWAIE   \n",
      "50  2plbrEY59IikOBgBGLjaoe                       Die With A Smile   \n",
      "51  0Qe2g06yzLBuuSvVmFiweP                    Hasta AquÃ­ LleguÃ©   \n",
      "52  5tZgkV8FTe3rtl8OcSeQAb                         DÃ©jame Entrar   \n",
      "53  5AH31dDNgxCMGDdxubNNn4                                    NEL   \n",
      "\n",
      "   danceability energy valence   tempo  mejor_ranking  \n",
      "0          0.83   0.56    0.34  105.01              1  \n",
      "1          0.85   0.71    0.69   91.98              1  \n",
      "2          0.75   0.86    0.77  118.47              1  \n",
      "3          0.65   0.51    0.60  179.98              1  \n",
      "4          0.69   0.63    0.47  155.87              1  \n",
      "5          0.56   0.72    0.68  101.10              1  \n",
      "6          0.69   0.65    0.47  112.65              1  \n",
      "7          0.58   0.66    0.88   84.27              2  \n",
      "8          0.73   0.83    0.58  105.15              2  \n",
      "9          0.72   0.69    0.94  120.21              2  \n",
      "10         0.81   0.58    0.53   99.97              2  \n",
      "11         0.73   0.58    0.88  200.00              2  \n",
      "12         0.69   0.74    0.14  119.96              2  \n",
      "13         0.63   0.51    0.74  183.90              3  \n",
      "14         0.74   0.89    0.79   93.05              3  \n",
      "15         0.83   0.58    0.81   99.94              3  \n",
      "16         0.56   0.68    0.39  155.08              3  \n",
      "17         0.66   0.76    0.84  116.03              3  \n",
      "18         0.72   0.66    0.70  175.96              3  \n",
      "19         0.75   0.51    0.93  109.94              3  \n",
      "20         0.84   0.65    0.66   95.94              3  \n",
      "21         0.82   0.76    0.78   90.03              4  \n",
      "22         0.77   0.78    0.91   97.09              4  \n",
      "23         0.92   0.67    0.79  128.03              4  \n",
      "24         0.54   0.55    0.55  118.99              4  \n",
      "25         0.82   0.87    0.94  128.92              4  \n",
      "26         0.77   0.86    0.45  100.02              4  \n",
      "27         0.70   0.84    0.53   92.60              5  \n",
      "28         0.73   0.67    0.86  117.35              5  \n",
      "29         0.82   0.45    0.69  120.09              5  \n",
      "30         0.79   0.71    0.69   82.05              6  \n",
      "31         0.69   0.68    0.74  172.04              6  \n",
      "32         0.74   0.71    0.71  194.06              6  \n",
      "33         0.72   0.74    0.89  132.73              6  \n",
      "34         0.66   0.61    0.47  119.89              6  \n",
      "35         0.76   0.52    0.80  100.03              6  \n",
      "36         0.67   0.76    0.73  148.85              7  \n",
      "37         0.65   0.91    0.82  168.00              7  \n",
      "38         0.80   0.66    0.66  175.93              7  \n",
      "39         0.67   0.70    0.62   90.04              7  \n",
      "40         0.81   0.74    0.80   87.99              7  \n",
      "41         0.86   0.57    0.19  123.04              7  \n",
      "42         0.73   0.69    0.44  196.12              8  \n",
      "43         0.53   0.36    0.66  169.65              8  \n",
      "44         0.73   0.59    0.11  119.66              8  \n",
      "45         0.64   0.49    0.76   99.33              8  \n",
      "46         0.69   0.87    0.63  169.86              8  \n",
      "47         0.73   0.87    0.66  128.03              9  \n",
      "48         0.84   0.67    0.78   82.01              9  \n",
      "49         0.71   0.78    0.45  103.00              9  \n",
      "50         0.52   0.59    0.54  157.97              9  \n",
      "51         0.64   0.66    0.41  100.02              9  \n",
      "52         0.68   0.70    0.26  102.01             10  \n",
      "53         0.69   0.48    0.36  100.03             10  \n"
     ]
    },
    {
     "data": {
      "application/vnd.plotly.v1+json": {
       "config": {
        "plotlyServerURL": "https://plot.ly"
       },
       "data": [
        {
         "alignmentgroup": "True",
         "hovertemplate": "Canción=%{x}<br>Mejor Ranking=%{y}<extra></extra>",
         "legendgroup": "",
         "marker": {
          "color": "#636efa",
          "pattern": {
           "shape": ""
          }
         },
         "name": "",
         "offsetgroup": "",
         "orientation": "v",
         "showlegend": false,
         "textposition": "auto",
         "type": "bar",
         "x": [
          "QuÃ© PasarÃ­a...",
          "57",
          "A200",
          "Amor de Vago",
          "KhÃ©?",
          "Nueva Era",
          "Tu Boda",
          "AlegrÃ­a",
          "Presidente",
          "EL LOKERON",
          "DespuÃ©s De La 1",
          "Soltera - W Sound 01",
          "Se Fue",
          "Si Un DÃ­a EstÃ¡s Sola | CROSSOVER #7",
          "TÃº Con Ã‰l",
          "Zoom Zoom",
          "Q U E V A S H A C E R H O Y ?",
          "Who",
          "MÃ­rame",
          "DOS DÃAS",
          "Cosa Linda",
          "DEPORTIVO",
          "SQ - W Sound 04",
          "Si Antes Te Hubiera Conocido",
          "POLOS OPUESTOS REMIX - BLESSD VERSION",
          "noviogangsta <3",
          "LUNA",
          "NADIE",
          "Parte & Choke",
          "ESCAPATE",
          "SE ME OLVIDA",
          "Cosa Nuestra",
          "DEGENERE ðŸ‘‘ (feat. benny blanco)",
          "LA PATRULLA",
          "Morena Canela",
          "PELIGROSA",
          "AY MAMÃ",
          "Piel",
          "FDSR",
          "Perdonarte, Â¿Para QuÃ©?",
          "MIRALA",
          "Espresso Martini",
          "RevolÃº",
          "Rey Sin Reina",
          "Las Piponas (Remix)",
          "CHIKA MALA",
          "AGORA",
          "Madonna",
          "Cosas Pendientes",
          "UWAIE",
          "Die With A Smile",
          "Hasta AquÃ­ LleguÃ©",
          "DÃ©jame Entrar",
          "NEL"
         ],
         "xaxis": "x",
         "y": [
          1,
          1,
          1,
          1,
          1,
          1,
          1,
          2,
          2,
          2,
          2,
          2,
          2,
          3,
          3,
          3,
          3,
          3,
          3,
          3,
          3,
          4,
          4,
          4,
          4,
          4,
          4,
          5,
          5,
          5,
          6,
          6,
          6,
          6,
          6,
          6,
          7,
          7,
          7,
          7,
          7,
          7,
          8,
          8,
          8,
          8,
          8,
          9,
          9,
          9,
          9,
          9,
          10,
          10
         ],
         "yaxis": "y"
        }
       ],
       "layout": {
        "barmode": "relative",
        "legend": {
         "tracegroupgap": 0
        },
        "template": {
         "data": {
          "bar": [
           {
            "error_x": {
             "color": "#2a3f5f"
            },
            "error_y": {
             "color": "#2a3f5f"
            },
            "marker": {
             "line": {
              "color": "#E5ECF6",
              "width": 0.5
             },
             "pattern": {
              "fillmode": "overlay",
              "size": 10,
              "solidity": 0.2
             }
            },
            "type": "bar"
           }
          ],
          "barpolar": [
           {
            "marker": {
             "line": {
              "color": "#E5ECF6",
              "width": 0.5
             },
             "pattern": {
              "fillmode": "overlay",
              "size": 10,
              "solidity": 0.2
             }
            },
            "type": "barpolar"
           }
          ],
          "carpet": [
           {
            "aaxis": {
             "endlinecolor": "#2a3f5f",
             "gridcolor": "white",
             "linecolor": "white",
             "minorgridcolor": "white",
             "startlinecolor": "#2a3f5f"
            },
            "baxis": {
             "endlinecolor": "#2a3f5f",
             "gridcolor": "white",
             "linecolor": "white",
             "minorgridcolor": "white",
             "startlinecolor": "#2a3f5f"
            },
            "type": "carpet"
           }
          ],
          "choropleth": [
           {
            "colorbar": {
             "outlinewidth": 0,
             "ticks": ""
            },
            "type": "choropleth"
           }
          ],
          "contour": [
           {
            "colorbar": {
             "outlinewidth": 0,
             "ticks": ""
            },
            "colorscale": [
             [
              0,
              "#0d0887"
             ],
             [
              0.1111111111111111,
              "#46039f"
             ],
             [
              0.2222222222222222,
              "#7201a8"
             ],
             [
              0.3333333333333333,
              "#9c179e"
             ],
             [
              0.4444444444444444,
              "#bd3786"
             ],
             [
              0.5555555555555556,
              "#d8576b"
             ],
             [
              0.6666666666666666,
              "#ed7953"
             ],
             [
              0.7777777777777778,
              "#fb9f3a"
             ],
             [
              0.8888888888888888,
              "#fdca26"
             ],
             [
              1,
              "#f0f921"
             ]
            ],
            "type": "contour"
           }
          ],
          "contourcarpet": [
           {
            "colorbar": {
             "outlinewidth": 0,
             "ticks": ""
            },
            "type": "contourcarpet"
           }
          ],
          "heatmap": [
           {
            "colorbar": {
             "outlinewidth": 0,
             "ticks": ""
            },
            "colorscale": [
             [
              0,
              "#0d0887"
             ],
             [
              0.1111111111111111,
              "#46039f"
             ],
             [
              0.2222222222222222,
              "#7201a8"
             ],
             [
              0.3333333333333333,
              "#9c179e"
             ],
             [
              0.4444444444444444,
              "#bd3786"
             ],
             [
              0.5555555555555556,
              "#d8576b"
             ],
             [
              0.6666666666666666,
              "#ed7953"
             ],
             [
              0.7777777777777778,
              "#fb9f3a"
             ],
             [
              0.8888888888888888,
              "#fdca26"
             ],
             [
              1,
              "#f0f921"
             ]
            ],
            "type": "heatmap"
           }
          ],
          "heatmapgl": [
           {
            "colorbar": {
             "outlinewidth": 0,
             "ticks": ""
            },
            "colorscale": [
             [
              0,
              "#0d0887"
             ],
             [
              0.1111111111111111,
              "#46039f"
             ],
             [
              0.2222222222222222,
              "#7201a8"
             ],
             [
              0.3333333333333333,
              "#9c179e"
             ],
             [
              0.4444444444444444,
              "#bd3786"
             ],
             [
              0.5555555555555556,
              "#d8576b"
             ],
             [
              0.6666666666666666,
              "#ed7953"
             ],
             [
              0.7777777777777778,
              "#fb9f3a"
             ],
             [
              0.8888888888888888,
              "#fdca26"
             ],
             [
              1,
              "#f0f921"
             ]
            ],
            "type": "heatmapgl"
           }
          ],
          "histogram": [
           {
            "marker": {
             "pattern": {
              "fillmode": "overlay",
              "size": 10,
              "solidity": 0.2
             }
            },
            "type": "histogram"
           }
          ],
          "histogram2d": [
           {
            "colorbar": {
             "outlinewidth": 0,
             "ticks": ""
            },
            "colorscale": [
             [
              0,
              "#0d0887"
             ],
             [
              0.1111111111111111,
              "#46039f"
             ],
             [
              0.2222222222222222,
              "#7201a8"
             ],
             [
              0.3333333333333333,
              "#9c179e"
             ],
             [
              0.4444444444444444,
              "#bd3786"
             ],
             [
              0.5555555555555556,
              "#d8576b"
             ],
             [
              0.6666666666666666,
              "#ed7953"
             ],
             [
              0.7777777777777778,
              "#fb9f3a"
             ],
             [
              0.8888888888888888,
              "#fdca26"
             ],
             [
              1,
              "#f0f921"
             ]
            ],
            "type": "histogram2d"
           }
          ],
          "histogram2dcontour": [
           {
            "colorbar": {
             "outlinewidth": 0,
             "ticks": ""
            },
            "colorscale": [
             [
              0,
              "#0d0887"
             ],
             [
              0.1111111111111111,
              "#46039f"
             ],
             [
              0.2222222222222222,
              "#7201a8"
             ],
             [
              0.3333333333333333,
              "#9c179e"
             ],
             [
              0.4444444444444444,
              "#bd3786"
             ],
             [
              0.5555555555555556,
              "#d8576b"
             ],
             [
              0.6666666666666666,
              "#ed7953"
             ],
             [
              0.7777777777777778,
              "#fb9f3a"
             ],
             [
              0.8888888888888888,
              "#fdca26"
             ],
             [
              1,
              "#f0f921"
             ]
            ],
            "type": "histogram2dcontour"
           }
          ],
          "mesh3d": [
           {
            "colorbar": {
             "outlinewidth": 0,
             "ticks": ""
            },
            "type": "mesh3d"
           }
          ],
          "parcoords": [
           {
            "line": {
             "colorbar": {
              "outlinewidth": 0,
              "ticks": ""
             }
            },
            "type": "parcoords"
           }
          ],
          "pie": [
           {
            "automargin": true,
            "type": "pie"
           }
          ],
          "scatter": [
           {
            "fillpattern": {
             "fillmode": "overlay",
             "size": 10,
             "solidity": 0.2
            },
            "type": "scatter"
           }
          ],
          "scatter3d": [
           {
            "line": {
             "colorbar": {
              "outlinewidth": 0,
              "ticks": ""
             }
            },
            "marker": {
             "colorbar": {
              "outlinewidth": 0,
              "ticks": ""
             }
            },
            "type": "scatter3d"
           }
          ],
          "scattercarpet": [
           {
            "marker": {
             "colorbar": {
              "outlinewidth": 0,
              "ticks": ""
             }
            },
            "type": "scattercarpet"
           }
          ],
          "scattergeo": [
           {
            "marker": {
             "colorbar": {
              "outlinewidth": 0,
              "ticks": ""
             }
            },
            "type": "scattergeo"
           }
          ],
          "scattergl": [
           {
            "marker": {
             "colorbar": {
              "outlinewidth": 0,
              "ticks": ""
             }
            },
            "type": "scattergl"
           }
          ],
          "scattermapbox": [
           {
            "marker": {
             "colorbar": {
              "outlinewidth": 0,
              "ticks": ""
             }
            },
            "type": "scattermapbox"
           }
          ],
          "scatterpolar": [
           {
            "marker": {
             "colorbar": {
              "outlinewidth": 0,
              "ticks": ""
             }
            },
            "type": "scatterpolar"
           }
          ],
          "scatterpolargl": [
           {
            "marker": {
             "colorbar": {
              "outlinewidth": 0,
              "ticks": ""
             }
            },
            "type": "scatterpolargl"
           }
          ],
          "scatterternary": [
           {
            "marker": {
             "colorbar": {
              "outlinewidth": 0,
              "ticks": ""
             }
            },
            "type": "scatterternary"
           }
          ],
          "surface": [
           {
            "colorbar": {
             "outlinewidth": 0,
             "ticks": ""
            },
            "colorscale": [
             [
              0,
              "#0d0887"
             ],
             [
              0.1111111111111111,
              "#46039f"
             ],
             [
              0.2222222222222222,
              "#7201a8"
             ],
             [
              0.3333333333333333,
              "#9c179e"
             ],
             [
              0.4444444444444444,
              "#bd3786"
             ],
             [
              0.5555555555555556,
              "#d8576b"
             ],
             [
              0.6666666666666666,
              "#ed7953"
             ],
             [
              0.7777777777777778,
              "#fb9f3a"
             ],
             [
              0.8888888888888888,
              "#fdca26"
             ],
             [
              1,
              "#f0f921"
             ]
            ],
            "type": "surface"
           }
          ],
          "table": [
           {
            "cells": {
             "fill": {
              "color": "#EBF0F8"
             },
             "line": {
              "color": "white"
             }
            },
            "header": {
             "fill": {
              "color": "#C8D4E3"
             },
             "line": {
              "color": "white"
             }
            },
            "type": "table"
           }
          ]
         },
         "layout": {
          "annotationdefaults": {
           "arrowcolor": "#2a3f5f",
           "arrowhead": 0,
           "arrowwidth": 1
          },
          "autotypenumbers": "strict",
          "coloraxis": {
           "colorbar": {
            "outlinewidth": 0,
            "ticks": ""
           }
          },
          "colorscale": {
           "diverging": [
            [
             0,
             "#8e0152"
            ],
            [
             0.1,
             "#c51b7d"
            ],
            [
             0.2,
             "#de77ae"
            ],
            [
             0.3,
             "#f1b6da"
            ],
            [
             0.4,
             "#fde0ef"
            ],
            [
             0.5,
             "#f7f7f7"
            ],
            [
             0.6,
             "#e6f5d0"
            ],
            [
             0.7,
             "#b8e186"
            ],
            [
             0.8,
             "#7fbc41"
            ],
            [
             0.9,
             "#4d9221"
            ],
            [
             1,
             "#276419"
            ]
           ],
           "sequential": [
            [
             0,
             "#0d0887"
            ],
            [
             0.1111111111111111,
             "#46039f"
            ],
            [
             0.2222222222222222,
             "#7201a8"
            ],
            [
             0.3333333333333333,
             "#9c179e"
            ],
            [
             0.4444444444444444,
             "#bd3786"
            ],
            [
             0.5555555555555556,
             "#d8576b"
            ],
            [
             0.6666666666666666,
             "#ed7953"
            ],
            [
             0.7777777777777778,
             "#fb9f3a"
            ],
            [
             0.8888888888888888,
             "#fdca26"
            ],
            [
             1,
             "#f0f921"
            ]
           ],
           "sequentialminus": [
            [
             0,
             "#0d0887"
            ],
            [
             0.1111111111111111,
             "#46039f"
            ],
            [
             0.2222222222222222,
             "#7201a8"
            ],
            [
             0.3333333333333333,
             "#9c179e"
            ],
            [
             0.4444444444444444,
             "#bd3786"
            ],
            [
             0.5555555555555556,
             "#d8576b"
            ],
            [
             0.6666666666666666,
             "#ed7953"
            ],
            [
             0.7777777777777778,
             "#fb9f3a"
            ],
            [
             0.8888888888888888,
             "#fdca26"
            ],
            [
             1,
             "#f0f921"
            ]
           ]
          },
          "colorway": [
           "#636efa",
           "#EF553B",
           "#00cc96",
           "#ab63fa",
           "#FFA15A",
           "#19d3f3",
           "#FF6692",
           "#B6E880",
           "#FF97FF",
           "#FECB52"
          ],
          "font": {
           "color": "#2a3f5f"
          },
          "geo": {
           "bgcolor": "white",
           "lakecolor": "white",
           "landcolor": "#E5ECF6",
           "showlakes": true,
           "showland": true,
           "subunitcolor": "white"
          },
          "hoverlabel": {
           "align": "left"
          },
          "hovermode": "closest",
          "mapbox": {
           "style": "light"
          },
          "paper_bgcolor": "white",
          "plot_bgcolor": "#E5ECF6",
          "polar": {
           "angularaxis": {
            "gridcolor": "white",
            "linecolor": "white",
            "ticks": ""
           },
           "bgcolor": "#E5ECF6",
           "radialaxis": {
            "gridcolor": "white",
            "linecolor": "white",
            "ticks": ""
           }
          },
          "scene": {
           "xaxis": {
            "backgroundcolor": "#E5ECF6",
            "gridcolor": "white",
            "gridwidth": 2,
            "linecolor": "white",
            "showbackground": true,
            "ticks": "",
            "zerolinecolor": "white"
           },
           "yaxis": {
            "backgroundcolor": "#E5ECF6",
            "gridcolor": "white",
            "gridwidth": 2,
            "linecolor": "white",
            "showbackground": true,
            "ticks": "",
            "zerolinecolor": "white"
           },
           "zaxis": {
            "backgroundcolor": "#E5ECF6",
            "gridcolor": "white",
            "gridwidth": 2,
            "linecolor": "white",
            "showbackground": true,
            "ticks": "",
            "zerolinecolor": "white"
           }
          },
          "shapedefaults": {
           "line": {
            "color": "#2a3f5f"
           }
          },
          "ternary": {
           "aaxis": {
            "gridcolor": "white",
            "linecolor": "white",
            "ticks": ""
           },
           "baxis": {
            "gridcolor": "white",
            "linecolor": "white",
            "ticks": ""
           },
           "bgcolor": "#E5ECF6",
           "caxis": {
            "gridcolor": "white",
            "linecolor": "white",
            "ticks": ""
           }
          },
          "title": {
           "x": 0.05
          },
          "xaxis": {
           "automargin": true,
           "gridcolor": "white",
           "linecolor": "white",
           "ticks": "",
           "title": {
            "standoff": 15
           },
           "zerolinecolor": "white",
           "zerolinewidth": 2
          },
          "yaxis": {
           "automargin": true,
           "gridcolor": "white",
           "linecolor": "white",
           "ticks": "",
           "title": {
            "standoff": 15
           },
           "zerolinecolor": "white",
           "zerolinewidth": 2
          }
         }
        },
        "title": {
         "text": "Mejor Ranking por Canción"
        },
        "xaxis": {
         "anchor": "y",
         "domain": [
          0,
          1
         ],
         "title": {
          "text": "Canción"
         }
        },
        "yaxis": {
         "anchor": "x",
         "domain": [
          0,
          1
         ],
         "title": {
          "text": "Mejor Ranking"
         }
        }
       }
      }
     },
     "metadata": {},
     "output_type": "display_data"
    },
    {
     "name": "stdout",
     "output_type": "stream",
     "text": [
      "Conexión cerrada\n"
     ]
    }
   ],
   "source": [
    "try:\n",
    "    # Conexión a la base de datos\n",
    "    connection = psycopg2.connect(\n",
    "        host='localhost',\n",
    "        user='postgres',  # Reemplaza con tu usuario de la base de datos\n",
    "        password='2I@@`7ao*3}*',  # Reemplaza con tu contraseña\n",
    "        database='proyecto'\n",
    "    )\n",
    "    print(\"Conexión exitosa\")\n",
    "    \n",
    "    # Crear un cursor\n",
    "    cursor = connection.cursor()\n",
    "    \n",
    "    # Ejecutar la consulta\n",
    "    t_consulta1 = \"SELECT c.spotify_id, c.nombre AS cancion, c.danceability, c.energy, c.valence, c.tempo, MIN(r.ranking_diario) AS mejor_ranking FROM Canciones c JOIN Rankings r ON c.spotify_id = r.spotify_id GROUP BY c.spotify_id, c.nombre, c.danceability, c.energy, c.valence, c.tempo HAVING MIN(r.ranking_diario) <= 10 ORDER BY mejor_ranking ASC;\"\n",
    "\n",
    "    cursor.execute(t_consulta1)\n",
    "    rows = cursor.fetchall()\n",
    "    \n",
    "    # Obtener los nombres de las columnas\n",
    "    column_names = [desc[0] for desc in cursor.description]\n",
    "\n",
    "    # Crear un DataFrame\n",
    "    df = pd.DataFrame(rows, columns=column_names)\n",
    "    print(df)\n",
    "\n",
    "    # Generar la gráfica de barras\n",
    "    fig = px.bar(\n",
    "        df,\n",
    "        x='cancion',\n",
    "        y='mejor_ranking',\n",
    "        title='Mejor Ranking por Canción',\n",
    "        labels={\n",
    "            'mejor_ranking': 'Mejor Ranking',\n",
    "            'cancion': 'Canción'\n",
    "        }\n",
    "    )\n",
    "\n",
    "    # Mostrar la gráfica\n",
    "    fig.show()\n",
    "    \n",
    "except Exception as error:\n",
    "    print(\"Error al conectar o ejecutar la consulta:\", error)\n",
    "finally:\n",
    "    if connection:\n",
    "        cursor.close()\n",
    "        connection.close()\n",
    "        print(\"Conexión cerrada\")"
   ]
  },
  {
   "cell_type": "markdown",
   "metadata": {},
   "source": [
    "# Gráfica y representación de la consulta 2\n",
    "En esta sección, se presenta la gráfica de barras a partir de los datos obtenidos de la consulta 2. Esta consulta encuentra la canción más exitosa de cada artista basándose en su mejor posición en los rankings."
   ]
  },
  {
   "cell_type": "code",
   "execution_count": 3,
   "metadata": {},
   "outputs": [
    {
     "name": "stdout",
     "output_type": "stream",
     "text": [
      "Conexión exitosa\n"
     ]
    },
    {
     "data": {
      "application/vnd.plotly.v1+json": {
       "config": {
        "plotlyServerURL": "https://plot.ly"
       },
       "data": [
        {
         "alignmentgroup": "True",
         "hovertemplate": "Canción=QuÃ© PasarÃ­a...<br>Artista=%{x}<br>Mejor Posición=%{y}<extra></extra>",
         "legendgroup": "QuÃ© PasarÃ­a...",
         "marker": {
          "color": "#636efa",
          "pattern": {
           "shape": ""
          }
         },
         "name": "QuÃ© PasarÃ­a...",
         "offsetgroup": "QuÃ© PasarÃ­a...",
         "orientation": "v",
         "showlegend": true,
         "textposition": "auto",
         "type": "bar",
         "x": [
          "Bad Bunny",
          "Rauw Alejandro"
         ],
         "xaxis": "x",
         "y": [
          1,
          1
         ],
         "yaxis": "y"
        },
        {
         "alignmentgroup": "True",
         "hovertemplate": "Canción=A200<br>Artista=%{x}<br>Mejor Posición=%{y}<extra></extra>",
         "legendgroup": "A200",
         "marker": {
          "color": "#EF553B",
          "pattern": {
           "shape": ""
          }
         },
         "name": "A200",
         "offsetgroup": "A200",
         "orientation": "v",
         "showlegend": true,
         "textposition": "auto",
         "type": "bar",
         "x": [
          "Bayron Fire",
          "Jairo Vera",
          "King Savagge"
         ],
         "xaxis": "x",
         "y": [
          1,
          1,
          1
         ],
         "yaxis": "y"
        },
        {
         "alignmentgroup": "True",
         "hovertemplate": "Canción=57<br>Artista=%{x}<br>Mejor Posición=%{y}<extra></extra>",
         "legendgroup": "57",
         "marker": {
          "color": "#00cc96",
          "pattern": {
           "shape": ""
          }
         },
         "name": "57",
         "offsetgroup": "57",
         "orientation": "v",
         "showlegend": true,
         "textposition": "auto",
         "type": "bar",
         "x": [
          "Blessd",
          "DFZM",
          "Feid",
          "J Balvin",
          "KAROL G",
          "Maluma",
          "Ovy On The Drums",
          "Ryan Castro"
         ],
         "xaxis": "x",
         "y": [
          1,
          1,
          1,
          1,
          1,
          1,
          1,
          1
         ],
         "yaxis": "y"
        },
        {
         "alignmentgroup": "True",
         "hovertemplate": "Canción=Nueva Era<br>Artista=%{x}<br>Mejor Posición=%{y}<extra></extra>",
         "legendgroup": "Nueva Era",
         "marker": {
          "color": "#ab63fa",
          "pattern": {
           "shape": ""
          }
         },
         "name": "Nueva Era",
         "offsetgroup": "Nueva Era",
         "orientation": "v",
         "showlegend": true,
         "textposition": "auto",
         "type": "bar",
         "x": [
          "Duki",
          "Myke Towers"
         ],
         "xaxis": "x",
         "y": [
          1,
          1
         ],
         "yaxis": "y"
        },
        {
         "alignmentgroup": "True",
         "hovertemplate": "Canción=Tu Boda<br>Artista=%{x}<br>Mejor Posición=%{y}<extra></extra>",
         "legendgroup": "Tu Boda",
         "marker": {
          "color": "#FFA15A",
          "pattern": {
           "shape": ""
          }
         },
         "name": "Tu Boda",
         "offsetgroup": "Tu Boda",
         "orientation": "v",
         "showlegend": true,
         "textposition": "auto",
         "type": "bar",
         "x": [
          "Fuerza Regida",
          "Oscar Maydon"
         ],
         "xaxis": "x",
         "y": [
          1,
          1
         ],
         "yaxis": "y"
        },
        {
         "alignmentgroup": "True",
         "hovertemplate": "Canción=Amor de Vago<br>Artista=%{x}<br>Mejor Posición=%{y}<extra></extra>",
         "legendgroup": "Amor de Vago",
         "marker": {
          "color": "#19d3f3",
          "pattern": {
           "shape": ""
          }
         },
         "name": "Amor de Vago",
         "offsetgroup": "Amor de Vago",
         "orientation": "v",
         "showlegend": true,
         "textposition": "auto",
         "type": "bar",
         "x": [
          "La T y La M",
          "Malandro"
         ],
         "xaxis": "x",
         "y": [
          1,
          1
         ],
         "yaxis": "y"
        },
        {
         "alignmentgroup": "True",
         "hovertemplate": "Canción=KhÃ©?<br>Artista=%{x}<br>Mejor Posición=%{y}<extra></extra>",
         "legendgroup": "KhÃ©?",
         "marker": {
          "color": "#FF6692",
          "pattern": {
           "shape": ""
          }
         },
         "name": "KhÃ©?",
         "offsetgroup": "KhÃ©?",
         "orientation": "v",
         "showlegend": true,
         "textposition": "auto",
         "type": "bar",
         "x": [
          "Rauw Alejandro",
          "Romeo Santos"
         ],
         "xaxis": "x",
         "y": [
          1,
          1
         ],
         "yaxis": "y"
        },
        {
         "alignmentgroup": "True",
         "hovertemplate": "Canción=AlegrÃ­a<br>Artista=%{x}<br>Mejor Posición=%{y}<extra></extra>",
         "legendgroup": "AlegrÃ­a",
         "marker": {
          "color": "#B6E880",
          "pattern": {
           "shape": ""
          }
         },
         "name": "AlegrÃ­a",
         "offsetgroup": "AlegrÃ­a",
         "orientation": "v",
         "showlegend": true,
         "textposition": "auto",
         "type": "bar",
         "x": [
          "Anitta",
          "Emilia",
          "Tiago PZK"
         ],
         "xaxis": "x",
         "y": [
          2,
          2,
          2
         ],
         "yaxis": "y"
        },
        {
         "alignmentgroup": "True",
         "hovertemplate": "Canción=Soltera - W Sound 01<br>Artista=%{x}<br>Mejor Posición=%{y}<extra></extra>",
         "legendgroup": "Soltera - W Sound 01",
         "marker": {
          "color": "#FF97FF",
          "pattern": {
           "shape": ""
          }
         },
         "name": "Soltera - W Sound 01",
         "offsetgroup": "Soltera - W Sound 01",
         "orientation": "v",
         "showlegend": true,
         "textposition": "auto",
         "type": "bar",
         "x": [
          "Blessd",
          "Ovy On The Drums",
          "W Sound"
         ],
         "xaxis": "x",
         "y": [
          2,
          2,
          2
         ],
         "yaxis": "y"
        },
        {
         "alignmentgroup": "True",
         "hovertemplate": "Canción=DespuÃ©s De La 1<br>Artista=%{x}<br>Mejor Posición=%{y}<extra></extra>",
         "legendgroup": "DespuÃ©s De La 1",
         "marker": {
          "color": "#FECB52",
          "pattern": {
           "shape": ""
          }
         },
         "name": "DespuÃ©s De La 1",
         "offsetgroup": "DespuÃ©s De La 1",
         "orientation": "v",
         "showlegend": true,
         "textposition": "auto",
         "type": "bar",
         "x": [
          "Cris Mj",
          "FloyyMenor",
          "LOUKI"
         ],
         "xaxis": "x",
         "y": [
          2,
          2,
          2
         ],
         "yaxis": "y"
        },
        {
         "alignmentgroup": "True",
         "hovertemplate": "Canción=Presidente<br>Artista=%{x}<br>Mejor Posición=%{y}<extra></extra>",
         "legendgroup": "Presidente",
         "marker": {
          "color": "#636efa",
          "pattern": {
           "shape": ""
          }
         },
         "name": "Presidente",
         "offsetgroup": "Presidente",
         "orientation": "v",
         "showlegend": true,
         "textposition": "auto",
         "type": "bar",
         "x": [
          "Gabito Ballesteros",
          "Luis R Conriquez",
          "Natanael Cano",
          "Neton Vega"
         ],
         "xaxis": "x",
         "y": [
          2,
          2,
          2,
          2
         ],
         "yaxis": "y"
        },
        {
         "alignmentgroup": "True",
         "hovertemplate": "Canción=Se Fue<br>Artista=%{x}<br>Mejor Posición=%{y}<extra></extra>",
         "legendgroup": "Se Fue",
         "marker": {
          "color": "#EF553B",
          "pattern": {
           "shape": ""
          }
         },
         "name": "Se Fue",
         "offsetgroup": "Se Fue",
         "orientation": "v",
         "showlegend": true,
         "textposition": "auto",
         "type": "bar",
         "x": [
          "Laura Pausini",
          "Rauw Alejandro"
         ],
         "xaxis": "x",
         "y": [
          2,
          2
         ],
         "yaxis": "y"
        },
        {
         "alignmentgroup": "True",
         "hovertemplate": "Canción=EL LOKERON<br>Artista=%{x}<br>Mejor Posición=%{y}<extra></extra>",
         "legendgroup": "EL LOKERON",
         "marker": {
          "color": "#00cc96",
          "pattern": {
           "shape": ""
          }
         },
         "name": "EL LOKERON",
         "offsetgroup": "EL LOKERON",
         "orientation": "v",
         "showlegend": true,
         "textposition": "auto",
         "type": "bar",
         "x": [
          "Tito Double P"
         ],
         "xaxis": "x",
         "y": [
          2
         ],
         "yaxis": "y"
        },
        {
         "alignmentgroup": "True",
         "hovertemplate": "Canción=Zoom Zoom<br>Artista=%{x}<br>Mejor Posición=%{y}<extra></extra>",
         "legendgroup": "Zoom Zoom",
         "marker": {
          "color": "#ab63fa",
          "pattern": {
           "shape": ""
          }
         },
         "name": "Zoom Zoom",
         "offsetgroup": "Zoom Zoom",
         "orientation": "v",
         "showlegend": true,
         "textposition": "auto",
         "type": "bar",
         "x": [
          "Big Cvyu",
          "Lucky Brown"
         ],
         "xaxis": "x",
         "y": [
          3,
          3
         ],
         "yaxis": "y"
        },
        {
         "alignmentgroup": "True",
         "hovertemplate": "Canción=Si Un DÃ­a EstÃ¡s Sola | CROSSOVER #7<br>Artista=%{x}<br>Mejor Posición=%{y}<extra></extra>",
         "legendgroup": "Si Un DÃ­a EstÃ¡s Sola | CROSSOVER #7",
         "marker": {
          "color": "#FFA15A",
          "pattern": {
           "shape": ""
          }
         },
         "name": "Si Un DÃ­a EstÃ¡s Sola | CROSSOVER #7",
         "offsetgroup": "Si Un DÃ­a EstÃ¡s Sola | CROSSOVER #7",
         "orientation": "v",
         "showlegend": true,
         "textposition": "auto",
         "type": "bar",
         "x": [
          "Big One",
          "Emanero",
          "Valentino Merlo"
         ],
         "xaxis": "x",
         "y": [
          3,
          3,
          3
         ],
         "yaxis": "y"
        },
        {
         "alignmentgroup": "True",
         "hovertemplate": "Canción=MÃ­rame<br>Artista=%{x}<br>Mejor Posición=%{y}<extra></extra>",
         "legendgroup": "MÃ­rame",
         "marker": {
          "color": "#19d3f3",
          "pattern": {
           "shape": ""
          }
         },
         "name": "MÃ­rame",
         "offsetgroup": "MÃ­rame",
         "orientation": "v",
         "showlegend": true,
         "textposition": "auto",
         "type": "bar",
         "x": [
          "Blessd",
          "Ovy On The Drums"
         ],
         "xaxis": "x",
         "y": [
          3,
          3
         ],
         "yaxis": "y"
        },
        {
         "alignmentgroup": "True",
         "hovertemplate": "Canción=Q U E V A S H A C E R H O Y ?<br>Artista=%{x}<br>Mejor Posición=%{y}<extra></extra>",
         "legendgroup": "Q U E V A S H A C E R H O Y ?",
         "marker": {
          "color": "#FF6692",
          "pattern": {
           "shape": ""
          }
         },
         "name": "Q U E V A S H A C E R H O Y ?",
         "offsetgroup": "Q U E V A S H A C E R H O Y ?",
         "orientation": "v",
         "showlegend": true,
         "textposition": "auto",
         "type": "bar",
         "x": [
          "De La Rose",
          "Omar Courtz"
         ],
         "xaxis": "x",
         "y": [
          3,
          3
         ],
         "yaxis": "y"
        },
        {
         "alignmentgroup": "True",
         "hovertemplate": "Canción=Who<br>Artista=%{x}<br>Mejor Posición=%{y}<extra></extra>",
         "legendgroup": "Who",
         "marker": {
          "color": "#B6E880",
          "pattern": {
           "shape": ""
          }
         },
         "name": "Who",
         "offsetgroup": "Who",
         "orientation": "v",
         "showlegend": true,
         "textposition": "auto",
         "type": "bar",
         "x": [
          "Jimin"
         ],
         "xaxis": "x",
         "y": [
          3
         ],
         "yaxis": "y"
        },
        {
         "alignmentgroup": "True",
         "hovertemplate": "Canción=Cosa Linda<br>Artista=%{x}<br>Mejor Posición=%{y}<extra></extra>",
         "legendgroup": "Cosa Linda",
         "marker": {
          "color": "#FF97FF",
          "pattern": {
           "shape": ""
          }
         },
         "name": "Cosa Linda",
         "offsetgroup": "Cosa Linda",
         "orientation": "v",
         "showlegend": true,
         "textposition": "auto",
         "type": "bar",
         "x": [
          "Lucky Brown",
          "Mateo on the Beatz"
         ],
         "xaxis": "x",
         "y": [
          3,
          3
         ],
         "yaxis": "y"
        },
        {
         "alignmentgroup": "True",
         "hovertemplate": "Canción=DOS DÃAS<br>Artista=%{x}<br>Mejor Posición=%{y}<extra></extra>",
         "legendgroup": "DOS DÃAS",
         "marker": {
          "color": "#FECB52",
          "pattern": {
           "shape": ""
          }
         },
         "name": "DOS DÃAS",
         "offsetgroup": "DOS DÃAS",
         "orientation": "v",
         "showlegend": true,
         "textposition": "auto",
         "type": "bar",
         "x": [
          "Peso Pluma",
          "Tito Double P"
         ],
         "xaxis": "x",
         "y": [
          3,
          3
         ],
         "yaxis": "y"
        },
        {
         "alignmentgroup": "True",
         "hovertemplate": "Canción=TÃº Con Ã‰l<br>Artista=%{x}<br>Mejor Posición=%{y}<extra></extra>",
         "legendgroup": "TÃº Con Ã‰l",
         "marker": {
          "color": "#636efa",
          "pattern": {
           "shape": ""
          }
         },
         "name": "TÃº Con Ã‰l",
         "offsetgroup": "TÃº Con Ã‰l",
         "orientation": "v",
         "showlegend": true,
         "textposition": "auto",
         "type": "bar",
         "x": [
          "Rauw Alejandro"
         ],
         "xaxis": "x",
         "y": [
          3
         ],
         "yaxis": "y"
        },
        {
         "alignmentgroup": "True",
         "hovertemplate": "Canción=DEPORTIVO<br>Artista=%{x}<br>Mejor Posición=%{y}<extra></extra>",
         "legendgroup": "DEPORTIVO",
         "marker": {
          "color": "#EF553B",
          "pattern": {
           "shape": ""
          }
         },
         "name": "DEPORTIVO",
         "offsetgroup": "DEPORTIVO",
         "orientation": "v",
         "showlegend": true,
         "textposition": "auto",
         "type": "bar",
         "x": [
          "Anuel AA",
          "Blessd"
         ],
         "xaxis": "x",
         "y": [
          4,
          4
         ],
         "yaxis": "y"
        },
        {
         "alignmentgroup": "True",
         "hovertemplate": "Canción=LUNA<br>Artista=%{x}<br>Mejor Posición=%{y}<extra></extra>",
         "legendgroup": "LUNA",
         "marker": {
          "color": "#00cc96",
          "pattern": {
           "shape": ""
          }
         },
         "name": "LUNA",
         "offsetgroup": "LUNA",
         "orientation": "v",
         "showlegend": true,
         "textposition": "auto",
         "type": "bar",
         "x": [
          "ATL Jacob",
          "Feid"
         ],
         "xaxis": "x",
         "y": [
          4,
          4
         ],
         "yaxis": "y"
        },
        {
         "alignmentgroup": "True",
         "hovertemplate": "Canción=POLOS OPUESTOS REMIX - BLESSD VERSION<br>Artista=%{x}<br>Mejor Posición=%{y}<extra></extra>",
         "legendgroup": "POLOS OPUESTOS REMIX - BLESSD VERSION",
         "marker": {
          "color": "#ab63fa",
          "pattern": {
           "shape": ""
          }
         },
         "name": "POLOS OPUESTOS REMIX - BLESSD VERSION",
         "offsetgroup": "POLOS OPUESTOS REMIX - BLESSD VERSION",
         "orientation": "v",
         "showlegend": true,
         "textposition": "auto",
         "type": "bar",
         "x": [
          "Blessd",
          "Kris R."
         ],
         "xaxis": "x",
         "y": [
          4,
          4
         ],
         "yaxis": "y"
        },
        {
         "alignmentgroup": "True",
         "hovertemplate": "Canción=noviogangsta <3<br>Artista=%{x}<br>Mejor Posición=%{y}<extra></extra>",
         "legendgroup": "noviogangsta <3",
         "marker": {
          "color": "#FFA15A",
          "pattern": {
           "shape": ""
          }
         },
         "name": "noviogangsta <3",
         "offsetgroup": "noviogangsta <3",
         "orientation": "v",
         "showlegend": true,
         "textposition": "auto",
         "type": "bar",
         "x": [
          "Emilia"
         ],
         "xaxis": "x",
         "y": [
          4
         ],
         "yaxis": "y"
        },
        {
         "alignmentgroup": "True",
         "hovertemplate": "Canción=Si Antes Te Hubiera Conocido<br>Artista=%{x}<br>Mejor Posición=%{y}<extra></extra>",
         "legendgroup": "Si Antes Te Hubiera Conocido",
         "marker": {
          "color": "#19d3f3",
          "pattern": {
           "shape": ""
          }
         },
         "name": "Si Antes Te Hubiera Conocido",
         "offsetgroup": "Si Antes Te Hubiera Conocido",
         "orientation": "v",
         "showlegend": true,
         "textposition": "auto",
         "type": "bar",
         "x": [
          "KAROL G"
         ],
         "xaxis": "x",
         "y": [
          4
         ],
         "yaxis": "y"
        },
        {
         "alignmentgroup": "True",
         "hovertemplate": "Canción=SQ - W Sound 04<br>Artista=%{x}<br>Mejor Posición=%{y}<extra></extra>",
         "legendgroup": "SQ - W Sound 04",
         "marker": {
          "color": "#FF6692",
          "pattern": {
           "shape": ""
          }
         },
         "name": "SQ - W Sound 04",
         "offsetgroup": "SQ - W Sound 04",
         "orientation": "v",
         "showlegend": true,
         "textposition": "auto",
         "type": "bar",
         "x": [
          "Ovy On The Drums",
          "Ryan Castro",
          "W Sound"
         ],
         "xaxis": "x",
         "y": [
          4,
          4,
          4
         ],
         "yaxis": "y"
        },
        {
         "alignmentgroup": "True",
         "hovertemplate": "Canción=Parte & Choke<br>Artista=%{x}<br>Mejor Posición=%{y}<extra></extra>",
         "legendgroup": "Parte & Choke",
         "marker": {
          "color": "#B6E880",
          "pattern": {
           "shape": ""
          }
         },
         "name": "Parte & Choke",
         "offsetgroup": "Parte & Choke",
         "orientation": "v",
         "showlegend": true,
         "textposition": "auto",
         "type": "bar",
         "x": [
          "Alex Krack",
          "JÃ¸tta",
          "Jombriel"
         ],
         "xaxis": "x",
         "y": [
          5,
          5,
          5
         ],
         "yaxis": "y"
        },
        {
         "alignmentgroup": "True",
         "hovertemplate": "Canción=ESCAPATE<br>Artista=%{x}<br>Mejor Posición=%{y}<extra></extra>",
         "legendgroup": "ESCAPATE",
         "marker": {
          "color": "#FF97FF",
          "pattern": {
           "shape": ""
          }
         },
         "name": "ESCAPATE",
         "offsetgroup": "ESCAPATE",
         "orientation": "v",
         "showlegend": true,
         "textposition": "auto",
         "type": "bar",
         "x": [
          "Chino Pacas",
          "Tito Double P"
         ],
         "xaxis": "x",
         "y": [
          5,
          5
         ],
         "yaxis": "y"
        },
        {
         "alignmentgroup": "True",
         "hovertemplate": "Canción=NADIE<br>Artista=%{x}<br>Mejor Posición=%{y}<extra></extra>",
         "legendgroup": "NADIE",
         "marker": {
          "color": "#FECB52",
          "pattern": {
           "shape": ""
          }
         },
         "name": "NADIE",
         "offsetgroup": "NADIE",
         "orientation": "v",
         "showlegend": true,
         "textposition": "auto",
         "type": "bar",
         "x": [
          "Tito Double P"
         ],
         "xaxis": "x",
         "y": [
          5
         ],
         "yaxis": "y"
        },
        {
         "alignmentgroup": "True",
         "hovertemplate": "Canción=DEGENERE ðŸ‘‘ (feat. benny blanco)<br>Artista=%{x}<br>Mejor Posición=%{y}<extra></extra>",
         "legendgroup": "DEGENERE ðŸ‘‘ (feat. benny blanco)",
         "marker": {
          "color": "#636efa",
          "pattern": {
           "shape": ""
          }
         },
         "name": "DEGENERE ðŸ‘‘ (feat. benny blanco)",
         "offsetgroup": "DEGENERE ðŸ‘‘ (feat. benny blanco)",
         "orientation": "v",
         "showlegend": true,
         "textposition": "auto",
         "type": "bar",
         "x": [
          "benny blanco",
          "Myke Towers"
         ],
         "xaxis": "x",
         "y": [
          6,
          6
         ],
         "yaxis": "y"
        },
        {
         "alignmentgroup": "True",
         "hovertemplate": "Canción=Morena Canela<br>Artista=%{x}<br>Mejor Posición=%{y}<extra></extra>",
         "legendgroup": "Morena Canela",
         "marker": {
          "color": "#EF553B",
          "pattern": {
           "shape": ""
          }
         },
         "name": "Morena Canela",
         "offsetgroup": "Morena Canela",
         "orientation": "v",
         "showlegend": true,
         "textposition": "auto",
         "type": "bar",
         "x": [
          "Chino Pacas"
         ],
         "xaxis": "x",
         "y": [
          6
         ],
         "yaxis": "y"
        },
        {
         "alignmentgroup": "True",
         "hovertemplate": "Canción=SE ME OLVIDA<br>Artista=%{x}<br>Mejor Posición=%{y}<extra></extra>",
         "legendgroup": "SE ME OLVIDA",
         "marker": {
          "color": "#00cc96",
          "pattern": {
           "shape": ""
          }
         },
         "name": "SE ME OLVIDA",
         "offsetgroup": "SE ME OLVIDA",
         "orientation": "v",
         "showlegend": true,
         "textposition": "auto",
         "type": "bar",
         "x": [
          "Feid",
          "Maisak"
         ],
         "xaxis": "x",
         "y": [
          6,
          6
         ],
         "yaxis": "y"
        },
        {
         "alignmentgroup": "True",
         "hovertemplate": "Canción=PELIGROSA<br>Artista=%{x}<br>Mejor Posición=%{y}<extra></extra>",
         "legendgroup": "PELIGROSA",
         "marker": {
          "color": "#ab63fa",
          "pattern": {
           "shape": ""
          }
         },
         "name": "PELIGROSA",
         "offsetgroup": "PELIGROSA",
         "orientation": "v",
         "showlegend": true,
         "textposition": "auto",
         "type": "bar",
         "x": [
          "FloyyMenor"
         ],
         "xaxis": "x",
         "y": [
          6
         ],
         "yaxis": "y"
        },
        {
         "alignmentgroup": "True",
         "hovertemplate": "Canción=LA PATRULLA<br>Artista=%{x}<br>Mejor Posición=%{y}<extra></extra>",
         "legendgroup": "LA PATRULLA",
         "marker": {
          "color": "#FFA15A",
          "pattern": {
           "shape": ""
          }
         },
         "name": "LA PATRULLA",
         "offsetgroup": "LA PATRULLA",
         "orientation": "v",
         "showlegend": true,
         "textposition": "auto",
         "type": "bar",
         "x": [
          "Neton Vega",
          "Peso Pluma"
         ],
         "xaxis": "x",
         "y": [
          6,
          6
         ],
         "yaxis": "y"
        },
        {
         "alignmentgroup": "True",
         "hovertemplate": "Canción=Cosa Nuestra<br>Artista=%{x}<br>Mejor Posición=%{y}<extra></extra>",
         "legendgroup": "Cosa Nuestra",
         "marker": {
          "color": "#19d3f3",
          "pattern": {
           "shape": ""
          }
         },
         "name": "Cosa Nuestra",
         "offsetgroup": "Cosa Nuestra",
         "orientation": "v",
         "showlegend": true,
         "textposition": "auto",
         "type": "bar",
         "x": [
          "Rauw Alejandro"
         ],
         "xaxis": "x",
         "y": [
          6
         ],
         "yaxis": "y"
        },
        {
         "alignmentgroup": "True",
         "hovertemplate": "Canción=Perdonarte, Â¿Para QuÃ©?<br>Artista=%{x}<br>Mejor Posición=%{y}<extra></extra>",
         "legendgroup": "Perdonarte, Â¿Para QuÃ©?",
         "marker": {
          "color": "#FF6692",
          "pattern": {
           "shape": ""
          }
         },
         "name": "Perdonarte, Â¿Para QuÃ©?",
         "offsetgroup": "Perdonarte, Â¿Para QuÃ©?",
         "orientation": "v",
         "showlegend": true,
         "textposition": "auto",
         "type": "bar",
         "x": [
          "Emilia",
          "Los Ãngeles Azules"
         ],
         "xaxis": "x",
         "y": [
          7,
          7
         ],
         "yaxis": "y"
        },
        {
         "alignmentgroup": "True",
         "hovertemplate": "Canción=AY MAMÃ<br>Artista=%{x}<br>Mejor Posición=%{y}<extra></extra>",
         "legendgroup": "AY MAMÃ",
         "marker": {
          "color": "#B6E880",
          "pattern": {
           "shape": ""
          }
         },
         "name": "AY MAMÃ",
         "offsetgroup": "AY MAMÃ",
         "orientation": "v",
         "showlegend": true,
         "textposition": "auto",
         "type": "bar",
         "x": [
          "Grupo Frontera",
          "Tito Double P"
         ],
         "xaxis": "x",
         "y": [
          7,
          7
         ],
         "yaxis": "y"
        },
        {
         "alignmentgroup": "True",
         "hovertemplate": "Canción=MIRALA<br>Artista=%{x}<br>Mejor Posición=%{y}<extra></extra>",
         "legendgroup": "MIRALA",
         "marker": {
          "color": "#FF97FF",
          "pattern": {
           "shape": ""
          }
         },
         "name": "MIRALA",
         "offsetgroup": "MIRALA",
         "orientation": "v",
         "showlegend": true,
         "textposition": "auto",
         "type": "bar",
         "x": [
          "Jere Klein",
          "Ovy On The Drums"
         ],
         "xaxis": "x",
         "y": [
          7,
          7
         ],
         "yaxis": "y"
        },
        {
         "alignmentgroup": "True",
         "hovertemplate": "Canción=Piel<br>Artista=%{x}<br>Mejor Posición=%{y}<extra></extra>",
         "legendgroup": "Piel",
         "marker": {
          "color": "#FECB52",
          "pattern": {
           "shape": ""
          }
         },
         "name": "Piel",
         "offsetgroup": "Piel",
         "orientation": "v",
         "showlegend": true,
         "textposition": "auto",
         "type": "bar",
         "x": [
          "Ke Personajes",
          "Tiago PZK"
         ],
         "xaxis": "x",
         "y": [
          7,
          7
         ],
         "yaxis": "y"
        },
        {
         "alignmentgroup": "True",
         "hovertemplate": "Canción=FDSR<br>Artista=%{x}<br>Mejor Posición=%{y}<extra></extra>",
         "legendgroup": "FDSR",
         "marker": {
          "color": "#636efa",
          "pattern": {
           "shape": ""
          }
         },
         "name": "FDSR",
         "offsetgroup": "FDSR",
         "orientation": "v",
         "showlegend": true,
         "textposition": "auto",
         "type": "bar",
         "x": [
          "Maisak",
          "Ryan Castro"
         ],
         "xaxis": "x",
         "y": [
          7,
          7
         ],
         "yaxis": "y"
        },
        {
         "alignmentgroup": "True",
         "hovertemplate": "Canción=Espresso Martini<br>Artista=%{x}<br>Mejor Posición=%{y}<extra></extra>",
         "legendgroup": "Espresso Martini",
         "marker": {
          "color": "#EF553B",
          "pattern": {
           "shape": ""
          }
         },
         "name": "Espresso Martini",
         "offsetgroup": "Espresso Martini",
         "orientation": "v",
         "showlegend": true,
         "textposition": "auto",
         "type": "bar",
         "x": [
          "Marconi Impara",
          "Rauw Alejandro",
          "Yan Block"
         ],
         "xaxis": "x",
         "y": [
          7,
          7,
          7
         ],
         "yaxis": "y"
        },
        {
         "alignmentgroup": "True",
         "hovertemplate": "Canción=Las Piponas (Remix)<br>Artista=%{x}<br>Mejor Posición=%{y}<extra></extra>",
         "legendgroup": "Las Piponas (Remix)",
         "marker": {
          "color": "#00cc96",
          "pattern": {
           "shape": ""
          }
         },
         "name": "Las Piponas (Remix)",
         "offsetgroup": "Las Piponas (Remix)",
         "orientation": "v",
         "showlegend": true,
         "textposition": "auto",
         "type": "bar",
         "x": [
          "Blessd",
          "Kris R."
         ],
         "xaxis": "x",
         "y": [
          8,
          8
         ],
         "yaxis": "y"
        },
        {
         "alignmentgroup": "True",
         "hovertemplate": "Canción=CHIKA MALA<br>Artista=%{x}<br>Mejor Posición=%{y}<extra></extra>",
         "legendgroup": "CHIKA MALA",
         "marker": {
          "color": "#ab63fa",
          "pattern": {
           "shape": ""
          }
         },
         "name": "CHIKA MALA",
         "offsetgroup": "CHIKA MALA",
         "orientation": "v",
         "showlegend": true,
         "textposition": "auto",
         "type": "bar",
         "x": [
          "EL MURCIELAGO",
          "Jere Klein",
          "Mateo on the Beatz"
         ],
         "xaxis": "x",
         "y": [
          8,
          8,
          8
         ],
         "yaxis": "y"
        },
        {
         "alignmentgroup": "True",
         "hovertemplate": "Canción=RevolÃº<br>Artista=%{x}<br>Mejor Posición=%{y}<extra></extra>",
         "legendgroup": "RevolÃº",
         "marker": {
          "color": "#FFA15A",
          "pattern": {
           "shape": ""
          }
         },
         "name": "RevolÃº",
         "offsetgroup": "RevolÃº",
         "orientation": "v",
         "showlegend": true,
         "textposition": "auto",
         "type": "bar",
         "x": [
          "Feid",
          "Rauw Alejandro"
         ],
         "xaxis": "x",
         "y": [
          8,
          8
         ],
         "yaxis": "y"
        },
        {
         "alignmentgroup": "True",
         "hovertemplate": "Canción=Rey Sin Reina<br>Artista=%{x}<br>Mejor Posición=%{y}<extra></extra>",
         "legendgroup": "Rey Sin Reina",
         "marker": {
          "color": "#19d3f3",
          "pattern": {
           "shape": ""
          }
         },
         "name": "Rey Sin Reina",
         "offsetgroup": "Rey Sin Reina",
         "orientation": "v",
         "showlegend": true,
         "textposition": "auto",
         "type": "bar",
         "x": [
          "JuliÃ³n Ãlvarez y su NorteÃ±o Banda"
         ],
         "xaxis": "x",
         "y": [
          8
         ],
         "yaxis": "y"
        },
        {
         "alignmentgroup": "True",
         "hovertemplate": "Canción=AGORA<br>Artista=%{x}<br>Mejor Posición=%{y}<extra></extra>",
         "legendgroup": "AGORA",
         "marker": {
          "color": "#FF6692",
          "pattern": {
           "shape": ""
          }
         },
         "name": "AGORA",
         "offsetgroup": "AGORA",
         "orientation": "v",
         "showlegend": true,
         "textposition": "auto",
         "type": "bar",
         "x": [
          "Maria Becerra"
         ],
         "xaxis": "x",
         "y": [
          8
         ],
         "yaxis": "y"
        },
        {
         "alignmentgroup": "True",
         "hovertemplate": "Canción=Hasta AquÃ­ LleguÃ©<br>Artista=%{x}<br>Mejor Posición=%{y}<extra></extra>",
         "legendgroup": "Hasta AquÃ­ LleguÃ©",
         "marker": {
          "color": "#B6E880",
          "pattern": {
           "shape": ""
          }
         },
         "name": "Hasta AquÃ­ LleguÃ©",
         "offsetgroup": "Hasta AquÃ­ LleguÃ©",
         "orientation": "v",
         "showlegend": true,
         "textposition": "auto",
         "type": "bar",
         "x": [
          "BeÃ©le",
          "Nanpa BÃ¡sico"
         ],
         "xaxis": "x",
         "y": [
          9,
          9
         ],
         "yaxis": "y"
        },
        {
         "alignmentgroup": "True",
         "hovertemplate": "Canción=Die With A Smile<br>Artista=%{x}<br>Mejor Posición=%{y}<extra></extra>",
         "legendgroup": "Die With A Smile",
         "marker": {
          "color": "#FF97FF",
          "pattern": {
           "shape": ""
          }
         },
         "name": "Die With A Smile",
         "offsetgroup": "Die With A Smile",
         "orientation": "v",
         "showlegend": true,
         "textposition": "auto",
         "type": "bar",
         "x": [
          "Bruno Mars",
          "Lady Gaga"
         ],
         "xaxis": "x",
         "y": [
          9,
          9
         ],
         "yaxis": "y"
        },
        {
         "alignmentgroup": "True",
         "hovertemplate": "Canción=UWAIE<br>Artista=%{x}<br>Mejor Posición=%{y}<extra></extra>",
         "legendgroup": "UWAIE",
         "marker": {
          "color": "#FECB52",
          "pattern": {
           "shape": ""
          }
         },
         "name": "UWAIE",
         "offsetgroup": "UWAIE",
         "orientation": "v",
         "showlegend": true,
         "textposition": "auto",
         "type": "bar",
         "x": [
          "Kapo"
         ],
         "xaxis": "x",
         "y": [
          9
         ],
         "yaxis": "y"
        },
        {
         "alignmentgroup": "True",
         "hovertemplate": "Canción=Cosas Pendientes<br>Artista=%{x}<br>Mejor Posición=%{y}<extra></extra>",
         "legendgroup": "Cosas Pendientes",
         "marker": {
          "color": "#636efa",
          "pattern": {
           "shape": ""
          }
         },
         "name": "Cosas Pendientes",
         "offsetgroup": "Cosas Pendientes",
         "orientation": "v",
         "showlegend": true,
         "textposition": "auto",
         "type": "bar",
         "x": [
          "Maluma"
         ],
         "xaxis": "x",
         "y": [
          9
         ],
         "yaxis": "y"
        },
        {
         "alignmentgroup": "True",
         "hovertemplate": "Canción=Madonna<br>Artista=%{x}<br>Mejor Posición=%{y}<extra></extra>",
         "legendgroup": "Madonna",
         "marker": {
          "color": "#EF553B",
          "pattern": {
           "shape": ""
          }
         },
         "name": "Madonna",
         "offsetgroup": "Madonna",
         "orientation": "v",
         "showlegend": true,
         "textposition": "auto",
         "type": "bar",
         "x": [
          "Natanael Cano",
          "Oscar Maydon"
         ],
         "xaxis": "x",
         "y": [
          9,
          9
         ],
         "yaxis": "y"
        },
        {
         "alignmentgroup": "True",
         "hovertemplate": "Canción=NEL<br>Artista=%{x}<br>Mejor Posición=%{y}<extra></extra>",
         "legendgroup": "NEL",
         "marker": {
          "color": "#00cc96",
          "pattern": {
           "shape": ""
          }
         },
         "name": "NEL",
         "offsetgroup": "NEL",
         "orientation": "v",
         "showlegend": true,
         "textposition": "auto",
         "type": "bar",
         "x": [
          "Fuerza Regida"
         ],
         "xaxis": "x",
         "y": [
          10
         ],
         "yaxis": "y"
        },
        {
         "alignmentgroup": "True",
         "hovertemplate": "Canción=DÃ©jame Entrar<br>Artista=%{x}<br>Mejor Posición=%{y}<extra></extra>",
         "legendgroup": "DÃ©jame Entrar",
         "marker": {
          "color": "#ab63fa",
          "pattern": {
           "shape": ""
          }
         },
         "name": "DÃ©jame Entrar",
         "offsetgroup": "DÃ©jame Entrar",
         "orientation": "v",
         "showlegend": true,
         "textposition": "auto",
         "type": "bar",
         "x": [
          "Rauw Alejandro"
         ],
         "xaxis": "x",
         "y": [
          10
         ],
         "yaxis": "y"
        },
        {
         "alignmentgroup": "True",
         "hovertemplate": "Canción=Santa<br>Artista=%{x}<br>Mejor Posición=%{y}<extra></extra>",
         "legendgroup": "Santa",
         "marker": {
          "color": "#FFA15A",
          "pattern": {
           "shape": ""
          }
         },
         "name": "Santa",
         "offsetgroup": "Santa",
         "orientation": "v",
         "showlegend": true,
         "textposition": "auto",
         "type": "bar",
         "x": [
          "Ayra Starr",
          "Rauw Alejandro",
          "Rvssian"
         ],
         "xaxis": "x",
         "y": [
          11,
          11,
          11
         ],
         "yaxis": "y"
        },
        {
         "alignmentgroup": "True",
         "hovertemplate": "Canción=SORRY 4 THAT MUCH<br>Artista=%{x}<br>Mejor Posición=%{y}<extra></extra>",
         "legendgroup": "SORRY 4 THAT MUCH",
         "marker": {
          "color": "#19d3f3",
          "pattern": {
           "shape": ""
          }
         },
         "name": "SORRY 4 THAT MUCH",
         "offsetgroup": "SORRY 4 THAT MUCH",
         "orientation": "v",
         "showlegend": true,
         "textposition": "auto",
         "type": "bar",
         "x": [
          "Feid"
         ],
         "xaxis": "x",
         "y": [
          11
         ],
         "yaxis": "y"
        },
        {
         "alignmentgroup": "True",
         "hovertemplate": "Canción=5-jul<br>Artista=%{x}<br>Mejor Posición=%{y}<extra></extra>",
         "legendgroup": "5-jul",
         "marker": {
          "color": "#FF6692",
          "pattern": {
           "shape": ""
          }
         },
         "name": "5-jul",
         "offsetgroup": "5-jul",
         "orientation": "v",
         "showlegend": true,
         "textposition": "auto",
         "type": "bar",
         "x": [
          "Junior H",
          "Tito Double P"
         ],
         "xaxis": "x",
         "y": [
          11,
          11
         ],
         "yaxis": "y"
        },
        {
         "alignmentgroup": "True",
         "hovertemplate": "Canción=Committed<br>Artista=%{x}<br>Mejor Posición=%{y}<extra></extra>",
         "legendgroup": "Committed",
         "marker": {
          "color": "#B6E880",
          "pattern": {
           "shape": ""
          }
         },
         "name": "Committed",
         "offsetgroup": "Committed",
         "orientation": "v",
         "showlegend": true,
         "textposition": "auto",
         "type": "bar",
         "x": [
          "Pharrell Williams",
          "Rauw Alejandro"
         ],
         "xaxis": "x",
         "y": [
          11,
          11
         ],
         "yaxis": "y"
        },
        {
         "alignmentgroup": "True",
         "hovertemplate": "Canción=Hoy<br>Artista=%{x}<br>Mejor Posición=%{y}<extra></extra>",
         "legendgroup": "Hoy",
         "marker": {
          "color": "#FF97FF",
          "pattern": {
           "shape": ""
          }
         },
         "name": "Hoy",
         "offsetgroup": "Hoy",
         "orientation": "v",
         "showlegend": true,
         "textposition": "auto",
         "type": "bar",
         "x": [
          "The La Planta",
          "Valentino Merlo"
         ],
         "xaxis": "x",
         "y": [
          11,
          11
         ],
         "yaxis": "y"
        },
        {
         "alignmentgroup": "True",
         "hovertemplate": "Canción=PERRO NEGRO<br>Artista=%{x}<br>Mejor Posición=%{y}<extra></extra>",
         "legendgroup": "PERRO NEGRO",
         "marker": {
          "color": "#FECB52",
          "pattern": {
           "shape": ""
          }
         },
         "name": "PERRO NEGRO",
         "offsetgroup": "PERRO NEGRO",
         "orientation": "v",
         "showlegend": true,
         "textposition": "auto",
         "type": "bar",
         "x": [
          "Bad Bunny",
          "Feid"
         ],
         "xaxis": "x",
         "y": [
          12,
          12
         ],
         "yaxis": "y"
        },
        {
         "alignmentgroup": "True",
         "hovertemplate": "Canción=PIÃ‰NSALO<br>Artista=%{x}<br>Mejor Posición=%{y}<extra></extra>",
         "legendgroup": "PIÃ‰NSALO",
         "marker": {
          "color": "#636efa",
          "pattern": {
           "shape": ""
          }
         },
         "name": "PIÃ‰NSALO",
         "offsetgroup": "PIÃ‰NSALO",
         "orientation": "v",
         "showlegend": true,
         "textposition": "auto",
         "type": "bar",
         "x": [
          "Junior H"
         ],
         "xaxis": "x",
         "y": [
          12
         ],
         "yaxis": "y"
        },
        {
         "alignmentgroup": "True",
         "hovertemplate": "Canción=Ohnana<br>Artista=%{x}<br>Mejor Posición=%{y}<extra></extra>",
         "legendgroup": "Ohnana",
         "marker": {
          "color": "#EF553B",
          "pattern": {
           "shape": ""
          }
         },
         "name": "Ohnana",
         "offsetgroup": "Ohnana",
         "orientation": "v",
         "showlegend": true,
         "textposition": "auto",
         "type": "bar",
         "x": [
          "Kapo"
         ],
         "xaxis": "x",
         "y": [
          12
         ],
         "yaxis": "y"
        },
        {
         "alignmentgroup": "True",
         "hovertemplate": "Canción=Ni Me Conozco<br>Artista=%{x}<br>Mejor Posición=%{y}<extra></extra>",
         "legendgroup": "Ni Me Conozco",
         "marker": {
          "color": "#00cc96",
          "pattern": {
           "shape": ""
          }
         },
         "name": "Ni Me Conozco",
         "offsetgroup": "Ni Me Conozco",
         "orientation": "v",
         "showlegend": true,
         "textposition": "auto",
         "type": "bar",
         "x": [
          "Rauw Alejandro"
         ],
         "xaxis": "x",
         "y": [
          12
         ],
         "yaxis": "y"
        },
        {
         "alignmentgroup": "True",
         "hovertemplate": "Canción=QUE ME FALTE TODO<br>Artista=%{x}<br>Mejor Posición=%{y}<extra></extra>",
         "legendgroup": "QUE ME FALTE TODO",
         "marker": {
          "color": "#ab63fa",
          "pattern": {
           "shape": ""
          }
         },
         "name": "QUE ME FALTE TODO",
         "offsetgroup": "QUE ME FALTE TODO",
         "orientation": "v",
         "showlegend": true,
         "textposition": "auto",
         "type": "bar",
         "x": [
          "Abel Pintos",
          "Luck Ra"
         ],
         "xaxis": "x",
         "y": [
          13,
          13
         ],
         "yaxis": "y"
        },
        {
         "alignmentgroup": "True",
         "hovertemplate": "Canción=Baja Pa' AcÃ¡<br>Artista=%{x}<br>Mejor Posición=%{y}<extra></extra>",
         "legendgroup": "Baja Pa' AcÃ¡",
         "marker": {
          "color": "#FFA15A",
          "pattern": {
           "shape": ""
          }
         },
         "name": "Baja Pa' AcÃ¡",
         "offsetgroup": "Baja Pa' AcÃ¡",
         "orientation": "v",
         "showlegend": true,
         "textposition": "auto",
         "type": "bar",
         "x": [
          "Alexis y Fido",
          "Rauw Alejandro"
         ],
         "xaxis": "x",
         "y": [
          13,
          13
         ],
         "yaxis": "y"
        },
        {
         "alignmentgroup": "True",
         "hovertemplate": "Canción=PaÂ´Que Te Acuerdes | CROSSOVER #8<br>Artista=%{x}<br>Mejor Posición=%{y}<extra></extra>",
         "legendgroup": "PaÂ´Que Te Acuerdes | CROSSOVER #8",
         "marker": {
          "color": "#19d3f3",
          "pattern": {
           "shape": ""
          }
         },
         "name": "PaÂ´Que Te Acuerdes | CROSSOVER #8",
         "offsetgroup": "PaÂ´Que Te Acuerdes | CROSSOVER #8",
         "orientation": "v",
         "showlegend": true,
         "textposition": "auto",
         "type": "bar",
         "x": [
          "Big One",
          "La Joaqui",
          "Tiago PZK"
         ],
         "xaxis": "x",
         "y": [
          13,
          13,
          13
         ],
         "yaxis": "y"
        },
        {
         "alignmentgroup": "True",
         "hovertemplate": "Canción=Que Onda<br>Artista=%{x}<br>Mejor Posición=%{y}<extra></extra>",
         "legendgroup": "Que Onda",
         "marker": {
          "color": "#FF6692",
          "pattern": {
           "shape": ""
          }
         },
         "name": "Que Onda",
         "offsetgroup": "Que Onda",
         "orientation": "v",
         "showlegend": true,
         "textposition": "auto",
         "type": "bar",
         "x": [
          "Calle 24",
          "Chino Pacas",
          "Fuerza Regida"
         ],
         "xaxis": "x",
         "y": [
          13,
          13,
          13
         ],
         "yaxis": "y"
        },
        {
         "alignmentgroup": "True",
         "hovertemplate": "Canción=DÃ©jame Pensar<br>Artista=%{x}<br>Mejor Posición=%{y}<extra></extra>",
         "legendgroup": "DÃ©jame Pensar",
         "marker": {
          "color": "#B6E880",
          "pattern": {
           "shape": ""
          }
         },
         "name": "DÃ©jame Pensar",
         "offsetgroup": "DÃ©jame Pensar",
         "orientation": "v",
         "showlegend": true,
         "textposition": "auto",
         "type": "bar",
         "x": [
          "Cris Mj",
          "FloyyMenor",
          "Panda Black"
         ],
         "xaxis": "x",
         "y": [
          13,
          13,
          13
         ],
         "yaxis": "y"
        },
        {
         "alignmentgroup": "True",
         "hovertemplate": "Canción=Loquita - Remix<br>Artista=%{x}<br>Mejor Posición=%{y}<extra></extra>",
         "legendgroup": "Loquita - Remix",
         "marker": {
          "color": "#FF97FF",
          "pattern": {
           "shape": ""
          }
         },
         "name": "Loquita - Remix",
         "offsetgroup": "Loquita - Remix",
         "orientation": "v",
         "showlegend": true,
         "textposition": "auto",
         "type": "bar",
         "x": [
          "Cristian Di Marco",
          "DobleP",
          "ECKO",
          "Los Turros"
         ],
         "xaxis": "x",
         "y": [
          13,
          13,
          13,
          13
         ],
         "yaxis": "y"
        },
        {
         "alignmentgroup": "True",
         "hovertemplate": "Canción=ImagÃ­nate<br>Artista=%{x}<br>Mejor Posición=%{y}<extra></extra>",
         "legendgroup": "ImagÃ­nate",
         "marker": {
          "color": "#FECB52",
          "pattern": {
           "shape": ""
          }
         },
         "name": "ImagÃ­nate",
         "offsetgroup": "ImagÃ­nate",
         "orientation": "v",
         "showlegend": true,
         "textposition": "auto",
         "type": "bar",
         "x": [
          "Danny Ocean",
          "Kapo"
         ],
         "xaxis": "x",
         "y": [
          13,
          13
         ],
         "yaxis": "y"
        },
        {
         "alignmentgroup": "True",
         "hovertemplate": "Canción=LOS CUADROS<br>Artista=%{x}<br>Mejor Posición=%{y}<extra></extra>",
         "legendgroup": "LOS CUADROS",
         "marker": {
          "color": "#636efa",
          "pattern": {
           "shape": ""
          }
         },
         "name": "LOS CUADROS",
         "offsetgroup": "LOS CUADROS",
         "orientation": "v",
         "showlegend": true,
         "textposition": "auto",
         "type": "bar",
         "x": [
          "Peso Pluma",
          "Tito Double P"
         ],
         "xaxis": "x",
         "y": [
          13,
          13
         ],
         "yaxis": "y"
        },
        {
         "alignmentgroup": "True",
         "hovertemplate": "Canción=Soltera<br>Artista=%{x}<br>Mejor Posición=%{y}<extra></extra>",
         "legendgroup": "Soltera",
         "marker": {
          "color": "#EF553B",
          "pattern": {
           "shape": ""
          }
         },
         "name": "Soltera",
         "offsetgroup": "Soltera",
         "orientation": "v",
         "showlegend": true,
         "textposition": "auto",
         "type": "bar",
         "x": [
          "Shakira"
         ],
         "xaxis": "x",
         "y": [
          13
         ],
         "yaxis": "y"
        },
        {
         "alignmentgroup": "True",
         "hovertemplate": "Canción=Frente al Mar<br>Artista=%{x}<br>Mejor Posición=%{y}<extra></extra>",
         "legendgroup": "Frente al Mar",
         "marker": {
          "color": "#00cc96",
          "pattern": {
           "shape": ""
          }
         },
         "name": "Frente al Mar",
         "offsetgroup": "Frente al Mar",
         "orientation": "v",
         "showlegend": true,
         "textposition": "auto",
         "type": "bar",
         "x": [
          "BeÃ©le"
         ],
         "xaxis": "x",
         "y": [
          14
         ],
         "yaxis": "y"
        },
        {
         "alignmentgroup": "True",
         "hovertemplate": "Canción=Orion<br>Artista=%{x}<br>Mejor Posición=%{y}<extra></extra>",
         "legendgroup": "Orion",
         "marker": {
          "color": "#ab63fa",
          "pattern": {
           "shape": ""
          }
         },
         "name": "Orion",
         "offsetgroup": "Orion",
         "orientation": "v",
         "showlegend": true,
         "textposition": "auto",
         "type": "bar",
         "x": [
          "Boza",
          "ELENA ROSE"
         ],
         "xaxis": "x",
         "y": [
          14,
          14
         ],
         "yaxis": "y"
        },
        {
         "alignmentgroup": "True",
         "hovertemplate": "Canción=EL AMOR DE SU VIDA<br>Artista=%{x}<br>Mejor Posición=%{y}<extra></extra>",
         "legendgroup": "EL AMOR DE SU VIDA",
         "marker": {
          "color": "#FFA15A",
          "pattern": {
           "shape": ""
          }
         },
         "name": "EL AMOR DE SU VIDA",
         "offsetgroup": "EL AMOR DE SU VIDA",
         "orientation": "v",
         "showlegend": true,
         "textposition": "auto",
         "type": "bar",
         "x": [
          "Grupo Firme",
          "Grupo Frontera"
         ],
         "xaxis": "x",
         "y": [
          14,
          14
         ],
         "yaxis": "y"
        },
        {
         "alignmentgroup": "True",
         "hovertemplate": "Canción=DOCTOR<br>Artista=%{x}<br>Mejor Posición=%{y}<extra></extra>",
         "legendgroup": "DOCTOR",
         "marker": {
          "color": "#19d3f3",
          "pattern": {
           "shape": ""
          }
         },
         "name": "DOCTOR",
         "offsetgroup": "DOCTOR",
         "orientation": "v",
         "showlegend": true,
         "textposition": "auto",
         "type": "bar",
         "x": [
          "Luck Ra",
          "Nicki Nicole"
         ],
         "xaxis": "x",
         "y": [
          14,
          14
         ],
         "yaxis": "y"
        },
        {
         "alignmentgroup": "True",
         "hovertemplate": "Canción=PRIMO<br>Artista=%{x}<br>Mejor Posición=%{y}<extra></extra>",
         "legendgroup": "PRIMO",
         "marker": {
          "color": "#FF6692",
          "pattern": {
           "shape": ""
          }
         },
         "name": "PRIMO",
         "offsetgroup": "PRIMO",
         "orientation": "v",
         "showlegend": true,
         "textposition": "auto",
         "type": "bar",
         "x": [
          "Natanael Cano",
          "Tito Double P"
         ],
         "xaxis": "x",
         "y": [
          14,
          14
         ],
         "yaxis": "y"
        },
        {
         "alignmentgroup": "True",
         "hovertemplate": "Canción=Giza<br>Artista=%{x}<br>Mejor Posición=%{y}<extra></extra>",
         "legendgroup": "Giza",
         "marker": {
          "color": "#B6E880",
          "pattern": {
           "shape": ""
          }
         },
         "name": "Giza",
         "offsetgroup": "Giza",
         "orientation": "v",
         "showlegend": true,
         "textposition": "auto",
         "type": "bar",
         "x": [
          "Natanael Cano",
          "Oscar Maydon"
         ],
         "xaxis": "x",
         "y": [
          14,
          14
         ],
         "yaxis": "y"
        },
        {
         "alignmentgroup": "True",
         "hovertemplate": "Canción=Conmigo Te GustÃ³<br>Artista=%{x}<br>Mejor Posición=%{y}<extra></extra>",
         "legendgroup": "Conmigo Te GustÃ³",
         "marker": {
          "color": "#FF97FF",
          "pattern": {
           "shape": ""
          }
         },
         "name": "Conmigo Te GustÃ³",
         "offsetgroup": "Conmigo Te GustÃ³",
         "orientation": "v",
         "showlegend": true,
         "textposition": "auto",
         "type": "bar",
         "x": [
          "Pinky SD",
          "Un Poco de Ruido",
          "Uriel Lozano"
         ],
         "xaxis": "x",
         "y": [
          14,
          14,
          14
         ],
         "yaxis": "y"
        },
        {
         "alignmentgroup": "True",
         "hovertemplate": "Canción=APAGA EL CEL<br>Artista=%{x}<br>Mejor Posición=%{y}<extra></extra>",
         "legendgroup": "APAGA EL CEL",
         "marker": {
          "color": "#FECB52",
          "pattern": {
           "shape": ""
          }
         },
         "name": "APAGA EL CEL",
         "offsetgroup": "APAGA EL CEL",
         "orientation": "v",
         "showlegend": true,
         "textposition": "auto",
         "type": "bar",
         "x": [
          "FloyyMenor",
          "Lewis Somes"
         ],
         "xaxis": "x",
         "y": [
          15,
          15
         ],
         "yaxis": "y"
        },
        {
         "alignmentgroup": "True",
         "hovertemplate": "Canción=Bentley<br>Artista=%{x}<br>Mejor Posición=%{y}<extra></extra>",
         "legendgroup": "Bentley",
         "marker": {
          "color": "#636efa",
          "pattern": {
           "shape": ""
          }
         },
         "name": "Bentley",
         "offsetgroup": "Bentley",
         "orientation": "v",
         "showlegend": true,
         "textposition": "auto",
         "type": "bar",
         "x": [
          "Gittobeatz",
          "Jere Klein",
          "Lucky Brown",
          "Mateo on the Beatz"
         ],
         "xaxis": "x",
         "y": [
          15,
          15,
          15,
          15
         ],
         "yaxis": "y"
        },
        {
         "alignmentgroup": "True",
         "hovertemplate": "Canción=Y LLORO<br>Artista=%{x}<br>Mejor Posición=%{y}<extra></extra>",
         "legendgroup": "Y LLORO",
         "marker": {
          "color": "#EF553B",
          "pattern": {
           "shape": ""
          }
         },
         "name": "Y LLORO",
         "offsetgroup": "Y LLORO",
         "orientation": "v",
         "showlegend": true,
         "textposition": "auto",
         "type": "bar",
         "x": [
          "Junior H"
         ],
         "xaxis": "x",
         "y": [
          15
         ],
         "yaxis": "y"
        },
        {
         "alignmentgroup": "True",
         "hovertemplate": "Canción=TAMBIÃ‰N<br>Artista=%{x}<br>Mejor Posición=%{y}<extra></extra>",
         "legendgroup": "TAMBIÃ‰N",
         "marker": {
          "color": "#00cc96",
          "pattern": {
           "shape": ""
          }
         },
         "name": "TAMBIÃ‰N",
         "offsetgroup": "TAMBIÃ‰N",
         "orientation": "v",
         "showlegend": true,
         "textposition": "auto",
         "type": "bar",
         "x": [
          "Myke Towers"
         ],
         "xaxis": "x",
         "y": [
          15
         ],
         "yaxis": "y"
        },
        {
         "alignmentgroup": "True",
         "hovertemplate": "Canción=Si No Quieres No<br>Artista=%{x}<br>Mejor Posición=%{y}<extra></extra>",
         "legendgroup": "Si No Quieres No",
         "marker": {
          "color": "#ab63fa",
          "pattern": {
           "shape": ""
          }
         },
         "name": "Si No Quieres No",
         "offsetgroup": "Si No Quieres No",
         "orientation": "v",
         "showlegend": true,
         "textposition": "auto",
         "type": "bar",
         "x": [
          "Luis R Conriquez",
          "Neton Vega"
         ],
         "xaxis": "x",
         "y": [
          16,
          16
         ],
         "yaxis": "y"
        },
        {
         "alignmentgroup": "True",
         "hovertemplate": "Canción=SANTAL 33<br>Artista=%{x}<br>Mejor Posición=%{y}<extra></extra>",
         "legendgroup": "SANTAL 33",
         "marker": {
          "color": "#FFA15A",
          "pattern": {
           "shape": ""
          }
         },
         "name": "SANTAL 33",
         "offsetgroup": "SANTAL 33",
         "orientation": "v",
         "showlegend": true,
         "textposition": "auto",
         "type": "bar",
         "x": [
          "Oscar Maydon",
          "Peso Pluma"
         ],
         "xaxis": "x",
         "y": [
          16,
          16
         ],
         "yaxis": "y"
        },
        {
         "alignmentgroup": "True",
         "hovertemplate": "Canción=Mejores Jordans<br>Artista=%{x}<br>Mejor Posición=%{y}<extra></extra>",
         "legendgroup": "Mejores Jordans",
         "marker": {
          "color": "#19d3f3",
          "pattern": {
           "shape": ""
          }
         },
         "name": "Mejores Jordans",
         "offsetgroup": "Mejores Jordans",
         "orientation": "v",
         "showlegend": true,
         "textposition": "auto",
         "type": "bar",
         "x": [
          "Oscar Maydon",
          "Victor Mendivil"
         ],
         "xaxis": "x",
         "y": [
          16,
          16
         ],
         "yaxis": "y"
        },
        {
         "alignmentgroup": "True",
         "hovertemplate": "Canción=APT.<br>Artista=%{x}<br>Mejor Posición=%{y}<extra></extra>",
         "legendgroup": "APT.",
         "marker": {
          "color": "#FF6692",
          "pattern": {
           "shape": ""
          }
         },
         "name": "APT.",
         "offsetgroup": "APT.",
         "orientation": "v",
         "showlegend": true,
         "textposition": "auto",
         "type": "bar",
         "x": [
          "Bruno Mars",
          "ROSÃ‰"
         ],
         "xaxis": "x",
         "y": [
          17,
          17
         ],
         "yaxis": "y"
        },
        {
         "alignmentgroup": "True",
         "hovertemplate": "Canción=Cupido<br>Artista=%{x}<br>Mejor Posición=%{y}<extra></extra>",
         "legendgroup": "Cupido",
         "marker": {
          "color": "#B6E880",
          "pattern": {
           "shape": ""
          }
         },
         "name": "Cupido",
         "offsetgroup": "Cupido",
         "orientation": "v",
         "showlegend": true,
         "textposition": "auto",
         "type": "bar",
         "x": [
          "Engel Montaz",
          "Kuv507",
          "Latinnites Music"
         ],
         "xaxis": "x",
         "y": [
          17,
          17,
          17
         ],
         "yaxis": "y"
        },
        {
         "alignmentgroup": "True",
         "hovertemplate": "Canción=Feliz CumpleaÃ±os Ferxxo<br>Artista=%{x}<br>Mejor Posición=%{y}<extra></extra>",
         "legendgroup": "Feliz CumpleaÃ±os Ferxxo",
         "marker": {
          "color": "#FF97FF",
          "pattern": {
           "shape": ""
          }
         },
         "name": "Feliz CumpleaÃ±os Ferxxo",
         "offsetgroup": "Feliz CumpleaÃ±os Ferxxo",
         "orientation": "v",
         "showlegend": true,
         "textposition": "auto",
         "type": "bar",
         "x": [
          "Feid"
         ],
         "xaxis": "x",
         "y": [
          17
         ],
         "yaxis": "y"
        },
        {
         "alignmentgroup": "True",
         "hovertemplate": "Canción=Princesa<br>Artista=%{x}<br>Mejor Posición=%{y}<extra></extra>",
         "legendgroup": "Princesa",
         "marker": {
          "color": "#FECB52",
          "pattern": {
           "shape": ""
          }
         },
         "name": "Princesa",
         "offsetgroup": "Princesa",
         "orientation": "v",
         "showlegend": true,
         "textposition": "auto",
         "type": "bar",
         "x": [
          "Luck Ra",
          "Paulo Londra",
          "Valentino Merlo"
         ],
         "xaxis": "x",
         "y": [
          17,
          17,
          17
         ],
         "yaxis": "y"
        },
        {
         "alignmentgroup": "True",
         "hovertemplate": "Canción=Es un Secreto<br>Artista=%{x}<br>Mejor Posición=%{y}<extra></extra>",
         "legendgroup": "Es un Secreto",
         "marker": {
          "color": "#636efa",
          "pattern": {
           "shape": ""
          }
         },
         "name": "Es un Secreto",
         "offsetgroup": "Es un Secreto",
         "orientation": "v",
         "showlegend": true,
         "textposition": "auto",
         "type": "bar",
         "x": [
          "Plan B"
         ],
         "xaxis": "x",
         "y": [
          17
         ],
         "yaxis": "y"
        },
        {
         "alignmentgroup": "True",
         "hovertemplate": "Canción=SINVERGÃœENZA - con Angela Torres<br>Artista=%{x}<br>Mejor Posición=%{y}<extra></extra>",
         "legendgroup": "SINVERGÃœENZA - con Angela Torres",
         "marker": {
          "color": "#EF553B",
          "pattern": {
           "shape": ""
          }
         },
         "name": "SINVERGÃœENZA - con Angela Torres",
         "offsetgroup": "SINVERGÃœENZA - con Angela Torres",
         "orientation": "v",
         "showlegend": true,
         "textposition": "auto",
         "type": "bar",
         "x": [
          "Angela Torres",
          "Emanero",
          "j mena",
          "Karina"
         ],
         "xaxis": "x",
         "y": [
          18,
          18,
          18,
          18
         ],
         "yaxis": "y"
        },
        {
         "alignmentgroup": "True",
         "hovertemplate": "Canción=SegÃºn QuiÃ©n<br>Artista=%{x}<br>Mejor Posición=%{y}<extra></extra>",
         "legendgroup": "SegÃºn QuiÃ©n",
         "marker": {
          "color": "#00cc96",
          "pattern": {
           "shape": ""
          }
         },
         "name": "SegÃºn QuiÃ©n",
         "offsetgroup": "SegÃºn QuiÃ©n",
         "orientation": "v",
         "showlegend": true,
         "textposition": "auto",
         "type": "bar",
         "x": [
          "Carin Leon",
          "Maluma"
         ],
         "xaxis": "x",
         "y": [
          18,
          18
         ],
         "yaxis": "y"
        },
        {
         "alignmentgroup": "True",
         "hovertemplate": "Canción=CHINGON<br>Artista=%{x}<br>Mejor Posición=%{y}<extra></extra>",
         "legendgroup": "CHINGON",
         "marker": {
          "color": "#ab63fa",
          "pattern": {
           "shape": ""
          }
         },
         "name": "CHINGON",
         "offsetgroup": "CHINGON",
         "orientation": "v",
         "showlegend": true,
         "textposition": "auto",
         "type": "bar",
         "x": [
          "Martinwhite",
          "NEMJ"
         ],
         "xaxis": "x",
         "y": [
          18,
          18
         ],
         "yaxis": "y"
        },
        {
         "alignmentgroup": "True",
         "hovertemplate": "Canción=Pa' Que La Pases Bien<br>Artista=%{x}<br>Mejor Posición=%{y}<extra></extra>",
         "legendgroup": "Pa' Que La Pases Bien",
         "marker": {
          "color": "#FFA15A",
          "pattern": {
           "shape": ""
          }
         },
         "name": "Pa' Que La Pases Bien",
         "offsetgroup": "Pa' Que La Pases Bien",
         "orientation": "v",
         "showlegend": true,
         "textposition": "auto",
         "type": "bar",
         "x": [
          "ArcÃ¡ngel"
         ],
         "xaxis": "x",
         "y": [
          19
         ],
         "yaxis": "y"
        },
        {
         "alignmentgroup": "True",
         "hovertemplate": "Canción=Oe BebÃ©<br>Artista=%{x}<br>Mejor Posición=%{y}<extra></extra>",
         "legendgroup": "Oe BebÃ©",
         "marker": {
          "color": "#19d3f3",
          "pattern": {
           "shape": ""
          }
         },
         "name": "Oe BebÃ©",
         "offsetgroup": "Oe BebÃ©",
         "orientation": "v",
         "showlegend": true,
         "textposition": "auto",
         "type": "bar",
         "x": [
          "Blessd",
          "Maluma"
         ],
         "xaxis": "x",
         "y": [
          19,
          19
         ],
         "yaxis": "y"
        },
        {
         "alignmentgroup": "True",
         "hovertemplate": "Canción=SI NO ES CONTIGO<br>Artista=%{x}<br>Mejor Posición=%{y}<extra></extra>",
         "legendgroup": "SI NO ES CONTIGO",
         "marker": {
          "color": "#FF6692",
          "pattern": {
           "shape": ""
          }
         },
         "name": "SI NO ES CONTIGO",
         "offsetgroup": "SI NO ES CONTIGO",
         "orientation": "v",
         "showlegend": true,
         "textposition": "auto",
         "type": "bar",
         "x": [
          "Cris Mj"
         ],
         "xaxis": "x",
         "y": [
          19
         ],
         "yaxis": "y"
        },
        {
         "alignmentgroup": "True",
         "hovertemplate": "Canción=Vida De Rock<br>Artista=%{x}<br>Mejor Posición=%{y}<extra></extra>",
         "legendgroup": "Vida De Rock",
         "marker": {
          "color": "#B6E880",
          "pattern": {
           "shape": ""
          }
         },
         "name": "Vida De Rock",
         "offsetgroup": "Vida De Rock",
         "orientation": "v",
         "showlegend": true,
         "textposition": "auto",
         "type": "bar",
         "x": [
          "Duki",
          "Milo j"
         ],
         "xaxis": "x",
         "y": [
          19,
          19
         ],
         "yaxis": "y"
        },
        {
         "alignmentgroup": "True",
         "hovertemplate": "Canción=QUEMA<br>Artista=%{x}<br>Mejor Posición=%{y}<extra></extra>",
         "legendgroup": "QUEMA",
         "marker": {
          "color": "#FF97FF",
          "pattern": {
           "shape": ""
          }
         },
         "name": "QUEMA",
         "offsetgroup": "QUEMA",
         "orientation": "v",
         "showlegend": true,
         "textposition": "auto",
         "type": "bar",
         "x": [
          "Peso Pluma",
          "Ryan Castro",
          "SOG"
         ],
         "xaxis": "x",
         "y": [
          19,
          19,
          19
         ],
         "yaxis": "y"
        },
        {
         "alignmentgroup": "True",
         "hovertemplate": "Canción=IL Capo<br>Artista=%{x}<br>Mejor Posición=%{y}<extra></extra>",
         "legendgroup": "IL Capo",
         "marker": {
          "color": "#FECB52",
          "pattern": {
           "shape": ""
          }
         },
         "name": "IL Capo",
         "offsetgroup": "IL Capo",
         "orientation": "v",
         "showlegend": true,
         "textposition": "auto",
         "type": "bar",
         "x": [
          "Rauw Alejandro"
         ],
         "xaxis": "x",
         "y": [
          19
         ],
         "yaxis": "y"
        },
        {
         "alignmentgroup": "True",
         "hovertemplate": "Canción=BLANCA ROSITA Y MARIA<br>Artista=%{x}<br>Mejor Posición=%{y}<extra></extra>",
         "legendgroup": "BLANCA ROSITA Y MARIA",
         "marker": {
          "color": "#636efa",
          "pattern": {
           "shape": ""
          }
         },
         "name": "BLANCA ROSITA Y MARIA",
         "offsetgroup": "BLANCA ROSITA Y MARIA",
         "orientation": "v",
         "showlegend": true,
         "textposition": "auto",
         "type": "bar",
         "x": [
          "Tito Double P"
         ],
         "xaxis": "x",
         "y": [
          19
         ],
         "yaxis": "y"
        },
        {
         "alignmentgroup": "True",
         "hovertemplate": "Canción=TU TA RICA<br>Artista=%{x}<br>Mejor Posición=%{y}<extra></extra>",
         "legendgroup": "TU TA RICA",
         "marker": {
          "color": "#EF553B",
          "pattern": {
           "shape": ""
          }
         },
         "name": "TU TA RICA",
         "offsetgroup": "TU TA RICA",
         "orientation": "v",
         "showlegend": true,
         "textposition": "auto",
         "type": "bar",
         "x": [
          "FloyyMenor",
          "Lewis Somes"
         ],
         "xaxis": "x",
         "y": [
          20,
          20
         ],
         "yaxis": "y"
        },
        {
         "alignmentgroup": "True",
         "hovertemplate": "Canción=Mil Preguntas<br>Artista=%{x}<br>Mejor Posición=%{y}<extra></extra>",
         "legendgroup": "Mil Preguntas",
         "marker": {
          "color": "#00cc96",
          "pattern": {
           "shape": ""
          }
         },
         "name": "Mil Preguntas",
         "offsetgroup": "Mil Preguntas",
         "orientation": "v",
         "showlegend": true,
         "textposition": "auto",
         "type": "bar",
         "x": [
          "Luck Ra",
          "Q' Lokura"
         ],
         "xaxis": "x",
         "y": [
          20,
          20
         ],
         "yaxis": "y"
        },
        {
         "alignmentgroup": "True",
         "hovertemplate": "Canción=Mil Mujeres<br>Artista=%{x}<br>Mejor Posición=%{y}<extra></extra>",
         "legendgroup": "Mil Mujeres",
         "marker": {
          "color": "#ab63fa",
          "pattern": {
           "shape": ""
          }
         },
         "name": "Mil Mujeres",
         "offsetgroup": "Mil Mujeres",
         "orientation": "v",
         "showlegend": true,
         "textposition": "auto",
         "type": "bar",
         "x": [
          "Rauw Alejandro"
         ],
         "xaxis": "x",
         "y": [
          20
         ],
         "yaxis": "y"
        },
        {
         "alignmentgroup": "True",
         "hovertemplate": "Canción=Dimelo Mami<br>Artista=%{x}<br>Mejor Posición=%{y}<extra></extra>",
         "legendgroup": "Dimelo Mami",
         "marker": {
          "color": "#FFA15A",
          "pattern": {
           "shape": ""
          }
         },
         "name": "Dimelo Mami",
         "offsetgroup": "Dimelo Mami",
         "orientation": "v",
         "showlegend": true,
         "textposition": "auto",
         "type": "bar",
         "x": [
          "Omar Varela",
          "Salastkbron"
         ],
         "xaxis": "x",
         "y": [
          21,
          21
         ],
         "yaxis": "y"
        },
        {
         "alignmentgroup": "True",
         "hovertemplate": "Canción=Tu Foto - En Vivo<br>Artista=%{x}<br>Mejor Posición=%{y}<extra></extra>",
         "legendgroup": "Tu Foto - En Vivo",
         "marker": {
          "color": "#19d3f3",
          "pattern": {
           "shape": ""
          }
         },
         "name": "Tu Foto - En Vivo",
         "offsetgroup": "Tu Foto - En Vivo",
         "orientation": "v",
         "showlegend": true,
         "textposition": "auto",
         "type": "bar",
         "x": [
          "Q' Lokura",
          "Valentino Merlo"
         ],
         "xaxis": "x",
         "y": [
          21,
          21
         ],
         "yaxis": "y"
        },
        {
         "alignmentgroup": "True",
         "hovertemplate": "Canción=FLECHAZO EN EL CENTRO<br>Artista=%{x}<br>Mejor Posición=%{y}<extra></extra>",
         "legendgroup": "FLECHAZO EN EL CENTRO",
         "marker": {
          "color": "#FF6692",
          "pattern": {
           "shape": ""
          }
         },
         "name": "FLECHAZO EN EL CENTRO",
         "offsetgroup": "FLECHAZO EN EL CENTRO",
         "orientation": "v",
         "showlegend": true,
         "textposition": "auto",
         "type": "bar",
         "x": [
          "Bhavi",
          "Milo j",
          "YSY A"
         ],
         "xaxis": "x",
         "y": [
          22,
          22,
          22
         ],
         "yaxis": "y"
        },
        {
         "alignmentgroup": "True",
         "hovertemplate": "Canción=DespÃ³jate Vol.2<br>Artista=%{x}<br>Mejor Posición=%{y}<extra></extra>",
         "legendgroup": "DespÃ³jate Vol.2",
         "marker": {
          "color": "#B6E880",
          "pattern": {
           "shape": ""
          }
         },
         "name": "DespÃ³jate Vol.2",
         "offsetgroup": "DespÃ³jate Vol.2",
         "orientation": "v",
         "showlegend": true,
         "textposition": "auto",
         "type": "bar",
         "x": [
          "BM",
          "Callejero Fino",
          "Hernan y La Champion's Liga"
         ],
         "xaxis": "x",
         "y": [
          22,
          22,
          22
         ],
         "yaxis": "y"
        },
        {
         "alignmentgroup": "True",
         "hovertemplate": "Canción=UN SIGLO SIN TI<br>Artista=%{x}<br>Mejor Posición=%{y}<extra></extra>",
         "legendgroup": "UN SIGLO SIN TI",
         "marker": {
          "color": "#FF97FF",
          "pattern": {
           "shape": ""
          }
         },
         "name": "UN SIGLO SIN TI",
         "offsetgroup": "UN SIGLO SIN TI",
         "orientation": "v",
         "showlegend": true,
         "textposition": "auto",
         "type": "bar",
         "x": [
          "Chayanne",
          "Luck Ra"
         ],
         "xaxis": "x",
         "y": [
          22,
          22
         ],
         "yaxis": "y"
        },
        {
         "alignmentgroup": "True",
         "hovertemplate": "Canción=Brickell<br>Artista=%{x}<br>Mejor Posición=%{y}<extra></extra>",
         "legendgroup": "Brickell",
         "marker": {
          "color": "#FECB52",
          "pattern": {
           "shape": ""
          }
         },
         "name": "Brickell",
         "offsetgroup": "Brickell",
         "orientation": "v",
         "showlegend": true,
         "textposition": "auto",
         "type": "bar",
         "x": [
          "Feid",
          "Yandel"
         ],
         "xaxis": "x",
         "y": [
          22,
          22
         ],
         "yaxis": "y"
        },
        {
         "alignmentgroup": "True",
         "hovertemplate": "Canción=Kamikaze (feat. Victor Mendivil)<br>Artista=%{x}<br>Mejor Posición=%{y}<extra></extra>",
         "legendgroup": "Kamikaze (feat. Victor Mendivil)",
         "marker": {
          "color": "#636efa",
          "pattern": {
           "shape": ""
          }
         },
         "name": "Kamikaze (feat. Victor Mendivil)",
         "offsetgroup": "Kamikaze (feat. Victor Mendivil)",
         "orientation": "v",
         "showlegend": true,
         "textposition": "auto",
         "type": "bar",
         "x": [
          "Ganggy",
          "Natanael Cano",
          "Uriel Gaxiola",
          "Victor Mendivil"
         ],
         "xaxis": "x",
         "y": [
          22,
          22,
          22,
          22
         ],
         "yaxis": "y"
        },
        {
         "alignmentgroup": "True",
         "hovertemplate": "Canción=Cuando Te Vi | CROSSOVER #5<br>Artista=%{x}<br>Mejor Posición=%{y}<extra></extra>",
         "legendgroup": "Cuando Te Vi | CROSSOVER #5",
         "marker": {
          "color": "#EF553B",
          "pattern": {
           "shape": ""
          }
         },
         "name": "Cuando Te Vi | CROSSOVER #5",
         "offsetgroup": "Cuando Te Vi | CROSSOVER #5",
         "orientation": "v",
         "showlegend": true,
         "textposition": "auto",
         "type": "bar",
         "x": [
          "Big One",
          "Maria Becerra",
          "Trueno"
         ],
         "xaxis": "x",
         "y": [
          23,
          23,
          23
         ],
         "yaxis": "y"
        },
        {
         "alignmentgroup": "True",
         "hovertemplate": "Canción=SI NO ES CONTIGO - REMIX<br>Artista=%{x}<br>Mejor Posición=%{y}<extra></extra>",
         "legendgroup": "SI NO ES CONTIGO - REMIX",
         "marker": {
          "color": "#00cc96",
          "pattern": {
           "shape": ""
          }
         },
         "name": "SI NO ES CONTIGO - REMIX",
         "offsetgroup": "SI NO ES CONTIGO - REMIX",
         "orientation": "v",
         "showlegend": true,
         "textposition": "auto",
         "type": "bar",
         "x": [
          "Cris Mj",
          "JHAYCO",
          "Kali Uchis"
         ],
         "xaxis": "x",
         "y": [
          23,
          23,
          23
         ],
         "yaxis": "y"
        },
        {
         "alignmentgroup": "True",
         "hovertemplate": "Canción=MY LOVE<br>Artista=%{x}<br>Mejor Posición=%{y}<extra></extra>",
         "legendgroup": "MY LOVE",
         "marker": {
          "color": "#ab63fa",
          "pattern": {
           "shape": ""
          }
         },
         "name": "MY LOVE",
         "offsetgroup": "MY LOVE",
         "orientation": "v",
         "showlegend": true,
         "textposition": "auto",
         "type": "bar",
         "x": [
          "FloyyMenor",
          "Lewis Somes"
         ],
         "xaxis": "x",
         "y": [
          23,
          23
         ],
         "yaxis": "y"
        },
        {
         "alignmentgroup": "True",
         "hovertemplate": "Canción=HOCO en la U (Â¿que hubo?)<br>Artista=%{x}<br>Mejor Posición=%{y}<extra></extra>",
         "legendgroup": "HOCO en la U (Â¿que hubo?)",
         "marker": {
          "color": "#FFA15A",
          "pattern": {
           "shape": ""
          }
         },
         "name": "HOCO en la U (Â¿que hubo?)",
         "offsetgroup": "HOCO en la U (Â¿que hubo?)",
         "orientation": "v",
         "showlegend": true,
         "textposition": "auto",
         "type": "bar",
         "x": [
          "JoshuaLife"
         ],
         "xaxis": "x",
         "y": [
          23
         ],
         "yaxis": "y"
        },
        {
         "alignmentgroup": "True",
         "hovertemplate": "Canción=Amar De Nuevo<br>Artista=%{x}<br>Mejor Posición=%{y}<extra></extra>",
         "legendgroup": "Amar De Nuevo",
         "marker": {
          "color": "#19d3f3",
          "pattern": {
           "shape": ""
          }
         },
         "name": "Amar De Nuevo",
         "offsetgroup": "Amar De Nuevo",
         "orientation": "v",
         "showlegend": true,
         "textposition": "auto",
         "type": "bar",
         "x": [
          "Rauw Alejandro"
         ],
         "xaxis": "x",
         "y": [
          23
         ],
         "yaxis": "y"
        },
        {
         "alignmentgroup": "True",
         "hovertemplate": "Canción=HOLLYWOOD<br>Artista=%{x}<br>Mejor Posición=%{y}<extra></extra>",
         "legendgroup": "HOLLYWOOD",
         "marker": {
          "color": "#FF6692",
          "pattern": {
           "shape": ""
          }
         },
         "name": "HOLLYWOOD",
         "offsetgroup": "HOLLYWOOD",
         "orientation": "v",
         "showlegend": true,
         "textposition": "auto",
         "type": "bar",
         "x": [
          "Estevan Plazola",
          "Peso Pluma"
         ],
         "xaxis": "x",
         "y": [
          24,
          24
         ],
         "yaxis": "y"
        },
        {
         "alignmentgroup": "True",
         "hovertemplate": "Canción=Tattoo<br>Artista=%{x}<br>Mejor Posición=%{y}<extra></extra>",
         "legendgroup": "Tattoo",
         "marker": {
          "color": "#B6E880",
          "pattern": {
           "shape": ""
          }
         },
         "name": "Tattoo",
         "offsetgroup": "Tattoo",
         "orientation": "v",
         "showlegend": true,
         "textposition": "auto",
         "type": "bar",
         "x": [
          "Grupo ZÃºmbale Primo"
         ],
         "xaxis": "x",
         "y": [
          24
         ],
         "yaxis": "y"
        },
        {
         "alignmentgroup": "True",
         "hovertemplate": "Canción=AMIRI<br>Artista=%{x}<br>Mejor Posición=%{y}<extra></extra>",
         "legendgroup": "AMIRI",
         "marker": {
          "color": "#FF97FF",
          "pattern": {
           "shape": ""
          }
         },
         "name": "AMIRI",
         "offsetgroup": "AMIRI",
         "orientation": "v",
         "showlegend": true,
         "textposition": "auto",
         "type": "bar",
         "x": [
          "Jasiel NuÃ±ez",
          "Peso Pluma",
          "Tito Double P"
         ],
         "xaxis": "x",
         "y": [
          24,
          24,
          24
         ],
         "yaxis": "y"
        },
        {
         "alignmentgroup": "True",
         "hovertemplate": "Canción=2:12 a. m.<br>Artista=%{x}<br>Mejor Posición=%{y}<extra></extra>",
         "legendgroup": "2:12 a. m.",
         "marker": {
          "color": "#FECB52",
          "pattern": {
           "shape": ""
          }
         },
         "name": "2:12 a. m.",
         "offsetgroup": "2:12 a. m.",
         "orientation": "v",
         "showlegend": true,
         "textposition": "auto",
         "type": "bar",
         "x": [
          "LATIN MAFIA",
          "Rauw Alejandro"
         ],
         "xaxis": "x",
         "y": [
          24,
          24
         ],
         "yaxis": "y"
        },
        {
         "alignmentgroup": "True",
         "hovertemplate": "Canción=LINDA<br>Artista=%{x}<br>Mejor Posición=%{y}<extra></extra>",
         "legendgroup": "LINDA",
         "marker": {
          "color": "#636efa",
          "pattern": {
           "shape": ""
          }
         },
         "name": "LINDA",
         "offsetgroup": "LINDA",
         "orientation": "v",
         "showlegend": true,
         "textposition": "auto",
         "type": "bar",
         "x": [
          "Neton Vega",
          "Tito Double P"
         ],
         "xaxis": "x",
         "y": [
          24,
          24
         ],
         "yaxis": "y"
        },
        {
         "alignmentgroup": "True",
         "hovertemplate": "Canción=No Son Doritos<br>Artista=%{x}<br>Mejor Posición=%{y}<extra></extra>",
         "legendgroup": "No Son Doritos",
         "marker": {
          "color": "#EF553B",
          "pattern": {
           "shape": ""
          }
         },
         "name": "No Son Doritos",
         "offsetgroup": "No Son Doritos",
         "orientation": "v",
         "showlegend": true,
         "textposition": "auto",
         "type": "bar",
         "x": [
          "Clave Especial",
          "Luis R Conriquez"
         ],
         "xaxis": "x",
         "y": [
          25,
          25
         ],
         "yaxis": "y"
        },
        {
         "alignmentgroup": "True",
         "hovertemplate": "Canción=Imperio<br>Artista=%{x}<br>Mejor Posición=%{y}<extra></extra>",
         "legendgroup": "Imperio",
         "marker": {
          "color": "#00cc96",
          "pattern": {
           "shape": ""
          }
         },
         "name": "Imperio",
         "offsetgroup": "Imperio",
         "orientation": "v",
         "showlegend": true,
         "textposition": "auto",
         "type": "bar",
         "x": [
          "Duki",
          "Judeline"
         ],
         "xaxis": "x",
         "y": [
          25,
          25
         ],
         "yaxis": "y"
        },
        {
         "alignmentgroup": "True",
         "hovertemplate": "Canción=No Te Rayes<br>Artista=%{x}<br>Mejor Posición=%{y}<extra></extra>",
         "legendgroup": "No Te Rayes",
         "marker": {
          "color": "#ab63fa",
          "pattern": {
           "shape": ""
          }
         },
         "name": "No Te Rayes",
         "offsetgroup": "No Te Rayes",
         "orientation": "v",
         "showlegend": true,
         "textposition": "auto",
         "type": "bar",
         "x": [
          "Miguel Bueno",
          "ONIKX"
         ],
         "xaxis": "x",
         "y": [
          25,
          25
         ],
         "yaxis": "y"
        },
        {
         "alignmentgroup": "True",
         "hovertemplate": "Canción=Pasaporte<br>Artista=%{x}<br>Mejor Posición=%{y}<extra></extra>",
         "legendgroup": "Pasaporte",
         "marker": {
          "color": "#FFA15A",
          "pattern": {
           "shape": ""
          }
         },
         "name": "Pasaporte",
         "offsetgroup": "Pasaporte",
         "orientation": "v",
         "showlegend": true,
         "textposition": "auto",
         "type": "bar",
         "x": [
          "Mr. Naisgai",
          "Rauw Alejandro"
         ],
         "xaxis": "x",
         "y": [
          25,
          25
         ],
         "yaxis": "y"
        },
        {
         "alignmentgroup": "True",
         "hovertemplate": "Canción=A las Nueve<br>Artista=%{x}<br>Mejor Posición=%{y}<extra></extra>",
         "legendgroup": "A las Nueve",
         "marker": {
          "color": "#19d3f3",
          "pattern": {
           "shape": ""
          }
         },
         "name": "A las Nueve",
         "offsetgroup": "A las Nueve",
         "orientation": "v",
         "showlegend": true,
         "textposition": "auto",
         "type": "bar",
         "x": [
          "No Te Va Gustar"
         ],
         "xaxis": "x",
         "y": [
          25
         ],
         "yaxis": "y"
        },
        {
         "alignmentgroup": "True",
         "hovertemplate": "Canción=Movimiento de Caderas<br>Artista=%{x}<br>Mejor Posición=%{y}<extra></extra>",
         "legendgroup": "Movimiento de Caderas",
         "marker": {
          "color": "#FF6692",
          "pattern": {
           "shape": ""
          }
         },
         "name": "Movimiento de Caderas",
         "offsetgroup": "Movimiento de Caderas",
         "orientation": "v",
         "showlegend": true,
         "textposition": "auto",
         "type": "bar",
         "x": [
          "Rayo & Toby"
         ],
         "xaxis": "x",
         "y": [
          25
         ],
         "yaxis": "y"
        },
        {
         "alignmentgroup": "True",
         "hovertemplate": "Canción=Dile a Tu Amiga<br>Artista=%{x}<br>Mejor Posición=%{y}<extra></extra>",
         "legendgroup": "Dile a Tu Amiga",
         "marker": {
          "color": "#B6E880",
          "pattern": {
           "shape": ""
          }
         },
         "name": "Dile a Tu Amiga",
         "offsetgroup": "Dile a Tu Amiga",
         "orientation": "v",
         "showlegend": true,
         "textposition": "auto",
         "type": "bar",
         "x": [
          "Dalmata"
         ],
         "xaxis": "x",
         "y": [
          26
         ],
         "yaxis": "y"
        },
        {
         "alignmentgroup": "True",
         "hovertemplate": "Canción=DUELE<br>Artista=%{x}<br>Mejor Posición=%{y}<extra></extra>",
         "legendgroup": "DUELE",
         "marker": {
          "color": "#FF97FF",
          "pattern": {
           "shape": ""
          }
         },
         "name": "DUELE",
         "offsetgroup": "DUELE",
         "orientation": "v",
         "showlegend": true,
         "textposition": "auto",
         "type": "bar",
         "x": [
          "Emirsito",
          "YSY A"
         ],
         "xaxis": "x",
         "y": [
          26,
          26
         ],
         "yaxis": "y"
        },
        {
         "alignmentgroup": "True",
         "hovertemplate": "Canción=Normal<br>Artista=%{x}<br>Mejor Posición=%{y}<extra></extra>",
         "legendgroup": "Normal",
         "marker": {
          "color": "#FECB52",
          "pattern": {
           "shape": ""
          }
         },
         "name": "Normal",
         "offsetgroup": "Normal",
         "orientation": "v",
         "showlegend": true,
         "textposition": "auto",
         "type": "bar",
         "x": [
          "Feid"
         ],
         "xaxis": "x",
         "y": [
          26
         ],
         "yaxis": "y"
        },
        {
         "alignmentgroup": "True",
         "hovertemplate": "Canción=Regalo De Dios<br>Artista=%{x}<br>Mejor Posición=%{y}<extra></extra>",
         "legendgroup": "Regalo De Dios",
         "marker": {
          "color": "#636efa",
          "pattern": {
           "shape": ""
          }
         },
         "name": "Regalo De Dios",
         "offsetgroup": "Regalo De Dios",
         "orientation": "v",
         "showlegend": true,
         "textposition": "auto",
         "type": "bar",
         "x": [
          "JuliÃ³n Ãlvarez y su NorteÃ±o Banda"
         ],
         "xaxis": "x",
         "y": [
          27
         ],
         "yaxis": "y"
        },
        {
         "alignmentgroup": "True",
         "hovertemplate": "Canción=Virgen<br>Artista=%{x}<br>Mejor Posición=%{y}<extra></extra>",
         "legendgroup": "Virgen",
         "marker": {
          "color": "#EF553B",
          "pattern": {
           "shape": ""
          }
         },
         "name": "Virgen",
         "offsetgroup": "Virgen",
         "orientation": "v",
         "showlegend": true,
         "textposition": "auto",
         "type": "bar",
         "x": [
          "Adolescent's Orquesta"
         ],
         "xaxis": "x",
         "y": [
          28
         ],
         "yaxis": "y"
        },
        {
         "alignmentgroup": "True",
         "hovertemplate": "Canción=CUAL ES ESA<br>Artista=%{x}<br>Mejor Posición=%{y}<extra></extra>",
         "legendgroup": "CUAL ES ESA",
         "marker": {
          "color": "#00cc96",
          "pattern": {
           "shape": ""
          }
         },
         "name": "CUAL ES ESA",
         "offsetgroup": "CUAL ES ESA",
         "orientation": "v",
         "showlegend": true,
         "textposition": "auto",
         "type": "bar",
         "x": [
          "Feid",
          "Pirlo"
         ],
         "xaxis": "x",
         "y": [
          28,
          28
         ],
         "yaxis": "y"
        },
        {
         "alignmentgroup": "True",
         "hovertemplate": "Canción=AMARGURA<br>Artista=%{x}<br>Mejor Posición=%{y}<extra></extra>",
         "legendgroup": "AMARGURA",
         "marker": {
          "color": "#ab63fa",
          "pattern": {
           "shape": ""
          }
         },
         "name": "AMARGURA",
         "offsetgroup": "AMARGURA",
         "orientation": "v",
         "showlegend": true,
         "textposition": "auto",
         "type": "bar",
         "x": [
          "KAROL G"
         ],
         "xaxis": "x",
         "y": [
          28
         ],
         "yaxis": "y"
        },
        {
         "alignmentgroup": "True",
         "hovertemplate": "Canción=En Otra Vida<br>Artista=%{x}<br>Mejor Posición=%{y}<extra></extra>",
         "legendgroup": "En Otra Vida",
         "marker": {
          "color": "#FFA15A",
          "pattern": {
           "shape": ""
          }
         },
         "name": "En Otra Vida",
         "offsetgroup": "En Otra Vida",
         "orientation": "v",
         "showlegend": true,
         "textposition": "auto",
         "type": "bar",
         "x": [
          "Lasso",
          "Yami Safdie"
         ],
         "xaxis": "x",
         "y": [
          28,
          28
         ],
         "yaxis": "y"
        },
        {
         "alignmentgroup": "True",
         "hovertemplate": "Canción=Sola Suelta Soltera<br>Artista=%{x}<br>Mejor Posición=%{y}<extra></extra>",
         "legendgroup": "Sola Suelta Soltera",
         "marker": {
          "color": "#19d3f3",
          "pattern": {
           "shape": ""
          }
         },
         "name": "Sola Suelta Soltera",
         "offsetgroup": "Sola Suelta Soltera",
         "orientation": "v",
         "showlegend": true,
         "textposition": "auto",
         "type": "bar",
         "x": [
          "Lucky Brown",
          "Mateo on the Beatz"
         ],
         "xaxis": "x",
         "y": [
          28,
          28
         ],
         "yaxis": "y"
        },
        {
         "alignmentgroup": "True",
         "hovertemplate": "Canción=Borro Cassette<br>Artista=%{x}<br>Mejor Posición=%{y}<extra></extra>",
         "legendgroup": "Borro Cassette",
         "marker": {
          "color": "#FF6692",
          "pattern": {
           "shape": ""
          }
         },
         "name": "Borro Cassette",
         "offsetgroup": "Borro Cassette",
         "orientation": "v",
         "showlegend": true,
         "textposition": "auto",
         "type": "bar",
         "x": [
          "Maluma"
         ],
         "xaxis": "x",
         "y": [
          28
         ],
         "yaxis": "y"
        },
        {
         "alignmentgroup": "True",
         "hovertemplate": "Canción=Ojos Verdes<br>Artista=%{x}<br>Mejor Posición=%{y}<extra></extra>",
         "legendgroup": "Ojos Verdes",
         "marker": {
          "color": "#B6E880",
          "pattern": {
           "shape": ""
          }
         },
         "name": "Ojos Verdes",
         "offsetgroup": "Ojos Verdes",
         "orientation": "v",
         "showlegend": true,
         "textposition": "auto",
         "type": "bar",
         "x": [
          "Nicki Nicole"
         ],
         "xaxis": "x",
         "y": [
          28
         ],
         "yaxis": "y"
        },
        {
         "alignmentgroup": "True",
         "hovertemplate": "Canción=SATIROLOGÃA<br>Artista=%{x}<br>Mejor Posición=%{y}<extra></extra>",
         "legendgroup": "SATIROLOGÃA",
         "marker": {
          "color": "#FF97FF",
          "pattern": {
           "shape": ""
          }
         },
         "name": "SATIROLOGÃA",
         "offsetgroup": "SATIROLOGÃA",
         "orientation": "v",
         "showlegend": true,
         "textposition": "auto",
         "type": "bar",
         "x": [
          "Dysbit",
          "Kidd Voodoo"
         ],
         "xaxis": "x",
         "y": [
          29,
          29
         ],
         "yaxis": "y"
        },
        {
         "alignmentgroup": "True",
         "hovertemplate": "Canción=Mi AutomÃ³vil<br>Artista=%{x}<br>Mejor Posición=%{y}<extra></extra>",
         "legendgroup": "Mi AutomÃ³vil",
         "marker": {
          "color": "#FECB52",
          "pattern": {
           "shape": ""
          }
         },
         "name": "Mi AutomÃ³vil",
         "offsetgroup": "Mi AutomÃ³vil",
         "orientation": "v",
         "showlegend": true,
         "textposition": "auto",
         "type": "bar",
         "x": [
          "Fran C",
          "Jere Klein"
         ],
         "xaxis": "x",
         "y": [
          29,
          29
         ],
         "yaxis": "y"
        },
        {
         "alignmentgroup": "True",
         "hovertemplate": "Canción=HOLA PERDIDA<br>Artista=%{x}<br>Mejor Posición=%{y}<extra></extra>",
         "legendgroup": "HOLA PERDIDA",
         "marker": {
          "color": "#636efa",
          "pattern": {
           "shape": ""
          }
         },
         "name": "HOLA PERDIDA",
         "offsetgroup": "HOLA PERDIDA",
         "orientation": "v",
         "showlegend": true,
         "textposition": "auto",
         "type": "bar",
         "x": [
          "KHEA",
          "Luck Ra"
         ],
         "xaxis": "x",
         "y": [
          29,
          29
         ],
         "yaxis": "y"
        },
        {
         "alignmentgroup": "True",
         "hovertemplate": "Canción=Yo Te Quiero (feat. Chris Jonex)<br>Artista=%{x}<br>Mejor Posición=%{y}<extra></extra>",
         "legendgroup": "Yo Te Quiero (feat. Chris Jonex)",
         "marker": {
          "color": "#EF553B",
          "pattern": {
           "shape": ""
          }
         },
         "name": "Yo Te Quiero (feat. Chris Jonex)",
         "offsetgroup": "Yo Te Quiero (feat. Chris Jonex)",
         "orientation": "v",
         "showlegend": true,
         "textposition": "auto",
         "type": "bar",
         "x": [
          "Big Metra",
          "Bimbo el Oso MaÃ±oso",
          "Chris Jonex",
          "KIO \"El Historiador\""
         ],
         "xaxis": "x",
         "y": [
          30,
          30,
          30,
          30
         ],
         "yaxis": "y"
        },
        {
         "alignmentgroup": "True",
         "hovertemplate": "Canción=Primera Cita<br>Artista=%{x}<br>Mejor Posición=%{y}<extra></extra>",
         "legendgroup": "Primera Cita",
         "marker": {
          "color": "#00cc96",
          "pattern": {
           "shape": ""
          }
         },
         "name": "Primera Cita",
         "offsetgroup": "Primera Cita",
         "orientation": "v",
         "showlegend": true,
         "textposition": "auto",
         "type": "bar",
         "x": [
          "Carin Leon"
         ],
         "xaxis": "x",
         "y": [
          30
         ],
         "yaxis": "y"
        },
        {
         "alignmentgroup": "True",
         "hovertemplate": "Canción=DoblexxÃ³<br>Artista=%{x}<br>Mejor Posición=%{y}<extra></extra>",
         "legendgroup": "DoblexxÃ³",
         "marker": {
          "color": "#ab63fa",
          "pattern": {
           "shape": ""
          }
         },
         "name": "DoblexxÃ³",
         "offsetgroup": "DoblexxÃ³",
         "orientation": "v",
         "showlegend": true,
         "textposition": "auto",
         "type": "bar",
         "x": [
          "Feid",
          "J Balvin"
         ],
         "xaxis": "x",
         "y": [
          30,
          30
         ],
         "yaxis": "y"
        },
        {
         "alignmentgroup": "True",
         "hovertemplate": "Canción=Amigos Y Enemigos Almighty<br>Artista=%{x}<br>Mejor Posición=%{y}<extra></extra>",
         "legendgroup": "Amigos Y Enemigos Almighty",
         "marker": {
          "color": "#FFA15A",
          "pattern": {
           "shape": ""
          }
         },
         "name": "Amigos Y Enemigos Almighty",
         "offsetgroup": "Amigos Y Enemigos Almighty",
         "orientation": "v",
         "showlegend": true,
         "textposition": "auto",
         "type": "bar",
         "x": [
          "Membrillito"
         ],
         "xaxis": "x",
         "y": [
          30
         ],
         "yaxis": "y"
        },
        {
         "alignmentgroup": "True",
         "hovertemplate": "Canción=Toky<br>Artista=%{x}<br>Mejor Posición=%{y}<extra></extra>",
         "legendgroup": "Toky",
         "marker": {
          "color": "#19d3f3",
          "pattern": {
           "shape": ""
          }
         },
         "name": "Toky",
         "offsetgroup": "Toky",
         "orientation": "v",
         "showlegend": true,
         "textposition": "auto",
         "type": "bar",
         "x": [
          "Bruno Marcelo",
          "Hoppen",
          "Joel The B",
          "Rich Ibra",
          "Sossa",
          "Vyse"
         ],
         "xaxis": "x",
         "y": [
          31,
          31,
          31,
          31,
          31,
          31
         ],
         "yaxis": "y"
        },
        {
         "alignmentgroup": "True",
         "hovertemplate": "Canción=Una Vida Pasada<br>Artista=%{x}<br>Mejor Posición=%{y}<extra></extra>",
         "legendgroup": "Una Vida Pasada",
         "marker": {
          "color": "#FF6692",
          "pattern": {
           "shape": ""
          }
         },
         "name": "Una Vida Pasada",
         "offsetgroup": "Una Vida Pasada",
         "orientation": "v",
         "showlegend": true,
         "textposition": "auto",
         "type": "bar",
         "x": [
          "Camilo",
          "Carin Leon"
         ],
         "xaxis": "x",
         "y": [
          31,
          31
         ],
         "yaxis": "y"
        },
        {
         "alignmentgroup": "True",
         "hovertemplate": "Canción=Daytona<br>Artista=%{x}<br>Mejor Posición=%{y}<extra></extra>",
         "legendgroup": "Daytona",
         "marker": {
          "color": "#B6E880",
          "pattern": {
           "shape": ""
          }
         },
         "name": "Daytona",
         "offsetgroup": "Daytona",
         "orientation": "v",
         "showlegend": true,
         "textposition": "auto",
         "type": "bar",
         "x": [
          "Cris Mj"
         ],
         "xaxis": "x",
         "y": [
          31
         ],
         "yaxis": "y"
        },
        {
         "alignmentgroup": "True",
         "hovertemplate": "Canción=COLOCARTELO<br>Artista=%{x}<br>Mejor Posición=%{y}<extra></extra>",
         "legendgroup": "COLOCARTELO",
         "marker": {
          "color": "#FF97FF",
          "pattern": {
           "shape": ""
          }
         },
         "name": "COLOCARTELO",
         "offsetgroup": "COLOCARTELO",
         "orientation": "v",
         "showlegend": true,
         "textposition": "auto",
         "type": "bar",
         "x": [
          "elaggume",
          "Renzo ED"
         ],
         "xaxis": "x",
         "y": [
          31,
          31
         ],
         "yaxis": "y"
        },
        {
         "alignmentgroup": "True",
         "hovertemplate": "Canción=La Morocha<br>Artista=%{x}<br>Mejor Posición=%{y}<extra></extra>",
         "legendgroup": "La Morocha",
         "marker": {
          "color": "#FECB52",
          "pattern": {
           "shape": ""
          }
         },
         "name": "La Morocha",
         "offsetgroup": "La Morocha",
         "orientation": "v",
         "showlegend": true,
         "textposition": "auto",
         "type": "bar",
         "x": [
          "BM",
          "Luck Ra"
         ],
         "xaxis": "x",
         "y": [
          32,
          32
         ],
         "yaxis": "y"
        },
        {
         "alignmentgroup": "True",
         "hovertemplate": "Canción=Gracias A Dios<br>Artista=%{x}<br>Mejor Posición=%{y}<extra></extra>",
         "legendgroup": "Gracias A Dios",
         "marker": {
          "color": "#636efa",
          "pattern": {
           "shape": ""
          }
         },
         "name": "Gracias A Dios",
         "offsetgroup": "Gracias A Dios",
         "orientation": "v",
         "showlegend": true,
         "textposition": "auto",
         "type": "bar",
         "x": [
          "Fran C",
          "Galee Galee",
          "Kevin Martes 13"
         ],
         "xaxis": "x",
         "y": [
          32,
          32,
          32
         ],
         "yaxis": "y"
        },
        {
         "alignmentgroup": "True",
         "hovertemplate": "Canción=ADIÃ“S<br>Artista=%{x}<br>Mejor Posición=%{y}<extra></extra>",
         "legendgroup": "ADIÃ“S",
         "marker": {
          "color": "#EF553B",
          "pattern": {
           "shape": ""
          }
         },
         "name": "ADIÃ“S",
         "offsetgroup": "ADIÃ“S",
         "orientation": "v",
         "showlegend": true,
         "textposition": "auto",
         "type": "bar",
         "x": [
          "Maria Becerra"
         ],
         "xaxis": "x",
         "y": [
          32
         ],
         "yaxis": "y"
        },
        {
         "alignmentgroup": "True",
         "hovertemplate": "Canción=Ese Maldito Momento<br>Artista=%{x}<br>Mejor Posición=%{y}<extra></extra>",
         "legendgroup": "Ese Maldito Momento",
         "marker": {
          "color": "#00cc96",
          "pattern": {
           "shape": ""
          }
         },
         "name": "Ese Maldito Momento",
         "offsetgroup": "Ese Maldito Momento",
         "orientation": "v",
         "showlegend": true,
         "textposition": "auto",
         "type": "bar",
         "x": [
          "No Te Va Gustar"
         ],
         "xaxis": "x",
         "y": [
          32
         ],
         "yaxis": "y"
        },
        {
         "alignmentgroup": "True",
         "hovertemplate": "Canción=Apaga El Cel<br>Artista=%{x}<br>Mejor Posición=%{y}<extra></extra>",
         "legendgroup": "Apaga El Cel",
         "marker": {
          "color": "#ab63fa",
          "pattern": {
           "shape": ""
          }
         },
         "name": "Apaga El Cel",
         "offsetgroup": "Apaga El Cel",
         "orientation": "v",
         "showlegend": true,
         "textposition": "auto",
         "type": "bar",
         "x": [
          "Calle 24",
          "Chino Pacas"
         ],
         "xaxis": "x",
         "y": [
          33,
          33
         ],
         "yaxis": "y"
        },
        {
         "alignmentgroup": "True",
         "hovertemplate": "Canción=Gata Only<br>Artista=%{x}<br>Mejor Posición=%{y}<extra></extra>",
         "legendgroup": "Gata Only",
         "marker": {
          "color": "#FFA15A",
          "pattern": {
           "shape": ""
          }
         },
         "name": "Gata Only",
         "offsetgroup": "Gata Only",
         "orientation": "v",
         "showlegend": true,
         "textposition": "auto",
         "type": "bar",
         "x": [
          "Cris Mj",
          "FloyyMenor"
         ],
         "xaxis": "x",
         "y": [
          33,
          33
         ],
         "yaxis": "y"
        },
        {
         "alignmentgroup": "True",
         "hovertemplate": "Canción=No Ponga Excusas<br>Artista=%{x}<br>Mejor Posición=%{y}<extra></extra>",
         "legendgroup": "No Ponga Excusas",
         "marker": {
          "color": "#19d3f3",
          "pattern": {
           "shape": ""
          }
         },
         "name": "No Ponga Excusas",
         "offsetgroup": "No Ponga Excusas",
         "orientation": "v",
         "showlegend": true,
         "textposition": "auto",
         "type": "bar",
         "x": [
          "Cris Mj"
         ],
         "xaxis": "x",
         "y": [
          33
         ],
         "yaxis": "y"
        },
        {
         "alignmentgroup": "True",
         "hovertemplate": "Canción=La_Original.mp3<br>Artista=%{x}<br>Mejor Posición=%{y}<extra></extra>",
         "legendgroup": "La_Original.mp3",
         "marker": {
          "color": "#FF6692",
          "pattern": {
           "shape": ""
          }
         },
         "name": "La_Original.mp3",
         "offsetgroup": "La_Original.mp3",
         "orientation": "v",
         "showlegend": true,
         "textposition": "auto",
         "type": "bar",
         "x": [
          "Emilia",
          "TINI"
         ],
         "xaxis": "x",
         "y": [
          33,
          33
         ],
         "yaxis": "y"
        },
        {
         "alignmentgroup": "True",
         "hovertemplate": "Canción=Cero EmpatÃ­a<br>Artista=%{x}<br>Mejor Posición=%{y}<extra></extra>",
         "legendgroup": "Cero EmpatÃ­a",
         "marker": {
          "color": "#B6E880",
          "pattern": {
           "shape": ""
          }
         },
         "name": "Cero EmpatÃ­a",
         "offsetgroup": "Cero EmpatÃ­a",
         "orientation": "v",
         "showlegend": true,
         "textposition": "auto",
         "type": "bar",
         "x": [
          "JuliÃ³n Ãlvarez y su NorteÃ±o Banda"
         ],
         "xaxis": "x",
         "y": [
          33
         ],
         "yaxis": "y"
        },
        {
         "alignmentgroup": "True",
         "hovertemplate": "Canción=Robando<br>Artista=%{x}<br>Mejor Posición=%{y}<extra></extra>",
         "legendgroup": "Robando",
         "marker": {
          "color": "#FF97FF",
          "pattern": {
           "shape": ""
          }
         },
         "name": "Robando",
         "offsetgroup": "Robando",
         "orientation": "v",
         "showlegend": true,
         "textposition": "auto",
         "type": "bar",
         "x": [
          "DJ Lalo",
          "JÃ¸tta"
         ],
         "xaxis": "x",
         "y": [
          34,
          34
         ],
         "yaxis": "y"
        },
        {
         "alignmentgroup": "True",
         "hovertemplate": "Canción=MI EX TENÃA RAZÃ“N<br>Artista=%{x}<br>Mejor Posición=%{y}<extra></extra>",
         "legendgroup": "MI EX TENÃA RAZÃ“N",
         "marker": {
          "color": "#FECB52",
          "pattern": {
           "shape": ""
          }
         },
         "name": "MI EX TENÃA RAZÃ“N",
         "offsetgroup": "MI EX TENÃA RAZÃ“N",
         "orientation": "v",
         "showlegend": true,
         "textposition": "auto",
         "type": "bar",
         "x": [
          "KAROL G"
         ],
         "xaxis": "x",
         "y": [
          34
         ],
         "yaxis": "y"
        },
        {
         "alignmentgroup": "True",
         "hovertemplate": "Canción=Kyoto<br>Artista=%{x}<br>Mejor Posición=%{y}<extra></extra>",
         "legendgroup": "Kyoto",
         "marker": {
          "color": "#636efa",
          "pattern": {
           "shape": ""
          }
         },
         "name": "Kyoto",
         "offsetgroup": "Kyoto",
         "orientation": "v",
         "showlegend": true,
         "textposition": "auto",
         "type": "bar",
         "x": [
          "De La Rose",
          "Haze",
          "Omar Courtz"
         ],
         "xaxis": "x",
         "y": [
          35,
          35,
          35
         ],
         "yaxis": "y"
        },
        {
         "alignmentgroup": "True",
         "hovertemplate": "Canción=CLASSY 101<br>Artista=%{x}<br>Mejor Posición=%{y}<extra></extra>",
         "legendgroup": "CLASSY 101",
         "marker": {
          "color": "#EF553B",
          "pattern": {
           "shape": ""
          }
         },
         "name": "CLASSY 101",
         "offsetgroup": "CLASSY 101",
         "orientation": "v",
         "showlegend": true,
         "textposition": "auto",
         "type": "bar",
         "x": [
          "Feid",
          "Young Miko"
         ],
         "xaxis": "x",
         "y": [
          35,
          35
         ],
         "yaxis": "y"
        },
        {
         "alignmentgroup": "True",
         "hovertemplate": "Canción=Algo Que Se Quede<br>Artista=%{x}<br>Mejor Posición=%{y}<extra></extra>",
         "legendgroup": "Algo Que Se Quede",
         "marker": {
          "color": "#00cc96",
          "pattern": {
           "shape": ""
          }
         },
         "name": "Algo Que Se Quede",
         "offsetgroup": "Algo Que Se Quede",
         "orientation": "v",
         "showlegend": true,
         "textposition": "auto",
         "type": "bar",
         "x": [
          "Grupo Niche"
         ],
         "xaxis": "x",
         "y": [
          35
         ],
         "yaxis": "y"
        },
        {
         "alignmentgroup": "True",
         "hovertemplate": "Canción=Un Scar<br>Artista=%{x}<br>Mejor Posición=%{y}<extra></extra>",
         "legendgroup": "Un Scar",
         "marker": {
          "color": "#ab63fa",
          "pattern": {
           "shape": ""
          }
         },
         "name": "Un Scar",
         "offsetgroup": "Un Scar",
         "orientation": "v",
         "showlegend": true,
         "textposition": "auto",
         "type": "bar",
         "x": [
          "Luis R Conriquez",
          "Victor Mendivil"
         ],
         "xaxis": "x",
         "y": [
          35,
          35
         ],
         "yaxis": "y"
        },
        {
         "alignmentgroup": "True",
         "hovertemplate": "Canción=SEXXXMACHINE<br>Artista=%{x}<br>Mejor Posición=%{y}<extra></extra>",
         "legendgroup": "SEXXXMACHINE",
         "marker": {
          "color": "#FFA15A",
          "pattern": {
           "shape": ""
          }
         },
         "name": "SEXXXMACHINE",
         "offsetgroup": "SEXXXMACHINE",
         "orientation": "v",
         "showlegend": true,
         "textposition": "auto",
         "type": "bar",
         "x": [
          "Rauw Alejandro"
         ],
         "xaxis": "x",
         "y": [
          35
         ],
         "yaxis": "y"
        },
        {
         "alignmentgroup": "True",
         "hovertemplate": "Canción=Un MillÃ³n de Primaveras<br>Artista=%{x}<br>Mejor Posición=%{y}<extra></extra>",
         "legendgroup": "Un MillÃ³n de Primaveras",
         "marker": {
          "color": "#19d3f3",
          "pattern": {
           "shape": ""
          }
         },
         "name": "Un MillÃ³n de Primaveras",
         "offsetgroup": "Un MillÃ³n de Primaveras",
         "orientation": "v",
         "showlegend": true,
         "textposition": "auto",
         "type": "bar",
         "x": [
          "Vicente FernÃ¡ndez"
         ],
         "xaxis": "x",
         "y": [
          35
         ],
         "yaxis": "y"
        },
        {
         "alignmentgroup": "True",
         "hovertemplate": "Canción=YOGURCITO<br>Artista=%{x}<br>Mejor Posición=%{y}<extra></extra>",
         "legendgroup": "YOGURCITO",
         "marker": {
          "color": "#FF6692",
          "pattern": {
           "shape": ""
          }
         },
         "name": "YOGURCITO",
         "offsetgroup": "YOGURCITO",
         "orientation": "v",
         "showlegend": true,
         "textposition": "auto",
         "type": "bar",
         "x": [
          "Blessd"
         ],
         "xaxis": "x",
         "y": [
          36
         ],
         "yaxis": "y"
        },
        {
         "alignmentgroup": "True",
         "hovertemplate": "Canción=QUE VUELVAS<br>Artista=%{x}<br>Mejor Posición=%{y}<extra></extra>",
         "legendgroup": "QUE VUELVAS",
         "marker": {
          "color": "#B6E880",
          "pattern": {
           "shape": ""
          }
         },
         "name": "QUE VUELVAS",
         "offsetgroup": "QUE VUELVAS",
         "orientation": "v",
         "showlegend": true,
         "textposition": "auto",
         "type": "bar",
         "x": [
          "Carin Leon",
          "Grupo Frontera"
         ],
         "xaxis": "x",
         "y": [
          36,
          36
         ],
         "yaxis": "y"
        },
        {
         "alignmentgroup": "True",
         "hovertemplate": "Canción=NO COOPERAMOS<br>Artista=%{x}<br>Mejor Posición=%{y}<extra></extra>",
         "legendgroup": "NO COOPERAMOS",
         "marker": {
          "color": "#FF97FF",
          "pattern": {
           "shape": ""
          }
         },
         "name": "NO COOPERAMOS",
         "offsetgroup": "NO COOPERAMOS",
         "orientation": "v",
         "showlegend": true,
         "textposition": "auto",
         "type": "bar",
         "x": [
          "Cris Mj",
          "El Jordan 23",
          "Galee Galee",
          "Pailita"
         ],
         "xaxis": "x",
         "y": [
          36,
          36,
          36,
          36
         ],
         "yaxis": "y"
        },
        {
         "alignmentgroup": "True",
         "hovertemplate": "Canción=SE DICE DE MI<br>Artista=%{x}<br>Mejor Posición=%{y}<extra></extra>",
         "legendgroup": "SE DICE DE MI",
         "marker": {
          "color": "#FECB52",
          "pattern": {
           "shape": ""
          }
         },
         "name": "SE DICE DE MI",
         "offsetgroup": "SE DICE DE MI",
         "orientation": "v",
         "showlegend": true,
         "textposition": "auto",
         "type": "bar",
         "x": [
          "DobleP",
          "Pereiraremix",
          "Tuti DJ"
         ],
         "xaxis": "x",
         "y": [
          36,
          36,
          36
         ],
         "yaxis": "y"
        },
        {
         "alignmentgroup": "True",
         "hovertemplate": "Canción=La_Playlist.mpeg<br>Artista=%{x}<br>Mejor Posición=%{y}<extra></extra>",
         "legendgroup": "La_Playlist.mpeg",
         "marker": {
          "color": "#636efa",
          "pattern": {
           "shape": ""
          }
         },
         "name": "La_Playlist.mpeg",
         "offsetgroup": "La_Playlist.mpeg",
         "orientation": "v",
         "showlegend": true,
         "textposition": "auto",
         "type": "bar",
         "x": [
          "Emilia"
         ],
         "xaxis": "x",
         "y": [
          36
         ],
         "yaxis": "y"
        },
        {
         "alignmentgroup": "True",
         "hovertemplate": "Canción=Hecha Pa' MÃ­<br>Artista=%{x}<br>Mejor Posición=%{y}<extra></extra>",
         "legendgroup": "Hecha Pa' MÃ­",
         "marker": {
          "color": "#EF553B",
          "pattern": {
           "shape": ""
          }
         },
         "name": "Hecha Pa' MÃ­",
         "offsetgroup": "Hecha Pa' MÃ­",
         "orientation": "v",
         "showlegend": true,
         "textposition": "auto",
         "type": "bar",
         "x": [
          "Grupo Frontera"
         ],
         "xaxis": "x",
         "y": [
          36
         ],
         "yaxis": "y"
        },
        {
         "alignmentgroup": "True",
         "hovertemplate": "Canción=El Perdedor<br>Artista=%{x}<br>Mejor Posición=%{y}<extra></extra>",
         "legendgroup": "El Perdedor",
         "marker": {
          "color": "#00cc96",
          "pattern": {
           "shape": ""
          }
         },
         "name": "El Perdedor",
         "offsetgroup": "El Perdedor",
         "orientation": "v",
         "showlegend": true,
         "textposition": "auto",
         "type": "bar",
         "x": [
          "Aventura"
         ],
         "xaxis": "x",
         "y": [
          37
         ],
         "yaxis": "y"
        },
        {
         "alignmentgroup": "True",
         "hovertemplate": "Canción=LA FALDA<br>Artista=%{x}<br>Mejor Posición=%{y}<extra></extra>",
         "legendgroup": "LA FALDA",
         "marker": {
          "color": "#ab63fa",
          "pattern": {
           "shape": ""
          }
         },
         "name": "LA FALDA",
         "offsetgroup": "LA FALDA",
         "orientation": "v",
         "showlegend": true,
         "textposition": "auto",
         "type": "bar",
         "x": [
          "Myke Towers"
         ],
         "xaxis": "x",
         "y": [
          37
         ],
         "yaxis": "y"
        },
        {
         "alignmentgroup": "True",
         "hovertemplate": "Canción=Touching The Sky<br>Artista=%{x}<br>Mejor Posición=%{y}<extra></extra>",
         "legendgroup": "Touching The Sky",
         "marker": {
          "color": "#FFA15A",
          "pattern": {
           "shape": ""
          }
         },
         "name": "Touching The Sky",
         "offsetgroup": "Touching The Sky",
         "orientation": "v",
         "showlegend": true,
         "textposition": "auto",
         "type": "bar",
         "x": [
          "Rauw Alejandro"
         ],
         "xaxis": "x",
         "y": [
          37
         ],
         "yaxis": "y"
        },
        {
         "alignmentgroup": "True",
         "hovertemplate": "Canción=Vaquero - Remix<br>Artista=%{x}<br>Mejor Posición=%{y}<extra></extra>",
         "legendgroup": "Vaquero - Remix",
         "marker": {
          "color": "#19d3f3",
          "pattern": {
           "shape": ""
          }
         },
         "name": "Vaquero - Remix",
         "offsetgroup": "Vaquero - Remix",
         "orientation": "v",
         "showlegend": true,
         "textposition": "auto",
         "type": "bar",
         "x": [
          "Andres Castillo",
          "Bellakath",
          "El Bogueto",
          "El Malilla",
          "La Dinastia",
          "Riky Produce"
         ],
         "xaxis": "x",
         "y": [
          38,
          38,
          38,
          38,
          38,
          38
         ],
         "yaxis": "y"
        },
        {
         "alignmentgroup": "True",
         "hovertemplate": "Canción=LA CANCIÃ“N<br>Artista=%{x}<br>Mejor Posición=%{y}<extra></extra>",
         "legendgroup": "LA CANCIÃ“N",
         "marker": {
          "color": "#FF6692",
          "pattern": {
           "shape": ""
          }
         },
         "name": "LA CANCIÃ“N",
         "offsetgroup": "LA CANCIÃ“N",
         "orientation": "v",
         "showlegend": true,
         "textposition": "auto",
         "type": "bar",
         "x": [
          "Bad Bunny",
          "J Balvin"
         ],
         "xaxis": "x",
         "y": [
          38,
          38
         ],
         "yaxis": "y"
        },
        {
         "alignmentgroup": "True",
         "hovertemplate": "Canción=Belleza De Cantina<br>Artista=%{x}<br>Mejor Posición=%{y}<extra></extra>",
         "legendgroup": "Belleza De Cantina",
         "marker": {
          "color": "#B6E880",
          "pattern": {
           "shape": ""
          }
         },
         "name": "Belleza De Cantina",
         "offsetgroup": "Belleza De Cantina",
         "orientation": "v",
         "showlegend": true,
         "textposition": "auto",
         "type": "bar",
         "x": [
          "Cardenales De Nuevo LeÃ³n"
         ],
         "xaxis": "x",
         "y": [
          38
         ],
         "yaxis": "y"
        },
        {
         "alignmentgroup": "True",
         "hovertemplate": "Canción=Te Vas a Arrepentir<br>Artista=%{x}<br>Mejor Posición=%{y}<extra></extra>",
         "legendgroup": "Te Vas a Arrepentir",
         "marker": {
          "color": "#FF97FF",
          "pattern": {
           "shape": ""
          }
         },
         "name": "Te Vas a Arrepentir",
         "offsetgroup": "Te Vas a Arrepentir",
         "orientation": "v",
         "showlegend": true,
         "textposition": "auto",
         "type": "bar",
         "x": [
          "El Mago Y La Nueva",
          "Pinky SD",
          "Un Poco de Ruido"
         ],
         "xaxis": "x",
         "y": [
          38,
          38,
          38
         ],
         "yaxis": "y"
        },
        {
         "alignmentgroup": "True",
         "hovertemplate": "Canción=Running Wild<br>Artista=%{x}<br>Mejor Posición=%{y}<extra></extra>",
         "legendgroup": "Running Wild",
         "marker": {
          "color": "#FECB52",
          "pattern": {
           "shape": ""
          }
         },
         "name": "Running Wild",
         "offsetgroup": "Running Wild",
         "orientation": "v",
         "showlegend": true,
         "textposition": "auto",
         "type": "bar",
         "x": [
          "Jin"
         ],
         "xaxis": "x",
         "y": [
          38
         ],
         "yaxis": "y"
        },
        {
         "alignmentgroup": "True",
         "hovertemplate": "Canción=QLONA<br>Artista=%{x}<br>Mejor Posición=%{y}<extra></extra>",
         "legendgroup": "QLONA",
         "marker": {
          "color": "#636efa",
          "pattern": {
           "shape": ""
          }
         },
         "name": "QLONA",
         "offsetgroup": "QLONA",
         "orientation": "v",
         "showlegend": true,
         "textposition": "auto",
         "type": "bar",
         "x": [
          "KAROL G",
          "Peso Pluma"
         ],
         "xaxis": "x",
         "y": [
          38,
          38
         ],
         "yaxis": "y"
        },
        {
         "alignmentgroup": "True",
         "hovertemplate": "Canción=Lo Que Hay X AquÃ­<br>Artista=%{x}<br>Mejor Posición=%{y}<extra></extra>",
         "legendgroup": "Lo Que Hay X AquÃ­",
         "marker": {
          "color": "#EF553B",
          "pattern": {
           "shape": ""
          }
         },
         "name": "Lo Que Hay X AquÃ­",
         "offsetgroup": "Lo Que Hay X AquÃ­",
         "orientation": "v",
         "showlegend": true,
         "textposition": "auto",
         "type": "bar",
         "x": [
          "La Receta"
         ],
         "xaxis": "x",
         "y": [
          38
         ],
         "yaxis": "y"
        },
        {
         "alignmentgroup": "True",
         "hovertemplate": "Canción=El Precio De La Soledad<br>Artista=%{x}<br>Mejor Posición=%{y}<extra></extra>",
         "legendgroup": "El Precio De La Soledad",
         "marker": {
          "color": "#00cc96",
          "pattern": {
           "shape": ""
          }
         },
         "name": "El Precio De La Soledad",
         "offsetgroup": "El Precio De La Soledad",
         "orientation": "v",
         "showlegend": true,
         "textposition": "auto",
         "type": "bar",
         "x": [
          "Alfredo Olivas"
         ],
         "xaxis": "x",
         "y": [
          39
         ],
         "yaxis": "y"
        },
        {
         "alignmentgroup": "True",
         "hovertemplate": "Canción=Cine ðŸš¬<br>Artista=%{x}<br>Mejor Posición=%{y}<extra></extra>",
         "legendgroup": "Cine ðŸš¬",
         "marker": {
          "color": "#ab63fa",
          "pattern": {
           "shape": ""
          }
         },
         "name": "Cine ðŸš¬",
         "offsetgroup": "Cine ðŸš¬",
         "orientation": "v",
         "showlegend": true,
         "textposition": "auto",
         "type": "bar",
         "x": [
          "Duki"
         ],
         "xaxis": "x",
         "y": [
          39
         ],
         "yaxis": "y"
        },
        {
         "alignmentgroup": "True",
         "hovertemplate": "Canción=Volver Al Futuro<br>Artista=%{x}<br>Mejor Posición=%{y}<extra></extra>",
         "legendgroup": "Volver Al Futuro",
         "marker": {
          "color": "#FFA15A",
          "pattern": {
           "shape": ""
          }
         },
         "name": "Volver Al Futuro",
         "offsetgroup": "Volver Al Futuro",
         "orientation": "v",
         "showlegend": true,
         "textposition": "auto",
         "type": "bar",
         "x": [
          "Junior H",
          "Oscar Maydon"
         ],
         "xaxis": "x",
         "y": [
          39,
          39
         ],
         "yaxis": "y"
        },
        {
         "alignmentgroup": "True",
         "hovertemplate": "Canción=CORAZÃ“N VACÃO<br>Artista=%{x}<br>Mejor Posición=%{y}<extra></extra>",
         "legendgroup": "CORAZÃ“N VACÃO",
         "marker": {
          "color": "#19d3f3",
          "pattern": {
           "shape": ""
          }
         },
         "name": "CORAZÃ“N VACÃO",
         "offsetgroup": "CORAZÃ“N VACÃO",
         "orientation": "v",
         "showlegend": true,
         "textposition": "auto",
         "type": "bar",
         "x": [
          "Maria Becerra"
         ],
         "xaxis": "x",
         "y": [
          39
         ],
         "yaxis": "y"
        },
        {
         "alignmentgroup": "True",
         "hovertemplate": "Canción=Por Mil Noches<br>Artista=%{x}<br>Mejor Posición=%{y}<extra></extra>",
         "legendgroup": "Por Mil Noches",
         "marker": {
          "color": "#FF6692",
          "pattern": {
           "shape": ""
          }
         },
         "name": "Por Mil Noches",
         "offsetgroup": "Por Mil Noches",
         "orientation": "v",
         "showlegend": true,
         "textposition": "auto",
         "type": "bar",
         "x": [
          "Airbag"
         ],
         "xaxis": "x",
         "y": [
          40
         ],
         "yaxis": "y"
        },
        {
         "alignmentgroup": "True",
         "hovertemplate": "Canción=TU SI<br>Artista=%{x}<br>Mejor Posición=%{y}<extra></extra>",
         "legendgroup": "TU SI",
         "marker": {
          "color": "#B6E880",
          "pattern": {
           "shape": ""
          }
         },
         "name": "TU SI",
         "offsetgroup": "TU SI",
         "orientation": "v",
         "showlegend": true,
         "textposition": "auto",
         "type": "bar",
         "x": [
          "Armenta",
          "Tito Double P"
         ],
         "xaxis": "x",
         "y": [
          40,
          40
         ],
         "yaxis": "y"
        },
        {
         "alignmentgroup": "True",
         "hovertemplate": "Canción=Ameri<br>Artista=%{x}<br>Mejor Posición=%{y}<extra></extra>",
         "legendgroup": "Ameri",
         "marker": {
          "color": "#FF97FF",
          "pattern": {
           "shape": ""
          }
         },
         "name": "Ameri",
         "offsetgroup": "Ameri",
         "orientation": "v",
         "showlegend": true,
         "textposition": "auto",
         "type": "bar",
         "x": [
          "Duki"
         ],
         "xaxis": "x",
         "y": [
          40
         ],
         "yaxis": "y"
        },
        {
         "alignmentgroup": "True",
         "hovertemplate": "Canción=TÃš NAME<br>Artista=%{x}<br>Mejor Posición=%{y}<extra></extra>",
         "legendgroup": "TÃš NAME",
         "marker": {
          "color": "#FECB52",
          "pattern": {
           "shape": ""
          }
         },
         "name": "TÃš NAME",
         "offsetgroup": "TÃš NAME",
         "orientation": "v",
         "showlegend": true,
         "textposition": "auto",
         "type": "bar",
         "x": [
          "Fuerza Regida"
         ],
         "xaxis": "x",
         "y": [
          40
         ],
         "yaxis": "y"
        },
        {
         "alignmentgroup": "True",
         "hovertemplate": "Canción=Es Un Secreto<br>Artista=%{x}<br>Mejor Posición=%{y}<extra></extra>",
         "legendgroup": "Es Un Secreto",
         "marker": {
          "color": "#636efa",
          "pattern": {
           "shape": ""
          }
         },
         "name": "Es Un Secreto",
         "offsetgroup": "Es Un Secreto",
         "orientation": "v",
         "showlegend": true,
         "textposition": "auto",
         "type": "bar",
         "x": [
          "Plan B"
         ],
         "xaxis": "x",
         "y": [
          40
         ],
         "yaxis": "y"
        },
        {
         "alignmentgroup": "True",
         "hovertemplate": "Canción=Como Eran Las Cosas<br>Artista=%{x}<br>Mejor Posición=%{y}<extra></extra>",
         "legendgroup": "Como Eran Las Cosas",
         "marker": {
          "color": "#EF553B",
          "pattern": {
           "shape": ""
          }
         },
         "name": "Como Eran Las Cosas",
         "offsetgroup": "Como Eran Las Cosas",
         "orientation": "v",
         "showlegend": true,
         "textposition": "auto",
         "type": "bar",
         "x": [
          "Babasonicos"
         ],
         "xaxis": "x",
         "y": [
          41
         ],
         "yaxis": "y"
        },
        {
         "alignmentgroup": "True",
         "hovertemplate": "Canción=Un Finde | CROSSOVER #2<br>Artista=%{x}<br>Mejor Posición=%{y}<extra></extra>",
         "legendgroup": "Un Finde | CROSSOVER #2",
         "marker": {
          "color": "#00cc96",
          "pattern": {
           "shape": ""
          }
         },
         "name": "Un Finde | CROSSOVER #2",
         "offsetgroup": "Un Finde | CROSSOVER #2",
         "orientation": "v",
         "showlegend": true,
         "textposition": "auto",
         "type": "bar",
         "x": [
          "Big One",
          "FMK",
          "Ke Personajes"
         ],
         "xaxis": "x",
         "y": [
          41,
          41,
          41
         ],
         "yaxis": "y"
        },
        {
         "alignmentgroup": "True",
         "hovertemplate": "Canción=LlorarÃ¡s<br>Artista=%{x}<br>Mejor Posición=%{y}<extra></extra>",
         "legendgroup": "LlorarÃ¡s",
         "marker": {
          "color": "#ab63fa",
          "pattern": {
           "shape": ""
          }
         },
         "name": "LlorarÃ¡s",
         "offsetgroup": "LlorarÃ¡s",
         "orientation": "v",
         "showlegend": true,
         "textposition": "auto",
         "type": "bar",
         "x": [
          "Dimension Latina"
         ],
         "xaxis": "x",
         "y": [
          41
         ],
         "yaxis": "y"
        },
        {
         "alignmentgroup": "True",
         "hovertemplate": "Canción=La Piel Bien Caliente<br>Artista=%{x}<br>Mejor Posición=%{y}<extra></extra>",
         "legendgroup": "La Piel Bien Caliente",
         "marker": {
          "color": "#FFA15A",
          "pattern": {
           "shape": ""
          }
         },
         "name": "La Piel Bien Caliente",
         "offsetgroup": "La Piel Bien Caliente",
         "orientation": "v",
         "showlegend": true,
         "textposition": "auto",
         "type": "bar",
         "x": [
          "Pinky SD",
          "Un Poco de Ruido",
          "Uriel Lozano"
         ],
         "xaxis": "x",
         "y": [
          41,
          41,
          41
         ],
         "yaxis": "y"
        },
        {
         "alignmentgroup": "True",
         "hovertemplate": "Canción=Me Voy<br>Artista=%{x}<br>Mejor Posición=%{y}<extra></extra>",
         "legendgroup": "Me Voy",
         "marker": {
          "color": "#19d3f3",
          "pattern": {
           "shape": ""
          }
         },
         "name": "Me Voy",
         "offsetgroup": "Me Voy",
         "orientation": "v",
         "showlegend": true,
         "textposition": "auto",
         "type": "bar",
         "x": [
          "Salastkbron",
          "Valentino Merlo"
         ],
         "xaxis": "x",
         "y": [
          41,
          41
         ],
         "yaxis": "y"
        },
        {
         "alignmentgroup": "True",
         "hovertemplate": "Canción=Amanece<br>Artista=%{x}<br>Mejor Posición=%{y}<extra></extra>",
         "legendgroup": "Amanece",
         "marker": {
          "color": "#FF6692",
          "pattern": {
           "shape": ""
          }
         },
         "name": "Amanece",
         "offsetgroup": "Amanece",
         "orientation": "v",
         "showlegend": true,
         "textposition": "auto",
         "type": "bar",
         "x": [
          "Anuel AA",
          "Haze"
         ],
         "xaxis": "x",
         "y": [
          42,
          42
         ],
         "yaxis": "y"
        },
        {
         "alignmentgroup": "True",
         "hovertemplate": "Canción=Me Prefieres A Mi<br>Artista=%{x}<br>Mejor Posición=%{y}<extra></extra>",
         "legendgroup": "Me Prefieres A Mi",
         "marker": {
          "color": "#B6E880",
          "pattern": {
           "shape": ""
          }
         },
         "name": "Me Prefieres A Mi",
         "offsetgroup": "Me Prefieres A Mi",
         "orientation": "v",
         "showlegend": true,
         "textposition": "auto",
         "type": "bar",
         "x": [
          "ArcÃ¡ngel"
         ],
         "xaxis": "x",
         "y": [
          42
         ],
         "yaxis": "y"
        },
        {
         "alignmentgroup": "True",
         "hovertemplate": "Canción=Tuss<br>Artista=%{x}<br>Mejor Posición=%{y}<extra></extra>",
         "legendgroup": "Tuss",
         "marker": {
          "color": "#FF97FF",
          "pattern": {
           "shape": ""
          }
         },
         "name": "Tuss",
         "offsetgroup": "Tuss",
         "orientation": "v",
         "showlegend": true,
         "textposition": "auto",
         "type": "bar",
         "x": [
          "Bryant Myers",
          "Cris Mj"
         ],
         "xaxis": "x",
         "y": [
          42,
          42
         ],
         "yaxis": "y"
        },
        {
         "alignmentgroup": "True",
         "hovertemplate": "Canción=LA INOCENTE<br>Artista=%{x}<br>Mejor Posición=%{y}<extra></extra>",
         "legendgroup": "LA INOCENTE",
         "marker": {
          "color": "#FECB52",
          "pattern": {
           "shape": ""
          }
         },
         "name": "LA INOCENTE",
         "offsetgroup": "LA INOCENTE",
         "orientation": "v",
         "showlegend": true,
         "textposition": "auto",
         "type": "bar",
         "x": [
          "Feid",
          "Mora"
         ],
         "xaxis": "x",
         "y": [
          42,
          42
         ],
         "yaxis": "y"
        },
        {
         "alignmentgroup": "True",
         "hovertemplate": "Canción=Que Te Vaya Bien<br>Artista=%{x}<br>Mejor Posición=%{y}<extra></extra>",
         "legendgroup": "Que Te Vaya Bien",
         "marker": {
          "color": "#636efa",
          "pattern": {
           "shape": ""
          }
         },
         "name": "Que Te Vaya Bien",
         "offsetgroup": "Que Te Vaya Bien",
         "orientation": "v",
         "showlegend": true,
         "textposition": "auto",
         "type": "bar",
         "x": [
          "Grupo ZÃºmbale Primo",
          "Santaferia"
         ],
         "xaxis": "x",
         "y": [
          42,
          42
         ],
         "yaxis": "y"
        },
        {
         "alignmentgroup": "True",
         "hovertemplate": "Canción=TRES BOTELLAS<br>Artista=%{x}<br>Mejor Posición=%{y}<extra></extra>",
         "legendgroup": "TRES BOTELLAS",
         "marker": {
          "color": "#EF553B",
          "pattern": {
           "shape": ""
          }
         },
         "name": "TRES BOTELLAS",
         "offsetgroup": "TRES BOTELLAS",
         "orientation": "v",
         "showlegend": true,
         "textposition": "auto",
         "type": "bar",
         "x": [
          "Junior H"
         ],
         "xaxis": "x",
         "y": [
          42
         ],
         "yaxis": "y"
        },
        {
         "alignmentgroup": "True",
         "hovertemplate": "Canción=El Final De Nuestra Historia<br>Artista=%{x}<br>Mejor Posición=%{y}<extra></extra>",
         "legendgroup": "El Final De Nuestra Historia",
         "marker": {
          "color": "#00cc96",
          "pattern": {
           "shape": ""
          }
         },
         "name": "El Final De Nuestra Historia",
         "offsetgroup": "El Final De Nuestra Historia",
         "orientation": "v",
         "showlegend": true,
         "textposition": "auto",
         "type": "bar",
         "x": [
          "La Arrolladora Banda El LimÃ³n De Rene Camacho"
         ],
         "xaxis": "x",
         "y": [
          42
         ],
         "yaxis": "y"
        },
        {
         "alignmentgroup": "True",
         "hovertemplate": "Canción=All I Want for Christmas Is You<br>Artista=%{x}<br>Mejor Posición=%{y}<extra></extra>",
         "legendgroup": "All I Want for Christmas Is You",
         "marker": {
          "color": "#ab63fa",
          "pattern": {
           "shape": ""
          }
         },
         "name": "All I Want for Christmas Is You",
         "offsetgroup": "All I Want for Christmas Is You",
         "orientation": "v",
         "showlegend": true,
         "textposition": "auto",
         "type": "bar",
         "x": [
          "Mariah Carey"
         ],
         "xaxis": "x",
         "y": [
          42
         ],
         "yaxis": "y"
        },
        {
         "alignmentgroup": "True",
         "hovertemplate": "Canción=Boomerang<br>Artista=%{x}<br>Mejor Posición=%{y}<extra></extra>",
         "legendgroup": "Boomerang",
         "marker": {
          "color": "#FFA15A",
          "pattern": {
           "shape": ""
          }
         },
         "name": "Boomerang",
         "offsetgroup": "Boomerang",
         "orientation": "v",
         "showlegend": true,
         "textposition": "auto",
         "type": "bar",
         "x": [
          "Pierre La Voz"
         ],
         "xaxis": "x",
         "y": [
          42
         ],
         "yaxis": "y"
        },
        {
         "alignmentgroup": "True",
         "hovertemplate": "Canción=CASI ALGO<br>Artista=%{x}<br>Mejor Posición=%{y}<extra></extra>",
         "legendgroup": "CASI ALGO",
         "marker": {
          "color": "#19d3f3",
          "pattern": {
           "shape": ""
          }
         },
         "name": "CASI ALGO",
         "offsetgroup": "CASI ALGO",
         "orientation": "v",
         "showlegend": true,
         "textposition": "auto",
         "type": "bar",
         "x": [
          "Blessd",
          "Ovy On The Drums"
         ],
         "xaxis": "x",
         "y": [
          43,
          43
         ],
         "yaxis": "y"
        },
        {
         "alignmentgroup": "True",
         "hovertemplate": "Canción=BELANOVA<br>Artista=%{x}<br>Mejor Posición=%{y}<extra></extra>",
         "legendgroup": "BELANOVA",
         "marker": {
          "color": "#FF6692",
          "pattern": {
           "shape": ""
          }
         },
         "name": "BELANOVA",
         "offsetgroup": "BELANOVA",
         "orientation": "v",
         "showlegend": true,
         "textposition": "auto",
         "type": "bar",
         "x": [
          "Peso Pluma",
          "Tito Double P"
         ],
         "xaxis": "x",
         "y": [
          43,
          43
         ],
         "yaxis": "y"
        },
        {
         "alignmentgroup": "True",
         "hovertemplate": "Canción=BIRDS OF A FEATHER<br>Artista=%{x}<br>Mejor Posición=%{y}<extra></extra>",
         "legendgroup": "BIRDS OF A FEATHER",
         "marker": {
          "color": "#B6E880",
          "pattern": {
           "shape": ""
          }
         },
         "name": "BIRDS OF A FEATHER",
         "offsetgroup": "BIRDS OF A FEATHER",
         "orientation": "v",
         "showlegend": true,
         "textposition": "auto",
         "type": "bar",
         "x": [
          "Billie Eilish"
         ],
         "xaxis": "x",
         "y": [
          44
         ],
         "yaxis": "y"
        },
        {
         "alignmentgroup": "True",
         "hovertemplate": "Canción=Ya No Vuelvas (VersiÃ³n Cuarteto)<br>Artista=%{x}<br>Mejor Posición=%{y}<extra></extra>",
         "legendgroup": "Ya No Vuelvas (VersiÃ³n Cuarteto)",
         "marker": {
          "color": "#FF97FF",
          "pattern": {
           "shape": ""
          }
         },
         "name": "Ya No Vuelvas (VersiÃ³n Cuarteto)",
         "offsetgroup": "Ya No Vuelvas (VersiÃ³n Cuarteto)",
         "orientation": "v",
         "showlegend": true,
         "textposition": "auto",
         "type": "bar",
         "x": [
          "Ke Personajes",
          "La K'onga",
          "Luck Ra"
         ],
         "xaxis": "x",
         "y": [
          44,
          44,
          44
         ],
         "yaxis": "y"
        },
        {
         "alignmentgroup": "True",
         "hovertemplate": "Canción=Un MontÃ³n de Estrellas - En Vivo Gran Rex<br>Artista=%{x}<br>Mejor Posición=%{y}<extra></extra>",
         "legendgroup": "Un MontÃ³n de Estrellas - En Vivo Gran Rex",
         "marker": {
          "color": "#FECB52",
          "pattern": {
           "shape": ""
          }
         },
         "name": "Un MontÃ³n de Estrellas - En Vivo Gran Rex",
         "offsetgroup": "Un MontÃ³n de Estrellas - En Vivo Gran Rex",
         "orientation": "v",
         "showlegend": true,
         "textposition": "auto",
         "type": "bar",
         "x": [
          "La T y La M"
         ],
         "xaxis": "x",
         "y": [
          44
         ],
         "yaxis": "y"
        },
        {
         "alignmentgroup": "True",
         "hovertemplate": "Canción=POR EL CONTRARIO (with Angela Aguilar & Leonardo Aguilar)<br>Artista=%{x}<br>Mejor Posición=%{y}<extra></extra>",
         "legendgroup": "POR EL CONTRARIO (with Angela Aguilar & Leonardo Aguilar)",
         "marker": {
          "color": "#636efa",
          "pattern": {
           "shape": ""
          }
         },
         "name": "POR EL CONTRARIO (with Angela Aguilar & Leonardo Aguilar)",
         "offsetgroup": "POR EL CONTRARIO (with Angela Aguilar & Leonardo Aguilar)",
         "orientation": "v",
         "showlegend": true,
         "textposition": "auto",
         "type": "bar",
         "x": [
          "Ãngela Aguilar",
          "Becky G",
          "Leonardo Aguilar"
         ],
         "xaxis": "x",
         "y": [
          45,
          45,
          45
         ],
         "yaxis": "y"
        },
        {
         "alignmentgroup": "True",
         "hovertemplate": "Canción=Ferxxo 100<br>Artista=%{x}<br>Mejor Posición=%{y}<extra></extra>",
         "legendgroup": "Ferxxo 100",
         "marker": {
          "color": "#EF553B",
          "pattern": {
           "shape": ""
          }
         },
         "name": "Ferxxo 100",
         "offsetgroup": "Ferxxo 100",
         "orientation": "v",
         "showlegend": true,
         "textposition": "auto",
         "type": "bar",
         "x": [
          "Feid"
         ],
         "xaxis": "x",
         "y": [
          45
         ],
         "yaxis": "y"
        },
        {
         "alignmentgroup": "True",
         "hovertemplate": "Canción=Vibra Perfecta<br>Artista=%{x}<br>Mejor Posición=%{y}<extra></extra>",
         "legendgroup": "Vibra Perfecta",
         "marker": {
          "color": "#00cc96",
          "pattern": {
           "shape": ""
          }
         },
         "name": "Vibra Perfecta",
         "offsetgroup": "Vibra Perfecta",
         "orientation": "v",
         "showlegend": true,
         "textposition": "auto",
         "type": "bar",
         "x": [
          "JuliÃ³n Ãlvarez y su NorteÃ±o Banda"
         ],
         "xaxis": "x",
         "y": [
          45
         ],
         "yaxis": "y"
        },
        {
         "alignmentgroup": "True",
         "hovertemplate": "Canción=BEIA (Jere Klein)<br>Artista=%{x}<br>Mejor Posición=%{y}<extra></extra>",
         "legendgroup": "BEIA (Jere Klein)",
         "marker": {
          "color": "#ab63fa",
          "pattern": {
           "shape": ""
          }
         },
         "name": "BEIA (Jere Klein)",
         "offsetgroup": "BEIA (Jere Klein)",
         "orientation": "v",
         "showlegend": true,
         "textposition": "auto",
         "type": "bar",
         "x": [
          "Axl Boore",
          "Prod Millones"
         ],
         "xaxis": "x",
         "y": [
          46,
          46
         ],
         "yaxis": "y"
        },
        {
         "alignmentgroup": "True",
         "hovertemplate": "Canción=un x100to<br>Artista=%{x}<br>Mejor Posición=%{y}<extra></extra>",
         "legendgroup": "un x100to",
         "marker": {
          "color": "#FFA15A",
          "pattern": {
           "shape": ""
          }
         },
         "name": "un x100to",
         "offsetgroup": "un x100to",
         "orientation": "v",
         "showlegend": true,
         "textposition": "auto",
         "type": "bar",
         "x": [
          "Bad Bunny",
          "Grupo Frontera"
         ],
         "xaxis": "x",
         "y": [
          46,
          46
         ],
         "yaxis": "y"
        },
        {
         "alignmentgroup": "True",
         "hovertemplate": "Canción=QUE LE DE<br>Artista=%{x}<br>Mejor Posición=%{y}<extra></extra>",
         "legendgroup": "QUE LE DE",
         "marker": {
          "color": "#19d3f3",
          "pattern": {
           "shape": ""
          }
         },
         "name": "QUE LE DE",
         "offsetgroup": "QUE LE DE",
         "orientation": "v",
         "showlegend": true,
         "textposition": "auto",
         "type": "bar",
         "x": [
          "Cris Mj",
          "Nes"
         ],
         "xaxis": "x",
         "y": [
          46,
          46
         ],
         "yaxis": "y"
        },
        {
         "alignmentgroup": "True",
         "hovertemplate": "Canción=ALAKRAN<br>Artista=%{x}<br>Mejor Posición=%{y}<extra></extra>",
         "legendgroup": "ALAKRAN",
         "marker": {
          "color": "#FF6692",
          "pattern": {
           "shape": ""
          }
         },
         "name": "ALAKRAN",
         "offsetgroup": "ALAKRAN",
         "orientation": "v",
         "showlegend": true,
         "textposition": "auto",
         "type": "bar",
         "x": [
          "Feid"
         ],
         "xaxis": "x",
         "y": [
          46
         ],
         "yaxis": "y"
        },
        {
         "alignmentgroup": "True",
         "hovertemplate": "Canción=Pa' Que Retozen<br>Artista=%{x}<br>Mejor Posición=%{y}<extra></extra>",
         "legendgroup": "Pa' Que Retozen",
         "marker": {
          "color": "#B6E880",
          "pattern": {
           "shape": ""
          }
         },
         "name": "Pa' Que Retozen",
         "offsetgroup": "Pa' Que Retozen",
         "orientation": "v",
         "showlegend": true,
         "textposition": "auto",
         "type": "bar",
         "x": [
          "Tego CalderÃ³n"
         ],
         "xaxis": "x",
         "y": [
          46
         ],
         "yaxis": "y"
        },
        {
         "alignmentgroup": "True",
         "hovertemplate": "Canción=PONTE PERRO | DJ TAO Turreo Sessions #24<br>Artista=%{x}<br>Mejor Posición=%{y}<extra></extra>",
         "legendgroup": "PONTE PERRO | DJ TAO Turreo Sessions #24",
         "marker": {
          "color": "#FF97FF",
          "pattern": {
           "shape": ""
          }
         },
         "name": "PONTE PERRO | DJ TAO Turreo Sessions #24",
         "offsetgroup": "PONTE PERRO | DJ TAO Turreo Sessions #24",
         "orientation": "v",
         "showlegend": true,
         "textposition": "auto",
         "type": "bar",
         "x": [
          "DJ Tao",
          "Ponte Perro"
         ],
         "xaxis": "x",
         "y": [
          47,
          47
         ],
         "yaxis": "y"
        },
        {
         "alignmentgroup": "True",
         "hovertemplate": "Canción=Nena Moxita<br>Artista=%{x}<br>Mejor Posición=%{y}<extra></extra>",
         "legendgroup": "Nena Moxita",
         "marker": {
          "color": "#FECB52",
          "pattern": {
           "shape": ""
          }
         },
         "name": "Nena Moxita",
         "offsetgroup": "Nena Moxita",
         "orientation": "v",
         "showlegend": true,
         "textposition": "auto",
         "type": "bar",
         "x": [
          "El Bogueto",
          "Uzielito Mix",
          "Yeri Mua"
         ],
         "xaxis": "x",
         "y": [
          47,
          47,
          47
         ],
         "yaxis": "y"
        },
        {
         "alignmentgroup": "True",
         "hovertemplate": "Canción=La Jama<br>Artista=%{x}<br>Mejor Posición=%{y}<extra></extra>",
         "legendgroup": "La Jama",
         "marker": {
          "color": "#636efa",
          "pattern": {
           "shape": ""
          }
         },
         "name": "La Jama",
         "offsetgroup": "La Jama",
         "orientation": "v",
         "showlegend": true,
         "textposition": "auto",
         "type": "bar",
         "x": [
          "JÃ¸tta",
          "Jombriel",
          "Waldokinc El Troyano"
         ],
         "xaxis": "x",
         "y": [
          47,
          47,
          47
         ],
         "yaxis": "y"
        },
        {
         "alignmentgroup": "True",
         "hovertemplate": "Canción=Lo Tienes Todo<br>Artista=%{x}<br>Mejor Posición=%{y}<extra></extra>",
         "legendgroup": "Lo Tienes Todo",
         "marker": {
          "color": "#EF553B",
          "pattern": {
           "shape": ""
          }
         },
         "name": "Lo Tienes Todo",
         "offsetgroup": "Lo Tienes Todo",
         "orientation": "v",
         "showlegend": true,
         "textposition": "auto",
         "type": "bar",
         "x": [
          "JuliÃ³n Ãlvarez y su NorteÃ±o Banda"
         ],
         "xaxis": "x",
         "y": [
          47
         ],
         "yaxis": "y"
        },
        {
         "alignmentgroup": "True",
         "hovertemplate": "Canción=Chismofilia<br>Artista=%{x}<br>Mejor Posición=%{y}<extra></extra>",
         "legendgroup": "Chismofilia",
         "marker": {
          "color": "#00cc96",
          "pattern": {
           "shape": ""
          }
         },
         "name": "Chismofilia",
         "offsetgroup": "Chismofilia",
         "orientation": "v",
         "showlegend": true,
         "textposition": "auto",
         "type": "bar",
         "x": [
          "Luis Alfonso"
         ],
         "xaxis": "x",
         "y": [
          47
         ],
         "yaxis": "y"
        },
        {
         "alignmentgroup": "True",
         "hovertemplate": "Canción=No Va a Venir<br>Artista=%{x}<br>Mejor Posición=%{y}<extra></extra>",
         "legendgroup": "No Va a Venir",
         "marker": {
          "color": "#ab63fa",
          "pattern": {
           "shape": ""
          }
         },
         "name": "No Va a Venir",
         "offsetgroup": "No Va a Venir",
         "orientation": "v",
         "showlegend": true,
         "textposition": "auto",
         "type": "bar",
         "x": [
          "Pinky SD",
          "Un Poco de Ruido",
          "Uriel Lozano"
         ],
         "xaxis": "x",
         "y": [
          47,
          47,
          47
         ],
         "yaxis": "y"
        },
        {
         "alignmentgroup": "True",
         "hovertemplate": "Canción=Ese Vato No Te Queda<br>Artista=%{x}<br>Mejor Posición=%{y}<extra></extra>",
         "legendgroup": "Ese Vato No Te Queda",
         "marker": {
          "color": "#FFA15A",
          "pattern": {
           "shape": ""
          }
         },
         "name": "Ese Vato No Te Queda",
         "offsetgroup": "Ese Vato No Te Queda",
         "orientation": "v",
         "showlegend": true,
         "textposition": "auto",
         "type": "bar",
         "x": [
          "Carin Leon",
          "Gabito Ballesteros"
         ],
         "xaxis": "x",
         "y": [
          48,
          48
         ],
         "yaxis": "y"
        },
        {
         "alignmentgroup": "True",
         "hovertemplate": "Canción=TÃº Con El<br>Artista=%{x}<br>Mejor Posición=%{y}<extra></extra>",
         "legendgroup": "TÃº Con El",
         "marker": {
          "color": "#19d3f3",
          "pattern": {
           "shape": ""
          }
         },
         "name": "TÃº Con El",
         "offsetgroup": "TÃº Con El",
         "orientation": "v",
         "showlegend": true,
         "textposition": "auto",
         "type": "bar",
         "x": [
          "Frankie Ruiz"
         ],
         "xaxis": "x",
         "y": [
          48
         ],
         "yaxis": "y"
        },
        {
         "alignmentgroup": "True",
         "hovertemplate": "Canción=Coqueta<br>Artista=%{x}<br>Mejor Posición=%{y}<extra></extra>",
         "legendgroup": "Coqueta",
         "marker": {
          "color": "#FF6692",
          "pattern": {
           "shape": ""
          }
         },
         "name": "Coqueta",
         "offsetgroup": "Coqueta",
         "orientation": "v",
         "showlegend": true,
         "textposition": "auto",
         "type": "bar",
         "x": [
          "Heredero"
         ],
         "xaxis": "x",
         "y": [
          48
         ],
         "yaxis": "y"
        },
        {
         "alignmentgroup": "True",
         "hovertemplate": "Canción=EN MI MUNDO<br>Artista=%{x}<br>Mejor Posición=%{y}<extra></extra>",
         "legendgroup": "EN MI MUNDO",
         "marker": {
          "color": "#B6E880",
          "pattern": {
           "shape": ""
          }
         },
         "name": "EN MI MUNDO",
         "offsetgroup": "EN MI MUNDO",
         "orientation": "v",
         "showlegend": true,
         "textposition": "auto",
         "type": "bar",
         "x": [
          "Jasiel NuÃ±ez",
          "Peso Pluma"
         ],
         "xaxis": "x",
         "y": [
          48,
          48
         ],
         "yaxis": "y"
        },
        {
         "alignmentgroup": "True",
         "hovertemplate": "Canción=SI SABE FERXXO<br>Artista=%{x}<br>Mejor Posición=%{y}<extra></extra>",
         "legendgroup": "SI SABE FERXXO",
         "marker": {
          "color": "#FF97FF",
          "pattern": {
           "shape": ""
          }
         },
         "name": "SI SABE FERXXO",
         "offsetgroup": "SI SABE FERXXO",
         "orientation": "v",
         "showlegend": true,
         "textposition": "auto",
         "type": "bar",
         "x": [
          "Blessd",
          "Feid"
         ],
         "xaxis": "x",
         "y": [
          49,
          49
         ],
         "yaxis": "y"
        },
        {
         "alignmentgroup": "True",
         "hovertemplate": "Canción=RIKISHI (feat. DJ Acres)<br>Artista=%{x}<br>Mejor Posición=%{y}<extra></extra>",
         "legendgroup": "RIKISHI (feat. DJ Acres)",
         "marker": {
          "color": "#FECB52",
          "pattern": {
           "shape": ""
          }
         },
         "name": "RIKISHI (feat. DJ Acres)",
         "offsetgroup": "RIKISHI (feat. DJ Acres)",
         "orientation": "v",
         "showlegend": true,
         "textposition": "auto",
         "type": "bar",
         "x": [
          "DJ Acres",
          "Fran C",
          "Harry Nach",
          "Pablo Chill-E"
         ],
         "xaxis": "x",
         "y": [
          49,
          49,
          49,
          49
         ],
         "yaxis": "y"
        },
        {
         "alignmentgroup": "True",
         "hovertemplate": "Canción=No Me Cansare<br>Artista=%{x}<br>Mejor Posición=%{y}<extra></extra>",
         "legendgroup": "No Me Cansare",
         "marker": {
          "color": "#636efa",
          "pattern": {
           "shape": ""
          }
         },
         "name": "No Me Cansare",
         "offsetgroup": "No Me Cansare",
         "orientation": "v",
         "showlegend": true,
         "textposition": "auto",
         "type": "bar",
         "x": [
          "KAROL G",
          "Sevdaliza"
         ],
         "xaxis": "x",
         "y": [
          49,
          49
         ],
         "yaxis": "y"
        },
        {
         "alignmentgroup": "True",
         "hovertemplate": "Canción=El Doctorado<br>Artista=%{x}<br>Mejor Posición=%{y}<extra></extra>",
         "legendgroup": "El Doctorado",
         "marker": {
          "color": "#EF553B",
          "pattern": {
           "shape": ""
          }
         },
         "name": "El Doctorado",
         "offsetgroup": "El Doctorado",
         "orientation": "v",
         "showlegend": true,
         "textposition": "auto",
         "type": "bar",
         "x": [
          "La T y La M"
         ],
         "xaxis": "x",
         "y": [
          49
         ],
         "yaxis": "y"
        },
        {
         "alignmentgroup": "True",
         "hovertemplate": "Canción=Ven DevÃ³rame Otra Vez<br>Artista=%{x}<br>Mejor Posición=%{y}<extra></extra>",
         "legendgroup": "Ven DevÃ³rame Otra Vez",
         "marker": {
          "color": "#00cc96",
          "pattern": {
           "shape": ""
          }
         },
         "name": "Ven DevÃ³rame Otra Vez",
         "offsetgroup": "Ven DevÃ³rame Otra Vez",
         "orientation": "v",
         "showlegend": true,
         "textposition": "auto",
         "type": "bar",
         "x": [
          "Lalo Rodriguez"
         ],
         "xaxis": "x",
         "y": [
          49
         ],
         "yaxis": "y"
        },
        {
         "alignmentgroup": "True",
         "hovertemplate": "Canción=SeÃ±al De Vida<br>Artista=%{x}<br>Mejor Posición=%{y}<extra></extra>",
         "legendgroup": "SeÃ±al De Vida",
         "marker": {
          "color": "#ab63fa",
          "pattern": {
           "shape": ""
          }
         },
         "name": "SeÃ±al De Vida",
         "offsetgroup": "SeÃ±al De Vida",
         "orientation": "v",
         "showlegend": true,
         "textposition": "auto",
         "type": "bar",
         "x": [
          "Ã‘ejo",
          "Dalmata"
         ],
         "xaxis": "x",
         "y": [
          50,
          50
         ],
         "yaxis": "y"
        },
        {
         "alignmentgroup": "True",
         "hovertemplate": "Canción=Loco<br>Artista=%{x}<br>Mejor Posición=%{y}<extra></extra>",
         "legendgroup": "Loco",
         "marker": {
          "color": "#FFA15A",
          "pattern": {
           "shape": ""
          }
         },
         "name": "Loco",
         "offsetgroup": "Loco",
         "orientation": "v",
         "showlegend": true,
         "textposition": "auto",
         "type": "bar",
         "x": [
          "BeÃ©le"
         ],
         "xaxis": "x",
         "y": [
          50
         ],
         "yaxis": "y"
        },
        {
         "alignmentgroup": "True",
         "hovertemplate": "Canción=LOKERA<br>Artista=%{x}<br>Mejor Posición=%{y}<extra></extra>",
         "legendgroup": "LOKERA",
         "marker": {
          "color": "#19d3f3",
          "pattern": {
           "shape": ""
          }
         },
         "name": "LOKERA",
         "offsetgroup": "LOKERA",
         "orientation": "v",
         "showlegend": true,
         "textposition": "auto",
         "type": "bar",
         "x": [
          "Brray",
          "Lyanno",
          "Rauw Alejandro"
         ],
         "xaxis": "x",
         "y": [
          50,
          50,
          50
         ],
         "yaxis": "y"
        },
        {
         "alignmentgroup": "True",
         "hovertemplate": "Canción=ÃNGEL<br>Artista=%{x}<br>Mejor Posición=%{y}<extra></extra>",
         "legendgroup": "ÃNGEL",
         "marker": {
          "color": "#FF6692",
          "pattern": {
           "shape": ""
          }
         },
         "name": "ÃNGEL",
         "offsetgroup": "ÃNGEL",
         "orientation": "v",
         "showlegend": true,
         "textposition": "auto",
         "type": "bar",
         "x": [
          "Grupo Frontera",
          "Romeo Santos"
         ],
         "xaxis": "x",
         "y": [
          50,
          50
         ],
         "yaxis": "y"
        },
        {
         "alignmentgroup": "True",
         "hovertemplate": "Canción=Gata Oficial<br>Artista=%{x}<br>Mejor Posición=%{y}<extra></extra>",
         "legendgroup": "Gata Oficial",
         "marker": {
          "color": "#B6E880",
          "pattern": {
           "shape": ""
          }
         },
         "name": "Gata Oficial",
         "offsetgroup": "Gata Oficial",
         "orientation": "v",
         "showlegend": true,
         "textposition": "auto",
         "type": "bar",
         "x": [
          "Luigi 21 Plus"
         ],
         "xaxis": "x",
         "y": [
          50
         ],
         "yaxis": "y"
        },
        {
         "alignmentgroup": "True",
         "hovertemplate": "Canción=Contentoso<br>Artista=%{x}<br>Mejor Posición=%{y}<extra></extra>",
         "legendgroup": "Contentoso",
         "marker": {
          "color": "#FF97FF",
          "pattern": {
           "shape": ""
          }
         },
         "name": "Contentoso",
         "offsetgroup": "Contentoso",
         "orientation": "v",
         "showlegend": true,
         "textposition": "auto",
         "type": "bar",
         "x": [
          "Luis Alfonso"
         ],
         "xaxis": "x",
         "y": [
          50
         ],
         "yaxis": "y"
        },
        {
         "alignmentgroup": "True",
         "hovertemplate": "Canción=La Bachata<br>Artista=%{x}<br>Mejor Posición=%{y}<extra></extra>",
         "legendgroup": "La Bachata",
         "marker": {
          "color": "#FECB52",
          "pattern": {
           "shape": ""
          }
         },
         "name": "La Bachata",
         "offsetgroup": "La Bachata",
         "orientation": "v",
         "showlegend": true,
         "textposition": "auto",
         "type": "bar",
         "x": [
          "Manuel Turizo"
         ],
         "xaxis": "x",
         "y": [
          50
         ],
         "yaxis": "y"
        }
       ],
       "layout": {
        "barmode": "relative",
        "legend": {
         "title": {
          "text": "Canción"
         },
         "tracegroupgap": 0
        },
        "template": {
         "data": {
          "bar": [
           {
            "error_x": {
             "color": "#2a3f5f"
            },
            "error_y": {
             "color": "#2a3f5f"
            },
            "marker": {
             "line": {
              "color": "#E5ECF6",
              "width": 0.5
             },
             "pattern": {
              "fillmode": "overlay",
              "size": 10,
              "solidity": 0.2
             }
            },
            "type": "bar"
           }
          ],
          "barpolar": [
           {
            "marker": {
             "line": {
              "color": "#E5ECF6",
              "width": 0.5
             },
             "pattern": {
              "fillmode": "overlay",
              "size": 10,
              "solidity": 0.2
             }
            },
            "type": "barpolar"
           }
          ],
          "carpet": [
           {
            "aaxis": {
             "endlinecolor": "#2a3f5f",
             "gridcolor": "white",
             "linecolor": "white",
             "minorgridcolor": "white",
             "startlinecolor": "#2a3f5f"
            },
            "baxis": {
             "endlinecolor": "#2a3f5f",
             "gridcolor": "white",
             "linecolor": "white",
             "minorgridcolor": "white",
             "startlinecolor": "#2a3f5f"
            },
            "type": "carpet"
           }
          ],
          "choropleth": [
           {
            "colorbar": {
             "outlinewidth": 0,
             "ticks": ""
            },
            "type": "choropleth"
           }
          ],
          "contour": [
           {
            "colorbar": {
             "outlinewidth": 0,
             "ticks": ""
            },
            "colorscale": [
             [
              0,
              "#0d0887"
             ],
             [
              0.1111111111111111,
              "#46039f"
             ],
             [
              0.2222222222222222,
              "#7201a8"
             ],
             [
              0.3333333333333333,
              "#9c179e"
             ],
             [
              0.4444444444444444,
              "#bd3786"
             ],
             [
              0.5555555555555556,
              "#d8576b"
             ],
             [
              0.6666666666666666,
              "#ed7953"
             ],
             [
              0.7777777777777778,
              "#fb9f3a"
             ],
             [
              0.8888888888888888,
              "#fdca26"
             ],
             [
              1,
              "#f0f921"
             ]
            ],
            "type": "contour"
           }
          ],
          "contourcarpet": [
           {
            "colorbar": {
             "outlinewidth": 0,
             "ticks": ""
            },
            "type": "contourcarpet"
           }
          ],
          "heatmap": [
           {
            "colorbar": {
             "outlinewidth": 0,
             "ticks": ""
            },
            "colorscale": [
             [
              0,
              "#0d0887"
             ],
             [
              0.1111111111111111,
              "#46039f"
             ],
             [
              0.2222222222222222,
              "#7201a8"
             ],
             [
              0.3333333333333333,
              "#9c179e"
             ],
             [
              0.4444444444444444,
              "#bd3786"
             ],
             [
              0.5555555555555556,
              "#d8576b"
             ],
             [
              0.6666666666666666,
              "#ed7953"
             ],
             [
              0.7777777777777778,
              "#fb9f3a"
             ],
             [
              0.8888888888888888,
              "#fdca26"
             ],
             [
              1,
              "#f0f921"
             ]
            ],
            "type": "heatmap"
           }
          ],
          "heatmapgl": [
           {
            "colorbar": {
             "outlinewidth": 0,
             "ticks": ""
            },
            "colorscale": [
             [
              0,
              "#0d0887"
             ],
             [
              0.1111111111111111,
              "#46039f"
             ],
             [
              0.2222222222222222,
              "#7201a8"
             ],
             [
              0.3333333333333333,
              "#9c179e"
             ],
             [
              0.4444444444444444,
              "#bd3786"
             ],
             [
              0.5555555555555556,
              "#d8576b"
             ],
             [
              0.6666666666666666,
              "#ed7953"
             ],
             [
              0.7777777777777778,
              "#fb9f3a"
             ],
             [
              0.8888888888888888,
              "#fdca26"
             ],
             [
              1,
              "#f0f921"
             ]
            ],
            "type": "heatmapgl"
           }
          ],
          "histogram": [
           {
            "marker": {
             "pattern": {
              "fillmode": "overlay",
              "size": 10,
              "solidity": 0.2
             }
            },
            "type": "histogram"
           }
          ],
          "histogram2d": [
           {
            "colorbar": {
             "outlinewidth": 0,
             "ticks": ""
            },
            "colorscale": [
             [
              0,
              "#0d0887"
             ],
             [
              0.1111111111111111,
              "#46039f"
             ],
             [
              0.2222222222222222,
              "#7201a8"
             ],
             [
              0.3333333333333333,
              "#9c179e"
             ],
             [
              0.4444444444444444,
              "#bd3786"
             ],
             [
              0.5555555555555556,
              "#d8576b"
             ],
             [
              0.6666666666666666,
              "#ed7953"
             ],
             [
              0.7777777777777778,
              "#fb9f3a"
             ],
             [
              0.8888888888888888,
              "#fdca26"
             ],
             [
              1,
              "#f0f921"
             ]
            ],
            "type": "histogram2d"
           }
          ],
          "histogram2dcontour": [
           {
            "colorbar": {
             "outlinewidth": 0,
             "ticks": ""
            },
            "colorscale": [
             [
              0,
              "#0d0887"
             ],
             [
              0.1111111111111111,
              "#46039f"
             ],
             [
              0.2222222222222222,
              "#7201a8"
             ],
             [
              0.3333333333333333,
              "#9c179e"
             ],
             [
              0.4444444444444444,
              "#bd3786"
             ],
             [
              0.5555555555555556,
              "#d8576b"
             ],
             [
              0.6666666666666666,
              "#ed7953"
             ],
             [
              0.7777777777777778,
              "#fb9f3a"
             ],
             [
              0.8888888888888888,
              "#fdca26"
             ],
             [
              1,
              "#f0f921"
             ]
            ],
            "type": "histogram2dcontour"
           }
          ],
          "mesh3d": [
           {
            "colorbar": {
             "outlinewidth": 0,
             "ticks": ""
            },
            "type": "mesh3d"
           }
          ],
          "parcoords": [
           {
            "line": {
             "colorbar": {
              "outlinewidth": 0,
              "ticks": ""
             }
            },
            "type": "parcoords"
           }
          ],
          "pie": [
           {
            "automargin": true,
            "type": "pie"
           }
          ],
          "scatter": [
           {
            "fillpattern": {
             "fillmode": "overlay",
             "size": 10,
             "solidity": 0.2
            },
            "type": "scatter"
           }
          ],
          "scatter3d": [
           {
            "line": {
             "colorbar": {
              "outlinewidth": 0,
              "ticks": ""
             }
            },
            "marker": {
             "colorbar": {
              "outlinewidth": 0,
              "ticks": ""
             }
            },
            "type": "scatter3d"
           }
          ],
          "scattercarpet": [
           {
            "marker": {
             "colorbar": {
              "outlinewidth": 0,
              "ticks": ""
             }
            },
            "type": "scattercarpet"
           }
          ],
          "scattergeo": [
           {
            "marker": {
             "colorbar": {
              "outlinewidth": 0,
              "ticks": ""
             }
            },
            "type": "scattergeo"
           }
          ],
          "scattergl": [
           {
            "marker": {
             "colorbar": {
              "outlinewidth": 0,
              "ticks": ""
             }
            },
            "type": "scattergl"
           }
          ],
          "scattermapbox": [
           {
            "marker": {
             "colorbar": {
              "outlinewidth": 0,
              "ticks": ""
             }
            },
            "type": "scattermapbox"
           }
          ],
          "scatterpolar": [
           {
            "marker": {
             "colorbar": {
              "outlinewidth": 0,
              "ticks": ""
             }
            },
            "type": "scatterpolar"
           }
          ],
          "scatterpolargl": [
           {
            "marker": {
             "colorbar": {
              "outlinewidth": 0,
              "ticks": ""
             }
            },
            "type": "scatterpolargl"
           }
          ],
          "scatterternary": [
           {
            "marker": {
             "colorbar": {
              "outlinewidth": 0,
              "ticks": ""
             }
            },
            "type": "scatterternary"
           }
          ],
          "surface": [
           {
            "colorbar": {
             "outlinewidth": 0,
             "ticks": ""
            },
            "colorscale": [
             [
              0,
              "#0d0887"
             ],
             [
              0.1111111111111111,
              "#46039f"
             ],
             [
              0.2222222222222222,
              "#7201a8"
             ],
             [
              0.3333333333333333,
              "#9c179e"
             ],
             [
              0.4444444444444444,
              "#bd3786"
             ],
             [
              0.5555555555555556,
              "#d8576b"
             ],
             [
              0.6666666666666666,
              "#ed7953"
             ],
             [
              0.7777777777777778,
              "#fb9f3a"
             ],
             [
              0.8888888888888888,
              "#fdca26"
             ],
             [
              1,
              "#f0f921"
             ]
            ],
            "type": "surface"
           }
          ],
          "table": [
           {
            "cells": {
             "fill": {
              "color": "#EBF0F8"
             },
             "line": {
              "color": "white"
             }
            },
            "header": {
             "fill": {
              "color": "#C8D4E3"
             },
             "line": {
              "color": "white"
             }
            },
            "type": "table"
           }
          ]
         },
         "layout": {
          "annotationdefaults": {
           "arrowcolor": "#2a3f5f",
           "arrowhead": 0,
           "arrowwidth": 1
          },
          "autotypenumbers": "strict",
          "coloraxis": {
           "colorbar": {
            "outlinewidth": 0,
            "ticks": ""
           }
          },
          "colorscale": {
           "diverging": [
            [
             0,
             "#8e0152"
            ],
            [
             0.1,
             "#c51b7d"
            ],
            [
             0.2,
             "#de77ae"
            ],
            [
             0.3,
             "#f1b6da"
            ],
            [
             0.4,
             "#fde0ef"
            ],
            [
             0.5,
             "#f7f7f7"
            ],
            [
             0.6,
             "#e6f5d0"
            ],
            [
             0.7,
             "#b8e186"
            ],
            [
             0.8,
             "#7fbc41"
            ],
            [
             0.9,
             "#4d9221"
            ],
            [
             1,
             "#276419"
            ]
           ],
           "sequential": [
            [
             0,
             "#0d0887"
            ],
            [
             0.1111111111111111,
             "#46039f"
            ],
            [
             0.2222222222222222,
             "#7201a8"
            ],
            [
             0.3333333333333333,
             "#9c179e"
            ],
            [
             0.4444444444444444,
             "#bd3786"
            ],
            [
             0.5555555555555556,
             "#d8576b"
            ],
            [
             0.6666666666666666,
             "#ed7953"
            ],
            [
             0.7777777777777778,
             "#fb9f3a"
            ],
            [
             0.8888888888888888,
             "#fdca26"
            ],
            [
             1,
             "#f0f921"
            ]
           ],
           "sequentialminus": [
            [
             0,
             "#0d0887"
            ],
            [
             0.1111111111111111,
             "#46039f"
            ],
            [
             0.2222222222222222,
             "#7201a8"
            ],
            [
             0.3333333333333333,
             "#9c179e"
            ],
            [
             0.4444444444444444,
             "#bd3786"
            ],
            [
             0.5555555555555556,
             "#d8576b"
            ],
            [
             0.6666666666666666,
             "#ed7953"
            ],
            [
             0.7777777777777778,
             "#fb9f3a"
            ],
            [
             0.8888888888888888,
             "#fdca26"
            ],
            [
             1,
             "#f0f921"
            ]
           ]
          },
          "colorway": [
           "#636efa",
           "#EF553B",
           "#00cc96",
           "#ab63fa",
           "#FFA15A",
           "#19d3f3",
           "#FF6692",
           "#B6E880",
           "#FF97FF",
           "#FECB52"
          ],
          "font": {
           "color": "#2a3f5f"
          },
          "geo": {
           "bgcolor": "white",
           "lakecolor": "white",
           "landcolor": "#E5ECF6",
           "showlakes": true,
           "showland": true,
           "subunitcolor": "white"
          },
          "hoverlabel": {
           "align": "left"
          },
          "hovermode": "closest",
          "mapbox": {
           "style": "light"
          },
          "paper_bgcolor": "white",
          "plot_bgcolor": "#E5ECF6",
          "polar": {
           "angularaxis": {
            "gridcolor": "white",
            "linecolor": "white",
            "ticks": ""
           },
           "bgcolor": "#E5ECF6",
           "radialaxis": {
            "gridcolor": "white",
            "linecolor": "white",
            "ticks": ""
           }
          },
          "scene": {
           "xaxis": {
            "backgroundcolor": "#E5ECF6",
            "gridcolor": "white",
            "gridwidth": 2,
            "linecolor": "white",
            "showbackground": true,
            "ticks": "",
            "zerolinecolor": "white"
           },
           "yaxis": {
            "backgroundcolor": "#E5ECF6",
            "gridcolor": "white",
            "gridwidth": 2,
            "linecolor": "white",
            "showbackground": true,
            "ticks": "",
            "zerolinecolor": "white"
           },
           "zaxis": {
            "backgroundcolor": "#E5ECF6",
            "gridcolor": "white",
            "gridwidth": 2,
            "linecolor": "white",
            "showbackground": true,
            "ticks": "",
            "zerolinecolor": "white"
           }
          },
          "shapedefaults": {
           "line": {
            "color": "#2a3f5f"
           }
          },
          "ternary": {
           "aaxis": {
            "gridcolor": "white",
            "linecolor": "white",
            "ticks": ""
           },
           "baxis": {
            "gridcolor": "white",
            "linecolor": "white",
            "ticks": ""
           },
           "bgcolor": "#E5ECF6",
           "caxis": {
            "gridcolor": "white",
            "linecolor": "white",
            "ticks": ""
           }
          },
          "title": {
           "x": 0.05
          },
          "xaxis": {
           "automargin": true,
           "gridcolor": "white",
           "linecolor": "white",
           "ticks": "",
           "title": {
            "standoff": 15
           },
           "zerolinecolor": "white",
           "zerolinewidth": 2
          },
          "yaxis": {
           "automargin": true,
           "gridcolor": "white",
           "linecolor": "white",
           "ticks": "",
           "title": {
            "standoff": 15
           },
           "zerolinecolor": "white",
           "zerolinewidth": 2
          }
         }
        },
        "title": {
         "text": "Mejor Posición de Canciones por Artista"
        },
        "xaxis": {
         "anchor": "y",
         "domain": [
          0,
          1
         ],
         "title": {
          "text": "Artista"
         }
        },
        "yaxis": {
         "anchor": "x",
         "domain": [
          0,
          1
         ],
         "title": {
          "text": "Mejor Posición"
         }
        }
       }
      }
     },
     "metadata": {},
     "output_type": "display_data"
    },
    {
     "name": "stdout",
     "output_type": "stream",
     "text": [
      "Conexión cerrada\n"
     ]
    }
   ],
   "source": [
    "try:\n",
    "    # Conexión a la base de datos\n",
    "    connection = psycopg2.connect(\n",
    "        host='localhost',\n",
    "        user='postgres',  # Reemplaza con tu usuario de la base de datos\n",
    "        password='2I@@`7ao*3}*',  # Reemplaza con tu contraseña\n",
    "        database='proyecto'\n",
    "    )\n",
    "    print(\"Conexión exitosa\")\n",
    "    \n",
    "    # Crear un cursor\n",
    "    cursor = connection.cursor()\n",
    "    \n",
    "    t_consulta2 = \"SELECT a.nombre AS artista, c.nombre AS cancion, MIN(r.ranking_diario) AS mejor_posicion FROM Artistas a JOIN Cancion_Artista ca ON a.artista_id = ca.artista_id JOIN Canciones c ON ca.spotify_id = c.spotify_id JOIN Rankings r ON c.spotify_id = r.spotify_id GROUP BY a.nombre, c.nombre ORDER BY mejor_posicion ASC, a.nombre;\"\n",
    "    \n",
    "    # Ejecutar la consulta\n",
    "    cursor.execute(t_consulta2)\n",
    "    rows = cursor.fetchall()\n",
    "\n",
    "    # Crear un DataFrame\n",
    "    df = pd.DataFrame(rows, columns=['artista', 'cancion', 'mejor_posicion'])\n",
    "\n",
    "    # Generar la gráfica de barras\n",
    "    fig = px.bar(\n",
    "        df,\n",
    "        x='artista',\n",
    "        y='mejor_posicion',\n",
    "        color='cancion',\n",
    "        title='Mejor Posición de Canciones por Artista',\n",
    "        labels={\n",
    "            'mejor_posicion': 'Mejor Posición',\n",
    "            'artista': 'Artista',\n",
    "            'cancion': 'Canción'\n",
    "        }\n",
    "    )\n",
    "\n",
    "    # Mostrar la gráfica\n",
    "    fig.show()\n",
    "except Exception as error:\n",
    "    print(\"Error al conectar o ejecutar la consulta:\", error)\n",
    "finally:\n",
    "    if connection:\n",
    "        cursor.close()\n",
    "        connection.close()\n",
    "        print(\"Conexión cerrada\")"
   ]
  },
  {
   "cell_type": "markdown",
   "metadata": {},
   "source": [
    "# Gráfica y representación de la consulta 3\n",
    "En esta sección, se presenta la gráfica de lineas a partir de los datos obtenidos de la consulta 3. Evalúa cómo varía la popularidad de las canciones a lo largo del tiempo observando su promedio de posición diaria (ranking_diario)."
   ]
  },
  {
   "cell_type": "code",
   "execution_count": 9,
   "metadata": {},
   "outputs": [
    {
     "name": "stdout",
     "output_type": "stream",
     "text": [
      "Conexión exitosa\n"
     ]
    },
    {
     "data": {
      "application/vnd.plotly.v1+json": {
       "config": {
        "plotlyServerURL": "https://plot.ly"
       },
       "data": [
        {
         "hovertemplate": "Canción=2:12 a. m.<br>Fecha=%{x}<br>Promedio de Ranking=%{y}<extra></extra>",
         "legendgroup": "2:12 a. m.",
         "line": {
          "color": "#636efa",
          "dash": "solid"
         },
         "marker": {
          "symbol": "circle"
         },
         "mode": "lines",
         "name": "2:12 a. m.",
         "orientation": "v",
         "showlegend": true,
         "type": "scatter",
         "x": [
          "2024-11-17T00:00:00",
          "2024-11-18T00:00:00"
         ],
         "xaxis": "x",
         "y": [
          32.5,
          48
         ],
         "yaxis": "y"
        },
        {
         "hovertemplate": "Canción=5-jul<br>Fecha=%{x}<br>Promedio de Ranking=%{y}<extra></extra>",
         "legendgroup": "5-jul",
         "line": {
          "color": "#EF553B",
          "dash": "solid"
         },
         "marker": {
          "symbol": "circle"
         },
         "mode": "lines",
         "name": "5-jul",
         "orientation": "v",
         "showlegend": true,
         "type": "scatter",
         "x": [
          "2024-11-17T00:00:00",
          "2024-11-18T00:00:00",
          "2024-11-19T00:00:00",
          "2024-11-20T00:00:00",
          "2024-11-21T00:00:00",
          "2024-11-22T00:00:00",
          "2024-11-23T00:00:00",
          "2024-11-24T00:00:00"
         ],
         "xaxis": "x",
         "y": [
          16,
          12,
          12,
          12,
          11,
          11,
          11,
          11
         ],
         "yaxis": "y"
        },
        {
         "hovertemplate": "Canción=57<br>Fecha=%{x}<br>Promedio de Ranking=%{y}<extra></extra>",
         "legendgroup": "57",
         "line": {
          "color": "#00cc96",
          "dash": "solid"
         },
         "marker": {
          "symbol": "circle"
         },
         "mode": "lines",
         "name": "57",
         "orientation": "v",
         "showlegend": true,
         "type": "scatter",
         "x": [
          "2024-11-17T00:00:00",
          "2024-11-18T00:00:00",
          "2024-11-19T00:00:00",
          "2024-11-20T00:00:00",
          "2024-11-21T00:00:00",
          "2024-11-22T00:00:00",
          "2024-11-23T00:00:00",
          "2024-11-24T00:00:00"
         ],
         "xaxis": "x",
         "y": [
          13.4,
          13.4,
          5.75,
          5.5,
          6,
          7,
          8.25,
          8.5
         ],
         "yaxis": "y"
        },
        {
         "hovertemplate": "Canción=A las Nueve<br>Fecha=%{x}<br>Promedio de Ranking=%{y}<extra></extra>",
         "legendgroup": "A las Nueve",
         "line": {
          "color": "#ab63fa",
          "dash": "solid"
         },
         "marker": {
          "symbol": "circle"
         },
         "mode": "lines",
         "name": "A las Nueve",
         "orientation": "v",
         "showlegend": true,
         "type": "scatter",
         "x": [
          "2024-11-17T00:00:00",
          "2024-11-18T00:00:00",
          "2024-11-19T00:00:00",
          "2024-11-20T00:00:00",
          "2024-11-21T00:00:00",
          "2024-11-22T00:00:00",
          "2024-11-23T00:00:00",
          "2024-11-24T00:00:00"
         ],
         "xaxis": "x",
         "y": [
          36,
          42,
          42,
          39,
          33,
          29,
          25,
          34
         ],
         "yaxis": "y"
        },
        {
         "hovertemplate": "Canción=ÃNGEL<br>Fecha=%{x}<br>Promedio de Ranking=%{y}<extra></extra>",
         "legendgroup": "ÃNGEL",
         "line": {
          "color": "#FFA15A",
          "dash": "solid"
         },
         "marker": {
          "symbol": "circle"
         },
         "mode": "lines",
         "name": "ÃNGEL",
         "orientation": "v",
         "showlegend": true,
         "type": "scatter",
         "x": [
          "2024-11-23T00:00:00"
         ],
         "xaxis": "x",
         "y": [
          50
         ],
         "yaxis": "y"
        },
        {
         "hovertemplate": "Canción=A200<br>Fecha=%{x}<br>Promedio de Ranking=%{y}<extra></extra>",
         "legendgroup": "A200",
         "line": {
          "color": "#19d3f3",
          "dash": "solid"
         },
         "marker": {
          "symbol": "circle"
         },
         "mode": "lines",
         "name": "A200",
         "orientation": "v",
         "showlegend": true,
         "type": "scatter",
         "x": [
          "2024-11-17T00:00:00",
          "2024-11-18T00:00:00",
          "2024-11-19T00:00:00",
          "2024-11-20T00:00:00",
          "2024-11-21T00:00:00",
          "2024-11-22T00:00:00",
          "2024-11-23T00:00:00",
          "2024-11-24T00:00:00"
         ],
         "xaxis": "x",
         "y": [
          1,
          1,
          1,
          1,
          1,
          1,
          1,
          1
         ],
         "yaxis": "y"
        },
        {
         "hovertemplate": "Canción=ADIÃ“S<br>Fecha=%{x}<br>Promedio de Ranking=%{y}<extra></extra>",
         "legendgroup": "ADIÃ“S",
         "line": {
          "color": "#FF6692",
          "dash": "solid"
         },
         "marker": {
          "symbol": "circle"
         },
         "mode": "lines",
         "name": "ADIÃ“S",
         "orientation": "v",
         "showlegend": true,
         "type": "scatter",
         "x": [
          "2024-11-17T00:00:00",
          "2024-11-18T00:00:00",
          "2024-11-19T00:00:00",
          "2024-11-20T00:00:00",
          "2024-11-21T00:00:00",
          "2024-11-22T00:00:00",
          "2024-11-23T00:00:00",
          "2024-11-24T00:00:00"
         ],
         "xaxis": "x",
         "y": [
          42,
          32,
          40,
          43,
          48,
          42,
          41,
          35
         ],
         "yaxis": "y"
        },
        {
         "hovertemplate": "Canción=AGORA<br>Fecha=%{x}<br>Promedio de Ranking=%{y}<extra></extra>",
         "legendgroup": "AGORA",
         "line": {
          "color": "#B6E880",
          "dash": "solid"
         },
         "marker": {
          "symbol": "circle"
         },
         "mode": "lines",
         "name": "AGORA",
         "orientation": "v",
         "showlegend": true,
         "type": "scatter",
         "x": [
          "2024-11-17T00:00:00",
          "2024-11-18T00:00:00",
          "2024-11-19T00:00:00",
          "2024-11-20T00:00:00",
          "2024-11-21T00:00:00",
          "2024-11-22T00:00:00",
          "2024-11-23T00:00:00"
         ],
         "xaxis": "x",
         "y": [
          8,
          10,
          10,
          9,
          8,
          8,
          8
         ],
         "yaxis": "y"
        }
       ],
       "layout": {
        "legend": {
         "title": {
          "text": "Canción"
         },
         "tracegroupgap": 0
        },
        "template": {
         "data": {
          "bar": [
           {
            "error_x": {
             "color": "#2a3f5f"
            },
            "error_y": {
             "color": "#2a3f5f"
            },
            "marker": {
             "line": {
              "color": "#E5ECF6",
              "width": 0.5
             },
             "pattern": {
              "fillmode": "overlay",
              "size": 10,
              "solidity": 0.2
             }
            },
            "type": "bar"
           }
          ],
          "barpolar": [
           {
            "marker": {
             "line": {
              "color": "#E5ECF6",
              "width": 0.5
             },
             "pattern": {
              "fillmode": "overlay",
              "size": 10,
              "solidity": 0.2
             }
            },
            "type": "barpolar"
           }
          ],
          "carpet": [
           {
            "aaxis": {
             "endlinecolor": "#2a3f5f",
             "gridcolor": "white",
             "linecolor": "white",
             "minorgridcolor": "white",
             "startlinecolor": "#2a3f5f"
            },
            "baxis": {
             "endlinecolor": "#2a3f5f",
             "gridcolor": "white",
             "linecolor": "white",
             "minorgridcolor": "white",
             "startlinecolor": "#2a3f5f"
            },
            "type": "carpet"
           }
          ],
          "choropleth": [
           {
            "colorbar": {
             "outlinewidth": 0,
             "ticks": ""
            },
            "type": "choropleth"
           }
          ],
          "contour": [
           {
            "colorbar": {
             "outlinewidth": 0,
             "ticks": ""
            },
            "colorscale": [
             [
              0,
              "#0d0887"
             ],
             [
              0.1111111111111111,
              "#46039f"
             ],
             [
              0.2222222222222222,
              "#7201a8"
             ],
             [
              0.3333333333333333,
              "#9c179e"
             ],
             [
              0.4444444444444444,
              "#bd3786"
             ],
             [
              0.5555555555555556,
              "#d8576b"
             ],
             [
              0.6666666666666666,
              "#ed7953"
             ],
             [
              0.7777777777777778,
              "#fb9f3a"
             ],
             [
              0.8888888888888888,
              "#fdca26"
             ],
             [
              1,
              "#f0f921"
             ]
            ],
            "type": "contour"
           }
          ],
          "contourcarpet": [
           {
            "colorbar": {
             "outlinewidth": 0,
             "ticks": ""
            },
            "type": "contourcarpet"
           }
          ],
          "heatmap": [
           {
            "colorbar": {
             "outlinewidth": 0,
             "ticks": ""
            },
            "colorscale": [
             [
              0,
              "#0d0887"
             ],
             [
              0.1111111111111111,
              "#46039f"
             ],
             [
              0.2222222222222222,
              "#7201a8"
             ],
             [
              0.3333333333333333,
              "#9c179e"
             ],
             [
              0.4444444444444444,
              "#bd3786"
             ],
             [
              0.5555555555555556,
              "#d8576b"
             ],
             [
              0.6666666666666666,
              "#ed7953"
             ],
             [
              0.7777777777777778,
              "#fb9f3a"
             ],
             [
              0.8888888888888888,
              "#fdca26"
             ],
             [
              1,
              "#f0f921"
             ]
            ],
            "type": "heatmap"
           }
          ],
          "heatmapgl": [
           {
            "colorbar": {
             "outlinewidth": 0,
             "ticks": ""
            },
            "colorscale": [
             [
              0,
              "#0d0887"
             ],
             [
              0.1111111111111111,
              "#46039f"
             ],
             [
              0.2222222222222222,
              "#7201a8"
             ],
             [
              0.3333333333333333,
              "#9c179e"
             ],
             [
              0.4444444444444444,
              "#bd3786"
             ],
             [
              0.5555555555555556,
              "#d8576b"
             ],
             [
              0.6666666666666666,
              "#ed7953"
             ],
             [
              0.7777777777777778,
              "#fb9f3a"
             ],
             [
              0.8888888888888888,
              "#fdca26"
             ],
             [
              1,
              "#f0f921"
             ]
            ],
            "type": "heatmapgl"
           }
          ],
          "histogram": [
           {
            "marker": {
             "pattern": {
              "fillmode": "overlay",
              "size": 10,
              "solidity": 0.2
             }
            },
            "type": "histogram"
           }
          ],
          "histogram2d": [
           {
            "colorbar": {
             "outlinewidth": 0,
             "ticks": ""
            },
            "colorscale": [
             [
              0,
              "#0d0887"
             ],
             [
              0.1111111111111111,
              "#46039f"
             ],
             [
              0.2222222222222222,
              "#7201a8"
             ],
             [
              0.3333333333333333,
              "#9c179e"
             ],
             [
              0.4444444444444444,
              "#bd3786"
             ],
             [
              0.5555555555555556,
              "#d8576b"
             ],
             [
              0.6666666666666666,
              "#ed7953"
             ],
             [
              0.7777777777777778,
              "#fb9f3a"
             ],
             [
              0.8888888888888888,
              "#fdca26"
             ],
             [
              1,
              "#f0f921"
             ]
            ],
            "type": "histogram2d"
           }
          ],
          "histogram2dcontour": [
           {
            "colorbar": {
             "outlinewidth": 0,
             "ticks": ""
            },
            "colorscale": [
             [
              0,
              "#0d0887"
             ],
             [
              0.1111111111111111,
              "#46039f"
             ],
             [
              0.2222222222222222,
              "#7201a8"
             ],
             [
              0.3333333333333333,
              "#9c179e"
             ],
             [
              0.4444444444444444,
              "#bd3786"
             ],
             [
              0.5555555555555556,
              "#d8576b"
             ],
             [
              0.6666666666666666,
              "#ed7953"
             ],
             [
              0.7777777777777778,
              "#fb9f3a"
             ],
             [
              0.8888888888888888,
              "#fdca26"
             ],
             [
              1,
              "#f0f921"
             ]
            ],
            "type": "histogram2dcontour"
           }
          ],
          "mesh3d": [
           {
            "colorbar": {
             "outlinewidth": 0,
             "ticks": ""
            },
            "type": "mesh3d"
           }
          ],
          "parcoords": [
           {
            "line": {
             "colorbar": {
              "outlinewidth": 0,
              "ticks": ""
             }
            },
            "type": "parcoords"
           }
          ],
          "pie": [
           {
            "automargin": true,
            "type": "pie"
           }
          ],
          "scatter": [
           {
            "fillpattern": {
             "fillmode": "overlay",
             "size": 10,
             "solidity": 0.2
            },
            "type": "scatter"
           }
          ],
          "scatter3d": [
           {
            "line": {
             "colorbar": {
              "outlinewidth": 0,
              "ticks": ""
             }
            },
            "marker": {
             "colorbar": {
              "outlinewidth": 0,
              "ticks": ""
             }
            },
            "type": "scatter3d"
           }
          ],
          "scattercarpet": [
           {
            "marker": {
             "colorbar": {
              "outlinewidth": 0,
              "ticks": ""
             }
            },
            "type": "scattercarpet"
           }
          ],
          "scattergeo": [
           {
            "marker": {
             "colorbar": {
              "outlinewidth": 0,
              "ticks": ""
             }
            },
            "type": "scattergeo"
           }
          ],
          "scattergl": [
           {
            "marker": {
             "colorbar": {
              "outlinewidth": 0,
              "ticks": ""
             }
            },
            "type": "scattergl"
           }
          ],
          "scattermapbox": [
           {
            "marker": {
             "colorbar": {
              "outlinewidth": 0,
              "ticks": ""
             }
            },
            "type": "scattermapbox"
           }
          ],
          "scatterpolar": [
           {
            "marker": {
             "colorbar": {
              "outlinewidth": 0,
              "ticks": ""
             }
            },
            "type": "scatterpolar"
           }
          ],
          "scatterpolargl": [
           {
            "marker": {
             "colorbar": {
              "outlinewidth": 0,
              "ticks": ""
             }
            },
            "type": "scatterpolargl"
           }
          ],
          "scatterternary": [
           {
            "marker": {
             "colorbar": {
              "outlinewidth": 0,
              "ticks": ""
             }
            },
            "type": "scatterternary"
           }
          ],
          "surface": [
           {
            "colorbar": {
             "outlinewidth": 0,
             "ticks": ""
            },
            "colorscale": [
             [
              0,
              "#0d0887"
             ],
             [
              0.1111111111111111,
              "#46039f"
             ],
             [
              0.2222222222222222,
              "#7201a8"
             ],
             [
              0.3333333333333333,
              "#9c179e"
             ],
             [
              0.4444444444444444,
              "#bd3786"
             ],
             [
              0.5555555555555556,
              "#d8576b"
             ],
             [
              0.6666666666666666,
              "#ed7953"
             ],
             [
              0.7777777777777778,
              "#fb9f3a"
             ],
             [
              0.8888888888888888,
              "#fdca26"
             ],
             [
              1,
              "#f0f921"
             ]
            ],
            "type": "surface"
           }
          ],
          "table": [
           {
            "cells": {
             "fill": {
              "color": "#EBF0F8"
             },
             "line": {
              "color": "white"
             }
            },
            "header": {
             "fill": {
              "color": "#C8D4E3"
             },
             "line": {
              "color": "white"
             }
            },
            "type": "table"
           }
          ]
         },
         "layout": {
          "annotationdefaults": {
           "arrowcolor": "#2a3f5f",
           "arrowhead": 0,
           "arrowwidth": 1
          },
          "autotypenumbers": "strict",
          "coloraxis": {
           "colorbar": {
            "outlinewidth": 0,
            "ticks": ""
           }
          },
          "colorscale": {
           "diverging": [
            [
             0,
             "#8e0152"
            ],
            [
             0.1,
             "#c51b7d"
            ],
            [
             0.2,
             "#de77ae"
            ],
            [
             0.3,
             "#f1b6da"
            ],
            [
             0.4,
             "#fde0ef"
            ],
            [
             0.5,
             "#f7f7f7"
            ],
            [
             0.6,
             "#e6f5d0"
            ],
            [
             0.7,
             "#b8e186"
            ],
            [
             0.8,
             "#7fbc41"
            ],
            [
             0.9,
             "#4d9221"
            ],
            [
             1,
             "#276419"
            ]
           ],
           "sequential": [
            [
             0,
             "#0d0887"
            ],
            [
             0.1111111111111111,
             "#46039f"
            ],
            [
             0.2222222222222222,
             "#7201a8"
            ],
            [
             0.3333333333333333,
             "#9c179e"
            ],
            [
             0.4444444444444444,
             "#bd3786"
            ],
            [
             0.5555555555555556,
             "#d8576b"
            ],
            [
             0.6666666666666666,
             "#ed7953"
            ],
            [
             0.7777777777777778,
             "#fb9f3a"
            ],
            [
             0.8888888888888888,
             "#fdca26"
            ],
            [
             1,
             "#f0f921"
            ]
           ],
           "sequentialminus": [
            [
             0,
             "#0d0887"
            ],
            [
             0.1111111111111111,
             "#46039f"
            ],
            [
             0.2222222222222222,
             "#7201a8"
            ],
            [
             0.3333333333333333,
             "#9c179e"
            ],
            [
             0.4444444444444444,
             "#bd3786"
            ],
            [
             0.5555555555555556,
             "#d8576b"
            ],
            [
             0.6666666666666666,
             "#ed7953"
            ],
            [
             0.7777777777777778,
             "#fb9f3a"
            ],
            [
             0.8888888888888888,
             "#fdca26"
            ],
            [
             1,
             "#f0f921"
            ]
           ]
          },
          "colorway": [
           "#636efa",
           "#EF553B",
           "#00cc96",
           "#ab63fa",
           "#FFA15A",
           "#19d3f3",
           "#FF6692",
           "#B6E880",
           "#FF97FF",
           "#FECB52"
          ],
          "font": {
           "color": "#2a3f5f"
          },
          "geo": {
           "bgcolor": "white",
           "lakecolor": "white",
           "landcolor": "#E5ECF6",
           "showlakes": true,
           "showland": true,
           "subunitcolor": "white"
          },
          "hoverlabel": {
           "align": "left"
          },
          "hovermode": "closest",
          "mapbox": {
           "style": "light"
          },
          "paper_bgcolor": "white",
          "plot_bgcolor": "#E5ECF6",
          "polar": {
           "angularaxis": {
            "gridcolor": "white",
            "linecolor": "white",
            "ticks": ""
           },
           "bgcolor": "#E5ECF6",
           "radialaxis": {
            "gridcolor": "white",
            "linecolor": "white",
            "ticks": ""
           }
          },
          "scene": {
           "xaxis": {
            "backgroundcolor": "#E5ECF6",
            "gridcolor": "white",
            "gridwidth": 2,
            "linecolor": "white",
            "showbackground": true,
            "ticks": "",
            "zerolinecolor": "white"
           },
           "yaxis": {
            "backgroundcolor": "#E5ECF6",
            "gridcolor": "white",
            "gridwidth": 2,
            "linecolor": "white",
            "showbackground": true,
            "ticks": "",
            "zerolinecolor": "white"
           },
           "zaxis": {
            "backgroundcolor": "#E5ECF6",
            "gridcolor": "white",
            "gridwidth": 2,
            "linecolor": "white",
            "showbackground": true,
            "ticks": "",
            "zerolinecolor": "white"
           }
          },
          "shapedefaults": {
           "line": {
            "color": "#2a3f5f"
           }
          },
          "ternary": {
           "aaxis": {
            "gridcolor": "white",
            "linecolor": "white",
            "ticks": ""
           },
           "baxis": {
            "gridcolor": "white",
            "linecolor": "white",
            "ticks": ""
           },
           "bgcolor": "#E5ECF6",
           "caxis": {
            "gridcolor": "white",
            "linecolor": "white",
            "ticks": ""
           }
          },
          "title": {
           "x": 0.05
          },
          "xaxis": {
           "automargin": true,
           "gridcolor": "white",
           "linecolor": "white",
           "ticks": "",
           "title": {
            "standoff": 15
           },
           "zerolinecolor": "white",
           "zerolinewidth": 2
          },
          "yaxis": {
           "automargin": true,
           "gridcolor": "white",
           "linecolor": "white",
           "ticks": "",
           "title": {
            "standoff": 15
           },
           "zerolinecolor": "white",
           "zerolinewidth": 2
          }
         }
        },
        "title": {
         "text": "Tendencias de Popularidad de Canciones a lo Largo del Tiempo"
        },
        "xaxis": {
         "anchor": "y",
         "domain": [
          0,
          1
         ],
         "title": {
          "text": "Fecha"
         }
        },
        "yaxis": {
         "anchor": "x",
         "domain": [
          0,
          1
         ],
         "title": {
          "text": "Promedio de Ranking"
         }
        }
       }
      }
     },
     "metadata": {},
     "output_type": "display_data"
    },
    {
     "name": "stdout",
     "output_type": "stream",
     "text": [
      "Conexión cerrada\n"
     ]
    }
   ],
   "source": [
    "try:\n",
    "    # Conexión a la base de datos\n",
    "    connection = psycopg2.connect(\n",
    "        host='localhost',\n",
    "        user='postgres',  # Reemplaza con tu usuario de la base de datos\n",
    "        password='2I@@`7ao*3}*',  # Reemplaza con tu contraseña\n",
    "        database='proyecto'\n",
    "    )\n",
    "    print(\"Conexión exitosa\")\n",
    "    \n",
    "    # Crear un cursor\n",
    "    cursor = connection.cursor()\n",
    "    \n",
    "    t_consulta3 = \"SELECT c.nombre AS cancion, s.fecha_snapshot, AVG(r.ranking_diario) AS promedio_ranking FROM Canciones c JOIN Rankings r ON c.spotify_id = r.spotify_id JOIN Snapshots s ON r.fecha_snapshot = s.fecha_snapshot GROUP BY c.nombre, s.fecha_snapshot ORDER BY c.nombre, s.fecha_snapshot LIMIT 50;\"\n",
    "    \n",
    "    # Ejecutar la consulta\n",
    "    cursor.execute(t_consulta3)\n",
    "    rows = cursor.fetchall()\n",
    "\n",
    "    # Crear un DataFrame\n",
    "    df = pd.DataFrame(rows, columns=['cancion', 'fecha_snapshot', 'promedio_ranking'])\n",
    "\n",
    "    # Convertir la columna de fecha a tipo datetime\n",
    "    df['fecha_snapshot'] = pd.to_datetime(df['fecha_snapshot'])\n",
    "\n",
    "    # Generar el gráfico de líneas\n",
    "    fig = px.line(\n",
    "        df,\n",
    "        x='fecha_snapshot',\n",
    "        y='promedio_ranking',\n",
    "        color='cancion',\n",
    "        title='Tendencias de Popularidad de Canciones a lo Largo del Tiempo',\n",
    "        labels={\n",
    "            'fecha_snapshot': 'Fecha',\n",
    "            'promedio_ranking': 'Promedio de Ranking',\n",
    "            'cancion': 'Canción'\n",
    "        }\n",
    "    )\n",
    "\n",
    "    # Mostrar el gráfico\n",
    "    fig.show()\n",
    "except Exception as error:\n",
    "    print(\"Error al conectar o ejecutar la consulta:\", error)\n",
    "finally:\n",
    "    if connection:\n",
    "        cursor.close()\n",
    "        connection.close()\n",
    "        print(\"Conexión cerrada\")"
   ]
  },
  {
   "cell_type": "markdown",
   "metadata": {},
   "source": [
    "# Gráfica y representación de la consulta 4\n",
    "En esta sección, se presenta la gráfica de lineas a partir de los datos obtenidos de la consulta 4. Analiza la diversidad musical de cada país en términos de atributos como acousticness, instrumentalness, y danceability, junto con la cantidad de artistas que contribuyen a esa diversidad."
   ]
  },
  {
   "cell_type": "code",
   "execution_count": 5,
   "metadata": {},
   "outputs": [
    {
     "name": "stdout",
     "output_type": "stream",
     "text": [
      "Conexión exitosa\n"
     ]
    },
    {
     "data": {
      "application/vnd.plotly.v1+json": {
       "config": {
        "plotlyServerURL": "https://plot.ly"
       },
       "data": [
        {
         "alignmentgroup": "True",
         "hovertemplate": "País=%{x}<br>Cantidad de Artistas=%{y}<extra></extra>",
         "legendgroup": "",
         "marker": {
          "color": "#636efa",
          "pattern": {
           "shape": ""
          }
         },
         "name": "",
         "offsetgroup": "",
         "orientation": "v",
         "showlegend": false,
         "textposition": "auto",
         "type": "bar",
         "x": [
          "Ecuador",
          "Argentina",
          "Chile",
          "Colombia",
          "Costa Rica",
          "Mexico"
         ],
         "xaxis": "x",
         "y": [
          78,
          77,
          72,
          63,
          61,
          55
         ],
         "yaxis": "y"
        }
       ],
       "layout": {
        "barmode": "relative",
        "legend": {
         "tracegroupgap": 0
        },
        "template": {
         "data": {
          "bar": [
           {
            "error_x": {
             "color": "#2a3f5f"
            },
            "error_y": {
             "color": "#2a3f5f"
            },
            "marker": {
             "line": {
              "color": "#E5ECF6",
              "width": 0.5
             },
             "pattern": {
              "fillmode": "overlay",
              "size": 10,
              "solidity": 0.2
             }
            },
            "type": "bar"
           }
          ],
          "barpolar": [
           {
            "marker": {
             "line": {
              "color": "#E5ECF6",
              "width": 0.5
             },
             "pattern": {
              "fillmode": "overlay",
              "size": 10,
              "solidity": 0.2
             }
            },
            "type": "barpolar"
           }
          ],
          "carpet": [
           {
            "aaxis": {
             "endlinecolor": "#2a3f5f",
             "gridcolor": "white",
             "linecolor": "white",
             "minorgridcolor": "white",
             "startlinecolor": "#2a3f5f"
            },
            "baxis": {
             "endlinecolor": "#2a3f5f",
             "gridcolor": "white",
             "linecolor": "white",
             "minorgridcolor": "white",
             "startlinecolor": "#2a3f5f"
            },
            "type": "carpet"
           }
          ],
          "choropleth": [
           {
            "colorbar": {
             "outlinewidth": 0,
             "ticks": ""
            },
            "type": "choropleth"
           }
          ],
          "contour": [
           {
            "colorbar": {
             "outlinewidth": 0,
             "ticks": ""
            },
            "colorscale": [
             [
              0,
              "#0d0887"
             ],
             [
              0.1111111111111111,
              "#46039f"
             ],
             [
              0.2222222222222222,
              "#7201a8"
             ],
             [
              0.3333333333333333,
              "#9c179e"
             ],
             [
              0.4444444444444444,
              "#bd3786"
             ],
             [
              0.5555555555555556,
              "#d8576b"
             ],
             [
              0.6666666666666666,
              "#ed7953"
             ],
             [
              0.7777777777777778,
              "#fb9f3a"
             ],
             [
              0.8888888888888888,
              "#fdca26"
             ],
             [
              1,
              "#f0f921"
             ]
            ],
            "type": "contour"
           }
          ],
          "contourcarpet": [
           {
            "colorbar": {
             "outlinewidth": 0,
             "ticks": ""
            },
            "type": "contourcarpet"
           }
          ],
          "heatmap": [
           {
            "colorbar": {
             "outlinewidth": 0,
             "ticks": ""
            },
            "colorscale": [
             [
              0,
              "#0d0887"
             ],
             [
              0.1111111111111111,
              "#46039f"
             ],
             [
              0.2222222222222222,
              "#7201a8"
             ],
             [
              0.3333333333333333,
              "#9c179e"
             ],
             [
              0.4444444444444444,
              "#bd3786"
             ],
             [
              0.5555555555555556,
              "#d8576b"
             ],
             [
              0.6666666666666666,
              "#ed7953"
             ],
             [
              0.7777777777777778,
              "#fb9f3a"
             ],
             [
              0.8888888888888888,
              "#fdca26"
             ],
             [
              1,
              "#f0f921"
             ]
            ],
            "type": "heatmap"
           }
          ],
          "heatmapgl": [
           {
            "colorbar": {
             "outlinewidth": 0,
             "ticks": ""
            },
            "colorscale": [
             [
              0,
              "#0d0887"
             ],
             [
              0.1111111111111111,
              "#46039f"
             ],
             [
              0.2222222222222222,
              "#7201a8"
             ],
             [
              0.3333333333333333,
              "#9c179e"
             ],
             [
              0.4444444444444444,
              "#bd3786"
             ],
             [
              0.5555555555555556,
              "#d8576b"
             ],
             [
              0.6666666666666666,
              "#ed7953"
             ],
             [
              0.7777777777777778,
              "#fb9f3a"
             ],
             [
              0.8888888888888888,
              "#fdca26"
             ],
             [
              1,
              "#f0f921"
             ]
            ],
            "type": "heatmapgl"
           }
          ],
          "histogram": [
           {
            "marker": {
             "pattern": {
              "fillmode": "overlay",
              "size": 10,
              "solidity": 0.2
             }
            },
            "type": "histogram"
           }
          ],
          "histogram2d": [
           {
            "colorbar": {
             "outlinewidth": 0,
             "ticks": ""
            },
            "colorscale": [
             [
              0,
              "#0d0887"
             ],
             [
              0.1111111111111111,
              "#46039f"
             ],
             [
              0.2222222222222222,
              "#7201a8"
             ],
             [
              0.3333333333333333,
              "#9c179e"
             ],
             [
              0.4444444444444444,
              "#bd3786"
             ],
             [
              0.5555555555555556,
              "#d8576b"
             ],
             [
              0.6666666666666666,
              "#ed7953"
             ],
             [
              0.7777777777777778,
              "#fb9f3a"
             ],
             [
              0.8888888888888888,
              "#fdca26"
             ],
             [
              1,
              "#f0f921"
             ]
            ],
            "type": "histogram2d"
           }
          ],
          "histogram2dcontour": [
           {
            "colorbar": {
             "outlinewidth": 0,
             "ticks": ""
            },
            "colorscale": [
             [
              0,
              "#0d0887"
             ],
             [
              0.1111111111111111,
              "#46039f"
             ],
             [
              0.2222222222222222,
              "#7201a8"
             ],
             [
              0.3333333333333333,
              "#9c179e"
             ],
             [
              0.4444444444444444,
              "#bd3786"
             ],
             [
              0.5555555555555556,
              "#d8576b"
             ],
             [
              0.6666666666666666,
              "#ed7953"
             ],
             [
              0.7777777777777778,
              "#fb9f3a"
             ],
             [
              0.8888888888888888,
              "#fdca26"
             ],
             [
              1,
              "#f0f921"
             ]
            ],
            "type": "histogram2dcontour"
           }
          ],
          "mesh3d": [
           {
            "colorbar": {
             "outlinewidth": 0,
             "ticks": ""
            },
            "type": "mesh3d"
           }
          ],
          "parcoords": [
           {
            "line": {
             "colorbar": {
              "outlinewidth": 0,
              "ticks": ""
             }
            },
            "type": "parcoords"
           }
          ],
          "pie": [
           {
            "automargin": true,
            "type": "pie"
           }
          ],
          "scatter": [
           {
            "fillpattern": {
             "fillmode": "overlay",
             "size": 10,
             "solidity": 0.2
            },
            "type": "scatter"
           }
          ],
          "scatter3d": [
           {
            "line": {
             "colorbar": {
              "outlinewidth": 0,
              "ticks": ""
             }
            },
            "marker": {
             "colorbar": {
              "outlinewidth": 0,
              "ticks": ""
             }
            },
            "type": "scatter3d"
           }
          ],
          "scattercarpet": [
           {
            "marker": {
             "colorbar": {
              "outlinewidth": 0,
              "ticks": ""
             }
            },
            "type": "scattercarpet"
           }
          ],
          "scattergeo": [
           {
            "marker": {
             "colorbar": {
              "outlinewidth": 0,
              "ticks": ""
             }
            },
            "type": "scattergeo"
           }
          ],
          "scattergl": [
           {
            "marker": {
             "colorbar": {
              "outlinewidth": 0,
              "ticks": ""
             }
            },
            "type": "scattergl"
           }
          ],
          "scattermapbox": [
           {
            "marker": {
             "colorbar": {
              "outlinewidth": 0,
              "ticks": ""
             }
            },
            "type": "scattermapbox"
           }
          ],
          "scatterpolar": [
           {
            "marker": {
             "colorbar": {
              "outlinewidth": 0,
              "ticks": ""
             }
            },
            "type": "scatterpolar"
           }
          ],
          "scatterpolargl": [
           {
            "marker": {
             "colorbar": {
              "outlinewidth": 0,
              "ticks": ""
             }
            },
            "type": "scatterpolargl"
           }
          ],
          "scatterternary": [
           {
            "marker": {
             "colorbar": {
              "outlinewidth": 0,
              "ticks": ""
             }
            },
            "type": "scatterternary"
           }
          ],
          "surface": [
           {
            "colorbar": {
             "outlinewidth": 0,
             "ticks": ""
            },
            "colorscale": [
             [
              0,
              "#0d0887"
             ],
             [
              0.1111111111111111,
              "#46039f"
             ],
             [
              0.2222222222222222,
              "#7201a8"
             ],
             [
              0.3333333333333333,
              "#9c179e"
             ],
             [
              0.4444444444444444,
              "#bd3786"
             ],
             [
              0.5555555555555556,
              "#d8576b"
             ],
             [
              0.6666666666666666,
              "#ed7953"
             ],
             [
              0.7777777777777778,
              "#fb9f3a"
             ],
             [
              0.8888888888888888,
              "#fdca26"
             ],
             [
              1,
              "#f0f921"
             ]
            ],
            "type": "surface"
           }
          ],
          "table": [
           {
            "cells": {
             "fill": {
              "color": "#EBF0F8"
             },
             "line": {
              "color": "white"
             }
            },
            "header": {
             "fill": {
              "color": "#C8D4E3"
             },
             "line": {
              "color": "white"
             }
            },
            "type": "table"
           }
          ]
         },
         "layout": {
          "annotationdefaults": {
           "arrowcolor": "#2a3f5f",
           "arrowhead": 0,
           "arrowwidth": 1
          },
          "autotypenumbers": "strict",
          "coloraxis": {
           "colorbar": {
            "outlinewidth": 0,
            "ticks": ""
           }
          },
          "colorscale": {
           "diverging": [
            [
             0,
             "#8e0152"
            ],
            [
             0.1,
             "#c51b7d"
            ],
            [
             0.2,
             "#de77ae"
            ],
            [
             0.3,
             "#f1b6da"
            ],
            [
             0.4,
             "#fde0ef"
            ],
            [
             0.5,
             "#f7f7f7"
            ],
            [
             0.6,
             "#e6f5d0"
            ],
            [
             0.7,
             "#b8e186"
            ],
            [
             0.8,
             "#7fbc41"
            ],
            [
             0.9,
             "#4d9221"
            ],
            [
             1,
             "#276419"
            ]
           ],
           "sequential": [
            [
             0,
             "#0d0887"
            ],
            [
             0.1111111111111111,
             "#46039f"
            ],
            [
             0.2222222222222222,
             "#7201a8"
            ],
            [
             0.3333333333333333,
             "#9c179e"
            ],
            [
             0.4444444444444444,
             "#bd3786"
            ],
            [
             0.5555555555555556,
             "#d8576b"
            ],
            [
             0.6666666666666666,
             "#ed7953"
            ],
            [
             0.7777777777777778,
             "#fb9f3a"
            ],
            [
             0.8888888888888888,
             "#fdca26"
            ],
            [
             1,
             "#f0f921"
            ]
           ],
           "sequentialminus": [
            [
             0,
             "#0d0887"
            ],
            [
             0.1111111111111111,
             "#46039f"
            ],
            [
             0.2222222222222222,
             "#7201a8"
            ],
            [
             0.3333333333333333,
             "#9c179e"
            ],
            [
             0.4444444444444444,
             "#bd3786"
            ],
            [
             0.5555555555555556,
             "#d8576b"
            ],
            [
             0.6666666666666666,
             "#ed7953"
            ],
            [
             0.7777777777777778,
             "#fb9f3a"
            ],
            [
             0.8888888888888888,
             "#fdca26"
            ],
            [
             1,
             "#f0f921"
            ]
           ]
          },
          "colorway": [
           "#636efa",
           "#EF553B",
           "#00cc96",
           "#ab63fa",
           "#FFA15A",
           "#19d3f3",
           "#FF6692",
           "#B6E880",
           "#FF97FF",
           "#FECB52"
          ],
          "font": {
           "color": "#2a3f5f"
          },
          "geo": {
           "bgcolor": "white",
           "lakecolor": "white",
           "landcolor": "#E5ECF6",
           "showlakes": true,
           "showland": true,
           "subunitcolor": "white"
          },
          "hoverlabel": {
           "align": "left"
          },
          "hovermode": "closest",
          "mapbox": {
           "style": "light"
          },
          "paper_bgcolor": "white",
          "plot_bgcolor": "#E5ECF6",
          "polar": {
           "angularaxis": {
            "gridcolor": "white",
            "linecolor": "white",
            "ticks": ""
           },
           "bgcolor": "#E5ECF6",
           "radialaxis": {
            "gridcolor": "white",
            "linecolor": "white",
            "ticks": ""
           }
          },
          "scene": {
           "xaxis": {
            "backgroundcolor": "#E5ECF6",
            "gridcolor": "white",
            "gridwidth": 2,
            "linecolor": "white",
            "showbackground": true,
            "ticks": "",
            "zerolinecolor": "white"
           },
           "yaxis": {
            "backgroundcolor": "#E5ECF6",
            "gridcolor": "white",
            "gridwidth": 2,
            "linecolor": "white",
            "showbackground": true,
            "ticks": "",
            "zerolinecolor": "white"
           },
           "zaxis": {
            "backgroundcolor": "#E5ECF6",
            "gridcolor": "white",
            "gridwidth": 2,
            "linecolor": "white",
            "showbackground": true,
            "ticks": "",
            "zerolinecolor": "white"
           }
          },
          "shapedefaults": {
           "line": {
            "color": "#2a3f5f"
           }
          },
          "ternary": {
           "aaxis": {
            "gridcolor": "white",
            "linecolor": "white",
            "ticks": ""
           },
           "baxis": {
            "gridcolor": "white",
            "linecolor": "white",
            "ticks": ""
           },
           "bgcolor": "#E5ECF6",
           "caxis": {
            "gridcolor": "white",
            "linecolor": "white",
            "ticks": ""
           }
          },
          "title": {
           "x": 0.05
          },
          "xaxis": {
           "automargin": true,
           "gridcolor": "white",
           "linecolor": "white",
           "ticks": "",
           "title": {
            "standoff": 15
           },
           "zerolinecolor": "white",
           "zerolinewidth": 2
          },
          "yaxis": {
           "automargin": true,
           "gridcolor": "white",
           "linecolor": "white",
           "ticks": "",
           "title": {
            "standoff": 15
           },
           "zerolinecolor": "white",
           "zerolinewidth": 2
          }
         }
        },
        "title": {
         "text": "Número de Artistas por País"
        },
        "xaxis": {
         "anchor": "y",
         "domain": [
          0,
          1
         ],
         "title": {
          "text": "País"
         }
        },
        "yaxis": {
         "anchor": "x",
         "domain": [
          0,
          1
         ],
         "title": {
          "text": "Cantidad de Artistas"
         }
        }
       }
      }
     },
     "metadata": {},
     "output_type": "display_data"
    },
    {
     "name": "stdout",
     "output_type": "stream",
     "text": [
      "Conexión cerrada\n"
     ]
    }
   ],
   "source": [
    "try:\n",
    "    # Conexión a la base de datos\n",
    "    connection = psycopg2.connect(\n",
    "        host='localhost',\n",
    "        user='postgres',  \n",
    "        password='2I@@`7ao*3}*',  \n",
    "        database='proyecto'\n",
    "    )\n",
    "    print(\"Conexión exitosa\")\n",
    "    \n",
    "    # Crear un cursor\n",
    "    cursor = connection.cursor()\n",
    "    \n",
    "    t_consulta4 = \"SELECT p.nombre AS pais, COUNT(DISTINCT a.artista_id) AS cantidad_artistas, AVG(c.acousticness) AS promedio_acousticness, AVG(c.instrumentalness) AS promedio_instrumentalness, STDDEV(c.danceability) AS desviacion_danceability, STDDEV(c.energy) AS desviacion_energy FROM Rankings r JOIN Canciones c ON r.spotify_id = c.spotify_id JOIN Paises p ON r.pais_codigo = p.pais_codigo JOIN Cancion_Artista ca ON c.spotify_id = ca.spotify_id JOIN Artistas a ON ca.artista_id = a.artista_id GROUP BY p.nombre ORDER BY cantidad_artistas DESC, p.nombre;\"\n",
    "\n",
    "    # Ejecutar la consulta\n",
    "    cursor.execute(t_consulta4)\n",
    "    rows = cursor.fetchall()\n",
    "\n",
    "    # Crear un DataFrame\n",
    "    df = pd.DataFrame(rows, columns=['pais', 'cantidad_artistas', 'promedio_acousticness', 'promedio_instrumentalness', 'desviacion_danceability', 'desviacion_energy'])\n",
    "\n",
    "    # Generar el gráfico de barras\n",
    "    fig = px.bar(\n",
    "        df,\n",
    "        x='pais',\n",
    "        y='cantidad_artistas',\n",
    "        title='Número de Artistas por País',\n",
    "        labels={\n",
    "            'cantidad_artistas': 'Cantidad de Artistas',\n",
    "            'pais': 'País'\n",
    "        }\n",
    "    )\n",
    "\n",
    "    # Mostrar el gráfico\n",
    "    fig.show()\n",
    "except Exception as error:\n",
    "    print(\"Error al conectar o ejecutar la consulta:\", error)\n",
    "finally:\n",
    "    if connection:\n",
    "        cursor.close()\n",
    "        connection.close()\n",
    "        print(\"Conexión cerrada\")"
   ]
  }
 ],
 "metadata": {
  "kernelspec": {
   "display_name": "base",
   "language": "python",
   "name": "python3"
  },
  "language_info": {
   "codemirror_mode": {
    "name": "ipython",
    "version": 3
   },
   "file_extension": ".py",
   "mimetype": "text/x-python",
   "name": "python",
   "nbconvert_exporter": "python",
   "pygments_lexer": "ipython3",
   "version": "3.12.7"
  }
 },
 "nbformat": 4,
 "nbformat_minor": 2
}
